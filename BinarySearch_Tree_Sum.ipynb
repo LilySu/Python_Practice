{
  "nbformat": 4,
  "nbformat_minor": 0,
  "metadata": {
    "colab": {
      "name": "BinarySearch_Tree Sum.ipynb",
      "provenance": [],
      "authorship_tag": "ABX9TyNJ7tZEVDYG2gNe7lbNg33g",
      "include_colab_link": true
    },
    "kernelspec": {
      "name": "python3",
      "display_name": "Python 3"
    }
  },
  "cells": [
    {
      "cell_type": "markdown",
      "metadata": {
        "id": "view-in-github",
        "colab_type": "text"
      },
      "source": [
        "<a href=\"https://colab.research.google.com/github/LilySu/Python_Practice/blob/master/BinarySearch_Tree_Sum.ipynb\" target=\"_parent\"><img src=\"https://colab.research.google.com/assets/colab-badge.svg\" alt=\"Open In Colab\"/></a>"
      ]
    },
    {
      "cell_type": "markdown",
      "metadata": {
        "id": "RGDavU2QTeEB"
      },
      "source": [
        "Given a binary tree root, return the sum of all values in the tree.\r\n",
        "```\r\n",
        "Constraints\r\n",
        "\r\n",
        "n ≤ 100,000 where n is the number of nodes in root\r\n",
        "Example 1\r\n",
        "Input\r\n",
        "Visualize\r\n",
        "root = [1, [2, null, null], [3, [5, null, null], null]]\r\n",
        "Output\r\n",
        "11\r\n",
        "Explanation\r\n",
        "11 = 1 + 2 + 3 + 5\r\n",
        "\r\n",
        "Example 2\r\n",
        "Input\r\n",
        "Visualize\r\n",
        "root = [1, [2, [3, null, null], null], null]\r\n",
        "Output\r\n",
        "6\r\n",
        "Explanation\r\n",
        "6 = 1 + 2 + 3\r\n",
        "```"
      ]
    },
    {
      "cell_type": "code",
      "metadata": {
        "id": "2dr4gVKPTXgA"
      },
      "source": [
        "# class Tree:\r\n",
        "#     def __init__(self, val, left=None, right=None):\r\n",
        "#         self.val = val\r\n",
        "#         self.left = left\r\n",
        "#         self.right = right\r\n",
        "class Solution:\r\n",
        "            \r\n",
        "    def recurse(self, root):\r\n",
        "        val = root.val\r\n",
        "        if root.left:\r\n",
        "            val += self.recurse(root.left)\r\n",
        "        if root.right:\r\n",
        "            val += self.recurse(root.right)\r\n",
        "        return val\r\n",
        "        \r\n",
        "    def solve(self, root):\r\n",
        "        if not root:\r\n",
        "            return 0\r\n",
        "        return self.recurse(root)"
      ],
      "execution_count": null,
      "outputs": []
    },
    {
      "cell_type": "code",
      "metadata": {
        "id": "Gmm19qd_T9uw"
      },
      "source": [
        "# class Tree:\r\n",
        "#     def __init__(self, val, left=None, right=None):\r\n",
        "#         self.val = val\r\n",
        "#         self.left = left\r\n",
        "#         self.right = right\r\n",
        "class Solution:\r\n",
        "        \r\n",
        "    def solve(self, root):\r\n",
        "        if root:\r\n",
        "            return root.val + self.solve(root.left) + self.solve(root.right)\r\n",
        "        else:\r\n",
        "            return 0"
      ],
      "execution_count": null,
      "outputs": []
    }
  ]
}