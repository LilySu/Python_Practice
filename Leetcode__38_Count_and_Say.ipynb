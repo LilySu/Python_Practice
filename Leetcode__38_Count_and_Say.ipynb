{
  "nbformat": 4,
  "nbformat_minor": 0,
  "metadata": {
    "colab": {
      "name": "Leetcode_#38_Count_and_Say.ipynb",
      "provenance": [],
      "authorship_tag": "ABX9TyNlWgmBML7lEPEhnazhFuw3",
      "include_colab_link": true
    },
    "kernelspec": {
      "name": "python3",
      "display_name": "Python 3"
    }
  },
  "cells": [
    {
      "cell_type": "markdown",
      "metadata": {
        "id": "view-in-github",
        "colab_type": "text"
      },
      "source": [
        "<a href=\"https://colab.research.google.com/github/LilySu/Python_Practice/blob/master/Leetcode__38_Count_and_Say.ipynb\" target=\"_parent\"><img src=\"https://colab.research.google.com/assets/colab-badge.svg\" alt=\"Open In Colab\"/></a>"
      ]
    },
    {
      "cell_type": "markdown",
      "metadata": {
        "id": "7sZz-mJljhE9",
        "colab_type": "text"
      },
      "source": [
        "The count-and-say sequence is the sequence of integers with the first five terms as following:\n",
        "```\n",
        "1.     1\n",
        "2.     11\n",
        "3.     21\n",
        "4.     1211\n",
        "5.     111221\n",
        "```\n",
        "1 is read off as \"one 1\" or 11.\n",
        "11 is read off as \"two 1s\" or 21.\n",
        "21 is read off as \"one 2, then one 1\" or 1211.\n",
        "\n",
        "Given an integer n where 1 ≤ n ≤ 30, generate the nth term of the count-and-say sequence. You can do so recursively, in other words from the previous member read off the digits, counting the number of digits in groups of the same digit.\n",
        "\n",
        "Note: Each term of the sequence of integers will be represented as a string.\n",
        "\n",
        " \n",
        "```\n",
        "Example 1:\n",
        "\n",
        "Input: 1\n",
        "Output: \"1\"\n",
        "Explanation: This is the base case.\n",
        "Example 2:\n",
        "\n",
        "Input: 4\n",
        "Output: \"1211\"\n",
        "Explanation: For n = 3 the term was \"21\" in which we have two groups \"2\" and \"1\", \"2\" can be read as \"12\" which means frequency = 1 and value = 2, the same way \"1\" is read as \"11\", so the answer is the concatenation of \"12\" and \"11\" which is \"1211\".\n",
        "```"
      ]
    },
    {
      "cell_type": "code",
      "metadata": {
        "id": "ED2YvhHqjOJs",
        "colab_type": "code",
        "colab": {}
      },
      "source": [
        "def countAndSay(self, n):\n",
        "    \"\"\"\n",
        "    :type n: int\n",
        "    :rtype: str\n",
        "    \"\"\""
      ],
      "execution_count": null,
      "outputs": []
    },
    {
      "cell_type": "code",
      "metadata": {
        "id": "aeTPeoprbxlm",
        "colab_type": "code",
        "colab": {}
      },
      "source": [
        "def countAndSay(self, n):\n",
        "    \"\"\"\n",
        "    :type n: int\n",
        "    :rtype: str\n",
        "    \"\"\"\n",
        "    def find_dup(s):\n",
        "        temp = []\n",
        "        for i in s:\n",
        "            if i not in temp:\n",
        "                temp.append(i)\n",
        "        for i in temp:\n",
        "            occurrences = temp.count(i)\n",
        "            s += str(occurrences) + i\n",
        "        return s\n",
        "    s = '1'\n",
        "    r = ''\n",
        "    while n != 1:\n",
        "        s = s + r\n",
        "        s = find_dup(s)\n",
        "        n -=1\n",
        "        return r\n",
        "    return '1'"
      ],
      "execution_count": null,
      "outputs": []
    },
    {
      "cell_type": "code",
      "metadata": {
        "id": "ns9GAZT-cgIc",
        "colab_type": "code",
        "colab": {
          "base_uri": "https://localhost:8080/",
          "height": 34
        },
        "outputId": "4554f668-feaa-43f5-f456-90b51220e197"
      },
      "source": [
        "def countAndSay(n):\n",
        "    \"\"\"\n",
        "    :type n: int\n",
        "    :rtype: str\n",
        "    \"\"\"\n",
        "    l = []\n",
        "    def fib(s):\n",
        "        if s <= 1:\n",
        "            return s\n",
        "        else:\n",
        "            return (fib(s-1) + fib(s-2))\n",
        "    if n <=0:\n",
        "        return \"test\"\n",
        "    else:\n",
        "        for i in range(n):\n",
        "            l.append(fib(i))\n",
        "        return l\n",
        "\n",
        "countAndSay(5)     "
      ],
      "execution_count": 7,
      "outputs": [
        {
          "output_type": "execute_result",
          "data": {
            "text/plain": [
              "[0, 1, 1, 2, 3]"
            ]
          },
          "metadata": {
            "tags": []
          },
          "execution_count": 7
        }
      ]
    },
    {
      "cell_type": "code",
      "metadata": {
        "id": "y_UDeywWc-nT",
        "colab_type": "code",
        "colab": {
          "base_uri": "https://localhost:8080/",
          "height": 35
        },
        "outputId": "86f892ce-c7f6-4edf-b581-07e092c63d96"
      },
      "source": [
        "#fibo\n",
        "def countAndSay(n):\n",
        "    \"\"\"\n",
        "    :type n: int\n",
        "    :rtype: str\n",
        "    \"\"\"\n",
        "    l = ''\n",
        "    def say(s):\n",
        "        if s <= 1:\n",
        "            return s\n",
        "        else:\n",
        "            return (say(s-1)+say(s-2))\n",
        "    if n <= 1:\n",
        "        return \"1\"\n",
        "    else:\n",
        "        for i in range(1,n):\n",
        "            l += str(say(i))\n",
        "        return l\n",
        "\n",
        "countAndSay(6)     "
      ],
      "execution_count": 28,
      "outputs": [
        {
          "output_type": "execute_result",
          "data": {
            "application/vnd.google.colaboratory.intrinsic": {
              "type": "string"
            },
            "text/plain": [
              "'11235'"
            ]
          },
          "metadata": {
            "tags": []
          },
          "execution_count": 28
        }
      ]
    },
    {
      "cell_type": "code",
      "metadata": {
        "id": "RTX09g6Iexyd",
        "colab_type": "code",
        "colab": {
          "base_uri": "https://localhost:8080/",
          "height": 35
        },
        "outputId": "6d6211d9-eed0-4671-d66b-210c4e0ed60e"
      },
      "source": [
        "def countAndSay(n):\n",
        "    \"\"\"\n",
        "    :type n: int\n",
        "    :rtype: str\n",
        "    \"\"\"\n",
        "    l = ''\n",
        "    def say(b):\n",
        "        c = ''\n",
        "        se = set(b)\n",
        "        for i in se:\n",
        "            c += str(b.count(i)) + i\n",
        "        return c\n",
        "    if n <= 0:\n",
        "        return \"0\"\n",
        "    else:\n",
        "        for i in range(n+1):\n",
        "            if i == 1:\n",
        "                l = '11'\n",
        "\n",
        "            else:\n",
        "                c = say(l)\n",
        "                l = c\n",
        "    return l\n",
        "\n",
        "countAndSay(3)     "
      ],
      "execution_count": 136,
      "outputs": [
        {
          "output_type": "execute_result",
          "data": {
            "application/vnd.google.colaboratory.intrinsic": {
              "type": "string"
            },
            "text/plain": [
              "'1211'"
            ]
          },
          "metadata": {
            "tags": []
          },
          "execution_count": 136
        }
      ]
    },
    {
      "cell_type": "code",
      "metadata": {
        "id": "aSC0GMsDNsw-",
        "colab_type": "code",
        "colab": {}
      },
      "source": [
        "def countAndSay(n):\n",
        "    \"\"\"\n",
        "    :type n: int\n",
        "    :rtype: str\n",
        "    \"\"\"\n",
        "    l = ''\n",
        "    def say(b):\n",
        "        c = ''\n",
        "        for i,j in b:\n",
        "            if i < b:\n",
        "                if i in c:\n",
        "                c += i\n",
        "            c += str(b.count(i)) + i\n",
        "        return c\n",
        "    if n <= 0:\n",
        "        return \"0\"\n",
        "    else:\n",
        "        for i in range(n+1):\n",
        "            if i == 1:\n",
        "                l = '11'\n",
        "\n",
        "            else:\n",
        "                c = say(l)\n",
        "                l = c\n",
        "    return l\n",
        "\n",
        "countAndSay(3)     "
      ],
      "execution_count": null,
      "outputs": []
    },
    {
      "cell_type": "code",
      "metadata": {
        "id": "st3oEGFdi-Cu",
        "colab_type": "code",
        "colab": {}
      },
      "source": [
        " 1.     1\n",
        " 2.     11\n",
        " 3.     21\n",
        " 4.     1211\n",
        " 5.     111221 \n",
        " 6.     312211\n",
        " 7.     13112221\n",
        " 8.     1113213211\n",
        " 9.     31131211131221\n",
        "10.     13211311123113112211"
      ],
      "execution_count": null,
      "outputs": []
    },
    {
      "cell_type": "markdown",
      "metadata": {
        "id": "zldlwyqbDL3K",
        "colab_type": "text"
      },
      "source": [
        "for i in string:\n",
        "    if the next one is also the number, group together"
      ]
    },
    {
      "cell_type": "code",
      "metadata": {
        "id": "zVshV2JDEXFh",
        "colab_type": "code",
        "colab": {}
      },
      "source": [
        "if index < len(string):\n",
        "    "
      ],
      "execution_count": null,
      "outputs": []
    },
    {
      "cell_type": "code",
      "metadata": {
        "id": "brEVfv8Kp_wm",
        "colab_type": "code",
        "colab": {
          "base_uri": "https://localhost:8080/",
          "height": 86
        },
        "outputId": "a83b0432-06f0-4b64-f5ad-036b99d62807"
      },
      "source": [
        "l = '21'\n",
        "s = set(l)\n",
        "\n",
        "for i in s:\n",
        "    print(l.count(i))\n",
        "    print(i)\n"
      ],
      "execution_count": 122,
      "outputs": [
        {
          "output_type": "stream",
          "text": [
            "1\n",
            "2\n",
            "1\n",
            "1\n"
          ],
          "name": "stdout"
        }
      ]
    },
    {
      "cell_type": "code",
      "metadata": {
        "id": "hokUdirbqD2G",
        "colab_type": "code",
        "colab": {
          "base_uri": "https://localhost:8080/",
          "height": 69
        },
        "outputId": "501d0859-324b-4116-cad2-3154c6c88a20"
      },
      "source": [
        "for i in range(3):\n",
        "    prev = None\n",
        "    col = []\n",
        "    s = '21'\n",
        "    r = ''\n",
        "    for i,j in enumerate(s):\n",
        "        if not prev:\n",
        "            prev = j\n",
        "            col.append(j)\n",
        "            if len(s) == 1:\n",
        "                r +='1'\n",
        "                r += j\n",
        "            # print(col)\n",
        "        elif i == (len(s)-1):\n",
        "            if j in col:\n",
        "                col.append(j)\n",
        "                r += str(len(col))\n",
        "                r += j\n",
        "            elif len(col) > 0:\n",
        "                r += str(len(col))\n",
        "                r += col[-1]\n",
        "                r += '1'\n",
        "                r += j\n",
        "            else:\n",
        "                r += '1'\n",
        "                r += j\n",
        "        elif j in col:\n",
        "            col.append(j)\n",
        "            if i == (len(s)-1):\n",
        "                r += str(len(col))\n",
        "                r += j\n",
        "        else:\n",
        "            r += str(len(col))\n",
        "            r += prev\n",
        "            col.clear()\n",
        "            col.append(j)\n",
        "            prev = j\n",
        "            if i == (len(s)-1):\n",
        "                r += str(len(col))\n",
        "                r += j\n",
        "    print(r)\n",
        "#  6.     312211\n",
        "#  7.     13112221\n",
        "#  8.     1113213211\n",
        "#  9.     31131211131221\n",
        "# 10.     13211311123113112211"
      ],
      "execution_count": 16,
      "outputs": [
        {
          "output_type": "stream",
          "text": [
            "1211\n",
            "1211\n",
            "1211\n"
          ],
          "name": "stdout"
        }
      ]
    },
    {
      "cell_type": "code",
      "metadata": {
        "id": "ElpLaiBxfIej",
        "colab_type": "code",
        "colab": {
          "base_uri": "https://localhost:8080/",
          "height": 35
        },
        "outputId": "6c8d7985-f765-4696-b1da-f4591e7327e5"
      },
      "source": [
        "\n",
        "def countAndSay(n):\n",
        "    \"\"\"\n",
        "    :type n: int\n",
        "    :rtype: str\n",
        "    \"\"\"\n",
        "    def coun(s):\n",
        "        prev = None\n",
        "        col = []\n",
        "        r = ''\n",
        "        for i,j in enumerate(s):\n",
        "            if not prev:\n",
        "                prev = j\n",
        "                col.append(j)\n",
        "                if len(s) == 1:\n",
        "                    r +='1'\n",
        "                    r += j\n",
        "                # print(col)\n",
        "            elif i == (len(s)-1):\n",
        "                if j in col:\n",
        "                    col.append(j)\n",
        "                    r += str(len(col))\n",
        "                    r += j\n",
        "                elif len(col) > 0:\n",
        "                    r += str(len(col))\n",
        "                    r += col[-1]\n",
        "                    r += '1'\n",
        "                    r += j\n",
        "                else:\n",
        "                    r += '1'\n",
        "                    r += j\n",
        "            elif j in col:\n",
        "                col.append(j)\n",
        "                if i == (len(s)-1):\n",
        "                    r += str(len(col))\n",
        "                    r += j\n",
        "            else:\n",
        "                r += str(len(col))\n",
        "                r += prev\n",
        "                col = []\n",
        "                col.append(j)\n",
        "                prev = j\n",
        "                if i == (len(s)-1):\n",
        "                    r += str(len(col))\n",
        "                    r += j\n",
        "        return r\n",
        "    l = ['1']\n",
        "    for i in range(n-1):\n",
        "        i = l[-1]\n",
        "        l.append(coun(i))\n",
        "    return l[-1]\n",
        "\n",
        "countAndSay(3)   \n",
        "\n",
        "#  1.     1\n",
        "#  2.     11\n",
        "#  3.     21\n",
        "#  4.     1211\n",
        "#  5.     111221 \n",
        "#  6.     312211\n",
        "#  7.     13112221\n",
        "#  8.     1113213211\n",
        "#  9.     31131211131221\n",
        "# 10.     13211311123113112211"
      ],
      "execution_count": 26,
      "outputs": [
        {
          "output_type": "execute_result",
          "data": {
            "application/vnd.google.colaboratory.intrinsic": {
              "type": "string"
            },
            "text/plain": [
              "'21'"
            ]
          },
          "metadata": {
            "tags": []
          },
          "execution_count": 26
        }
      ]
    },
    {
      "cell_type": "code",
      "metadata": {
        "id": "dIEHTKrvrmvc",
        "colab_type": "code",
        "colab": {
          "base_uri": "https://localhost:8080/",
          "height": 34
        },
        "outputId": "180e7026-f9cb-48a2-aa2d-261f7642c69b"
      },
      "source": [
        "def test(n):\n",
        "    def summ(i):\n",
        "        i = i/2\n",
        "        return (i)\n",
        "    l = [3]\n",
        "    for i in range(n):\n",
        "        i = l[-1]\n",
        "        l.append(summ(i))\n",
        "    return l\n",
        "test(5)"
      ],
      "execution_count": 1,
      "outputs": [
        {
          "output_type": "execute_result",
          "data": {
            "text/plain": [
              "[3, 1.5, 0.75, 0.375, 0.1875, 0.09375]"
            ]
          },
          "metadata": {
            "tags": []
          },
          "execution_count": 1
        }
      ]
    },
    {
      "cell_type": "code",
      "metadata": {
        "id": "WqX5c52iwRnU",
        "colab_type": "code",
        "colab": {}
      },
      "source": [
        ""
      ],
      "execution_count": null,
      "outputs": []
    }
  ]
}