{
  "nbformat": 4,
  "nbformat_minor": 0,
  "metadata": {
    "colab": {
      "name": "BinarySearch_Pascals_Triangle.ipynb",
      "provenance": [],
      "authorship_tag": "ABX9TyOqWlzyH/W3sTbw7dnUHyoU",
      "include_colab_link": true
    },
    "kernelspec": {
      "name": "python3",
      "display_name": "Python 3"
    }
  },
  "cells": [
    {
      "cell_type": "markdown",
      "metadata": {
        "id": "view-in-github",
        "colab_type": "text"
      },
      "source": [
        "<a href=\"https://colab.research.google.com/github/LilySu/Python_Practice/blob/master/BinarySearch_Pascals_Triangle.ipynb\" target=\"_parent\"><img src=\"https://colab.research.google.com/assets/colab-badge.svg\" alt=\"Open In Colab\"/></a>"
      ]
    },
    {
      "cell_type": "markdown",
      "metadata": {
        "id": "KNnpS9dNENdA"
      },
      "source": [
        "Given an integer n, return the nth (0-indexed) row of Pascal's triangle.\n",
        "\n",
        "Pascal's triangle can be created as follows: In the top row, there is an array of 1. Subsequent row is created by adding the number above and to the left with the number above and to the right, treating empty elements as 0.\n",
        "\n",
        "The first few rows are:\n",
        "\n",
        "\n",
        "```\n",
        "Example 1\n",
        "Input\n",
        "\n",
        "n = 3\n",
        "Output\n",
        "\n",
        "[1, 3, 3, 1]\n",
        "Explanation\n",
        "\n",
        "This is row 3 in\n",
        "\n",
        "[1]\n",
        "[1, 1]\n",
        "[1, 2, 1]\n",
        "[1, 3, 3, 1]\n",
        "```\n"
      ]
    },
    {
      "cell_type": "code",
      "metadata": {
        "id": "i7iuVFViEIL2"
      },
      "source": [
        "class Solution:\n",
        "    def solve(self, n):\n",
        "        if n == 0:\n",
        "            return 1\n",
        "        if n == 1:\n",
        "            return [1, 1]\n",
        "        idx = 0\n",
        "        start = [1,1]\n",
        "        temp = []\n",
        "        while idx < (n//2):\n",
        "            temp.append(start[idx] + start[idx + 1])"
      ],
      "execution_count": null,
      "outputs": []
    }
  ]
}