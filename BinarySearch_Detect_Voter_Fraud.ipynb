{
  "nbformat": 4,
  "nbformat_minor": 0,
  "metadata": {
    "colab": {
      "name": "BinarySearch_Detect Voter Fraud.ipynb",
      "provenance": [],
      "authorship_tag": "ABX9TyObv0iKqrcF1k2t+5IGnz4j",
      "include_colab_link": true
    },
    "kernelspec": {
      "name": "python3",
      "display_name": "Python 3"
    }
  },
  "cells": [
    {
      "cell_type": "markdown",
      "metadata": {
        "id": "view-in-github",
        "colab_type": "text"
      },
      "source": [
        "<a href=\"https://colab.research.google.com/github/LilySu/Python_Practice/blob/master/BinarySearch_Detect_Voter_Fraud.ipynb\" target=\"_parent\"><img src=\"https://colab.research.google.com/assets/colab-badge.svg\" alt=\"Open In Colab\"/></a>"
      ]
    },
    {
      "cell_type": "markdown",
      "metadata": {
        "id": "ZPzfZvIaTbnC"
      },
      "source": [
        "Given a two dimensional list of integers votes, where each list has two elements [candidate_id, voter_id], report whether any voter has voted more than once.\n",
        "```\n",
        "Example 1\n",
        "Input\n",
        "\n",
        "votes = [\n",
        "    [3, 1],\n",
        "    [3, 0],\n",
        "    [3, 4],\n",
        "    [3, 3],\n",
        "    [3, 2]\n",
        "]\n",
        "Output\n",
        "\n",
        "False\n",
        "Explanation\n",
        "\n",
        "Every voter has voted once.\n",
        "\n",
        "Example 2\n",
        "Input\n",
        "\n",
        "votes = [\n",
        "    [2, 3],\n",
        "    [2, 2],\n",
        "    [2, 1],\n",
        "    [2, 0],\n",
        "    [2, 1]\n",
        "]\n",
        "Output\n",
        "\n",
        "True\n",
        "Explanation\n",
        "\n",
        "The voter with voter_id 1 voted twice.\n",
        "```"
      ]
    },
    {
      "cell_type": "code",
      "metadata": {
        "id": "MRz6JchmSUKR"
      },
      "source": [
        "        d = {}\n",
        "        for i in votes:\n",
        "            if i[1] in d:\n",
        "                return True\n",
        "            else:\n",
        "                d[i[1]] = i[0]\n",
        "        print(d)\n",
        "        return False"
      ],
      "execution_count": null,
      "outputs": []
    },
    {
      "cell_type": "code",
      "metadata": {
        "id": "S2OTezbUTYJx"
      },
      "source": [
        "        allvoted = [i[1] for i in votes]\n",
        "        return len(allvoted) != len(set(allvoted))"
      ],
      "execution_count": null,
      "outputs": []
    },
    {
      "cell_type": "markdown",
      "metadata": {
        "id": "hl9ek4CSTDjs"
      },
      "source": [
        "Let's take a set of the voter ids. If all ids are unique, then the length of this set will be equal to len(votes), and otherwise it won't be."
      ]
    },
    {
      "cell_type": "code",
      "metadata": {
        "id": "b4lxkp55SdMl"
      },
      "source": [
        "class Solution:\n",
        "    def solve(self, votes):\n",
        "        return len({i for c, i in votes}) != len(votes)"
      ],
      "execution_count": null,
      "outputs": []
    },
    {
      "cell_type": "code",
      "metadata": {
        "id": "BPxi7GxOStsY"
      },
      "source": [
        "len({i for c, i in votes}) != len(votes)"
      ],
      "execution_count": null,
      "outputs": []
    },
    {
      "cell_type": "markdown",
      "metadata": {
        "id": "BEqvaLKSTAt9"
      },
      "source": [
        "If the length of the set made out of unique voter ids is the same as the length of the votes, we know each vote has a unique voter.\n",
        "\n",
        "P.S. use set comprehensions like alex, to avoid converting list to set."
      ]
    },
    {
      "cell_type": "code",
      "metadata": {
        "id": "AorFkSNoSstF"
      },
      "source": [
        "class Solution:\n",
        "    def solve(self, votes):\n",
        "        return len(set([x[1] for x in votes])) != len(votes)"
      ],
      "execution_count": null,
      "outputs": []
    }
  ]
}