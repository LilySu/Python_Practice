{
  "nbformat": 4,
  "nbformat_minor": 0,
  "metadata": {
    "colab": {
      "name": "Binary_Search_Removing Parentheses.ipynb",
      "provenance": [],
      "authorship_tag": "ABX9TyMP5dZiHqFiks8hA4CmCQOt",
      "include_colab_link": true
    },
    "kernelspec": {
      "name": "python3",
      "display_name": "Python 3"
    }
  },
  "cells": [
    {
      "cell_type": "markdown",
      "metadata": {
        "id": "view-in-github",
        "colab_type": "text"
      },
      "source": [
        "<a href=\"https://colab.research.google.com/github/LilySu/Python_Practice/blob/master/Binary_Search_Removing_Parentheses.ipynb\" target=\"_parent\"><img src=\"https://colab.research.google.com/assets/colab-badge.svg\" alt=\"Open In Colab\"/></a>"
      ]
    },
    {
      "cell_type": "markdown",
      "metadata": {
        "id": "cU4KXIwgzsXL"
      },
      "source": [
        "Given a string of parentheses s, return the minimum number of parentheses to be removed to make the string balanced.\r\n",
        "```\r\n",
        "Constraints\r\n",
        "\r\n",
        "n ≤ 100,000 where n is the length of s\r\n",
        "Example 1\r\n",
        "Input\r\n",
        "s = \"()())()\"\r\n",
        "Output\r\n",
        "1\r\n",
        "Explanation\r\n",
        "We can remove the \")\" at index 4 to make it balanced.\r\n",
        "\r\n",
        "Example 2\r\n",
        "Input\r\n",
        "s = \")(\"\r\n",
        "Output\r\n",
        "2\r\n",
        "Explanation\r\n",
        "We must remove all the parentheses.```"
      ]
    },
    {
      "cell_type": "code",
      "metadata": {
        "id": "K5pV6HsWzoE7"
      },
      "source": [
        "class Solution:\r\n",
        "    def solve(self, s):\r\n",
        "        # set a result counter\r\n",
        "        result_counter = 0\r\n",
        "        # while there is a ( \r\n",
        "        open_counter = 0\r\n",
        "        for i in s:\r\n",
        "            if i == '(':\r\n",
        "            # count up\r\n",
        "                open_counter += 1\r\n",
        "            # for every ), if counted ( more than 0, decrement the counted ( and increment the result counter\r\n",
        "            elif i == ')' and open_counter > 0:\r\n",
        "                open_counter -= 1\r\n",
        "            # otherwise if counted ( is 0 increment result counter\r\n",
        "            elif i == ')' and open_counter == 0:\r\n",
        "                result_counter += 1\r\n",
        "        return result_counter + open_counter"
      ],
      "execution_count": null,
      "outputs": []
    }
  ]
}