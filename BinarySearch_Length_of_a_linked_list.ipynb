{
  "nbformat": 4,
  "nbformat_minor": 0,
  "metadata": {
    "colab": {
      "name": "BinarySearch_Length_of_a_linked_list.ipynb",
      "provenance": [],
      "authorship_tag": "ABX9TyNUclH3I6tmqh2wTcbGjPZ8",
      "include_colab_link": true
    },
    "kernelspec": {
      "name": "python3",
      "display_name": "Python 3"
    }
  },
  "cells": [
    {
      "cell_type": "markdown",
      "metadata": {
        "id": "view-in-github",
        "colab_type": "text"
      },
      "source": [
        "<a href=\"https://colab.research.google.com/github/LilySu/Python_Practice/blob/master/BinarySearch_Length_of_a_linked_list.ipynb\" target=\"_parent\"><img src=\"https://colab.research.google.com/assets/colab-badge.svg\" alt=\"Open In Colab\"/></a>"
      ]
    },
    {
      "cell_type": "markdown",
      "metadata": {
        "id": "-P3--NV0NYYo"
      },
      "source": [
        "Given three numbers, a, b, and c, return their product, but if any two numbers are the same, they do not count.\n",
        "```\n",
        "Example 1\n",
        "Input\n",
        "\n",
        "a = 2\n",
        "b = 3\n",
        "c = 4\n",
        "Output\n",
        "\n",
        "24\n",
        "Explanation\n",
        "\n",
        "All three numbers are unique so their product is 2 * 3 * 4 = 24\n",
        "\n",
        "Example 2\n",
        "Input\n",
        "\n",
        "a = 3\n",
        "b = 3\n",
        "c = 5\n",
        "Output\n",
        "\n",
        "5\n",
        "Explanation\n",
        "\n",
        "There's two 3s so the product is 5\n",
        "\n",
        "Example 3\n",
        "Input\n",
        "\n",
        "a = 3\n",
        "b = 3\n",
        "c = 3\n",
        "Output\n",
        "\n",
        "1\n",
        "Explanation\n",
        "\n",
        "All three numbers are the same, so they don't count toward the product.\n",
        "```"
      ]
    },
    {
      "cell_type": "code",
      "metadata": {
        "id": "ipl0p2w2NXiv"
      },
      "source": [
        "# class LLNode:\n",
        "#     def __init__(self, val, next=None):\n",
        "#         self.val = val\n",
        "#         self.next = next\n",
        "class Solution:\n",
        "    def solve(self, node):\n",
        "        counter = 0\n",
        "        while node:\n",
        "            counter += 1\n",
        "            node = node.next\n",
        "        return counter"
      ],
      "execution_count": null,
      "outputs": []
    }
  ]
}