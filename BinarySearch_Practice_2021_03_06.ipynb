{
  "nbformat": 4,
  "nbformat_minor": 0,
  "metadata": {
    "colab": {
      "name": "BinarySearch_Practice_2021-03-06.ipynb",
      "provenance": [],
      "authorship_tag": "ABX9TyPhQof5mHTpY1/wAa9EQEMG",
      "include_colab_link": true
    },
    "kernelspec": {
      "name": "python3",
      "display_name": "Python 3"
    }
  },
  "cells": [
    {
      "cell_type": "markdown",
      "metadata": {
        "id": "view-in-github",
        "colab_type": "text"
      },
      "source": [
        "<a href=\"https://colab.research.google.com/github/LilySu/Python_Practice/blob/master/BinarySearch_Practice_2021_03_06.ipynb\" target=\"_parent\"><img src=\"https://colab.research.google.com/assets/colab-badge.svg\" alt=\"Open In Colab\"/></a>"
      ]
    },
    {
      "cell_type": "markdown",
      "metadata": {
        "id": "k-FVWiKHRBAI"
      },
      "source": [
        "count the number of changes between the bitwise representation of one integer from another. "
      ]
    },
    {
      "cell_type": "code",
      "metadata": {
        "id": "F4paJt-k-0Vm"
      },
      "source": [
        "class Solution:\r\n",
        "    def solve(self, x, y):\r\n",
        "        # or\r\n",
        "        # count the number of 1's\r\n",
        "        return bin(x ^ y).count(\"1\")"
      ],
      "execution_count": null,
      "outputs": []
    },
    {
      "cell_type": "markdown",
      "metadata": {
        "id": "2JyGGLM8Qpg3"
      },
      "source": [
        "Given a lowercase alphabet string s, return the length of the longest substring with same characters.\r\n",
        "\r\n",
        "Constraints\r\n",
        "```\r\n",
        "0 ≤ n ≤ 100,000 where n is the length of s\r\n",
        "Example 1\r\n",
        "Input\r\n",
        "s = \"abbbba\"\r\n",
        "Output\r\n",
        "4\r\n",
        "Explanation\r\n",
        "The longest substring is \"bbbb\".\r\n",
        "\r\n",
        "Example 2\r\n",
        "Input\r\n",
        "s = \"aaabbb\"\r\n",
        "```"
      ]
    },
    {
      "cell_type": "code",
      "metadata": {
        "id": "jspQwqBRQozQ"
      },
      "source": [
        "from itertools import groupby\r\n",
        "\r\n",
        "class Solution:\r\n",
        "    def solve(self, s):\r\n",
        "        if not s:\r\n",
        "            return 0\r\n",
        "        return max(len(list(grp)) for i, grp in groupby(s))"
      ],
      "execution_count": null,
      "outputs": []
    },
    {
      "cell_type": "markdown",
      "metadata": {
        "id": "bJyJAJharYcy"
      },
      "source": [
        "Given a string s and an integer k, rearrange s into k rows so that s can be read vertically (top-down, left to right).\r\n",
        "\r\n",
        "Constraints\r\n",
        "```\r\n",
        "n ≤ 10,000 where n is the length of s\r\n",
        "k ≤ 1,000\r\n",
        "Example 1\r\n",
        "Input\r\n",
        "s = \"abcdefghi\"\r\n",
        "k = 5\r\n",
        "Output\r\n",
        "[\"af\", \"bg\", \"ch\", \"di\", \"e\"]\r\n",
        "Explanation\r\n",
        "This reads vertically as:\r\n",
        "\r\n",
        "[\"af\",\r\n",
        " \"bg\",\r\n",
        " \"ch\",\r\n",
        " \"di\",\r\n",
        " \"e\"]\r\n",
        " ```"
      ]
    },
    {
      "cell_type": "code",
      "metadata": {
        "id": "tcE4o10MrMiw"
      },
      "source": [
        "class Solution:\r\n",
        "    def solve(self, s, k):\r\n",
        "        if len(s) == 0:\r\n",
        "            return []\r\n",
        "        col = -(-(len(s)) // k)\r\n",
        "        print(col)\r\n",
        "        l = []\r\n",
        "        for i in range(k):\r\n",
        "            n = \"\"\r\n",
        "            for row_item in range(col):\r\n",
        "                if row_item * k + i < len(s):\r\n",
        "                    n += s[row_item * k + i]\r\n",
        "            l.append(n)\r\n",
        "        return l"
      ],
      "execution_count": null,
      "outputs": []
    }
  ]
}