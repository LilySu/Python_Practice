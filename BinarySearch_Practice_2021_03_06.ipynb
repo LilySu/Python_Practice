{
  "nbformat": 4,
  "nbformat_minor": 0,
  "metadata": {
    "colab": {
      "name": "BinarySearch_Practice_2021-03-06.ipynb",
      "provenance": [],
      "authorship_tag": "ABX9TyOM+NpM1vRwXQgK82IhKY5A",
      "include_colab_link": true
    },
    "kernelspec": {
      "name": "python3",
      "display_name": "Python 3"
    }
  },
  "cells": [
    {
      "cell_type": "markdown",
      "metadata": {
        "id": "view-in-github",
        "colab_type": "text"
      },
      "source": [
        "<a href=\"https://colab.research.google.com/github/LilySu/Python_Practice/blob/master/BinarySearch_Practice_2021_03_06.ipynb\" target=\"_parent\"><img src=\"https://colab.research.google.com/assets/colab-badge.svg\" alt=\"Open In Colab\"/></a>"
      ]
    },
    {
      "cell_type": "markdown",
      "metadata": {
        "id": "k-FVWiKHRBAI"
      },
      "source": [
        "count the number of changes between the bitwise representation of one integer from another. "
      ]
    },
    {
      "cell_type": "code",
      "metadata": {
        "id": "F4paJt-k-0Vm"
      },
      "source": [
        "class Solution:\r\n",
        "    def solve(self, x, y):\r\n",
        "        # or\r\n",
        "        # count the number of 1's\r\n",
        "        return bin(x ^ y).count(\"1\")"
      ],
      "execution_count": null,
      "outputs": []
    },
    {
      "cell_type": "markdown",
      "metadata": {
        "id": "2JyGGLM8Qpg3"
      },
      "source": [
        "Given a lowercase alphabet string s, return the length of the longest substring with same characters.\r\n",
        "\r\n",
        "Constraints\r\n",
        "```\r\n",
        "0 ≤ n ≤ 100,000 where n is the length of s\r\n",
        "Example 1\r\n",
        "Input\r\n",
        "s = \"abbbba\"\r\n",
        "Output\r\n",
        "4\r\n",
        "Explanation\r\n",
        "The longest substring is \"bbbb\".\r\n",
        "\r\n",
        "Example 2\r\n",
        "Input\r\n",
        "s = \"aaabbb\"\r\n",
        "```"
      ]
    },
    {
      "cell_type": "code",
      "metadata": {
        "id": "jspQwqBRQozQ"
      },
      "source": [
        "from itertools import groupby\r\n",
        "\r\n",
        "class Solution:\r\n",
        "    def solve(self, s):\r\n",
        "        if not s:\r\n",
        "            return 0\r\n",
        "        return max(len(list(grp)) for i, grp in groupby(s))"
      ],
      "execution_count": null,
      "outputs": []
    },
    {
      "cell_type": "markdown",
      "metadata": {
        "id": "bJyJAJharYcy"
      },
      "source": [
        "Vertical Cipher Given a string s and an integer k, rearrange s into k rows so that s can be read vertically (top-down, left to right).\r\n",
        "\r\n",
        "Constraints\r\n",
        "```\r\n",
        "n ≤ 10,000 where n is the length of s\r\n",
        "k ≤ 1,000\r\n",
        "Example 1\r\n",
        "Input\r\n",
        "s = \"abcdefghi\"\r\n",
        "k = 5\r\n",
        "Output\r\n",
        "[\"af\", \"bg\", \"ch\", \"di\", \"e\"]\r\n",
        "Explanation\r\n",
        "This reads vertically as:\r\n",
        "\r\n",
        "[\"af\",\r\n",
        " \"bg\",\r\n",
        " \"ch\",\r\n",
        " \"di\",\r\n",
        " \"e\"]\r\n",
        " ```"
      ]
    },
    {
      "cell_type": "code",
      "metadata": {
        "id": "tcE4o10MrMiw"
      },
      "source": [
        "class Solution:\r\n",
        "    def solve(self, s, k):\r\n",
        "        if len(s) == 0:\r\n",
        "            return []\r\n",
        "        col = -(-(len(s)) // k)\r\n",
        "        print(col)\r\n",
        "        l = []\r\n",
        "        for i in range(k):\r\n",
        "            n = \"\"\r\n",
        "            for row_item in range(col):\r\n",
        "                if row_item * k + i < len(s):\r\n",
        "                    n += s[row_item * k + i]\r\n",
        "            l.append(n)\r\n",
        "        return l"
      ],
      "execution_count": null,
      "outputs": []
    },
    {
      "cell_type": "markdown",
      "metadata": {
        "id": "R8xbqBeg5SCN"
      },
      "source": [
        "Even Frequency\r\n",
        "Given a list of integers nums, return whether all numbers appear an even number of times.\r\n",
        "\r\n",
        "This should be done in \\mathcal{O}(1)O(1) space.\r\n",
        "\r\n",
        "Constraints\r\n",
        "```\r\n",
        "n ≤ 100,000 where n is the length of nums\r\n",
        "Example 1\r\n",
        "Input\r\n",
        "nums = [2, 4, 4, 2, 3, 3]\r\n",
        "Output\r\n",
        "True\r\n",
        "Explanation\r\n",
        "Every number occurs twice.\r\n",
        "\r\n",
        "Example 2\r\n",
        "Input\r\n",
        "nums = [1]\r\n",
        "Output\r\n",
        "False\r\n",
        "Explanation\r\n",
        "1 occurs an odd number of times.```"
      ]
    },
    {
      "cell_type": "code",
      "metadata": {
        "id": "MqHbPGGr5RxT"
      },
      "source": [
        "from collections import Counter\r\n",
        "class Solution:\r\n",
        "    def solve(self, nums):\r\n",
        "        cd = Counter(nums)\r\n",
        "        for i in cd.values():\r\n",
        "            if i % 2 != 0:\r\n",
        "                return False\r\n",
        "        return True"
      ],
      "execution_count": null,
      "outputs": []
    },
    {
      "cell_type": "code",
      "metadata": {
        "id": "rG4GyG7W5YHw"
      },
      "source": [
        "return all(nums.count(num) % 2 == 0 for num in set(nums))"
      ],
      "execution_count": null,
      "outputs": []
    },
    {
      "cell_type": "markdown",
      "metadata": {
        "id": "8C6TpY1q5LpR"
      },
      "source": [
        "\r\n",
        "Unique People in Contact List\r\n",
        "You are given a two-dimensional list of strings contacts. Each element contacts[i] represents the list of emails for contact i. Contact i is considered a duplicate if there's a j < i such that contact j shares a common email with i. Return the number of unique people in contacts.\r\n",
        "\r\n",
        "Constraints\r\n",
        "```\r\n",
        "0 ≤ n ≤ 100,000 where n is the total number of strings in contacts\r\n",
        "Example 1\r\n",
        "Input\r\n",
        "contacts = [\r\n",
        "    [\"elon@tesla.com\", \"elon@paypal.com\"],\r\n",
        "    [\"elon@tesla.com\", \"elon@spacex.com\"],\r\n",
        "    [\"tim@apple.com\"]\r\n",
        "]\r\n",
        "Output\r\n",
        "2\r\n",
        "Explanation\r\n",
        "Contact 0 and 1 are the same person since they share a common email \"elon@tesla.com\". Then, contact 2 is another person.\r\n",
        "\r\n",
        "Example 2\r\n",
        "Input\r\n",
        "contacts = [\r\n",
        "    [\"bill@microsoft.com\"],\r\n",
        "    [\"jack@twitter.com\"],\r\n",
        "    [\"jeff@amazon.com\"]\r\n",
        "]\r\n",
        "Output\r\n",
        "3\r\n",
        "Explanation\r\n",
        "All 3 contacts represent 3 unique people.\r\n",
        "\r\n",
        "Example 3\r\n",
        "Input\r\n",
        "contacts = [\r\n",
        "    [\"lawrence@gmail.com\"],\r\n",
        "    [\"lawrence@gmail.com\", \"larry@gmail.com\"],\r\n",
        "    [\"larry@gmail.com\"]\r\n",
        "]\r\n",
        "Output\r\n",
        "1\r\n",
        "Explanation\r\n",
        "Only contact i = 0 is considered unique. The other two contacts are duplicates.```"
      ]
    },
    {
      "cell_type": "code",
      "metadata": {
        "id": "GSlOavjj_c-G"
      },
      "source": [
        "from itertools import groupby\r\n",
        "class Solution:\r\n",
        "    def solve(self, contacts):\r\n",
        "        c = 0\r\n",
        "        l = []\r\n",
        "        for i in contacts:\r\n",
        "            if len(i) > 1:\r\n",
        "                l.append(i[0].split('@'))\r\n",
        "                l.append(i[1].split('@'))\r\n",
        "            else:\r\n",
        "                l.append(i[0].split('@'))\r\n",
        "        f, e = [], []\r\n",
        "        print(l)\r\n",
        "        for i in l:\r\n",
        "            f.append(i[0])\r\n",
        "            e.append(i[1])\r\n",
        "        a = len([i for i, j in groupby(f)])\r\n",
        "        b = len([i for i, j in groupby(e)])\r\n",
        "        return min(a, b)\r\n",
        "        "
      ],
      "execution_count": null,
      "outputs": []
    },
    {
      "cell_type": "markdown",
      "metadata": {
        "id": "Yy2V3pX6_pVK"
      },
      "source": [
        "https://binarysearch.com/room/The-Palindome-TrfbcFgTMx?questionsetIndex=1"
      ]
    },
    {
      "cell_type": "code",
      "metadata": {
        "id": "PSIEBPMK_pB-"
      },
      "source": [
        ""
      ],
      "execution_count": null,
      "outputs": []
    }
  ]
}