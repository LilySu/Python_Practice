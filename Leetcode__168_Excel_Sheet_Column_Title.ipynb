{
  "nbformat": 4,
  "nbformat_minor": 0,
  "metadata": {
    "colab": {
      "name": "Leetcode_#168_Excel_Sheet_Column_Title.ipynb",
      "provenance": [],
      "authorship_tag": "ABX9TyM1bisYOqgPZhB9ZyY0ypQ7",
      "include_colab_link": true
    },
    "kernelspec": {
      "name": "python3",
      "display_name": "Python 3"
    }
  },
  "cells": [
    {
      "cell_type": "markdown",
      "metadata": {
        "id": "view-in-github",
        "colab_type": "text"
      },
      "source": [
        "<a href=\"https://colab.research.google.com/github/LilySu/Python_Practice/blob/master/Leetcode__168_Excel_Sheet_Column_Title.ipynb\" target=\"_parent\"><img src=\"https://colab.research.google.com/assets/colab-badge.svg\" alt=\"Open In Colab\"/></a>"
      ]
    },
    {
      "cell_type": "markdown",
      "metadata": {
        "id": "JM4ga3gP7o3j",
        "colab_type": "text"
      },
      "source": [
        "Given a positive integer, return its corresponding column title as appear in an Excel sheet.\n",
        "\n",
        "For example:\n",
        "```\n",
        "\n",
        "    1 -> A\n",
        "    2 -> B\n",
        "    3 -> C\n",
        "    ...\n",
        "    26 -> Z\n",
        "    27 -> A\n",
        "    28 -> AB \n",
        "    ...\n",
        "\n",
        "Example 1:\n",
        "\n",
        "Input: 1\n",
        "Output: \"A\"\n",
        "Example 2:\n",
        "\n",
        "Input: 28\n",
        "Output: \"AB\"\n",
        "Example 3:\n",
        "\n",
        "Input: 701\n",
        "Output: \"ZY\"\n",
        "```"
      ]
    },
    {
      "cell_type": "code",
      "metadata": {
        "id": "8ao0uvgO7U99",
        "colab_type": "code",
        "colab": {
          "base_uri": "https://localhost:8080/",
          "height": 34
        },
        "outputId": "cbe875e4-b580-4c4d-fd2a-e8e82611b61f"
      },
      "source": [
        "import string\n",
        "n = 1048\n",
        "\n",
        "result = ''\n",
        "values = {}\n",
        "for index, value in enumerate(string.ascii_uppercase):\n",
        "    values[index+1] = value\n",
        "key_list = []\n",
        "def recursive_divide(n):\n",
        "    if n == 26:\n",
        "        key_list.append(26)\n",
        "        return\n",
        "    divided_times = n // 26\n",
        "    remainder = n % 26\n",
        "    if divided_times <= 26:\n",
        "        if divided_times > 1 and remainder == 0:\n",
        "            key_list.append(divided_times-1)\n",
        "            key_list.append(26)\n",
        "            return\n",
        "        if divided_times > 0:\n",
        "            key_list.append(divided_times)\n",
        "        key_list.append(remainder)\n",
        "        return\n",
        "    if divided_times > 26:\n",
        "        if divided_times > 1 and remainder == 0:\n",
        "            key_list.append(divided_times-1)\n",
        "            key_list.append(26)\n",
        "            return\n",
        "        remainder = n % 26\n",
        "        key_list.append(remainder)\n",
        "        return recursive_divide(divided_times)\n",
        "recursive_divide(n)\n",
        "# for i in key_list:\n",
        "#     result += values[i]\n",
        "# result\n",
        "key_list"
      ],
      "execution_count": 72,
      "outputs": [
        {
          "output_type": "execute_result",
          "data": {
            "text/plain": [
              "[8, 1, 14]"
            ]
          },
          "metadata": {
            "tags": []
          },
          "execution_count": 72
        }
      ]
    },
    {
      "cell_type": "code",
      "metadata": {
        "id": "D4sp25SrRZIO",
        "colab_type": "code",
        "colab": {}
      },
      "source": [
        ""
      ],
      "execution_count": null,
      "outputs": []
    },
    {
      "cell_type": "code",
      "metadata": {
        "id": "gUENOsZuM7eu",
        "colab_type": "code",
        "colab": {
          "base_uri": "https://localhost:8080/",
          "height": 466
        },
        "outputId": "75450a66-3177-4ff3-a81c-2341fd87841c"
      },
      "source": [
        "values = {}\n",
        "for index, value in enumerate(string.ascii_uppercase):\n",
        "    values[index+1] = value\n",
        "values"
      ],
      "execution_count": 51,
      "outputs": [
        {
          "output_type": "execute_result",
          "data": {
            "text/plain": [
              "{1: 'A',\n",
              " 2: 'B',\n",
              " 3: 'C',\n",
              " 4: 'D',\n",
              " 5: 'E',\n",
              " 6: 'F',\n",
              " 7: 'G',\n",
              " 8: 'H',\n",
              " 9: 'I',\n",
              " 10: 'J',\n",
              " 11: 'K',\n",
              " 12: 'L',\n",
              " 13: 'M',\n",
              " 14: 'N',\n",
              " 15: 'O',\n",
              " 16: 'P',\n",
              " 17: 'Q',\n",
              " 18: 'R',\n",
              " 19: 'S',\n",
              " 20: 'T',\n",
              " 21: 'U',\n",
              " 22: 'V',\n",
              " 23: 'W',\n",
              " 24: 'X',\n",
              " 25: 'Y',\n",
              " 26: 'Z'}"
            ]
          },
          "metadata": {
            "tags": []
          },
          "execution_count": 51
        }
      ]
    },
    {
      "cell_type": "code",
      "metadata": {
        "id": "iFgynmXs8tZh",
        "colab_type": "code",
        "colab": {
          "base_uri": "https://localhost:8080/",
          "height": 34
        },
        "outputId": "8eeb8199-cfa5-455f-fd98-3eb72089faed"
      },
      "source": [
        "# input = 28\n",
        "key_list = []\n",
        "def recursive_divide(input):\n",
        "    divided_times = input // 26\n",
        "    if divided_times <= 26:\n",
        "        if divided_times > 0:\n",
        "            key_list.append(divided_times)\n",
        "        remainder = input % 26\n",
        "        key_list.append(remainder)\n",
        "        return\n",
        "    if divided_times > 26:\n",
        "        # key_list.append(divided_times)\n",
        "        remainder = input % 26\n",
        "        key_list.append(remainder)\n",
        "        return recursive_divide(divided_times)\n",
        "recursive_divide(702)\n",
        "key_list"
      ],
      "execution_count": 43,
      "outputs": [
        {
          "output_type": "execute_result",
          "data": {
            "text/plain": [
              "[0, 1, 1]"
            ]
          },
          "metadata": {
            "tags": []
          },
          "execution_count": 43
        }
      ]
    },
    {
      "cell_type": "code",
      "metadata": {
        "id": "0YxTtaGyIZG3",
        "colab_type": "code",
        "colab": {
          "base_uri": "https://localhost:8080/",
          "height": 34
        },
        "outputId": "65874f1e-e000-4261-8c34-3bbb1169726b"
      },
      "source": [
        "701 // 26"
      ],
      "execution_count": 28,
      "outputs": [
        {
          "output_type": "execute_result",
          "data": {
            "text/plain": [
              "26"
            ]
          },
          "metadata": {
            "tags": []
          },
          "execution_count": 28
        }
      ]
    },
    {
      "cell_type": "code",
      "metadata": {
        "id": "Z1ABF_cnKW2U",
        "colab_type": "code",
        "colab": {
          "base_uri": "https://localhost:8080/",
          "height": 131
        },
        "outputId": "54b72176-e8be-49e4-dd4d-1863f1322967"
      },
      "source": [
        "#reference solution:"
      ],
      "execution_count": 73,
      "outputs": [
        {
          "output_type": "error",
          "ename": "SyntaxError",
          "evalue": "ignored",
          "traceback": [
            "\u001b[0;36m  File \u001b[0;32m\"<ipython-input-73-2194dc5db2fd>\"\u001b[0;36m, line \u001b[0;32m1\u001b[0m\n\u001b[0;31m    reference solution:\u001b[0m\n\u001b[0m                     ^\u001b[0m\n\u001b[0;31mSyntaxError\u001b[0m\u001b[0;31m:\u001b[0m invalid syntax\n"
          ]
        }
      ]
    },
    {
      "cell_type": "code",
      "metadata": {
        "id": "J_e4kwwtS2jT",
        "colab_type": "code",
        "colab": {}
      },
      "source": [
        "    def convertToTitle(self, n: int) -> str:\n",
        "        s = \"\"\n",
        "        while n>0:\n",
        "            n = n-1\n",
        "            word = n%26\n",
        "            n = n//26\n",
        "            s = chr(word+65)+s\n",
        "        return s"
      ],
      "execution_count": null,
      "outputs": []
    },
    {
      "cell_type": "code",
      "metadata": {
        "id": "YuR3VIVRTF58",
        "colab_type": "code",
        "colab": {
          "base_uri": "https://localhost:8080/",
          "height": 35
        },
        "outputId": "ba7d87aa-63e8-48a3-a6bd-2fd129ce1352"
      },
      "source": [
        "n = 1048\n",
        "s = ''\n",
        "while n>0:\n",
        "    n = n-1\n",
        "    word = n%26\n",
        "    n = n//26\n",
        "    s = chr(word+65)+s\n",
        "s"
      ],
      "execution_count": 75,
      "outputs": [
        {
          "output_type": "execute_result",
          "data": {
            "application/vnd.google.colaboratory.intrinsic+json": {
              "type": "string"
            },
            "text/plain": [
              "'ANH'"
            ]
          },
          "metadata": {
            "tags": []
          },
          "execution_count": 75
        }
      ]
    },
    {
      "cell_type": "code",
      "metadata": {
        "id": "ae4g3V1GTSQj",
        "colab_type": "code",
        "colab": {
          "base_uri": "https://localhost:8080/",
          "height": 35
        },
        "outputId": "7d718e1f-4206-4dc6-fd15-ae1bcb04c408"
      },
      "source": [
        "chr(25+65)"
      ],
      "execution_count": 78,
      "outputs": [
        {
          "output_type": "execute_result",
          "data": {
            "application/vnd.google.colaboratory.intrinsic+json": {
              "type": "string"
            },
            "text/plain": [
              "'Z'"
            ]
          },
          "metadata": {
            "tags": []
          },
          "execution_count": 78
        }
      ]
    },
    {
      "cell_type": "code",
      "metadata": {
        "id": "TnMTJPu7TYKT",
        "colab_type": "code",
        "colab": {}
      },
      "source": [
        ""
      ],
      "execution_count": null,
      "outputs": []
    }
  ]
}