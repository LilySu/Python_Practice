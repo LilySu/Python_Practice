{
  "nbformat": 4,
  "nbformat_minor": 0,
  "metadata": {
    "colab": {
      "name": "Leetcode_#7_Reverse_Integer.ipynb",
      "provenance": [],
      "authorship_tag": "ABX9TyM0vjUA4KF9R2hsH+Mo7FrM",
      "include_colab_link": true
    },
    "kernelspec": {
      "name": "python3",
      "display_name": "Python 3"
    }
  },
  "cells": [
    {
      "cell_type": "markdown",
      "metadata": {
        "id": "view-in-github",
        "colab_type": "text"
      },
      "source": [
        "<a href=\"https://colab.research.google.com/github/LilySu/Python_Practice/blob/master/Leetcode__7_Reverse_Integer.ipynb\" target=\"_parent\"><img src=\"https://colab.research.google.com/assets/colab-badge.svg\" alt=\"Open In Colab\"/></a>"
      ]
    },
    {
      "cell_type": "markdown",
      "metadata": {
        "id": "QtTncTt7DGoZ",
        "colab_type": "text"
      },
      "source": [
        "Given a 32-bit signed integer, reverse digits of an integer.\n",
        "\n",
        "Example 1:\n",
        "\n",
        "Input: 123\n",
        "Output: 321\n",
        "Example 2:\n",
        "\n",
        "Input: -123\n",
        "Output: -321\n",
        "Example 3:\n",
        "\n",
        "Input: 120\n",
        "Output: 21\n",
        "Note:\n",
        "Assume we are dealing with an environment which could only store integers within the 32-bit signed integer range: [−231,  231 − 1]. For the purpose of this problem, assume that your function returns 0 when the reversed integer overflows."
      ]
    },
    {
      "cell_type": "code",
      "metadata": {
        "id": "Hvp4-ijHC8el",
        "colab_type": "code",
        "colab": {}
      },
      "source": [
        "class Solution(object):\n",
        "    def reverse(self, x):\n",
        "        \"\"\"\n",
        "        :type x: int\n",
        "        :rtype: int\n",
        "        \"\"\"\n",
        "        "
      ],
      "execution_count": null,
      "outputs": []
    },
    {
      "cell_type": "code",
      "metadata": {
        "id": "pj-UTsnSTN2k",
        "colab_type": "code",
        "colab": {}
      },
      "source": [
        "class Solution(object):\n",
        "    def reverse(self, x):\n",
        "        \"\"\"\n",
        "        :type x: int\n",
        "        :rtype: int\n",
        "        \"\"\"\n",
        "        if x >= 2**31-1 or x <= -2**31: return 0\n",
        "        else:\n",
        "            strg = str(x)\n",
        "            if x >= 0: # if x is positive\n",
        "                revstr = strg[::-1] \n",
        "            else: # if x is negative\n",
        "                temp = strg[1:] # remove the first item\n",
        "                temp2 = temp[::-1] # reverse\n",
        "                revstr = '-' + temp2 # add on the negative sign\n",
        "            if int(revstr) >= 2**31-1 or int(revstr) <= -2**31: return 0\n",
        "            return int(revstr)"
      ],
      "execution_count": null,
      "outputs": []
    },
    {
      "cell_type": "code",
      "metadata": {
        "id": "7N1aZ_bLHUvh",
        "colab_type": "code",
        "colab": {
          "base_uri": "https://localhost:8080/",
          "height": 34
        },
        "outputId": "775e75cb-4f9a-46cc-d8c2-cb26a4577287"
      },
      "source": [
        "1534236469 < (2^31) - 1 "
      ],
      "execution_count": null,
      "outputs": [
        {
          "output_type": "execute_result",
          "data": {
            "text/plain": [
              "False"
            ]
          },
          "metadata": {
            "tags": []
          },
          "execution_count": 2
        }
      ]
    },
    {
      "cell_type": "code",
      "metadata": {
        "id": "D5MAuQHGHYUR",
        "colab_type": "code",
        "colab": {
          "base_uri": "https://localhost:8080/",
          "height": 34
        },
        "outputId": "d0b13802-61f3-4fd3-f043-5e0322680880"
      },
      "source": [
        "1534236469 > -(2^31)"
      ],
      "execution_count": null,
      "outputs": [
        {
          "output_type": "execute_result",
          "data": {
            "text/plain": [
              "True"
            ]
          },
          "metadata": {
            "tags": []
          },
          "execution_count": 3
        }
      ]
    },
    {
      "cell_type": "code",
      "metadata": {
        "id": "MyrG2QLMHwW5",
        "colab_type": "code",
        "colab": {}
      },
      "source": [
        "class Solution(object):\n",
        "    def reverse(self, x):\n",
        "        \"\"\"\n",
        "        :type x: int\n",
        "        :rtype: int\n",
        "        \"\"\"\n",
        "        if (x >= (2^31)-1) or (x <= -(2^31)): return 0\n",
        "        else:\n",
        "            stringx = str(x)\n",
        "            if x >= 0:\n",
        "                revstring = stringx[::-1]\n",
        "            else: \n",
        "                stringx = stringx.replace('-','')\n",
        "                revstringx = stringx[::-1]\n",
        "                revstring = '-' + revstringx\n",
        "            if (int(revstring) >= (2^31)-1) or (int(revstring) <= -(2^31)): return 0\n",
        "            return int(revstring)"
      ],
      "execution_count": null,
      "outputs": []
    }
  ]
}