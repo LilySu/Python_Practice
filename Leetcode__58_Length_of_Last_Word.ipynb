{
  "nbformat": 4,
  "nbformat_minor": 0,
  "metadata": {
    "colab": {
      "name": "Leetcode_#58_Length_of_Last_Word.ipynb",
      "provenance": [],
      "authorship_tag": "ABX9TyNAt7yu6ahaRG2q3DoP/7wq",
      "include_colab_link": true
    },
    "kernelspec": {
      "name": "python3",
      "display_name": "Python 3"
    }
  },
  "cells": [
    {
      "cell_type": "markdown",
      "metadata": {
        "id": "view-in-github",
        "colab_type": "text"
      },
      "source": [
        "<a href=\"https://colab.research.google.com/github/LilySu/Python_Practice/blob/master/Leetcode__58_Length_of_Last_Word.ipynb\" target=\"_parent\"><img src=\"https://colab.research.google.com/assets/colab-badge.svg\" alt=\"Open In Colab\"/></a>"
      ]
    },
    {
      "cell_type": "markdown",
      "metadata": {
        "id": "arRaU8wk6K-B",
        "colab_type": "text"
      },
      "source": [
        "Given a string s consists of upper/lower-case alphabets and empty space characters ' ', return the length of last word (last word means the last appearing word if we loop from left to right) in the string.\n",
        "\n",
        "If the last word does not exist, return 0.\n",
        "\n",
        "Note: A word is defined as a maximal substring consisting of non-space characters only.\n",
        "```\n",
        "Example:\n",
        "\n",
        "Input: \"Hello World\"\n",
        "Output: 5\n",
        " ```"
      ]
    },
    {
      "cell_type": "code",
      "metadata": {
        "id": "apjN9sz45-A1",
        "colab_type": "code",
        "colab": {}
      },
      "source": [
        "class Solution(object):\n",
        "    def lengthOfLastWord(self, s):\n",
        "        \"\"\"\n",
        "        :type s: str\n",
        "        :rtype: int\n",
        "        \"\"\"\n",
        "        if s == '' or s == ' ':\n",
        "            return 0\n",
        "        l = s.split(' ')\n",
        "        l = [s.replace(' ','') for s in l if (len(s) != 0)]\n",
        "        if len(l) > 0:\n",
        "            return len(l[-1])\n",
        "        else:\n",
        "            return 0 \n",
        "        "
      ],
      "execution_count": null,
      "outputs": []
    }
  ]
}