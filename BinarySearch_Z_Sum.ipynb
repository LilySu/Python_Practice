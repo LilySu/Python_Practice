{
  "nbformat": 4,
  "nbformat_minor": 0,
  "metadata": {
    "colab": {
      "name": "BinarySearch_Z_Sum.ipynb",
      "provenance": [],
      "authorship_tag": "ABX9TyMgnS0JEtVkJWhc6VKH21YE",
      "include_colab_link": true
    },
    "kernelspec": {
      "name": "python3",
      "display_name": "Python 3"
    }
  },
  "cells": [
    {
      "cell_type": "markdown",
      "metadata": {
        "id": "view-in-github",
        "colab_type": "text"
      },
      "source": [
        "<a href=\"https://colab.research.google.com/github/LilySu/Python_Practice/blob/master/BinarySearch_Z_Sum.ipynb\" target=\"_parent\"><img src=\"https://colab.research.google.com/assets/colab-badge.svg\" alt=\"Open In Colab\"/></a>"
      ]
    },
    {
      "cell_type": "markdown",
      "metadata": {
        "id": "RgwtOQTloata"
      },
      "source": [
        "Given an n by n integer matrix, return the sum of all elements that form a Z in the matrix. For example, given:\n",
        "```\n",
        "1 2 3\n",
        "4 5 6\n",
        "7 8 9\n",
        "The Z that's formed is [1, 2, 3, 5, 7, 8, 9] and its sum is 35.\n",
        "\n",
        "Constraints\n",
        "\n",
        "n ≤ 1000\n",
        "Example 1\n",
        "Input\n",
        "\n",
        "matrix = [\n",
        "    [1, 2, 3],\n",
        "    [4, 5, 6],\n",
        "    [7, 8, 9]\n",
        "]\n",
        "Output\n",
        "\n",
        "35\n",
        "```"
      ]
    },
    {
      "cell_type": "code",
      "metadata": {
        "id": "LRuVnx6yoW1h"
      },
      "source": [
        "class Solution:\n",
        "    def solve(self, matrix):\n",
        "        # if empty matrix\n",
        "        if len(matrix) == 0:\n",
        "            return 0\n",
        "        # if matrix = [[568]]\n",
        "        width = len(matrix[0])\n",
        "        if width == 1:\n",
        "            return matrix[0][0]\n",
        "            \n",
        "        r = []\n",
        "        for i in matrix[0]:\n",
        "            r.append(i)\n",
        "        counter = -2\n",
        "        for i in range(1, len(matrix) - 1):\n",
        "            r.append(matrix[i][counter])\n",
        "            counter -= 1\n",
        "        for i in matrix[-1]:\n",
        "            r.append(i)\n",
        "        return sum(r)"
      ],
      "execution_count": null,
      "outputs": []
    },
    {
      "cell_type": "code",
      "metadata": {
        "id": "aAMtSq6tonMU"
      },
      "source": [
        "class Solution:\n",
        "    def solve(self, matrix):\n",
        "        # if empty matrix\n",
        "        if len(matrix) == 0:\n",
        "            return 0\n",
        "        # if matrix = [[568]]\n",
        "        width = len(matrix[0])\n",
        "        if width == 1:\n",
        "            return matrix[0][0]\n",
        "            \n",
        "        r = []\n",
        "        first = sum(matrix[0])\n",
        "        counter = -2\n",
        "        for i in range(1, len(matrix) - 1):\n",
        "            r.append(matrix[i][counter])\n",
        "            counter -= 1\n",
        "        last = sum(matrix[-1])\n",
        "        return first + sum(r) + last"
      ],
      "execution_count": null,
      "outputs": []
    },
    {
      "cell_type": "code",
      "metadata": {
        "id": "DNjU4CvgqElG"
      },
      "source": [
        "class Solution:\n",
        "    def solve(self, matrix):\n",
        "        n = len(matrix)\n",
        "        ans = 0\n",
        "        if n >= 1:\n",
        "            ans += sum(matrix[0])\n",
        "            if n >= 2:\n",
        "                ans += sum(matrix[-1])\n",
        "\n",
        "        for i in range(1, n - 1):\n",
        "            ans += matrix[i][~i]\n",
        "        return ans"
      ],
      "execution_count": null,
      "outputs": []
    }
  ]
}