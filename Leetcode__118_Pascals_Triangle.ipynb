{
  "nbformat": 4,
  "nbformat_minor": 0,
  "metadata": {
    "colab": {
      "name": "Leetcode_#118_Pascals_Triangle.ipynb",
      "provenance": [],
      "authorship_tag": "ABX9TyPLTumLVbR3Y/1TtDXT/9P9",
      "include_colab_link": true
    },
    "kernelspec": {
      "name": "python3",
      "display_name": "Python 3"
    }
  },
  "cells": [
    {
      "cell_type": "markdown",
      "metadata": {
        "id": "view-in-github",
        "colab_type": "text"
      },
      "source": [
        "<a href=\"https://colab.research.google.com/github/LilySu/Python_Practice/blob/master/Leetcode__118_Pascals_Triangle.ipynb\" target=\"_parent\"><img src=\"https://colab.research.google.com/assets/colab-badge.svg\" alt=\"Open In Colab\"/></a>"
      ]
    },
    {
      "cell_type": "markdown",
      "metadata": {
        "id": "ZxyopJkFC08f",
        "colab_type": "text"
      },
      "source": [
        "Given a non-negative integer numRows, generate the first numRows of Pascal's triangle.\n",
        "\n",
        "\n",
        "In Pascal's triangle, each number is the sum of the two numbers directly above it.\n",
        "```\n",
        "Example:\n",
        "\n",
        "Input: 5\n",
        "Output:\n",
        "[\n",
        "     [1],\n",
        "    [1,1],\n",
        "   [1,2,1],\n",
        "  [1,3,3,1],\n",
        " [1,4,6,4,1]\n",
        "]\n",
        "```"
      ]
    },
    {
      "cell_type": "code",
      "metadata": {
        "id": "8z39jLVHCtHP",
        "colab_type": "code",
        "colab": {
          "base_uri": "https://localhost:8080/",
          "height": 34
        },
        "outputId": "c683eaa1-2cc1-4c55-f6bc-2296732a8087"
      },
      "source": [
        "numRows = 5\n",
        "\n",
        "l = [1,3,3,1]\n",
        "def pt(l):\n",
        "    r = []\n",
        "    start = 1\n",
        "    r.append(1)\n",
        "    for i in range(len(l)-1):\n",
        "        r.append(l[i]+l[i+1])\n",
        "    r.append(1)\n",
        "    return r\n",
        "\n",
        "def ptriangle(numRows):\n",
        "    t = [[1]]\n",
        "    for i in range(numRows-1):\n",
        "        t.append(pt(t[-1]))\n",
        "    return t[-1]\n",
        "# pt(l)\n",
        "\n",
        "ptriangle(numRows)"
      ],
      "execution_count": 9,
      "outputs": [
        {
          "output_type": "execute_result",
          "data": {
            "text/plain": [
              "[1, 4, 6, 4, 1]"
            ]
          },
          "metadata": {
            "tags": []
          },
          "execution_count": 9
        }
      ]
    },
    {
      "cell_type": "code",
      "metadata": {
        "id": "7w9YcRBeS2X_",
        "colab_type": "code",
        "colab": {}
      },
      "source": [
        "class Solution(object):\n",
        "    def generate(self, numRows):\n",
        "        \"\"\"\n",
        "        :type numRows: int\n",
        "        :rtype: List[List[int]]\n",
        "        \"\"\"\n",
        "        def pt(l):\n",
        "            r = []\n",
        "            start = 1\n",
        "            r.append(1)\n",
        "            for i in range(len(l)-1):\n",
        "                r.append(l[i]+l[i+1])\n",
        "            r.append(1)\n",
        "            return r\n",
        "        if numRows == 0:\n",
        "            return []\n",
        "        t = [[1]]\n",
        "        for i in range(numRows-1):\n",
        "            t.append(pt(t[-1]))\n",
        "        return t"
      ],
      "execution_count": null,
      "outputs": []
    }
  ]
}