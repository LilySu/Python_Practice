{
  "nbformat": 4,
  "nbformat_minor": 0,
  "metadata": {
    "colab": {
      "name": "BinarySearch_Home_Run.ipynb",
      "provenance": [],
      "authorship_tag": "ABX9TyN+hLJPOQU1nWNClUasRKzZ",
      "include_colab_link": true
    },
    "kernelspec": {
      "name": "python3",
      "display_name": "Python 3"
    }
  },
  "cells": [
    {
      "cell_type": "markdown",
      "metadata": {
        "id": "view-in-github",
        "colab_type": "text"
      },
      "source": [
        "<a href=\"https://colab.research.google.com/github/LilySu/Python_Practice/blob/master/BinarySearch_Home_Run.ipynb\" target=\"_parent\"><img src=\"https://colab.research.google.com/assets/colab-badge.svg\" alt=\"Open In Colab\"/></a>"
      ]
    },
    {
      "cell_type": "markdown",
      "metadata": {
        "id": "BWG1wI2YF9uP"
      },
      "source": [
        "Given a non-negative integer n, return the length of the longest consecutive run of 1s in its binary representation.\n",
        "```\n",
        "Example 1\n",
        "Input\n",
        "n = 156\n",
        "Output\n",
        "3\n",
        "Explanation\n",
        "156 is10011100 in binary and there's a run of length 3.\n",
        "```"
      ]
    },
    {
      "cell_type": "code",
      "metadata": {
        "id": "jnIZKgX8F5ay"
      },
      "source": [
        "class Solution:\n",
        "    def solve(self, n):\n",
        "        binary = bin(n)\n",
        "        # assign an empty max\n",
        "        maxx = 0\n",
        "        # assign a counter\n",
        "        counter = 0\n",
        "        # if the next pointer is 1\n",
        "        l_counters = []\n",
        "        for idx in range(len(binary) - 1):\n",
        "            if binary[idx + 1] == '1':\n",
        "        # up the counter\n",
        "                counter += 1\n",
        "                l_counters.append(counter)\n",
        "            # if the next pointer is not 1\n",
        "                maxx = max(l_counters)\n",
        "            else:\n",
        "        # assign a counter to be 0\n",
        "                counter = 0\n",
        "        # return the max\n",
        "        return maxx"
      ],
      "execution_count": null,
      "outputs": []
    },
    {
      "cell_type": "code",
      "metadata": {
        "id": "qF3YRk9MGHGf"
      },
      "source": [
        "def solve(self,n):\n",
        "    if n == 0:\n",
        "        return 0\n",
        "    binary = bin(n)\n",
        "    counter = 1\n",
        "    maxCounter = 1\n",
        "    for i in range(len(binary) - 1):\n",
        "        if binary[i] == '1' and binary[i + 1] == '1':\n",
        "            counter += 1\n",
        "            maxCounter = max(counter, maxCounter)\n",
        "        else:\n",
        "            counter = 1\n",
        "    return maxCounter"
      ],
      "execution_count": null,
      "outputs": []
    }
  ]
}