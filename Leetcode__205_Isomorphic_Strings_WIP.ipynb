{
  "nbformat": 4,
  "nbformat_minor": 0,
  "metadata": {
    "colab": {
      "name": "Leetcode_#205_Isomorphic_Strings_WIP.ipynb",
      "provenance": [],
      "authorship_tag": "ABX9TyOhgjOlwmXAn9na+ovVuaHC",
      "include_colab_link": true
    },
    "kernelspec": {
      "name": "python3",
      "display_name": "Python 3"
    }
  },
  "cells": [
    {
      "cell_type": "markdown",
      "metadata": {
        "id": "view-in-github",
        "colab_type": "text"
      },
      "source": [
        "<a href=\"https://colab.research.google.com/github/LilySu/Python_Practice/blob/master/Leetcode__205_Isomorphic_Strings_WIP.ipynb\" target=\"_parent\"><img src=\"https://colab.research.google.com/assets/colab-badge.svg\" alt=\"Open In Colab\"/></a>"
      ]
    },
    {
      "cell_type": "markdown",
      "metadata": {
        "id": "4U_412a7Eae8",
        "colab_type": "text"
      },
      "source": [
        "Given two strings s and t, determine if they are isomorphic.\n",
        "\n",
        "Two strings are isomorphic if the characters in s can be replaced to get t.\n",
        "\n",
        "All occurrences of a character must be replaced with another character while preserving the order of characters. No two characters may map to the same character but a character may map to itself.\n",
        "\n",
        "Example 1:\n",
        "```\n",
        "Input: s = \"egg\", t = \"add\"\n",
        "Output: true\n",
        "Example 2:\n",
        "\n",
        "Input: s = \"foo\", t = \"bar\"\n",
        "Output: false\n",
        "Example 3:\n",
        "\n",
        "Input: s = \"paper\", t = \"title\"\n",
        "Output: true\n",
        "```\n",
        "Note:\n",
        "You may assume both s and t have the same length."
      ]
    },
    {
      "cell_type": "code",
      "metadata": {
        "id": "3XBXjtBjEXX5",
        "colab_type": "code",
        "colab": {
          "base_uri": "https://localhost:8080/",
          "height": 34
        },
        "outputId": "6bd2d19a-8988-4bb4-a393-b383463d2af4"
      },
      "source": [
        "import collections\n",
        "\n",
        "\n",
        "def isIsomorphic(s, t):\n",
        "    \"\"\"\n",
        "    :type s: str\n",
        "    :type t: str\n",
        "    :rtype: bool\n",
        "    \"\"\"\n",
        "    value_counts = []\n",
        "    # get dict of # occurrences\n",
        "    ss = collections.Counter(s)\n",
        "    tt = collections.Counter(t)\n",
        "    # return list(ss.values()), list(tt.values())\n",
        "    if list(ss.values()) == list(tt.values()):\n",
        "        return True\n",
        "    else:\n",
        "        return False\n",
        "\n",
        "\n",
        "    # does each string have the same duplicate position?\n",
        "    # if no match, print false\n",
        "\n",
        "s = \"aba\"\n",
        "t = \"baa\"\n",
        "isIsomorphic(s, t)"
      ],
      "execution_count": 19,
      "outputs": [
        {
          "output_type": "execute_result",
          "data": {
            "text/plain": [
              "False"
            ]
          },
          "metadata": {
            "tags": []
          },
          "execution_count": 19
        }
      ]
    },
    {
      "cell_type": "code",
      "metadata": {
        "id": "aftsL0YIGAtw",
        "colab_type": "code",
        "colab": {}
      },
      "source": [
        "def isIsomorphic1(self, s, t):\n",
        "    d1, d2 = {}, {}\n",
        "    for i, val in enumerate(s):\n",
        "        d1[val] = d1.get(val, []) + [i]\n",
        "    for i, val in enumerate(t):\n",
        "        d2[val] = d2.get(val, []) + [i]\n",
        "    return sorted(d1.values()) == sorted(d2.values())\n",
        "        \n",
        "def isIsomorphic2(self, s, t):\n",
        "    d1, d2 = [[] for _ in xrange(256)], [[] for _ in xrange(256)]\n",
        "    for i, val in enumerate(s):\n",
        "        d1[ord(val)].append(i)\n",
        "    for i, val in enumerate(t):\n",
        "        d2[ord(val)].append(i)\n",
        "    return sorted(d1) == sorted(d2)\n",
        "    \n",
        "def isIsomorphic3(self, s, t):\n",
        "    return len(set(zip(s, t))) == len(set(s)) == len(set(t))\n",
        "    \n",
        "def isIsomorphic4(self, s, t): \n",
        "    return [s.find(i) for i in s] == [t.find(j) for j in t]\n",
        "    \n",
        "def isIsomorphic5(self, s, t):\n",
        "    return map(s.find, s) == map(t.find, t)\n",
        "\n",
        "def isIsomorphic(self, s, t):\n",
        "    d1, d2 = [0 for _ in xrange(256)], [0 for _ in xrange(256)]\n",
        "    for i in xrange(len(s)):\n",
        "        if d1[ord(s[i])] != d2[ord(t[i])]:\n",
        "            return False\n",
        "        d1[ord(s[i])] = i+1\n",
        "        d2[ord(t[i])] = i+1\n",
        "    return True"
      ],
      "execution_count": null,
      "outputs": []
    },
    {
      "cell_type": "code",
      "metadata": {
        "id": "2gZ5c3VAI1wJ",
        "colab_type": "code",
        "colab": {
          "base_uri": "https://localhost:8080/",
          "height": 34
        },
        "outputId": "b66c6aad-bb66-4c18-d188-a8a5bb7f402e"
      },
      "source": [
        "def isIsomorphic5(self, s, t):\n",
        "    return len(set(zip(s, t))) == len(set(s)) == len(set(t))\n",
        "    \n",
        "\n",
        "s = \"aba\"\n",
        "t = \"baa\"\n",
        "isIsomorphic(s, t)"
      ],
      "execution_count": 28,
      "outputs": [
        {
          "output_type": "execute_result",
          "data": {
            "text/plain": [
              "False"
            ]
          },
          "metadata": {
            "tags": []
          },
          "execution_count": 28
        }
      ]
    },
    {
      "cell_type": "code",
      "metadata": {
        "id": "8pDrQx5xJCHw",
        "colab_type": "code",
        "colab": {}
      },
      "source": [
        ""
      ],
      "execution_count": null,
      "outputs": []
    }
  ]
}