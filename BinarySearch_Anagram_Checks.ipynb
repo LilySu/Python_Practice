{
  "nbformat": 4,
  "nbformat_minor": 0,
  "metadata": {
    "colab": {
      "name": "BinarySearch_Anagram_Checks.ipynb",
      "provenance": [],
      "authorship_tag": "ABX9TyOqWxFF+HmnDZ4G+6FKVdKu",
      "include_colab_link": true
    },
    "kernelspec": {
      "name": "python3",
      "display_name": "Python 3"
    }
  },
  "cells": [
    {
      "cell_type": "markdown",
      "metadata": {
        "id": "view-in-github",
        "colab_type": "text"
      },
      "source": [
        "<a href=\"https://colab.research.google.com/github/LilySu/Python_Practice/blob/master/BinarySearch_Anagram_Checks.ipynb\" target=\"_parent\"><img src=\"https://colab.research.google.com/assets/colab-badge.svg\" alt=\"Open In Colab\"/></a>"
      ]
    },
    {
      "cell_type": "markdown",
      "metadata": {
        "id": "iYRk7ykbRsaV"
      },
      "source": [
        "Given two strings s0 and s1, return whether they are anagrams of each other. Two words are anagrams when you can rearrange one to become the other. For example, \"listen\" and \"silent\" are anagrams.\n",
        "\n",
        "Constraints\n",
        "```\n",
        "n ≤ 100,000 where n is the length of s0\n",
        "m ≤ 100,000 where m is the length of s1\n",
        "Example 1\n",
        "Input\n",
        "\n",
        "s0 = \"listen\"\n",
        "s1 = \"silent\"\n",
        "Output\n",
        "\n",
        "True\n",
        "Example 2\n",
        "Input\n",
        "\n",
        "s0 = \"bedroom\"\n",
        "s1 = \"bathroom\"\n",
        "Output\n",
        "\n",
        "False\n",
        "```"
      ]
    },
    {
      "cell_type": "code",
      "metadata": {
        "id": "2XS7_W5oRq4y"
      },
      "source": [
        "class Solution:\n",
        "    def solve(self, s0, s1):\n",
        "        for i in s0:\n",
        "            if i in s1:\n",
        "                s1 = s1.replace(i, '', 1)\n",
        "            else:\n",
        "                return False\n",
        "        if len(s1) == 0:\n",
        "            return True\n",
        "        else:\n",
        "            return False"
      ],
      "execution_count": null,
      "outputs": []
    },
    {
      "cell_type": "code",
      "metadata": {
        "id": "pSikByvKR5Iw"
      },
      "source": [
        "from collections import Counter\n",
        "\n",
        "\n",
        "class Solution:\n",
        "    def solve(self, s0, s1):\n",
        "        return Counter(s0) == Counter(s1)\n"
      ],
      "execution_count": 2,
      "outputs": []
    },
    {
      "cell_type": "code",
      "metadata": {
        "id": "uV2wYp5gR5-5",
        "outputId": "27b13397-5759-4f69-a30c-019eaf1da4fe",
        "colab": {
          "base_uri": "https://localhost:8080/"
        }
      },
      "source": [
        "Counter(\"anagram\")"
      ],
      "execution_count": 3,
      "outputs": [
        {
          "output_type": "execute_result",
          "data": {
            "text/plain": [
              "Counter({'a': 3, 'g': 1, 'm': 1, 'n': 1, 'r': 1})"
            ]
          },
          "metadata": {
            "tags": []
          },
          "execution_count": 3
        }
      ]
    },
    {
      "cell_type": "code",
      "metadata": {
        "id": "UENPZM_NR7LX"
      },
      "source": [
        "class Solution:\n",
        "    def solve(self, s0, s1):\n",
        "        a = list(s0)\n",
        "        b = list(s1)\n",
        "        a.sort()\n",
        "        b.sort()\n",
        "        if a == b:\n",
        "            return True\n",
        "        else:\n",
        "            return False"
      ],
      "execution_count": null,
      "outputs": []
    }
  ]
}