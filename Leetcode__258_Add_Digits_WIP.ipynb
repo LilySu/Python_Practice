{
  "nbformat": 4,
  "nbformat_minor": 0,
  "metadata": {
    "colab": {
      "name": "Leetcode_#258_Add_Digits.ipynb",
      "provenance": [],
      "authorship_tag": "ABX9TyMY1DWaMzwGbGs1pVcp2Pdp",
      "include_colab_link": true
    },
    "kernelspec": {
      "name": "python3",
      "display_name": "Python 3"
    }
  },
  "cells": [
    {
      "cell_type": "markdown",
      "metadata": {
        "id": "view-in-github",
        "colab_type": "text"
      },
      "source": [
        "<a href=\"https://colab.research.google.com/github/LilySu/Python_Practice/blob/master/Leetcode__258_Add_Digits_WIP.ipynb\" target=\"_parent\"><img src=\"https://colab.research.google.com/assets/colab-badge.svg\" alt=\"Open In Colab\"/></a>"
      ]
    },
    {
      "cell_type": "markdown",
      "metadata": {
        "id": "q2syomARwj5p",
        "colab_type": "text"
      },
      "source": [
        "Given a non-negative integer num, repeatedly add all its digits until the result has only one digit.\n",
        "\n",
        "Example:\n",
        "```\n",
        "Input: 38\n",
        "Output: 2 \n",
        "Explanation: The process is like: 3 + 8 = 11, 1 + 1 = 2. \n",
        "             Since 2 has only one digit, return it.\n",
        "```\n",
        "Follow up:\n",
        "Could you do it without any loop/recursion in O(1) runtime?"
      ]
    },
    {
      "cell_type": "code",
      "metadata": {
        "id": "70-goxIywe2i",
        "colab_type": "code",
        "colab": {}
      },
      "source": [
        "class Solution(object):\n",
        "    def addDigits(self, num):\n",
        "        \"\"\"\n",
        "        :type num: int\n",
        "        :rtype: int\n",
        "        \"\"\"\n",
        "        sn = str(num)\n",
        "        \n",
        "        def recurse(sn):\n",
        "            summ = 0\n",
        "            for i in sn:\n",
        "                summ += int(i)\n",
        "            return summ\n",
        "        summ = recurse(sn)\n",
        "        while str(summ) > 1:\n",
        "            summ = recurse(sn)\n",
        "        return summ\n",
        "        "
      ],
      "execution_count": null,
      "outputs": []
    }
  ]
}