{
  "nbformat": 4,
  "nbformat_minor": 0,
  "metadata": {
    "colab": {
      "name": "BinarySearch_Largest Number By Two Times.ipynb",
      "provenance": [],
      "authorship_tag": "ABX9TyNGRmc4juJPt2MJXKn9TKSc",
      "include_colab_link": true
    },
    "kernelspec": {
      "name": "python3",
      "display_name": "Python 3"
    }
  },
  "cells": [
    {
      "cell_type": "markdown",
      "metadata": {
        "id": "view-in-github",
        "colab_type": "text"
      },
      "source": [
        "<a href=\"https://colab.research.google.com/github/LilySu/Python_Practice/blob/master/BinarySearch_Largest_Number_By_Two_Times.ipynb\" target=\"_parent\"><img src=\"https://colab.research.google.com/assets/colab-badge.svg\" alt=\"Open In Colab\"/></a>"
      ]
    },
    {
      "cell_type": "markdown",
      "metadata": {
        "id": "0f0m6I1z51gL"
      },
      "source": [
        "Given a list of integers, return whether the largest number is bigger than the second-largest number by more than two times.\n",
        "\n",
        "For example, given the list [3, 9, 6], you should return false, since 9 is not bigger than 12 (2 times 6).\n",
        "```\n",
        "Given the list [6, 3, 15], you should return true, since 15 is bigger than 12 (2 times 6).\n",
        "\n",
        "Example 1\n",
        "Input\n",
        "\n",
        "nums = [3, 6, 9]\n",
        "Output\n",
        "\n",
        "False\n",
        "Explanation\n",
        "\n",
        "9 is not bigger than 2 * 6.\n",
        "\n",
        "Example 2\n",
        "Input\n",
        "\n",
        "nums = [3, 6, 15]\n",
        "Output\n",
        "\n",
        "True\n",
        "Explanation\n",
        "\n",
        "15 is bigger than 12 (2 * 6).\n",
        "\n",
        "Example 3\n",
        "Input\n",
        "\n",
        "nums = [3, 6, 12]\n",
        "Output\n",
        "\n",
        "False\n",
        "Explanation\n",
        "\n",
        "12 is not bigger than 2 * 6, they're equal.\n",
        "```\n",
        "\n"
      ]
    },
    {
      "cell_type": "code",
      "metadata": {
        "id": "oZEPD6mHopFT"
      },
      "source": [
        "class Solution:\n",
        "    def solve(self, nums):\n",
        "        largest = max(nums)\n",
        "        nums.remove(largest)\n",
        "        second = max(nums)\n",
        "        if (second * 2) >= largest:\n",
        "            return False\n",
        "        else:\n",
        "            return True"
      ],
      "execution_count": null,
      "outputs": []
    },
    {
      "cell_type": "code",
      "metadata": {
        "id": "wTF9TQWp6M9S"
      },
      "source": [
        "def solve(self, nums):\n",
        "    m1 = m2 = float(\"-inf\")\n",
        "    for x in nus:\n",
        "        if x > m1:\n",
        "            m1, m2 = x, m1\n",
        "        elif x > m2:\n",
        "            m2 = x\n",
        "    return m1 > 2 * m2"
      ],
      "execution_count": null,
      "outputs": []
    },
    {
      "cell_type": "code",
      "metadata": {
        "id": "1F7ZMUpd64Dq"
      },
      "source": [
        "class Solution:\n",
        "    def solve(self, nums):\n",
        "        nums.sort()\n",
        "        return nums[-1] > (nums[-2] * 2)"
      ],
      "execution_count": null,
      "outputs": []
    }
  ]
}