{
  "nbformat": 4,
  "nbformat_minor": 0,
  "metadata": {
    "colab": {
      "name": "BinarySearch_Merging_Two_Sorted_Lists.ipynb",
      "provenance": [],
      "authorship_tag": "ABX9TyMqT5eLUQ17GxrQ6ODnC2Gx",
      "include_colab_link": true
    },
    "kernelspec": {
      "name": "python3",
      "display_name": "Python 3"
    }
  },
  "cells": [
    {
      "cell_type": "markdown",
      "metadata": {
        "id": "view-in-github",
        "colab_type": "text"
      },
      "source": [
        "<a href=\"https://colab.research.google.com/github/LilySu/Python_Practice/blob/master/BinarySearch_Merging_Two_Sorted_Lists.ipynb\" target=\"_parent\"><img src=\"https://colab.research.google.com/assets/colab-badge.svg\" alt=\"Open In Colab\"/></a>"
      ]
    },
    {
      "cell_type": "markdown",
      "metadata": {
        "id": "8p8DZWpNCSX1"
      },
      "source": [
        "Given two sorted lists of integers, merge them into one large sorted list.\n",
        "```\n",
        "For example, given these two lists:\n",
        "\n",
        "lst0 = [5, 10, 15]\n",
        "lst1 = [3, 8, 9]\n",
        "Return [3, 5, 8, 9, 10, 15].\n",
        "\n",
        "Example 1\n",
        "Input\n",
        "\n",
        "lst0 = [5, 10, 15]\n",
        "lst1 = [3, 8, 9]\n",
        "Output\n",
        "\n",
        "[3, 5, 8, 9, 10, 15]\n",
        "```"
      ]
    },
    {
      "cell_type": "markdown",
      "metadata": {
        "id": "sPMebpFkDCMW"
      },
      "source": [
        "Time: NlogN\n",
        "Space: N"
      ]
    },
    {
      "cell_type": "code",
      "metadata": {
        "id": "6AAhMl0eCO0M"
      },
      "source": [
        "from heapq import merge\n",
        "\n",
        "class Solution:\n",
        "    def solve(self, lst0, lst1):\n",
        "        # l = lst0 + lst1\n",
        "        # return sorted(l)\n",
        "        return list(merge(lst0, lst1))"
      ],
      "execution_count": null,
      "outputs": []
    },
    {
      "cell_type": "markdown",
      "metadata": {
        "id": "LUyRsnzZCJ3d"
      },
      "source": [
        "Let's build our answer one element at a time. We will use two pointers i and j to represent that currently lst0[i:] and lst1[j:] are unused.\n",
        "\n",
        "Now we add to our answer greedily. If the smallest unused element of lst0 is smaller than the smallest unused element of lst1, let's use that element lst0[i] first. Otherwise, let's use lst1[j] first.\n",
        "\n",
        "At the end, we might have extra elements from one of the lists, so just add them all to the array in order."
      ]
    },
    {
      "cell_type": "code",
      "metadata": {
        "id": "ZTWyCrkKCHQc"
      },
      "source": [
        "class Solution:\n",
        "    def solve(self, lst0, lst1):\n",
        "        ans = []\n",
        "        i = j = 0\n",
        "        while i < len(lst0) and j < len(lst1):\n",
        "            if lst0[i] < lst1[j]:\n",
        "                ans.append(lst0[i])\n",
        "                i += 1\n",
        "            else:\n",
        "                ans.append(lst1[j])\n",
        "                j += 1\n",
        "        ans.extend(lst0[i:])\n",
        "        ans.extend(lst1[j:])\n",
        "        return ans"
      ],
      "execution_count": null,
      "outputs": []
    },
    {
      "cell_type": "code",
      "metadata": {
        "id": "Cilfx1EIExbB"
      },
      "source": [
        "import time\n",
        "c = list(range(1,10000000))\n",
        "c_n = list(range(10000000, 20000000))\n",
        "start = time.time()\n",
        "*insert method here* \n",
        "print (time.time()-start)"
      ],
      "execution_count": null,
      "outputs": []
    },
    {
      "cell_type": "markdown",
      "metadata": {
        "id": "0ldZBi0pE3Nw"
      },
      "source": [
        "```\n",
        "Method 1: c.extend(c_n)\n",
        "Representative result: 0.11861872673034668\n",
        "```\n",
        "```\n",
        "Method 2: c += c_n\n",
        "Representative result: 0.10558319091796875\n",
        "```\n",
        "```\n",
        "Method 3: c = c + c_n\n",
        "Representative result: 0.25804924964904785\n",
        "```\n",
        "```\n",
        "Method 4: c = [*c, *c_n]\n",
        "Representative result: 0.22019600868225098\n",
        "```\n",
        "\n",
        "Conclusion Use += or .extend() if you want to merge in place. They are significantly faster."
      ]
    },
    {
      "cell_type": "code",
      "metadata": {
        "id": "oA7fsv9RFbkt"
      },
      "source": [
        "class Solution:\n",
        "    def solve(self, lst0, lst1):\n",
        "        lst0 += lst1\n",
        "        return sorted(lst0)"
      ],
      "execution_count": null,
      "outputs": []
    }
  ]
}