{
  "nbformat": 4,
  "nbformat_minor": 0,
  "metadata": {
    "colab": {
      "name": "BinarySearch_Dogcat",
      "provenance": [],
      "authorship_tag": "ABX9TyO0T7j3Iudt10pwE1R3ZGzy",
      "include_colab_link": true
    },
    "kernelspec": {
      "name": "python3",
      "display_name": "Python 3"
    }
  },
  "cells": [
    {
      "cell_type": "markdown",
      "metadata": {
        "id": "view-in-github",
        "colab_type": "text"
      },
      "source": [
        "<a href=\"https://colab.research.google.com/github/LilySu/Python_Practice/blob/master/BinarySearch_Dogcat.ipynb\" target=\"_parent\"><img src=\"https://colab.research.google.com/assets/colab-badge.svg\" alt=\"Open In Colab\"/></a>"
      ]
    },
    {
      "cell_type": "markdown",
      "metadata": {
        "id": "BjziRHgn_Sb8"
      },
      "source": [
        "Dogcat\n",
        "Given the strings text, word0, and word1, return the smallest distance between any two occurrences of word0 and word1 in text, measured in number of words. If either word0 or word1 doesn't appear in text, return -1.\n",
        "\n",
        "Constraints\n",
        "```\n",
        "word0 and word1 are different.\n",
        "n ≤ 200,000 where n is the length of text.\n",
        "Example 1\n",
        "Input\n",
        "\n",
        "text = \"dog cat hello cat dog dog hello cat world\"\n",
        "word0 = \"hello\"\n",
        "word1 = \"world\"\n",
        "Output\n",
        "\n",
        "1\n",
        "Explanation\n",
        "\n",
        "There's only one word \"cat\" in between the hello and world at the end.\n",
        "```"
      ]
    },
    {
      "cell_type": "code",
      "metadata": {
        "id": "kXb43UlI_Pk5"
      },
      "source": [
        "class Solution:\n",
        "    def solve(self, text, word0, word1):\n",
        "        f0 = False\n",
        "        f1 = False\n",
        "        l = list(text.split(\" \"))\n",
        "        ol = []\n",
        "        minn = 1000000\n",
        "        for i in range(len(l)):\n",
        "            if l[i] == word0 or l[i] == word1:\n",
        "                if l[i] == word0:\n",
        "                    f0 = True\n",
        "                if l[i] == word1:\n",
        "                    f1 = True\n",
        "                ol.append(i)\n",
        "        if f0 == False or f1 == False:\n",
        "            return -1\n",
        "        for i in range(len(ol)-1):\n",
        "            if ol[i+1] - ol[i] < minn:\n",
        "                minn = ol[i+1] - ol[i]\n",
        "        return minn - 1"
      ],
      "execution_count": null,
      "outputs": []
    },
    {
      "cell_type": "code",
      "metadata": {
        "id": "mK6i_7pT_ueP"
      },
      "source": [
        "from itertools import groupby\n",
        "\n",
        "\n",
        "class Solution:\n",
        "    def solve(self, text, word0, word1):\n",
        "        if word0 not in text or word1 not in text:\n",
        "            return -1\n",
        "        last0 = -1e9\n",
        "        last1 = -1e9\n",
        "        ans = 1e9\n",
        "        for i, w in enumerate(text.split()):\n",
        "            if w == word0:\n",
        "                ans = min(ans, i - last1 - 1)\n",
        "                last0 = i\n",
        "            if w == word1:\n",
        "                ans = min(ans, i - last0 - 1)\n",
        "                last1 = i\n",
        "        return ans\n"
      ],
      "execution_count": null,
      "outputs": []
    },
    {
      "cell_type": "code",
      "metadata": {
        "id": "25Dk1w5jADPv"
      },
      "source": [
        "class Solution:\n",
        "    def solve(self, text, word0, word1):\n",
        "        words = text.split(\" \")\n",
        "\n",
        "        last_w0 = -1\n",
        "        last_w1 = -1\n",
        "        dist = -1\n",
        "\n",
        "        for w, word in enumerate(words):\n",
        "            if word == word0:\n",
        "                if last_w1 != -1 and (dist == -1 or dist > w - last_w1):\n",
        "                    dist = w - last_w1 - 1\n",
        "                    if dist == 0:\n",
        "                        return 0\n",
        "                last_w0 = w\n",
        "            if word == word1:\n",
        "                if last_w0 != -1 and (dist == -1 or dist > w - last_w0):\n",
        "                    dist = w - last_w0 - 1\n",
        "                    if dist == 0:\n",
        "                        return 0\n",
        "                last_w1 = w\n",
        "\n",
        "        if last_w0 == -1 or last_w1 == -1:\n",
        "            return -1\n",
        "\n",
        "        else:\n",
        "            return dist\n"
      ],
      "execution_count": null,
      "outputs": []
    }
  ]
}