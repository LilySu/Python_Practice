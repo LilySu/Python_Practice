{
  "nbformat": 4,
  "nbformat_minor": 0,
  "metadata": {
    "colab": {
      "name": "HackerRank_Mark_and_Toys.ipynb",
      "provenance": [],
      "authorship_tag": "ABX9TyNGz11gWPvuZhSQS/IaLyVi",
      "include_colab_link": true
    },
    "kernelspec": {
      "name": "python3",
      "display_name": "Python 3"
    }
  },
  "cells": [
    {
      "cell_type": "markdown",
      "metadata": {
        "id": "view-in-github",
        "colab_type": "text"
      },
      "source": [
        "<a href=\"https://colab.research.google.com/github/LilySu/Python_Practice/blob/master/HackerRank_Mark_and_Toys.ipynb\" target=\"_parent\"><img src=\"https://colab.research.google.com/assets/colab-badge.svg\" alt=\"Open In Colab\"/></a>"
      ]
    },
    {
      "cell_type": "markdown",
      "metadata": {
        "id": "88awiIdNxAKn"
      },
      "source": [
        "Mark and Jane are very happy after having their first child. Their son loves toys, so Mark wants to buy some. There are a number of different toys lying in front of him, tagged with their prices. Mark has only a certain amount to spend, and he wants to maximize the number of toys he buys with this money.\n",
        "\n",
        "Given a list of prices and an amount to spend, what is the maximum number of toys Mark can buy? For example, if  and Mark has  to spend, he can buy items  for , or  for  units of currency. He would choose the first group of  items.\n",
        "\n",
        "Function Description\n",
        "\n",
        "Complete the function maximumToys in the editor below. It should return an integer representing the maximum number of toys Mark can purchase.\n",
        "\n",
        "maximumToys has the following parameter(s):\n",
        "\n",
        "prices: an array of integers representing toy prices\n",
        "k: an integer, Mark's budget\n",
        "Input Format\n",
        "\n",
        "The first line contains two integers,  and , the number of priced toys and the amount Mark has to spend.\n",
        "The next line contains  space-separated integers \n",
        "```\n",
        "Constraints\n",
        "\n",
        "\n",
        "\n",
        "\n",
        "A toy can't be bought multiple times.\n",
        "\n",
        "Output Format\n",
        "\n",
        "An integer that denotes the maximum number of toys Mark can buy for his son.\n",
        "\n",
        "Sample Input\n",
        "\n",
        "7 50\n",
        "1 12 5 111 200 1000 10\n",
        "Sample Output\n",
        "\n",
        "4\n",
        "Explanation\n",
        "\n",
        "He can buy only  toys at most. These toys have the following prices: .\n",
        "```"
      ]
    },
    {
      "cell_type": "code",
      "metadata": {
        "id": "vM-egT4JxaQa"
      },
      "source": [
        "# notes\n",
        "\n",
        "# observation: numbers go very high\n",
        "\n",
        "# we can sort lowest to highest, so we don't consider the highest\n",
        "# iterate over prices\n",
        "# keep subtracting toy price\n",
        "# increment counter\n",
        "# once run out of money, then done. "
      ],
      "execution_count": null,
      "outputs": []
    },
    {
      "cell_type": "code",
      "metadata": {
        "id": "Yh3CMlujw_Ym"
      },
      "source": [
        "#!/bin/python3\n",
        "\n",
        "import math\n",
        "import os\n",
        "import random\n",
        "import re\n",
        "import sys\n",
        "\n",
        "# Complete the maximumToys function below.\n",
        "def maximumToys(prices, k):\n",
        "    prices.sort()\n",
        "    counter = 0\n",
        "    for price in prices:\n",
        "        if k >= price:\n",
        "            k -= price # keep subtrating toy price\n",
        "            counter += 1 # increment counter per toy bought\n",
        "        else:\n",
        "            break # greedy algorithmn - only do what you need. a little more optimal real life loops to be done\n",
        "    return counter # return when we went through all the items\n",
        "\n",
        "if __name__ == '__main__':\n",
        "    fptr = open(os.environ['OUTPUT_PATH'], 'w')\n",
        "\n",
        "    nk = input().split()\n",
        "\n",
        "    n = int(nk[0])\n",
        "\n",
        "    k = int(nk[1])\n",
        "\n",
        "    prices = list(map(int, input().rstrip().split()))\n",
        "\n",
        "    result = maximumToys(prices, k)\n",
        "\n",
        "    fptr.write(str(result) + '\\n')\n",
        "\n",
        "    fptr.close()\n"
      ],
      "execution_count": null,
      "outputs": []
    }
  ]
}