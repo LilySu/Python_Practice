{
  "nbformat": 4,
  "nbformat_minor": 0,
  "metadata": {
    "colab": {
      "name": "Hackerrank_Sorting: Comparator.ipynb",
      "provenance": [],
      "authorship_tag": "ABX9TyOaaLpd1cKwYy3fe7UtRJR0",
      "include_colab_link": true
    },
    "kernelspec": {
      "name": "python3",
      "display_name": "Python 3"
    }
  },
  "cells": [
    {
      "cell_type": "markdown",
      "metadata": {
        "id": "view-in-github",
        "colab_type": "text"
      },
      "source": [
        "<a href=\"https://colab.research.google.com/github/LilySu/Python_Practice/blob/master/Hackerrank_Sorting_Comparator.ipynb\" target=\"_parent\"><img src=\"https://colab.research.google.com/assets/colab-badge.svg\" alt=\"Open In Colab\"/></a>"
      ]
    },
    {
      "cell_type": "markdown",
      "metadata": {
        "id": "EroExOFV5IEr"
      },
      "source": [
        "Comparators are used to compare two objects. In this challenge, you'll create a comparator and use it to sort an array. The Player class is provided in the editor below. It has two fields:\n",
        "\n",
        ": a string.\n",
        ": an integer.\n",
        "Given an array of  Player objects, write a comparator that sorts them in order of decreasing score. If  or more players have the same score, sort those players alphabetically ascending by name. To do this, you must create a Checker class that implements the Comparator interface, then write an int compare(Player a, Player b) method implementing the Comparator.compare(T o1, T o2) method. In short, when sorting in ascending order, a comparator function returns  if ,  if , and  if .\n",
        "\n",
        "For example, given  Player objects with  values of , we want to sort the list as .\n",
        "\n",
        "Function Description\n",
        "\n",
        "Declare a Checker class that implements the comparator method as described. It should sort first descending by score, then ascending by name. The code stub reads the input, creates a list of Player objects, uses your method to sort the data, and prints it out properly.\n",
        "\n",
        "Input Format\n",
        "\n",
        "Locked stub code in the Solution class handles the following input from stdin:\n",
        "\n",
        "The first line contains an integer, , the number of players.\n",
        "Each of the next  lines contains a player's respective  and , a string and an integer.\n",
        "\n",
        "Constraints\n",
        "\n",
        "Two or more players can have the same name.\n",
        "Player names consist of lowercase English alphabetic letters.\n",
        "Output Format\n",
        "\n",
        "You are not responsible for printing any output to stdout. Locked stub code in Solution will create a Checker object, use it to sort the Player array, and print each sorted element.\n",
        "```\n",
        "Sample Input\n",
        "\n",
        "5\n",
        "amy 100\n",
        "david 100\n",
        "heraldo 50\n",
        "aakansha 75\n",
        "aleksa 150\n",
        "Sample Output\n",
        "\n",
        "aleksa 150\n",
        "amy 100\n",
        "david 100\n",
        "aakansha 75\n",
        "heraldo 50\n",
        "Explanation\n",
        "\n",
        "As you can see, the players are first sorted by decreasing score and then sorted alphabetically by name.\n",
        "```"
      ]
    },
    {
      "cell_type": "code",
      "metadata": {
        "id": "2XbCnNsm5BYh"
      },
      "source": [
        "from functools import cmp_to_key\n",
        "class Player:\n",
        "    def __init__(self, name, score):\n",
        "        \n",
        "    def __repr__(self):\n",
        "        \n",
        "    def comparator(a, b): # sort ascending, sort ascending by name\n",
        "        # compare scores\n",
        "        # if a < b, return -1\n",
        "        # if b > a, return 1\n",
        "        # if a = b, return 0\n",
        "        # compare names\n",
        "        # if a's name is less than b's name\n",
        "        # a comes first return -1\n",
        "        # if we didn't return anything they have same name, same score return 0"
      ],
      "execution_count": null,
      "outputs": []
    },
    {
      "cell_type": "code",
      "metadata": {
        "id": "gpnUg7Eh72VM"
      },
      "source": [
        "from functools import cmp_to_key\n",
        "class Player:\n",
        "    def __init__(self, name, score):\n",
        "        self.name = name\n",
        "        self.score = score\n",
        "    def __repr__(self):\n",
        "        return \"\"\n",
        "    def comparator(a, b):\n",
        "        # compare scores\n",
        "        if a.score > b.score:\n",
        "            return -1\n",
        "        elif a.score < b.score:\n",
        "            return 1\n",
        "            # if a's score is higher\n",
        "                # return -1\n",
        "            # if b'a score is higher\n",
        "                # return 1\n",
        "        \n",
        "        if a.name > b.name:\n",
        "            return 1\n",
        "        elif a.name < b.name:\n",
        "            return -1\n",
        "        # compare the names\n",
        "            # if a's name is less than b's name\n",
        "                # return -1\n",
        "            # if b's name is less than a's name\n",
        "                # return 1\n",
        "        \n",
        "        return 0"
      ],
      "execution_count": null,
      "outputs": []
    }
  ]
}