{
  "nbformat": 4,
  "nbformat_minor": 0,
  "metadata": {
    "colab": {
      "name": "BinarySearch_Transpose_of_a_Matrix.ipynb",
      "provenance": [],
      "authorship_tag": "ABX9TyP+bWJbeDuP7U/jIB9u+/Ye",
      "include_colab_link": true
    },
    "kernelspec": {
      "name": "python3",
      "display_name": "Python 3"
    }
  },
  "cells": [
    {
      "cell_type": "markdown",
      "metadata": {
        "id": "view-in-github",
        "colab_type": "text"
      },
      "source": [
        "<a href=\"https://colab.research.google.com/github/LilySu/Python_Practice/blob/master/BinarySearch_Transpose_of_a_Matrix.ipynb\" target=\"_parent\"><img src=\"https://colab.research.google.com/assets/colab-badge.svg\" alt=\"Open In Colab\"/></a>"
      ]
    },
    {
      "cell_type": "markdown",
      "metadata": {
        "id": "YIRSJOEz2fPt"
      },
      "source": [
        "Given an integer square (n by n) matrix, return its transpose. A transpose of a matrix switches the row and column indices. That is, for every r and c, matrix[r][c] = matrix[c][r].\n",
        "```\n",
        "For example, given matrix\n",
        "\n",
        "[1, 2, 3]\n",
        "[4, 5, 6]\n",
        "[7, 8, 9]\n",
        "it becomes\n",
        "\n",
        "[1, 4, 7]\n",
        "[2, 5, 8]\n",
        "[3, 6, 9]\n",
        "Constraints\n",
        "\n",
        "n ≤ 100\n",
        "Example 1\n",
        "Input\n",
        "\n",
        "matrix = [\n",
        "    [1, 2, 3],\n",
        "    [4, 5, 6],\n",
        "    [7, 8, 9]\n",
        "]\n",
        "Output\n",
        "\n",
        "[\n",
        "    [1, 4, 7],\n",
        "    [2, 5, 8],\n",
        "    [3, 6, 9]\n",
        "]\n",
        "```"
      ]
    },
    {
      "cell_type": "code",
      "metadata": {
        "id": "2JmIlAIQ1e6T"
      },
      "source": [
        "class Solution:\n",
        "    def solve(self, matrix):\n",
        "        new_matrix = [[0 for i in range(len(matrix))] for i in range(len(matrix))]\n",
        "        print(new_matrix)\n",
        "        for row in range(len(matrix)):\n",
        "            for cell in range(len(matrix[row])):\n",
        "                new_matrix[row][cell] = matrix[cell][row]\n",
        "        return new_matrix"
      ],
      "execution_count": null,
      "outputs": []
    },
    {
      "cell_type": "code",
      "metadata": {
        "id": "vDVEe6KTz4Yt"
      },
      "source": [
        "class Solution:\n",
        "    def solve(self, matrix):\n",
        "        result = []\n",
        "        length = len(matrix)\n",
        "        counter = 0\n",
        "        while counter < length:\n",
        "            for row in matrix:\n",
        "                result.apend(row[counter])\n",
        "            counter += 1\n",
        "        i = 0\n",
        "        n = len(matrix[0])\n",
        "        final = []\n",
        "        while i < len(result):\n",
        "            final.append(result[i:i + length])\n",
        "            i += length \n",
        "        return final"
      ],
      "execution_count": null,
      "outputs": []
    },
    {
      "cell_type": "code",
      "metadata": {
        "colab": {
          "base_uri": "https://localhost:8080/"
        },
        "id": "tUejCLfW2GIo",
        "outputId": "d9d4abab-aee3-474e-ddc0-2909cac53a83"
      },
      "source": [
        "matrix = [\n",
        "    [1, 2, 3],\n",
        "    [4, 5, 6],\n",
        "    [7, 8, 9]\n",
        "]\n",
        "print(list(zip(*matrix)))"
      ],
      "execution_count": 2,
      "outputs": [
        {
          "output_type": "stream",
          "text": [
            "[(1, 4, 7), (2, 5, 8), (3, 6, 9)]\n"
          ],
          "name": "stdout"
        }
      ]
    },
    {
      "cell_type": "code",
      "metadata": {
        "colab": {
          "base_uri": "https://localhost:8080/"
        },
        "id": "5_B7WbOZ2Lzp",
        "outputId": "664bf070-4f02-4966-fd58-c40748b51e9b"
      },
      "source": [
        "matrix = [\n",
        "    [1, 2, 3],\n",
        "    [4, 5, 6],\n",
        "    [7, 8, 9]\n",
        "]\n",
        "print(*matrix)"
      ],
      "execution_count": 4,
      "outputs": [
        {
          "output_type": "stream",
          "text": [
            "[1, 2, 3] [4, 5, 6] [7, 8, 9]\n"
          ],
          "name": "stdout"
        }
      ]
    },
    {
      "cell_type": "code",
      "metadata": {
        "id": "I8DhsPaK2USh"
      },
      "source": [
        "# The star spreads the matrix and passes each list as an individual argument.\n",
        "\n",
        "class Solution:\n",
        "    def solve(self, matrix):\n",
        "        return list(zip(*matrix))"
      ],
      "execution_count": null,
      "outputs": []
    }
  ]
}