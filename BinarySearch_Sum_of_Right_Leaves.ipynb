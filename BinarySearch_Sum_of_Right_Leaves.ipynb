{
  "nbformat": 4,
  "nbformat_minor": 0,
  "metadata": {
    "colab": {
      "name": "BinarySearch_Sum of Right Leaves.ipynb",
      "provenance": [],
      "authorship_tag": "ABX9TyOe69emvjYgKT52OevC7V0s",
      "include_colab_link": true
    },
    "kernelspec": {
      "name": "python3",
      "display_name": "Python 3"
    }
  },
  "cells": [
    {
      "cell_type": "markdown",
      "metadata": {
        "id": "view-in-github",
        "colab_type": "text"
      },
      "source": [
        "<a href=\"https://colab.research.google.com/github/LilySu/Python_Practice/blob/master/BinarySearch_Sum_of_Right_Leaves.ipynb\" target=\"_parent\"><img src=\"https://colab.research.google.com/assets/colab-badge.svg\" alt=\"Open In Colab\"/></a>"
      ]
    },
    {
      "cell_type": "markdown",
      "metadata": {
        "id": "Dvry9aPDotGC"
      },
      "source": [
        "Given a binary tree root, return the sum of all leaves that are right children.\r\n",
        "```\r\n",
        "Constraints\r\n",
        "\r\n",
        "n ≤ 100,000 where n is the number of nodes in root\r\n",
        "Example 1\r\n",
        "Input\r\n",
        "Visualize\r\n",
        "root =\r\n",
        "0\r\n",
        "\r\n",
        "4\r\n",
        "\r\n",
        "2\r\n",
        "\r\n",
        "1\r\n",
        "\r\n",
        "7\r\n",
        "\r\n",
        "6\r\n",
        "\r\n",
        "3\r\n",
        "\r\n",
        "Output\r\n",
        "10\r\n",
        "Explanation\r\n",
        "Since 7 + 3 = 10.\r\n",
        "\r\n",
        "Example 2\r\n",
        "Input\r\n",
        "Visualize\r\n",
        "root =\r\n",
        "9\r\n",
        "\r\n",
        "3\r\n",
        "\r\n",
        "8\r\n",
        "\r\n",
        "1\r\n",
        "\r\n",
        "2\r\n",
        "\r\n",
        "5\r\n",
        "\r\n",
        "Output\r\n",
        "2```"
      ]
    },
    {
      "cell_type": "code",
      "metadata": {
        "id": "71QQOmcBoqJV"
      },
      "source": [
        "# class Tree:\r\n",
        "#     def __init__(self, val, left=None, right=None):\r\n",
        "#         self.val = val\r\n",
        "#         self.left = left\r\n",
        "#         self.right = right\r\n",
        "class Solution:\r\n",
        "    def solve(self, root):\r\n",
        "        if not root:\r\n",
        "            return 0\r\n",
        "        # as long as root.right exists\r\n",
        "        if root.right and root.right.left == root.right.right:\r\n",
        "            return root.right.val + self.solve(root.left)\r\n",
        "        return self.solve(root.right) + self.solve(root.left)"
      ],
      "execution_count": null,
      "outputs": []
    },
    {
      "cell_type": "code",
      "metadata": {
        "id": "dNAjuKoMoNbB"
      },
      "source": [
        "class Solution:\r\n",
        "    def solve(self, root):\r\n",
        "        if root is None:\r\n",
        "            return 0 \r\n",
        "        if root.right is not None:\r\n",
        "            if root.right.left is None and root.right.right is None:\r\n",
        "                return root.right.val + self.solve(root.left)\r\n",
        "        return self.solve(root.right) + self.solve(root.left)"
      ],
      "execution_count": null,
      "outputs": []
    }
  ]
}