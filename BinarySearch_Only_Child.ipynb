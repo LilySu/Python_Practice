{
  "nbformat": 4,
  "nbformat_minor": 0,
  "metadata": {
    "colab": {
      "name": "BinarySearch_Only_Child.ipynb",
      "provenance": [],
      "authorship_tag": "ABX9TyNf15+rN++mKJ5njaLYRzfY",
      "include_colab_link": true
    },
    "kernelspec": {
      "name": "python3",
      "display_name": "Python 3"
    }
  },
  "cells": [
    {
      "cell_type": "markdown",
      "metadata": {
        "id": "view-in-github",
        "colab_type": "text"
      },
      "source": [
        "<a href=\"https://colab.research.google.com/github/LilySu/Python_Practice/blob/master/BinarySearch_Only_Child.ipynb\" target=\"_parent\"><img src=\"https://colab.research.google.com/assets/colab-badge.svg\" alt=\"Open In Colab\"/></a>"
      ]
    },
    {
      "cell_type": "markdown",
      "metadata": {
        "id": "s-k9QaboXcrN"
      },
      "source": [
        "Given a binary tree root, return the number of nodes that are an only child. A node x is an only child if its parent has exactly one child (x).\r\n",
        "```\r\n",
        "Constraints\r\n",
        "\r\n",
        "n ≤ 100,000 where n is the number of nodes in root\r\n",
        "Example 1\r\n",
        "Input\r\n",
        "Visualize\r\n",
        "root = [0, [4, null, null], [2, [1, [3, null, null], null], null]]\r\n",
        "Output\r\n",
        "2\r\n",
        "Explanation\r\n",
        "Node 1 is an only child and 3 is an only child.\r\n",
        "\r\n",
        "Example 2\r\n",
        "Input\r\n",
        "Visualize\r\n",
        "root = [1, null, [3, [1, null, null], [1, null, null]]]\r\n",
        "Output\r\n",
        "1\r\n",
        "Explanation\r\n",
        "Node 3 is an only child\r\n",
        "```"
      ]
    },
    {
      "cell_type": "code",
      "metadata": {
        "id": "DEw8I4-eXb5H"
      },
      "source": [
        "# class Tree:\r\n",
        "#     def __init__(self, val, left=None, right=None):\r\n",
        "#         self.val = val\r\n",
        "#         self.left = left\r\n",
        "#         self.right = right\r\n",
        "class Solution:\r\n",
        "    def solve(self, root):\r\n",
        "        head = root\r\n",
        "        def traverse(head):\r\n",
        "            counter = 0\r\n",
        "            if head is None:\r\n",
        "                return 0\r\n",
        "            # if there is a left or right\r\n",
        "            if (head.left and not head.right) or (head.right and not head.left):\r\n",
        "                # increment counter\r\n",
        "                counter += 1\r\n",
        "            counter += self.solve(head.right) + self.solve(head.left)\r\n",
        "            return counter\r\n",
        "        return traverse(head)\r\n",
        "        "
      ],
      "execution_count": null,
      "outputs": []
    },
    {
      "cell_type": "code",
      "metadata": {
        "id": "CgcPjlInX295"
      },
      "source": [
        "# class Tree:\r\n",
        "#     def __init__(self, val, left=None, right=None):\r\n",
        "#         self.val = val\r\n",
        "#         self.left = left\r\n",
        "#         self.right = right\r\n",
        "class Solution:\r\n",
        "    def solve(self, root):\r\n",
        "        head = root\r\n",
        "        counter = 0\r\n",
        "        if head is None:\r\n",
        "            return 0\r\n",
        "        # if there is a left or right\r\n",
        "        if (head.left and not head.right) or (head.right and not head.left):\r\n",
        "            # increment counter\r\n",
        "            counter += 1\r\n",
        "        counter += self.solve(head.right) + self.solve(head.left)\r\n",
        "        return counter"
      ],
      "execution_count": null,
      "outputs": []
    }
  ]
}