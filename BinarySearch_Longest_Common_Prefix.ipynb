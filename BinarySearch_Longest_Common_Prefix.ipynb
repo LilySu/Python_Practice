{
  "nbformat": 4,
  "nbformat_minor": 0,
  "metadata": {
    "colab": {
      "name": "BinarySearch_Longest Common Prefix.ipynb",
      "provenance": [],
      "authorship_tag": "ABX9TyNZqDBIAb//Txliw7mgFJ1p",
      "include_colab_link": true
    },
    "kernelspec": {
      "name": "python3",
      "display_name": "Python 3"
    }
  },
  "cells": [
    {
      "cell_type": "markdown",
      "metadata": {
        "id": "view-in-github",
        "colab_type": "text"
      },
      "source": [
        "<a href=\"https://colab.research.google.com/github/LilySu/Python_Practice/blob/master/BinarySearch_Longest_Common_Prefix.ipynb\" target=\"_parent\"><img src=\"https://colab.research.google.com/assets/colab-badge.svg\" alt=\"Open In Colab\"/></a>"
      ]
    },
    {
      "cell_type": "markdown",
      "metadata": {
        "id": "VseuJwQvhgXs"
      },
      "source": [
        "Given a list of lowercase alphabet strings words, return the longest common prefix.\n",
        "```\n",
        "Example 1\n",
        "Input\n",
        "\n",
        "words = [\"anthony\", \"ant\", \"antigravity\"]\n",
        "Output\n",
        "\n",
        "\"ant\"\n",
        "Explanation\n",
        "\n",
        "\"ant\" is the longest common prefix between the three strings.\n",
        "```"
      ]
    },
    {
      "cell_type": "code",
      "metadata": {
        "id": "o6piIY4bheTS"
      },
      "source": [
        "class Solution:\n",
        "    def solve(self, words):\n",
        "        min = float(\"inf\")\n",
        "        smallest = \"\"\n",
        "        for word in words:\n",
        "            if len(word) < min:\n",
        "                min = len(word)\n",
        "                smallest = word\n",
        "        substr = \"\"\n",
        "        smallest = sorted(smallest)\n",
        "        words.sort()\n",
        "        for word in words:\n",
        "            for k in smallest:\n",
        "                if k in word:\n",
        "                    if k not in substr:\n",
        "                        substr += k\n",
        "        \n",
        "            print(substr)\n",
        "            return substr"
      ],
      "execution_count": null,
      "outputs": []
    },
    {
      "cell_type": "code",
      "metadata": {
        "id": "xh2IDJKShaA1"
      },
      "source": [
        "# No need to check every word. Check the lexicographically smallest against the largest. This can be done by calling min(words)/max(words). This represents the furthest the two words can be different from one another.\n",
        "\n",
        "# Next check the commonality between the two words and build answer.\n",
        "\n",
        "# 100% faster than all (python) solutions.\n",
        "\n",
        "class Solution:\n",
        "    def solve(self, words):\n",
        "        p = \"\"\n",
        "        for i, j in zip(min(words), max(words)):\n",
        "            if i != j:\n",
        "                break\n",
        "            p += i\n",
        "\n",
        "        return p"
      ],
      "execution_count": null,
      "outputs": []
    },
    {
      "cell_type": "code",
      "metadata": {
        "id": "cxSOLpOThRq_"
      },
      "source": [
        "# We can compare characters at the same position by zipping them together, and to check if they're all equal we can check that the set of characters is length 1.\n",
        "\n",
        "class Solution:\n",
        "    def solve(self, words):\n",
        "        ans = \"\"\n",
        "        for x in zip(*words):\n",
        "            if len(set(x)) == 1:\n",
        "                ans += x[0]\n",
        "            else:\n",
        "                break\n",
        "        return ans\n"
      ],
      "execution_count": null,
      "outputs": []
    }
  ]
}