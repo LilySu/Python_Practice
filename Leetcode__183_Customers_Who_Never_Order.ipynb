{
  "nbformat": 4,
  "nbformat_minor": 0,
  "metadata": {
    "colab": {
      "name": "Leetcode_#183_Customers_Who_Never_Order.ipynb",
      "provenance": [],
      "authorship_tag": "ABX9TyPe7icooIYC893IrXdflXih",
      "include_colab_link": true
    },
    "kernelspec": {
      "name": "python3",
      "display_name": "Python 3"
    }
  },
  "cells": [
    {
      "cell_type": "markdown",
      "metadata": {
        "id": "view-in-github",
        "colab_type": "text"
      },
      "source": [
        "<a href=\"https://colab.research.google.com/github/LilySu/Python_Practice/blob/master/Leetcode__183_Customers_Who_Never_Order.ipynb\" target=\"_parent\"><img src=\"https://colab.research.google.com/assets/colab-badge.svg\" alt=\"Open In Colab\"/></a>"
      ]
    },
    {
      "cell_type": "markdown",
      "metadata": {
        "id": "JX_6Qn1bbzCe",
        "colab_type": "text"
      },
      "source": [
        "Suppose that a website contains two tables, the Customers table and the Orders table. Write a SQL query to find all customers who never order anything.\n",
        "\n",
        "Table: Customers.\n",
        "```\n",
        "+----+-------+\n",
        "| Id | Name  |\n",
        "+----+-------+\n",
        "| 1  | Joe   |\n",
        "| 2  | Henry |\n",
        "| 3  | Sam   |\n",
        "| 4  | Max   |\n",
        "+----+-------+\n",
        "Table: Orders.\n",
        "\n",
        "+----+------------+\n",
        "| Id | CustomerId |\n",
        "+----+------------+\n",
        "| 1  | 3          |\n",
        "| 2  | 1          |\n",
        "+----+------------+\n",
        "Using the above tables as example, return the following:\n",
        "\n",
        "+-----------+\n",
        "| Customers |\n",
        "+-----------+\n",
        "| Henry     |\n",
        "| Max       |\n",
        "+-----------+\n",
        "```"
      ]
    },
    {
      "cell_type": "code",
      "metadata": {
        "id": "g5RoAaUhbyMz",
        "colab_type": "code",
        "colab": {}
      },
      "source": [
        "SELECT Name AS 'Customers'\n",
        "FROM Customers\n",
        "LEFT JOIN Orders\n",
        "ON Customers.Id = Orders.CustomerId\n",
        "WHERE Orders.CustomerId IS NULL"
      ],
      "execution_count": null,
      "outputs": []
    }
  ]
}