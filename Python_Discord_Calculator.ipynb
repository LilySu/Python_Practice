{
  "nbformat": 4,
  "nbformat_minor": 0,
  "metadata": {
    "colab": {
      "name": "Python_Discord_Calculator.ipynb",
      "provenance": [],
      "authorship_tag": "ABX9TyPHyTJmVHdz8E3zAYFwq1ln",
      "include_colab_link": true
    },
    "kernelspec": {
      "name": "python3",
      "display_name": "Python 3"
    }
  },
  "cells": [
    {
      "cell_type": "markdown",
      "metadata": {
        "id": "view-in-github",
        "colab_type": "text"
      },
      "source": [
        "<a href=\"https://colab.research.google.com/github/LilySu/Python_Practice/blob/master/Python_Discord_Calculator.ipynb\" target=\"_parent\"><img src=\"https://colab.research.google.com/assets/colab-badge.svg\" alt=\"Open In Colab\"/></a>"
      ]
    },
    {
      "cell_type": "code",
      "metadata": {
        "colab": {
          "base_uri": "https://localhost:8080/"
        },
        "id": "-yl4YBtXr4Ww",
        "outputId": "f3c91619-b7f6-4897-ae97-b302e8291aaf"
      },
      "source": [
        "def calculator1():\r\n",
        "    try:\r\n",
        "        num1 = float(input(\"enter your first number: \"))\r\n",
        "        num2 = float(input(\"enter your second number: \"))\r\n",
        "    except ZeroDivisionError:\r\n",
        "        print(\"Zero is not a number!\\n\")\r\n",
        "        print(num1/num2)\r\n",
        "\r\n",
        "    # while True:\r\n",
        "    #     try:\r\n",
        "    #         num2 = float(input(\"enter your second number : \"))\r\n",
        "    #     except ZeroDivisionError:\r\n",
        "    #         print(\"Hey! Didn't i tell you zero is not a number!\\n\")\r\n",
        "    #     else:\r\n",
        "    #         break\r\n",
        "\r\n",
        "calculator1()"
      ],
      "execution_count": 12,
      "outputs": [
        {
          "output_type": "stream",
          "text": [
            "enter your first number: 3\n",
            "enter your second number: 0\n"
          ],
          "name": "stdout"
        }
      ]
    },
    {
      "cell_type": "code",
      "metadata": {
        "colab": {
          "base_uri": "https://localhost:8080/"
        },
        "id": "lkNLaWy-sAm7",
        "outputId": "5fb38c7f-1358-45d8-d413-7c6388047b02"
      },
      "source": [
        "def calculator1(x, y):\r\n",
        "    try:\r\n",
        "        num1 = x\r\n",
        "        num2 = y\r\n",
        "        result = num1/num2\r\n",
        "        return result\r\n",
        "    except ZeroDivisionError:\r\n",
        "        print(\"Zero is not a number!\\n\")\r\n",
        "calculator1(3,0)"
      ],
      "execution_count": 32,
      "outputs": [
        {
          "output_type": "stream",
          "text": [
            "Zero is not a number!\n",
            "\n"
          ],
          "name": "stdout"
        }
      ]
    },
    {
      "cell_type": "code",
      "metadata": {
        "id": "fQzbHldnteK_"
      },
      "source": [
        ""
      ],
      "execution_count": null,
      "outputs": []
    }
  ]
}