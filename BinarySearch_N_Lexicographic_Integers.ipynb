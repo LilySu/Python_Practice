{
  "nbformat": 4,
  "nbformat_minor": 0,
  "metadata": {
    "colab": {
      "name": "BinarySearch_N Lexicographic Integers.ipynb",
      "provenance": [],
      "authorship_tag": "ABX9TyNhAh8dmEt1J0Y4gi9L1tSm",
      "include_colab_link": true
    },
    "kernelspec": {
      "name": "python3",
      "display_name": "Python 3"
    }
  },
  "cells": [
    {
      "cell_type": "markdown",
      "metadata": {
        "id": "view-in-github",
        "colab_type": "text"
      },
      "source": [
        "<a href=\"https://colab.research.google.com/github/LilySu/Python_Practice/blob/master/BinarySearch_N_Lexicographic_Integers.ipynb\" target=\"_parent\"><img src=\"https://colab.research.google.com/assets/colab-badge.svg\" alt=\"Open In Colab\"/></a>"
      ]
    },
    {
      "cell_type": "markdown",
      "metadata": {
        "id": "K6-vxWJY6gX7"
      },
      "source": [
        " Lexicographic Integers\r\n",
        "Given an integer n, return first n integers sorted in lexicographic order.\r\n",
        "```\r\n",
        "Example 1\r\n",
        "Input\r\n",
        "n = 12\r\n",
        "Output\r\n",
        "[1, 10, 11, 12, 2, 3, 4, 5, 6, 7, 8, 9]\r\n",
        "```"
      ]
    },
    {
      "cell_type": "code",
      "metadata": {
        "id": "gur0htTi5QbR"
      },
      "source": [
        "class Solution:\r\n",
        "    def solve(self, n):\r\n",
        "        nums_list = []\r\n",
        "        for num in range(1, n + 1):\r\n",
        "            # convert to string\r\n",
        "            nums_list.append(str(num))\r\n",
        "            # convert digits to int\r\n",
        "        nums_list.sort()\r\n",
        "        return [int(i) for i in nums_list]\r\n",
        "            "
      ],
      "execution_count": null,
      "outputs": []
    }
  ]
}