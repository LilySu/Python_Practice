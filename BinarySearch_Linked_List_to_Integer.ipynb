{
  "nbformat": 4,
  "nbformat_minor": 0,
  "metadata": {
    "colab": {
      "name": "BinarySearch_Linked List to Integer.ipynb",
      "provenance": [],
      "authorship_tag": "ABX9TyO7PRLFkPiYva+gphOE03jD",
      "include_colab_link": true
    },
    "kernelspec": {
      "name": "python3",
      "display_name": "Python 3"
    }
  },
  "cells": [
    {
      "cell_type": "markdown",
      "metadata": {
        "id": "view-in-github",
        "colab_type": "text"
      },
      "source": [
        "<a href=\"https://colab.research.google.com/github/LilySu/Python_Practice/blob/master/BinarySearch_Linked_List_to_Integer.ipynb\" target=\"_parent\"><img src=\"https://colab.research.google.com/assets/colab-badge.svg\" alt=\"Open In Colab\"/></a>"
      ]
    },
    {
      "cell_type": "markdown",
      "metadata": {
        "id": "PIHzqQX4CWQq"
      },
      "source": [
        "Given a single linked list node, representing a binary number with most significant digits first, return it as an integer.\n",
        "```\n",
        "Example 1\n",
        "Input\n",
        "\n",
        "node = 1 → 0 → 0\n",
        "Output\n",
        "\n",
        "4\n",
        "Explanation\n",
        "\n",
        "The linked list represented 100 in binary.\n",
        "```"
      ]
    },
    {
      "cell_type": "code",
      "metadata": {
        "id": "Mk8_Mj5jCSyE"
      },
      "source": [
        "# class LLNode:\n",
        "#     def __init__(self, val, next=None):\n",
        "#         self.val = val\n",
        "#         self.next = next\n",
        "class Solution:\n",
        "    def solve(self, node):\n",
        "        pstr = \"\"\n",
        "        p = node\n",
        "        while p:\n",
        "            pstr += (str(p.val))\n",
        "            p = p.next\n",
        "        return int(pstr, 2)"
      ],
      "execution_count": null,
      "outputs": []
    },
    {
      "cell_type": "code",
      "metadata": {
        "id": "z-kmyCySEFL2"
      },
      "source": [
        "# class LLNode:\n",
        "#     def __init__(self, val, next=None):\n",
        "#         self.val = val\n",
        "#         self.next = next\n",
        "class Solution:\n",
        "    def solve(self, node):\n",
        "        res = 0\n",
        "        while node:\n",
        "            res |= node.val\n",
        "            print(bin(res), node.val)\n",
        "            res <<= 1 # Bitwise left shift x = x << 5\n",
        "            node = node.next\n",
        "\n",
        "        return res >> 1 # Bitwise right shift\n"
      ],
      "execution_count": null,
      "outputs": []
    },
    {
      "cell_type": "code",
      "metadata": {
        "id": "Xm6T_enCEi_X",
        "outputId": "0754752b-a4f4-42b1-fce3-2d195bd9e338",
        "colab": {
          "base_uri": "https://localhost:8080/",
          "height": 35
        }
      },
      "source": [
        "bin(100)"
      ],
      "execution_count": 1,
      "outputs": [
        {
          "output_type": "execute_result",
          "data": {
            "application/vnd.google.colaboratory.intrinsic+json": {
              "type": "string"
            },
            "text/plain": [
              "'0b1100100'"
            ]
          },
          "metadata": {
            "tags": []
          },
          "execution_count": 1
        }
      ]
    },
    {
      "cell_type": "code",
      "metadata": {
        "id": "MF2jCbqMEj5O"
      },
      "source": [
        "# node = 1 → 0 → 0 \n",
        "solution = Solution()\n",
        "c = LLNode(0)\n",
        "second_node = LLNode(0, c)\n",
        "first_node = LLNode(1, b)\n",
        "solution.solve(a)"
      ],
      "execution_count": null,
      "outputs": []
    }
  ]
}