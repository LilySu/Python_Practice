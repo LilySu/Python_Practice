{
  "nbformat": 4,
  "nbformat_minor": 0,
  "metadata": {
    "colab": {
      "name": "BinarySearch_Twin_Trees.ipynb",
      "provenance": [],
      "authorship_tag": "ABX9TyMd+reMg8E3QQl3wUuQ3/Hl",
      "include_colab_link": true
    },
    "kernelspec": {
      "name": "python3",
      "display_name": "Python 3"
    }
  },
  "cells": [
    {
      "cell_type": "markdown",
      "metadata": {
        "id": "view-in-github",
        "colab_type": "text"
      },
      "source": [
        "<a href=\"https://colab.research.google.com/github/LilySu/Python_Practice/blob/master/BinarySearch_Twin_Trees.ipynb\" target=\"_parent\"><img src=\"https://colab.research.google.com/assets/colab-badge.svg\" alt=\"Open In Colab\"/></a>"
      ]
    },
    {
      "cell_type": "markdown",
      "metadata": {
        "id": "Gz86DbLY5SvV"
      },
      "source": [
        "Given two binary trees, root0 and root1, return whether their structure and values are equal.\r\n",
        "```\r\n",
        "Constraints\r\n",
        "\r\n",
        "n ≤ 100,000 where n is the number of nodes in root0\r\n",
        "m ≤ 100,000 where m is the number of nodes in root1\r\n",
        "Example 1\r\n",
        "Input\r\n",
        "Visualize Tree\r\n",
        "root0 =\r\n",
        "0\r\n",
        "\r\n",
        "5\r\n",
        "\r\n",
        "9\r\n",
        "\r\n",
        "root1 =\r\n",
        "0\r\n",
        "\r\n",
        "5\r\n",
        "\r\n",
        "9\r\n",
        "\r\n",
        "Output\r\n",
        "True\r\n",
        "Explanation\r\n",
        "These two trees have the same values and same structure.\r\n",
        "\r\n",
        "Example 2\r\n",
        "Input\r\n",
        "Visualize Tree\r\n",
        "root0 =\r\n",
        "0\r\n",
        "\r\n",
        "5\r\n",
        "\r\n",
        "9\r\n",
        "\r\n",
        "root1 =\r\n",
        "1\r\n",
        "\r\n",
        "2\r\n",
        "\r\n",
        "2\r\n",
        "\r\n",
        "Output\r\n",
        "False\r\n",
        "Explanation\r\n",
        "These two trees are not twins since their values are different.\r\n",
        "\r\n",
        "Example 3\r\n",
        "Input\r\n",
        "Visualize Tree\r\n",
        "root0 =\r\n",
        "0\r\n",
        "\r\n",
        "5\r\n",
        "\r\n",
        "root1 =\r\n",
        "0\r\n",
        "\r\n",
        "5\r\n",
        "\r\n",
        "Output\r\n",
        "False\r\n",
        "Explanation\r\n",
        "These two trees are not twins since their structure is different.\r\n",
        "```"
      ]
    },
    {
      "cell_type": "code",
      "metadata": {
        "id": "z2390jiJ5PIC"
      },
      "source": [
        "class Solution:\r\n",
        "    def solve(self, root0, root1):\r\n",
        "        if root0 is None and root1 is None:\r\n",
        "            return True\r\n",
        "        if root0 is None or root1 is None:\r\n",
        "            return False\r\n",
        "        return (root0 and root1) and (root0.val == root1.val) and self.solve(root0.right, root1.right) and self.solve(root0.left, root1.left)"
      ],
      "execution_count": null,
      "outputs": []
    }
  ]
}