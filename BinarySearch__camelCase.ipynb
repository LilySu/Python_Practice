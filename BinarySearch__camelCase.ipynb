{
  "nbformat": 4,
  "nbformat_minor": 0,
  "metadata": {
    "colab": {
      "name": "BinarySearch_ camelCase",
      "provenance": [],
      "authorship_tag": "ABX9TyPkfCuS8oyTXpll0/GnXyxW",
      "include_colab_link": true
    },
    "kernelspec": {
      "name": "python3",
      "display_name": "Python 3"
    }
  },
  "cells": [
    {
      "cell_type": "markdown",
      "metadata": {
        "id": "view-in-github",
        "colab_type": "text"
      },
      "source": [
        "<a href=\"https://colab.research.google.com/github/LilySu/Python_Practice/blob/master/BinarySearch__camelCase.ipynb\" target=\"_parent\"><img src=\"https://colab.research.google.com/assets/colab-badge.svg\" alt=\"Open In Colab\"/></a>"
      ]
    },
    {
      "cell_type": "markdown",
      "metadata": {
        "id": "CiW4T8AC8SNq"
      },
      "source": [
        "camelCase\n",
        "Given a list of strings words, concatenate the strings in camel case format.\n",
        "```\n",
        "Example 1\n",
        "Input\n",
        "\n",
        "words = [\"java\", \"beans\"]\n",
        "Output\n",
        "\n",
        "\"javaBeans\"\n",
        "Example 2\n",
        "Input\n",
        "\n",
        "words = [\"Go\", \"nasa\"]\n",
        "Output\n",
        "\n",
        "\"goNasa\"\n",
        "```"
      ]
    },
    {
      "cell_type": "code",
      "metadata": {
        "id": "EBSFKI0V8G22"
      },
      "source": [
        "class Solution:\n",
        "    def solve(self, words):\n",
        "        rstr = \"\"\n",
        "        c1 = words[0].lower()\n",
        "        rstr += c1\n",
        "        if len(words) > 1:\n",
        "            for i in range(1, len(words)):\n",
        "                c2 = words[i].capitalize()\n",
        "                rstr += c2\n",
        "        return rstr"
      ],
      "execution_count": null,
      "outputs": []
    },
    {
      "cell_type": "code",
      "metadata": {
        "id": "dEQQK-A38NBX"
      },
      "source": [
        "class Solution:\n",
        "    def solve(self, words):\n",
        "        words[0] = words[0].lower()\n",
        "        for i in range(1, len(words)):\n",
        "            words[i] = words[i].title()\n",
        "        return \"\".join(words)"
      ],
      "execution_count": null,
      "outputs": []
    }
  ]
}