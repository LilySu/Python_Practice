{
  "nbformat": 4,
  "nbformat_minor": 0,
  "metadata": {
    "colab": {
      "name": "Hackerrank_pairs_walkthrough.ipynb",
      "provenance": [],
      "authorship_tag": "ABX9TyPM4meSTU3gREcpjvuAasAr",
      "include_colab_link": true
    },
    "kernelspec": {
      "name": "python3",
      "display_name": "Python 3"
    }
  },
  "cells": [
    {
      "cell_type": "markdown",
      "metadata": {
        "id": "view-in-github",
        "colab_type": "text"
      },
      "source": [
        "<a href=\"https://colab.research.google.com/github/LilySu/Python_Practice/blob/master/Hackerrank_pairs_walkthrough.ipynb\" target=\"_parent\"><img src=\"https://colab.research.google.com/assets/colab-badge.svg\" alt=\"Open In Colab\"/></a>"
      ]
    },
    {
      "cell_type": "markdown",
      "metadata": {
        "id": "9GJB2Id61ryd",
        "colab_type": "text"
      },
      "source": [
        "You will be given an array of integers and a target value. Determine the number of pairs of array elements that have a difference equal to a target value.\n",
        "\n",
        "For example, given an array of [1, 2, 3, 4] and a target value of 1, we have three values meeting the condition: , , and .\n",
        "\n",
        "Function Description\n",
        "\n",
        "Complete the pairs function below. It must return an integer representing the number of element pairs having the required difference.\n",
        "\n",
        "pairs has the following parameter(s):\n",
        "\n",
        "k: an integer, the target difference\n",
        "arr: an array of integers\n",
        "Input Format\n",
        "\n",
        "The first line contains two space-separated integers  and , the size of  and the target value.\n",
        "The second line contains  space-separated integers of the array .\n",
        "\n",
        "Constraints\n",
        "\n",
        "each integer  will be unique\n",
        "Output Format\n",
        "\n",
        "An integer representing the number of pairs of integers whose difference is .\n",
        "\n",
        "Sample Input\n",
        "```\n",
        "5 2  \n",
        "1 5 3 4 2  \n",
        "Sample Output\n",
        "\n",
        "3\n",
        "```\n",
        "Explanation\n",
        "\n",
        "There are 3 pairs of integers in the set with a difference of 2: [5,3], [4,2] and [3,1] ."
      ]
    },
    {
      "cell_type": "code",
      "metadata": {
        "id": "vS_ssXAmocuI",
        "colab_type": "code",
        "colab": {
          "base_uri": "https://localhost:8080/",
          "height": 34
        },
        "outputId": "6609f962-65ce-496a-eb9e-0987bde09dd5"
      },
      "source": [
        "s = [1,3,5,7]\n",
        "print(set(s))"
      ],
      "execution_count": 2,
      "outputs": [
        {
          "output_type": "stream",
          "text": [
            "{1, 3, 5, 7}\n"
          ],
          "name": "stdout"
        }
      ]
    },
    {
      "cell_type": "code",
      "metadata": {
        "id": "fsINXDGyyYnL",
        "colab_type": "code",
        "colab": {}
      },
      "source": [
        "def pairs(k, arr):\n",
        "  # Use a Set:\n",
        "  # time: O(2n) -> O(n)\n",
        "  # space: O(n)\n",
        "  counter = 0\n",
        "  # convert array to Set\n",
        "  arr_set = set(arr)\n",
        "  # loop through our array\n",
        "  for val in arr:\n",
        "    # subtract target from each value in set\n",
        "    if val - k in arr_set:\n",
        "      counter += 1\n",
        "    # check if difference is in the set\n",
        "      # if so, increment counter\n",
        "      \n",
        "  return counter\n",
        "\n",
        "print(pairs(1, [2,3,4])) \n",
        "print(pairs(2, [1,3,5,7]))"
      ],
      "execution_count": null,
      "outputs": []
    }
  ]
}