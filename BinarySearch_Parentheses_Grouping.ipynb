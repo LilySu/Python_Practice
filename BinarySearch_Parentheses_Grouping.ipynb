{
  "nbformat": 4,
  "nbformat_minor": 0,
  "metadata": {
    "colab": {
      "name": "BinarySearch_Parentheses Grouping.ipynb",
      "provenance": [],
      "authorship_tag": "ABX9TyNgPf3MedeaDiiNhBIDyAem",
      "include_colab_link": true
    },
    "kernelspec": {
      "name": "python3",
      "display_name": "Python 3"
    }
  },
  "cells": [
    {
      "cell_type": "markdown",
      "metadata": {
        "id": "view-in-github",
        "colab_type": "text"
      },
      "source": [
        "<a href=\"https://colab.research.google.com/github/LilySu/Python_Practice/blob/master/BinarySearch_Parentheses_Grouping.ipynb\" target=\"_parent\"><img src=\"https://colab.research.google.com/assets/colab-badge.svg\" alt=\"Open In Colab\"/></a>"
      ]
    },
    {
      "cell_type": "markdown",
      "metadata": {
        "id": "GGZg57mXYTKy"
      },
      "source": [
        "Given a string s containing balanced parentheses \"(\" and \")\", split them into the maximum number of balanced groups.\n",
        "```\n",
        "Constraints\n",
        "\n",
        "n ≤ 100,000 where n is length of s.\n",
        "Example 1\n",
        "Input\n",
        "\n",
        "s = \"()()(()())\"\n",
        "Output\n",
        "\n",
        "[\"()\", \"()\", \"(()())\"]\n",
        "```"
      ]
    },
    {
      "cell_type": "code",
      "metadata": {
        "id": "ZMMJvA3tYbsM"
      },
      "source": [
        "class Solution:\n",
        "    def solve(self, s):\n",
        "        start = 0\n",
        "        count_p = 0\n",
        "        temp_str = \"\"\n",
        "        l = []\n",
        "        while start < (len(s) - 1):\n",
        "                \n",
        "            if s[start] == \"(\":\n",
        "                temp_str += s[start]\n",
        "                start += 1\n",
        "                count_p += 1\n",
        "                \n",
        "            else:\n",
        "                temp_str += s[start]\n",
        "                start += 1\n",
        "                count_p -= 1\n",
        "            \n",
        "            if count_p == 0: \n",
        "                l.append(temp_str)\n",
        "                temp_str = \"\"\n",
        "         \n",
        "        return l\n",
        "                "
      ],
      "execution_count": null,
      "outputs": []
    },
    {
      "cell_type": "code",
      "metadata": {
        "id": "W2Xnye25YNLL"
      },
      "source": [
        "class Solution:\n",
        "    def solve(self, s):\n",
        "        result = []\n",
        "        counter = 0\n",
        "        openCount = 0\n",
        "        closeCount = 0\n",
        "        tempString = \"\"\n",
        "        while counter < len(s):\n",
        "            if s[counter] == \"(\":\n",
        "                openCount += 1\n",
        "                tempString += \"(\"\n",
        "            elif s[counter] == \")\":\n",
        "                closeCount += 1\n",
        "                tempString += \")\"\n",
        "            if openCount == closeCount:\n",
        "                result.append(tempString)\n",
        "                tempString = \"\"\n",
        "                openCount = 0\n",
        "                closeCount = 0\n",
        "            counter += 1\n",
        "        return result\n"
      ],
      "execution_count": null,
      "outputs": []
    },
    {
      "cell_type": "code",
      "metadata": {
        "id": "W8xE0ot2ZhQ9"
      },
      "source": [
        "# Intuition\n",
        "# Maintain anchor, the leftmost index of the current group of parentheses.\n",
        "\n",
        "class Solution:\n",
        "    def solve(self, s):\n",
        "        ans = []\n",
        "        anchor = bal = 0\n",
        "        for i, c in enumerate(s):\n",
        "            bal += 1 if c == \"(\" else -1\n",
        "            if bal == 0:\n",
        "                ans.append(s[anchor : i + 1])\n",
        "                anchor = i + 1\n",
        "        return ans"
      ],
      "execution_count": null,
      "outputs": []
    }
  ]
}