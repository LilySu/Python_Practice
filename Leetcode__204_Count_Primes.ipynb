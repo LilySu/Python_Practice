{
  "nbformat": 4,
  "nbformat_minor": 0,
  "metadata": {
    "colab": {
      "name": "Leetcode_#204_Count_Primes.ipynb",
      "provenance": [],
      "authorship_tag": "ABX9TyPZCmajME52wi+bOBpAlVeN",
      "include_colab_link": true
    },
    "kernelspec": {
      "name": "python3",
      "display_name": "Python 3"
    }
  },
  "cells": [
    {
      "cell_type": "markdown",
      "metadata": {
        "id": "view-in-github",
        "colab_type": "text"
      },
      "source": [
        "<a href=\"https://colab.research.google.com/github/LilySu/Python_Practice/blob/master/Leetcode__204_Count_Primes.ipynb\" target=\"_parent\"><img src=\"https://colab.research.google.com/assets/colab-badge.svg\" alt=\"Open In Colab\"/></a>"
      ]
    },
    {
      "cell_type": "markdown",
      "metadata": {
        "id": "bDWqYkgdGrou"
      },
      "source": [
        "Count the number of prime numbers less than a non-negative number, n.\n",
        "\n",
        " \n",
        "```\n",
        "Example 1:\n",
        "\n",
        "Input: n = 10\n",
        "Output: 4\n",
        "Explanation: There are 4 prime numbers less than 10, they are 2, 3, 5, 7.\n",
        "Example 2:\n",
        "\n",
        "Input: n = 0\n",
        "Output: 0\n",
        "Example 3:\n",
        "\n",
        "Input: n = 1\n",
        "Output: 0\n",
        " \n",
        "\n",
        "Constraints:\n",
        "\n",
        "0 <= n <= 5 * 106\n",
        "```"
      ]
    },
    {
      "cell_type": "code",
      "metadata": {
        "id": "mRKM_dCzGpav"
      },
      "source": [
        "class Solution:\n",
        "    def countPrimes(self, n: int) -> int:\n",
        "        prime_counter = 0\n",
        "        for i in range(2, n):\n",
        "            if self.isPrime(i):\n",
        "                prime_counter += 1\n",
        "                \n",
        "        return prime_counter\n",
        "    \n",
        "    def isPrime(self, n: int) -> int:\n",
        "        # make sure we cover the case for 0 and 1 too\n",
        "        if n <= 1:\n",
        "            return False\n",
        "        # check all the numbers below n, and see if n is divisible by any of them\n",
        "        for i in range(2, n):\n",
        "          if n % i == 0:\n",
        "              return False\n",
        "        # if it's divisible by anything, then it's not prime,\n",
        "        # else it is prime\n",
        "        return True\n",
        "\n",
        "\n",
        "\n",
        "sol = Solution()\n",
        "print(sol.countPrimes(10))\n",
        "\n",
        "# n^2 time"
      ],
      "execution_count": null,
      "outputs": []
    }
  ]
}