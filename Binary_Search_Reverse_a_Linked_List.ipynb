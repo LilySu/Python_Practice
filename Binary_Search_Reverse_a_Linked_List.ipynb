{
  "nbformat": 4,
  "nbformat_minor": 0,
  "metadata": {
    "colab": {
      "name": "Binary_Search_Reverse a Linked List.ipynb",
      "provenance": [],
      "collapsed_sections": [],
      "authorship_tag": "ABX9TyN+R8uD2mPI8eqbLBn9oN+I",
      "include_colab_link": true
    },
    "kernelspec": {
      "name": "python3",
      "display_name": "Python 3"
    }
  },
  "cells": [
    {
      "cell_type": "markdown",
      "metadata": {
        "id": "view-in-github",
        "colab_type": "text"
      },
      "source": [
        "<a href=\"https://colab.research.google.com/github/LilySu/Python_Practice/blob/master/Binary_Search_Reverse_a_Linked_List.ipynb\" target=\"_parent\"><img src=\"https://colab.research.google.com/assets/colab-badge.svg\" alt=\"Open In Colab\"/></a>"
      ]
    },
    {
      "cell_type": "markdown",
      "metadata": {
        "id": "8_LGpYylIdxA"
      },
      "source": [
        "Given a singly linked list node, return its reverse.\r\n",
        "\r\n",
        "Bonus: Can you do this in \\mathcal{O}(1)O(1) space?\r\n",
        "```\r\n",
        "Constraints\r\n",
        "\r\n",
        "n ≤ 100,000 where n is the number of nodes in node\r\n",
        "Example 1\r\n",
        "Input\r\n",
        "Visualize\r\n",
        "node = [1, 2, 3, 4]\r\n",
        "Output\r\n",
        "Visualize\r\n",
        "[4, 3, 2, 1]\r\n",
        "Example 2\r\n",
        "Input\r\n",
        "Visualize\r\n",
        "node = [0, 1]\r\n",
        "Output\r\n",
        "Visualize\r\n",
        "[1, 0]\r\n",
        "```"
      ]
    },
    {
      "cell_type": "code",
      "metadata": {
        "id": "W0Bf11YbIW5P"
      },
      "source": [
        "# class LLNode:\r\n",
        "#     def __init__(self, val, next=None):\r\n",
        "#         self.val = val\r\n",
        "#         self.next = next\r\n",
        "class Solution:\r\n",
        "    def solve(self, node):\r\n",
        "        prev = None\r\n",
        "        current = node\r\n",
        "        while(current is not None):\r\n",
        "            # save the next\r\n",
        "            next = current.next\r\n",
        "            # assign previous to the next\r\n",
        "            current.next = prev\r\n",
        "            # swap the previous with the current\r\n",
        "            prev = current\r\n",
        "            # increment the current\r\n",
        "            current = next\r\n",
        "        # make node, which is our pointer the previous\r\n",
        "        node = prev\r\n",
        "        return node"
      ],
      "execution_count": null,
      "outputs": []
    }
  ]
}