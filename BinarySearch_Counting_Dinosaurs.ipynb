{
  "nbformat": 4,
  "nbformat_minor": 0,
  "metadata": {
    "colab": {
      "name": "BinarySearch_Counting_Dinosaurs.ipynb",
      "provenance": [],
      "authorship_tag": "ABX9TyMNRK/jzGJt1PQsnVM3P7Sh",
      "include_colab_link": true
    },
    "kernelspec": {
      "name": "python3",
      "display_name": "Python 3"
    }
  },
  "cells": [
    {
      "cell_type": "markdown",
      "metadata": {
        "id": "view-in-github",
        "colab_type": "text"
      },
      "source": [
        "<a href=\"https://colab.research.google.com/github/LilySu/Python_Practice/blob/master/BinarySearch_Counting_Dinosaurs.ipynb\" target=\"_parent\"><img src=\"https://colab.research.google.com/assets/colab-badge.svg\" alt=\"Open In Colab\"/></a>"
      ]
    },
    {
      "cell_type": "markdown",
      "metadata": {
        "id": "j633RAZb-oq9"
      },
      "source": [
        "Counting Dinosaurs\n",
        "You are given a string animals and another string dinosaurs. Every letter in animals represents a different type of animal and every unique character in dinosaurs represents a different dinosaur.\n",
        "\n",
        "Return the total number of dinosaurs in animals.\n",
        "```\n",
        "Example 1\n",
        "Input\n",
        "\n",
        "animals = \"abacabC\"\n",
        "dinosaurs = \"bC\"\n",
        "Output\n",
        "\n",
        "3\n",
        "Explanation\n",
        "\n",
        "There's two types of dinosaurs \"b\" and \"C\". There's 2 \"b\" dinosaurs and 1 \"C\" dinosaur. Note we didn't count the lowercase \"c\" animal as a dinosaur.\n",
        "```"
      ]
    },
    {
      "cell_type": "code",
      "metadata": {
        "id": "80PKsW_5-h4_"
      },
      "source": [
        "from collections import Counter\n",
        "\n",
        "class Solution:\n",
        "    def solve(self, animals, dinosaurs):\n",
        "        animals_dict = Counter(animals)\n",
        "        output = 0\n",
        "        for i in set(dinosaurs):\n",
        "            output += animals_dict[i]\n",
        "        return output"
      ],
      "execution_count": null,
      "outputs": []
    },
    {
      "cell_type": "code",
      "metadata": {
        "id": "NHS_bfQw-1zB"
      },
      "source": [
        "class Solution:\n",
        "    def solve(self, animals, dinosaurs):\n",
        "        dinoset = set(dinosaurs)\n",
        "        return sum(a in dinoset for a in animals)"
      ],
      "execution_count": null,
      "outputs": []
    },
    {
      "cell_type": "markdown",
      "metadata": {
        "id": "vKZ3DY68-7sK"
      },
      "source": [
        "Count the number of animals for each kind in animal_count. For each dinosaur type in dinosaurs, we accumulate their counts in animals which is animal_count[dinosaur].\n",
        "\n",
        "Time: O(n+m)\n",
        "Space: O(n)\n",
        "where n is the number of animals and m is the number of unique dinosaurs."
      ]
    },
    {
      "cell_type": "code",
      "metadata": {
        "id": "RqBqY5UV-5JK"
      },
      "source": [
        "from collections import Counter\n",
        "\n",
        "\n",
        "class Solution:\n",
        "    def solve(self, animals, dinosaurs):\n",
        "\n",
        "        animal_count = Counter(animals)\n",
        "\n",
        "        return sum(animal_count[dinosaur] for dinosaur in set(dinosaurs))"
      ],
      "execution_count": null,
      "outputs": []
    }
  ]
}