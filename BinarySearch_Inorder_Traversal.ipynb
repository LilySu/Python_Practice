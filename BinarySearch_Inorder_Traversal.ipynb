{
  "nbformat": 4,
  "nbformat_minor": 0,
  "metadata": {
    "colab": {
      "name": "BinarySearch_Inorder Traversal.ipynb",
      "provenance": [],
      "authorship_tag": "ABX9TyMPmVeelx8SwFO9eJxRxbZh",
      "include_colab_link": true
    },
    "kernelspec": {
      "name": "python3",
      "display_name": "Python 3"
    }
  },
  "cells": [
    {
      "cell_type": "markdown",
      "metadata": {
        "id": "view-in-github",
        "colab_type": "text"
      },
      "source": [
        "<a href=\"https://colab.research.google.com/github/LilySu/Python_Practice/blob/master/BinarySearch_Inorder_Traversal.ipynb\" target=\"_parent\"><img src=\"https://colab.research.google.com/assets/colab-badge.svg\" alt=\"Open In Colab\"/></a>"
      ]
    },
    {
      "cell_type": "markdown",
      "metadata": {
        "id": "R-Ks3VAG_pwR"
      },
      "source": [
        "Given a binary tree root, return an inorder traversal of root as a list.\r\n",
        "\r\n",
        "Bonus: Can you do this iteratively?\r\n",
        "```\r\n",
        "Constraints\r\n",
        "\r\n",
        "n ≤ 100,000 where n is the number of nodes in root\r\n",
        "Example 1\r\n",
        "Input\r\n",
        "Visualize\r\n",
        "root =\r\n",
        "1\r\n",
        "\r\n",
        "159\r\n",
        "\r\n",
        "80\r\n",
        "\r\n",
        "Output\r\n",
        "[1, 80, 159]\r\n",
        "```"
      ]
    },
    {
      "cell_type": "code",
      "metadata": {
        "id": "D4zfcX7i-tpb"
      },
      "source": [
        "# class Tree:\r\n",
        "#     def __init__(self, val, left=None, right=None):\r\n",
        "#         self.val = val\r\n",
        "#         self.left = left\r\n",
        "#         self.right = right\r\n",
        "class Solution:\r\n",
        "    def solve(self, root):\r\n",
        "        if not root:\r\n",
        "            return []\r\n",
        "        all = []\r\n",
        "        if root.left:\r\n",
        "            all += self.solve(root.left)\r\n",
        "        all.append(root.val)\r\n",
        "        if root.right:\r\n",
        "            all += self.solve(root.right)\r\n",
        "        return all"
      ],
      "execution_count": null,
      "outputs": []
    },
    {
      "cell_type": "code",
      "metadata": {
        "id": "-60mGxL0-ThM"
      },
      "source": [
        "# class Tree:\r\n",
        "#     def __init__(self, val, left=None, right=None):\r\n",
        "#         self.val = val\r\n",
        "#         self.left = left\r\n",
        "#         self.right = right\r\n",
        "class Solution:\r\n",
        "    def solve(self, root):\r\n",
        "        result = []\r\n",
        "        if root is not None:\r\n",
        "            result += self.solve(root.left)\r\n",
        "            result.append(root.val)\r\n",
        "            result += self.solve(root.right)\r\n",
        "        return result\r\n",
        "\r\n",
        "\r\n",
        "# the call is already made, recursive calls wait till return, we add the appended item to the stack. "
      ],
      "execution_count": null,
      "outputs": []
    }
  ]
}