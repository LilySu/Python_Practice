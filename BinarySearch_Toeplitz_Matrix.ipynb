{
  "nbformat": 4,
  "nbformat_minor": 0,
  "metadata": {
    "colab": {
      "name": "BinarySearch_Toeplitz_Matrix",
      "provenance": [],
      "authorship_tag": "ABX9TyOgRx0uCFDBRPBKt7tu0C76",
      "include_colab_link": true
    },
    "kernelspec": {
      "name": "python3",
      "display_name": "Python 3"
    }
  },
  "cells": [
    {
      "cell_type": "markdown",
      "metadata": {
        "id": "view-in-github",
        "colab_type": "text"
      },
      "source": [
        "<a href=\"https://colab.research.google.com/github/LilySu/Python_Practice/blob/master/BinarySearch_Toeplitz_Matrix.ipynb\" target=\"_parent\"><img src=\"https://colab.research.google.com/assets/colab-badge.svg\" alt=\"Open In Colab\"/></a>"
      ]
    },
    {
      "cell_type": "code",
      "metadata": {
        "id": "YoKbxTfBKtBx"
      },
      "source": [
        "For each element matrix[r][c] not in the first row or column, we should return False if it doesn't equal its top-left neighbor matrix[r-1][c-1].\n",
        "\n",
        "If every element equals its top-left neighbor, then the matrix is indeed Toeplitz, and we should return True.\n",
        "\n",
        "\n",
        "class Solution:\n",
        "    def solve(self, matrix):\n",
        "        for r in range(1, len(matrix)):\n",
        "            for c in range(1, len(matrix[0])):\n",
        "                if matrix[r][c] != matrix[r - 1][c - 1]:\n",
        "                    return False\n",
        "        return True\n"
      ],
      "execution_count": null,
      "outputs": []
    }
  ]
}