{
  "nbformat": 4,
  "nbformat_minor": 0,
  "metadata": {
    "colab": {
      "name": "Leetcode_#21_Merge_Two_Sorted_Lists.ipynb",
      "provenance": [],
      "authorship_tag": "ABX9TyPBqFCuL4JF4bBBsQWWCoYG",
      "include_colab_link": true
    },
    "kernelspec": {
      "name": "python3",
      "display_name": "Python 3"
    }
  },
  "cells": [
    {
      "cell_type": "markdown",
      "metadata": {
        "id": "view-in-github",
        "colab_type": "text"
      },
      "source": [
        "<a href=\"https://colab.research.google.com/github/LilySu/Python_Practice/blob/master/Leetcode__21_Merge_Two_Sorted_Lists.ipynb\" target=\"_parent\"><img src=\"https://colab.research.google.com/assets/colab-badge.svg\" alt=\"Open In Colab\"/></a>"
      ]
    },
    {
      "cell_type": "markdown",
      "metadata": {
        "id": "I2dvEuMP-srh",
        "colab_type": "text"
      },
      "source": [
        "Merge two sorted linked lists and return it as a new sorted list. The new list should be made by splicing together the nodes of the first two lists.\n",
        "\n",
        "Example:\n",
        "\n",
        "Input: 1->2->4, 1->3->4\n",
        "Output: 1->1->2->3->4->4"
      ]
    },
    {
      "cell_type": "code",
      "metadata": {
        "id": "2jympUAF-d8z",
        "colab_type": "code",
        "colab": {}
      },
      "source": [
        "# Definition for singly-linked list.\n",
        "# class ListNode(object):\n",
        "#     def __init__(self, val=0, next=None):\n",
        "#         self.val = val\n",
        "#         self.next = next\n",
        "class Solution(object):\n",
        "    def mergeTwoLists(self, l1, l2):\n",
        "        \"\"\"\n",
        "        :type l1: ListNode\n",
        "        :type l2: ListNode\n",
        "        :rtype: ListNode\n",
        "        \"\"\"\n",
        "        head = current = ListNode()\n",
        "        while l1 or l2:\n",
        "            if l1 and (l2==None or l1.val <= l2.val):\n",
        "                current.next = ListNode(l1.val)\n",
        "                l1 = l1.next\n",
        "            else:\n",
        "                current.next = ListNode(l2.val)\n",
        "                l2 = l2.next\n",
        "            current = current.next\n",
        "        return head.next"
      ],
      "execution_count": null,
      "outputs": []
    }
  ]
}