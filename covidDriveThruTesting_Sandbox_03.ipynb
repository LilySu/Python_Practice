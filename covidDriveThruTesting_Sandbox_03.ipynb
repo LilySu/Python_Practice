{
  "nbformat": 4,
  "nbformat_minor": 0,
  "metadata": {
    "colab": {
      "name": "covidDriveThruTesting_Sandbox_03.ipynb",
      "provenance": [],
      "authorship_tag": "ABX9TyNogrO6JVeRs2FjpDupnrRe",
      "include_colab_link": true
    },
    "kernelspec": {
      "name": "python3",
      "display_name": "Python 3"
    },
    "language_info": {
      "name": "python"
    }
  },
  "cells": [
    {
      "cell_type": "markdown",
      "metadata": {
        "id": "view-in-github",
        "colab_type": "text"
      },
      "source": [
        "<a href=\"https://colab.research.google.com/github/LilySu/Python_Practice/blob/master/covidDriveThruTesting_Sandbox_03.ipynb\" target=\"_parent\"><img src=\"https://colab.research.google.com/assets/colab-badge.svg\" alt=\"Open In Colab\"/></a>"
      ]
    },
    {
      "cell_type": "code",
      "metadata": {
        "colab": {
          "base_uri": "https://localhost:8080/"
        },
        "id": "APn5GhtCU9aV",
        "outputId": "c30f5f21-3735-4c74-ea12-bd36b9060660"
      },
      "source": [
        "from datetime import datetime\n",
        "import requests\n",
        "\n",
        "params = {\n",
        "  \"r\": \"50\",\n",
        "  \"requestType\": \"dotcom\",\n",
        "  \"s\": \"20\",\n",
        "  \"p\": 1,\n",
        "  \"q\": \"78723\",\n",
        "  \"lat\": \"\",\n",
        "  \"lng\": \"\",\n",
        "  \"zip\": \"78723\"\n",
        "}\n",
        "\n",
        "find_locations_api = 'https://www.walgreens.com/locator/v1/stores/search?requestor=search'\n",
        "find_slots_api = 'https://www.walgreens.com/findcarecovidsvc/svc/v2/scheduling/slots?o=acs'\n",
        "loc = requests.post(find_locations_api, json=params)\n",
        "\n",
        "# store stores and slot times ranked by location\n",
        "t = loc.json()\n",
        "result_dict = {}\n",
        "store_results = {}\n",
        "for idx in range(len(t['results'])):\n",
        "    store_dict_and_results = []\n",
        "    store_number_result = t['results'][idx]['storeNumber']\n",
        "    store_number = {\"location\": str(store_number_result)}\n",
        "    req = requests.post(find_slots_api, json=store_number)\n",
        "    store_dict_and_results.append(store_number_result)\n",
        "    store_dict_and_results.append(req.json())\n",
        "    store_results[idx] = store_dict_and_results\n",
        "\n",
        "# spit out \n",
        "# store number\n",
        "# dates\n",
        "# slots\n",
        "for store_distance_rank in range(len(t['results'])):\n",
        "    if 'schedules' in store_results[store_distance_rank][1]:\n",
        "        for slot_dates in range(len(store_results[store_distance_rank][1]['schedules'])):\n",
        "            if len(store_results[store_distance_rank][1]['schedules'][slot_dates]['slots']) > 0:\n",
        "                print(store_results[store_distance_rank][0])\n",
        "                print(store_results[11][1]['schedules'][slot_dates]['date'])\n",
        "                print(store_results[store_distance_rank][1]['schedules'][slot_dates]['slots'])\n",
        "\n",
        "# parse into python string datetimes\n",
        "# do datetime subtraction\n",
        "# rank store and slots by closest datetime"
      ],
      "execution_count": 1,
      "outputs": [
        {
          "output_type": "stream",
          "text": [
            "4632\n",
            "2021-08-16\n",
            "['12:15 pm', '12:30 pm', '12:45 pm', '01:00 pm', '02:15 pm', '02:30 pm', '02:45 pm', '03:15 pm', '03:30 pm', '03:45 pm', '04:00 pm', '04:15 pm', '04:30 pm', '04:45 pm']\n",
            "9679\n",
            "2021-08-16\n",
            "['11:15 am', '11:30 am', '11:45 am', '12:00 pm', '12:30 pm', '12:45 pm', '02:45 pm', '03:00 pm', '03:15 pm', '03:30 pm', '03:45 pm', '04:00 pm', '04:15 pm', '04:30 pm', '04:45 pm']\n",
            "6734\n",
            "2021-08-16\n",
            "['10:45 am', '11:00 am', '11:15 am', '12:15 pm', '12:30 pm', '02:30 pm', '02:45 pm', '03:00 pm', '03:15 pm', '03:30 pm', '03:45 pm', '04:00 pm', '04:15 pm', '04:30 pm', '04:45 pm']\n",
            "4134\n",
            "2021-08-16\n",
            "['02:15 pm', '03:45 pm', '04:30 pm']\n",
            "13446\n",
            "2021-08-16\n",
            "['02:45 pm', '03:00 pm', '03:15 pm', '03:30 pm', '03:45 pm', '04:15 pm']\n"
          ],
          "name": "stdout"
        }
      ]
    },
    {
      "cell_type": "code",
      "metadata": {
        "id": "2UIRjf8oVHgW"
      },
      "source": [
        ""
      ],
      "execution_count": null,
      "outputs": []
    }
  ]
}