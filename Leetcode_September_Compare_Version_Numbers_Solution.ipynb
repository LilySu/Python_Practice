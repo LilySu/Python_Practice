{
  "nbformat": 4,
  "nbformat_minor": 0,
  "metadata": {
    "colab": {
      "name": "Leetcode_September_Compare_Version_Numbers_Solution.ipynb",
      "provenance": [],
      "authorship_tag": "ABX9TyOkG68/sTIOdZF3xnf2M705",
      "include_colab_link": true
    },
    "kernelspec": {
      "name": "python3",
      "display_name": "Python 3"
    }
  },
  "cells": [
    {
      "cell_type": "markdown",
      "metadata": {
        "id": "view-in-github",
        "colab_type": "text"
      },
      "source": [
        "<a href=\"https://colab.research.google.com/github/LilySu/Python_Practice/blob/master/Leetcode_September_Compare_Version_Numbers_Solution.ipynb\" target=\"_parent\"><img src=\"https://colab.research.google.com/assets/colab-badge.svg\" alt=\"Open In Colab\"/></a>"
      ]
    },
    {
      "cell_type": "markdown",
      "metadata": {
        "id": "kP04VmXTGVMR",
        "colab_type": "text"
      },
      "source": [
        "Compare two version numbers version1 and version2.\n",
        "If version1 > version2 return 1; if version1 < version2 return -1;otherwise return 0.\n",
        "\n",
        "You may assume that the version strings are non-empty and contain only digits and the . character.\n",
        "\n",
        "The . character does not represent a decimal point and is used to separate number sequences.\n",
        "\n",
        "For instance, 2.5 is not \"two and a half\" or \"half way to version three\", it is the fifth second-level revision of the second first-level revision.\n",
        "\n",
        "You may assume the default revision number for each level of a version number to be 0. For example, version number 3.4 has a revision number of 3 and 4 for its first and second level revision number. Its third and fourth level revision number are both 0.\n",
        "\n",
        " ```\n",
        "\n",
        "Example 1:\n",
        "\n",
        "Input: version1 = \"0.1\", version2 = \"1.1\"\n",
        "Output: -1\n",
        "Example 2:\n",
        "\n",
        "Input: version1 = \"1.0.1\", version2 = \"1\"\n",
        "Output: 1\n",
        "Example 3:\n",
        "\n",
        "Input: version1 = \"7.5.2.4\", version2 = \"7.5.3\"\n",
        "Output: -1\n",
        "Example 4:\n",
        "\n",
        "Input: version1 = \"1.01\", version2 = \"1.001\"\n",
        "Output: 0\n",
        "Explanation: Ignoring leading zeroes, both “01” and “001\" represent the same number “1”\n",
        "Example 5:\n",
        "\n",
        "Input: version1 = \"1.0\", version2 = \"1.0.0\"\n",
        "Output: 0\n",
        "Explanation: The first version number does not have a third level revision number, which means its third level revision number is default to \"0\"\n",
        " \n",
        "```\n",
        "Note:\n",
        "\n",
        "Version strings are composed of numeric strings separated by dots . and this numeric strings may have leading zeroes.\n",
        "Version strings do not start or end with dots, and they will not be two consecutive dots."
      ]
    },
    {
      "cell_type": "code",
      "metadata": {
        "id": "o6vM6P2gGRV1",
        "colab_type": "code",
        "colab": {}
      },
      "source": [
        "class Solution(object):\n",
        "    def compareVersion(self, version1, version2):\n",
        "        \"\"\"\n",
        "        :type version1: str\n",
        "        :type version2: str\n",
        "        :rtype: int\n",
        "        \"\"\""
      ],
      "execution_count": null,
      "outputs": []
    },
    {
      "cell_type": "code",
      "metadata": {
        "id": "sni1_0ZEQN3o",
        "colab_type": "code",
        "colab": {
          "base_uri": "https://localhost:8080/",
          "height": 33
        },
        "outputId": "980946f2-ddc9-4348-e18b-48f5ce0bf3dc"
      },
      "source": [
        "# version1 = \"7.5.2.4\"\n",
        "# version2 = \"7.5.3\"\n",
        "# version1 = \"1.0\"\n",
        "# version2 = \"1.0.0\"\n",
        "version1 = \"1.1\"\n",
        "version2 = \"1.01\"\n",
        "def compareVersion(version1, version2):\n",
        "    vl1 = []\n",
        "    vl2 = []\n",
        "    v1 = version1.split(\".\")\n",
        "    v2 = version2.split(\".\")\n",
        "    max_len = max(len(v1), len(v2))\n",
        "    for i in range(max_len):\n",
        "        val1 = int(v1[i]) if i < len(v1) else 0\n",
        "        val2 = int(v1[i]) if i < len(v1) else 0\n",
        "        if val1 > val2:\n",
        "            return 1\n",
        "        if val2 > val1:\n",
        "            return -1\n",
        "    return 0\n",
        "\n",
        "\n",
        "compareVersion(version1, version2)"
      ],
      "execution_count": 8,
      "outputs": [
        {
          "output_type": "execute_result",
          "data": {
            "text/plain": [
              "0"
            ]
          },
          "metadata": {
            "tags": []
          },
          "execution_count": 8
        }
      ]
    },
    {
      "cell_type": "code",
      "metadata": {
        "id": "Y9xgLP2KH9xQ",
        "colab_type": "code",
        "colab": {
          "base_uri": "https://localhost:8080/",
          "height": 33
        },
        "outputId": "0ee798af-545a-4327-e38e-627ba9369ca2"
      },
      "source": [
        "# version1 = \"7.5.2.4\"\n",
        "version1 = \"1.01\"\n",
        "version1 = version1.split(\".\")\n",
        "\n",
        "version1"
      ],
      "execution_count": 20,
      "outputs": [
        {
          "output_type": "execute_result",
          "data": {
            "text/plain": [
              "['1', '01']"
            ]
          },
          "metadata": {
            "tags": []
          },
          "execution_count": 20
        }
      ]
    },
    {
      "cell_type": "code",
      "metadata": {
        "id": "S2jUS3VUIA3g",
        "colab_type": "code",
        "colab": {
          "base_uri": "https://localhost:8080/",
          "height": 33
        },
        "outputId": "f4e3707d-d811-4f64-c106-a7823b95835a"
      },
      "source": [
        "int(''.join(version1))"
      ],
      "execution_count": 21,
      "outputs": [
        {
          "output_type": "execute_result",
          "data": {
            "text/plain": [
              "101"
            ]
          },
          "metadata": {
            "tags": []
          },
          "execution_count": 21
        }
      ]
    },
    {
      "cell_type": "code",
      "metadata": {
        "id": "RG3wc7XzKQFq",
        "colab_type": "code",
        "colab": {
          "base_uri": "https://localhost:8080/",
          "height": 33
        },
        "outputId": "6b87af2f-4334-4608-db6e-e1a4ecb93d65"
      },
      "source": [
        "# version1 = \"7.5.2.4\"\n",
        "# version2 = \"7.5\"\n",
        "# version1 = \"1.01\"\n",
        "# version2 = \"1.001\"\n",
        "\n",
        "version1 = \"1.01\"\n",
        "version2 = \"1.001\"\n",
        "vl1 = version1.split(\".\")\n",
        "vl2 = version2.split(\".\")\n",
        "max_len = max(len(vl1), len(vl2))\n",
        "l1 = [\"0\" for i in range(max_len - len(vl1))]\n",
        "l2 = [\"0\" for i in range(max_len - len(vl2))]\n",
        "v1 = vl1 + l1\n",
        "v2 = vl2 + l2\n",
        "v1 = [i.lstrip('0') for i in v1]\n",
        "v2 = [i.lstrip('0') for i in v2]\n",
        "v1 = int(''.join(v1))\n",
        "v2 = int(''.join(v2))\n",
        "v1"
      ],
      "execution_count": 54,
      "outputs": [
        {
          "output_type": "execute_result",
          "data": {
            "text/plain": [
              "11"
            ]
          },
          "metadata": {
            "tags": []
          },
          "execution_count": 54
        }
      ]
    },
    {
      "cell_type": "code",
      "metadata": {
        "id": "9JrVYXXdZazM",
        "colab_type": "code",
        "colab": {
          "base_uri": "https://localhost:8080/",
          "height": 33
        },
        "outputId": "ae5f65e1-1fb2-41a0-fc55-b835ec8b5a48"
      },
      "source": [
        "v2"
      ],
      "execution_count": 55,
      "outputs": [
        {
          "output_type": "execute_result",
          "data": {
            "text/plain": [
              "11"
            ]
          },
          "metadata": {
            "tags": []
          },
          "execution_count": 55
        }
      ]
    },
    {
      "cell_type": "code",
      "metadata": {
        "id": "R_BeQZzAK7Bs",
        "colab_type": "code",
        "colab": {
          "base_uri": "https://localhost:8080/",
          "height": 35
        },
        "outputId": "2bd9fb28-2043-442f-bf28-30ca883ad844"
      },
      "source": [
        "r = v1[1].lstrip('0')\n",
        "r"
      ],
      "execution_count": 51,
      "outputs": [
        {
          "output_type": "execute_result",
          "data": {
            "application/vnd.google.colaboratory.intrinsic+json": {
              "type": "string"
            },
            "text/plain": [
              "'1'"
            ]
          },
          "metadata": {
            "tags": []
          },
          "execution_count": 51
        }
      ]
    },
    {
      "cell_type": "code",
      "metadata": {
        "id": "VbW_IFdCPtP7",
        "colab_type": "code",
        "colab": {
          "base_uri": "https://localhost:8080/",
          "height": 150
        },
        "outputId": "d49bd60c-37f8-42bf-9eba-253388b4db57"
      },
      "source": [
        "for v_1, v_2 in zip(v1, v2):\n",
        "    print(v_1)\n",
        "    print(v_2)"
      ],
      "execution_count": 26,
      "outputs": [
        {
          "output_type": "stream",
          "text": [
            "7\n",
            "7\n",
            "5\n",
            "5\n",
            "2\n",
            "0\n",
            "4\n",
            "0\n"
          ],
          "name": "stdout"
        }
      ]
    },
    {
      "cell_type": "code",
      "metadata": {
        "id": "28Msi71APyNZ",
        "colab_type": "code",
        "colab": {
          "base_uri": "https://localhost:8080/",
          "height": 33
        },
        "outputId": "1cf2f895-d7ff-4031-fe1e-8afb2aa5e373"
      },
      "source": [
        "tuple(zip(v1, v2))"
      ],
      "execution_count": 31,
      "outputs": [
        {
          "output_type": "execute_result",
          "data": {
            "text/plain": [
              "(('7', '7'), ('5', '5'), ('2', '0'), ('4', '0'))"
            ]
          },
          "metadata": {
            "tags": []
          },
          "execution_count": 31
        }
      ]
    },
    {
      "cell_type": "code",
      "metadata": {
        "id": "pQ1qFI7pP5uI",
        "colab_type": "code",
        "colab": {}
      },
      "source": [
        ""
      ],
      "execution_count": null,
      "outputs": []
    }
  ]
}