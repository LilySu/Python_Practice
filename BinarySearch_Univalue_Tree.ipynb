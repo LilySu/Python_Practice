{
  "nbformat": 4,
  "nbformat_minor": 0,
  "metadata": {
    "colab": {
      "name": "BinarySearch_Univalue Tree.ipynb",
      "provenance": [],
      "authorship_tag": "ABX9TyMS8tbSxMyEP0eRALun0JOO",
      "include_colab_link": true
    },
    "kernelspec": {
      "name": "python3",
      "display_name": "Python 3"
    }
  },
  "cells": [
    {
      "cell_type": "markdown",
      "metadata": {
        "id": "view-in-github",
        "colab_type": "text"
      },
      "source": [
        "<a href=\"https://colab.research.google.com/github/LilySu/Python_Practice/blob/master/BinarySearch_Univalue_Tree.ipynb\" target=\"_parent\"><img src=\"https://colab.research.google.com/assets/colab-badge.svg\" alt=\"Open In Colab\"/></a>"
      ]
    },
    {
      "cell_type": "markdown",
      "metadata": {
        "id": "QhLajOOG8ARd"
      },
      "source": [
        "Given a binary tree root, return whether all values in the tree are the same.\n",
        "\n",
        "Constraints\n",
        "\n",
        "n ≤ 100,000 where n is the number of nodes in root\n",
        "Example 1\n",
        "Input\n",
        "Visualize Tree\n",
        "root =\n",
        "2\n",
        "\n",
        "2\n",
        "\n",
        "2\n",
        "\n",
        "2\n",
        "\n",
        "2\n",
        "\n",
        "Output\n",
        "True\n",
        "Explanation\n",
        "Every node has the value 2\n",
        "\n",
        "Example 2\n",
        "Input\n",
        "Visualize Tree\n",
        "root =\n",
        "2\n",
        "\n",
        "2\n",
        "\n",
        "2\n",
        "\n",
        "9\n",
        "\n",
        "Output\n",
        "False\n",
        "Explanation\n",
        "There is a node with a value 9 while others are 2"
      ]
    },
    {
      "cell_type": "code",
      "metadata": {
        "id": "kuZIqSqD7-3d"
      },
      "source": [
        "class Solution:\n",
        "    def solve(self, root):\n",
        "        return self.dfs(root, root.val)\n",
        "\n",
        "    def dfs(self, root, saved_val):\n",
        "        if not root:\n",
        "            return True\n",
        "        elif root.val == saved_val and self.dfs(root.left, saved_val) and self.dfs(root.right, saved_val):\n",
        "            return True\n",
        "        else:\n",
        "            return False"
      ],
      "execution_count": null,
      "outputs": []
    }
  ]
}