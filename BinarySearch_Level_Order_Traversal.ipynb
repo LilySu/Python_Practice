{
  "nbformat": 4,
  "nbformat_minor": 0,
  "metadata": {
    "colab": {
      "name": "BinarySearch_Level Order Traversal.ipynb",
      "provenance": [],
      "authorship_tag": "ABX9TyOasLtU28MxXYVBQ8l7QCQe",
      "include_colab_link": true
    },
    "kernelspec": {
      "name": "python3",
      "display_name": "Python 3"
    }
  },
  "cells": [
    {
      "cell_type": "markdown",
      "metadata": {
        "id": "view-in-github",
        "colab_type": "text"
      },
      "source": [
        "<a href=\"https://colab.research.google.com/github/LilySu/Python_Practice/blob/master/BinarySearch_Level_Order_Traversal.ipynb\" target=\"_parent\"><img src=\"https://colab.research.google.com/assets/colab-badge.svg\" alt=\"Open In Colab\"/></a>"
      ]
    },
    {
      "cell_type": "markdown",
      "metadata": {
        "id": "qv15SdRxTn1B"
      },
      "source": [
        "Given a binary tree root return a level order traversal of the node values.\r\n",
        "\r\n",
        "Constraints\r\n",
        "```\r\n",
        "n ≤ 100,000 where n is the number of nodes in root\r\n",
        "Example 1\r\n",
        "Input\r\n",
        "Visualize\r\n",
        "root = [0, [5, null, null], [9, [1, [4, null, null], [2, null, null]], [3, null, null]]]\r\n",
        "Output\r\n",
        "[0, 5, 9, 1, 3, 4, 2]\r\n",
        "Example 2\r\n",
        "Input\r\n",
        "Visualize\r\n",
        "root = [0, [1, [2, [3, null, null], null], null], null]\r\n",
        "Output\r\n",
        "[0, 1, 2, 3]\r\n",
        "Example 3\r\n",
        "Input\r\n",
        "Visualize\r\n",
        "root = [0, null, [1, null, [2, null, [3, null, null]]]]\r\n",
        "Output\r\n",
        "[0, 1, 2, 3]\r\n",
        "```"
      ]
    },
    {
      "cell_type": "code",
      "metadata": {
        "id": "SHnNyx_GTiTs"
      },
      "source": [
        "# Attempt\r\n",
        "\r\n",
        "# class Tree:\r\n",
        "#     def __init__(self, val, left=None, right=None):\r\n",
        "#         self.val = val\r\n",
        "#         self.left = left\r\n",
        "#         self.right = right\r\n",
        "class Solution:\r\n",
        "    def solve(self, root):\r\n",
        "        elements = []\r\n",
        "        elements.append(root.val)\r\n",
        "        if root.left:\r\n",
        "            # recursively go to the left\r\n",
        "            elements += self.solve(root.left)\r\n",
        "        if root.right:\r\n",
        "            elements += self.solve(root.right)\r\n",
        "        return elements\r\n",
        "\r\n",
        "    # we want to recursively only traverse the current level\r\n",
        "        if root.left or root.right:\r\n",
        "            if root.left:\r\n",
        "                \r\n",
        "\r\n",
        "\r\n",
        "        # result = []\r\n",
        "        # result.append(root.val)\r\n",
        "        # # for root, if root has a child, traverse\r\n",
        "        # # check for left first\r\n",
        "        # while root.left:\r\n",
        "        #     has_right = False\r\n",
        "        #     result.append(root.left.val)\r\n",
        "        # # then check for right\r\n",
        "        #     if root.right:\r\n",
        "        #         has_right = True\r\n",
        "        #         result.append(root.right.val)\r\n",
        "        # # now that the level is traversed\r\n",
        "        # # assume the root as the left child if it has a child\r\n",
        "        #     if has_right == True:\r\n",
        "        #         return self.solve(root.left), self.solve(root.right)\r\n",
        "        #     else:\r\n",
        "        #         return self.solve(root.left)\r\n",
        "        # # if not assume the root as the right child and see if it has a child\r\n",
        "        # while root.right:\r\n",
        "        #     has_left = False\r\n",
        "        #     result.append(root.right.val)\r\n",
        "        #     if root.left:\r\n",
        "        #         has_left = True\r\n",
        "        #         result.append(root.left.val)\r\n",
        "        #     if has_left == True:\r\n",
        "        #         return self.solve(root.right), self.solve(root.left)\r\n",
        "        #     else:\r\n",
        "        #         return self.solve(root.right)\r\n"
      ],
      "execution_count": null,
      "outputs": []
    },
    {
      "cell_type": "code",
      "metadata": {
        "id": "9FyiKgDYTblg"
      },
      "source": [
        "# Solution by matias https://binarysearch.com/room/.../editorials/925571\r\n",
        "# Time: O(N)\r\n",
        "# Space: O(N)\r\n",
        "\r\n",
        "class Solution:\r\n",
        "    def solve(self, root):\r\n",
        "        if not root:\r\n",
        "            return []\r\n",
        "        res = []\r\n",
        "        q = collections.deque([root])\r\n",
        "        while q:\r\n",
        "            node = q.popleft()\r\n",
        "            res.append(node.val)\r\n",
        "            if node.left:\r\n",
        "                q.append(node.left)\r\n",
        "            if node.right:\r\n",
        "                q.append(node.right)\r\n",
        "        return res"
      ],
      "execution_count": null,
      "outputs": []
    },
    {
      "cell_type": "code",
      "metadata": {
        "id": "aNDSY5V7fduX"
      },
      "source": [
        "# get level wip\n",
        "\n",
        "# class Tree:\n",
        "#     def __init__(self, val, left=None, right=None):\n",
        "#         self.val = val\n",
        "#         self.left = left\n",
        "#         self.right = right\n",
        "class Solution:\n",
        "    def solve(self, root):\n",
        "        # assign a traversal pointer\n",
        "        pointer = root\n",
        "        # get level\n",
        "        level = 1\n",
        "        while pointer.right:\n",
        "            level += 1\n",
        "            pointer = pointer.right\n",
        "        while pointer.left:\n",
        "            level += 1\n",
        "            pointer = pointer.left\n",
        "        # finish get level\n",
        "            \n",
        "        return level"
      ],
      "execution_count": null,
      "outputs": []
    }
  ]
}