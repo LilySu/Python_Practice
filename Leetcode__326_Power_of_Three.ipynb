{
  "nbformat": 4,
  "nbformat_minor": 0,
  "metadata": {
    "colab": {
      "name": "Leetcode_#326_Power_of_Three.ipynb",
      "provenance": [],
      "authorship_tag": "ABX9TyPL6pvtfLN9GBG8a1+Y9QdJ",
      "include_colab_link": true
    },
    "kernelspec": {
      "name": "python3",
      "display_name": "Python 3"
    }
  },
  "cells": [
    {
      "cell_type": "markdown",
      "metadata": {
        "id": "view-in-github",
        "colab_type": "text"
      },
      "source": [
        "<a href=\"https://colab.research.google.com/github/LilySu/Python_Practice/blob/master/Leetcode__326_Power_of_Three.ipynb\" target=\"_parent\"><img src=\"https://colab.research.google.com/assets/colab-badge.svg\" alt=\"Open In Colab\"/></a>"
      ]
    },
    {
      "cell_type": "markdown",
      "metadata": {
        "id": "mpJeiCw7S-BW",
        "colab_type": "text"
      },
      "source": [
        "Given an integer, write a function to determine if it is a power of three.\n",
        "\n",
        "Example 1:\n",
        "```\n",
        "Input: 27\n",
        "Output: true\n",
        "Example 2:\n",
        "\n",
        "Input: 0\n",
        "Output: false\n",
        "Example 3:\n",
        "\n",
        "Input: 9\n",
        "Output: true\n",
        "Example 4:\n",
        "\n",
        "Input: 45\n",
        "Output: false\n",
        "```\n",
        "Follow up:\n",
        "Could you do it without using any loop / recursion?"
      ]
    },
    {
      "cell_type": "code",
      "metadata": {
        "id": "Bi_RifbhS1oU",
        "colab_type": "code",
        "colab": {}
      },
      "source": [
        "class Solution(object):\n",
        "    def isPowerOfThree(self, n):\n",
        "        \"\"\"\n",
        "        :type n: int\n",
        "        :rtype: bool\n",
        "        \"\"\""
      ],
      "execution_count": null,
      "outputs": []
    },
    {
      "cell_type": "code",
      "metadata": {
        "id": "3I2LYXM9TQy2",
        "colab_type": "code",
        "colab": {
          "base_uri": "https://localhost:8080/",
          "height": 34
        },
        "outputId": "3ff07c50-bb99-4387-b3f6-0327a666390c"
      },
      "source": [
        "import math\n",
        "\n",
        "def isPowerOfThree(n):\n",
        "    def recurse(n):\n",
        "        if n/3 != 1 and n%3 == 0:\n",
        "            return recurse(n/3)\n",
        "        if n/3 != 1 and n%3 != 0:\n",
        "            return False\n",
        "        else:\n",
        "            return True\n",
        "    return recurse(n)\n",
        "\n",
        "n = 45\n",
        "isPowerOfThree(n)"
      ],
      "execution_count": 11,
      "outputs": [
        {
          "output_type": "execute_result",
          "data": {
            "text/plain": [
              "False"
            ]
          },
          "metadata": {
            "tags": []
          },
          "execution_count": 11
        }
      ]
    },
    {
      "cell_type": "code",
      "metadata": {
        "id": "EGg1kn7BTrRZ",
        "colab_type": "code",
        "colab": {
          "base_uri": "https://localhost:8080/",
          "height": 34
        },
        "outputId": "7fca5abe-b62e-4adb-bafb-d6359f68dff7"
      },
      "source": [
        "45/3"
      ],
      "execution_count": 6,
      "outputs": [
        {
          "output_type": "execute_result",
          "data": {
            "text/plain": [
              "15.0"
            ]
          },
          "metadata": {
            "tags": []
          },
          "execution_count": 6
        }
      ]
    },
    {
      "cell_type": "code",
      "metadata": {
        "id": "Kor9TP4PWPth",
        "colab_type": "code",
        "colab": {
          "base_uri": "https://localhost:8080/",
          "height": 34
        },
        "outputId": "bf7485a5-786d-4492-96d0-8953120a9f46"
      },
      "source": [
        "15/3"
      ],
      "execution_count": 7,
      "outputs": [
        {
          "output_type": "execute_result",
          "data": {
            "text/plain": [
              "5.0"
            ]
          },
          "metadata": {
            "tags": []
          },
          "execution_count": 7
        }
      ]
    },
    {
      "cell_type": "code",
      "metadata": {
        "id": "gyYILurkWYeR",
        "colab_type": "code",
        "colab": {
          "base_uri": "https://localhost:8080/",
          "height": 34
        },
        "outputId": "4e9c8d98-37dc-41cd-db60-d0a1b66f591d"
      },
      "source": [
        "def isPowerOfThree(n):\n",
        "    if n < 1:\n",
        "        return False\n",
        "    while n % 3 == 0:\n",
        "        n = n / 3\n",
        "    return n == 1\n",
        "\n",
        "n = 45\n",
        "isPowerOfThree(n)"
      ],
      "execution_count": 13,
      "outputs": [
        {
          "output_type": "execute_result",
          "data": {
            "text/plain": [
              "False"
            ]
          },
          "metadata": {
            "tags": []
          },
          "execution_count": 13
        }
      ]
    },
    {
      "cell_type": "code",
      "metadata": {
        "id": "cVjQIIQhbLOE",
        "colab_type": "code",
        "colab": {}
      },
      "source": [
        ""
      ],
      "execution_count": null,
      "outputs": []
    }
  ]
}