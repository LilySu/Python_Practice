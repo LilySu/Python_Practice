{
  "nbformat": 4,
  "nbformat_minor": 0,
  "metadata": {
    "colab": {
      "name": "BinarySearch_Unobstructed Buildings_WIP.ipynb",
      "provenance": [],
      "authorship_tag": "ABX9TyO4yeOewUVr/+C4r3yAOXO9",
      "include_colab_link": true
    },
    "kernelspec": {
      "name": "python3",
      "display_name": "Python 3"
    }
  },
  "cells": [
    {
      "cell_type": "markdown",
      "metadata": {
        "id": "view-in-github",
        "colab_type": "text"
      },
      "source": [
        "<a href=\"https://colab.research.google.com/github/LilySu/Python_Practice/blob/master/BinarySearch_Unobstructed_Buildings_WIP.ipynb\" target=\"_parent\"><img src=\"https://colab.research.google.com/assets/colab-badge.svg\" alt=\"Open In Colab\"/></a>"
      ]
    },
    {
      "cell_type": "markdown",
      "metadata": {
        "id": "QRZbEJ3NfBdD"
      },
      "source": [
        "You are given a list of integers heights representing building heights. A building heights[i] can see the ocean if every building on its right has a smaller height. Return the building indices where you can see the ocean, in ascending order.\r\n",
        "\r\n",
        "Constraints\r\n",
        "```\r\n",
        "0 ≤ n ≤ 100,000 where n is the length of heights\r\n",
        "Example 1\r\n",
        "Input\r\n",
        "heights = [1, 5, 5, 2, 3]\r\n",
        "Output\r\n",
        "[2, 4]\r\n",
        "Explanation\r\n",
        "We can see the ocean in building heights[2] and heights[4].\r\n",
        "\r\n",
        "Example 2\r\n",
        "Input\r\n",
        "heights = [5, 4, 3, 2, 1]\r\n",
        "Output\r\n",
        "[0, 1, 2, 3, 4]\r\n",
        "Explanation\r\n",
        "We can see the ocean in every building since each building is taller than every other on its right.\r\n",
        "\r\n",
        "Example 3\r\n",
        "Input\r\n",
        "heights = [1, 1, 1, 1, 1]\r\n",
        "Output\r\n",
        "[4]\r\n",
        "Explanation\r\n",
        "We can't see the ocean in any building other than the last one.\r\n",
        "```"
      ]
    },
    {
      "cell_type": "code",
      "metadata": {
        "id": "pCnWQ3Ycw-Sp"
      },
      "source": [
        "# 1st attempt\r\n",
        "\r\n",
        "class Solution:\r\n",
        "    def solve(self, heights):\r\n",
        "        if len(heights) == 0:\r\n",
        "            return []\r\n",
        "        output = []\r\n",
        "        max_ = -1\r\n",
        "        removed = 0\r\n",
        "        for idx in range(len(heights) - 1):\r\n",
        "            try:\r\n",
        "                if heights[idx] == heights[idx + 1]:\r\n",
        "                    removed += 1\r\n",
        "                    heights.remove(heights[idx])\r\n",
        "            except IndexError:\r\n",
        "                continue\r\n",
        "            if heights[idx] == max(heights[idx:]) and heights[idx] != heights[-1]:\r\n",
        "                output.append(idx + removed)\r\n",
        "        if len(heights) > 1 and removed > 0:\r\n",
        "            return [len(heights) - 1]\r\n",
        "        elif len(heights) > 1:\r\n",
        "            output.append(len(heights) - 1 + removed)\r\n",
        "        elif removed == 0:\r\n",
        "            return [0]\r\n",
        "        return list(dict.fromkeys(output))"
      ],
      "execution_count": null,
      "outputs": []
    },
    {
      "cell_type": "code",
      "metadata": {
        "id": "hlTaU5X1e6Aj"
      },
      "source": [
        "# 2nd attempt\r\n",
        "\r\n",
        "from itertools import groupby \r\n",
        "\r\n",
        "class Solution:\r\n",
        "    def solve(self, heights):\r\n",
        "        if len(heights) == 0:\r\n",
        "            return []\r\n",
        "        output = []\r\n",
        "        max_ = -1\r\n",
        "        # remove sequential duplicates\r\n",
        "        # for idx, element in enumerate(heights):\r\n",
        "        #     if idx > 1:\r\n",
        "        #         if element == heights[idx - 1]:\r\n",
        "        #             heights.remove(heights[idx - 1])\r\n",
        "        new_heights = [i[0] for i in groupby(heights)]\r\n",
        "        removed = len(heights) - len(new_heights)\r\n",
        "        # if a number earlier in the sequence is the \r\n",
        "        # same as a number later in the sequence, remove it.\r\n",
        "        # \r\n",
        " \r\n",
        "        if sorted(heights) == heights[::-1]:\r\n",
        "            for idx in range(len(new_heights)):\r\n",
        "                output.append(idx + removed)\r\n",
        "            return list(dict.fromkeys(output))\r\n",
        "        # iterate through reverse of list\r\n",
        "        for idx in range(len(new_heights)):\r\n",
        "            print(new_heights[~idx:])\r\n",
        "            # get the max\r\n",
        "            max_ = max(new_heights[~idx:])\r\n",
        "            print(max_)\r\n",
        "        # find the last possible index for this max\r\n",
        "        max_idx = -1\r\n",
        "        for idx, elements in enumerate(new_heights):\r\n",
        "            if new_heights[idx] == max_:\r\n",
        "                max_idx = idx\r\n",
        "        output.append(max_idx)\r\n",
        "        if max_idx != -1:\r\n",
        "            output.append(len(new_heights) - 1)\r\n",
        "        return output"
      ],
      "execution_count": null,
      "outputs": []
    },
    {
      "cell_type": "code",
      "metadata": {
        "id": "V4B5Aljze58v"
      },
      "source": [
        ""
      ],
      "execution_count": null,
      "outputs": []
    }
  ]
}