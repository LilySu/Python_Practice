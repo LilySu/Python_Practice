{
  "nbformat": 4,
  "nbformat_minor": 0,
  "metadata": {
    "colab": {
      "name": "Sort_a_Stack_can_have_another_helper_stack.ipynb",
      "provenance": [],
      "authorship_tag": "ABX9TyMaBGtk1ozMr4eLgV+8IkoR",
      "include_colab_link": true
    },
    "kernelspec": {
      "name": "python3",
      "display_name": "Python 3"
    }
  },
  "cells": [
    {
      "cell_type": "markdown",
      "metadata": {
        "id": "view-in-github",
        "colab_type": "text"
      },
      "source": [
        "<a href=\"https://colab.research.google.com/github/LilySu/Python_Practice/blob/master/Sort_a_Stack_can_have_another_helper_stack.ipynb\" target=\"_parent\"><img src=\"https://colab.research.google.com/assets/colab-badge.svg\" alt=\"Open In Colab\"/></a>"
      ]
    },
    {
      "cell_type": "markdown",
      "metadata": {
        "id": "Oy1tFMeQEsW8"
      },
      "source": [
        "How do you sort a stack?\n",
        "\n",
        "we will make a helper stack\n",
        "pop from first stack\n",
        "put in second stack\n",
        "\n",
        "take out the next, \n",
        "make comparision - is the 1 in the second stack bigger or smaller\n",
        "\n",
        "we take bigger one out\n",
        "\n",
        "put smaller 1 in\n",
        "\n",
        "put bigger ones in the original stack\n",
        "\n",
        "runtime:\n",
        "best case linear\n",
        "worst case, move each in new stack back to old stack and move over again\n",
        "worst case - n^2 because for every element we move n operations\n",
        "space O(n) 1 single stack at max n\n",
        "\n",
        "we could optimize if we could use another data structure to sort in array\n",
        "time complexity of sort nlogn"
      ]
    },
    {
      "cell_type": "code",
      "metadata": {
        "id": "HmMQOjH4EnUL"
      },
      "source": [
        "class Stack:\n",
        "  def __init__(self):\n",
        "    self.storage = []\n",
        "\n",
        "  def push(self, item):\n",
        "    self.storage.append(item)\n",
        "\n",
        "  def pop(self):\n",
        "    return self.storage.pop()\n",
        "\n",
        "  def peek(self):\n",
        "    return self.storage[-1]\n",
        "\n",
        "  def isEmpty(self):\n",
        "    return len(self.storage) == 0\n",
        "\n",
        "  def printContents(self):\n",
        "    for item in self.storage:\n",
        "      print(item)\n",
        "      \n",
        "      \n",
        "\n",
        "# input is a stack\n",
        "def sortedStack(input):\n",
        "  # keep doing the below until our input stack is empty\n",
        "  output = Stack()\n",
        "  while not input.isEmpty():\n",
        "    # pop off the top element of the input stack\n",
        "    temp = input.pop()\n",
        "    # loop until output stack is empty or input var is bigger than top of output stack\n",
        "    while (not output.isEmpty()) and output.peek() > temp:\n",
        "      # move top of output to input\n",
        "      input.push(output.pop())\n",
        "      \n",
        "      \n",
        "    # move our input var to output stack\n",
        "    output.push(temp)\n",
        "    \n",
        "  return output\n",
        "  \n",
        "      \n",
        "\n",
        "s = Stack()\n",
        "s.push(4)\n",
        "s.push(10)\n",
        "s.push(8)\n",
        "s.push(5)\n",
        "s.push(1)\n",
        "s.push(6)\n",
        "\n",
        "sortStack = sortedStack(s)\n",
        "\n",
        "sortStack.printContents()"
      ],
      "execution_count": null,
      "outputs": []
    }
  ]
}