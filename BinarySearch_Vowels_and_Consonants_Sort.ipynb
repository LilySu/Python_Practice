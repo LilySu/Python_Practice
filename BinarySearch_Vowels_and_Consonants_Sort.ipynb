{
  "nbformat": 4,
  "nbformat_minor": 0,
  "metadata": {
    "colab": {
      "name": "BinarySearch_Vowels and Consonants Sort.ipynb",
      "provenance": [],
      "authorship_tag": "ABX9TyM1uTYanPiyFLBoCSdHg0o/",
      "include_colab_link": true
    },
    "kernelspec": {
      "name": "python3",
      "display_name": "Python 3"
    }
  },
  "cells": [
    {
      "cell_type": "markdown",
      "metadata": {
        "id": "view-in-github",
        "colab_type": "text"
      },
      "source": [
        "<a href=\"https://colab.research.google.com/github/LilySu/Python_Practice/blob/master/BinarySearch_Vowels_and_Consonants_Sort.ipynb\" target=\"_parent\"><img src=\"https://colab.research.google.com/assets/colab-badge.svg\" alt=\"Open In Colab\"/></a>"
      ]
    },
    {
      "cell_type": "markdown",
      "metadata": {
        "id": "2USliLwoyUag"
      },
      "source": [
        "Given a lowercase alphabet string s, return a string with all the vowels of s in sorted order followed by all the consonants of s in sorted order.\n",
        "\n",
        "Note: vowels are [\"a\", \"e\", \"i\", \"o\", \"u\"] and consonants are all other characters.\n",
        "```\n",
        "Constraints\n",
        "\n",
        "n ≤ 100,000 where n is the length of s\n",
        "Example 1\n",
        "Input\n",
        "\n",
        "s = \"decalin\"\n",
        "Output\n",
        "\n",
        "\"aeicdln\"\n",
        "Explanation\n",
        "\n",
        "Vowels are \"eai\" which when sorted is \"aei\"\n",
        "Consonants are \"dcln\" which when sorted is \"cdln\"\n",
        "Their concatenation is \"aeicdln\"\n",
        "```"
      ]
    },
    {
      "cell_type": "code",
      "metadata": {
        "id": "lJSCzr5lxLLi"
      },
      "source": [
        "class Solution:\n",
        "    def solve(self, s):\n",
        "        vowels = [\"a\", \"e\", \"i\", \"o\", \"u\"]\n",
        "        sv = \"\"\n",
        "        for i in s:\n",
        "            if i in vowels:\n",
        "                sv += i\n",
        "                s = s.replace(i,\"\", 1)\n",
        "        a = sorted(sv)\n",
        "        b = sorted(s)\n",
        "        return ''.join(a + b)"
      ],
      "execution_count": null,
      "outputs": []
    },
    {
      "cell_type": "code",
      "metadata": {
        "id": "p0jQkBDFxM5b"
      },
      "source": [
        "# Vowels come first, so they have a lower keyfunction value.\n",
        "\n",
        "class Solution:\n",
        "    def solve(self, s):\n",
        "        arr = sorted(s, key=lambda c: (c not in \"aeiou\", c))\n",
        "        # key is a function for each element\n",
        "        return \"\".join(arr)"
      ],
      "execution_count": null,
      "outputs": []
    },
    {
      "cell_type": "code",
      "metadata": {
        "id": "FGGqYN6c0aK9"
      },
      "source": [
        "    def solve(self, s):\n",
        "        def myFunc(x):\n",
        "            return x not in \"aeiou\", x\n",
        "        res = sorted(s, key = myFunc)\n",
        "        return \"\".join(res)\n",
        "\n",
        "# sort element in dictionary, specify you sort by age with key\n",
        "# false conditional outputs comes true in sorting\n",
        "# conditionals need to be specified first in tuple"
      ],
      "execution_count": null,
      "outputs": []
    },
    {
      "cell_type": "code",
      "metadata": {
        "id": "oA8BbWycxUjv"
      },
      "source": [
        "create two sorted arrays, one with vowels, other with consonant, and return the joined result.\n",
        "class Solution:\n",
        "    def solve(self, s):\n",
        "        return \"\".join(sorted(filter(vowels, s)) + sorted(filter(consonant, s)))\n",
        "\n",
        "\n",
        "def consonant(c):\n",
        "    return not vowels(c)\n",
        "\n",
        "\n",
        "def vowels(c):\n",
        "    return c in \"aeoui\""
      ],
      "execution_count": null,
      "outputs": []
    },
    {
      "cell_type": "code",
      "metadata": {
        "id": "gwgoVp6Oyxz7",
        "outputId": "768abbe5-201e-43c4-8b8b-ad04aa26865e",
        "colab": {
          "base_uri": "https://localhost:8080/"
        }
      },
      "source": [
        "s = \"decalin\"\n",
        "s = ['f','a','c']\n",
        "s.sort()\n",
        "print(s)"
      ],
      "execution_count": 4,
      "outputs": [
        {
          "output_type": "stream",
          "text": [
            "['a', 'c', 'f']\n"
          ],
          "name": "stdout"
        }
      ]
    },
    {
      "cell_type": "code",
      "metadata": {
        "id": "xLWhDl8ly0Fd",
        "outputId": "cc9b3f16-d61e-463a-a530-5490ebb03cfb",
        "colab": {
          "base_uri": "https://localhost:8080/"
        }
      },
      "source": [
        "import time\n",
        "\n",
        "start = time.time()\n",
        "\n",
        "# class Solution:\n",
        "#     def solve(self, s):\n",
        "#         vowels = [\"a\", \"e\", \"i\", \"o\", \"u\"]\n",
        "#         sv = \"\"\n",
        "#         for i in s:\n",
        "#             if i in vowels:\n",
        "#                 sv += i\n",
        "#                 s = s.replace(i,\"\", 1)\n",
        "#         a = sorted(sv)\n",
        "#         b = sorted(s)\n",
        "#         return ''.join(a + b)\n",
        "\n",
        "class Solution:\n",
        "    def solve(self, s):\n",
        "        arr = sorted(s, key=lambda c: (c not in \"aeiou\", c))\n",
        "        # key is a function for each element\n",
        "        return \"\".join(arr)\n",
        "        \n",
        "Tom = Solution()\n",
        "print(\"\\nOutput =\", Tom.solve(\"decalin\"))\n",
        "\n",
        "print(\"Run Time = \", (time.time() - start)* 1000)\n"
      ],
      "execution_count": 10,
      "outputs": [
        {
          "output_type": "stream",
          "text": [
            "\n",
            "Output = aeicdln\n",
            "Run Time =  0.25153160095214844\n"
          ],
          "name": "stdout"
        }
      ]
    },
    {
      "cell_type": "code",
      "metadata": {
        "id": "KGExq9Ga0-cH"
      },
      "source": [
        ""
      ],
      "execution_count": null,
      "outputs": []
    }
  ]
}