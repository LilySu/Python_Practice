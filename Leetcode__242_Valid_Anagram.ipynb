{
  "nbformat": 4,
  "nbformat_minor": 0,
  "metadata": {
    "colab": {
      "name": "Leetcode_#242_Valid_Anagram.ipynb",
      "provenance": [],
      "authorship_tag": "ABX9TyPVinp5vTvndoylZQEo6t94",
      "include_colab_link": true
    },
    "kernelspec": {
      "name": "python3",
      "display_name": "Python 3"
    }
  },
  "cells": [
    {
      "cell_type": "markdown",
      "metadata": {
        "id": "view-in-github",
        "colab_type": "text"
      },
      "source": [
        "<a href=\"https://colab.research.google.com/github/LilySu/Python_Practice/blob/master/Leetcode__242_Valid_Anagram.ipynb\" target=\"_parent\"><img src=\"https://colab.research.google.com/assets/colab-badge.svg\" alt=\"Open In Colab\"/></a>"
      ]
    },
    {
      "cell_type": "markdown",
      "metadata": {
        "id": "QYe9F5hlxjab",
        "colab_type": "text"
      },
      "source": [
        "Given two strings s and t , write a function to determine if t is an anagram of s.\n",
        "\n",
        "Example 1:\n",
        "```\n",
        "Input: s = \"anagram\", t = \"nagaram\"\n",
        "Output: true\n",
        "Example 2:\n",
        "\n",
        "Input: s = \"rat\", t = \"car\"\n",
        "Output: false\n",
        "```\n",
        "Note:\n",
        "You may assume the string contains only lowercase alphabets.\n",
        "\n",
        "Follow up:\n",
        "What if the inputs contain unicode characters? How would you adapt your solution to such case?"
      ]
    },
    {
      "cell_type": "code",
      "metadata": {
        "id": "K1EdH-l4xhYr",
        "colab_type": "code",
        "colab": {}
      },
      "source": [
        "class Solution(object):\n",
        "    def isAnagram(self, s, t):\n",
        "        \"\"\"\n",
        "        :type s: str\n",
        "        :type t: str\n",
        "        :rtype: bool\n",
        "        \"\"\""
      ],
      "execution_count": null,
      "outputs": []
    },
    {
      "cell_type": "code",
      "metadata": {
        "id": "MLcW17OUygj_",
        "colab_type": "code",
        "colab": {
          "base_uri": "https://localhost:8080/",
          "height": 34
        },
        "outputId": "d5e220a5-2dbb-48e7-d4cb-6e1677b62011"
      },
      "source": [
        "def isAnagram(s, t):\n",
        "    \"\"\"\n",
        "    :type s: str\n",
        "    :type t: str\n",
        "    :rtype: bool\n",
        "    \"\"\"\n",
        "    sl = list(s)\n",
        "    tl = list(t)\n",
        "    for i in sl:\n",
        "        if i in tl:\n",
        "            tl.remove(i)\n",
        "    if tl == [] and len(s) == len(t):\n",
        "        return True\n",
        "    else:\n",
        "        return False\n",
        "\n",
        "\n",
        "# s = \"anagram\"\n",
        "# t = \"nagaram\"\n",
        "s = \"rat\"\n",
        "t = \"car\"\n",
        "isAnagram(s, t)"
      ],
      "execution_count": 24,
      "outputs": [
        {
          "output_type": "execute_result",
          "data": {
            "text/plain": [
              "False"
            ]
          },
          "metadata": {
            "tags": []
          },
          "execution_count": 24
        }
      ]
    },
    {
      "cell_type": "code",
      "metadata": {
        "id": "nIYAtrt3ykXt",
        "colab_type": "code",
        "colab": {
          "base_uri": "https://localhost:8080/",
          "height": 34
        },
        "outputId": "635286ca-0035-4632-83ed-939fe22f3f0a"
      },
      "source": [
        "s = \"anagram\"\n",
        "s = list(s)\n",
        "s.remove('a')\n",
        "s"
      ],
      "execution_count": 16,
      "outputs": [
        {
          "output_type": "execute_result",
          "data": {
            "text/plain": [
              "['n', 'a', 'g', 'r', 'a', 'm']"
            ]
          },
          "metadata": {
            "tags": []
          },
          "execution_count": 16
        }
      ]
    },
    {
      "cell_type": "code",
      "metadata": {
        "id": "a8GmXoP00HoG",
        "colab_type": "code",
        "colab": {}
      },
      "source": [
        ""
      ],
      "execution_count": null,
      "outputs": []
    }
  ]
}