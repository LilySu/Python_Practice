{
  "nbformat": 4,
  "nbformat_minor": 0,
  "metadata": {
    "colab": {
      "name": "Leetcode_#171_Excel_Sheet_Column_Number.ipynb",
      "provenance": [],
      "authorship_tag": "ABX9TyPKWXvNC+VT5MrfQsc18edi",
      "include_colab_link": true
    },
    "kernelspec": {
      "name": "python3",
      "display_name": "Python 3"
    }
  },
  "cells": [
    {
      "cell_type": "markdown",
      "metadata": {
        "id": "view-in-github",
        "colab_type": "text"
      },
      "source": [
        "<a href=\"https://colab.research.google.com/github/LilySu/Python_Practice/blob/master/Leetcode__171_Excel_Sheet_Column_Number.ipynb\" target=\"_parent\"><img src=\"https://colab.research.google.com/assets/colab-badge.svg\" alt=\"Open In Colab\"/></a>"
      ]
    },
    {
      "cell_type": "markdown",
      "metadata": {
        "id": "8cMrMBWGzLxR",
        "colab_type": "text"
      },
      "source": [
        "\n",
        "Given a column title as appear in an Excel sheet, return its corresponding column number.\n",
        "'''\n",
        "\n",
        "For example:\n",
        "\n",
        "    A -> 1\n",
        "    B -> 2\n",
        "    C -> 3\n",
        "    ...\n",
        "    Z -> 26\n",
        "    AA -> 27\n",
        "    AB -> 28 \n",
        "    ...\n",
        "```\n",
        "Example 1:\n",
        "\n",
        "Input: \"A\"\n",
        "Output: 1\n",
        "Example 2:\n",
        "\n",
        "Input: \"AB\"\n",
        "Output: 28\n",
        "Example 3:\n",
        "\n",
        "Input: \"ZY\"\n",
        "Output: 701\n",
        " \n",
        "\n",
        "Constraints:\n",
        "\n",
        "1 <= s.length <= 7\n",
        "s consists only of uppercase English letters.\n",
        "s is between \"A\" and \"FXSHRXW\".\n",
        "```"
      ]
    },
    {
      "cell_type": "code",
      "metadata": {
        "id": "9KABpOPiy8g8",
        "colab_type": "code",
        "colab": {}
      },
      "source": [
        "def titleToNumber(s):\n",
        "    \"\"\"\n",
        "    :type s: str\n",
        "    :rtype: int\n",
        "    \"\"\"\n",
        "\n",
        "    return s\n",
        "\n",
        "titleToNumber(\"ZY\")"
      ],
      "execution_count": null,
      "outputs": []
    },
    {
      "cell_type": "code",
      "metadata": {
        "id": "K08QbfI20DEa",
        "colab_type": "code",
        "colab": {
          "base_uri": "https://localhost:8080/",
          "height": 466
        },
        "outputId": "a984be60-a786-46fe-d191-2f5cc9b09478"
      },
      "source": [
        "import string\n",
        "values = {}\n",
        "for index, letter in enumerate(string.ascii_uppercase):\n",
        "    values[letter] = index + 1\n",
        "values"
      ],
      "execution_count": 2,
      "outputs": [
        {
          "output_type": "execute_result",
          "data": {
            "text/plain": [
              "{'A': 1,\n",
              " 'B': 2,\n",
              " 'C': 3,\n",
              " 'D': 4,\n",
              " 'E': 5,\n",
              " 'F': 6,\n",
              " 'G': 7,\n",
              " 'H': 8,\n",
              " 'I': 9,\n",
              " 'J': 10,\n",
              " 'K': 11,\n",
              " 'L': 12,\n",
              " 'M': 13,\n",
              " 'N': 14,\n",
              " 'O': 15,\n",
              " 'P': 16,\n",
              " 'Q': 17,\n",
              " 'R': 18,\n",
              " 'S': 19,\n",
              " 'T': 20,\n",
              " 'U': 21,\n",
              " 'V': 22,\n",
              " 'W': 23,\n",
              " 'X': 24,\n",
              " 'Y': 25,\n",
              " 'Z': 26}"
            ]
          },
          "metadata": {
            "tags": []
          },
          "execution_count": 2
        }
      ]
    },
    {
      "cell_type": "code",
      "metadata": {
        "id": "cd87jvWU0gJX",
        "colab_type": "code",
        "colab": {
          "base_uri": "https://localhost:8080/",
          "height": 34
        },
        "outputId": "0bf2c627-48f5-4972-e66d-81df77b4ed2e"
      },
      "source": [
        "values = {}\n",
        "for index, letter in enumerate(string.ascii_uppercase):\n",
        "    values[letter] = index + 1\n",
        "\n",
        "s = 'AAA'\n",
        "result = values[s[-1]]\n",
        "if len(s) > 1:\n",
        "    for index, value in enumerate(reversed(s[:-1])):\n",
        "        multiplier = 26 ** (index+1)\n",
        "        result += values[value] * multiplier\n",
        "result\n",
        "# for items in values:\n",
        "#     print(key)"
      ],
      "execution_count": 20,
      "outputs": [
        {
          "output_type": "execute_result",
          "data": {
            "text/plain": [
              "703"
            ]
          },
          "metadata": {
            "tags": []
          },
          "execution_count": 20
        }
      ]
    },
    {
      "cell_type": "code",
      "metadata": {
        "id": "-R6eNsbb1ANw",
        "colab_type": "code",
        "colab": {
          "base_uri": "https://localhost:8080/",
          "height": 34
        },
        "outputId": "139154b8-67a2-4554-e60e-2a14487ae6e3"
      },
      "source": [
        "s = 'ABC'\n",
        "reversed(s[:-1])"
      ],
      "execution_count": 18,
      "outputs": [
        {
          "output_type": "execute_result",
          "data": {
            "text/plain": [
              "<reversed at 0x7fc4d13afb38>"
            ]
          },
          "metadata": {
            "tags": []
          },
          "execution_count": 18
        }
      ]
    },
    {
      "cell_type": "code",
      "metadata": {
        "id": "6ERLvyiQ2F3A",
        "colab_type": "code",
        "colab": {}
      },
      "source": [
        "class Solution(object):\n",
        "    def titleToNumber(self, s):\n",
        "        \"\"\"\n",
        "        :type s: str\n",
        "        :rtype: int\n",
        "        \"\"\"\n",
        "        # For each letter of the alphabet, correspond that to a number\n",
        "        values = {}\n",
        "        for index, letter in enumerate(string.ascii_uppercase):\n",
        "            values[letter] = index + 1\n",
        "        \n",
        "        result = values[s[-1]]\n",
        "        if len(s) > 1:\n",
        "            for index, value in enumerate(reversed(s[:-1])):\n",
        "                multiplier = 26 ** (index+1)\n",
        "                result += values[value] * multiplier\n",
        "        return result"
      ],
      "execution_count": null,
      "outputs": []
    }
  ]
}