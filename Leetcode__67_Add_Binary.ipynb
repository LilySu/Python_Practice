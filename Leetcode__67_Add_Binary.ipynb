{
  "nbformat": 4,
  "nbformat_minor": 0,
  "metadata": {
    "colab": {
      "name": "Leetcode_#67_Add_Binary.ipynb",
      "provenance": [],
      "authorship_tag": "ABX9TyMImFEohp7wmyHSiaf2DYhC",
      "include_colab_link": true
    },
    "kernelspec": {
      "name": "python3",
      "display_name": "Python 3"
    }
  },
  "cells": [
    {
      "cell_type": "markdown",
      "metadata": {
        "id": "view-in-github",
        "colab_type": "text"
      },
      "source": [
        "<a href=\"https://colab.research.google.com/github/LilySu/Python_Practice/blob/master/Leetcode__67_Add_Binary.ipynb\" target=\"_parent\"><img src=\"https://colab.research.google.com/assets/colab-badge.svg\" alt=\"Open In Colab\"/></a>"
      ]
    },
    {
      "cell_type": "markdown",
      "metadata": {
        "id": "QhAi1QG5_1dg",
        "colab_type": "text"
      },
      "source": [
        "Given two binary strings, return their sum (also a binary string).\n",
        "\n",
        "The input strings are both non-empty and contains only characters 1 or 0.\n",
        "```\n",
        "Example 1:\n",
        "\n",
        "Input: a = \"11\", b = \"1\"\n",
        "Output: \"100\"\n",
        "Example 2:\n",
        "\n",
        "Input: a = \"1010\", b = \"1011\"\n",
        "Output: \"10101\"\n",
        " ```\n",
        "\n",
        "Constraints:\n",
        "```\n",
        "Each string consists only of '0' or '1' characters.\n",
        "1 <= a.length, b.length <= 10^4\n",
        "Each string is either \"0\" or doesn't contain any leading zero.\n",
        "```"
      ]
    },
    {
      "cell_type": "code",
      "metadata": {
        "id": "-35gcA4t_x6z",
        "colab_type": "code",
        "colab": {}
      },
      "source": [
        "class Solution(object):\n",
        "    def addBinary(self, a, b):\n",
        "        \"\"\"\n",
        "        :type a: str\n",
        "        :type b: str\n",
        "        :rtype: str\n",
        "        \"\"\"\n",
        "        a = int(a, base=2)\n",
        "        b = int(b, base=2)\n",
        "        c = a + b\n",
        "        return \"{0:b}\".format(c)"
      ],
      "execution_count": null,
      "outputs": []
    },
    {
      "cell_type": "markdown",
      "metadata": {
        "id": "KO690nOgBlSh",
        "colab_type": "text"
      },
      "source": [
        ""
      ]
    }
  ]
}