{
  "nbformat": 4,
  "nbformat_minor": 0,
  "metadata": {
    "colab": {
      "name": "Hackerrank_Truck_Touripynb",
      "provenance": [],
      "authorship_tag": "ABX9TyMXRtyhfzQ4yHsVydKyL0Mf",
      "include_colab_link": true
    },
    "kernelspec": {
      "name": "python3",
      "display_name": "Python 3"
    }
  },
  "cells": [
    {
      "cell_type": "markdown",
      "metadata": {
        "id": "view-in-github",
        "colab_type": "text"
      },
      "source": [
        "<a href=\"https://colab.research.google.com/github/LilySu/Python_Practice/blob/master/Hackerrank_Truck_Touripynb.ipynb\" target=\"_parent\"><img src=\"https://colab.research.google.com/assets/colab-badge.svg\" alt=\"Open In Colab\"/></a>"
      ]
    },
    {
      "cell_type": "markdown",
      "metadata": {
        "id": "5R9ato0MAMAg"
      },
      "source": [
        "Suppose there is a circle. There are  petrol pumps on that circle. Petrol pumps are numbered  to  (both inclusive). You have two pieces of information corresponding to each of the petrol pump: (1) the amount of petrol that particular petrol pump will give, and (2) the distance from that petrol pump to the next petrol pump.\r\n",
        "\r\n",
        "Initially, you have a tank of infinite capacity carrying no petrol. You can start the tour at any of the petrol pumps. Calculate the first point from where the truck will be able to complete the circle. Consider that the truck will stop at each of the petrol pumps. The truck will move one kilometer for each litre of the petrol.\r\n",
        "\r\n",
        "Input Format\r\n",
        "\r\n",
        "The first line will contain the value of .\r\n",
        "The next  lines will contain a pair of integers each, i.e. the amount of petrol that petrol pump will give and the distance between that petrol pump and the next petrol pump.\r\n",
        "```\r\n",
        "Constraints:\r\n",
        "\r\n",
        "\r\n",
        "Output Format\r\n",
        "\r\n",
        "An integer which will be the smallest index of the petrol pump from which we can start the tour.\r\n",
        "\r\n",
        "Sample Input\r\n",
        "\r\n",
        "3\r\n",
        "1 5\r\n",
        "10 3\r\n",
        "3 4\r\n",
        "Sample Output\r\n",
        "\r\n",
        "1\r\n",
        "Explanation\r\n",
        "\r\n",
        "We can start the tour from the second petrol pump.\r\n",
        "```"
      ]
    },
    {
      "cell_type": "code",
      "metadata": {
        "id": "I8qW1F7_ACZm"
      },
      "source": [
        "def truckTour(petrolpumps):\r\n",
        "    # At every pump\r\n",
        "    # Keep track of current petrol\r\n",
        "    # Add to our current petrol\r\n",
        "    # If our storage of petrol is equal or greater than the distance\r\n",
        "    # Travel to the next one:\r\n",
        "        # Increment Index, subtract the distance from current\r\n",
        "    # If we make into our starting point, then we can answer true\r\n",
        "\r\n",
        "\r\n",
        "    # we can make a for loop for all of the above going through all the steps for each petrol pump\r\n",
        "    # the big O is n^2\r\n",
        "    # O(n) for circular cache\r\n",
        "\r\n",
        "    start = 0\r\n",
        "    current = 0\r\n",
        "    petrol = 0\r\n",
        "    while start <= len(petrolpumps):\r\n",
        "        petrol += petrolpumps[current][0] # start at the 0eth index the first item\r\n",
        "        petrol -= petrolpumps[current][1] # remove from distance\r\n",
        "        if petrol < 0: # if we have less than 0, we cannot make it around\r\n",
        "            start = current + 1\r\n",
        "            current = start\r\n",
        "            petrol = 0\r\n",
        "            continue\r\n",
        "\r\n",
        "        current = (current + 1) % len(petrolpumps)\r\n",
        "            # if we are at the end, go back to start\r\n",
        "        # if we can make it around:\r\n",
        "        # current += 1 # if petrol is bigger than 0, increment and keep going\r\n",
        "        # if current > len(petrolpumps):\r\n",
        "        #     current = 0\r\n",
        "        if current == start:\r\n",
        "            return start\r\n",
        "    return None\r\n",
        "        \r\n"
      ],
      "execution_count": null,
      "outputs": []
    },
    {
      "cell_type": "code",
      "metadata": {
        "id": "k_T8U4aiGp4i"
      },
      "source": [
        "# last implementation\r\n",
        "\r\n",
        "\r\n",
        "\r\n",
        "import os\r\n",
        "import sys\r\n",
        "\r\n",
        "#\r\n",
        "# Complete the truckTour function below.\r\n",
        "#\r\n",
        "def truckTour(petrolpumps):\r\n",
        "    # store tank\r\n",
        "    tank = 0\r\n",
        "    # \r\n",
        "    # we want pointers, not index\r\n",
        "    # two pointers, start position == head, current position == tail\r\n",
        "    start = 0\r\n",
        "    current = 0\r\n",
        "    # This is what we are first going to do, we will come back to it\r\n",
        "    while start < len(petrolpumps):\r\n",
        "        tank += petrolpumps[current][0]\r\n",
        "        tank -= petrolpumps[current][1]\r\n",
        "        if tank >= 0:\r\n",
        "            current += 1\r\n",
        "            # if we try to move our current out of bounds, then we reset it to 0\r\n",
        "            if current >= len(petrolpumps):\r\n",
        "                current = 0\r\n",
        "            # # hey if we made it all the way arround, 4 % 4 is going to take us all the way around\r\n",
        "            # current = (current + 1) % len(petrolpumps)\r\n",
        "            # if our head and our tail are at the same point, then we've made it all the way around\r\n",
        "            # return it}\r\n",
        "            # if we have to move our start, then we can't be checking this\r\n",
        "            if current == start:\r\n",
        "                return start\r\n",
        "        else:\r\n",
        "            start += 1\r\n",
        "            current = start # because sometimes current is more than 1 step ahead of start maybe even 3 - 4 over\r\n",
        "            # reset our gas tank = 0\r\n",
        "            tank = 0\r\n",
        "\r\n",
        "\r\n",
        "if __name__ == '__main__':\r\n",
        "    fptr = open(os.environ['OUTPUT_PATH'], 'w')\r\n",
        "\r\n",
        "    n = int(input())\r\n",
        "\r\n",
        "    petrolpumps = []\r\n",
        "\r\n",
        "    for _ in range(n):\r\n",
        "        petrolpumps.append(list(map(int, input().rstrip().split())))\r\n",
        "\r\n",
        "    result = truckTour(petrolpumps)\r\n",
        "\r\n",
        "    fptr.write(str(result) + '\\n')\r\n",
        "\r\n",
        "    fptr.close()\r\n"
      ],
      "execution_count": null,
      "outputs": []
    }
  ]
}