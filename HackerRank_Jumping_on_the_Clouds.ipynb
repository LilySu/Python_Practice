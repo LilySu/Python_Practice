{
  "nbformat": 4,
  "nbformat_minor": 0,
  "metadata": {
    "colab": {
      "name": "HackerRank_Jumping on the Clouds.ipynb",
      "provenance": [],
      "authorship_tag": "ABX9TyMJQW8PEZYeUJJvr+22AabI",
      "include_colab_link": true
    },
    "kernelspec": {
      "name": "python3",
      "display_name": "Python 3"
    }
  },
  "cells": [
    {
      "cell_type": "markdown",
      "metadata": {
        "id": "view-in-github",
        "colab_type": "text"
      },
      "source": [
        "<a href=\"https://colab.research.google.com/github/LilySu/Python_Practice/blob/master/HackerRank_Jumping_on_the_Clouds.ipynb\" target=\"_parent\"><img src=\"https://colab.research.google.com/assets/colab-badge.svg\" alt=\"Open In Colab\"/></a>"
      ]
    },
    {
      "cell_type": "markdown",
      "metadata": {
        "id": "CDkbFYliLGn-"
      },
      "source": [
        "Emma is playing a new mobile game that starts with consecutively numbered clouds. Some of the clouds are thunderheads and others are cumulus. She can jump on any cumulus cloud having a number that is equal to the number of the current cloud plus  or . She must avoid the thunderheads. Determine the minimum number of jumps it will take Emma to jump from her starting postion to the last cloud. It is always possible to win the game.\n",
        "\n",
        "For each game, Emma will get an array of clouds numbered  if they are safe or  if they must be avoided. For example,  indexed from . The number on each cloud is its index in the list so she must avoid the clouds at indexes  and . She could follow the following two paths:  or . The first path takes  jumps while the second takes .\n",
        "\n",
        "Function Description\n",
        "\n",
        "Complete the jumpingOnClouds function in the editor below. It should return the minimum number of jumps required, as an integer.\n",
        "\n",
        "jumpingOnClouds has the following parameter(s):\n",
        "\n",
        "c: an array of binary integers\n",
        "Input Format\n",
        "\n",
        "The first line contains an integer , the total number of clouds. The second line contains  space-separated binary integers describing clouds  where .\n",
        "\n",
        "Constraints\n",
        "\n",
        "Output Format\n",
        "\n",
        "Print the minimum number of jumps needed to win the game.\n",
        "```\n",
        "Sample Input 0\n",
        "\n",
        "7\n",
        "0 0 1 0 0 1 0\n",
        "Sample Output 0\n",
        "\n",
        "4\n",
        "Explanation 0:\n",
        "Emma must avoid  and . She can win the game with a minimum of  jumps:\n",
        "\n",
        "jump(2).png\n",
        "\n",
        "Sample Input 1\n",
        "\n",
        "6\n",
        "0 0 0 0 1 0\n",
        "Sample Output 1\n",
        "\n",
        "3\n",
        "\n",
        "Explanation 1:\n",
        "The only thundercloud to avoid is . Emma can win the game in  jumps:\n",
        "```"
      ]
    },
    {
      "cell_type": "code",
      "metadata": {
        "id": "gq2PYseULBxy"
      },
      "source": [
        "def jumpingOnClouds(c):\n",
        "    # store steps\n",
        "    count = 0\n",
        "    # keep track of current cloud\n",
        "    i = 0\n",
        "    # iterate over array c\n",
        "    while i < (len(c) - 1):\n",
        "        \n",
        "        # because we want shortest path\n",
        "        # we want to jump 2 where possible\n",
        "        # check if current + 2 is still in our array\n",
        "        # check if the next item is 1 or not - current +2 item is 1\n",
        "            # if it is 0 jump 1\n",
        "            # if it is not 1 jump 2 - we have to check if next is a 1\n",
        "        # increment our jump count\n",
        "        # or if current + 2 >= len(c) or c[current+2] == 1:\n",
        "        if i < (len(c) - 2) and c[i+2] == 1:\n",
        "            i += 1\n",
        "        else:\n",
        "            i += 2\n",
        "        count += 1\n",
        "    return count\n",
        "\n",
        "# space complexity affected only when data structures are created\n",
        "# because we are only storing numbers \n",
        "# you pass in c, new variables you create, you count space on them\n",
        "# no data structures, so O(1)\n",
        "# time complexity is O(n) - worse case scenario, we touch everything in array\n",
        "# O(n), n = the length of c\n"
      ],
      "execution_count": null,
      "outputs": []
    },
    {
      "cell_type": "code",
      "metadata": {
        "id": "RjCteOGELhh4"
      },
      "source": [
        "# Complete the jumpingOnClouds function below.\n",
        "def jumpingOnClouds(c):\n",
        "    # store the number of jumps that we take\n",
        "    num_jumps = 0\n",
        "    # keep track of the current cloud we're on (index)\n",
        "    current = 0\n",
        "    # while loop over c (end when our current cloud is >= len(c))\n",
        "    total_clouds = len(c)\n",
        "    while current < (total_clouds - 1):\n",
        "        if current + 2 >= total_clouds or c[current+2] == 1:\n",
        "            # then jump 1\n",
        "            current += 1\n",
        "        else:\n",
        "            current += 2\n",
        "        num_jumps += 1\n",
        "    \n",
        "    return num_jumps\n",
        "        # either increment by 1 or 2\n",
        "        # we always want to jump 2 if we can, because we want the shortest path\n",
        "        # check if we can jump 2:\n",
        "        # check if current + 2 is still in our array or if the current + 2 item is 1 (thunderhead)\n",
        "            # if it is thunderhead, \n",
        "            # if it's not a thunderhead, jump 2\n",
        "        # increment our jump count\n",
        "        \n",
        "def jumpingOnClouds(c):\n",
        "    x,y = 0,0\n",
        "    while x<len(c)-2:\n",
        "        x = x+1 if c[x+2] else x+2\n",
        "        y+=1\n",
        "    if x<len(c)-1:\n",
        "        y+=1\n",
        "    return y\n",
        "    \n",
        "input()\n",
        "c = list(map(int,input().split()))\n",
        "print(jumpingOnClouds(c))"
      ],
      "execution_count": null,
      "outputs": []
    }
  ]
}