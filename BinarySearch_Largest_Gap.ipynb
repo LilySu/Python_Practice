{
  "nbformat": 4,
  "nbformat_minor": 0,
  "metadata": {
    "colab": {
      "name": "BinarySearch_Largest_Gap.ipynb",
      "provenance": [],
      "authorship_tag": "ABX9TyNBlNz6U+jzpt2t7SRYYT4Q",
      "include_colab_link": true
    },
    "kernelspec": {
      "name": "python3",
      "display_name": "Python 3"
    }
  },
  "cells": [
    {
      "cell_type": "markdown",
      "metadata": {
        "id": "view-in-github",
        "colab_type": "text"
      },
      "source": [
        "<a href=\"https://colab.research.google.com/github/LilySu/Python_Practice/blob/master/BinarySearch_Largest_Gap.ipynb\" target=\"_parent\"><img src=\"https://colab.research.google.com/assets/colab-badge.svg\" alt=\"Open In Colab\"/></a>"
      ]
    },
    {
      "cell_type": "markdown",
      "metadata": {
        "id": "M07BZYcrPrzk"
      },
      "source": [
        "Given a list of integers nums, return the largest difference of two consecutive integers in the sorted version of nums.\n",
        "\n",
        "Constraints\n",
        "```\n",
        "n ≤ 100,000 where n is the length of nums\n",
        "Example 1\n",
        "Input\n",
        "\n",
        "nums = [4, 1, 2, 8, 9, 10]\n",
        "Output\n",
        "\n",
        "4\n",
        "Explanation\n",
        "\n",
        "The largest gap is between 4 and 8.\n",
        "```"
      ]
    },
    {
      "cell_type": "code",
      "metadata": {
        "id": "6vsCTNJLP8yB"
      },
      "source": [
        "class Solution:\n",
        "    def solve(self, nums):\n",
        "        sorted_nums = sorted(nums)\n",
        "        diff_list = []\n",
        "        for i in range(len(sorted_nums) - 1):\n",
        "            diff_list.append(sorted_nums[i + 1] - sorted_nums[i])\n",
        "        return max(diff_list)"
      ],
      "execution_count": null,
      "outputs": []
    },
    {
      "cell_type": "code",
      "metadata": {
        "id": "kxGBboQMQSKa"
      },
      "source": [
        "class Solution:\n",
        "    def solve(self, nums):\n",
        "        sorted_nums = sorted(nums)\n",
        "        largest_diff = 0\n",
        "        for i in range(len(sorted_nums) - 1):\n",
        "            current_diff = sorted_nums[i+1] - sorted_nums[i]\n",
        "            if current_diff > largest_diff:\n",
        "                largest_diff = current_diff\n",
        "        return largest_diff"
      ],
      "execution_count": null,
      "outputs": []
    },
    {
      "cell_type": "code",
      "metadata": {
        "id": "VdRFjWVbPo8f"
      },
      "source": [
        "class Solution:\n",
        "    def solve(self, nums):\n",
        "        sorted_nums = sorted(nums)\n",
        "        max_result = max([sorted_nums[i + 1] - sorted_nums[i] for i in range(len(sorted_nums) - 1)])\n",
        "        return max_result"
      ],
      "execution_count": null,
      "outputs": []
    },
    {
      "cell_type": "code",
      "metadata": {
        "id": "rD5SOUfFSeKp"
      },
      "source": [
        "class Solution:\n",
        "    def solve(self, nums):\n",
        "        nums.sort()\n",
        "        return max(b - a for a, b in zip(nums, nums[1:]))"
      ],
      "execution_count": null,
      "outputs": []
    },
    {
      "cell_type": "code",
      "metadata": {
        "id": "Y5ac2jMcTXVS",
        "outputId": "9903985a-778e-420f-f910-9afedf0ea2ca",
        "colab": {
          "base_uri": "https://localhost:8080/"
        }
      },
      "source": [
        "# The zip() function will only iterate over the smallest list passed.\n",
        "\n",
        "nums = [1, 2, 4, 8, 9, 10]\n",
        "ziped = [2, 4, 8, 9, 10]\n",
        "print([b - a for a, b in zip(nums, nums[1:])])"
      ],
      "execution_count": 9,
      "outputs": [
        {
          "output_type": "stream",
          "text": [
            "[1, 2, 4, 1, 1]\n"
          ],
          "name": "stdout"
        }
      ]
    },
    {
      "cell_type": "code",
      "metadata": {
        "id": "pnqd1z9vTImK",
        "outputId": "8d8aab2b-19de-45f9-bf53-b526cb133fb1",
        "colab": {
          "base_uri": "https://localhost:8080/"
        }
      },
      "source": [
        "print(nums.sort())"
      ],
      "execution_count": 5,
      "outputs": [
        {
          "output_type": "stream",
          "text": [
            "None\n"
          ],
          "name": "stdout"
        }
      ]
    },
    {
      "cell_type": "code",
      "metadata": {
        "id": "_w7LyfcXShLs",
        "outputId": "afd6e17f-a032-4610-eecf-1f8da2c05052",
        "colab": {
          "base_uri": "https://localhost:8080/"
        }
      },
      "source": [
        "nums = [1, 2, 4, 8, 9, 10]\n",
        "print(nums.sort())\n",
        "ziped = [2, 4, 8, 9, 10]\n",
        "nums[1:]"
      ],
      "execution_count": 6,
      "outputs": [
        {
          "output_type": "stream",
          "text": [
            "None\n"
          ],
          "name": "stdout"
        },
        {
          "output_type": "execute_result",
          "data": {
            "text/plain": [
              "[2, 4, 8, 9, 10]"
            ]
          },
          "metadata": {
            "tags": []
          },
          "execution_count": 6
        }
      ]
    },
    {
      "cell_type": "code",
      "metadata": {
        "id": "LfpLiVccSrRY",
        "outputId": "42b586a9-1936-4a28-e181-d5050a449ddd",
        "colab": {
          "base_uri": "https://localhost:8080/"
        }
      },
      "source": [
        "nums[2:]"
      ],
      "execution_count": 3,
      "outputs": [
        {
          "output_type": "execute_result",
          "data": {
            "text/plain": [
              "[2, 8, 9, 10]"
            ]
          },
          "metadata": {
            "tags": []
          },
          "execution_count": 3
        }
      ]
    },
    {
      "cell_type": "code",
      "metadata": {
        "id": "RZSE4JY0S46j"
      },
      "source": [
        ""
      ],
      "execution_count": null,
      "outputs": []
    }
  ]
}