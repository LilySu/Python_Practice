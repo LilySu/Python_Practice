{
  "nbformat": 4,
  "nbformat_minor": 0,
  "metadata": {
    "colab": {
      "name": "BinarySearch_Invert Tree.ipynb",
      "provenance": [],
      "authorship_tag": "ABX9TyMjLC2weBHm69hZWaXM3Qbj",
      "include_colab_link": true
    },
    "kernelspec": {
      "name": "python3",
      "display_name": "Python 3"
    }
  },
  "cells": [
    {
      "cell_type": "markdown",
      "metadata": {
        "id": "view-in-github",
        "colab_type": "text"
      },
      "source": [
        "<a href=\"https://colab.research.google.com/github/LilySu/Python_Practice/blob/master/BinarySearch_Invert_Tree.ipynb\" target=\"_parent\"><img src=\"https://colab.research.google.com/assets/colab-badge.svg\" alt=\"Open In Colab\"/></a>"
      ]
    },
    {
      "cell_type": "markdown",
      "metadata": {
        "id": "HRMSzXLdTSM3"
      },
      "source": [
        "Given a binary tree root, invert it so that its left subtree and right subtree are swapped and the children are recursively inverted.\r\n",
        "```\r\n",
        "Constraints\r\n",
        "\r\n",
        "n ≤ 100,000 where n is the number of nodes in root\r\n",
        "Example 1\r\n",
        "Input\r\n",
        "Visualize\r\n",
        "root =\r\n",
        "0\r\n",
        "\r\n",
        "2\r\n",
        "\r\n",
        "9\r\n",
        "\r\n",
        "7\r\n",
        "\r\n",
        "12\r\n",
        "\r\n",
        "Output\r\n",
        "Visualize\r\n",
        "0\r\n",
        "\r\n",
        "9\r\n",
        "\r\n",
        "2\r\n",
        "\r\n",
        "12\r\n",
        "\r\n",
        "7\r\n",
        "```"
      ]
    },
    {
      "cell_type": "markdown",
      "metadata": {
        "id": "5fI9kV_FTgJw"
      },
      "source": [
        "Intuition\r\n",
        "an iterative approach, assign left node to right node and right node to left node\r\n",
        "\r\n",
        "Implementation\r\n",
        "add root to the deque\r\n",
        "for each element in the deque, swap left and right nodes and add the child nodes to the deque until queue is empty\r\n",
        "\r\n",
        "Time Complexity\r\n",
        "linear solution, iterate through each node in worst case \\mathcal{O}(n)O(n)\r\n",
        "\r\n",
        "Space Complexity\r\n",
        "all the elements in the tree are swapped and added to the deque in worst case its \\mathcal{O}(n)O(n)"
      ]
    },
    {
      "cell_type": "code",
      "metadata": {
        "id": "06KrSmCYTQMa"
      },
      "source": [
        "# class Tree:\r\n",
        "#     def __init__(self, val, left=None, right=None):\r\n",
        "#         self.val = val\r\n",
        "#         self.left = left\r\n",
        "#         self.right = right\r\n",
        "class Solution:\r\n",
        "    def solve(self, root):\r\n",
        "        if root:\r\n",
        "            dq = deque([root])\r\n",
        "            while dq:\r\n",
        "                node = dq.popleft()\r\n",
        "                node.left = node.right\r\n",
        "                node.right = node.left\r\n",
        "                if node.left:\r\n",
        "                    dq.append(node.left)\r\n",
        "                if node.right:\r\n",
        "                    dq.append(node.right)\r\n",
        "        return root"
      ],
      "execution_count": null,
      "outputs": []
    },
    {
      "cell_type": "code",
      "metadata": {
        "id": "_8T03snSUI6K"
      },
      "source": [
        "class Solution:\r\n",
        "    def solve(self, root):\r\n",
        "        if root:\r\n",
        "            root.right = self.solve(root.left)\r\n",
        "            root.left = self.solve(root.right)\r\n",
        "        return root"
      ],
      "execution_count": null,
      "outputs": []
    }
  ]
}