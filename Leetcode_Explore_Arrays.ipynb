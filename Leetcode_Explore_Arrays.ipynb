{
  "nbformat": 4,
  "nbformat_minor": 0,
  "metadata": {
    "colab": {
      "name": "Leetcode_Explore_Arrays.ipynb",
      "provenance": [],
      "authorship_tag": "ABX9TyPHjTUGqoeHvDjkLA4Udcze",
      "include_colab_link": true
    },
    "kernelspec": {
      "name": "python3",
      "display_name": "Python 3"
    }
  },
  "cells": [
    {
      "cell_type": "markdown",
      "metadata": {
        "id": "view-in-github",
        "colab_type": "text"
      },
      "source": [
        "<a href=\"https://colab.research.google.com/github/LilySu/Python_Practice/blob/master/Leetcode_Explore_Arrays.ipynb\" target=\"_parent\"><img src=\"https://colab.research.google.com/assets/colab-badge.svg\" alt=\"Open In Colab\"/></a>"
      ]
    },
    {
      "cell_type": "code",
      "metadata": {
        "id": "v9j7Y7e3jecO",
        "colab_type": "code",
        "colab": {}
      },
      "source": [
        "class Solution(object):\n",
        "    def findMaxConsecutiveOnes(self, nums):\n",
        "        \"\"\"\n",
        "        :type nums: List[int]\n",
        "        :rtype: int\n",
        "        \"\"\"\n",
        "        counter, global_max = 0, 0\n",
        "        for i in nums:\n",
        "            if i == 1:\n",
        "                counter += 1\n",
        "            else:\n",
        "                global_max = max(global_max, counter)\n",
        "                counter = 0\n",
        "        return max(global_max, counter)\n",
        "        "
      ],
      "execution_count": null,
      "outputs": []
    },
    {
      "cell_type": "code",
      "metadata": {
        "id": "np_fjm_ujndJ",
        "colab_type": "code",
        "colab": {}
      },
      "source": [
        "class Solution(object):\n",
        "    def findNumbers(self, nums):\n",
        "        \"\"\"\n",
        "        :type nums: List[int]\n",
        "        :rtype: int\n",
        "        \"\"\"\n",
        "        counter = 0\n",
        "        for i in nums:\n",
        "            if len(str(i)) % 2 == 0:\n",
        "                counter += 1\n",
        "        return counter"
      ],
      "execution_count": null,
      "outputs": []
    },
    {
      "cell_type": "code",
      "metadata": {
        "id": "NTD7R8wFl3Nc",
        "colab_type": "code",
        "colab": {}
      },
      "source": [
        "class Solution(object):\n",
        "    def sortedSquares(self, A):\n",
        "        \"\"\"\n",
        "        :type A: List[int]\n",
        "        :rtype: List[int]\n",
        "        \"\"\"\n",
        "        squares = [i*i for i in A]\n",
        "        result = sorted(squares)\n",
        "        return result"
      ],
      "execution_count": null,
      "outputs": []
    }
  ]
}