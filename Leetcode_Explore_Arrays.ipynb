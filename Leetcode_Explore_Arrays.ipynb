{
  "nbformat": 4,
  "nbformat_minor": 0,
  "metadata": {
    "colab": {
      "name": "Leetcode_Explore_Arrays.ipynb",
      "provenance": [],
      "authorship_tag": "ABX9TyNyuGmv/l/ikX1b998ZdB+Q",
      "include_colab_link": true
    },
    "kernelspec": {
      "name": "python3",
      "display_name": "Python 3"
    }
  },
  "cells": [
    {
      "cell_type": "markdown",
      "metadata": {
        "id": "view-in-github",
        "colab_type": "text"
      },
      "source": [
        "<a href=\"https://colab.research.google.com/github/LilySu/Python_Practice/blob/master/Leetcode_Explore_Arrays.ipynb\" target=\"_parent\"><img src=\"https://colab.research.google.com/assets/colab-badge.svg\" alt=\"Open In Colab\"/></a>"
      ]
    },
    {
      "cell_type": "code",
      "metadata": {
        "id": "v9j7Y7e3jecO",
        "colab_type": "code",
        "colab": {}
      },
      "source": [
        "class Solution(object):\n",
        "    def findMaxConsecutiveOnes(self, nums):\n",
        "        \"\"\"\n",
        "        :type nums: List[int]\n",
        "        :rtype: int\n",
        "        \"\"\"\n",
        "        counter, global_max = 0, 0\n",
        "        for i in nums:\n",
        "            if i == 1:\n",
        "                counter += 1\n",
        "            else:\n",
        "                global_max = max(global_max, counter)\n",
        "                counter = 0\n",
        "        return max(global_max, counter)\n",
        "        "
      ],
      "execution_count": null,
      "outputs": []
    },
    {
      "cell_type": "code",
      "metadata": {
        "id": "np_fjm_ujndJ",
        "colab_type": "code",
        "colab": {}
      },
      "source": [
        "class Solution(object):\n",
        "    def findNumbers(self, nums):\n",
        "        \"\"\"\n",
        "        :type nums: List[int]\n",
        "        :rtype: int\n",
        "        \"\"\"\n",
        "        counter = 0\n",
        "        for i in nums:\n",
        "            if len(str(i)) % 2 == 0:\n",
        "                counter += 1\n",
        "        return counter"
      ],
      "execution_count": null,
      "outputs": []
    },
    {
      "cell_type": "code",
      "metadata": {
        "id": "NTD7R8wFl3Nc",
        "colab_type": "code",
        "colab": {}
      },
      "source": [
        "class Solution(object):\n",
        "    def sortedSquares(self, A):\n",
        "        \"\"\"\n",
        "        :type A: List[int]\n",
        "        :rtype: List[int]\n",
        "        \"\"\"\n",
        "        squares = [i*i for i in A]\n",
        "        result = sorted(squares)\n",
        "        return result"
      ],
      "execution_count": null,
      "outputs": []
    },
    {
      "cell_type": "code",
      "metadata": {
        "id": "fAj89LW7DeXw",
        "colab_type": "code",
        "colab": {
          "base_uri": "https://localhost:8080/",
          "height": 33
        },
        "outputId": "4b08c661-a133-45ee-fe7a-03e781665d9b"
      },
      "source": [
        "arr = [1,0,2,3,0,4,5,0]\n",
        "\n",
        "des = arr\n",
        "a = 0\n",
        "d = 0\n",
        "for a in range(len(arr)):\n",
        "    if arr[a] == 0:\n",
        "        des[d] = 0\n",
        "        d += 1\n",
        "        des[d] = 0\n",
        "    else:\n",
        "        des[d] = arr[a]\n",
        "    d += 1\n",
        "\n",
        "print(des)"
      ],
      "execution_count": 30,
      "outputs": [
        {
          "output_type": "stream",
          "text": [
            "[1, 0, 0, 0, 0, 0, 0, 0]\n"
          ],
          "name": "stdout"
        }
      ]
    },
    {
      "cell_type": "code",
      "metadata": {
        "id": "lrp-PkOHEQjU",
        "colab_type": "code",
        "colab": {}
      },
      "source": [
        "class Solution(object):\n",
        "    def duplicateZeros(self, arr):\n",
        "        \"\"\"\n",
        "        :type arr: List[int]\n",
        "        :rtype: None Do not return anything, modify arr in-place instead.\n",
        "        \"\"\"\n",
        "        possible_dups = 0\n",
        "        length_ = len(arr) - 1\n",
        "        for left in range(length_ + 1):\n",
        "            if left > length_ - possible_dups:\n",
        "                break\n",
        "            if arr[left] == 0:\n",
        "                # if no space\n",
        "                if left == length_ - possible_dups:\n",
        "                    arr[length_] = 0\n",
        "                    length_ -= 1\n",
        "                    break\n",
        "                possible_dups += 1\n",
        "        last = length_ - possible_dups\n",
        "        for i in range(last, -1, -1):\n",
        "            if arr[i] == 0:\n",
        "                arr[i + possible_dups] = 0\n",
        "                possible_dups -= 1\n",
        "                arr[i + possible_dups] = 0\n",
        "            else:\n",
        "                arr[i + possible_dups] = arr[i]"
      ],
      "execution_count": null,
      "outputs": []
    }
  ]
}