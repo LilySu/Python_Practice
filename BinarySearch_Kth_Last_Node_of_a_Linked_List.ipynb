{
  "nbformat": 4,
  "nbformat_minor": 0,
  "metadata": {
    "colab": {
      "name": "BinarySearch_Kth Last Node of a Linked List.ipynb",
      "provenance": [],
      "authorship_tag": "ABX9TyOerlGG80E6SJElfIe423My",
      "include_colab_link": true
    },
    "kernelspec": {
      "name": "python3",
      "display_name": "Python 3"
    }
  },
  "cells": [
    {
      "cell_type": "markdown",
      "metadata": {
        "id": "view-in-github",
        "colab_type": "text"
      },
      "source": [
        "<a href=\"https://colab.research.google.com/github/LilySu/Python_Practice/blob/master/BinarySearch_Kth_Last_Node_of_a_Linked_List.ipynb\" target=\"_parent\"><img src=\"https://colab.research.google.com/assets/colab-badge.svg\" alt=\"Open In Colab\"/></a>"
      ]
    },
    {
      "cell_type": "markdown",
      "metadata": {
        "id": "Pa-bdIP8CdTy"
      },
      "source": [
        "Given a singly linked list node, return the value of the kth last node (0-indexed). k is guaranteed not to be larger than the size of the linked list.\n",
        "\n",
        "This should be done in \\mathcal{O}(1)O(1) space.\n",
        "\n",
        "Constraints\n",
        "```\n",
        "n ≤ 100,000 where n is the length of node\n",
        "Example 1\n",
        "Input\n",
        "node = 1 → 2\n",
        "k = 1\n",
        "Output\n",
        "1\n",
        "Explanation\n",
        "The second last node has the val of 1\n",
        "\n",
        "Example 2\n",
        "Input\n",
        "node = 0 → 1 → 2 → 3 → 4 → 5 → 6 → 7 → 8 → 9\n",
        "k = 2\n",
        "Output\n",
        "7\n",
        "Explanation\n",
        "Last node (index 0) has val of 9\n",
        "Second last node (index 1) has val of 8\n",
        "```"
      ]
    },
    {
      "cell_type": "code",
      "metadata": {
        "id": "F4An7ud6CZwG"
      },
      "source": [
        "# class LLNode:\n",
        "#     def __init__(self, val, next=None):\n",
        "#         self.val = val\n",
        "#         self.next = next\n",
        "class Solution:\n",
        "    def solve(self, node, k):\n",
        "        def get_len(node):\n",
        "            counter = 0\n",
        "            while node:\n",
        "                node = node.next\n",
        "                counter += 1\n",
        "            return counter\n",
        "        length = get_len(node)\n",
        "        incre = length - k\n",
        "        step_counter = 1\n",
        "        print(incre)\n",
        "        while node:\n",
        "            if incre == step_counter:\n",
        "                return node.val\n",
        "            step_counter += 1\n",
        "            node = node.next"
      ],
      "execution_count": null,
      "outputs": []
    },
    {
      "cell_type": "code",
      "metadata": {
        "id": "iPYyk45KCy6A"
      },
      "source": [
        "# class LLNode:\n",
        "#     def __init__(self, val, next=None):\n",
        "#         self.val = val\n",
        "#         self.next = next\n",
        "class Solution:\n",
        "    def solve(self, node, k):\n",
        "        result, end = node, node\n",
        "        count = 0\n",
        "        while end:\n",
        "            if count > k:\n",
        "                result = result.next\n",
        "            end = end.next\n",
        "            count += 1\n",
        "\n",
        "        return result.val if count > k else None\n"
      ],
      "execution_count": null,
      "outputs": []
    }
  ]
}