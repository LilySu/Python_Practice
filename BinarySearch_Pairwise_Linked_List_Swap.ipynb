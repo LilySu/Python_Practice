{
  "nbformat": 4,
  "nbformat_minor": 0,
  "metadata": {
    "colab": {
      "name": "BinarySearch_Pairwise Linked List Swap.ipynb",
      "provenance": [],
      "authorship_tag": "ABX9TyOz6xdU5Uqy0iu9nZwcfJwE",
      "include_colab_link": true
    },
    "kernelspec": {
      "name": "python3",
      "display_name": "Python 3"
    }
  },
  "cells": [
    {
      "cell_type": "markdown",
      "metadata": {
        "id": "view-in-github",
        "colab_type": "text"
      },
      "source": [
        "<a href=\"https://colab.research.google.com/github/LilySu/Python_Practice/blob/master/BinarySearch_Pairwise_Linked_List_Swap.ipynb\" target=\"_parent\"><img src=\"https://colab.research.google.com/assets/colab-badge.svg\" alt=\"Open In Colab\"/></a>"
      ]
    },
    {
      "cell_type": "markdown",
      "metadata": {
        "id": "YKPAxYNt8Qdq"
      },
      "source": [
        "Given a singly linked list node, swap each pair of nodes and return the new head.\r\n",
        "\r\n",
        "Constraints\r\n",
        "\r\n",
        "n ≤ 100,000 where n is the number of nodes in node\r\n",
        "```\r\n",
        "Example 1\r\n",
        "Input\r\n",
        "Visualize\r\n",
        "node = [0, 1, 3, 4]\r\n",
        "Output\r\n",
        "Visualize\r\n",
        "[1, 0, 4, 3]\r\n",
        "Example 2\r\n",
        "Input\r\n",
        "Visualize\r\n",
        "node = [1, 2, 3]\r\n",
        "Output\r\n",
        "Visualize\r\n",
        "[2, 1, 3]\r\n",
        "```"
      ]
    },
    {
      "cell_type": "code",
      "metadata": {
        "id": "RSei76Bd8L1z"
      },
      "source": [
        "# class LLNode:\r\n",
        "#     def __init__(self, val, next=None):\r\n",
        "#         self.val = val\r\n",
        "#         self.next = next\r\n",
        "class Solution:\r\n",
        "    def solve(self, node):\r\n",
        "        # set a pointer equal to node\r\n",
        "        curr=node\r\n",
        "        # if the pointer and next exists\r\n",
        "        while curr and curr.next:\r\n",
        "            # # set curr.val = curr.next.val\r\n",
        "            # # set curr.next.val = curr.val\r\n",
        "            curr.val,curr.next.val=curr.next.val,curr.val\r\n",
        "            \r\n",
        "            curr = curr.next.next\r\n",
        "        return node"
      ],
      "execution_count": null,
      "outputs": []
    }
  ]
}