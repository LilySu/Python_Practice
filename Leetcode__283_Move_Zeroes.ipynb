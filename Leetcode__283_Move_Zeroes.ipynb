{
  "nbformat": 4,
  "nbformat_minor": 0,
  "metadata": {
    "colab": {
      "name": "Leetcode_#283_Move_Zeroes.ipynb",
      "provenance": [],
      "authorship_tag": "ABX9TyPzNeX5LhhoxoM6HQvzDgkl",
      "include_colab_link": true
    },
    "kernelspec": {
      "name": "python3",
      "display_name": "Python 3"
    }
  },
  "cells": [
    {
      "cell_type": "markdown",
      "metadata": {
        "id": "view-in-github",
        "colab_type": "text"
      },
      "source": [
        "<a href=\"https://colab.research.google.com/github/LilySu/Python_Practice/blob/master/Leetcode__283_Move_Zeroes.ipynb\" target=\"_parent\"><img src=\"https://colab.research.google.com/assets/colab-badge.svg\" alt=\"Open In Colab\"/></a>"
      ]
    },
    {
      "cell_type": "markdown",
      "metadata": {
        "id": "v9nioJXs-g3-",
        "colab_type": "text"
      },
      "source": [
        "Given an array nums, write a function to move all 0's to the end of it while maintaining the relative order of the non-zero elements.\n",
        "\n",
        "Example:\n",
        "```\n",
        "Input: [0,1,0,3,12]\n",
        "Output: [1,3,12,0,0]\n",
        "Note:\n",
        "\n",
        "You must do this in-place without making a copy of the array.\n",
        "Minimize the total number of operations.\n",
        "```"
      ]
    },
    {
      "cell_type": "code",
      "metadata": {
        "id": "q_qTz6gc-dsQ",
        "colab_type": "code",
        "colab": {}
      },
      "source": [
        "class Solution(object):\n",
        "    def moveZeroes(self, nums):\n",
        "        \"\"\"\n",
        "        :type nums: List[int]\n",
        "        :rtype: None Do not return anything, modify nums in-place instead.\n",
        "        \"\"\"\n",
        "        "
      ],
      "execution_count": null,
      "outputs": []
    },
    {
      "cell_type": "code",
      "metadata": {
        "id": "3VTXB0I7-otJ",
        "colab_type": "code",
        "colab": {
          "base_uri": "https://localhost:8080/",
          "height": 34
        },
        "outputId": "e71757fe-121a-41bf-ca3f-fade7fece47e"
      },
      "source": [
        "def moveZeroes(nums):\n",
        "    \"\"\"\n",
        "    :type nums: List[int]\n",
        "    :rtype: None Do not return anything, modify nums in-place instead.\n",
        "    \"\"\"\n",
        "    l_copy = nums\n",
        "    count = 0\n",
        "    for i in nums:\n",
        "        if i == 0:\n",
        "            count += 1\n",
        "            nums.remove(i)\n",
        "    # for i in range(count):\n",
        "    #     nums.append(0)\n",
        "    return nums, count\n",
        "\n",
        "\n",
        "nums = [0,0,1]\n",
        "moveZeroes(nums) "
      ],
      "execution_count": 7,
      "outputs": [
        {
          "output_type": "execute_result",
          "data": {
            "text/plain": [
              "([0, 1], 1)"
            ]
          },
          "metadata": {
            "tags": []
          },
          "execution_count": 7
        }
      ]
    },
    {
      "cell_type": "code",
      "metadata": {
        "id": "CvlSFQAzA4bW",
        "colab_type": "code",
        "colab": {
          "base_uri": "https://localhost:8080/",
          "height": 34
        },
        "outputId": "f8e6bbfd-d371-4a3f-c427-05bfbf928cc6"
      },
      "source": [
        "nums = [0,0,1]\n",
        "\n",
        "count = 0\n",
        "for i in nums:\n",
        "    if i == 0:\n",
        "        count += 1\n",
        "nums[:] = [x for x in nums if x != 0]\n",
        "if count > 0:\n",
        "    for i in range(count):\n",
        "        nums.append(0)\n",
        "nums"
      ],
      "execution_count": 14,
      "outputs": [
        {
          "output_type": "execute_result",
          "data": {
            "text/plain": [
              "[1, 0, 0]"
            ]
          },
          "metadata": {
            "tags": []
          },
          "execution_count": 14
        }
      ]
    },
    {
      "cell_type": "code",
      "metadata": {
        "id": "S1hAGbaaCK9q",
        "colab_type": "code",
        "colab": {}
      },
      "source": [
        "class Solution(object):\n",
        "    def moveZeroes(self, nums):\n",
        "        \"\"\"\n",
        "        :type nums: List[int]\n",
        "        :rtype: None Do not return anything, modify nums in-place instead.\n",
        "        \"\"\"\n",
        "        count = 0\n",
        "        for i in nums:\n",
        "            if i == 0:\n",
        "                count += 1\n",
        "        nums[:] = [x for x in nums if x != 0]\n",
        "        if count > 0:\n",
        "            for i in range(count):\n",
        "                nums.append(0)\n",
        "        return nums"
      ],
      "execution_count": null,
      "outputs": []
    }
  ]
}