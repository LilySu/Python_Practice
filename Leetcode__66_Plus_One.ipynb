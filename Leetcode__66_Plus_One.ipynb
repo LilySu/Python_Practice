{
  "nbformat": 4,
  "nbformat_minor": 0,
  "metadata": {
    "colab": {
      "name": "Leetcode_#66_Plus_One.ipynb",
      "provenance": [],
      "authorship_tag": "ABX9TyMcZIC6PT7ZeYpDTwbmc84n",
      "include_colab_link": true
    },
    "kernelspec": {
      "name": "python3",
      "display_name": "Python 3"
    }
  },
  "cells": [
    {
      "cell_type": "markdown",
      "metadata": {
        "id": "view-in-github",
        "colab_type": "text"
      },
      "source": [
        "<a href=\"https://colab.research.google.com/github/LilySu/Python_Practice/blob/master/Leetcode__66_Plus_One.ipynb\" target=\"_parent\"><img src=\"https://colab.research.google.com/assets/colab-badge.svg\" alt=\"Open In Colab\"/></a>"
      ]
    },
    {
      "cell_type": "markdown",
      "metadata": {
        "id": "AbEQt2DA6xg-",
        "colab_type": "text"
      },
      "source": [
        "Given a non-empty array of digits representing a non-negative integer, increment one to the integer.\n",
        "\n",
        "The digits are stored such that the most significant digit is at the head of the list, and each element in the array contains a single digit.\n",
        "\n",
        "You may assume the integer does not contain any leading zero, except the number 0 itself.\n",
        "```\n",
        "Example 1:\n",
        "\n",
        "Input: [1,2,3]\n",
        "Output: [1,2,4]\n",
        "Explanation: The array represents the integer 123.\n",
        "Example 2:\n",
        "\n",
        "Input: [4,3,2,1]\n",
        "Output: [4,3,2,2]\n",
        "Explanation: The array represents the integer 4321.\n",
        "```"
      ]
    },
    {
      "cell_type": "code",
      "metadata": {
        "id": "mqKZQXr06oto",
        "colab_type": "code",
        "colab": {}
      },
      "source": [
        "class Solution(object):\n",
        "    def plusOne(self, digits):\n",
        "        \"\"\"\n",
        "        :type digits: List[int]\n",
        "        :rtype: List[int]\n",
        "        \"\"\"\n",
        "        "
      ],
      "execution_count": null,
      "outputs": []
    },
    {
      "cell_type": "code",
      "metadata": {
        "id": "F4Of8nVy-HBC",
        "colab_type": "code",
        "colab": {
          "base_uri": "https://localhost:8080/",
          "height": 34
        },
        "outputId": "914b13c2-a9bd-4979-852a-10a3f2d901a7"
      },
      "source": [
        "def plusOne(digits):\n",
        "    \"\"\"\n",
        "    :type digits: List[int]\n",
        "    :rtype: List[int]\n",
        "    \"\"\"\n",
        "    num = map(str, digits)\n",
        "    num = int(''.join(num))\n",
        "    num += 1\n",
        "    num  = str(num)\n",
        "    result = list(num)\n",
        "    result = [int(x) for x in result]\n",
        "    return result\n",
        "\n",
        "digits = [1,2,3]\n",
        "plusOne(digits)"
      ],
      "execution_count": 20,
      "outputs": [
        {
          "output_type": "execute_result",
          "data": {
            "text/plain": [
              "[1, 2, 4]"
            ]
          },
          "metadata": {
            "tags": []
          },
          "execution_count": 20
        }
      ]
    },
    {
      "cell_type": "code",
      "metadata": {
        "id": "xEDbl35Y-Snw",
        "colab_type": "code",
        "colab": {
          "base_uri": "https://localhost:8080/",
          "height": 35
        },
        "outputId": "7233521e-9c83-43f1-b7eb-c3f6678a4e5f"
      },
      "source": [
        "a = [1,2,3]\n",
        "a = map(str,a)\n",
        "''.join(a)"
      ],
      "execution_count": 2,
      "outputs": [
        {
          "output_type": "execute_result",
          "data": {
            "application/vnd.google.colaboratory.intrinsic": {
              "type": "string"
            },
            "text/plain": [
              "'123'"
            ]
          },
          "metadata": {
            "tags": []
          },
          "execution_count": 2
        }
      ]
    },
    {
      "cell_type": "code",
      "metadata": {
        "id": "lkD6GfVs-WGa",
        "colab_type": "code",
        "colab": {}
      },
      "source": [
        ""
      ],
      "execution_count": null,
      "outputs": []
    }
  ]
}