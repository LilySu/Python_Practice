{
  "nbformat": 4,
  "nbformat_minor": 0,
  "metadata": {
    "colab": {
      "name": "BinarySearch_Narcissistic_number.ipynb",
      "provenance": [],
      "authorship_tag": "ABX9TyNiL4VZZXDL+0uHCOexA2/+",
      "include_colab_link": true
    },
    "kernelspec": {
      "name": "python3",
      "display_name": "Python 3"
    }
  },
  "cells": [
    {
      "cell_type": "markdown",
      "metadata": {
        "id": "view-in-github",
        "colab_type": "text"
      },
      "source": [
        "<a href=\"https://colab.research.google.com/github/LilySu/Python_Practice/blob/master/BinarySearch_Narcissistic_number.ipynb\" target=\"_parent\"><img src=\"https://colab.research.google.com/assets/colab-badge.svg\" alt=\"Open In Colab\"/></a>"
      ]
    },
    {
      "cell_type": "markdown",
      "metadata": {
        "id": "O-j3yA_tgxzU"
      },
      "source": [
        "get unique items from list"
      ]
    },
    {
      "cell_type": "code",
      "metadata": {
        "id": "PbHmSm3dfiPE"
      },
      "source": [
        "from collections import Counter\n",
        "\n",
        "class Solution:\n",
        "    def solve(self, nums):\n",
        "        # d = {}\n",
        "        # for i in nums:\n",
        "        #     d[i] = 1\n",
        "        # return len(d)\n",
        "        # # set \n",
        "        # m = set(nums)\n",
        "        # return len(m)\n",
        "        # # set \n",
        "        # return len(set(nums))"
      ],
      "execution_count": null,
      "outputs": []
    },
    {
      "cell_type": "markdown",
      "metadata": {
        "id": "ZrY5WMxagcQE"
      },
      "source": [
        "Narcissistic number\n",
        "Given an integer n, return whether it is equal to the sum of its own digits raised to the power of the number of digits.\n",
        "\n",
        "```\n",
        "Example 1\n",
        "Input\n",
        "\n",
        "n = 153\n",
        "Output\n",
        "\n",
        "True\n",
        "Explanation\n",
        "\n",
        "153 = 1 ** 3 + 5 ** 3 + 3 ** 3\n",
        "```"
      ]
    },
    {
      "cell_type": "code",
      "metadata": {
        "id": "mYLrTMdKgtNd"
      },
      "source": [
        "class Solution:\n",
        "    def solve(self, n):\n",
        "        sum_d = 0\n",
        "        for i in str(n):\n",
        "            r = int(i) ** len(str(n))\n",
        "            sum_d += r\n",
        "        if sum_d == n:\n",
        "            return True\n",
        "        else:\n",
        "            return False\n",
        "\n",
        "\n",
        "        # return (n == sum_d)"
      ],
      "execution_count": null,
      "outputs": []
    },
    {
      "cell_type": "code",
      "metadata": {
        "id": "6YDaDk9Qh-Ti"
      },
      "source": [
        "# other solutions\n",
        "\n",
        "s = str(n)\n",
        "return n == sum(int(x) ** len(s) for x in s)\n",
        "\n",
        "\n",
        "digits = [int(d) for d in str(n)]\n",
        "return sum(d ** len(digits) for d in digits) == n\n",
        "\n",
        "\n",
        "return n == sum([int(i)**(len(str(n))) for i in str(n)])\n",
        "\n",
        "\n",
        "class Solution:\n",
        "    def solve(self, n):\n",
        "        length = len(str(n))\n",
        "\n",
        "        total = 0\n",
        "        start_val = n\n",
        "\n",
        "        while n > 0:\n",
        "            total += (n % 10) ** length\n",
        "            n = n // 10\n",
        "\n",
        "        return total == start_val"
      ],
      "execution_count": null,
      "outputs": []
    }
  ]
}