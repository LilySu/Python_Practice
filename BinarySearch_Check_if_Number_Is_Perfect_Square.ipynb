{
  "nbformat": 4,
  "nbformat_minor": 0,
  "metadata": {
    "colab": {
      "name": "BinarySearch_Check if Number Is Perfect Square.ipynb",
      "provenance": [],
      "authorship_tag": "ABX9TyNRYQQx7nyeGLWx5pB8eu8c",
      "include_colab_link": true
    },
    "kernelspec": {
      "name": "python3",
      "display_name": "Python 3"
    }
  },
  "cells": [
    {
      "cell_type": "markdown",
      "metadata": {
        "id": "view-in-github",
        "colab_type": "text"
      },
      "source": [
        "<a href=\"https://colab.research.google.com/github/LilySu/Python_Practice/blob/master/BinarySearch_Check_if_Number_Is_Perfect_Square.ipynb\" target=\"_parent\"><img src=\"https://colab.research.google.com/assets/colab-badge.svg\" alt=\"Open In Colab\"/></a>"
      ]
    },
    {
      "cell_type": "markdown",
      "metadata": {
        "id": "ZIOG0zJwjNr4"
      },
      "source": [
        "Given an integer n, return whether n = k * k for some integer k.\n",
        "\n",
        "This should be done without using built-in square root function.\n",
        "\n",
        "Constrainnts\n",
        "0 ≤ n < 2 ** 31\n"
      ]
    },
    {
      "cell_type": "code",
      "metadata": {
        "id": "Jct2tletj8W7"
      },
      "source": [
        "class Solution:\n",
        "    def solve(self, n):\n",
        "        if n == 0 or n == 1:\n",
        "            return True\n",
        "        for i in range(n):\n",
        "            if i * i == n:\n",
        "                return True\n",
        "        return False"
      ],
      "execution_count": null,
      "outputs": []
    },
    {
      "cell_type": "markdown",
      "metadata": {
        "id": "KFI9rqYQi6GT"
      },
      "source": [
        "Intuition\n",
        "n ** 0.5 gives the number in float representation like (25) ** 0.5 = 5.0 now if int(5.0) would be equal to 5.0 then its a perfect square.\n",
        "\n",
        "Implementation\n",
        "Simple checking the square root of a number is an integer or not.\n",
        "\n",
        "Time Complexity\n",
        "Time complexity of this code is\\mathcal{O}(\\log n )O(logn)\n",
        "\n",
        "Space Complexity\n",
        "Space complexity of this code is \\mathcal{O}(1)O(1)"
      ]
    },
    {
      "cell_type": "code",
      "metadata": {
        "id": "caKqOINNioPF"
      },
      "source": [
        "class Solution:\n",
        "    def solve(self, n):\n",
        "        return int(n ** 0.5) == n ** 0.5\n"
      ],
      "execution_count": null,
      "outputs": []
    }
  ]
}