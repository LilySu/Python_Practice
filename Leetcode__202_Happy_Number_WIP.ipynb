{
  "nbformat": 4,
  "nbformat_minor": 0,
  "metadata": {
    "colab": {
      "name": "Leetcode_#202_Happy_Number_WIP.ipynb",
      "provenance": [],
      "authorship_tag": "ABX9TyMFT50Q8qwXijq9/n7iBY/0",
      "include_colab_link": true
    },
    "kernelspec": {
      "name": "python3",
      "display_name": "Python 3"
    }
  },
  "cells": [
    {
      "cell_type": "markdown",
      "metadata": {
        "id": "view-in-github",
        "colab_type": "text"
      },
      "source": [
        "<a href=\"https://colab.research.google.com/github/LilySu/Python_Practice/blob/master/Leetcode__202_Happy_Number_WIP.ipynb\" target=\"_parent\"><img src=\"https://colab.research.google.com/assets/colab-badge.svg\" alt=\"Open In Colab\"/></a>"
      ]
    },
    {
      "cell_type": "markdown",
      "metadata": {
        "id": "4PnzRWBBtwJ2",
        "colab_type": "text"
      },
      "source": [
        "Write an algorithm to determine if a number n is \"happy\".\n",
        "\n",
        "A happy number is a number defined by the following process: Starting with any positive integer, replace the number by the sum of the squares of its digits, and repeat the process until the number equals 1 (where it will stay), or it loops endlessly in a cycle which does not include 1. Those numbers for which this process ends in 1 are happy numbers.\n",
        "\n",
        "Return True if n is a happy number, and False if not.\n",
        "\n",
        "Example: \n",
        "```\n",
        "Input: 19\n",
        "Output: true\n",
        "Explanation: \n",
        "12 + 92 = 82\n",
        "82 + 22 = 68\n",
        "62 + 82 = 100\n",
        "12 + 02 + 02 = 1\n",
        "```"
      ]
    },
    {
      "cell_type": "code",
      "metadata": {
        "id": "DATcepJjtrB4",
        "colab_type": "code",
        "colab": {}
      },
      "source": [
        "class Solution(object):\n",
        "    def isHappy(self, n):\n",
        "        \"\"\"\n",
        "        :type n: int\n",
        "        :rtype: bool\n",
        "        \"\"\"\n",
        "        "
      ],
      "execution_count": null,
      "outputs": []
    },
    {
      "cell_type": "code",
      "metadata": {
        "id": "gm4hDX_gt_R_",
        "colab_type": "code",
        "colab": {
          "base_uri": "https://localhost:8080/",
          "height": 34
        },
        "outputId": "c4a2ee59-5df8-408d-cef7-f322396d01be"
      },
      "source": [
        "\n",
        "def isHappy(n):\n",
        "    n = str(n)\n",
        "    def recurse_n(n):\n",
        "        total = 0\n",
        "        n = str(n)\n",
        "        for i in n:\n",
        "            total += int(i)**2\n",
        "            if total != 1:\n",
        "                return recurse_n(n)\n",
        "            else:\n",
        "                return True\n",
        "    try: \n",
        "        result = recurse_n(n)\n",
        "        return result\n",
        "    except RuntimeError as e:\n",
        "        return False\n",
        "\n",
        "isHappy(7)       "
      ],
      "execution_count": 10,
      "outputs": [
        {
          "output_type": "execute_result",
          "data": {
            "text/plain": [
              "False"
            ]
          },
          "metadata": {
            "tags": []
          },
          "execution_count": 10
        }
      ]
    },
    {
      "cell_type": "code",
      "metadata": {
        "id": "QNV1rP3YvNL9",
        "colab_type": "code",
        "colab": {}
      },
      "source": [
        "#actual solution\n",
        "\n",
        "def isHappy(self, n):\n",
        "        seen = set()\n",
        "        while n not in seen:\n",
        "            seen.add(n)\n",
        "            n = sum([n = sum(int(i) ** 2 for i in str(n))])\n",
        "        return n == 1"
      ],
      "execution_count": null,
      "outputs": []
    }
  ]
}