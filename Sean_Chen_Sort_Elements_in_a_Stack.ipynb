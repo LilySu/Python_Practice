{
  "nbformat": 4,
  "nbformat_minor": 0,
  "metadata": {
    "colab": {
      "name": "Sean_Chen_Sort Elements in a Stack.ipynb",
      "provenance": [],
      "authorship_tag": "ABX9TyPVKr4GbBSItgVAoAN941qY",
      "include_colab_link": true
    },
    "kernelspec": {
      "name": "python3",
      "display_name": "Python 3"
    }
  },
  "cells": [
    {
      "cell_type": "markdown",
      "metadata": {
        "id": "view-in-github",
        "colab_type": "text"
      },
      "source": [
        "<a href=\"https://colab.research.google.com/github/LilySu/Python_Practice/blob/master/Sean_Chen_Sort_Elements_in_a_Stack.ipynb\" target=\"_parent\"><img src=\"https://colab.research.google.com/assets/colab-badge.svg\" alt=\"Open In Colab\"/></a>"
      ]
    },
    {
      "cell_type": "markdown",
      "metadata": {
        "id": "e8lQBwuruRuC"
      },
      "source": [
        "https://gist.github.com/seanchen1991/4a2c000548c76ddfb09426a343de3f18\r\n",
        "\r\n",
        "Sort Elements in a Stack\r\n",
        "Given a Stack class like the following:\r\n",
        "```\r\n",
        "class Stack {\r\n",
        "  constructor() {\r\n",
        "    this.storage = [];\r\n",
        "  }\r\n",
        "\r\n",
        "  push(item) {\r\n",
        "    this.storage.push(item);\r\n",
        "  }\r\n",
        "\r\n",
        "  pop() {\r\n",
        "    return this.storage.pop();\r\n",
        "  }\r\n",
        "\r\n",
        "  peek() {\r\n",
        "    return this.storage[this.storage.length-1];\r\n",
        "  }\r\n",
        "\r\n",
        "  isEmpty() {\r\n",
        "    return this.storage.length === 0;\r\n",
        "  }\r\n",
        "\r\n",
        "  printContents() {\r\n",
        "    this.storage.forEach(elem => console.log(elem));\r\n",
        "  }\r\n",
        "}\r\n",
        "```\r\n",
        "Write a function sortStack that receives a stack of integers and returns another stack containing those same integers in sorted order. You may use at most one additional stack to hold items, but you may not copy the elements into any other data structure.\r\n",
        "```\r\n",
        "Example:\r\n",
        "\r\n",
        "const s = new Stack();\r\n",
        "s.push(4);\r\n",
        "s.push(10);\r\n",
        "s.push(8);\r\n",
        "s.push(5);\r\n",
        "s.push(1);\r\n",
        "s.push(6);\r\n",
        "\r\n",
        "const sortedStack = sortStack(s); // sortedStack is also a Stack instance\r\n",
        "\r\n",
        "sortedStack.printContents();  // should print 1, 4, 5, 6, 8, 10\r\n",
        "Analyze the time and space complexity of your solution.\r\n",
        "```"
      ]
    },
    {
      "cell_type": "code",
      "metadata": {
        "colab": {
          "base_uri": "https://localhost:8080/"
        },
        "id": "n9BIogezMJ1Y",
        "outputId": "3858a314-dac5-41f0-a6cd-cbe7621a097d"
      },
      "source": [
        "class Stack:\r\n",
        "    def __init__(self):\r\n",
        "        self.storage = []\r\n",
        "    \r\n",
        "    def push(self, item):\r\n",
        "        self.storage.append(item)\r\n",
        "    \r\n",
        "    def pop(self):\r\n",
        "        return self.storage.pop()\r\n",
        "\r\n",
        "    def peek(self):\r\n",
        "        return self.storage[-1]\r\n",
        "\r\n",
        "    def is_empty(self):\r\n",
        "        return len(self.storage) == 0\r\n",
        "\r\n",
        "    def print_contents(self):\r\n",
        "        for elem in self.storage:\r\n",
        "            print(elem)\r\n",
        "\r\n",
        "\r\n",
        "def sort_stack(input_stack: Stack):\r\n",
        "    # keep doing this below until our input stack is empty\r\n",
        "    output_stack = Stack()\r\n",
        "    while not input_stack.is_empty():\r\n",
        "        # take out the first elements from our input stack\r\n",
        "        temp_var = input_stack.pop()\r\n",
        "        # compare it with our output stack\r\n",
        "        # if the output stack is empty OR if the temp var is smaller \r\n",
        "        # than the top element of our output\r\n",
        "        # while our temp_var is greater than the output stack, pop off \r\n",
        "        while not output_stack.is_empty() and temp_var > output_stack.peek():\r\n",
        "            input_stack.push(output_stack.pop())\r\n",
        "        output_stack.push(temp_var)\r\n",
        "\r\n",
        "    return output_stack\r\n",
        "\r\n",
        "\r\n",
        "s = Stack()\r\n",
        "s.push(4)\r\n",
        "s.push(10)\r\n",
        "s.push(8)\r\n",
        "s.push(5)\r\n",
        "s.push(1)\r\n",
        "s.push(6)\r\n",
        " \r\n",
        "sortedStack = sort_stack(s)\r\n",
        " \r\n",
        "sortedStack.print_contents()\r\n",
        "\r\n",
        "# if we had it in correct order, time complexity = O(n)\r\n",
        "# if we had in reversed order time complexity = O(n^2)\r\n",
        "\r\n",
        "# space complexity is O(n) since we created 1 other data structure"
      ],
      "execution_count": 3,
      "outputs": [
        {
          "output_type": "stream",
          "text": [
            "10\n",
            "8\n",
            "6\n",
            "5\n",
            "4\n",
            "1\n"
          ],
          "name": "stdout"
        }
      ]
    },
    {
      "cell_type": "code",
      "metadata": {
        "id": "m5n2de-cyQpK"
      },
      "source": [
        ""
      ],
      "execution_count": null,
      "outputs": []
    }
  ]
}