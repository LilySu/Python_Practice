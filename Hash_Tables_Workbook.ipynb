{
  "nbformat": 4,
  "nbformat_minor": 0,
  "metadata": {
    "colab": {
      "name": "Hash_Tables_Workbook.ipynb",
      "provenance": [],
      "authorship_tag": "ABX9TyNNFp3H0PfzPsEMR4E2kM88",
      "include_colab_link": true
    },
    "kernelspec": {
      "name": "python3",
      "display_name": "Python 3"
    }
  },
  "cells": [
    {
      "cell_type": "markdown",
      "metadata": {
        "id": "view-in-github",
        "colab_type": "text"
      },
      "source": [
        "<a href=\"https://colab.research.google.com/github/LilySu/Python_Practice/blob/master/Hash_Tables_Workbook.ipynb\" target=\"_parent\"><img src=\"https://colab.research.google.com/assets/colab-badge.svg\" alt=\"Open In Colab\"/></a>"
      ]
    },
    {
      "cell_type": "code",
      "metadata": {
        "id": "Nu1kpOTqbgeo",
        "colab_type": "code",
        "colab": {
          "base_uri": "https://localhost:8080/",
          "height": 123
        },
        "outputId": "7cca4cf4-605f-4d16-f7e2-7eee6c03ada4"
      },
      "source": [
        "from google.colab import drive\n",
        "drive.mount('/content/gdrive')"
      ],
      "execution_count": null,
      "outputs": [
        {
          "output_type": "stream",
          "text": [
            "Go to this URL in a browser: https://accounts.google.com/o/oauth2/auth?client_id=947318989803-6bn6qk8qdgf4n4g3pfee6491hc0brc4i.apps.googleusercontent.com&redirect_uri=urn%3aietf%3awg%3aoauth%3a2.0%3aoob&response_type=code&scope=email%20https%3a%2f%2fwww.googleapis.com%2fauth%2fdocs.test%20https%3a%2f%2fwww.googleapis.com%2fauth%2fdrive%20https%3a%2f%2fwww.googleapis.com%2fauth%2fdrive.photos.readonly%20https%3a%2f%2fwww.googleapis.com%2fauth%2fpeopleapi.readonly\n",
            "\n",
            "Enter your authorization code:\n",
            "··········\n",
            "Mounted at /content/gdrive\n"
          ],
          "name": "stdout"
        }
      ]
    },
    {
      "cell_type": "code",
      "metadata": {
        "id": "qTrjC7GIdLhD",
        "colab_type": "code",
        "colab": {
          "base_uri": "https://localhost:8080/",
          "height": 121
        },
        "outputId": "dbce0a04-ee54-4b44-e32d-c4275ddc40e4"
      },
      "source": [
        "stock_prices = []\n",
        "with open(\"/content/gdrive/My Drive/Colab Notebooks/Leetcode/stock_prices.csv\",\"r\") as f:\n",
        "    for line in f:\n",
        "        tokens = line.split(',')\n",
        "        day = tokens[0]\n",
        "        price = float(tokens[1].replace('\"',''))\n",
        "        stock_prices.append([day, price])\n",
        "stock_prices"
      ],
      "execution_count": null,
      "outputs": [
        {
          "output_type": "execute_result",
          "data": {
            "text/plain": [
              "[['\"March 6', 310.0],\n",
              " ['\"March 7', 340.0],\n",
              " ['\"March 8', 380.0],\n",
              " ['\"March 9', 302.0],\n",
              " ['\"March 10', 297.0],\n",
              " ['\"March 11', 323.0]]"
            ]
          },
          "metadata": {
            "tags": []
          },
          "execution_count": 8
        }
      ]
    },
    {
      "cell_type": "code",
      "metadata": {
        "id": "rC3gYfWfKzS5",
        "colab_type": "code",
        "colab": {
          "base_uri": "https://localhost:8080/",
          "height": 34
        },
        "outputId": "25173043-14ef-4266-a170-9700854193bb"
      },
      "source": [
        "# search complexity is O(n) but with dictionary would be O(1)\n",
        "for element in stock_prices:\n",
        "    if element[0] =='\"March 9':\n",
        "        print(element[1])"
      ],
      "execution_count": null,
      "outputs": [
        {
          "output_type": "stream",
          "text": [
            "302.0\n"
          ],
          "name": "stdout"
        }
      ]
    },
    {
      "cell_type": "code",
      "metadata": {
        "id": "DCIfDDJEdNjm",
        "colab_type": "code",
        "colab": {
          "base_uri": "https://localhost:8080/",
          "height": 34
        },
        "outputId": "6b51173e-eba0-43f4-b58c-9d86c095ff8b"
      },
      "source": [
        "stock_prices = {}\n",
        "with open(\"/content/gdrive/My Drive/Colab Notebooks/Leetcode/stock_prices.csv\",\"r\") as f:\n",
        "    for line in f:\n",
        "        tokens = line.split(',')\n",
        "        day = tokens[0]\n",
        "        price = float(tokens[1].replace('\"',''))\n",
        "        stock_prices[day] = price\n",
        "stock_prices['\"March 9']"
      ],
      "execution_count": null,
      "outputs": [
        {
          "output_type": "execute_result",
          "data": {
            "text/plain": [
              "302.0"
            ]
          },
          "metadata": {
            "tags": []
          },
          "execution_count": 13
        }
      ]
    },
    {
      "cell_type": "code",
      "metadata": {
        "id": "-ZwbJMjGdok1",
        "colab_type": "code",
        "colab": {
          "base_uri": "https://localhost:8080/",
          "height": 34
        },
        "outputId": "d1e9ebf7-1378-40be-d029-8479f5ee6d4e"
      },
      "source": [
        "def get_hash(key): # takes a string\n",
        "    h = 0\n",
        "    for char in key: # for each character\n",
        "        h += ord(char) # find ascii character and take sum\n",
        "    return h % 100 # divide by 100, get remainder\n",
        "# ord('a')\n",
        "get_hash(\"march 28\")"
      ],
      "execution_count": null,
      "outputs": [
        {
          "output_type": "execute_result",
          "data": {
            "text/plain": [
              "61"
            ]
          },
          "metadata": {
            "tags": []
          },
          "execution_count": 15
        }
      ]
    },
    {
      "cell_type": "code",
      "metadata": {
        "id": "e1-EJVt0ezI2",
        "colab_type": "code",
        "colab": {
          "base_uri": "https://localhost:8080/",
          "height": 1000
        },
        "outputId": "66aca6bd-1a6a-4e5b-8d9b-5e345f54608f"
      },
      "source": [
        "# we implement dictionary\n",
        "class HashTable:\n",
        "    def __init__(self):\n",
        "        self.MAX = 100\n",
        "        self.arr = [None for i in range(self.MAX)]\n",
        "\n",
        "    def get_hash(self, key):\n",
        "        h = 0\n",
        "        for char in key:\n",
        "            h += ord(char)\n",
        "        return h % self.MAX\n",
        "\n",
        "    # def add(self, key, val):\n",
        "    #     h = self.get_hash(key)\n",
        "    #     self.arr[h] = val\n",
        "\n",
        "    # def get(self, key):\n",
        "    #     h = self.get_hash(key)\n",
        "    #     return self.arr[h]\n",
        "\n",
        "    def __setitem__(self, key, val):\n",
        "        # same as add\n",
        "        h = self.get_hash(key)\n",
        "        self.arr[h] = val\n",
        "\n",
        "    def __getitem__(self, key):\n",
        "        # same as get\n",
        "        h = self.get_hash(key)\n",
        "        return self.arr[h]\n",
        "\n",
        "    def __delitem__(self, key):\n",
        "        h = self.get_hash(key)\n",
        "        self.arr[h] = None\n",
        "\n",
        "t = HashTable()\n",
        "# t.add('march 6', 130)\n",
        "# t.get('march 6')\n",
        "# t.arr\n",
        "t['march 6'] = 130\n",
        "t['march 1'] = 12\n",
        "t['dec 17'] = 12\n",
        "t.arr"
      ],
      "execution_count": null,
      "outputs": [
        {
          "output_type": "execute_result",
          "data": {
            "text/plain": [
              "[None,\n",
              " None,\n",
              " None,\n",
              " None,\n",
              " 12,\n",
              " None,\n",
              " None,\n",
              " None,\n",
              " None,\n",
              " 130,\n",
              " None,\n",
              " None,\n",
              " None,\n",
              " None,\n",
              " None,\n",
              " None,\n",
              " None,\n",
              " None,\n",
              " None,\n",
              " None,\n",
              " None,\n",
              " None,\n",
              " None,\n",
              " None,\n",
              " None,\n",
              " None,\n",
              " None,\n",
              " None,\n",
              " None,\n",
              " None,\n",
              " None,\n",
              " None,\n",
              " None,\n",
              " None,\n",
              " None,\n",
              " None,\n",
              " 12,\n",
              " None,\n",
              " None,\n",
              " None,\n",
              " None,\n",
              " None,\n",
              " None,\n",
              " None,\n",
              " None,\n",
              " None,\n",
              " None,\n",
              " None,\n",
              " None,\n",
              " None,\n",
              " None,\n",
              " None,\n",
              " None,\n",
              " None,\n",
              " None,\n",
              " None,\n",
              " None,\n",
              " None,\n",
              " None,\n",
              " None,\n",
              " None,\n",
              " None,\n",
              " None,\n",
              " None,\n",
              " None,\n",
              " None,\n",
              " None,\n",
              " None,\n",
              " None,\n",
              " None,\n",
              " None,\n",
              " None,\n",
              " None,\n",
              " None,\n",
              " None,\n",
              " None,\n",
              " None,\n",
              " None,\n",
              " None,\n",
              " None,\n",
              " None,\n",
              " None,\n",
              " None,\n",
              " None,\n",
              " None,\n",
              " None,\n",
              " None,\n",
              " None,\n",
              " None,\n",
              " None,\n",
              " None,\n",
              " None,\n",
              " None,\n",
              " None,\n",
              " None,\n",
              " None,\n",
              " None,\n",
              " None,\n",
              " None,\n",
              " None]"
            ]
          },
          "metadata": {
            "tags": []
          },
          "execution_count": 25
        }
      ]
    },
    {
      "cell_type": "code",
      "metadata": {
        "id": "NMEepmUrfigl",
        "colab_type": "code",
        "colab": {
          "base_uri": "https://localhost:8080/",
          "height": 34
        },
        "outputId": "c69a92b3-ec7b-40b1-f3b8-c67ae8d27ecb"
      },
      "source": [
        "t['dec 17']"
      ],
      "execution_count": null,
      "outputs": [
        {
          "output_type": "execute_result",
          "data": {
            "text/plain": [
              "12"
            ]
          },
          "metadata": {
            "tags": []
          },
          "execution_count": 24
        }
      ]
    },
    {
      "cell_type": "code",
      "metadata": {
        "id": "u1GwBtOnhha-",
        "colab_type": "code",
        "colab": {
          "base_uri": "https://localhost:8080/",
          "height": 121
        },
        "outputId": "ac53bcd6-83a5-4545-a793-6c12eced6447"
      },
      "source": [
        "# Handle collision\n",
        "\n",
        "# Create key value pair to handle collision\n",
        "class HashTable:\n",
        "    def __init__(self):\n",
        "        self.MAX = 6\n",
        "        # Implement an array instead of None as before\n",
        "        self.arr = [[] for i in range(self.MAX)]\n",
        "\n",
        "    def get_hash(self, key):\n",
        "        h = 0\n",
        "        for char in key:\n",
        "            h += ord(char)\n",
        "        return h % self.MAX\n",
        "\n",
        "    def __setitem__(self, key, val):\n",
        "        # same as add\n",
        "        h = self.get_hash(key)\n",
        "        found = False\n",
        "        for idx, element in enumerate(self.arr[h]): # if key exists, we modify key value pair\n",
        "            if len(element)==2 and element[0]==key:\n",
        "                # since we are inserting a tuple, it's immutable not like element[1] = value\n",
        "                self.arr[h][idx] = (key, val)\n",
        "                found = True\n",
        "                break\n",
        "        if not found: # if key does not exist in hash table\n",
        "            self.arr[h].append((key,val)) \n",
        "\n",
        "    def __getitem__(self, key):\n",
        "        # same as get\n",
        "        h = self.get_hash(key)\n",
        "        for element in self.arr[h]:\n",
        "            if element[0] == key:\n",
        "                return element[1]\n",
        "\n",
        "    def __delitem__(self, key):\n",
        "        h = self.get_hash(key)\n",
        "        for index, element in enumerate(self.arr[h]):\n",
        "            if element[0] == key:\n",
        "                del self.arr[h][index]\n",
        "\n",
        "t = HashTable()\n",
        "# t.add('march 6', 130)\n",
        "# t.get('march 6')\n",
        "# t.arr\n",
        "# t['march 6'] = 130\n",
        "# t['march 1'] = 12\n",
        "# t['dec 17'] = 12\n",
        "# t.arr\n",
        "# t.get_hash(\"march 6\")\n",
        "# t.get_hash(\"march 17\")\n",
        "t['march 6'] = 120\n",
        "t['march 6'] = 78\n",
        "t['march 8'] = 67\n",
        "t['march 9'] = 4\n",
        "t['march 17'] = 459\n",
        "# t['march 17']\n",
        "t.arr"
      ],
      "execution_count": null,
      "outputs": [
        {
          "output_type": "execute_result",
          "data": {
            "text/plain": [
              "[[('march 9', 4)],\n",
              " [],\n",
              " [],\n",
              " [('march 6', 78)],\n",
              " [],\n",
              " [('march 8', 67), ('march 17', 459)]]"
            ]
          },
          "metadata": {
            "tags": []
          },
          "execution_count": 34
        }
      ]
    },
    {
      "cell_type": "code",
      "metadata": {
        "id": "5KURqXrolQVa",
        "colab_type": "code",
        "colab": {
          "base_uri": "https://localhost:8080/",
          "height": 34
        },
        "outputId": "fed7b644-161d-4d49-fb94-d628d5a197e0"
      },
      "source": [
        "del t[\"march 6\"]\n",
        "t.arr"
      ],
      "execution_count": null,
      "outputs": [
        {
          "output_type": "execute_result",
          "data": {
            "text/plain": [
              "[[('march 9', 4)], [], [], [], [], [('march 8', 67), ('march 17', 459)]]"
            ]
          },
          "metadata": {
            "tags": []
          },
          "execution_count": 36
        }
      ]
    },
    {
      "cell_type": "code",
      "metadata": {
        "id": "sngNdVDioZji",
        "colab_type": "code",
        "colab": {
          "base_uri": "https://localhost:8080/",
          "height": 34
        },
        "outputId": "54bab05a-8d43-46ec-ba79-7a0c09fa884a"
      },
      "source": [
        "def get_hash(key):\n",
        "    h = 0\n",
        "    for char in key:\n",
        "        h += ord(char)\n",
        "    return h%100\n",
        "get_hash(\"monday\")"
      ],
      "execution_count": null,
      "outputs": [
        {
          "output_type": "execute_result",
          "data": {
            "text/plain": [
              "48"
            ]
          },
          "metadata": {
            "tags": []
          },
          "execution_count": 39
        }
      ]
    },
    {
      "cell_type": "code",
      "metadata": {
        "id": "FA0EOtIQvA1t",
        "colab_type": "code",
        "colab": {
          "base_uri": "https://localhost:8080/",
          "height": 34
        },
        "outputId": "c2cd4fe2-b52e-448f-86ae-adc59b5f649d"
      },
      "source": [
        "class HashTable:\n",
        "    def __init__(self):\n",
        "        self.MAX = 6\n",
        "        self.arr = [None for i in range(self.MAX)]\n",
        "\n",
        "    def get_hash(self, key):\n",
        "        h = 0\n",
        "        for char in key:\n",
        "            h += ord(char)\n",
        "        return h % self.MAX\n",
        "\n",
        "t = HashTable()\n",
        "t.get_hash('march 6')"
      ],
      "execution_count": null,
      "outputs": [
        {
          "output_type": "execute_result",
          "data": {
            "text/plain": [
              "3"
            ]
          },
          "metadata": {
            "tags": []
          },
          "execution_count": 42
        }
      ]
    },
    {
      "cell_type": "code",
      "metadata": {
        "id": "cNF6jPRbwEYo",
        "colab_type": "code",
        "colab": {
          "base_uri": "https://localhost:8080/",
          "height": 34
        },
        "outputId": "a365978c-1048-4ad8-d941-dc38748c3844"
      },
      "source": [
        "class HashTable:\n",
        "    def __init__(self):\n",
        "        self.MAX = 6\n",
        "        self.arr = [None for i in range(self.MAX)]\n",
        "\n",
        "    def get_hash(self, key):\n",
        "        h = 0\n",
        "        for char in key:\n",
        "            h += ord(char)\n",
        "        return h % self.MAX\n",
        "\n",
        "    def __setitem__(self, key, val):\n",
        "        h = self.get_hash(key)\n",
        "        self.arr[h] = val\n",
        "\n",
        "    def __getitem__(self, key):\n",
        "        h = self.get_hash(key)\n",
        "        return self.arr[h]\n",
        "\n",
        "t = HashTable()\n",
        "t['march 6']=130\n",
        "t.arr"
      ],
      "execution_count": null,
      "outputs": [
        {
          "output_type": "execute_result",
          "data": {
            "text/plain": [
              "[None, None, None, 130, None, None]"
            ]
          },
          "metadata": {
            "tags": []
          },
          "execution_count": 51
        }
      ]
    },
    {
      "cell_type": "code",
      "metadata": {
        "id": "KZ_jU3_wwc4i",
        "colab_type": "code",
        "colab": {
          "base_uri": "https://localhost:8080/",
          "height": 34
        },
        "outputId": "de07ee3d-2627-421b-b77e-33ab08258c0d"
      },
      "source": [
        "t.get('march 6')"
      ],
      "execution_count": null,
      "outputs": [
        {
          "output_type": "execute_result",
          "data": {
            "text/plain": [
              "130"
            ]
          },
          "metadata": {
            "tags": []
          },
          "execution_count": 48
        }
      ]
    },
    {
      "cell_type": "code",
      "metadata": {
        "id": "FFw1NL3zxLap",
        "colab_type": "code",
        "colab": {
          "base_uri": "https://localhost:8080/",
          "height": 34
        },
        "outputId": "e3688653-31ec-4818-bcd6-f529774dfa8c"
      },
      "source": [
        "class HashTable:\n",
        "    def __init__(self):\n",
        "        self.MAX = 6\n",
        "        self.arr = [None for i in range(self.MAX)]\n",
        "\n",
        "    def get_hash(self, newData):\n",
        "        h = 0\n",
        "        for letter in newData:\n",
        "            h += ord(letter)\n",
        "        return h % self.MAX\n",
        "\n",
        "    def add(self, newData, value):\n",
        "        h = self.get_hash(newData)\n",
        "        self.arr[h] = value\n",
        "\n",
        "h = HashTable()\n",
        "h.add(\"mon\", 130)\n",
        "h.arr"
      ],
      "execution_count": null,
      "outputs": [
        {
          "output_type": "execute_result",
          "data": {
            "text/plain": [
              "[130, None, None, None, None, None]"
            ]
          },
          "metadata": {
            "tags": []
          },
          "execution_count": 57
        }
      ]
    },
    {
      "cell_type": "code",
      "metadata": {
        "id": "w6tug8P31BDi",
        "colab_type": "code",
        "colab": {
          "base_uri": "https://localhost:8080/",
          "height": 34
        },
        "outputId": "ce73e04e-0123-45e8-f725-398119c548ed"
      },
      "source": [
        "class HashTable:\n",
        "    def __init__(self):\n",
        "        self.MAX = 6\n",
        "        self.arr = [None for i in range(self.MAX)]\n",
        "\n",
        "    def hash(self, newData):\n",
        "        h = 0\n",
        "        for letter in newData:\n",
        "            h += ord(letter)\n",
        "        return h % self.MAX\n",
        "\n",
        "    def __setitem__(self, key, value):\n",
        "        newkey = self.hash(key)\n",
        "        self.arr[newkey] = value\n",
        "\n",
        "    def __getitem__(self, key): # call by key, get value\n",
        "        h = self.hash(key)\n",
        "        return self.arr[h]\n",
        "\n",
        "    def __delitem__(self, key):\n",
        "        h = self.hash(key)\n",
        "        self.arr[h] = None\n",
        "\n",
        "h = HashTable()\n",
        "# h.hash(\"Monday\")\n",
        "# h.add(\"Monday\",130)\n",
        "# # h.arr\n",
        "# h.get(\"Monday\")\n",
        "h[\"monday\"] = 130\n",
        "h[\"day\"] = 20\n",
        "# h.arr\n",
        "h[\"monday\"]"
      ],
      "execution_count": null,
      "outputs": [
        {
          "output_type": "execute_result",
          "data": {
            "text/plain": [
              "20"
            ]
          },
          "metadata": {
            "tags": []
          },
          "execution_count": 65
        }
      ]
    },
    {
      "cell_type": "code",
      "metadata": {
        "id": "h7MFH3Lq2u3S",
        "colab_type": "code",
        "colab": {
          "base_uri": "https://localhost:8080/",
          "height": 34
        },
        "outputId": "0025890f-da43-44bf-9529-203285e59034"
      },
      "source": [
        "class HashTable:\n",
        "    def __init__(self):\n",
        "        self.MAX = 6\n",
        "        self.arr = [None for i in range(self.MAX)]\n",
        "\n",
        "    def get_hash(self, newData):\n",
        "        h = 0\n",
        "        for i in newData:\n",
        "            h += ord(i)\n",
        "        return h % self.MAX\n",
        "\n",
        "    def __setitem__(self, newData, value):\n",
        "        h = self.get_hash(newData)\n",
        "        self.arr[h] = value\n",
        "\n",
        "    def __getitem__(self, newData):\n",
        "        h = self.get_hash(newData)\n",
        "        return self.arr[h]\n",
        "\n",
        "    def __delitem__(self, newData):\n",
        "        h = self.get_hash(newData)\n",
        "        self.arr[h] = None\n",
        "\n",
        "h = HashTable()\n",
        "# h.add(\"Mon\", 130)\n",
        "# h.get(\"Mon\")\n",
        "h[\"Mon\"] = 130\n",
        "h[\"Mon\"]\n",
        "# h.arr"
      ],
      "execution_count": null,
      "outputs": [
        {
          "output_type": "execute_result",
          "data": {
            "text/plain": [
              "130"
            ]
          },
          "metadata": {
            "tags": []
          },
          "execution_count": 71
        }
      ]
    },
    {
      "cell_type": "code",
      "metadata": {
        "id": "ioz7VNE7aIb1",
        "colab_type": "code",
        "colab": {
          "base_uri": "https://localhost:8080/",
          "height": 34
        },
        "outputId": "7c7f50a3-56ff-45ce-9b0f-13f28b6433a6"
      },
      "source": [
        "class HashTable:\n",
        "    def __init__(self):\n",
        "        self.MAX = 6\n",
        "        self.arr = [[] for i in range(self.MAX)]\n",
        "\n",
        "    def get_hash(self, newData):\n",
        "        h = 0\n",
        "        for i in newData:\n",
        "            h += ord(i)\n",
        "        return h % self.MAX\n",
        "\n",
        "    def __setitem__(self, newData, value):\n",
        "        h = self.get_hash(newData)\n",
        "        # linked list instead\n",
        "        # does this element already exist\n",
        "        # if element already existed\n",
        "        found = False\n",
        "        for idx, element in enumerate(self.arr[h]):\n",
        "            if len(element)==2 and element[0]==newData:\n",
        "                self.arr[h][idx] = (newData, value)\n",
        "                found = True\n",
        "                break\n",
        "        if not found:\n",
        "            self.arr[h].append((newData, value))\n",
        "\n",
        "    def __getitem__(self, newData):\n",
        "        h = self.get_hash(newData)\n",
        "        for element in self.arr[h]:\n",
        "            if element[0] == newData:\n",
        "                return element[1]\n",
        "\n",
        "    def __delitem__(self, newData):\n",
        "        h = self.get_hash(newData)\n",
        "        self.arr[h] = None\n",
        "\n",
        "h = HashTable()\n",
        "# h.add(\"Mon\", 130)\n",
        "# h.get(\"Mon\")\n",
        "h[\"Mon\"] = 130\n",
        "h[\"Wed\"] = 34\n",
        "h[\"Tue\"] = 54\n",
        "h[\"Thur\"] = 459\n",
        "h[\"Fri\"] = 34\n",
        "h[\"Sat\"] = 54\n",
        "h[\"Sun\"] = 459\n",
        "# h[\"Mon\"]\n",
        "# h.arr\n",
        "h[\"Wed\"]"
      ],
      "execution_count": null,
      "outputs": [
        {
          "output_type": "execute_result",
          "data": {
            "text/plain": [
              "34"
            ]
          },
          "metadata": {
            "tags": []
          },
          "execution_count": 80
        }
      ]
    },
    {
      "cell_type": "code",
      "metadata": {
        "id": "lle_x-v0eTE6",
        "colab_type": "code",
        "colab": {
          "base_uri": "https://localhost:8080/",
          "height": 34
        },
        "outputId": "4a6ffcd0-35d0-44d7-c0d4-fd73ffd71c3e"
      },
      "source": [
        "class HashTable:\n",
        "    def __init__(self):\n",
        "        self.MAX = 6\n",
        "        self.arr = [None for i in range(self.MAX)]\n",
        "\n",
        "    def get_hash(self, newData):\n",
        "        h = 0\n",
        "        for letter in newData:\n",
        "            h += ord(letter)\n",
        "        return h % self.MAX\n",
        "\n",
        "    def add(self, newData, value):\n",
        "        h = self.get_hash(newData)\n",
        "        self.arr[h] = value\n",
        "\n",
        "    def get(self, newData):\n",
        "        h = self.get_hash(newData)\n",
        "        return self.arr[h]\n",
        "\n",
        "    def rem(self, newData):\n",
        "        h = self.get_hash(newData)\n",
        "        self.arr[h] = None\n",
        "\n",
        "l = HashTable()\n",
        "l.add(\"Mone\", 130)\n",
        "# l.arr\n",
        "# l.get(\"Mone\")\n",
        "l.rem(\"Mone\")\n",
        "l.arr"
      ],
      "execution_count": null,
      "outputs": [
        {
          "output_type": "execute_result",
          "data": {
            "text/plain": [
              "[None, None, None, None, None, None]"
            ]
          },
          "metadata": {
            "tags": []
          },
          "execution_count": 85
        }
      ]
    },
    {
      "cell_type": "code",
      "metadata": {
        "id": "tA2P_Mt0pABP",
        "colab_type": "code",
        "colab": {
          "base_uri": "https://localhost:8080/",
          "height": 121
        },
        "outputId": "76ec26ab-18ed-4b2f-c942-8b25268ccd52"
      },
      "source": [
        "class HashTable:\n",
        "    def __init__(self):\n",
        "        self.MAX = 6\n",
        "        self.arr = [[] for i in range(self.MAX)]\n",
        "\n",
        "    def get_hash(self, newData):\n",
        "        h = 0\n",
        "        for letter in newData:\n",
        "            h += ord(letter)\n",
        "        return h % self.MAX\n",
        "\n",
        "    def __setitem__(self, newData, value):\n",
        "        h = self.get_hash(newData)\n",
        "        # self.arr[h] = value\n",
        "        found = False\n",
        "        for idx, element in enumerate(self.arr[h]):\n",
        "            if len(element)==2 and element[0]==newData:\n",
        "                self.arr[h][idx] = (newData, value)\n",
        "                found = True\n",
        "                break\n",
        "        if not found:\n",
        "            self.arr[h].append((newData, value))\n",
        "\n",
        "    def __getitem__(self, newData):\n",
        "        h = self.get_hash(newData)\n",
        "        for element in self.arr[h]:\n",
        "            if element[0] == newData:\n",
        "                return element[1]\n",
        "\n",
        "    def __delitem__(self, newData):\n",
        "        h = self.get_hash(newData)\n",
        "        for index, element in enumerate(self.arr[h]):\n",
        "            if element[0] == newData:\n",
        "                del self.arr[h][index]\n",
        "\n",
        "l = HashTable()\n",
        "# l.add(\"Mone\", 130)\n",
        "# l.arr\n",
        "# l.get(\"Mone\")\n",
        "# l.rem(\"Mone\")\n",
        "l[\"Mon\"] = 23\n",
        "l[\"Aon\"] = 23\n",
        "l[\"Bon\"] = 23\n",
        "l[\"Con\"] = 23\n",
        "l[\"Don\"] = 23\n",
        "l[\"Fon\"] = 23\n",
        "l[\"Gon\"] = 23\n",
        "l[\"Eon\"] = 23\n",
        "del l['Don']\n",
        "l.arr"
      ],
      "execution_count": null,
      "outputs": [
        {
          "output_type": "execute_result",
          "data": {
            "text/plain": [
              "[[('Con', 23)],\n",
              " [],\n",
              " [('Eon', 23)],\n",
              " [('Fon', 23)],\n",
              " [('Mon', 23), ('Aon', 23), ('Gon', 23)],\n",
              " [('Bon', 23)]]"
            ]
          },
          "metadata": {
            "tags": []
          },
          "execution_count": 92
        }
      ]
    },
    {
      "cell_type": "code",
      "metadata": {
        "id": "1M3NEghprDnl",
        "colab_type": "code",
        "colab": {
          "base_uri": "https://localhost:8080/",
          "height": 34
        },
        "outputId": "d13f573e-3bad-4fa8-92c4-6e71c6877b8a"
      },
      "source": [
        "class HashTable:\n",
        "    def __init__(self):\n",
        "        self.Max = 5\n",
        "        # self.arr = [None for i in range(self.Max)]\n",
        "        self.arr = [[] for i in range(self.Max)]\n",
        "\n",
        "    def get_hash(self, newData):\n",
        "        h = 0\n",
        "        for letter in newData:\n",
        "            h += ord(letter)\n",
        "        return h % self.Max\n",
        "\n",
        "    def __setitem__(self, newData, value):\n",
        "        h = self.get_hash(newData)\n",
        "        # self.arr[h] = value\n",
        "        isfound = False\n",
        "        for idx, element in enumerate(self.arr[h]):\n",
        "            if len(element) == 2 and element[0] == newData:\n",
        "                self.arr[h][idx] = (newData, value)\n",
        "                isfound = True\n",
        "                break\n",
        "        if not isfound:\n",
        "            self.arr[h].append((newData, value))\n",
        "\n",
        "    def __getitem__(self, newData):\n",
        "        h = self.get_hash(newData)\n",
        "        for element in self.arr[h]:\n",
        "            if element[0] == newData:\n",
        "                return element[1]\n",
        "\n",
        "    def __delitem__(self, newData):\n",
        "        h = self.get_hash(newData)\n",
        "        for index, element in enumerate(self.arr[h]):\n",
        "            if element[0] == newData:\n",
        "                del self.arr[h][index]\n",
        "\n",
        "a = HashTable()\n",
        "# a.add(\"Mar\", 120)\n",
        "# a.get(\"Mar\")\n",
        "a[\"Mar\"] = 120\n",
        "a[\"Bar\"] = 120\n",
        "a[\"Car\"] = 120\n",
        "a[\"Dar\"] = 120\n",
        "a[\"Ear\"] = 120\n",
        "a[\"Var\"] = 120\n",
        "a[\"Qar\"] = 120\n",
        "a[\"Tar\"] = 120\n",
        "# a[\"Mar\"]\n",
        "del a[\"Mar\"]\n",
        "a.arr\n",
        "# a[\"Qar\"]"
      ],
      "execution_count": null,
      "outputs": [
        {
          "output_type": "execute_result",
          "data": {
            "text/plain": [
              "120"
            ]
          },
          "metadata": {
            "tags": []
          },
          "execution_count": 105
        }
      ]
    },
    {
      "cell_type": "code",
      "metadata": {
        "id": "nmHmMmQVvULK",
        "colab_type": "code",
        "colab": {}
      },
      "source": [
        "class HashTable:\n",
        "    def __init__(self):\n",
        "        self.Max = 5\n",
        "        # self.arr = [None for i in range(self.Max)]\n",
        "        self.arr = [[] for i in range(self.Max)]\n",
        "\n",
        "    def get_hash(self, newData):\n",
        "        h = 0\n",
        "        for letter in newData:\n",
        "            h += ord(letter)\n",
        "        return h % self.Max\n",
        "\n",
        "    def __setitem__(self, newData, value):\n",
        "        h = self.get_hash(newData)\n",
        "        isfound = False\n",
        "        for idx, element in enumerate(self.arr[h]):\n",
        "            # if item in arr is not empty, and it corresponds to a tuple\n",
        "            # if the key is equivalent to the previous key\n",
        "            if len(element)==2 and element[0] == newData:\n",
        "                # replace values\n",
        "                self.arr[h][idx] = (newData, value)\n",
        "                isfound = True\n",
        "                break\n",
        "        if not isfound:\n",
        "            self.arr[h].append((newData, value))\n",
        "\n",
        "    def __getitem__(self, newData):\n",
        "        h = self.get_hash(newData)\n",
        "        for element in self.arr[h]:\n",
        "            if element[0] == key:\n",
        "                return element[1]\n",
        "\n",
        "    def __delitem__(self, newData):\n",
        "        h = self.get_hash(newData)\n",
        "        for index, element in enumerate(self.arr[h]):\n",
        "            if element[0] == key:\n",
        "                del self.arr[h][index]\n",
        "\n",
        "a = HashTable()\n",
        "# a.add(\"Mar\", 120)\n",
        "# a.get(\"Mar\")\n",
        "a[\"Mar\"] = 120\n",
        "a[\"Bar\"] = 120\n",
        "a[\"Car\"] = 120\n",
        "a[\"Dar\"] = 120\n",
        "a[\"Ear\"] = 120\n",
        "a[\"Var\"] = 120\n",
        "a[\"Qar\"] = 120\n",
        "a[\"Tar\"] = 120\n",
        "# a[\"Mar\"]\n",
        "del a[\"Mar\"]\n",
        "a.arr\n",
        "# a[\"Qar\"]"
      ],
      "execution_count": null,
      "outputs": []
    },
    {
      "cell_type": "code",
      "metadata": {
        "id": "BgVj1NQr56Gz",
        "colab_type": "code",
        "colab": {
          "base_uri": "https://localhost:8080/",
          "height": 121
        },
        "outputId": "ab873ff7-e225-4d61-fed5-f5c7c46fb89b"
      },
      "source": [
        "class HashTable:\n",
        "    def __init__(self):\n",
        "        self.MAX = 6\n",
        "        self.arr = [[] for i in range(self.MAX)]\n",
        "\n",
        "    def get_hash(self, newData):\n",
        "        h = 0\n",
        "        for letter in newData:\n",
        "            h += ord(letter)\n",
        "        return h % self.MAX\n",
        "\n",
        "    def __setitem__(self, newData, value):\n",
        "        h = self.get_hash(newData)\n",
        "        found = False\n",
        "        for index, element in enumerate(self.arr[h]):\n",
        "            if len(element)==2 and element[0]==newData:\n",
        "                self.arr[h][index] = (newData, value)\n",
        "                found = True\n",
        "                break\n",
        "        if found == False:\n",
        "            self.arr[h].append((newData,value))\n",
        "\n",
        "    def __getitem__(self, newData):\n",
        "        h = self.get_hash(newData)\n",
        "        for index, element in enumerate(self.arr[h]):\n",
        "            if element[0] == newData:\n",
        "                return element[1]\n",
        "\n",
        "    def __delitem__(self, newData):\n",
        "        h = self.get_hash(newData)\n",
        "        for index, element in enumerate(self.arr[h]):\n",
        "            if element[0] == newData:\n",
        "                del self.arr[h][index]\n",
        "\n",
        "\n",
        "a = HashTable()\n",
        "# a.add(\"Mar\", 120)\n",
        "# a.get(\"Mar\")\n",
        "a[\"Mar\"] = 120\n",
        "a[\"Bar\"] = 120\n",
        "a[\"Car\"] = 120\n",
        "a[\"Dar\"] = 120\n",
        "a[\"Ear\"] = 120\n",
        "a[\"Var\"] = 120\n",
        "a[\"Qar\"] = 120\n",
        "a[\"Tar\"] = 120\n",
        "# a[\"Mar\"]\n",
        "del a[\"Mar\"]\n",
        "a.arr"
      ],
      "execution_count": null,
      "outputs": [
        {
          "output_type": "execute_result",
          "data": {
            "text/plain": [
              "[[],\n",
              " [('Bar', 120), ('Tar', 120)],\n",
              " [('Car', 120)],\n",
              " [('Dar', 120), ('Var', 120)],\n",
              " [('Ear', 120), ('Qar', 120)],\n",
              " []]"
            ]
          },
          "metadata": {
            "tags": []
          },
          "execution_count": 106
        }
      ]
    },
    {
      "cell_type": "code",
      "metadata": {
        "id": "9di48p8i8Goy",
        "colab_type": "code",
        "colab": {
          "base_uri": "https://localhost:8080/",
          "height": 121
        },
        "outputId": "ce9a25be-3c30-417f-f5b6-a5e4e7dc3922"
      },
      "source": [
        "class HashTable:\n",
        "    def __init__(self):\n",
        "        self.MAX = 6\n",
        "        self.arr = [[] for i in range(self.MAX)]\n",
        "\n",
        "    def get_hash(self, newData):\n",
        "        h = 0\n",
        "        for letter in newData:\n",
        "            h += ord(letter)\n",
        "        return h % self.MAX\n",
        "\n",
        "    def __setitem__(self, newData, value):\n",
        "        h = self.get_hash(newData)\n",
        "        found = False\n",
        "        for index, element in enumerate(self.arr[h]):\n",
        "            if len(element)==2 and element[0]==newData:\n",
        "                self.arr[h][index] = (newData, value)\n",
        "                found = True\n",
        "                break\n",
        "        if found == False:\n",
        "            self.arr[h].append((newData, value))\n",
        "\n",
        "    def __getitem__(self, newData):\n",
        "        h = self.get_hash(newData)\n",
        "        for index, element in enumerate(self.arr[h]):\n",
        "            if element[0] == newData:\n",
        "                return element[1]\n",
        "\n",
        "    def __delitem__(self, newData):\n",
        "        h = self.get_hash(newData)\n",
        "        for index, element in enumerate(self.arr[h]):\n",
        "            if element[0] == newData:\n",
        "                del self.arr[h][index]\n",
        "\n",
        "a = HashTable()\n",
        "# a.add(\"Mar\", 120)\n",
        "# a.get(\"Mar\")\n",
        "a[\"Mar\"] = 120\n",
        "a[\"Bar\"] = 120\n",
        "a[\"Car\"] = 120\n",
        "a[\"Dar\"] = 120\n",
        "a[\"Ear\"] = 120\n",
        "a[\"Var\"] = 120\n",
        "a[\"Qar\"] = 120\n",
        "a[\"Tar\"] = 120\n",
        "# a[\"Mar\"]\n",
        "del a[\"Mar\"]\n",
        "a.arr"
      ],
      "execution_count": null,
      "outputs": [
        {
          "output_type": "execute_result",
          "data": {
            "text/plain": [
              "[[],\n",
              " [('Bar', 120), ('Tar', 120)],\n",
              " [('Car', 120)],\n",
              " [('Dar', 120), ('Var', 120)],\n",
              " [('Ear', 120), ('Qar', 120)],\n",
              " []]"
            ]
          },
          "metadata": {
            "tags": []
          },
          "execution_count": 107
        }
      ]
    },
    {
      "cell_type": "code",
      "metadata": {
        "id": "GVwc6D7_-Tqx",
        "colab_type": "code",
        "colab": {
          "base_uri": "https://localhost:8080/",
          "height": 34
        },
        "outputId": "ce063fa2-ca88-4134-fc5a-35c5fcdca553"
      },
      "source": [
        "class HashTable:\n",
        "    def __init__(self):\n",
        "        self.MAX = 5\n",
        "        self.arr = [[] for i in range(self.MAX)]\n",
        "\n",
        "    def get_hash(self, newData):\n",
        "        h = 0\n",
        "        for i in newData:\n",
        "            h += ord(i)\n",
        "        return h % self.MAX\n",
        "\n",
        "    def __setitem__(self, key, value):\n",
        "        h = self.get_hash(key)\n",
        "        found = False\n",
        "        for index, element in enumerate(self.arr[h]):\n",
        "            if len(element) == 2 and element[0] == key:\n",
        "                self.arr[h][index] = (key, value)\n",
        "                found = True\n",
        "                break\n",
        "        if found == False:\n",
        "            self.arr[h].append((key, value))\n",
        "\n",
        "    def __getitem__(self, key):\n",
        "        h = self.get_hash(key)\n",
        "        for element in self.arr[h]:\n",
        "            if element[0] == key:\n",
        "                return element[1]\n",
        "\n",
        "    def __delitem__(self, key):\n",
        "        h = self.get_hash(key)\n",
        "        for index, element in enumerate(self.arr[h]):\n",
        "            if element[0] == key:\n",
        "                del self.arr[h][index]\n",
        "\n",
        "a = HashTable()\n",
        "# a.add(\"Mar\", 120)\n",
        "# a.get(\"Mar\")\n",
        "a[\"Mar\"] = 120\n",
        "a[\"Bar\"] = 120\n",
        "a[\"Car\"] = 120\n",
        "a[\"Dar\"] = 120\n",
        "a[\"Ear\"] = 120\n",
        "a[\"Var\"] = 120\n",
        "a[\"Qar\"] = 120\n",
        "a[\"Tar\"] = 120\n",
        "# a[\"Mar\"]\n",
        "del a[\"Mar\"]\n",
        "# a.arr\n",
        "a[\"Qar\"]"
      ],
      "execution_count": null,
      "outputs": [
        {
          "output_type": "execute_result",
          "data": {
            "text/plain": [
              "120"
            ]
          },
          "metadata": {
            "tags": []
          },
          "execution_count": 108
        }
      ]
    },
    {
      "cell_type": "code",
      "metadata": {
        "id": "LG5K03f-AiCJ",
        "colab_type": "code",
        "colab": {
          "base_uri": "https://localhost:8080/",
          "height": 83
        },
        "outputId": "89245495-e670-4f09-e1e9-9a6b97ce4b04"
      },
      "source": [
        "class HashTable:\n",
        "    def __init__(self):\n",
        "        self.MAX = 4\n",
        "        self.arr = [[] for i in range(self.MAX)]\n",
        "\n",
        "    def get_hash(self, key):\n",
        "        h = 0\n",
        "        for i in key:\n",
        "            h += ord(i)\n",
        "        return h % self.MAX\n",
        "\n",
        "    def __setitem__(self, key, value):\n",
        "        h = self.get_hash(key)\n",
        "        found = False\n",
        "        for index, element in enumerate(self.arr[h]):\n",
        "            if len(element)==2 and element[0] == key:\n",
        "                self.arr[h][index] = (key, value)\n",
        "                found = True\n",
        "                break\n",
        "        if found == False:\n",
        "            self.arr[h].append((key, value))\n",
        "\n",
        "    def __getitem__(self, key):\n",
        "        h = self.get_hash(key)\n",
        "        for element in self.arr[h]:\n",
        "            if element[0] == key:\n",
        "                return element[1]\n",
        "\n",
        "    def __delitem__(self, key):\n",
        "        h = self.get_hash(key)\n",
        "        for index, element in enumerate(self.arr[h]):\n",
        "            if element[0] == key:\n",
        "                del self.arr[h][index]\n",
        "\n",
        "l = HashTable()\n",
        "l[\"A\"] = 1\n",
        "l[\"B\"] = 2\n",
        "l[\"C\"] = 3     \n",
        "l[\"D\"] = 4\n",
        "l[\"E\"] = 5\n",
        "l[\"F\"] = 6\n",
        "l[\"G\"] = 4\n",
        "l[\"H\"] = 5\n",
        "l[\"I\"] = 6\n",
        "# l.arr      \n",
        "del l[\"D\"]\n",
        "l.arr"
      ],
      "execution_count": null,
      "outputs": [
        {
          "output_type": "execute_result",
          "data": {
            "text/plain": [
              "[[('H', 5)],\n",
              " [('A', 1), ('E', 5), ('I', 6)],\n",
              " [('B', 2), ('F', 6)],\n",
              " [('C', 3), ('G', 4)]]"
            ]
          },
          "metadata": {
            "tags": []
          },
          "execution_count": 113
        }
      ]
    },
    {
      "cell_type": "code",
      "metadata": {
        "id": "Yh4AgmzXCL18",
        "colab_type": "code",
        "colab": {}
      },
      "source": [
        "class HashTable:\n",
        "    def __init__(self):\n",
        "        self.MAX = 4\n",
        "        self.arr = [[] for i in range(self.MAX)]\n",
        "\n",
        "    def get_hash(self, data):\n",
        "        h = 0\n",
        "        for item in data:\n",
        "            h += ord(item)\n",
        "        return h % self.MAX\n",
        "\n",
        "    def __setitem__(self, key, value):\n",
        "        h = self.get_hash(key)\n",
        "        found = False\n",
        "        for index, element in enumerate(self.arr[h]):\n",
        "            if len(element) == 2 and element[0] == key:\n",
        "                self.arr[h][index] = (key, value)\n",
        "                found = True\n",
        "                break\n",
        "        if found == False:\n",
        "            self.arr[h].append((key, value))\n",
        "\n",
        "    def __getitem__(self, key):\n",
        "        h = self.get_hash(key)\n",
        "        for element in self.arr[h]:\n",
        "            if element[0] == key:\n",
        "                return element[1]\n",
        "\n",
        "    def __delitem__(self, key):\n",
        "        h = self.get_hash(key)\n",
        "        for index, element in enumerate(self.arr[h]):\n",
        "            if element[0] == key:\n",
        "                del self.arr[h][index]\n",
        "        "
      ],
      "execution_count": null,
      "outputs": []
    },
    {
      "cell_type": "code",
      "metadata": {
        "id": "W7fYe0zNzNIW",
        "colab_type": "code",
        "colab": {
          "base_uri": "https://localhost:8080/",
          "height": 33
        },
        "outputId": "693c9fb0-d9ed-4539-bf3e-6210837539b5"
      },
      "source": [
        "#### - 7/27\n",
        "class HashTable:\n",
        "    def __init__(self):\n",
        "        self.MAX = 4\n",
        "        self.arr = [None for i in range(self.MAX)]\n",
        "\n",
        "    def get_hash(self, data):\n",
        "        h = 0\n",
        "        for letter in data:\n",
        "            h += ord(letter)\n",
        "        return h % self.MAX\n",
        "\n",
        "    def add(self, key, value):\n",
        "        h = self.get_hash(key)\n",
        "        self.arr[h] = value\n",
        "\n",
        "    def get(self, key):\n",
        "        h = self.get_hash(key)\n",
        "        return self.arr[h]\n",
        "\n",
        "    def delete(self, key):\n",
        "        h = self.get_hash(key)\n",
        "        self.arr[h] = None\n",
        "\n",
        "b = HashTable()\n",
        "b.add(\"Mon\", 130)\n",
        "b.add(\"Bon\", 30)\n",
        "b.add(\"Con\", 100)\n",
        "b.delete(\"Con\")\n",
        "b.arr"
      ],
      "execution_count": null,
      "outputs": [
        {
          "output_type": "execute_result",
          "data": {
            "text/plain": [
              "[None, None, 130, 30]"
            ]
          },
          "metadata": {
            "tags": []
          },
          "execution_count": 4
        }
      ]
    },
    {
      "cell_type": "code",
      "metadata": {
        "id": "e-Gss6Wx0nfL",
        "colab_type": "code",
        "colab": {
          "base_uri": "https://localhost:8080/",
          "height": 33
        },
        "outputId": "15abc4a4-5c21-4b42-9d88-a6197d1b9343"
      },
      "source": [
        "class HashTable:\n",
        "    def __init__(self):\n",
        "        self.MAX = 4\n",
        "        self.arr = [None for i in range(self.MAX)]\n",
        "\n",
        "    def get_hash(self, data):\n",
        "        h = 0\n",
        "        for letter in data:\n",
        "            h += ord(letter)\n",
        "        return h % self.MAX\n",
        "\n",
        "    def __setitem__(self, key, value):\n",
        "        h = self.get_hash(key)\n",
        "        self.arr[h] = value\n",
        "\n",
        "    def __getitem__(self, key):\n",
        "        h = self.get_hash(key)\n",
        "        return self.arr[h]\n",
        "\n",
        "    def __delitem__(self, key):\n",
        "        h = self.get_hash(key)\n",
        "        self.arr[h] = None\n",
        "\n",
        "b = HashTable()\n",
        "b[\"Mon\"] = 130\n",
        "b[\"Bon\"] = 30\n",
        "b[\"Con\"] = 100\n",
        "b[\"Don\"] = 10\n",
        "# del b[\"Con\"]\n",
        "b.arr"
      ],
      "execution_count": null,
      "outputs": [
        {
          "output_type": "execute_result",
          "data": {
            "text/plain": [
              "[100, 10, 130, 30]"
            ]
          },
          "metadata": {
            "tags": []
          },
          "execution_count": 7
        }
      ]
    },
    {
      "cell_type": "code",
      "metadata": {
        "id": "YzixdOL51NS4",
        "colab_type": "code",
        "colab": {}
      },
      "source": [
        "class HashTable:\n",
        "    def __init__(self):\n",
        "        self.MAX = 4\n",
        "        self.arr = [[] for i in range(self.MAX)]\n",
        "\n",
        "    def get_hash(self, data):\n",
        "        h = 0\n",
        "        for letter in data:\n",
        "            h += ord(letter)\n",
        "        return h % self.MAX\n",
        "\n",
        "    def __setitem__(self, key, value):\n",
        "        h = self.get_hash(key)\n",
        "        found = False\n",
        "        for index, element in enumerate(self.arr[h]):\n",
        "            if len(element) == 2 and element[0] == key:\n",
        "                self.arr[h][index] = (key, value)\n",
        "                found = True\n",
        "                break\n",
        "        if found == False:\n",
        "            self.arr[h].append((key, value))\n",
        "\n",
        "    def __getitem__(self, key):\n",
        "        h = self.get_hash(key)\n",
        "        for element in self.arr[h]:\n",
        "            if element[0] == key:\n",
        "                return element[1]\n",
        "\n",
        "    def __delitem__(self, key):\n",
        "        h = self.get_hash(key)\n",
        "        for index, element in enumerate(self.arr[h]):\n",
        "            if element[0] == key:\n",
        "                del self.arr[h][index]\n",
        "\n",
        "b = HashTable()\n",
        "b[\"Mon\"] = 130\n",
        "b[\"Bon\"] = 30\n",
        "b[\"Con\"] = 100\n",
        "b[\"Don\"] = 10\n",
        "# del b[\"Con\"]\n",
        "b.arr"
      ],
      "execution_count": null,
      "outputs": []
    },
    {
      "cell_type": "code",
      "metadata": {
        "id": "OOAfYTG66u36",
        "colab_type": "code",
        "colab": {
          "base_uri": "https://localhost:8080/",
          "height": 33
        },
        "outputId": "9402afd7-9139-49bb-a330-42b1679f3639"
      },
      "source": [
        "#July 27, 2020\n",
        "\n",
        "class HashTables:\n",
        "    def __init__(self):\n",
        "        self.MAX = 4\n",
        "        self.arr = [None for i in range(self.MAX)]\n",
        "\n",
        "    def get_hash(self, data):\n",
        "        h = 0\n",
        "        for character in data:\n",
        "            h += ord(character) \n",
        "        return h % self.MAX\n",
        "\n",
        "    def add(self, key, value):\n",
        "        h = self.get_hash(key)\n",
        "        self.arr[h] = value\n",
        "\n",
        "    def get(self, key):\n",
        "        h = self.get_hash(key)\n",
        "        if self.arr[h]:\n",
        "            return self.arr[h]\n",
        "\n",
        "\n",
        "a = HashTables()\n",
        "a.add(\"Bon\", 34)\n",
        "a.add(\"Con\", 14)\n",
        "\n",
        "# a.arr\n",
        "a.get(\"Con\")"
      ],
      "execution_count": 2,
      "outputs": [
        {
          "output_type": "execute_result",
          "data": {
            "text/plain": [
              "14"
            ]
          },
          "metadata": {
            "tags": []
          },
          "execution_count": 2
        }
      ]
    },
    {
      "cell_type": "code",
      "metadata": {
        "id": "_wDZVMUB77OX",
        "colab_type": "code",
        "colab": {
          "base_uri": "https://localhost:8080/",
          "height": 33
        },
        "outputId": "3f404517-aa85-4107-d9af-5d837f24d0fc"
      },
      "source": [
        "class HashTables:\n",
        "    def __init__(self):\n",
        "        self.MAX = 4\n",
        "        self.arr = [None for i in range(self.MAX)]\n",
        "\n",
        "    def get_hash(self, data):\n",
        "        h = 0\n",
        "        for character in data:\n",
        "            h += ord(character) \n",
        "        return h % self.MAX\n",
        "\n",
        "    def __setitem__(self, key, value):\n",
        "        h = self.get_hash(key)\n",
        "        self.arr[h] = value\n",
        "\n",
        "    def __getitem__(self, key):\n",
        "        h = self.get_hash(key)\n",
        "        if self.arr[h]:\n",
        "            return self.arr[h]\n",
        "\n",
        "\n",
        "a = HashTables()\n",
        "a[\"Bon\"] = 34\n",
        "a[\"Eon\"] = 14\n",
        "\n",
        "# a.arr\n",
        "a[\"Eon\"]"
      ],
      "execution_count": 4,
      "outputs": [
        {
          "output_type": "execute_result",
          "data": {
            "text/plain": [
              "14"
            ]
          },
          "metadata": {
            "tags": []
          },
          "execution_count": 4
        }
      ]
    },
    {
      "cell_type": "code",
      "metadata": {
        "id": "uCLtWFM78Svr",
        "colab_type": "code",
        "colab": {}
      },
      "source": [
        "class HashTables:\n",
        "    def __init__(self):\n",
        "        self.MAX = 4\n",
        "        self.arr = [None for i in range(self.MAX)]\n",
        "\n",
        "    def get_hash(self, data):\n",
        "        h = 0\n",
        "        for character in data:\n",
        "            h += ord(character) \n",
        "        return h % self.MAX\n",
        "\n",
        "    def __setitem__(self, key, value):\n",
        "        h = self.get_hash(key)\n",
        "        self.arr[h] = value\n",
        "\n",
        "    def __getitem__(self, key):\n",
        "        h = self.get_hash(key)\n",
        "        if self.arr[h]:\n",
        "            return self.arr[h]\n",
        "\n",
        "\n",
        "a = HashTables()\n",
        "a[\"Bon\"] = 34\n",
        "a[\"Eon\"] = 14\n",
        "\n",
        "# a.arr\n",
        "a[\"Eon\"]"
      ],
      "execution_count": null,
      "outputs": []
    },
    {
      "cell_type": "code",
      "metadata": {
        "id": "iZEpCn-TDvaW",
        "colab_type": "code",
        "colab": {
          "base_uri": "https://localhost:8080/",
          "height": 33
        },
        "outputId": "c13c60bb-ebb0-4953-891d-fa694a90ec43"
      },
      "source": [
        "# Hash Table with Collision Handling \n",
        "\n",
        "class HashTables:\n",
        "    def __init__(self):\n",
        "        self.MAX = 4\n",
        "        self.arr = [[] for i in range(self.MAX)]\n",
        "\n",
        "    def get_hash(self, data):\n",
        "        h = 0\n",
        "        for character in data:\n",
        "            h += ord(character) \n",
        "        return h % self.MAX\n",
        "\n",
        "    def __setitem__(self, key, value):\n",
        "        h = self.get_hash(key)\n",
        "        isfound = False\n",
        "        for index, element in enumerate(self.arr[h]):\n",
        "            if len(element) == 2 and element[0] == key:\n",
        "                self.arr[h][index] = value\n",
        "                isfound = True\n",
        "                break\n",
        "        if isfound == False:\n",
        "            self.arr[h].append((key, value))           \n",
        "\n",
        "    def __getitem__(self, key):\n",
        "        h = self.get_hash(key)\n",
        "        for element in self.arr[h]:\n",
        "            if element[0] == key:\n",
        "                return element[1]\n",
        "\n",
        "    def __delitem__(self, key):\n",
        "        h = self.get_hash(key)\n",
        "        for index, element in enumerate(self.arr[h]):\n",
        "            if element[0] == key:\n",
        "                del self.arr[h][index]\n",
        "\n",
        "a = HashTables()\n",
        "a[\"Bon\"] = 34\n",
        "a[\"Eon\"] = 14\n",
        "a[\"con\"] = 31\n",
        "a[\"don\"] = 12\n",
        "a[\"won\"] = 33\n",
        "# a[\"qon\"] = 15\n",
        "# del a['Bon']\n",
        "a.arr\n",
        "# a[\"Eon\"]"
      ],
      "execution_count": 13,
      "outputs": [
        {
          "output_type": "execute_result",
          "data": {
            "text/plain": [
              "[[('con', 31), ('won', 33)], [('don', 12)], [('Eon', 14)], [('Bon', 34)]]"
            ]
          },
          "metadata": {
            "tags": []
          },
          "execution_count": 13
        }
      ]
    },
    {
      "cell_type": "code",
      "metadata": {
        "id": "CxW0l4-LGEwn",
        "colab_type": "code",
        "colab": {}
      },
      "source": [
        ""
      ],
      "execution_count": null,
      "outputs": []
    }
  ]
}