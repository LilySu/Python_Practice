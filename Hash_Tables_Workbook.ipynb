{
  "nbformat": 4,
  "nbformat_minor": 0,
  "metadata": {
    "colab": {
      "name": "Hash_Tables_Workbook.ipynb",
      "provenance": [],
      "authorship_tag": "ABX9TyM+H9/est9zvc+mTsRbh9cs",
      "include_colab_link": true
    },
    "kernelspec": {
      "name": "python3",
      "display_name": "Python 3"
    }
  },
  "cells": [
    {
      "cell_type": "markdown",
      "metadata": {
        "id": "view-in-github",
        "colab_type": "text"
      },
      "source": [
        "<a href=\"https://colab.research.google.com/github/LilySu/Python_Practice/blob/master/Hash_Tables_Workbook.ipynb\" target=\"_parent\"><img src=\"https://colab.research.google.com/assets/colab-badge.svg\" alt=\"Open In Colab\"/></a>"
      ]
    },
    {
      "cell_type": "code",
      "metadata": {
        "id": "Nu1kpOTqbgeo",
        "colab_type": "code",
        "colab": {
          "base_uri": "https://localhost:8080/",
          "height": 123
        },
        "outputId": "7cca4cf4-605f-4d16-f7e2-7eee6c03ada4"
      },
      "source": [
        "from google.colab import drive\n",
        "drive.mount('/content/gdrive')"
      ],
      "execution_count": 1,
      "outputs": [
        {
          "output_type": "stream",
          "text": [
            "Go to this URL in a browser: https://accounts.google.com/o/oauth2/auth?client_id=947318989803-6bn6qk8qdgf4n4g3pfee6491hc0brc4i.apps.googleusercontent.com&redirect_uri=urn%3aietf%3awg%3aoauth%3a2.0%3aoob&response_type=code&scope=email%20https%3a%2f%2fwww.googleapis.com%2fauth%2fdocs.test%20https%3a%2f%2fwww.googleapis.com%2fauth%2fdrive%20https%3a%2f%2fwww.googleapis.com%2fauth%2fdrive.photos.readonly%20https%3a%2f%2fwww.googleapis.com%2fauth%2fpeopleapi.readonly\n",
            "\n",
            "Enter your authorization code:\n",
            "··········\n",
            "Mounted at /content/gdrive\n"
          ],
          "name": "stdout"
        }
      ]
    },
    {
      "cell_type": "code",
      "metadata": {
        "id": "qTrjC7GIdLhD",
        "colab_type": "code",
        "colab": {
          "base_uri": "https://localhost:8080/",
          "height": 121
        },
        "outputId": "dbce0a04-ee54-4b44-e32d-c4275ddc40e4"
      },
      "source": [
        "stock_prices = []\n",
        "with open(\"/content/gdrive/My Drive/Colab Notebooks/Leetcode/stock_prices.csv\",\"r\") as f:\n",
        "    for line in f:\n",
        "        tokens = line.split(',')\n",
        "        day = tokens[0]\n",
        "        price = float(tokens[1].replace('\"',''))\n",
        "        stock_prices.append([day, price])\n",
        "stock_prices"
      ],
      "execution_count": 8,
      "outputs": [
        {
          "output_type": "execute_result",
          "data": {
            "text/plain": [
              "[['\"March 6', 310.0],\n",
              " ['\"March 7', 340.0],\n",
              " ['\"March 8', 380.0],\n",
              " ['\"March 9', 302.0],\n",
              " ['\"March 10', 297.0],\n",
              " ['\"March 11', 323.0]]"
            ]
          },
          "metadata": {
            "tags": []
          },
          "execution_count": 8
        }
      ]
    },
    {
      "cell_type": "code",
      "metadata": {
        "id": "rC3gYfWfKzS5",
        "colab_type": "code",
        "colab": {
          "base_uri": "https://localhost:8080/",
          "height": 34
        },
        "outputId": "25173043-14ef-4266-a170-9700854193bb"
      },
      "source": [
        "# search complexity is O(n) but with dictionary would be O(1)\n",
        "for element in stock_prices:\n",
        "    if element[0] =='\"March 9':\n",
        "        print(element[1])"
      ],
      "execution_count": 11,
      "outputs": [
        {
          "output_type": "stream",
          "text": [
            "302.0\n"
          ],
          "name": "stdout"
        }
      ]
    },
    {
      "cell_type": "code",
      "metadata": {
        "id": "DCIfDDJEdNjm",
        "colab_type": "code",
        "colab": {
          "base_uri": "https://localhost:8080/",
          "height": 34
        },
        "outputId": "6b51173e-eba0-43f4-b58c-9d86c095ff8b"
      },
      "source": [
        "stock_prices = {}\n",
        "with open(\"/content/gdrive/My Drive/Colab Notebooks/Leetcode/stock_prices.csv\",\"r\") as f:\n",
        "    for line in f:\n",
        "        tokens = line.split(',')\n",
        "        day = tokens[0]\n",
        "        price = float(tokens[1].replace('\"',''))\n",
        "        stock_prices[day] = price\n",
        "stock_prices['\"March 9']"
      ],
      "execution_count": 13,
      "outputs": [
        {
          "output_type": "execute_result",
          "data": {
            "text/plain": [
              "302.0"
            ]
          },
          "metadata": {
            "tags": []
          },
          "execution_count": 13
        }
      ]
    },
    {
      "cell_type": "code",
      "metadata": {
        "id": "-ZwbJMjGdok1",
        "colab_type": "code",
        "colab": {
          "base_uri": "https://localhost:8080/",
          "height": 34
        },
        "outputId": "d1e9ebf7-1378-40be-d029-8479f5ee6d4e"
      },
      "source": [
        "def get_hash(key): # takes a string\n",
        "    h = 0\n",
        "    for char in key: # for each character\n",
        "        h += ord(char) # find ascii character and take sum\n",
        "    return h % 100 # divide by 100, get remainder\n",
        "# ord('a')\n",
        "get_hash(\"march 28\")"
      ],
      "execution_count": 15,
      "outputs": [
        {
          "output_type": "execute_result",
          "data": {
            "text/plain": [
              "61"
            ]
          },
          "metadata": {
            "tags": []
          },
          "execution_count": 15
        }
      ]
    },
    {
      "cell_type": "code",
      "metadata": {
        "id": "e1-EJVt0ezI2",
        "colab_type": "code",
        "colab": {
          "base_uri": "https://localhost:8080/",
          "height": 1000
        },
        "outputId": "66aca6bd-1a6a-4e5b-8d9b-5e345f54608f"
      },
      "source": [
        "# we implement dictionary\n",
        "class HashTable:\n",
        "    def __init__(self):\n",
        "        self.MAX = 100\n",
        "        self.arr = [None for i in range(self.MAX)]\n",
        "\n",
        "    def get_hash(self, key):\n",
        "        h = 0\n",
        "        for char in key:\n",
        "            h += ord(char)\n",
        "        return h % self.MAX\n",
        "\n",
        "    # def add(self, key, val):\n",
        "    #     h = self.get_hash(key)\n",
        "    #     self.arr[h] = val\n",
        "\n",
        "    # def get(self, key):\n",
        "    #     h = self.get_hash(key)\n",
        "    #     return self.arr[h]\n",
        "\n",
        "    def __setitem__(self, key, val):\n",
        "        # same as add\n",
        "        h = self.get_hash(key)\n",
        "        self.arr[h] = val\n",
        "\n",
        "    def __getitem__(self, key):\n",
        "        # same as get\n",
        "        h = self.get_hash(key)\n",
        "        return self.arr[h]\n",
        "\n",
        "    def __delitem__(self, key):\n",
        "        h = self.get_hash(key)\n",
        "        self.arr[h] = None\n",
        "\n",
        "t = HashTable()\n",
        "# t.add('march 6', 130)\n",
        "# t.get('march 6')\n",
        "# t.arr\n",
        "t['march 6'] = 130\n",
        "t['march 1'] = 12\n",
        "t['dec 17'] = 12\n",
        "t.arr"
      ],
      "execution_count": 25,
      "outputs": [
        {
          "output_type": "execute_result",
          "data": {
            "text/plain": [
              "[None,\n",
              " None,\n",
              " None,\n",
              " None,\n",
              " 12,\n",
              " None,\n",
              " None,\n",
              " None,\n",
              " None,\n",
              " 130,\n",
              " None,\n",
              " None,\n",
              " None,\n",
              " None,\n",
              " None,\n",
              " None,\n",
              " None,\n",
              " None,\n",
              " None,\n",
              " None,\n",
              " None,\n",
              " None,\n",
              " None,\n",
              " None,\n",
              " None,\n",
              " None,\n",
              " None,\n",
              " None,\n",
              " None,\n",
              " None,\n",
              " None,\n",
              " None,\n",
              " None,\n",
              " None,\n",
              " None,\n",
              " None,\n",
              " 12,\n",
              " None,\n",
              " None,\n",
              " None,\n",
              " None,\n",
              " None,\n",
              " None,\n",
              " None,\n",
              " None,\n",
              " None,\n",
              " None,\n",
              " None,\n",
              " None,\n",
              " None,\n",
              " None,\n",
              " None,\n",
              " None,\n",
              " None,\n",
              " None,\n",
              " None,\n",
              " None,\n",
              " None,\n",
              " None,\n",
              " None,\n",
              " None,\n",
              " None,\n",
              " None,\n",
              " None,\n",
              " None,\n",
              " None,\n",
              " None,\n",
              " None,\n",
              " None,\n",
              " None,\n",
              " None,\n",
              " None,\n",
              " None,\n",
              " None,\n",
              " None,\n",
              " None,\n",
              " None,\n",
              " None,\n",
              " None,\n",
              " None,\n",
              " None,\n",
              " None,\n",
              " None,\n",
              " None,\n",
              " None,\n",
              " None,\n",
              " None,\n",
              " None,\n",
              " None,\n",
              " None,\n",
              " None,\n",
              " None,\n",
              " None,\n",
              " None,\n",
              " None,\n",
              " None,\n",
              " None,\n",
              " None,\n",
              " None,\n",
              " None]"
            ]
          },
          "metadata": {
            "tags": []
          },
          "execution_count": 25
        }
      ]
    },
    {
      "cell_type": "code",
      "metadata": {
        "id": "NMEepmUrfigl",
        "colab_type": "code",
        "colab": {
          "base_uri": "https://localhost:8080/",
          "height": 34
        },
        "outputId": "c69a92b3-ec7b-40b1-f3b8-c67ae8d27ecb"
      },
      "source": [
        "t['dec 17']"
      ],
      "execution_count": 24,
      "outputs": [
        {
          "output_type": "execute_result",
          "data": {
            "text/plain": [
              "12"
            ]
          },
          "metadata": {
            "tags": []
          },
          "execution_count": 24
        }
      ]
    },
    {
      "cell_type": "code",
      "metadata": {
        "id": "u1GwBtOnhha-",
        "colab_type": "code",
        "colab": {
          "base_uri": "https://localhost:8080/",
          "height": 121
        },
        "outputId": "ac53bcd6-83a5-4545-a793-6c12eced6447"
      },
      "source": [
        "# Handle collision\n",
        "\n",
        "# Create key value pair to handle collision\n",
        "class HashTable:\n",
        "    def __init__(self):\n",
        "        self.MAX = 6\n",
        "        # Implement an array instead of None as before\n",
        "        self.arr = [[] for i in range(self.MAX)]\n",
        "\n",
        "    def get_hash(self, key):\n",
        "        h = 0\n",
        "        for char in key:\n",
        "            h += ord(char)\n",
        "        return h % self.MAX\n",
        "\n",
        "    def __setitem__(self, key, val):\n",
        "        # same as add\n",
        "        h = self.get_hash(key)\n",
        "        found = False\n",
        "        for idx, element in enumerate(self.arr[h]): # if key exists, we modify key value pair\n",
        "            if len(element)==2 and element[0]==key:\n",
        "                # since we are inserting a tuple, it's immutable not like element[1] = value\n",
        "                self.arr[h][idx] = (key, val)\n",
        "                found = True\n",
        "                break\n",
        "        if not found: # if key does not exist in hash table\n",
        "            self.arr[h].append((key,val)) \n",
        "\n",
        "    def __getitem__(self, key):\n",
        "        # same as get\n",
        "        h = self.get_hash(key)\n",
        "        for element in self.arr[h]:\n",
        "            if element[0] == key:\n",
        "                return element[1]\n",
        "\n",
        "    def __delitem__(self, key):\n",
        "        h = self.get_hash(key)\n",
        "        for index, element in enumerate(self.arr[h]):\n",
        "            if element[0] == key:\n",
        "                del self.arr[h][index]\n",
        "\n",
        "t = HashTable()\n",
        "# t.add('march 6', 130)\n",
        "# t.get('march 6')\n",
        "# t.arr\n",
        "# t['march 6'] = 130\n",
        "# t['march 1'] = 12\n",
        "# t['dec 17'] = 12\n",
        "# t.arr\n",
        "# t.get_hash(\"march 6\")\n",
        "# t.get_hash(\"march 17\")\n",
        "t['march 6'] = 120\n",
        "t['march 6'] = 78\n",
        "t['march 8'] = 67\n",
        "t['march 9'] = 4\n",
        "t['march 17'] = 459\n",
        "# t['march 17']\n",
        "t.arr"
      ],
      "execution_count": 34,
      "outputs": [
        {
          "output_type": "execute_result",
          "data": {
            "text/plain": [
              "[[('march 9', 4)],\n",
              " [],\n",
              " [],\n",
              " [('march 6', 78)],\n",
              " [],\n",
              " [('march 8', 67), ('march 17', 459)]]"
            ]
          },
          "metadata": {
            "tags": []
          },
          "execution_count": 34
        }
      ]
    },
    {
      "cell_type": "code",
      "metadata": {
        "id": "5KURqXrolQVa",
        "colab_type": "code",
        "colab": {
          "base_uri": "https://localhost:8080/",
          "height": 34
        },
        "outputId": "fed7b644-161d-4d49-fb94-d628d5a197e0"
      },
      "source": [
        "del t[\"march 6\"]\n",
        "t.arr"
      ],
      "execution_count": 36,
      "outputs": [
        {
          "output_type": "execute_result",
          "data": {
            "text/plain": [
              "[[('march 9', 4)], [], [], [], [], [('march 8', 67), ('march 17', 459)]]"
            ]
          },
          "metadata": {
            "tags": []
          },
          "execution_count": 36
        }
      ]
    },
    {
      "cell_type": "code",
      "metadata": {
        "id": "sngNdVDioZji",
        "colab_type": "code",
        "colab": {
          "base_uri": "https://localhost:8080/",
          "height": 34
        },
        "outputId": "54bab05a-8d43-46ec-ba79-7a0c09fa884a"
      },
      "source": [
        "def get_hash(key):\n",
        "    h = 0\n",
        "    for char in key:\n",
        "        h += ord(char)\n",
        "    return h%100\n",
        "get_hash(\"monday\")"
      ],
      "execution_count": 39,
      "outputs": [
        {
          "output_type": "execute_result",
          "data": {
            "text/plain": [
              "48"
            ]
          },
          "metadata": {
            "tags": []
          },
          "execution_count": 39
        }
      ]
    },
    {
      "cell_type": "code",
      "metadata": {
        "id": "FA0EOtIQvA1t",
        "colab_type": "code",
        "colab": {
          "base_uri": "https://localhost:8080/",
          "height": 34
        },
        "outputId": "c2cd4fe2-b52e-448f-86ae-adc59b5f649d"
      },
      "source": [
        "class HashTable:\n",
        "    def __init__(self):\n",
        "        self.MAX = 6\n",
        "        self.arr = [None for i in range(self.MAX)]\n",
        "\n",
        "    def get_hash(self, key):\n",
        "        h = 0\n",
        "        for char in key:\n",
        "            h += ord(char)\n",
        "        return h % self.MAX\n",
        "\n",
        "t = HashTable()\n",
        "t.get_hash('march 6')"
      ],
      "execution_count": 42,
      "outputs": [
        {
          "output_type": "execute_result",
          "data": {
            "text/plain": [
              "3"
            ]
          },
          "metadata": {
            "tags": []
          },
          "execution_count": 42
        }
      ]
    },
    {
      "cell_type": "code",
      "metadata": {
        "id": "cNF6jPRbwEYo",
        "colab_type": "code",
        "colab": {
          "base_uri": "https://localhost:8080/",
          "height": 34
        },
        "outputId": "a365978c-1048-4ad8-d941-dc38748c3844"
      },
      "source": [
        "class HashTable:\n",
        "    def __init__(self):\n",
        "        self.MAX = 6\n",
        "        self.arr = [None for i in range(self.MAX)]\n",
        "\n",
        "    def get_hash(self, key):\n",
        "        h = 0\n",
        "        for char in key:\n",
        "            h += ord(char)\n",
        "        return h % self.MAX\n",
        "\n",
        "    def __setitem__(self, key, val):\n",
        "        h = self.get_hash(key)\n",
        "        self.arr[h] = val\n",
        "\n",
        "    def __getitem__(self, key):\n",
        "        h = self.get_hash(key)\n",
        "        return self.arr[h]\n",
        "\n",
        "t = HashTable()\n",
        "t['march 6']=130\n",
        "t.arr"
      ],
      "execution_count": 51,
      "outputs": [
        {
          "output_type": "execute_result",
          "data": {
            "text/plain": [
              "[None, None, None, 130, None, None]"
            ]
          },
          "metadata": {
            "tags": []
          },
          "execution_count": 51
        }
      ]
    },
    {
      "cell_type": "code",
      "metadata": {
        "id": "KZ_jU3_wwc4i",
        "colab_type": "code",
        "colab": {
          "base_uri": "https://localhost:8080/",
          "height": 34
        },
        "outputId": "de07ee3d-2627-421b-b77e-33ab08258c0d"
      },
      "source": [
        "t.get('march 6')"
      ],
      "execution_count": 48,
      "outputs": [
        {
          "output_type": "execute_result",
          "data": {
            "text/plain": [
              "130"
            ]
          },
          "metadata": {
            "tags": []
          },
          "execution_count": 48
        }
      ]
    },
    {
      "cell_type": "code",
      "metadata": {
        "id": "FFw1NL3zxLap",
        "colab_type": "code",
        "colab": {
          "base_uri": "https://localhost:8080/",
          "height": 34
        },
        "outputId": "e3688653-31ec-4818-bcd6-f529774dfa8c"
      },
      "source": [
        "class HashTable:\n",
        "    def __init__(self):\n",
        "        self.MAX = 6\n",
        "        self.arr = [None for i in range(self.MAX)]\n",
        "\n",
        "    def get_hash(self, newData):\n",
        "        h = 0\n",
        "        for letter in newData:\n",
        "            h += ord(letter)\n",
        "        return h % self.MAX\n",
        "\n",
        "    def add(self, newData, value):\n",
        "        h = self.get_hash(newData)\n",
        "        self.arr[h] = value\n",
        "\n",
        "h = HashTable()\n",
        "h.add(\"mon\", 130)\n",
        "h.arr"
      ],
      "execution_count": 57,
      "outputs": [
        {
          "output_type": "execute_result",
          "data": {
            "text/plain": [
              "[130, None, None, None, None, None]"
            ]
          },
          "metadata": {
            "tags": []
          },
          "execution_count": 57
        }
      ]
    },
    {
      "cell_type": "code",
      "metadata": {
        "id": "w6tug8P31BDi",
        "colab_type": "code",
        "colab": {
          "base_uri": "https://localhost:8080/",
          "height": 34
        },
        "outputId": "ce73e04e-0123-45e8-f725-398119c548ed"
      },
      "source": [
        "class HashTable:\n",
        "    def __init__(self):\n",
        "        self.MAX = 6\n",
        "        self.arr = [None for i in range(self.MAX)]\n",
        "\n",
        "    def hash(self, newData):\n",
        "        h = 0\n",
        "        for letter in newData:\n",
        "            h += ord(letter)\n",
        "        return h % self.MAX\n",
        "\n",
        "    def __setitem__(self, key, value):\n",
        "        newkey = self.hash(key)\n",
        "        self.arr[newkey] = value\n",
        "\n",
        "    def __getitem__(self, key): # call by key, get value\n",
        "        h = self.hash(key)\n",
        "        return self.arr[h]\n",
        "\n",
        "    def __delitem__(self, key):\n",
        "        h = self.hash(key)\n",
        "        self.arr[h] = None\n",
        "\n",
        "h = HashTable()\n",
        "# h.hash(\"Monday\")\n",
        "# h.add(\"Monday\",130)\n",
        "# # h.arr\n",
        "# h.get(\"Monday\")\n",
        "h[\"monday\"] = 130\n",
        "h[\"day\"] = 20\n",
        "# h.arr\n",
        "h[\"monday\"]"
      ],
      "execution_count": 65,
      "outputs": [
        {
          "output_type": "execute_result",
          "data": {
            "text/plain": [
              "20"
            ]
          },
          "metadata": {
            "tags": []
          },
          "execution_count": 65
        }
      ]
    },
    {
      "cell_type": "code",
      "metadata": {
        "id": "h7MFH3Lq2u3S",
        "colab_type": "code",
        "colab": {}
      },
      "source": [
        ""
      ],
      "execution_count": null,
      "outputs": []
    }
  ]
}