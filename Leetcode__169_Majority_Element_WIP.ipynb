{
  "nbformat": 4,
  "nbformat_minor": 0,
  "metadata": {
    "colab": {
      "name": "Leetcode_#169_Majority_Element_WIP.ipynb",
      "provenance": [],
      "authorship_tag": "ABX9TyOnVnlCv8cEaZSuD4AemlQN",
      "include_colab_link": true
    },
    "kernelspec": {
      "name": "python3",
      "display_name": "Python 3"
    }
  },
  "cells": [
    {
      "cell_type": "markdown",
      "metadata": {
        "id": "view-in-github",
        "colab_type": "text"
      },
      "source": [
        "<a href=\"https://colab.research.google.com/github/LilySu/Python_Practice/blob/master/Leetcode__169_Majority_Element_WIP.ipynb\" target=\"_parent\"><img src=\"https://colab.research.google.com/assets/colab-badge.svg\" alt=\"Open In Colab\"/></a>"
      ]
    },
    {
      "cell_type": "markdown",
      "metadata": {
        "id": "oK5L85ErWSvP",
        "colab_type": "text"
      },
      "source": [
        "Given an array of size n, find the majority element. The majority element is the element that appears more than ⌊ n/2 ⌋ times.\n",
        "\n",
        "You may assume that the array is non-empty and the majority element always exist in the array.\n",
        "```\n",
        "Example 1:\n",
        "\n",
        "Input: [3,2,3]\n",
        "Output: 3\n",
        "Example 2:\n",
        "\n",
        "Input: [2,2,1,1,1,2,2]\n",
        "Output: 2\n",
        "```"
      ]
    },
    {
      "cell_type": "code",
      "metadata": {
        "id": "l33Fv8wdVzK5",
        "colab_type": "code",
        "colab": {
          "base_uri": "https://localhost:8080/",
          "height": 34
        },
        "outputId": "0660db21-b02c-4447-f7f7-7f0a5c6ecfbe"
      },
      "source": [
        "l = [2,2,1,1,1,2,2]\n",
        "list(set(l))"
      ],
      "execution_count": 5,
      "outputs": [
        {
          "output_type": "execute_result",
          "data": {
            "text/plain": [
              "[1, 2]"
            ]
          },
          "metadata": {
            "tags": []
          },
          "execution_count": 5
        }
      ]
    },
    {
      "cell_type": "code",
      "metadata": {
        "id": "U_IpEvVmWjmP",
        "colab_type": "code",
        "colab": {
          "base_uri": "https://localhost:8080/",
          "height": 34
        },
        "outputId": "57d8bc1c-b2f2-419b-cd30-6bf63a3e6b18"
      },
      "source": [
        "l = [3,3,4]\n",
        "d={}\n",
        "for i in l:\n",
        "    counter = l.count(i)\n",
        "    d[i] = counter\n",
        "    counter += 1\n",
        "m = 0\n",
        "for i in d:\n",
        "    if d[i] > m:\n",
        "        m = d[i]\n",
        "for i in d:\n",
        "    if d[i] == m:\n",
        "        print(i)\n",
        "# print(d)\n",
        "# d"
      ],
      "execution_count": 19,
      "outputs": [
        {
          "output_type": "stream",
          "text": [
            "3\n"
          ],
          "name": "stdout"
        }
      ]
    },
    {
      "cell_type": "code",
      "metadata": {
        "id": "OaqKSRXCXxXB",
        "colab_type": "code",
        "colab": {
          "base_uri": "https://localhost:8080/",
          "height": 34
        },
        "outputId": "a7bb401a-783b-4fa4-fa77-8d2fcf9730af"
      },
      "source": [
        "l = [3,3,4]\n",
        "d = dict.fromkeys(l)\n",
        "for i in d:\n",
        "    d[i] = l.count(i)\n",
        "d"
      ],
      "execution_count": 35,
      "outputs": [
        {
          "output_type": "execute_result",
          "data": {
            "text/plain": [
              "{3: 2, 4: 1}"
            ]
          },
          "metadata": {
            "tags": []
          },
          "execution_count": 35
        }
      ]
    },
    {
      "cell_type": "code",
      "metadata": {
        "id": "DT--K3F2cTwY",
        "colab_type": "code",
        "colab": {
          "base_uri": "https://localhost:8080/",
          "height": 34
        },
        "outputId": "1f89ae6d-75e2-4d2d-a53a-8c660b0111ba"
      },
      "source": [
        "l = [3,3,4]\n",
        "d={}\n",
        "for i in l:\n",
        "    d[i] = l.count(i)\n",
        "max(d, key=d.get)"
      ],
      "execution_count": 40,
      "outputs": [
        {
          "output_type": "execute_result",
          "data": {
            "text/plain": [
              "3"
            ]
          },
          "metadata": {
            "tags": []
          },
          "execution_count": 40
        }
      ]
    },
    {
      "cell_type": "code",
      "metadata": {
        "id": "oHcimCLogg44",
        "colab_type": "code",
        "colab": {
          "base_uri": "https://localhost:8080/",
          "height": 34
        },
        "outputId": "be511204-6614-4a2a-ab5d-f1b0ae05b007"
      },
      "source": [
        "l = [3,3,4]\n",
        "max = 1\n",
        "for index, i in enumerate(l):\n",
        "    if l.count(i) > max:\n",
        "        max = l.count(i)\n",
        "max\n",
        "\n"
      ],
      "execution_count": 41,
      "outputs": [
        {
          "output_type": "execute_result",
          "data": {
            "text/plain": [
              "2"
            ]
          },
          "metadata": {
            "tags": []
          },
          "execution_count": 41
        }
      ]
    },
    {
      "cell_type": "code",
      "metadata": {
        "id": "8uwrEaKOlF4b",
        "colab_type": "code",
        "colab": {
          "base_uri": "https://localhost:8080/",
          "height": 34
        },
        "outputId": "1a3de4a1-aebc-4ab2-fec8-b21349af0a82"
      },
      "source": [
        "l = [3,3,4]\n",
        "d = {}\n",
        "for index, i in enumerate(l):\n",
        "    d[l.count(i)]=  i\n",
        "d"
      ],
      "execution_count": 54,
      "outputs": [
        {
          "output_type": "execute_result",
          "data": {
            "text/plain": [
              "{1: 4, 2: 3}"
            ]
          },
          "metadata": {
            "tags": []
          },
          "execution_count": 54
        }
      ]
    },
    {
      "cell_type": "code",
      "metadata": {
        "id": "nBB0FK77lW7e",
        "colab_type": "code",
        "colab": {
          "base_uri": "https://localhost:8080/",
          "height": 199
        },
        "outputId": "6c166308-5733-422e-a95f-c4e83f38ec4d"
      },
      "source": [
        "d = {1: 4, 2: 3}\n",
        "\n",
        "list(d.keys()).max()"
      ],
      "execution_count": 62,
      "outputs": [
        {
          "output_type": "error",
          "ename": "AttributeError",
          "evalue": "ignored",
          "traceback": [
            "\u001b[0;31m---------------------------------------------------------------------------\u001b[0m",
            "\u001b[0;31mAttributeError\u001b[0m                            Traceback (most recent call last)",
            "\u001b[0;32m<ipython-input-62-596a1abefd35>\u001b[0m in \u001b[0;36m<module>\u001b[0;34m()\u001b[0m\n\u001b[1;32m      1\u001b[0m \u001b[0md\u001b[0m \u001b[0;34m=\u001b[0m \u001b[0;34m{\u001b[0m\u001b[0;36m1\u001b[0m\u001b[0;34m:\u001b[0m \u001b[0;36m4\u001b[0m\u001b[0;34m,\u001b[0m \u001b[0;36m2\u001b[0m\u001b[0;34m:\u001b[0m \u001b[0;36m3\u001b[0m\u001b[0;34m}\u001b[0m\u001b[0;34m\u001b[0m\u001b[0;34m\u001b[0m\u001b[0m\n\u001b[1;32m      2\u001b[0m \u001b[0;34m\u001b[0m\u001b[0m\n\u001b[0;32m----> 3\u001b[0;31m \u001b[0mlist\u001b[0m\u001b[0;34m(\u001b[0m\u001b[0md\u001b[0m\u001b[0;34m.\u001b[0m\u001b[0mkeys\u001b[0m\u001b[0;34m(\u001b[0m\u001b[0;34m)\u001b[0m\u001b[0;34m)\u001b[0m\u001b[0;34m.\u001b[0m\u001b[0mmax\u001b[0m\u001b[0;34m(\u001b[0m\u001b[0;34m)\u001b[0m\u001b[0;34m\u001b[0m\u001b[0;34m\u001b[0m\u001b[0m\n\u001b[0m",
            "\u001b[0;31mAttributeError\u001b[0m: 'list' object has no attribute 'max'"
          ]
        }
      ]
    },
    {
      "cell_type": "code",
      "metadata": {
        "id": "jMvLMJRsmwlo",
        "colab_type": "code",
        "colab": {
          "base_uri": "https://localhost:8080/",
          "height": 68
        },
        "outputId": "74fcd3a6-1891-489a-c5e3-3c9f37ade912"
      },
      "source": [
        "nums = [3,3,4]\n",
        "majority_count = len(nums)//2\n",
        "for num in nums:\n",
        "    count = sum(1 for elem in nums if elem == num)\n",
        "#     if count > majority_count:\n",
        "#         print(num)\n",
        "    print(count)"
      ],
      "execution_count": 66,
      "outputs": [
        {
          "output_type": "stream",
          "text": [
            "2\n",
            "2\n",
            "1\n"
          ],
          "name": "stdout"
        }
      ]
    },
    {
      "cell_type": "code",
      "metadata": {
        "id": "bNaHuPucofOS",
        "colab_type": "code",
        "colab": {
          "base_uri": "https://localhost:8080/",
          "height": 34
        },
        "outputId": "3f0401e3-1899-44e9-8005-8a367f7cf714"
      },
      "source": [
        "nums = [3,3,4]\n",
        "nums.sort()\n",
        "nums[len(nums)//2]"
      ],
      "execution_count": 67,
      "outputs": [
        {
          "output_type": "execute_result",
          "data": {
            "text/plain": [
              "3"
            ]
          },
          "metadata": {
            "tags": []
          },
          "execution_count": 67
        }
      ]
    },
    {
      "cell_type": "code",
      "metadata": {
        "id": "HlakIh6rp8v5",
        "colab_type": "code",
        "colab": {}
      },
      "source": [
        ""
      ],
      "execution_count": null,
      "outputs": []
    }
  ]
}