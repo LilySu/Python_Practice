{
  "nbformat": 4,
  "nbformat_minor": 0,
  "metadata": {
    "colab": {
      "name": "Leetcode_#70_Climbing_Stairs.ipynb",
      "provenance": [],
      "authorship_tag": "ABX9TyNcnulKjlqSGS2Kkl7dXzCY",
      "include_colab_link": true
    },
    "kernelspec": {
      "name": "python3",
      "display_name": "Python 3"
    }
  },
  "cells": [
    {
      "cell_type": "markdown",
      "metadata": {
        "id": "view-in-github",
        "colab_type": "text"
      },
      "source": [
        "<a href=\"https://colab.research.google.com/github/LilySu/Python_Practice/blob/master/Leetcode__70_Climbing_Stairs.ipynb\" target=\"_parent\"><img src=\"https://colab.research.google.com/assets/colab-badge.svg\" alt=\"Open In Colab\"/></a>"
      ]
    },
    {
      "cell_type": "markdown",
      "metadata": {
        "id": "8xywFjDXDgYj",
        "colab_type": "text"
      },
      "source": [
        "You are climbing a stair case. It takes n steps to reach to the top.\n",
        "\n",
        "Each time you can either climb 1 or 2 steps. In how many distinct ways can you climb to the top?\n",
        "```\n",
        "Example 1:\n",
        "\n",
        "Input: 2\n",
        "Output: 2\n",
        "Explanation: There are two ways to climb to the top.\n",
        "1. 1 step + 1 step\n",
        "2. 2 steps\n",
        "Example 2:\n",
        "\n",
        "Input: 3\n",
        "Output: 3\n",
        "Explanation: There are three ways to climb to the top.\n",
        "1. 1 step + 1 step + 1 step\n",
        "2. 1 step + 2 steps\n",
        "3. 2 steps + 1 step\n",
        " \n",
        "Constraints:\n",
        "1 <= n <= 45\n",
        "```"
      ]
    },
    {
      "cell_type": "code",
      "metadata": {
        "id": "fxBoUQn6DXHw",
        "colab_type": "code",
        "colab": {
          "base_uri": "https://localhost:8080/",
          "height": 86
        },
        "outputId": "03f9654e-b24e-4c6b-855d-a9ceafebcd06"
      },
      "source": [
        "def climbStairs(n):\n",
        "    \"\"\"\n",
        "    :type n: int\n",
        "    :rtype: int\n",
        "    \"\"\"\n",
        "    total = n\n",
        "    steps = 0\n",
        "    l = []\n",
        "    total = []\n",
        "    while n != 0:\n",
        "        for i in range(1,3):\n",
        "            steps += i\n",
        "            n = n - steps\n",
        "            l.append(f'number stepped:{i}')\n",
        "            l.append(f'total steps taken:{steps}')\n",
        "    total.append(l)\n",
        "    return total\n",
        "\n",
        "        \n",
        "n = 4\n",
        "climbStairs(n)"
      ],
      "execution_count": 16,
      "outputs": [
        {
          "output_type": "execute_result",
          "data": {
            "text/plain": [
              "[['number stepped:1',\n",
              "  'total steps taken:1',\n",
              "  'number stepped:2',\n",
              "  'total steps taken:3']]"
            ]
          },
          "metadata": {
            "tags": []
          },
          "execution_count": 16
        }
      ]
    },
    {
      "cell_type": "code",
      "metadata": {
        "id": "PHbJaFv2IvYm",
        "colab_type": "code",
        "colab": {
          "base_uri": "https://localhost:8080/",
          "height": 51
        },
        "outputId": "2c19ce41-eca3-4e19-ec61-df3060655cd0"
      },
      "source": [
        "for i in range(1,3):\n",
        "    print(i)"
      ],
      "execution_count": 6,
      "outputs": [
        {
          "output_type": "stream",
          "text": [
            "1\n",
            "2\n"
          ],
          "name": "stdout"
        }
      ]
    },
    {
      "cell_type": "code",
      "metadata": {
        "id": "Ge-5JSllJPay",
        "colab_type": "code",
        "colab": {
          "base_uri": "https://localhost:8080/",
          "height": 138
        },
        "outputId": "b0412b39-6413-4841-8b2d-fbeaea3c0981"
      },
      "source": [
        "import math\n",
        "def climbStairs(n):\n",
        "    \"\"\"\n",
        "    :type n: int\n",
        "    :rtype: int\n",
        "    \"\"\"\n",
        "    methods = 0\n",
        "    remainder = n%2\n",
        "    l = []\n",
        "    if remainder != 0:\n",
        "        dividedbytwo = math.floor(n/2)\n",
        "        for i in range(1, dividedbytwo+1):\n",
        "            two_steps = i * 2\n",
        "            one_step = n - two_steps\n",
        "            methods += 1\n",
        "            l.append(f'2 steps taken {i} times and then 1 step taken {one_step} times')\n",
        "        for i in range(1, n):\n",
        "            one_step = n - i\n",
        "            two_step = math.floor(one_step/2)\n",
        "            if two_step%2 != 0:\n",
        "                remainder = two_step%2\n",
        "            methods += 1\n",
        "            l.append(f'1 steps taken {i} times and then 2 steps taken {two_step} times, 1 steps then taken {remainder} times')\n",
        "    else:\n",
        "        methods += 1\n",
        "        two_steps_taken = int(n/2)\n",
        "        l.append(f'2 steps taken {two_steps_taken} times')\n",
        "    l.append('1 steps taken {} times'.format(n))\n",
        "    return l\n",
        "\n",
        "        \n",
        "n = 5\n",
        "climbStairs(n)"
      ],
      "execution_count": 29,
      "outputs": [
        {
          "output_type": "execute_result",
          "data": {
            "text/plain": [
              "['2 steps taken 1 times and then 1 step taken 3 times',\n",
              " '2 steps taken 2 times and then 1 step taken 1 times',\n",
              " '1 steps taken 1 times and then 2 steps taken 2 times, 1 steps then taken 1 times',\n",
              " '1 steps taken 2 times and then 2 steps taken 1 times, 1 steps then taken 1 times',\n",
              " '1 steps taken 3 times and then 2 steps taken 1 times, 1 steps then taken 1 times',\n",
              " '1 steps taken 4 times and then 2 steps taken 0 times, 1 steps then taken 1 times',\n",
              " '1 steps taken 5 times']"
            ]
          },
          "metadata": {
            "tags": []
          },
          "execution_count": 29
        }
      ]
    },
    {
      "cell_type": "code",
      "metadata": {
        "id": "z2m2BJZBOp4-",
        "colab_type": "code",
        "colab": {
          "base_uri": "https://localhost:8080/",
          "height": 155
        },
        "outputId": "3926624e-3c4e-4fb8-d06b-4c52aa280167"
      },
      "source": [
        "def climbStairs(n):\n",
        "    \"\"\"\n",
        "    :type n: int\n",
        "    :rtype: int\n",
        "    \"\"\"\n",
        "    remainder = n%2\n",
        "    l = []\n",
        "    if n == 1:\n",
        "        return 1\n",
        "    if n == 2:\n",
        "        return 2\n",
        "    elif remainder != 0:\n",
        "        dividedbytwo = int(math.floor(n/2))\n",
        "        for i in range(1, dividedbytwo+1):\n",
        "            two_steps = i * 2\n",
        "            one_step = n - two_steps\n",
        "            if one_step/2 > 1:\n",
        "                num_two_steps = int(math.floor(one_step/2))\n",
        "                for j in range(0, num_two_steps+1):\n",
        "                    dividedbytwoagain = j * 2\n",
        "                    one_step_again = one_step - dividedbytwoagain\n",
        "                    l.append('2 steps taken {} times and then 1 step taken {} times, 2 steps then taken {} times, then 1 step taken again {} times'.format(i, one_step, j, one_step_again))\n",
        "            else:\n",
        "                l.append('2 steps taken {} times and then 1 step taken {} times'.format(i, one_step))\n",
        "        for i in range(1, n):\n",
        "            incremental = i\n",
        "            one_step = n - incremental\n",
        "            two_step = int(math.floor(one_step/2))\n",
        "            if two_step%2 != 0:\n",
        "                remainder = two_step%2\n",
        "            if incremental:\n",
        "                l.append('1 steps taken {} times and then 2 steps taken {} times, 1 steps then taken {} times'.format(incremental, two_step, remainder))\n",
        "    else:\n",
        "        two_steps_taken = int(n/2)\n",
        "        l.append('2 steps taken {} times'.format(two_steps_taken))\n",
        "        for i in range(1, n):\n",
        "            incremental = i\n",
        "            one_step = n - incremental\n",
        "            two_step = int(math.floor(one_step/2))\n",
        "            if two_step%2 != 0:\n",
        "                remainder = two_step%2\n",
        "            if incremental:\n",
        "                l.append('1 steps taken {} times and then 2 steps taken {} times, 1 steps then taken {} times'.format(incremental, two_step, remainder))\n",
        "    l.append('1 steps taken {} times'.format(n))\n",
        "    return l\n",
        "n = 5\n",
        "climbStairs(n)"
      ],
      "execution_count": 46,
      "outputs": [
        {
          "output_type": "execute_result",
          "data": {
            "text/plain": [
              "['2 steps taken 1 times and then 1 step taken 3 times, 2 steps then taken 0 times, then 1 step taken again 3 times',\n",
              " '2 steps taken 1 times and then 1 step taken 3 times, 2 steps then taken 1 times, then 1 step taken again 1 times',\n",
              " '2 steps taken 2 times and then 1 step taken 1 times',\n",
              " '1 steps taken 1 times and then 2 steps taken 2 times, 1 steps then taken 1 times',\n",
              " '1 steps taken 2 times and then 2 steps taken 1 times, 1 steps then taken 1 times',\n",
              " '1 steps taken 3 times and then 2 steps taken 1 times, 1 steps then taken 1 times',\n",
              " '1 steps taken 4 times and then 2 steps taken 0 times, 1 steps then taken 1 times',\n",
              " '1 steps taken 5 times']"
            ]
          },
          "metadata": {
            "tags": []
          },
          "execution_count": 46
        }
      ]
    },
    {
      "cell_type": "code",
      "metadata": {
        "id": "jZFzMqr2Tw2E",
        "colab_type": "code",
        "colab": {}
      },
      "source": [
        ""
      ],
      "execution_count": null,
      "outputs": []
    }
  ]
}