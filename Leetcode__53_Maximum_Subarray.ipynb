{
  "nbformat": 4,
  "nbformat_minor": 0,
  "metadata": {
    "colab": {
      "name": "Leetcode_#53_Maximum_Subarray.ipynb",
      "provenance": [],
      "authorship_tag": "ABX9TyP3Is/MDrnrcan4kp+GNqN6",
      "include_colab_link": true
    },
    "kernelspec": {
      "name": "python3",
      "display_name": "Python 3"
    }
  },
  "cells": [
    {
      "cell_type": "markdown",
      "metadata": {
        "id": "view-in-github",
        "colab_type": "text"
      },
      "source": [
        "<a href=\"https://colab.research.google.com/github/LilySu/Python_Practice/blob/master/Leetcode__53_Maximum_Subarray.ipynb\" target=\"_parent\"><img src=\"https://colab.research.google.com/assets/colab-badge.svg\" alt=\"Open In Colab\"/></a>"
      ]
    },
    {
      "cell_type": "markdown",
      "metadata": {
        "id": "npzrzlEx4V5o",
        "colab_type": "text"
      },
      "source": [
        "Given an integer array nums, find the contiguous subarray (containing at least one number) which has the largest sum and return its sum.\n",
        "```\n",
        "Example:\n",
        "\n",
        "Input: [-2,1,-3,4,-1,2,1,-5,4],\n",
        "Output: 6\n",
        "Explanation: [4,-1,2,1] has the largest sum = 6.\n",
        "```\n",
        "Follow up:\n",
        "\n",
        "If you have figured out the O(n) solution, try coding another solution using the divide and conquer approach, which is more subtle."
      ]
    },
    {
      "cell_type": "code",
      "metadata": {
        "id": "sHN6ugn14M7C",
        "colab_type": "code",
        "colab": {}
      },
      "source": [
        "class Solution(object):\n",
        "    def maxSubArray(self, nums):\n",
        "        \"\"\"\n",
        "        :type nums: List[int]\n",
        "        :rtype: int\n",
        "        \"\"\"\n",
        "        "
      ],
      "execution_count": null,
      "outputs": []
    },
    {
      "cell_type": "markdown",
      "metadata": {
        "id": "oGkVcBdS5wau",
        "colab_type": "text"
      },
      "source": [
        "from 1 to total length of list,\n",
        "iterate through each item, adding itself through the list\n",
        "iterate through each item adding itself and the next item through the list\n",
        "iterate through each item adding iteself, the next and th next through the list. "
      ]
    },
    {
      "cell_type": "code",
      "metadata": {
        "id": "cNssOtzy6ljn",
        "colab_type": "code",
        "colab": {
          "base_uri": "https://localhost:8080/",
          "height": 1000
        },
        "outputId": "c54e30c8-fb2d-4849-85a8-f5e4ee65f869"
      },
      "source": [
        "def maxSubArray(nums):\n",
        "    maxl = []\n",
        "    total = len(nums)\n",
        "    start = 1\n",
        "    sum = 0\n",
        "    while start < total:\n",
        "        for i in range(len(nums)-start):\n",
        "            index = i \n",
        "            maxl.append(i)\n",
        "    \n",
        "            if index != start:\n",
        "                index += 1\n",
        "                sum += nums[index]\n",
        "        maxl.append(f'sum: {str(sum)}')\n",
        "        maxl.append(f'start:{start}')\n",
        "        maxl.append(f'number added up {len(nums) - start}')\n",
        "        start += 1\n",
        "    return maxl\n",
        "\n",
        "nums = [-2,1,-3,4,-1,2,1,-5,4]\n",
        "maxSubArray(nums)"
      ],
      "execution_count": 18,
      "outputs": [
        {
          "output_type": "execute_result",
          "data": {
            "text/plain": [
              "[0,\n",
              " 1,\n",
              " 2,\n",
              " 3,\n",
              " 4,\n",
              " 5,\n",
              " 6,\n",
              " 7,\n",
              " 'sum: 6',\n",
              " 'start:1',\n",
              " 'number added up 8',\n",
              " 0,\n",
              " 1,\n",
              " 2,\n",
              " 3,\n",
              " 4,\n",
              " 5,\n",
              " 6,\n",
              " 'sum: 1',\n",
              " 'start:2',\n",
              " 'number added up 7',\n",
              " 0,\n",
              " 1,\n",
              " 2,\n",
              " 3,\n",
              " 4,\n",
              " 5,\n",
              " 'sum: 6',\n",
              " 'start:3',\n",
              " 'number added up 6',\n",
              " 0,\n",
              " 1,\n",
              " 2,\n",
              " 3,\n",
              " 4,\n",
              " 'sum: 7',\n",
              " 'start:4',\n",
              " 'number added up 5',\n",
              " 0,\n",
              " 1,\n",
              " 2,\n",
              " 3,\n",
              " 'sum: 8',\n",
              " 'start:5',\n",
              " 'number added up 4',\n",
              " 0,\n",
              " 1,\n",
              " 2,\n",
              " 'sum: 10',\n",
              " 'start:6',\n",
              " 'number added up 3',\n",
              " 0,\n",
              " 1,\n",
              " 'sum: 8',\n",
              " 'start:7',\n",
              " 'number added up 2',\n",
              " 0,\n",
              " 'sum: 9',\n",
              " 'start:8',\n",
              " 'number added up 1']"
            ]
          },
          "metadata": {
            "tags": []
          },
          "execution_count": 18
        }
      ]
    },
    {
      "cell_type": "code",
      "metadata": {
        "id": "bfYqg0RBn02t",
        "colab_type": "code",
        "colab": {
          "base_uri": "https://localhost:8080/",
          "height": 919
        },
        "outputId": "a17908ed-a3da-4088-e37e-7983fefd3617"
      },
      "source": [
        "def maxSubArray(nums):\n",
        "    maxl = []\n",
        "    total = len(nums)\n",
        "    start = 1\n",
        "    sum = []\n",
        "    addup = 0\n",
        "    while start < total:\n",
        "        maxl.append(f'start:{start}')\n",
        "        for count_in_start in range(start):\n",
        "            maxl.append(f'count_in_start:{count_in_start}')\n",
        "            new_list = []\n",
        "            for index in range(len(nums)-count_in_start):\n",
        "                counter = 0\n",
        "                while counter <= count_in_start:\n",
        "                    addup += nums[index+counter]\n",
        "                    counter += 1\n",
        "                new_list.append(addup)\n",
        "            # sum.append(new_list)\n",
        "            maximum = max(new_list)\n",
        "        maxl.append(maximum)\n",
        "        start += 1\n",
        "    return maxl\n",
        "\n",
        "nums = [-2,1,-3,4,-1,2,1,-5,4]\n",
        "maxSubArray(nums)"
      ],
      "execution_count": 25,
      "outputs": [
        {
          "output_type": "execute_result",
          "data": {
            "text/plain": [
              "['start:1',\n",
              " 'count_in_start:0',\n",
              " 2,\n",
              " 'start:2',\n",
              " 'count_in_start:0',\n",
              " 'count_in_start:1',\n",
              " 7,\n",
              " 'start:3',\n",
              " 'count_in_start:0',\n",
              " 'count_in_start:1',\n",
              " 'count_in_start:2',\n",
              " 8,\n",
              " 'start:4',\n",
              " 'count_in_start:0',\n",
              " 'count_in_start:1',\n",
              " 'count_in_start:2',\n",
              " 'count_in_start:3',\n",
              " 19,\n",
              " 'start:5',\n",
              " 'count_in_start:0',\n",
              " 'count_in_start:1',\n",
              " 'count_in_start:2',\n",
              " 'count_in_start:3',\n",
              " 'count_in_start:4',\n",
              " 37,\n",
              " 'start:6',\n",
              " 'count_in_start:0',\n",
              " 'count_in_start:1',\n",
              " 'count_in_start:2',\n",
              " 'count_in_start:3',\n",
              " 'count_in_start:4',\n",
              " 'count_in_start:5',\n",
              " 64,\n",
              " 'start:7',\n",
              " 'count_in_start:0',\n",
              " 'count_in_start:1',\n",
              " 'count_in_start:2',\n",
              " 'count_in_start:3',\n",
              " 'count_in_start:4',\n",
              " 'count_in_start:5',\n",
              " 'count_in_start:6',\n",
              " 94,\n",
              " 'start:8',\n",
              " 'count_in_start:0',\n",
              " 'count_in_start:1',\n",
              " 'count_in_start:2',\n",
              " 'count_in_start:3',\n",
              " 'count_in_start:4',\n",
              " 'count_in_start:5',\n",
              " 'count_in_start:6',\n",
              " 'count_in_start:7',\n",
              " 124]"
            ]
          },
          "metadata": {
            "tags": []
          },
          "execution_count": 25
        }
      ]
    },
    {
      "cell_type": "code",
      "metadata": {
        "id": "_XekmvNvDhXq",
        "colab_type": "code",
        "colab": {
          "base_uri": "https://localhost:8080/",
          "height": 34
        },
        "outputId": "f4aed969-763a-4019-8411-facf06887a04"
      },
      "source": [
        "nums = [-2,1,-3,4,-1,2,1,-5,4]\n",
        "max(nums)"
      ],
      "execution_count": 19,
      "outputs": [
        {
          "output_type": "execute_result",
          "data": {
            "text/plain": [
              "4"
            ]
          },
          "metadata": {
            "tags": []
          },
          "execution_count": 19
        }
      ]
    },
    {
      "cell_type": "code",
      "metadata": {
        "id": "m0-hfhdQlLUo",
        "colab_type": "code",
        "colab": {
          "base_uri": "https://localhost:8080/",
          "height": 34
        },
        "outputId": "bd840e98-71f1-40bd-c32a-afe33fe7404c"
      },
      "source": [
        "sum([])"
      ],
      "execution_count": 15,
      "outputs": [
        {
          "output_type": "execute_result",
          "data": {
            "text/plain": [
              "0"
            ]
          },
          "metadata": {
            "tags": []
          },
          "execution_count": 15
        }
      ]
    },
    {
      "cell_type": "code",
      "metadata": {
        "id": "kmgX8VxKnkee",
        "colab_type": "code",
        "colab": {
          "base_uri": "https://localhost:8080/",
          "height": 86
        },
        "outputId": "b6b980b7-1849-4968-925c-edf4bc3f75ec"
      },
      "source": [
        "counter = 0\n",
        "while counter <= 3:\n",
        "    print(counter)\n",
        "    counter += 1"
      ],
      "execution_count": 11,
      "outputs": [
        {
          "output_type": "stream",
          "text": [
            "0\n",
            "1\n",
            "2\n",
            "3\n"
          ],
          "name": "stdout"
        }
      ]
    },
    {
      "cell_type": "code",
      "metadata": {
        "id": "lXWv5La4t9le",
        "colab_type": "code",
        "colab": {}
      },
      "source": [
        ""
      ],
      "execution_count": null,
      "outputs": []
    }
  ]
}