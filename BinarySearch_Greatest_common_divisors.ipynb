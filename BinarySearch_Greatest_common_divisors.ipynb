{
  "nbformat": 4,
  "nbformat_minor": 0,
  "metadata": {
    "colab": {
      "name": "BinarySearch_Greatest common divisors.ipynb",
      "provenance": [],
      "collapsed_sections": [],
      "authorship_tag": "ABX9TyNf+D99LNdwJTnkape0pJx2",
      "include_colab_link": true
    },
    "kernelspec": {
      "name": "python3",
      "display_name": "Python 3"
    }
  },
  "cells": [
    {
      "cell_type": "markdown",
      "metadata": {
        "id": "view-in-github",
        "colab_type": "text"
      },
      "source": [
        "<a href=\"https://colab.research.google.com/github/LilySu/Python_Practice/blob/master/BinarySearch_Greatest_common_divisors.ipynb\" target=\"_parent\"><img src=\"https://colab.research.google.com/assets/colab-badge.svg\" alt=\"Open In Colab\"/></a>"
      ]
    },
    {
      "cell_type": "markdown",
      "metadata": {
        "id": "PmZ4tGOn9ky6"
      },
      "source": [
        "Given a list of positive integers nums, return the largest positive integer that divides each of the integers.\n",
        "```\n",
        "Example 1\n",
        "Input\n",
        "\n",
        "nums = [6, 12, 9]\n",
        "Output\n",
        "\n",
        "3\n",
        "Explanation\n",
        "\n",
        "3 is the largest integer that divides into 6, 12, and 9.\n",
        "\n",
        "Example 2\n",
        "Input\n",
        "\n",
        "nums = [6, 7, 9]\n",
        "Output\n",
        "\n",
        "1\n",
        "Explanation\n",
        "\n",
        "7 is a prime number so only 1 divides into it.\n",
        "```"
      ]
    },
    {
      "cell_type": "code",
      "metadata": {
        "id": "fHtMycq99WiA"
      },
      "source": [
        "class Solution:\n",
        "    def solve(self, nums):\n",
        "        smallest = min(nums)\n",
        "        divisor = []\n",
        "        for i in reversed(range(1, smallest)):\n",
        "            if smallest % i == 0:\n",
        "                divisor.append(i)\n",
        "        if len(nums) == 0:\n",
        "            return None\n",
        "        num_without_smallest = nums.remove(smallest)\n",
        "        if not num_without_smallest:\n",
        "            return None\n",
        "        for num in num_without_smallest:\n",
        "            for div in divisor:\n",
        "                if num % divisor == 0:\n",
        "                    return divisor\n",
        "        if len(divisor) == 0:\n",
        "            return 1"
      ],
      "execution_count": null,
      "outputs": []
    },
    {
      "cell_type": "code",
      "metadata": {
        "id": "PhZMQ0q5GvTJ"
      },
      "source": [
        "result = all([n for n in nums for div in divisor if n % div == 0])"
      ],
      "execution_count": null,
      "outputs": []
    },
    {
      "cell_type": "code",
      "metadata": {
        "id": "HnMJCg9IGeoS"
      },
      "source": [
        "        for n in nums\n",
        "            result = all([n for div in divisor if n % div == 0])\n",
        "            if result == True:\n",
        "                print(n)"
      ],
      "execution_count": null,
      "outputs": []
    },
    {
      "cell_type": "code",
      "metadata": {
        "id": "gEE71iQBGilj"
      },
      "source": [
        "class Solution:\n",
        "    def solve(self, nums):\n",
        "        if len(nums) == 0:#\n",
        "            return None#\n",
        "        if len(nums) == 1:\n",
        "            return nums[0]\n",
        "        if len(list(dict.fromkeys(nums))) == 1:\n",
        "            return nums[0]\n",
        "            \n",
        "        smallest = min(nums)\n",
        "        divisor = []\n",
        "        for i in reversed(range(1, smallest + 1)):\n",
        "            if smallest % i == 0:\n",
        "                divisor.append(i)\n",
        "        # print(divisor)\n",
        "        \n",
        "        notdivisible= []\n",
        "        for num in nums:\n",
        "            for div in divisor:\n",
        "                if num % div != 0:\n",
        "                    notdivisible.append(div) \n",
        "        r = [x for x in divisor if x not in notdivisible]\n",
        "\n",
        "        return max(r)"
      ],
      "execution_count": null,
      "outputs": []
    },
    {
      "cell_type": "code",
      "metadata": {
        "id": "thbN8pplGl0J"
      },
      "source": [
        "import math\n",
        "\n",
        "class Solution:\n",
        "    def solve(self, nums):\n",
        "        ans = nums[0]\n",
        "        for x in nums:\n",
        "            ans = math.gcd(ans, x)\n",
        "        return ans"
      ],
      "execution_count": null,
      "outputs": []
    }
  ]
}