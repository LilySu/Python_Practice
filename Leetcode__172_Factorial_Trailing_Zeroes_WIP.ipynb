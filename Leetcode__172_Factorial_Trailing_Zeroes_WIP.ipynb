{
  "nbformat": 4,
  "nbformat_minor": 0,
  "metadata": {
    "colab": {
      "name": "Leetcode_#172_Factorial_Trailing_Zeroes_WIP.ipynb",
      "provenance": [],
      "authorship_tag": "ABX9TyM20b5ZkBhGfPNbkNuEWVLt",
      "include_colab_link": true
    },
    "kernelspec": {
      "name": "python3",
      "display_name": "Python 3"
    }
  },
  "cells": [
    {
      "cell_type": "markdown",
      "metadata": {
        "id": "view-in-github",
        "colab_type": "text"
      },
      "source": [
        "<a href=\"https://colab.research.google.com/github/LilySu/Python_Practice/blob/master/Leetcode__172_Factorial_Trailing_Zeroes_WIP.ipynb\" target=\"_parent\"><img src=\"https://colab.research.google.com/assets/colab-badge.svg\" alt=\"Open In Colab\"/></a>"
      ]
    },
    {
      "cell_type": "markdown",
      "metadata": {
        "id": "j0BZw431cpKn",
        "colab_type": "text"
      },
      "source": [
        "Given an integer n, return the number of trailing zeroes in n!.\n",
        "```\n",
        "Example 1:\n",
        "\n",
        "Input: 3\n",
        "Output: 0\n",
        "Explanation: 3! = 6, no trailing zero.\n",
        "Example 2:\n",
        "\n",
        "Input: 5\n",
        "Output: 1\n",
        "Explanation: 5! = 120, one trailing zero.\n",
        "```\n",
        "Note: Your solution should be in logarithmic time complexity."
      ]
    },
    {
      "cell_type": "code",
      "metadata": {
        "id": "wZVb-Q1Vchfk",
        "colab_type": "code",
        "colab": {
          "base_uri": "https://localhost:8080/",
          "height": 34
        },
        "outputId": "db106fcf-caad-4670-f84b-dd6ab70db3bd"
      },
      "source": [
        "input = 1808548329\n",
        "product = 1\n",
        "zeros = 0\n",
        "if input == 0:\n",
        "    product = 0\n",
        "if input > 0:\n",
        "    for i in range(1, input+1):\n",
        "        product = i * product\n",
        "    for index, value in enumerate(reversed(str(product))):\n",
        "        if value == '0':\n",
        "            zeros += 1\n",
        "        else: \n",
        "            pass\n",
        "zeros"
      ],
      "execution_count": 19,
      "outputs": [
        {
          "output_type": "execute_result",
          "data": {
            "text/plain": [
              "2"
            ]
          },
          "metadata": {
            "tags": []
          },
          "execution_count": 19
        }
      ]
    },
    {
      "cell_type": "code",
      "metadata": {
        "id": "6MO8OKApjC_Y",
        "colab_type": "code",
        "colab": {
          "base_uri": "https://localhost:8080/",
          "height": 89
        },
        "outputId": "15d229f9-ae2f-4ca3-92a6-1dfe5f9e907c"
      },
      "source": [
        "%%time\n",
        "n = 100\n",
        "num = 1\n",
        "product = {}\n",
        "zeros = 0\n",
        "if n == 0:\n",
        "    product = 0\n",
        "if n > 0:\n",
        "    for i in range(1, n+1):\n",
        "        num = i * num\n",
        "        product[i] = num\n",
        "# print(product.popitem())\n",
        "# print(sorted(product.keys())[-1])\n",
        "# print(list(product)[-1])\n",
        "print(product[list(product)[-1]])"
      ],
      "execution_count": 41,
      "outputs": [
        {
          "output_type": "stream",
          "text": [
            "93326215443944152681699238856266700490715968264381621468592963895217599993229915608941463976156518286253697920827223758251185210916864000000000000000000000000\n",
            "CPU times: user 109 µs, sys: 3 µs, total: 112 µs\n",
            "Wall time: 116 µs\n"
          ],
          "name": "stdout"
        }
      ]
    },
    {
      "cell_type": "code",
      "metadata": {
        "id": "TWiDhC8thPnX",
        "colab_type": "code",
        "colab": {
          "base_uri": "https://localhost:8080/",
          "height": 34
        },
        "outputId": "c4293537-01fa-4df3-f7fb-b828a4b9a780"
      },
      "source": [
        "def trailingZeroes(n):\n",
        "    \"\"\"\n",
        "    :type n: int\n",
        "    :rtype: int\n",
        "    \"\"\"\n",
        "    num = 1\n",
        "    product = {}\n",
        "    zeros = 0\n",
        "    if n == 0:\n",
        "        product = 0\n",
        "        return 0\n",
        "    if n > 0:\n",
        "        for i in range(1, n+1):\n",
        "            num = i * num\n",
        "            product[i] = num\n",
        "\n",
        "        for letter in reversed(str(product[list(product)[-1]])):\n",
        "            if letter == '0':\n",
        "                zeros += 1\n",
        "            else: \n",
        "                return zeros\n",
        "        return zeros\n",
        "\n",
        "# n = 1808548329\n",
        "n = 100\n",
        "trailingZeroes(n)"
      ],
      "execution_count": 2,
      "outputs": [
        {
          "output_type": "execute_result",
          "data": {
            "text/plain": [
              "24"
            ]
          },
          "metadata": {
            "tags": []
          },
          "execution_count": 2
        }
      ]
    },
    {
      "cell_type": "code",
      "metadata": {
        "id": "OgoOaXs8eLU3",
        "colab_type": "code",
        "colab": {
          "base_uri": "https://localhost:8080/",
          "height": 103
        },
        "outputId": "83bb2d34-a45b-42e4-ed3a-30d19ffb9e41"
      },
      "source": [
        "for i in range(1, input+1):\n",
        "    print(i)"
      ],
      "execution_count": 6,
      "outputs": [
        {
          "output_type": "stream",
          "text": [
            "1\n",
            "2\n",
            "3\n",
            "4\n",
            "5\n"
          ],
          "name": "stdout"
        }
      ]
    },
    {
      "cell_type": "code",
      "metadata": {
        "id": "tLdTivNCedX0",
        "colab_type": "code",
        "colab": {}
      },
      "source": [
        "for index, value in enumerate(reversed(str(result))):\n",
        "    if value == 0:\n",
        "        print(True)"
      ],
      "execution_count": 16,
      "outputs": []
    },
    {
      "cell_type": "code",
      "metadata": {
        "id": "xCV_64_JfJDm",
        "colab_type": "code",
        "colab": {}
      },
      "source": [
        "# Solution\n",
        "\n",
        "        \n",
        "result = 0\n",
        "if n == 0:\n",
        "    return result\n",
        "\n",
        "power_5 = 5\n",
        "while power_5 <= n:\n",
        "    result += int(n / power_5)\n",
        "    power_5 = power_5 * 5\n",
        "\n",
        "return result"
      ],
      "execution_count": null,
      "outputs": []
    }
  ]
}