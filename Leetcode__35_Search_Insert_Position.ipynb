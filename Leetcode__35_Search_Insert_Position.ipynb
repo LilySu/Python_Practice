{
  "nbformat": 4,
  "nbformat_minor": 0,
  "metadata": {
    "colab": {
      "name": "Leetcode_#35_Search_Insert_Position.ipynb",
      "provenance": [],
      "authorship_tag": "ABX9TyP5eLeoiby9Nhm/+bJvs17K",
      "include_colab_link": true
    },
    "kernelspec": {
      "name": "python3",
      "display_name": "Python 3"
    }
  },
  "cells": [
    {
      "cell_type": "markdown",
      "metadata": {
        "id": "view-in-github",
        "colab_type": "text"
      },
      "source": [
        "<a href=\"https://colab.research.google.com/github/LilySu/Python_Practice/blob/master/Leetcode__35_Search_Insert_Position.ipynb\" target=\"_parent\"><img src=\"https://colab.research.google.com/assets/colab-badge.svg\" alt=\"Open In Colab\"/></a>"
      ]
    },
    {
      "cell_type": "markdown",
      "metadata": {
        "id": "3w1UD_ujfbjI",
        "colab_type": "text"
      },
      "source": [
        "Given a sorted array and a target value, return the index if the target is found. If not, return the index where it would be if it were inserted in order.\n",
        "\n",
        "You may assume no duplicates in the array.\n",
        "```\n",
        "Example 1:\n",
        "\n",
        "Input: [1,3,5,6], 5\n",
        "Output: 2\n",
        "Example 2:\n",
        "\n",
        "Input: [1,3,5,6], 2\n",
        "Output: 1\n",
        "Example 3:\n",
        "\n",
        "Input: [1,3,5,6], 7\n",
        "Output: 4\n",
        "Example 4:\n",
        "\n",
        "Input: [1,3,5,6], 0\n",
        "Output: 0\n",
        "```"
      ]
    },
    {
      "cell_type": "code",
      "metadata": {
        "id": "tm_bRjIWfExL",
        "colab_type": "code",
        "colab": {}
      },
      "source": [
        "class Solution(object):\n",
        "    def searchInsert(self, nums, target):\n",
        "        \"\"\"\n",
        "        :type nums: List[int]\n",
        "        :type target: int\n",
        "        :rtype: int\n",
        "        \"\"\""
      ],
      "execution_count": null,
      "outputs": []
    },
    {
      "cell_type": "code",
      "metadata": {
        "id": "4akQ_xFDjDgz",
        "colab_type": "code",
        "colab": {}
      },
      "source": [
        "class Solution(object):\n",
        "    def searchInsert(self, nums, target):\n",
        "        \"\"\"\n",
        "        :type nums: List[int]\n",
        "        :type target: int\n",
        "        :rtype: int\n",
        "        \"\"\"\n",
        "        if target in nums:\n",
        "            return nums.index(target)\n",
        "        else:\n",
        "            if target > nums[-1]:\n",
        "                return len(nums)\n",
        "            if target < nums[0]:\n",
        "                return 0\n",
        "            for i,j in enumerate(nums):\n",
        "                if i < len(nums)-1:\n",
        "                    if target > j and target < nums[i+1]:\n",
        "                        return (nums.index(j))+1\n"
      ],
      "execution_count": null,
      "outputs": []
    }
  ]
}