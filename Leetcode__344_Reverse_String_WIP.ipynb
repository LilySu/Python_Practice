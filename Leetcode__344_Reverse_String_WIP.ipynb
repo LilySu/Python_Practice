{
  "nbformat": 4,
  "nbformat_minor": 0,
  "metadata": {
    "colab": {
      "name": "Leetcode_#344_Reverse_String.ipynb",
      "provenance": [],
      "authorship_tag": "ABX9TyNQttm4FMRYqeUUmKTBgjLp",
      "include_colab_link": true
    },
    "kernelspec": {
      "name": "python3",
      "display_name": "Python 3"
    }
  },
  "cells": [
    {
      "cell_type": "markdown",
      "metadata": {
        "id": "view-in-github",
        "colab_type": "text"
      },
      "source": [
        "<a href=\"https://colab.research.google.com/github/LilySu/Python_Practice/blob/master/Leetcode__344_Reverse_String_WIP.ipynb\" target=\"_parent\"><img src=\"https://colab.research.google.com/assets/colab-badge.svg\" alt=\"Open In Colab\"/></a>"
      ]
    },
    {
      "cell_type": "markdown",
      "metadata": {
        "id": "zeOMz698djhk",
        "colab_type": "text"
      },
      "source": [
        "Write a function that reverses a string. The input string is given as an array of characters char[].\n",
        "\n",
        "Do not allocate extra space for another array, you must do this by modifying the input array in-place with O(1) extra memory.\n",
        "\n",
        "You may assume all the characters consist of printable ascii characters.\n",
        "```\n",
        "Example 1:\n",
        "\n",
        "Input: [\"h\",\"e\",\"l\",\"l\",\"o\"]\n",
        "Output: [\"o\",\"l\",\"l\",\"e\",\"h\"]\n",
        "Example 2:\n",
        "\n",
        "Input: [\"H\",\"a\",\"n\",\"n\",\"a\",\"h\"]\n",
        "Output: [\"h\",\"a\",\"n\",\"n\",\"a\",\"H\"]\n",
        "```"
      ]
    },
    {
      "cell_type": "code",
      "metadata": {
        "id": "1fih_ARAdb1R",
        "colab_type": "code",
        "colab": {}
      },
      "source": [
        "class Solution(object):\n",
        "    def reverseString(self, s):\n",
        "        \"\"\"\n",
        "        :type s: List[str]\n",
        "        :rtype: None Do not return anything, modify s in-place instead.\n",
        "        \"\"\"\n",
        "        "
      ],
      "execution_count": null,
      "outputs": []
    },
    {
      "cell_type": "markdown",
      "metadata": {
        "id": "yKB5ROl9k1g3",
        "colab_type": "text"
      },
      "source": [
        "an in-place algorithm is an algorithm which transforms input using no auxiliary data structure."
      ]
    },
    {
      "cell_type": "code",
      "metadata": {
        "id": "vS9pQAuZjLXY",
        "colab_type": "code",
        "colab": {
          "base_uri": "https://localhost:8080/",
          "height": 34
        },
        "outputId": "480f0f63-1c23-4201-a8e8-31defd034488"
      },
      "source": [
        "s = [\"H\",\"a\",\"n\",\"n\",\"a\",\"h\"]\n",
        "\n",
        "# recursive function without any auxiliary data structures.\n",
        "\n",
        "def reverseString(s):\n",
        "\n",
        "    def recurse(left, right):\n",
        "        if left < right:\n",
        "            s[left], s[right] = s[right], s[left]\n",
        "            recurse(left + 1, right - 1)\n",
        "    left = 0\n",
        "    right = len(s) - 1\n",
        "    recurse(left, right)\n",
        "\n",
        "print(reverseString(s))\n",
        "\n",
        "# Time complexity : \\mathcal{O}(N)O(N) time to perform N/2N/2 swaps.\n",
        "\n",
        "# Space complexity : \\mathcal{O}(N)O(N) to keep the recursion stack."
      ],
      "execution_count": 3,
      "outputs": [
        {
          "output_type": "stream",
          "text": [
            "['h', 'a', 'n', 'n', 'a', 'H']\n"
          ],
          "name": "stdout"
        }
      ]
    },
    {
      "cell_type": "code",
      "metadata": {
        "id": "foZsGdXHkYfu",
        "colab_type": "code",
        "colab": {}
      },
      "source": [
        ""
      ],
      "execution_count": null,
      "outputs": []
    }
  ]
}