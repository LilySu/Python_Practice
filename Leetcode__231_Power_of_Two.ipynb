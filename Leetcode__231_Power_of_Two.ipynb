{
  "nbformat": 4,
  "nbformat_minor": 0,
  "metadata": {
    "colab": {
      "name": "Leetcode_#231_Power_of_Two.ipynb",
      "provenance": [],
      "authorship_tag": "ABX9TyM+xjC1Ps5J4foWCUWVpeDT",
      "include_colab_link": true
    },
    "kernelspec": {
      "name": "python3",
      "display_name": "Python 3"
    }
  },
  "cells": [
    {
      "cell_type": "markdown",
      "metadata": {
        "id": "view-in-github",
        "colab_type": "text"
      },
      "source": [
        "<a href=\"https://colab.research.google.com/github/LilySu/Python_Practice/blob/master/Leetcode__231_Power_of_Two.ipynb\" target=\"_parent\"><img src=\"https://colab.research.google.com/assets/colab-badge.svg\" alt=\"Open In Colab\"/></a>"
      ]
    },
    {
      "cell_type": "markdown",
      "metadata": {
        "id": "eTUvRC7N2W-T",
        "colab_type": "text"
      },
      "source": [
        "Given an integer, write a function to determine if it is a power of two.\n",
        "\n",
        "Example 1:\n",
        "```\n",
        "Input: 1\n",
        "Output: true \n",
        "Explanation: 20 = 1\n",
        "Example 2:\n",
        "\n",
        "Input: 16\n",
        "Output: true\n",
        "Explanation: 24 = 16\n",
        "Example 3:\n",
        "\n",
        "Input: 218\n",
        "Output: false\n",
        "```"
      ]
    },
    {
      "cell_type": "code",
      "metadata": {
        "id": "GthLlWli2Ph4",
        "colab_type": "code",
        "colab": {}
      },
      "source": [
        "class Solution(object):\n",
        "    def isPowerOfTwo(self, n):\n",
        "        \"\"\"\n",
        "        :type n: int\n",
        "        :rtype: bool\n",
        "        \"\"\"\n",
        "        "
      ],
      "execution_count": null,
      "outputs": []
    },
    {
      "cell_type": "code",
      "metadata": {
        "id": "1EfzznmG2kY0",
        "colab_type": "code",
        "colab": {
          "base_uri": "https://localhost:8080/",
          "height": 34
        },
        "outputId": "dca9d0bf-dfab-4511-86d5-410af6a1770d"
      },
      "source": [
        "import math\n",
        "\n",
        "def isPowerOfTwo(n):\n",
        "    \"\"\"\n",
        "    :type n: int\n",
        "    :rtype: bool\n",
        "    \"\"\"\n",
        "    if n == 0 or n == 1:\n",
        "        return True\n",
        "    if n%2 != 0:\n",
        "        return False\n",
        "    def recurse(n):\n",
        "        n = n/2\n",
        "        if n%2 != 0:\n",
        "            return False\n",
        "        if n == 2:\n",
        "            return True\n",
        "        else:\n",
        "    try: \n",
        "        return recurse(n)\n",
        "    except RuntimeError:\n",
        "        return False\n",
        "\n",
        "# n = 1\n",
        "n = 16\n",
        "# n = 218\n",
        "isPowerOfTwo(n) "
      ],
      "execution_count": 13,
      "outputs": [
        {
          "output_type": "execute_result",
          "data": {
            "text/plain": [
              "True"
            ]
          },
          "metadata": {
            "tags": []
          },
          "execution_count": 13
        }
      ]
    },
    {
      "cell_type": "markdown",
      "metadata": {
        "id": "kQlV7GKM9o8D",
        "colab_type": "text"
      },
      "source": [
        "Method 1: Iterative\n",
        "\n",
        "check if n can be divided by 2. If yes, divide n by 2 and check it repeatedly.\n",
        "```\n",
        "if (n <= 0) return false;\n",
        "while (n%2 == 0) n/=2;\n",
        "return n == 1;\n",
        "```\n",
        "Time complexity = O(log n)\n",
        "\n",
        "Method 2: Recursive\n",
        "```\n",
        "return n > 0 && (n == 1 || (n%2 == 0 && isPowerOfTwo(n/2)));\n",
        "```\n",
        "Time complexity = O(log n)\n",
        "\n",
        "Method 3: Bit operation\n",
        "\n",
        "If n is the power of two:\n",
        "```\n",
        "n = 2 ^ 0 = 1 = 0b0000...00000001, and (n - 1) = 0 = 0b0000...0000.\n",
        "n = 2 ^ 1 = 2 = 0b0000...00000010, and (n - 1) = 1 = 0b0000...0001.\n",
        "n = 2 ^ 2 = 4 = 0b0000...00000100, and (n - 1) = 3 = 0b0000...0011.\n",
        "n = 2 ^ 3 = 8 = 0b0000...00001000, and (n - 1) = 7 = 0b0000...0111.\n",
        "```\n",
        "we have n & (n-1) == 0b0000...0000 == 0\n",
        "\n",
        "Otherwise, n & (n-1) != 0.\n",
        "\n",
        "For example, n =14 = 0b0000...1110, and (n - 1) = 13 = 0b0000...1101.\n",
        "```\n",
        "return n > 0 && ((n & (n-1)) == 0);\n",
        "```\n",
        "Time complexity = O(1)\n",
        "\n",
        "Method 4: Math derivation\n",
        "\n",
        "Because the range of an integer = -2147483648 (-2^31) ~ 2147483647 (2^31-1), the max possible power of two = 2^30 = 1073741824.\n",
        "\n",
        "(1) If n is the power of two, let n = 2^k, where k is an integer.\n",
        "\n",
        "We have 2^30 = (2^k) * 2^(30-k), which means (2^30 % 2^k) == 0.\n",
        "\n",
        "(2) If n is not the power of two, let n = j*(2^k), where k is an integer and j is an odd number.\n",
        "\n",
        "We have (2^30 % j*(2^k)) == (2^(30-k) % j) != 0.\n",
        "```\n",
        "return n > 0 && (1073741824 % n == 0);\n",
        "```\n",
        "Time complexity = O(1)\n",
        "\n",
        "--\n",
        "Update:\n",
        "Thanks for everyone's comment. Following are some other solutions metioned in comments.\n",
        "\n",
        "Method 5: Bit count\n",
        "\n",
        "Very intuitive. If n is the power of 2, the bit count of n is 1.\n",
        "Note that 0b1000...000 is -2147483648, which is not the power of two, but the bit count is 1.\n",
        "```\n",
        "return n > 0 && Integer.bitCount(n) == 1;\n",
        "```\n",
        "Time complexity = O(1)\n",
        "The time complexity of bitCount() can be done by a fixed number of operations.\n",
        "More info in https://stackoverflow.com/questions/109023."
      ]
    },
    {
      "cell_type": "code",
      "metadata": {
        "id": "iPZxTK2s70xd",
        "colab_type": "code",
        "colab": {}
      },
      "source": [
        ""
      ],
      "execution_count": null,
      "outputs": []
    }
  ]
}