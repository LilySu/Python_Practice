{
  "nbformat": 4,
  "nbformat_minor": 0,
  "metadata": {
    "colab": {
      "name": "BinarySearch_Reverse Sublists to Convert to Target.ipynb",
      "provenance": [],
      "authorship_tag": "ABX9TyPYWsDkQqOk6c345xgMcD76",
      "include_colab_link": true
    },
    "kernelspec": {
      "name": "python3",
      "display_name": "Python 3"
    }
  },
  "cells": [
    {
      "cell_type": "markdown",
      "metadata": {
        "id": "view-in-github",
        "colab_type": "text"
      },
      "source": [
        "<a href=\"https://colab.research.google.com/github/LilySu/Python_Practice/blob/master/BinarySearch_Reverse_Sublists_to_Convert_to_Target.ipynb\" target=\"_parent\"><img src=\"https://colab.research.google.com/assets/colab-badge.svg\" alt=\"Open In Colab\"/></a>"
      ]
    },
    {
      "cell_type": "markdown",
      "metadata": {
        "id": "Obp3IPCkRnAo"
      },
      "source": [
        "Given two lists of integers nums, and target, consider an operation where you take some sublist in nums and reverse it. Return whether it's possible to turn nums into target, given you can make any number of operations.\n",
        "```\n",
        "Example 1\n",
        "Input\n",
        "\n",
        "nums = [1, 2, 3, 8, 9]\n",
        "target = [3, 2, 1, 9, 8]\n",
        "Output\n",
        "\n",
        "True\n",
        "Explanation\n",
        "\n",
        "We can reverse [1, 2, 3] and [8, 9]\n",
        "\n",
        "Example 2\n",
        "Input\n",
        "\n",
        "nums = [10, 2, 3, 8, 9]\n",
        "target = [3, 2, 1, 9, 8]\n",
        "Output\n",
        "\n",
        "False\n",
        "```"
      ]
    },
    {
      "cell_type": "code",
      "metadata": {
        "id": "q6WNHTtTPIpO"
      },
      "source": [
        ""
      ],
      "execution_count": null,
      "outputs": []
    }
  ]
}