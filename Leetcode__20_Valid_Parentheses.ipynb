{
  "nbformat": 4,
  "nbformat_minor": 0,
  "metadata": {
    "colab": {
      "name": "Leetcode_#20_Valid_Parentheses.ipynb",
      "provenance": [],
      "authorship_tag": "ABX9TyNSp6VAJJ28U14ZZXdhmtQ5",
      "include_colab_link": true
    },
    "kernelspec": {
      "name": "python3",
      "display_name": "Python 3"
    }
  },
  "cells": [
    {
      "cell_type": "markdown",
      "metadata": {
        "id": "view-in-github",
        "colab_type": "text"
      },
      "source": [
        "<a href=\"https://colab.research.google.com/github/LilySu/Python_Practice/blob/master/Leetcode__20_Valid_Parentheses.ipynb\" target=\"_parent\"><img src=\"https://colab.research.google.com/assets/colab-badge.svg\" alt=\"Open In Colab\"/></a>"
      ]
    },
    {
      "cell_type": "markdown",
      "metadata": {
        "id": "gH4c1K9VS6uC",
        "colab_type": "text"
      },
      "source": [
        "Given a string containing just the characters '(', ')', '{', '}', '[' and ']', determine if the input string is valid.\n",
        "\n",
        "An input string is valid if:\n",
        "\n",
        "Open brackets must be closed by the same type of brackets.\n",
        "Open brackets must be closed in the correct order.\n",
        "Note that an empty string is also considered valid.\n",
        "\n",
        "Example 1:\n",
        "\n",
        "Input: \"()\"\n",
        "Output: true\n",
        "Example 2:\n",
        "\n",
        "Input: \"()[]{}\"\n",
        "Output: true\n",
        "Example 3:\n",
        "\n",
        "Input: \"(]\"\n",
        "Output: false\n",
        "Example 4:\n",
        "\n",
        "Input: \"([)]\"\n",
        "Output: false\n",
        "Example 5:\n",
        "\n",
        "Input: \"{[]}\"\n",
        "Output: true"
      ]
    },
    {
      "cell_type": "code",
      "metadata": {
        "id": "gGYGO9AISvJW",
        "colab_type": "code",
        "colab": {}
      },
      "source": [
        "class Solution(object):\n",
        "    def isValid(self, s):\n",
        "        \"\"\"\n",
        "        :type s: str\n",
        "        :rtype: bool\n",
        "        \"\"\"\n",
        "        bracket_dict = {\"(\":\")\",\"[\":\"]\",\"{\":\"}\"}\n",
        "        "
      ],
      "execution_count": null,
      "outputs": []
    },
    {
      "cell_type": "code",
      "metadata": {
        "id": "LBMiKRhb2bAn",
        "colab_type": "code",
        "colab": {
          "base_uri": "https://localhost:8080/",
          "height": 34
        },
        "outputId": "1c103859-e383-4d8b-c19b-ff8ac2ab4e3b"
      },
      "source": [
        "\n",
        "def isValid(s):\n",
        "    index_starting_bracket_list = []\n",
        "    index_ending_bracket_list = []\n",
        "    bracket_dict = {\"(\":\")\",\"[\":\"]\",\"{\":\"}\"}\n",
        "    # bracket_list = [\"(\",\")\",\"[\",\"]\",\"{\",\"}\"]\n",
        "    # for i,j in enumerate(bracket_list):\n",
        "    for key in bracket_dict:\n",
        "        # print(key, bracket_dict[key])\n",
        "        if key in s:\n",
        "            index_starting_bracket_list.append(s.index(key))\n",
        "        if bracket_dict[key] in s:\n",
        "            index_ending_bracket_list.append(s.index(bracket_dict[key]))\n",
        "    # return (index_starting_bracket_list, index_ending_bracket_list)\n",
        "    for i,j in zip(index_starting_bracket_list, index_ending_bracket_list):\n",
        "        if j < i:\n",
        "            return False\n",
        "        else:\n",
        "            return True\n",
        "# print(index_starting_bracket_list)\n",
        "# print(index_ending_bracket_list)\n",
        "\n",
        "s = \"{[]}\"\n",
        "# s = \"()[]{}\"\n",
        "# s = \"([)]\"\n",
        "# s = \"(]\"\n",
        "isValid(s)"
      ],
      "execution_count": 22,
      "outputs": [
        {
          "output_type": "execute_result",
          "data": {
            "text/plain": [
              "([1, 0], [2, 3])"
            ]
          },
          "metadata": {
            "tags": []
          },
          "execution_count": 22
        }
      ]
    },
    {
      "cell_type": "code",
      "metadata": {
        "id": "UJS6fAyD2xGv",
        "colab_type": "code",
        "colab": {
          "base_uri": "https://localhost:8080/",
          "height": 34
        },
        "outputId": "8f85824d-afcd-4870-ddf4-ab768d1de21e"
      },
      "source": [
        "\n",
        "def isValid(s):\n",
        "    open_bracket = []\n",
        "    what_is_passing_through = []\n",
        "    bracket_dict = {\"(\":\")\",\"[\":\"]\",\"{\":\"}\"}\n",
        "    is_problem = False\n",
        "    for i in s:\n",
        "        if i in bracket_dict: # if item is the opening bracket\n",
        "            open_bracket.append(i) # if opening bracket is seen, add to open_bracket list\n",
        "        try:\n",
        "            if bracket_dict[i] in s: # if a closing bracket is in s\n",
        "                what_is_passing_through.append(bracket_dict[i]) # if closing bracket is seen, add to the what_is_passing_through list\n",
        "        except KeyError:\n",
        "            pass\n",
        "    for i in bracket_dict:\n",
        "        if i in what_is_passing_through:\n",
        "            is_problem = True\n",
        "        else:\n",
        "            is_problem = False\n",
        "    return is_problem\n",
        "    # return what_is_passing_through\n",
        "            \n",
        "\n",
        "s = \"{[]}\"\n",
        "# s = \"()[]{}\"\n",
        "# s = \"([)]\"\n",
        "# s = \"(]\"\n",
        "isValid(s)"
      ],
      "execution_count": 58,
      "outputs": [
        {
          "output_type": "execute_result",
          "data": {
            "text/plain": [
              "False"
            ]
          },
          "metadata": {
            "tags": []
          },
          "execution_count": 58
        }
      ]
    },
    {
      "cell_type": "code",
      "metadata": {
        "id": "6W7s8187AgIB",
        "colab_type": "code",
        "colab": {
          "base_uri": "https://localhost:8080/",
          "height": 35
        },
        "outputId": "aeff5ef4-55ca-4c92-9812-0041d06cc7eb"
      },
      "source": [
        "bracket_dict = {\"(\":\")\",\"[\":\"]\",\"{\":\"}\"}\n",
        "\n",
        "bracket_dict[\"(\"]"
      ],
      "execution_count": 54,
      "outputs": [
        {
          "output_type": "execute_result",
          "data": {
            "application/vnd.google.colaboratory.intrinsic": {
              "type": "string"
            },
            "text/plain": [
              "')'"
            ]
          },
          "metadata": {
            "tags": []
          },
          "execution_count": 54
        }
      ]
    },
    {
      "cell_type": "code",
      "metadata": {
        "id": "UH5vU6kbaiTg",
        "colab_type": "code",
        "colab": {
          "base_uri": "https://localhost:8080/",
          "height": 34
        },
        "outputId": "cee3665d-e913-491a-d2a1-9172adc78da0"
      },
      "source": [
        "def isValid(s):\n",
        "    start_brackets = [\"(\",\"[\",\"{\"]\n",
        "    end_brackets = [\"}\",\"]\",\")\"]\n",
        "    bracket_dict = {\"(\":\")\",\"[\":\"]\",\"{\":\"}\"}\n",
        "    start_d = {}\n",
        "    end_d = {}\n",
        "    t = []\n",
        "    for index, value in enumerate(s):\n",
        "        if value in start_brackets:\n",
        "            start_d[index] = value\n",
        "    for index, value in enumerate(s):\n",
        "        if value in end_brackets:\n",
        "            end_d[index] = value\n",
        "    # for i,j in zip(sorted(start_d, key=lambda x:x, reverse=True), end_d):\n",
        "    # for i in sorted(start_d, key=lambda x:x, reverse=True):\n",
        "    #     for j in end_d:\n",
        "            # if start_d[i]==end_d[j]:\n",
        "            # t.append(i)\n",
        "            # t.append(j)\n",
        "            # t.append(f\"{start_d[i]}=={end_d[j]}\")\n",
        "        # t.append(start_d[i])\n",
        "        # for j in end_d:\n",
        "            # if start_d[i] == j:\n",
        "                # t.append(True)\n",
        "        # t.append(j)\n",
        "        # t.append(start_d[i])\n",
        "\n",
        "                # t.append(False)\n",
        "        # for j in end_d:\n",
        "        #     if bracket_dict[start_d[i]] == end_d[j]:\n",
        "        #         t.append(bracket_dict[start_d[i]] + \"==\"+ end_d[j])\n",
        "    # for i,j in zip(reversed(end_d), start_d):\n",
        "    #     t.append(f\"{start_d[j]}=={i}\")\n",
        "\n",
        "    return start_d, end_d\n",
        "            \n",
        "    #     if bracket_dict[i] in d:\n",
        "    #         if bracket_dict[i] in start_brackets:\n",
        "    return t\n",
        "\n",
        "\n",
        "# s = \"{[]}\"\n",
        "s = \"()[]{}\"\n",
        "# s = \"([)]\"\n",
        "# s = \"(]\"\n",
        "isValid(s)\n"
      ],
      "execution_count": 108,
      "outputs": [
        {
          "output_type": "execute_result",
          "data": {
            "text/plain": [
              "({0: '(', 2: '[', 4: '{'}, {1: ')', 3: ']', 5: '}'})"
            ]
          },
          "metadata": {
            "tags": []
          },
          "execution_count": 108
        }
      ]
    },
    {
      "cell_type": "code",
      "metadata": {
        "id": "KJ2jGSocnEPU",
        "colab_type": "code",
        "colab": {
          "base_uri": "https://localhost:8080/",
          "height": 34
        },
        "outputId": "717d0b78-fd7d-4f2c-8f48-033a9d944f37"
      },
      "source": [
        "def isValid(s):\n",
        "    start_d = {}\n",
        "    end_d = {}\n",
        "    bracket_dict = {\"(\":\")\",\"[\":\"]\",\"{\":\"}\"}\n",
        "    start = []\n",
        "    end = []\n",
        "    r = []\n",
        "    counter = True\n",
        "    for i,j in enumerate(s):\n",
        "        if j in bracket_dict:\n",
        "            start_d[i] = j\n",
        "        if j in bracket_dict.values():\n",
        "            end_d[i] = j\n",
        "    for i, j in zip(start_d, end_d):\n",
        "        i = int(i)\n",
        "        j = int(j)\n",
        "        if i > j:\n",
        "            counter = False\n",
        "            r.append(f'{i}<{j}')\n",
        "        else:\n",
        "            r.append(f'{i}>{j}')\n",
        "            counter = True\n",
        "    return counter, start_d, end_d, r\n",
        "\n",
        "    # for i,j in zip(t,d):\n",
        "    #     if bracket_dict[i] == j: \n",
        "    #         r.append(f'{bracket_dict[t[0]]} == {j}')\n",
        "        #     t.pop(0)\n",
        "        #     d.pop(0)\n",
        "        # elif bracket_dict[t[0]] == d[-1]:\n",
        "        #     r.append(f'{bracket_dict[t[0]]} == {d[-1]}')\n",
        "        #     t.pop(-1)\n",
        "        #     d.pop(-1)           \n",
        "    if len(t) == 0 and len(d) == 0:\n",
        "        result = True\n",
        "    else:\n",
        "        result = False\n",
        "    return start,end\n",
        "\n",
        "# s = \"{[]}\"\n",
        "# s = \"()[]{}\"\n",
        "s = \"([)]\"\n",
        "# s = \"(]\"\n",
        "isValid(s)"
      ],
      "execution_count": 160,
      "outputs": [
        {
          "output_type": "execute_result",
          "data": {
            "text/plain": [
              "(True, {0: '(', 1: '['}, {2: ')', 3: ']'}, ['0>2', '1>3'])"
            ]
          },
          "metadata": {
            "tags": []
          },
          "execution_count": 160
        }
      ]
    },
    {
      "cell_type": "code",
      "metadata": {
        "id": "jtcztKjtE9q5",
        "colab_type": "code",
        "colab": {
          "base_uri": "https://localhost:8080/",
          "height": 35
        },
        "outputId": "291a2f1d-d6e3-4f5a-f465-d2c2bb93de3f"
      },
      "source": [
        "l = 't'"
      ],
      "execution_count": 122,
      "outputs": [
        {
          "output_type": "execute_result",
          "data": {
            "application/vnd.google.colaboratory.intrinsic": {
              "type": "string"
            },
            "text/plain": [
              "'t'"
            ]
          },
          "metadata": {
            "tags": []
          },
          "execution_count": 122
        }
      ]
    },
    {
      "cell_type": "code",
      "metadata": {
        "id": "KV6Dagp4HOuJ",
        "colab_type": "code",
        "colab": {
          "base_uri": "https://localhost:8080/",
          "height": 34
        },
        "outputId": "fbbf1e4e-cf92-4130-be0f-bb6704cefaff"
      },
      "source": [
        "bracket_dict = {\"(\":\")\",\"[\":\"]\",\"{\":\"}\"}\n",
        "bracket_dict.values()\n"
      ],
      "execution_count": 140,
      "outputs": [
        {
          "output_type": "execute_result",
          "data": {
            "text/plain": [
              "dict_values([')', ']', '}'])"
            ]
          },
          "metadata": {
            "tags": []
          },
          "execution_count": 140
        }
      ]
    },
    {
      "cell_type": "code",
      "metadata": {
        "id": "TbLE_ELsS3hs",
        "colab_type": "code",
        "colab": {
          "base_uri": "https://localhost:8080/",
          "height": 34
        },
        "outputId": "364aa4a0-a659-4fdd-d854-802d1f9eb586"
      },
      "source": [
        "def isValid(s):\n",
        "    start_brackets = [\"(\",\"[\",\"{\"]\n",
        "    end_brackets = [\"}\",\"]\",\")\"]\n",
        "    a = True\n",
        "    b = True\n",
        "    c = True\n",
        "    for i in s:\n",
        "        if i == \"(\" and a == True:\n",
        "            a = False\n",
        "        elif i == \"[\" and b == True:\n",
        "            b = False\n",
        "        elif i == \"{\" and c == True:\n",
        "            c = False\n",
        "        elif i == \")\" and a == False:\n",
        "            a = True\n",
        "        elif i == \"]\" and b == False:\n",
        "            b = True\n",
        "        elif i == \"}\" and c == False:\n",
        "            c = True\n",
        "    return a,b,c\n",
        "\n",
        "\n",
        "    \n",
        "\n",
        "# s = \"{[]}\"\n",
        "# s = \"()[]{}\"\n",
        "s = \"([)]\"\n",
        "# s = \"(]\"\n",
        "isValid(s)"
      ],
      "execution_count": 168,
      "outputs": [
        {
          "output_type": "execute_result",
          "data": {
            "text/plain": [
              "(True, True, True)"
            ]
          },
          "metadata": {
            "tags": []
          },
          "execution_count": 168
        }
      ]
    },
    {
      "cell_type": "code",
      "metadata": {
        "id": "3pjtteVfhrE7",
        "colab_type": "code",
        "colab": {}
      },
      "source": [
        "def isValid(s):\n",
        "    start_brackets = [\"(\",\"[\",\"{\"]\n",
        "    end_brackets = [\"}\",\"]\",\")\"]\n",
        "    \n",
        "    a = True\n",
        "    b = True\n",
        "    c = True\n",
        "    for i in s:\n",
        "        if i == \"(\" and a == True:\n",
        "            a = False\n",
        "        elif i == \"[\" and b == True:\n",
        "            b = False\n",
        "        elif i == \"{\" and c == True:\n",
        "            c = False\n",
        "        elif i == \")\" and a == False:\n",
        "            a = True\n",
        "        elif i == \"]\" and b == False:\n",
        "            b = True\n",
        "        elif i == \"}\" and c == False:\n",
        "            c = True\n",
        "    return a,b,c\n",
        "\n",
        "\n",
        "    \n",
        "\n",
        "# s = \"{[]}\"\n",
        "# s = \"()[]{}\"\n",
        "s = \"([)]\"\n",
        "# s = \"(]\"\n",
        "isValid(s)"
      ],
      "execution_count": null,
      "outputs": []
    },
    {
      "cell_type": "code",
      "metadata": {
        "id": "EBQ8rqhPb5CD",
        "colab_type": "code",
        "colab": {
          "base_uri": "https://localhost:8080/",
          "height": 34
        },
        "outputId": "19959922-ef78-4e4f-d524-74b867a242e4"
      },
      "source": [
        "def isValid(s):\n",
        "    start_brackets = [\"(\",\"[\",\"{\"]\n",
        "    end_brackets = [\"}\",\"]\",\")\"]\n",
        "    bracket_dict = {\")\":\"(\",\"]\":\"[\",\"}\":\"{\"}\n",
        "    l = []\n",
        "    d = {\"(\":100, \")\":-100,\"[\":10,\"]\":-10,\"{\":1,\"}\":-1}\n",
        "    start = []\n",
        "    for i in s:\n",
        "        if i in d:\n",
        "            l.append(d[i])\n",
        "        if i in start_brackets:\n",
        "            start.append(i)\n",
        "        if i in end_brackets:\n",
        "            if len(start)>0 and bracket_dict[i] == start[-1]:\n",
        "                start.pop(-1)\n",
        "            else:\n",
        "                return False\n",
        "    if sum(l) == 0:\n",
        "        return True\n",
        "    else:\n",
        "        return False\n",
        "\n",
        "\n",
        "    \n",
        "\n",
        "# s = \"{[]}\"\n",
        "# s = \"()[]{}\"\n",
        "# s = \"([)]\"\n",
        "s = \"(]\"\n",
        "isValid(s)"
      ],
      "execution_count": 187,
      "outputs": [
        {
          "output_type": "execute_result",
          "data": {
            "text/plain": [
              "(False, '[')"
            ]
          },
          "metadata": {
            "tags": []
          },
          "execution_count": 187
        }
      ]
    }
  ]
}