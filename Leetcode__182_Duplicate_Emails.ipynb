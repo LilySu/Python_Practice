{
  "nbformat": 4,
  "nbformat_minor": 0,
  "metadata": {
    "colab": {
      "name": "Leetcode_#182_Duplicate_Emails.ipynb",
      "provenance": [],
      "authorship_tag": "ABX9TyMCQR2nQiA7cvCAAExep8iv",
      "include_colab_link": true
    },
    "kernelspec": {
      "name": "python3",
      "display_name": "Python 3"
    }
  },
  "cells": [
    {
      "cell_type": "markdown",
      "metadata": {
        "id": "view-in-github",
        "colab_type": "text"
      },
      "source": [
        "<a href=\"https://colab.research.google.com/github/LilySu/Python_Practice/blob/master/Leetcode__182_Duplicate_Emails.ipynb\" target=\"_parent\"><img src=\"https://colab.research.google.com/assets/colab-badge.svg\" alt=\"Open In Colab\"/></a>"
      ]
    },
    {
      "cell_type": "markdown",
      "metadata": {
        "id": "08RODc5dXw-F",
        "colab_type": "text"
      },
      "source": [
        "Write a SQL query to find all duplicate emails in a table named Person.\n",
        "```\n",
        "+----+---------+\n",
        "| Id | Email   |\n",
        "+----+---------+\n",
        "| 1  | a@b.com |\n",
        "| 2  | c@d.com |\n",
        "| 3  | a@b.com |\n",
        "+----+---------+\n",
        "For example, your query should return the following for the above table:\n",
        "\n",
        "+---------+\n",
        "| Email   |\n",
        "+---------+\n",
        "| a@b.com |\n",
        "+---------+\n",
        "```"
      ]
    },
    {
      "cell_type": "code",
      "metadata": {
        "id": "jmh2QKvpXqve",
        "colab_type": "code",
        "colab": {}
      },
      "source": [
        "# Write your MySQL query statement below\n",
        "SELECT Email\n",
        "FROM Person\n",
        "GROUP BY\n",
        "Email\n",
        "HAVING \n",
        "    COUNT(*) > 1;\n"
      ],
      "execution_count": null,
      "outputs": []
    }
  ]
}