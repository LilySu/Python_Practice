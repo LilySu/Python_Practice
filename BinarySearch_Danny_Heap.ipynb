{
  "nbformat": 4,
  "nbformat_minor": 0,
  "metadata": {
    "colab": {
      "name": "BinarySearch_Danny_Heap.ipynb",
      "provenance": [],
      "authorship_tag": "ABX9TyMYyM7FSASNgAX/lw7nY12y",
      "include_colab_link": true
    },
    "kernelspec": {
      "name": "python3",
      "display_name": "Python 3"
    }
  },
  "cells": [
    {
      "cell_type": "markdown",
      "metadata": {
        "id": "view-in-github",
        "colab_type": "text"
      },
      "source": [
        "<a href=\"https://colab.research.google.com/github/LilySu/Python_Practice/blob/master/BinarySearch_Danny_Heap.ipynb\" target=\"_parent\"><img src=\"https://colab.research.google.com/assets/colab-badge.svg\" alt=\"Open In Colab\"/></a>"
      ]
    },
    {
      "cell_type": "markdown",
      "metadata": {
        "id": "b4TQoB0lGime"
      },
      "source": [
        "Given a list of integers nums, return whether it represents a max heap. That is, for every i we have that:\n",
        "```\n",
        "nums[i] ≥ nums[2*i + 1] if 2*i + 1 is within bounds\n",
        "nums[i] ≥ nums[2*i + 2] if 2*i + 2 is within bounds\n",
        "Example 1\n",
        "Input\n",
        "\n",
        "nums = [4, 2, 3, 0, 1]\n",
        "Output\n",
        "\n",
        "True\n",
        "```"
      ]
    },
    {
      "cell_type": "code",
      "metadata": {
        "id": "Xq3s_eWhmV7f"
      },
      "source": [
        "class Solution:\n",
        "    def solve(self, nums):\n",
        "        for i in range(len(nums)):\n",
        "            try:\n",
        "                if nums[i] < nums[2 * i + 1] or nums[i] < nums[2 * i + 2]:\n",
        "                    return False\n",
        "            except:\n",
        "                continue\n",
        "        return True\n"
      ],
      "execution_count": null,
      "outputs": []
    },
    {
      "cell_type": "code",
      "metadata": {
        "id": "PzJFxj2vme9r"
      },
      "source": [
        "class Solution:\n",
        "    def solve(self, nums):\n",
        "        for i in range(len(nums) // 2):\n",
        "            if not nums[i] >= nums[2 * i + 1]:\n",
        "                return False\n",
        "            if i * 2 + 2 <= len(nums) - 1:\n",
        "                if not nums[i] >= nums[2 * i + 2]:\n",
        "                    return False\n",
        "        return True"
      ],
      "execution_count": null,
      "outputs": []
    },
    {
      "cell_type": "code",
      "metadata": {
        "id": "7_BbeExXmlUr"
      },
      "source": [
        "class Solution:\n",
        "    def solve(self, nums):\n",
        "        n = len(nums)\n",
        "        nums.append(0)  # For out of bounds error\n",
        "        for i in range(n // 2):\n",
        "            if nums[i] < nums[2 * i + 1] or nums[i] < nums[2 * i + 2]:\n",
        "                return False\n",
        "        return True"
      ],
      "execution_count": null,
      "outputs": []
    },
    {
      "cell_type": "code",
      "metadata": {
        "id": "nkRKjo5GmKYB"
      },
      "source": [
        "class Solution:\n",
        "    def solve(self, nums):\n",
        "        for i in range(len(nums) // 2):\n",
        "            for j in range(1, 3):\n",
        "                if 2 * i + j >= len(nums):\n",
        "                    break\n",
        "                if nums[i] < nums[2 * i + j]:\n",
        "                    return False\n",
        "        return True"
      ],
      "execution_count": null,
      "outputs": []
    }
  ]
}