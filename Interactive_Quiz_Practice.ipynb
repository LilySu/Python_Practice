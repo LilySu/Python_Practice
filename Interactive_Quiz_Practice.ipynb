{
  "nbformat": 4,
  "nbformat_minor": 0,
  "metadata": {
    "colab": {
      "name": "Interactive_Quiz_Practice.ipynb",
      "provenance": [],
      "authorship_tag": "ABX9TyMhw4MijofTPOQNfajLx3J+",
      "include_colab_link": true
    },
    "kernelspec": {
      "name": "python3",
      "display_name": "Python 3"
    }
  },
  "cells": [
    {
      "cell_type": "markdown",
      "metadata": {
        "id": "view-in-github",
        "colab_type": "text"
      },
      "source": [
        "<a href=\"https://colab.research.google.com/github/LilySu/Python_Practice/blob/master/Interactive_Quiz_Practice.ipynb\" target=\"_parent\"><img src=\"https://colab.research.google.com/assets/colab-badge.svg\" alt=\"Open In Colab\"/></a>"
      ]
    },
    {
      "cell_type": "code",
      "metadata": {
        "colab": {
          "base_uri": "https://localhost:8080/"
        },
        "id": "J9rN7-713dSG",
        "outputId": "eef3e2b4-56a5-4934-af82-f7cbb3c4f8ea"
      },
      "source": [
        "import random \r\n",
        "\r\n",
        "user_input = int(input(\"Enter a number from 1 to 6 ^_^ \"))\r\n",
        "\r\n",
        "my_set = set()\r\n",
        "\r\n",
        "quedictionary = { 1:\"How much ocean territory does India occupy? choice 1 choice 2\",\r\n",
        "3: \"Third question\",\r\n",
        "4: \"Fourth question\", \r\n",
        "5: \"Fifth question\",\r\n",
        "6: \"Sixth question\"}\r\n",
        "\r\n",
        "ansdictionary = {1: \"b\", 2: \"a\", 3: \"c\", 4: \"d\", 5: \"a\", 6: \"b\"}\r\n",
        "\r\n",
        "questions_displayed = 0\r\n",
        "\r\n",
        "while questions_displayed < user_input:\r\n",
        "  random_question_num = random.choice(list(quedictionary.keys()))\r\n",
        "  if random_question_num not in my_set:\r\n",
        "    my_set.add(random_question_num)\r\n",
        "    print(quedictionary[random_question_num])\r\n",
        "    user_answer = str(input())\r\n",
        "    if user_answer == ansdictionary[random_question_num]:\r\n",
        "      print(\"you're smart\")\r\n",
        "    else:\r\n",
        "      print(\"keep trying!\")\r\n",
        "    questions_displayed += 1\r\n",
        "\r\n",
        "\r\n",
        "    "
      ],
      "execution_count": 34,
      "outputs": [
        {
          "output_type": "stream",
          "text": [
            "Enter a number from 1 to 6 ^_^ 4\n",
            "Fourth question\n",
            "d\n",
            "you're smart\n",
            "Sixth question\n",
            "b\n",
            "you're smart\n",
            "Third question\n",
            "a\n",
            "keep trying!\n",
            "Fifth question\n",
            "a\n",
            "you're smart\n"
          ],
          "name": "stdout"
        }
      ]
    },
    {
      "cell_type": "code",
      "metadata": {
        "colab": {
          "base_uri": "https://localhost:8080/"
        },
        "id": "1GXqh-iQEF0R",
        "outputId": "b384194a-f8f0-4ccb-9a49-5e91ec37015d"
      },
      "source": [
        "\r\n",
        "import random \r\n",
        "inputseg1 = input(\"Enter a number from 1 to 6 ^_^ \")\r\n",
        "my_set = set()\r\n",
        "quedictionary = {\r\n",
        "    1 : \"How much ocean territory does India occupy?\\n\\n(a) 70,560,000 square kilometers\\n(b) 90,000,000 square kilometers\\n(c) 100,000,000 square kilometers\\n(d) 23,400,000 square kilometers\",\r\n",
        "    2 : \"How many countries does India border?\\n\\n(a) 7\\n(b) 12\\n(c) 20\\n(d) 18\",\r\n",
        "    3 : \"Fourth question\", \r\n",
        "    4 : \"Fifth question\",\r\n",
        "    5 : \"Sixth question\"\r\n",
        "    }\r\n",
        "questions_displayed = 0\r\n",
        "while questions_displayed < user_input:\r\n",
        "  random_question_num = random.choice(list(quedictionary.keys()))\r\n",
        "  if random_question_num not in my_set:\r\n",
        "    my_set.add(random_question_num)\r\n",
        "    print(quedictionary[random_question_num])\r\n",
        "    questions_displayed += 1\r\n",
        "inputseg2 = input(\"\")\r\n",
        "if quedictionary[random_question_num] == quedictionary[1] and inputseg2 == \"2\":\r\n",
        "  print(\"good\")"
      ],
      "execution_count": 32,
      "outputs": [
        {
          "output_type": "stream",
          "text": [
            "Enter a number from 1 to 6 ^_^ 3\n",
            "Fourth question\n",
            "Sixth question\n",
            "Fifth question\n",
            "2\n"
          ],
          "name": "stdout"
        }
      ]
    }
  ]
}