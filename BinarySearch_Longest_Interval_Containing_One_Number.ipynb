{
  "nbformat": 4,
  "nbformat_minor": 0,
  "metadata": {
    "colab": {
      "name": "BinarySearch_Longest Interval Containing One Number.ipynb",
      "provenance": [],
      "authorship_tag": "ABX9TyNhTeiiUWDJOyrbXrrO4Je5",
      "include_colab_link": true
    },
    "kernelspec": {
      "name": "python3",
      "display_name": "Python 3"
    }
  },
  "cells": [
    {
      "cell_type": "markdown",
      "metadata": {
        "id": "view-in-github",
        "colab_type": "text"
      },
      "source": [
        "<a href=\"https://colab.research.google.com/github/LilySu/Python_Practice/blob/master/BinarySearch_Longest_Interval_Containing_One_Number.ipynb\" target=\"_parent\"><img src=\"https://colab.research.google.com/assets/colab-badge.svg\" alt=\"Open In Colab\"/></a>"
      ]
    },
    {
      "cell_type": "markdown",
      "metadata": {
        "id": "iYTx1GVPqBuC"
      },
      "source": [
        "You are given a list of unique integers nums. Return the size of the largest inclusive interval [start, end] such that it contains exactly one number in nums.\n",
        "```\n",
        "Constraints\n",
        "\n",
        "1 ≤ n ≤ 100,000 where n is the length of nums\n",
        "1 ≤ start ≤ end ≤ 100,000\n",
        "Example 1\n",
        "Input\n",
        "\n",
        "nums = [10, 5, 19]\n",
        "Output\n",
        "\n",
        "99990\n",
        "Explanation\n",
        "\n",
        "The largest interval that contains one number is [11, 100000] which contains 19.\n",
        "\n",
        "Example 2\n",
        "Input\n",
        "\n",
        "nums = [5, 50000, 90000]\n",
        "Output\n",
        "\n",
        "89994\n",
        "Explanation\n",
        "\n",
        "The largest interval that contains one number is [6, 89999] which contains 50,000.\n",
        "```"
      ]
    },
    {
      "cell_type": "code",
      "metadata": {
        "id": "7hAO-kPOom5z"
      },
      "source": [
        "class Solution:\n",
        "    def solve(self, nums):\n",
        "        biggest_interval = 0\n",
        "        # add 1, add 100,000\n",
        "        nums += [0, 100001]\n",
        "        # sort list\n",
        "        nums.sort()\n",
        "        # compare index of 0,2, 1,3, 2,4 etc\n",
        "        for i in range(len(nums) - 2):\n",
        "            biggest_interval = max(biggest_interval, (nums[i + 2]) - (nums[i]))\n",
        "        return biggest_interval - 1\n",
        "        # add one to first number\n",
        "        # subtract one from the number after, not the next one"
      ],
      "execution_count": null,
      "outputs": []
    },
    {
      "cell_type": "code",
      "metadata": {
        "id": "OZrU8fCbrJzi"
      },
      "source": [
        "# Look at the elements sorted, eg. A = [10, 20, 30, 40]A=[10,20,30,40].\n",
        "\n",
        "# If we have an interval with a middle element like 2020, the interval must be [11, 29][11,29] or more generally [A[i]+1, A[i+2]-1][A[i]+1,A[i+2]−1].\n",
        "\n",
        "# If we have an interval with a end element like 4040, the interval must be [31, 100000][31,100000].\n",
        "\n",
        "class Solution:\n",
        "    def solve(self, A):\n",
        "        A.sort()\n",
        "        A = [0] + A + [100001]\n",
        "        ans = 0\n",
        "        for i in range(len(A) - 2):\n",
        "            ans = max(ans, A[i + 2] - A[i] - 1)\n",
        "        return ans\n"
      ],
      "execution_count": null,
      "outputs": []
    }
  ]
}