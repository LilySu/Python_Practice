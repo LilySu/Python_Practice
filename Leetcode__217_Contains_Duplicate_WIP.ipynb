{
  "nbformat": 4,
  "nbformat_minor": 0,
  "metadata": {
    "colab": {
      "name": "Leetcode_#217_Contains_Duplicate.ipynb",
      "provenance": [],
      "authorship_tag": "ABX9TyMU2A0r8nIAH7c+IDlielIo",
      "include_colab_link": true
    },
    "kernelspec": {
      "name": "python3",
      "display_name": "Python 3"
    }
  },
  "cells": [
    {
      "cell_type": "markdown",
      "metadata": {
        "id": "view-in-github",
        "colab_type": "text"
      },
      "source": [
        "<a href=\"https://colab.research.google.com/github/LilySu/Python_Practice/blob/master/Leetcode__217_Contains_Duplicate_WIP.ipynb\" target=\"_parent\"><img src=\"https://colab.research.google.com/assets/colab-badge.svg\" alt=\"Open In Colab\"/></a>"
      ]
    },
    {
      "cell_type": "markdown",
      "metadata": {
        "id": "Lw0PAsviXkyz",
        "colab_type": "text"
      },
      "source": [
        "Given an array of integers, find if the array contains any duplicates.\n",
        "\n",
        "Your function should return true if any value appears at least twice in the array, and it should return false if every element is distinct.\n",
        "\n",
        "Example 1:\n",
        "```\n",
        "Input: [1,2,3,1]\n",
        "Output: true\n",
        "Example 2:\n",
        "\n",
        "Input: [1,2,3,4]\n",
        "Output: false\n",
        "Example 3:\n",
        "\n",
        "Input: [1,1,1,3,3,4,3,2,4,2]\n",
        "Output: true\n",
        "```"
      ]
    },
    {
      "cell_type": "code",
      "metadata": {
        "id": "yPUvTDBIXj4x",
        "colab_type": "code",
        "colab": {
          "base_uri": "https://localhost:8080/",
          "height": 34
        },
        "outputId": "720d7054-cc48-46d6-8378-8751310f0f97"
      },
      "source": [
        "import collections\n",
        "\n",
        "def containsDuplicate(nums):\n",
        "    cdicts = collections.Counter(nums)\n",
        "    v = cdicts.values()\n",
        "    if len(nums) <= 1:\n",
        "        return False\n",
        "    else:\n",
        "        return all(i >= 2 for i in v)\n",
        "\n",
        "\n",
        "# nums = [0]\n",
        "nums = [1,2,3,1]\n",
        "# nums = [1,2,3,4]\n",
        "# nums = [1,1,1,3,3,4,3,2,4,2]\n",
        "containsDuplicate(nums)"
      ],
      "execution_count": 18,
      "outputs": [
        {
          "output_type": "execute_result",
          "data": {
            "text/plain": [
              "dict_values([2, 1, 1])"
            ]
          },
          "metadata": {
            "tags": []
          },
          "execution_count": 18
        }
      ]
    },
    {
      "cell_type": "code",
      "metadata": {
        "id": "R1cQHRbkYXwy",
        "colab_type": "code",
        "colab": {}
      },
      "source": [
        "# actual solution\n",
        "return True if len(se(nums)) < len(nums) else False"
      ],
      "execution_count": null,
      "outputs": []
    }
  ]
}