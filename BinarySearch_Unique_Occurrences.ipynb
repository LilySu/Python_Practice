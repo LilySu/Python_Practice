{
  "nbformat": 4,
  "nbformat_minor": 0,
  "metadata": {
    "colab": {
      "name": "BinarySearch_Unique_Occurrences.ipynb",
      "provenance": [],
      "authorship_tag": "ABX9TyN+5jxnLOJwjYE17aAjdF2g",
      "include_colab_link": true
    },
    "kernelspec": {
      "name": "python3",
      "display_name": "Python 3"
    }
  },
  "cells": [
    {
      "cell_type": "markdown",
      "metadata": {
        "id": "view-in-github",
        "colab_type": "text"
      },
      "source": [
        "<a href=\"https://colab.research.google.com/github/LilySu/Python_Practice/blob/master/BinarySearch_Unique_Occurrences.ipynb\" target=\"_parent\"><img src=\"https://colab.research.google.com/assets/colab-badge.svg\" alt=\"Open In Colab\"/></a>"
      ]
    },
    {
      "cell_type": "markdown",
      "metadata": {
        "id": "77emBbzvP3s6"
      },
      "source": [
        "Given a list of integers nums, return whether the number of occurrences of every value in the array is unique.\n",
        "\n",
        "Note: Numbers can be negative.\n",
        "\n",
        "Constraint\n",
        "```\n",
        "n ≤ 100,000 where n is the length of nums\n",
        "Example 1\n",
        "Input\n",
        "nums = [5, 3, 1, 8, 3, 1, 1, 8, 8, 8]\n",
        "Output\n",
        "True\n",
        "Explanation\n",
        "There's 1 occurrence of 5, 2 occurrences of 3, 3 occurrences of 1, and 4 occurrences of 8. All number of occurrences are unique.\n",
        "\n",
        "Example 2\n",
        "Input\n",
        "nums = [-3, -1, -1, -1, -2, -2]\n",
        "Output\n",
        "True\n",
        "Explanation\n",
        "There's 1 occurrence of -3, 2 occurrences of -2, and 3 occurrences of -1. All number of occurrences are unique.\n",
        "\n",
        "Example 3\n",
        "Input\n",
        "nums = [3, 1, 1, 2, 2, 2, 3]\n",
        "Output\n",
        "False\n",
        "Explanation\n",
        "There are 2 occurrences of 1, and 2 occurrences of 3. So the number of occurrences here is not unique.\n",
        "```"
      ]
    },
    {
      "cell_type": "code",
      "metadata": {
        "id": "P9OHlb1xP0Lg"
      },
      "source": [
        "from collections import Counter\n",
        "\n",
        "class Solution:\n",
        "    def solve(self, nums):\n",
        "        l = []\n",
        "        n = Counter(nums)\n",
        "        for i in n:\n",
        "            l.append(n[i])\n",
        "        return list(dict.fromkeys(l)) == l\n",
        "\n",
        "        # return len(times) == len(set(times))"
      ],
      "execution_count": null,
      "outputs": []
    }
  ]
}