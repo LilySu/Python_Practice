{
  "nbformat": 4,
  "nbformat_minor": 0,
  "metadata": {
    "colab": {
      "name": "BinarySearch_Recurring_Character.ipynb",
      "provenance": [],
      "authorship_tag": "ABX9TyPUKGhkTft/+4jmRmJU9BV/",
      "include_colab_link": true
    },
    "kernelspec": {
      "name": "python3",
      "display_name": "Python 3"
    }
  },
  "cells": [
    {
      "cell_type": "markdown",
      "metadata": {
        "id": "view-in-github",
        "colab_type": "text"
      },
      "source": [
        "<a href=\"https://colab.research.google.com/github/LilySu/Python_Practice/blob/master/BinarySearch_Recurring_Character.ipynb\" target=\"_parent\"><img src=\"https://colab.research.google.com/assets/colab-badge.svg\" alt=\"Open In Colab\"/></a>"
      ]
    },
    {
      "cell_type": "markdown",
      "metadata": {
        "id": "hWnHCW4gAWP3"
      },
      "source": [
        "Given a string, return the index of the first recurring character in it. If there are no recurring characters, return -1.\n",
        "```\n",
        "Example 1\n",
        "Input\n",
        "\n",
        "s = \"abcda\"\n",
        "Output\n",
        "\n",
        "4\n",
        "Explanation\n",
        "\n",
        "The a at index 4 is the first recurring character.\n",
        "\n",
        "Example 2\n",
        "Input\n",
        "\n",
        "s = \"abcde\"\n",
        "Output\n",
        "\n",
        "-1\n",
        "Explanation\n",
        "\n",
        "No recurring characters in this string.\n",
        "\n",
        "Example 3\n",
        "Input\n",
        "\n",
        "s = \"aaaaa\"\n",
        "Output\n",
        "\n",
        "1\n",
        "Explanation\n",
        "\n",
        "We want the first recurring character.\n",
        "```"
      ]
    },
    {
      "cell_type": "code",
      "metadata": {
        "id": "-yWsR4zg_vTH"
      },
      "source": [
        "class Solution:\n",
        "    def solve(self, s):\n",
        "        stack = ''\n",
        "        for i in range(len(s)):\n",
        "            if s[i] not in stack:\n",
        "                stack += s[i]\n",
        "            else:\n",
        "                return i\n",
        "        return -1"
      ],
      "execution_count": null,
      "outputs": []
    },
    {
      "cell_type": "code",
      "metadata": {
        "id": "pNCJGUUEBQbW"
      },
      "source": [
        "class Solution:\n",
        "    def solve(self, s):\n",
        "        seen = set()\n",
        "        for i, j in enumerate(s):\n",
        "            if j in seen:\n",
        "                return i\n",
        "            seen.add(j)\n",
        "        return -1"
      ],
      "execution_count": null,
      "outputs": []
    },
    {
      "cell_type": "code",
      "metadata": {
        "id": "1k6_Scq-Br4t"
      },
      "source": [
        "class Solution:\n",
        "    def solve(self, s):\n",
        "        seen = {}\n",
        "        for i, j in enumerate(s):\n",
        "            if j in seen:\n",
        "                return i\n",
        "            seen[j] = 1\n",
        "        return -1"
      ],
      "execution_count": null,
      "outputs": []
    },
    {
      "cell_type": "code",
      "metadata": {
        "id": "AR-Kw4LGCEY9"
      },
      "source": [
        "class Solution:\n",
        "    def solve(self, s):\n",
        "        for i in range(len(s)):\n",
        "            if s[i] in s[:i]:\n",
        "                return i\n",
        "        return -1"
      ],
      "execution_count": null,
      "outputs": []
    }
  ]
}