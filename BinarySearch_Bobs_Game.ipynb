{
  "nbformat": 4,
  "nbformat_minor": 0,
  "metadata": {
    "colab": {
      "name": "BinarySearch_Bobs_Game.ipynb",
      "provenance": [],
      "authorship_tag": "ABX9TyNmN99B4tM0uHYyh/67vG/f",
      "include_colab_link": true
    },
    "kernelspec": {
      "name": "python3",
      "display_name": "Python 3"
    }
  },
  "cells": [
    {
      "cell_type": "markdown",
      "metadata": {
        "id": "view-in-github",
        "colab_type": "text"
      },
      "source": [
        "<a href=\"https://colab.research.google.com/github/LilySu/Python_Practice/blob/master/BinarySearch_Bobs_Game.ipynb\" target=\"_parent\"><img src=\"https://colab.research.google.com/assets/colab-badge.svg\" alt=\"Open In Colab\"/></a>"
      ]
    },
    {
      "cell_type": "markdown",
      "metadata": {
        "id": "xRRjLkGGuMfR"
      },
      "source": [
        "Bob is playing a game with himself. He gives himself a list nums. Each round, Bob chooses two elements of the list and replaces them with one positive integer with the same sum as the numbers he selected. Bob declares victory when all of the number in the array are even.\n",
        "\n",
        "Return the minimum number of rounds Bob must make before he can declare victory, or return -1 if Bob can never declare victory.\n",
        "\n",
        "Constraints\n",
        "\n",
        "2 ≤ N ≤ 100,000 where N is the length of nums.\n",
        "0 ≤ nums[i] ≤ 100,000\n",
        "Example 1\n",
        "Input\n",
        "\n",
        "nums = [1, 1, 3, 7, 6, 12]\n",
        "Output\n",
        "\n",
        "2\n",
        "Explanation\n",
        "\n",
        "Bob can take:\n",
        "\n",
        "1 and 1 to make 2.\n",
        "3 and 7 to make 10.\n",
        "In the end we have [2, 10, 18]\n",
        "\n",
        "Example 2\n",
        "Input\n",
        "\n",
        "nums = [0, 2, 2, 3, 5, 7]\n",
        "Output\n",
        "\n",
        "-1\n",
        "Explanation\n",
        "\n",
        "Whether we merge 3 and 5, 3 and 7, or 5 and 7, we are left with one odd integer. The odd integer can't merge with any even integer to become even."
      ]
    },
    {
      "cell_type": "code",
      "metadata": {
        "id": "IvKvt2q0uFTb"
      },
      "source": [
        "        count = 0\n",
        "        # count odd numbers\n",
        "        for i in range(len(nums)):\n",
        "            if nums[i] % 2 != 0:\n",
        "                count += 1\n",
        "        # if # of odd numbers is odd return -1\n",
        "        if count % 2 != 0:\n",
        "            return -1\n",
        "        # if even # odd numbers return # odd numbers divided by 2\n",
        "        else:\n",
        "            return count / 2"
      ],
      "execution_count": null,
      "outputs": []
    },
    {
      "cell_type": "code",
      "metadata": {
        "id": "0rw6mKtsuRoG",
        "outputId": "d383b3aa-43ef-43f5-8015-30c6ee10e35e",
        "colab": {
          "base_uri": "https://localhost:8080/",
          "height": 34
        }
      },
      "source": [
        "23/2"
      ],
      "execution_count": 1,
      "outputs": [
        {
          "output_type": "execute_result",
          "data": {
            "text/plain": [
              "11.5"
            ]
          },
          "metadata": {
            "tags": []
          },
          "execution_count": 1
        }
      ]
    },
    {
      "cell_type": "code",
      "metadata": {
        "id": "bFYtH_EWuSR4",
        "outputId": "e87c9e92-d510-4111-cd35-d998307cd784",
        "colab": {
          "base_uri": "https://localhost:8080/",
          "height": 34
        }
      },
      "source": [
        "23//2"
      ],
      "execution_count": 2,
      "outputs": [
        {
          "output_type": "execute_result",
          "data": {
            "text/plain": [
              "11"
            ]
          },
          "metadata": {
            "tags": []
          },
          "execution_count": 2
        }
      ]
    },
    {
      "cell_type": "code",
      "metadata": {
        "id": "7KUT4e2wuUd4",
        "outputId": "6722c5c5-d4be-4046-fb35-b7c65c8d3212",
        "colab": {
          "base_uri": "https://localhost:8080/",
          "height": 34
        }
      },
      "source": [
        "8/3"
      ],
      "execution_count": 3,
      "outputs": [
        {
          "output_type": "execute_result",
          "data": {
            "text/plain": [
              "2.6666666666666665"
            ]
          },
          "metadata": {
            "tags": []
          },
          "execution_count": 3
        }
      ]
    },
    {
      "cell_type": "code",
      "metadata": {
        "id": "eq2IFOQKubqP",
        "outputId": "0f0b0fa0-0328-40e5-d49d-b8ab120acdc4",
        "colab": {
          "base_uri": "https://localhost:8080/",
          "height": 34
        }
      },
      "source": [
        "8//3"
      ],
      "execution_count": 5,
      "outputs": [
        {
          "output_type": "execute_result",
          "data": {
            "text/plain": [
              "2"
            ]
          },
          "metadata": {
            "tags": []
          },
          "execution_count": 5
        }
      ]
    },
    {
      "cell_type": "code",
      "metadata": {
        "id": "WEL7XE4kucun"
      },
      "source": [
        "We count the number of odd numbers in the list. If we sum two odd numbers together, the result will be even - so the optimal number of moves if the number of odds is divisible by two.\n",
        "\n",
        "If there is an odd number of odd numbers - we get stuck with one odd number at the end we can't get rid of.\n",
        "\n",
        "class Solution:\n",
        "    def solve(self, nums):\n",
        "        odds = sum(1 for n in nums if n & 1)\n",
        "        if odds & 1:\n",
        "            return -1\n",
        "        return odds // 2"
      ],
      "execution_count": null,
      "outputs": []
    }
  ]
}