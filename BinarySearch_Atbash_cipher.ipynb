{
  "nbformat": 4,
  "nbformat_minor": 0,
  "metadata": {
    "colab": {
      "name": "BinarySearch_Atbash_cipher.ipynb",
      "provenance": [],
      "authorship_tag": "ABX9TyNdk6LqkXV/vi3Hh/WMjq//",
      "include_colab_link": true
    },
    "kernelspec": {
      "name": "python3",
      "display_name": "Python 3"
    }
  },
  "cells": [
    {
      "cell_type": "markdown",
      "metadata": {
        "id": "view-in-github",
        "colab_type": "text"
      },
      "source": [
        "<a href=\"https://colab.research.google.com/github/LilySu/Python_Practice/blob/master/BinarySearch_Atbash_cipher.ipynb\" target=\"_parent\"><img src=\"https://colab.research.google.com/assets/colab-badge.svg\" alt=\"Open In Colab\"/></a>"
      ]
    },
    {
      "cell_type": "markdown",
      "metadata": {
        "id": "qTEbFGsJdvKX"
      },
      "source": [
        "You are given a lowercase alphabet string text. Return a new string where every character in text is mapped to its reverse in the alphabet, so that a becomes z, b becomes y, c becomes x, and so on.\n",
        "```\n",
        "Example 1\n",
        "Input\n",
        "\n",
        "text = \"abcdef\"\n",
        "Output\n",
        "\n",
        "\"zyxwvu\"\n",
        "```"
      ]
    },
    {
      "cell_type": "code",
      "metadata": {
        "id": "AWOfbl3_db72"
      },
      "source": [
        "import string\n",
        "\n",
        "class Solution:\n",
        "    def solve(self, text):\n",
        "        s = string.ascii_lowercase\n",
        "        char_idx_list = [ord(char) - 95 for char in text]\n",
        "        first_slice = char_idx_list[-1]\n",
        "        last_slice = char_idx_list[0]\n",
        "        print(-first_slice,-last_slice)\n",
        "        print(char_idx_list)\n",
        "        print((s[-7:]))\n",
        "        result = s[-first_slice:-last_slice]\n",
        "        return result[::-1]"
      ],
      "execution_count": null,
      "outputs": []
    },
    {
      "cell_type": "code",
      "metadata": {
        "id": "Bhhyk1Dmc-jn"
      },
      "source": [
        "\n",
        "alphabet = string.ascii_lowercase\n",
        "newString = \"\"\n",
        "for i in range(len(text)):\n",
        "    indexOfLetter = alphabet.find(text[i]) # returns index of value\n",
        "    newString += alphabet[~indexOfLetter]\n",
        "return newString"
      ],
      "execution_count": null,
      "outputs": []
    },
    {
      "cell_type": "code",
      "metadata": {
        "id": "rnvY2T_4cvYj"
      },
      "source": [
        "abc = list(abc)\n",
        "flip_dict = {}\n",
        "\n",
        "for index, value in enumberate(abc):\n",
        "    flip_dict[value] = abc[-(index + 1)]\n",
        "return ''.join(map(str, [flip_dict[i] for i in text])) # list to string"
      ],
      "execution_count": null,
      "outputs": []
    },
    {
      "cell_type": "code",
      "metadata": {
        "id": "7yAOmE48d730",
        "outputId": "8f5807d3-67e7-4e0f-ee01-f47684b4f086",
        "colab": {
          "base_uri": "https://localhost:8080/",
          "height": 35
        }
      },
      "source": [
        "s = ['a','b','c']\n",
        "''.join(s)"
      ],
      "execution_count": 1,
      "outputs": [
        {
          "output_type": "execute_result",
          "data": {
            "application/vnd.google.colaboratory.intrinsic+json": {
              "type": "string"
            },
            "text/plain": [
              "'abc'"
            ]
          },
          "metadata": {
            "tags": []
          },
          "execution_count": 1
        }
      ]
    },
    {
      "cell_type": "code",
      "metadata": {
        "id": "907ABfBeeATV"
      },
      "source": [
        ""
      ],
      "execution_count": null,
      "outputs": []
    }
  ]
}