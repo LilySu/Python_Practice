{
  "nbformat": 4,
  "nbformat_minor": 0,
  "metadata": {
    "colab": {
      "name": "BinarySearch_Phone Number Permutations.ipynb",
      "provenance": [],
      "authorship_tag": "ABX9TyObXw5lFFa3YmPKHI29/4tW",
      "include_colab_link": true
    },
    "kernelspec": {
      "name": "python3",
      "display_name": "Python 3"
    }
  },
  "cells": [
    {
      "cell_type": "markdown",
      "metadata": {
        "id": "view-in-github",
        "colab_type": "text"
      },
      "source": [
        "<a href=\"https://colab.research.google.com/github/LilySu/Python_Practice/blob/master/BinarySearch_Phone_Number_Permutations.ipynb\" target=\"_parent\"><img src=\"https://colab.research.google.com/assets/colab-badge.svg\" alt=\"Open In Colab\"/></a>"
      ]
    },
    {
      "cell_type": "markdown",
      "metadata": {
        "id": "basK9UOlM0nI"
      },
      "source": [
        "Given a string digits containing 2 to 9 inclusive, return in sorted lexicographic order all possible strings it could represent when mapping to letters on a phone dialpad.\r\n",
        "\r\n",
        "These are the mappings on a phone dialpad:\r\n",
        "```\r\n",
        "| 2 | abc  |\r\n",
        "| 3 | def  |\r\n",
        "| 4 | ghi  |\r\n",
        "| 5 | jkl  |\r\n",
        "| 6 | mno  |\r\n",
        "| 7 | pqrs |\r\n",
        "| 8 | tuv  |\r\n",
        "| 9 | wxyz |\r\n",
        "Example 1\r\n",
        "Input\r\n",
        "digits = \"23\"\r\n",
        "Output\r\n",
        "[\"ad\", \"ae\", \"af\", \"bd\", \"be\", \"bf\", \"cd\", \"ce\", \"cf\"]\r\n",
        "```"
      ]
    },
    {
      "cell_type": "code",
      "metadata": {
        "id": "U-WwCuzRMxSt"
      },
      "source": [
        "from itertools import product\r\n",
        "\r\n",
        "class Solution:\r\n",
        "    def solve(self, digits):\r\n",
        "        mapp = {2: [\"a\",\"b\",\"c\"],\r\n",
        "                3: [\"d\",\"e\",\"f\"],\r\n",
        "                4: [\"g\",\"h\",\"i\"],\r\n",
        "                5: [\"j\",\"k\",\"l\"],\r\n",
        "                6: [\"m\",\"n\",\"o\"],\r\n",
        "                7: [\"p\",\"q\",\"r\",\"s\"],\r\n",
        "                8: [\"t\",\"u\",\"v\"],\r\n",
        "                9: [\"w\",\"x\",\"y\",\"z\"]}\r\n",
        "        sublists = []\r\n",
        "        for i in digits:\r\n",
        "            key = int(i)\r\n",
        "            sublists.append(mapp[key])\r\n",
        "        # print(sublists)\r\n",
        "        comb = list(product(*sublists))\r\n",
        "        result = []\r\n",
        "        for i in comb:\r\n",
        "            pstr = \"\"\r\n",
        "            for j in i:\r\n",
        "                pstr += j\r\n",
        "            result.append(pstr)\r\n",
        "        return result"
      ],
      "execution_count": null,
      "outputs": []
    },
    {
      "cell_type": "code",
      "metadata": {
        "id": "YyM-QUKnMs42"
      },
      "source": [
        "# solution from aadib\r\n",
        "# https://binarysearch.com/room/.../editorials/3451732\r\n",
        "\r\n",
        "\r\n",
        "class Solution:\r\n",
        "    def __init__(self):\r\n",
        "        self.mappings = {\r\n",
        "            \"2\": [\"a\", \"b\", \"c\"],\r\n",
        "            \"3\": [\"d\", \"e\", \"f\"],\r\n",
        "            \"4\": [\"g\", \"h\", \"i\"],\r\n",
        "            \"5\": [\"j\", \"k\", \"l\"],\r\n",
        "            \"6\": [\"m\", \"n\", \"o\"],\r\n",
        "            \"7\": [\"p\", \"q\", \"r\", \"s\"],\r\n",
        "            \"8\": [\"t\", \"u\", \"v\"],\r\n",
        "            \"9\": [\"w\", \"x\", \"y\", \"z\"],\r\n",
        "        }\r\n",
        "\r\n",
        "    def solve(self, digits):\r\n",
        "        if not digits:\r\n",
        "            return 0\r\n",
        "        words = []\r\n",
        "        for d in digits:\r\n",
        "            words.append(self.mappings[d])\r\n",
        "        product = itertools.product(*words)\r\n",
        "        product = [\"\".join(i) for i in product]\r\n",
        "        return product"
      ],
      "execution_count": null,
      "outputs": []
    },
    {
      "cell_type": "code",
      "metadata": {
        "id": "m5GeOGb8NQGy"
      },
      "source": [
        "\r\n",
        "\r\n",
        "from itertools import product\r\n",
        "\r\n",
        "class Solution:\r\n",
        "    def solve(self, digits):\r\n",
        "        mapp = {2: [\"a\",\"b\",\"c\"],\r\n",
        "                3: [\"d\",\"e\",\"f\"],\r\n",
        "                4: [\"g\",\"h\",\"i\"],\r\n",
        "                5: [\"j\",\"k\",\"l\"],\r\n",
        "                6: [\"m\",\"n\",\"o\"],\r\n",
        "                7: [\"p\",\"q\",\"r\",\"s\"],\r\n",
        "                8: [\"t\",\"u\",\"v\"],\r\n",
        "                9: [\"w\",\"x\",\"y\",\"z\"]}\r\n",
        "        sublists = []\r\n",
        "        for i in digits:\r\n",
        "            key = int(i)\r\n",
        "            sublists.append(mapp[key])\r\n",
        "        # print(sublists)\r\n",
        "        comb = list(product(*sublists))\r\n",
        "        result = [\"\".join(i) for i in comb]\r\n",
        "        # result = []\r\n",
        "        # for i in comb:\r\n",
        "        #     pstr = \"\"\r\n",
        "        #     for j in i:\r\n",
        "        #         pstr += j\r\n",
        "        #     result.append(pstr)\r\n",
        "        return result"
      ],
      "execution_count": null,
      "outputs": []
    }
  ]
}