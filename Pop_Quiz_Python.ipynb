{
  "nbformat": 4,
  "nbformat_minor": 0,
  "metadata": {
    "colab": {
      "name": "Pop_Quiz_Python.ipynb",
      "provenance": [],
      "include_colab_link": true
    },
    "kernelspec": {
      "name": "python3",
      "display_name": "Python 3"
    }
  },
  "cells": [
    {
      "cell_type": "markdown",
      "metadata": {
        "id": "view-in-github",
        "colab_type": "text"
      },
      "source": [
        "<a href=\"https://colab.research.google.com/github/LilySu/Python_Practice/blob/master/Pop_Quiz_Python.ipynb\" target=\"_parent\"><img src=\"https://colab.research.google.com/assets/colab-badge.svg\" alt=\"Open In Colab\"/></a>"
      ]
    },
    {
      "cell_type": "code",
      "metadata": {
        "colab": {
          "base_uri": "https://localhost:8080/"
        },
        "id": "J9rN7-713dSG",
        "outputId": "2626d880-8c7f-46a3-f87c-1e9589aa67ed"
      },
      "source": [
        "import random \r\n",
        "inputseg1 = input(\"\")\r\n",
        "setseg1 = set()\r\n",
        "scoreseg = 0\r\n",
        "quedictionary = {\r\n",
        "    1 : \"How much ocean territory does India occupy?\\n\\n(a) 70,560,000 square kilometers\\n(b) 90,000,000 square kilometers\\n(c) 100,000,000 square kilometers\\n(d) 23,400,000 square kilometers\\n\",\r\n",
        "    2 : \"How many countries does India border?\\n\\n(a) 7\\n(b) 12\\n(c) 20\\n(d) 18\\n\",\r\n",
        "    3 : \"Fourth question\", \r\n",
        "    4 : \"Fifth question\",\r\n",
        "    5 : \"Sixth question\"}\r\n",
        "ansdictionary = {\r\n",
        "    1 : \"Option A\",\r\n",
        "    2 : \"Option D\", \r\n",
        "    3 : \"c\", \r\n",
        "    4 : \"d\",\r\n",
        "    5 : \"a\", \r\n",
        "    6 : \"b\"}\r\n",
        "questions_displayed = 0\r\n",
        "while inputseg1 == \"/run\":\r\n",
        "  random_question_num = random.choice(list(quedictionary.keys()))\r\n",
        "  if random_question_num not in setseg1:\r\n",
        "    setseg1.add(random_question_num)\r\n",
        "    print(quedictionary[random_question_num])\r\n",
        "    user_answer = str(input())\r\n",
        "    if user_answer == ansdictionary[random_question_num]:\r\n",
        "      print(\"\\nCorrect!\")\r\n",
        "      scoreseg = scoreseg+1\r\n",
        "      print(\"\\nScore : \", scoreseg, \"\\n\\n\")\r\n",
        "    else:\r\n",
        "      print(\"\\nIncorrect!\")\r\n",
        "      print(\"\\nScore : \", scoreseg, \"\\n\\n\")\r\n",
        "    questions_displayed += 1"
      ],
      "execution_count": null,
      "outputs": [
        {
          "output_type": "stream",
          "text": [
            "/run\n",
            "How many countries does India border?\n",
            "\n",
            "(a) 7\n",
            "(b) 12\n",
            "(c) 20\n",
            "(d) 18\n",
            "\n",
            "Option D\n",
            "\n",
            "Correct!\n",
            "\n",
            "Score :  1 \n",
            "\n",
            "\n",
            "Fourth question\n",
            "d\n",
            "\n",
            "Incorrect!\n",
            "\n",
            "Score :  1 \n",
            "\n",
            "\n",
            "How much ocean territory does India occupy?\n",
            "\n",
            "(a) 70,560,000 square kilometers\n",
            "(b) 90,000,000 square kilometers\n",
            "(c) 100,000,000 square kilometers\n",
            "(d) 23,400,000 square kilometers\n",
            "\n",
            "Option A\n",
            "\n",
            "Correct!\n",
            "\n",
            "Score :  2 \n",
            "\n",
            "\n",
            "Fifth question\n",
            "a\n",
            "\n",
            "Incorrect!\n",
            "\n",
            "Score :  2 \n",
            "\n",
            "\n",
            "Sixth question\n"
          ],
          "name": "stdout"
        }
      ]
    },
    {
      "cell_type": "code",
      "metadata": {
        "colab": {
          "base_uri": "https://localhost:8080/"
        },
        "id": "1GXqh-iQEF0R",
        "outputId": "b384194a-f8f0-4ccb-9a49-5e91ec37015d"
      },
      "source": [
        "\r\n",
        "import random \r\n",
        "inputseg1 = input(\"Enter a number from 1 to 6 ^_^ \")\r\n",
        "my_set = set()\r\n",
        "quedictionary = {\r\n",
        "    1 : \"How much ocean territory does India occupy?\\n\\n(a) 70,560,000 square kilometers\\n(b) 90,000,000 square kilometers\\n(c) 100,000,000 square kilometers\\n(d) 23,400,000 square kilometers\",\r\n",
        "    2 : \"How many countries does India border?\\n\\n(a) 7\\n(b) 12\\n(c) 20\\n(d) 18\",\r\n",
        "    3 : \"Fourth question\", \r\n",
        "    4 : \"Fifth question\",\r\n",
        "    5 : \"Sixth question\"\r\n",
        "    }\r\n",
        "questions_displayed = 0\r\n",
        "while questions_displayed < user_input:\r\n",
        "  random_question_num = random.choice(list(quedictionary.keys()))\r\n",
        "  if random_question_num not in my_set:\r\n",
        "    my_set.add(random_question_num)\r\n",
        "    print(quedictionary[random_question_num])\r\n",
        "    questions_displayed += 1\r\n",
        "inputseg2 = input(\"\")\r\n",
        "if quedictionary[random_question_num] == quedictionary[1] and inputseg2 == \"2\":\r\n",
        "  print(\"good\")"
      ],
      "execution_count": null,
      "outputs": [
        {
          "output_type": "stream",
          "text": [
            "Enter a number from 1 to 6 ^_^ 3\n",
            "Fourth question\n",
            "Sixth question\n",
            "Fifth question\n",
            "2\n"
          ],
          "name": "stdout"
        }
      ]
    },
    {
      "cell_type": "code",
      "metadata": {
        "id": "u5HccGI9cRnt"
      },
      "source": [
        "#from schoolman:\r\n",
        "\r\n",
        "class Question(object):\r\n",
        "  def __init__(self, question=\"\", choices=tuple, choice=int, correctAns=int):\r\n",
        "    self.question = question\r\n",
        "    self.choices = choices\r\n",
        "    self.choice = choice\r\n",
        "    self.correctAns = correctAns\r\n",
        "\r\n",
        "  def printQuestion(self):\r\n",
        "    print(self.question)\r\n",
        "  \r\n",
        "  def printChoices(self):\r\n",
        "    for i, item in enumerate(self.choices, 1)\r\n",
        "      print(f\"{i}: {item} \")\r\n",
        "\r\n",
        "  def chooseAnswer(self, choice=int):\r\n",
        "    self.choice = choice\r\n",
        "    \r\n",
        "  def checkAnswer(self):\r\n",
        "    if (self.choice == self.correctAns):\r\n",
        "      print(\"You're smart!\")\r\n",
        "    else: \r\n",
        "      print(\"Sorry, try again.\") "
      ],
      "execution_count": null,
      "outputs": []
    }
  ]
}