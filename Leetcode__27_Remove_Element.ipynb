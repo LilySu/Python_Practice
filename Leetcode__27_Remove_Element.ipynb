{
  "nbformat": 4,
  "nbformat_minor": 0,
  "metadata": {
    "colab": {
      "name": "Leetcode_#27_Remove_Element.ipynb",
      "provenance": [],
      "collapsed_sections": [],
      "authorship_tag": "ABX9TyNltMMFfBgvyVC3EWU1wzIF",
      "include_colab_link": true
    },
    "kernelspec": {
      "name": "python3",
      "display_name": "Python 3"
    }
  },
  "cells": [
    {
      "cell_type": "markdown",
      "metadata": {
        "id": "view-in-github",
        "colab_type": "text"
      },
      "source": [
        "<a href=\"https://colab.research.google.com/github/LilySu/Python_Practice/blob/master/Leetcode__27_Remove_Element.ipynb\" target=\"_parent\"><img src=\"https://colab.research.google.com/assets/colab-badge.svg\" alt=\"Open In Colab\"/></a>"
      ]
    },
    {
      "cell_type": "markdown",
      "metadata": {
        "id": "fDXA6y49Vu24",
        "colab_type": "text"
      },
      "source": [
        "\n",
        "Given an array nums and a value val, remove all instances of that value in-place and return the new length.\n",
        "\n",
        "Do not allocate extra space for another array, you must do this by modifying the input array in-place with O(1) extra memory.\n",
        "\n",
        "The order of elements can be changed. It doesn't matter what you leave beyond the new length.\n",
        "```\n",
        "Example 1:\n",
        "\n",
        "Given nums = [3,2,2,3], val = 3,\n",
        "\n",
        "Your function should return length = 2, with the first two elements of nums being 2.\n",
        "\n",
        "It doesn't matter what you leave beyond the returned length.\n",
        "Example 2:\n",
        "\n",
        "Given nums = [0,1,2,2,3,0,4,2], val = 2,\n",
        "\n",
        "Your function should return length = 5, with the first five elements of nums containing 0, 1, 3, 0, and 4.\n",
        "```\n",
        "Note that the order of those five elements can be arbitrary.\n",
        "\n",
        "It doesn't matter what values are set beyond the returned length.\n",
        "Clarification:\n",
        "\n",
        "Confused why the returned value is an integer but your answer is an array?\n",
        "\n",
        "Note that the input array is passed in by reference, which means modification to the input array will be known to the caller as well.\n",
        "\n",
        "Internally you can think of this:\n",
        "```\n",
        "// nums is passed in by reference. (i.e., without making a copy)\n",
        "int len = removeElement(nums, val);\n",
        "\n",
        "// any modification to nums in your function would be known by the caller.\n",
        "// using the length returned by your function, it prints the first len elements.\n",
        "for (int i = 0; i < len; i++) {\n",
        "    print(nums[i]);\n",
        "}\n",
        "```"
      ]
    },
    {
      "cell_type": "code",
      "metadata": {
        "id": "09S_yHMDVmuS",
        "colab_type": "code",
        "colab": {}
      },
      "source": [
        "class Solution(object):\n",
        "    def removeElement(self, nums, val):\n",
        "        \"\"\"\n",
        "        :type nums: List[int]\n",
        "        :type val: int\n",
        "        :rtype: int\n",
        "        \"\"\"\n",
        "\n",
        "[3,2,2,3]\n",
        "3"
      ],
      "execution_count": null,
      "outputs": []
    },
    {
      "cell_type": "code",
      "metadata": {
        "id": "KtZaCrEpx0B4",
        "colab_type": "code",
        "colab": {
          "base_uri": "https://localhost:8080/",
          "height": 34
        },
        "outputId": "394e1d23-5a09-4307-993a-b2ce85f30ecf"
      },
      "source": [
        "nums = [3,2,2,3]\n",
        "val = 3\n",
        "\n",
        "len([x for x in nums if x != val])"
      ],
      "execution_count": 5,
      "outputs": [
        {
          "output_type": "execute_result",
          "data": {
            "text/plain": [
              "2"
            ]
          },
          "metadata": {
            "tags": []
          },
          "execution_count": 5
        }
      ]
    },
    {
      "cell_type": "code",
      "metadata": {
        "id": "-I8mkCZTyEhs",
        "colab_type": "code",
        "colab": {
          "base_uri": "https://localhost:8080/",
          "height": 34
        },
        "outputId": "88e58d3b-bf59-43c7-b955-efa80cec5d65"
      },
      "source": [
        "[x for x in nums if x != val]"
      ],
      "execution_count": 6,
      "outputs": [
        {
          "output_type": "execute_result",
          "data": {
            "text/plain": [
              "[2, 2]"
            ]
          },
          "metadata": {
            "tags": []
          },
          "execution_count": 6
        }
      ]
    },
    {
      "cell_type": "code",
      "metadata": {
        "id": "TzB6bBtKyfxE",
        "colab_type": "code",
        "colab": {}
      },
      "source": [
        "class Solution(object):\n",
        "    def removeElement(self, nums, val):\n",
        "        \"\"\"\n",
        "        :type nums: List[int]\n",
        "        :type val: int\n",
        "        :rtype: int\n",
        "        \"\"\"\n",
        "        i = 0\n",
        "        n = len(nums)\n",
        "        while i < n:\n",
        "            if nums[i] == val:\n",
        "                nums[i] = nums[n-1] # swap current one for last one and dispose\n",
        "                n -= 1\n",
        "            else:\n",
        "                i += 1\n",
        "        return n"
      ],
      "execution_count": null,
      "outputs": []
    }
  ]
}