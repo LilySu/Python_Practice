{
  "nbformat": 4,
  "nbformat_minor": 0,
  "metadata": {
    "colab": {
      "name": "BinarySearch_The_Connell_sequence",
      "provenance": [],
      "authorship_tag": "ABX9TyOPv6SzQScFs60NgB2qVD4Q",
      "include_colab_link": true
    },
    "kernelspec": {
      "name": "python3",
      "display_name": "Python 3"
    }
  },
  "cells": [
    {
      "cell_type": "markdown",
      "metadata": {
        "id": "view-in-github",
        "colab_type": "text"
      },
      "source": [
        "<a href=\"https://colab.research.google.com/github/LilySu/Python_Practice/blob/master/BinarySearch_The_Connell_sequence.ipynb\" target=\"_parent\"><img src=\"https://colab.research.google.com/assets/colab-badge.svg\" alt=\"Open In Colab\"/></a>"
      ]
    },
    {
      "cell_type": "markdown",
      "metadata": {
        "id": "6Y-7kxR0Mduv"
      },
      "source": [
        "Connell sequence\n",
        "The Connell sequence is a sequence made by:\n",
        "\n",
        "Taking the first odd integer: 1\n",
        "Taking the next two even integers 2, 4\n",
        "Taking the next three odd integers 5, 7, 9\n",
        "Taking the next four even integers 10, 12, 14, 16\n",
        "And so on.\n",
        "Given an integer n, return the nth (0-indexed) term of this sequence.\n",
        "```\n",
        "Constraints\n",
        "\n",
        "n ≤ 10000\n",
        "Example 1\n",
        "Input\n",
        "\n",
        "n = 2\n",
        "Output\n",
        "\n",
        "4\n",
        "Explanation\n",
        "\n",
        "The sequence starts with [1, 2, 4]\n",
        "```"
      ]
    },
    {
      "cell_type": "code",
      "metadata": {
        "id": "vY_PYIDSMcIa"
      },
      "source": [
        "# implementation heavy\n",
        "class Solution:\n",
        "    def solve(self, n):\n",
        "        upuntil = []\n",
        "        coun = 0\n",
        "        lnum = 0\n",
        "        while coun < n:\n",
        "            if coun % 2 == 0:\n",
        "                while len(upuntil) != coun:\n",
        "                    up = coun\n",
        "                    if up % 2 == 0:\n",
        "                        upuntil.append(up)\n",
        "                    up += 1\n",
        "                lnum = upuntil[-1]\n",
        "                upuntil = []\n",
        "            else:\n",
        "                while len(upuntil) != coun:\n",
        "                    up = coun\n",
        "                    if up % 2 != 0:\n",
        "                        upuntil.append(up)\n",
        "                    up += 1\n",
        "                lnum = upuntil[-1]\n",
        "                upuntil = []\n",
        "            coun += 1\n",
        "        return lnum"
      ],
      "execution_count": null,
      "outputs": []
    }
  ]
}