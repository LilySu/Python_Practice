{
  "nbformat": 4,
  "nbformat_minor": 0,
  "metadata": {
    "colab": {
      "name": "BinarySearch_Practice_03-12-21.ipynb",
      "provenance": [],
      "authorship_tag": "ABX9TyNCTQwl4ynzqH5JSYJ372RE",
      "include_colab_link": true
    },
    "kernelspec": {
      "name": "python3",
      "display_name": "Python 3"
    }
  },
  "cells": [
    {
      "cell_type": "markdown",
      "metadata": {
        "id": "view-in-github",
        "colab_type": "text"
      },
      "source": [
        "<a href=\"https://colab.research.google.com/github/LilySu/Python_Practice/blob/master/BinarySearch_Practice_03_12_21.ipynb\" target=\"_parent\"><img src=\"https://colab.research.google.com/assets/colab-badge.svg\" alt=\"Open In Colab\"/></a>"
      ]
    },
    {
      "cell_type": "markdown",
      "metadata": {
        "id": "hlVGUMFs9vS4"
      },
      "source": [
        "Column Sort\r\n",
        "Given a two-dimensional integer matrix, sort each of the columns in ascending order.\r\n",
        "```\r\n",
        "Constraints\r\n",
        "\r\n",
        "n, m ≤ 250 where n and m are the number of rows and columns in matrix\r\n",
        "Example 1\r\n",
        "Input\r\n",
        "matrix = [\r\n",
        "    [10, 20, 30],\r\n",
        "    [5, 5, 3],\r\n",
        "    [0, 10, 7]\r\n",
        "]\r\n",
        "Output\r\n",
        "[\r\n",
        "    [0, 5, 3],\r\n",
        "    [5, 10, 7],\r\n",
        "    [10, 20, 30]\r\n",
        "]\r\n",
        "```"
      ]
    },
    {
      "cell_type": "code",
      "metadata": {
        "id": "v2_VKYyW9iKV"
      },
      "source": [
        "class Solution:\r\n",
        "    def solve(self, matrix):\r\n",
        "        for i in len(matrix[0]):\r\n",
        "            for j in len(matrix):"
      ],
      "execution_count": null,
      "outputs": []
    }
  ]
}