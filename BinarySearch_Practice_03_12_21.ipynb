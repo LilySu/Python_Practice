{
  "nbformat": 4,
  "nbformat_minor": 0,
  "metadata": {
    "colab": {
      "name": "BinarySearch_Practice_03-12-21.ipynb",
      "provenance": [],
      "authorship_tag": "ABX9TyM76fEhG8ffuFHLqdt74F1b",
      "include_colab_link": true
    },
    "kernelspec": {
      "name": "python3",
      "display_name": "Python 3"
    }
  },
  "cells": [
    {
      "cell_type": "markdown",
      "metadata": {
        "id": "view-in-github",
        "colab_type": "text"
      },
      "source": [
        "<a href=\"https://colab.research.google.com/github/LilySu/Python_Practice/blob/master/BinarySearch_Practice_03_12_21.ipynb\" target=\"_parent\"><img src=\"https://colab.research.google.com/assets/colab-badge.svg\" alt=\"Open In Colab\"/></a>"
      ]
    },
    {
      "cell_type": "markdown",
      "metadata": {
        "id": "hlVGUMFs9vS4"
      },
      "source": [
        "Column Sort\n",
        "Given a two-dimensional integer matrix, sort each of the columns in ascending order.\n",
        "```\n",
        "Constraints\n",
        "\n",
        "n, m ≤ 250 where n and m are the number of rows and columns in matrix\n",
        "Example 1\n",
        "Input\n",
        "matrix = [\n",
        "    [10, 20, 30],\n",
        "    [5, 5, 3],\n",
        "    [0, 10, 7]\n",
        "]\n",
        "Output\n",
        "[\n",
        "    [0, 5, 3],\n",
        "    [5, 10, 7],\n",
        "    [10, 20, 30]\n",
        "]\n",
        "```"
      ]
    },
    {
      "cell_type": "code",
      "metadata": {
        "id": "v2_VKYyW9iKV"
      },
      "source": [
        "class Solution:\n",
        "    def solve(self, matrix):\n",
        "        res = []\n",
        "        re = []\n",
        "        for i in range(len(matrix[0])):\n",
        "            new = []\n",
        "            for j in range(len(matrix)):\n",
        "                new.append(matrix[j][i])\n",
        "            # print(new)\n",
        "            new = sorted(new)\n",
        "            res.append(new)\n",
        "        for row in range(len(res[0])):\n",
        "            ro = []\n",
        "            for col in range(len(res)):\n",
        "                ro.append(res[col][row])\n",
        "            re.append(ro)\n",
        "        return re"
      ],
      "execution_count": null,
      "outputs": []
    },
    {
      "cell_type": "markdown",
      "metadata": {
        "id": "7gMEN3_p_oNT"
      },
      "source": [
        "Add One to List\n",
        "You are given a list of integers nums, representing a decimal number and nums[i] is between [0, 9].\n",
        "```\n",
        "For example, [1, 3, 9] represents the number 139.\n",
        "\n",
        "Return the same list in the same representation except modified so that 1 is added to the number.\n",
        "\n",
        "Constraints\n",
        "\n",
        "1 ≤ n ≤ 100,000 where n is the length of nums.\n",
        "Example 1\n",
        "Input\n",
        "nums = [1, 9, 1]\n",
        "Output\n",
        "[1, 9, 2]\n",
        "Example 2\n",
        "Input\n",
        "nums = [9]\n",
        "Output\n",
        "[1, 0]\n",
        "```"
      ]
    },
    {
      "cell_type": "code",
      "metadata": {
        "id": "lvhTr61u_kcF"
      },
      "source": [
        "class Solution:\n",
        "    def solve(self, nums):\n",
        "        stri = \"\"\n",
        "        stri = stri.join([str(num) for num in nums])\n",
        "        res = str(int(stri) + 1)\n",
        "        return [int(r) for r in res]"
      ],
      "execution_count": null,
      "outputs": []
    },
    {
      "cell_type": "markdown",
      "metadata": {
        "id": "4ZtvfcC6b9xa"
      },
      "source": [
        "Given a list of integers nums, return the minimum cost of sorting the list in ascending or descending order. The cost is defined as the sum of absolute differences between any element's old and new value.\n",
        "\n",
        "Constraints\n",
        "```\n",
        "n ≤ 100,000 where n is the length of nums\n",
        "Example 1\n",
        "Input\n",
        "nums = [1, 4, 3]\n",
        "Output\n",
        "2\n",
        "Explanation\n",
        "The cost to change the list to ascending order is 2:\n",
        "\n",
        "Change 4 to 3 for a cost of 1\n",
        "Change 3 to 4 for a cost of 1\n",
        "Example 2\n",
        "Input\n",
        "nums = [7, 3, 5]\n",
        "Output\n",
        "4\n",
        "Explanation\n",
        "The cost to change the list to descending order is 4:\n",
        "\n",
        "Change 3 to 5 for a cost of 2\n",
        "\n",
        "Change 5 to 3 for a cost of 2\n",
        "```"
      ]
    },
    {
      "cell_type": "code",
      "metadata": {
        "id": "ZDZ7uf9Ub6rE"
      },
      "source": [
        "from itertools import groupby\n",
        "class Solution:\n",
        "    def solve(self, nums):\n",
        "        # groups = []\n",
        "        # for i, j in groupby(nums):\n",
        "        #     groups.append(list(j))\n",
        "        # return groups\n",
        "        return [list(j) for i,j in groupby(nums)]"
      ],
      "execution_count": null,
      "outputs": []
    },
    {
      "cell_type": "markdown",
      "metadata": {
        "id": "rDYTtu7SVlRD"
      },
      "source": [
        "Given a list of strings sentence where each sentence[i] is a string with single character, reverse the order of the words in the sentence.\n",
        "\n",
        "You may assume there's no extraneous spaces in the sentence. Can you do modify sentence in-place and solve in \\mathcal{O}(1)O(1) space?\n",
        "\n",
        "Constraints\n",
        "```\n",
        "n ≤ 10,000 where n is the length of sentence.\n",
        "Example 1\n",
        "Input\n",
        "sentence = [\"h\", \"i\", \" \", \"w\", \"o\", \"r\", \"l\", \"d\"]\n",
        "Output\n",
        "[\"w\", \"o\", \"r\", \"l\", \"d\", \" \", \"h\", \"i\"]\n",
        "```"
      ]
    },
    {
      "cell_type": "code",
      "metadata": {
        "id": "Qgf847oWViMB"
      },
      "source": [
        "class Solution:\n",
        "    def solve(self, sentence):\n",
        "        strr = \"\"\n",
        "        for i in sentence:\n",
        "            strr += i\n",
        "        strr = list(strr.split(\" \"))\n",
        "        new = \" \".join(strr[::-1])\n",
        "        return [i for i in new]"
      ],
      "execution_count": null,
      "outputs": []
    },
    {
      "cell_type": "markdown",
      "metadata": {
        "id": "JIam-1l-qpe_"
      },
      "source": [
        "Implement a hash table with the following methods:\n",
        "\n",
        "HashTable() constructs a new instance of a hash table\n",
        "put(int key, int val) updates the hash table such that key maps to val\n",
        "get(int key) returns the value associated with key. If there is no such key, then return -1.\n",
        "remove(int key) removes both the key and the value associated with it in the hash table.\n",
        "This should be implemented without using built-in hash table.\n",
        "\n",
        "Constraints\n",
        "\n",
        "n ≤ 100,000 where n is the number of calls to put, get and remove\n",
        "```\n",
        "Example 1\n",
        "Input\n",
        "methods = [\"constructor\", \"put\", \"get\", \"remove\", \"get\"]\n",
        "arguments = [[], [1, 10], [1], [1], [1]]`\n",
        "Output\n",
        "[None, None, 10, None, -1]\n",
        "```"
      ]
    },
    {
      "cell_type": "code",
      "metadata": {
        "id": "kRvvxeg5qonr"
      },
      "source": [
        "class HashTable:\n",
        "    def __init__(self):\n",
        "        self.arr = {}\n",
        "\n",
        "    def put(self, key, val):\n",
        "        self.arr[key] = val\n",
        "        \n",
        "\n",
        "    def get(self, key):\n",
        "        if key in self.arr:\n",
        "            return self.arr[key]\n",
        "        return -1\n",
        "        \n",
        "\n",
        "    def remove(self, key):\n",
        "        if key in self.arr:\n",
        "            del self.arr[key]"
      ],
      "execution_count": null,
      "outputs": []
    },
    {
      "cell_type": "markdown",
      "metadata": {
        "id": "mhyH-JdIQ5Bs"
      },
      "source": [
        "Word Formation\n",
        "Given a list of strings words and a string letters, return the length of longest string in words that can be made from letters in letters. If no word can be made, return 0.\n",
        "\n",
        "Note that you can't reuse letters.\n",
        "\n",
        "Constraints\n",
        "```\n",
        "n ≤ 10,000 where n is the length of words\n",
        "m ≤ 1,000 where m is the length of letters\n",
        "Example 1\n",
        "Input\n",
        "words = [\"the\", \"word\", \"love\", \"scott\", \"finder\", \"dictionary\"]\n",
        "letters = \"fanierdow\"\n",
        "Output\n",
        "6\n",
        "Explanation\n",
        "We can make the word finder out of our letters, which has the longest length of 6.\n",
        "\n",
        "Example 2\n",
        "Input\n",
        "words = [\"credit\", \"nirvana\", \"karma\", \"empathy\", \"hang\", \"aaaaaaaaa\"]\n",
        "letters = \"afnvlfkm\"\n",
        "Output\n",
        "0\n",
        "Explanation\n",
        "We can't make any of these words with the letters we have.\n",
        "```\n",
        "WIP"
      ]
    },
    {
      "cell_type": "code",
      "metadata": {
        "id": "ehsnz0UhQ4rR"
      },
      "source": [
        "class Solution:\n",
        "    def solve(self, words, letters):\n",
        "        maxx = 0\n",
        "        flag = False\n",
        "        for word in words:\n",
        "            a = word\n",
        "            counter = 0\n",
        "            for i in letters:\n",
        "                if i in word:\n",
        "                    a = a.replace(i, '')\n",
        "                    print(a)\n",
        "                    counter += 1\n",
        "                    if len(a) == 0:\n",
        "                        flag = True\n",
        "                        maxx = max(maxx, counter)\n",
        "        if flag == True:\n",
        "            return maxx\n",
        "        else:\n",
        "            return 0"
      ],
      "execution_count": null,
      "outputs": []
    },
    {
      "cell_type": "markdown",
      "metadata": {
        "id": "0R24XcM8e6ZN"
      },
      "source": [
        "Removing Triple Successive Duplicates\n",
        "Given a string s containing \"0\"s and \"1\"s, consider an operation where you pick a character and toggle its value from \"0\" to \"1\" or from \"1\" to \"0\". Return the minimum number of operations required to obtain a string containing no instances of three identical consecutive characters.\n",
        "\n",
        "Constraints\n",
        "```\n",
        "0 ≤ n ≤ 100,000 where n is the length of s\n",
        "Example 1\n",
        "Input\n",
        "s = \"1100011\"\n",
        "Output\n",
        "1\n",
        "Explanation\n",
        "We can toggle the middle \"0\" to a \"1\".\n",
        "\n",
        "Example 2\n",
        "Input\n",
        "s = \"0001000\"\n",
        "Output\n",
        "2\n",
        "Explanation\n",
        "We can toggle the first and the last characters to get \"1001001\"\n",
        "```"
      ]
    },
    {
      "cell_type": "code",
      "metadata": {
        "id": "WdS1yG1Te57S"
      },
      "source": [
        "from collections import Counter\n",
        "\n",
        "class Solution:\n",
        "    def solve(self, s):\n",
        "        for i in range(len(s)- 2):\n",
        "            if s[i] == s[i + 1] == s[i + 2]:\n",
        "                s[i + 2] "
      ],
      "execution_count": null,
      "outputs": []
    },
    {
      "cell_type": "markdown",
      "metadata": {
        "id": "FTjsdIJTXWfi"
      },
      "source": [
        "Insert Into Linked List\n",
        "You are given a singly linked list head as well as integers pos and val. Insert a new node with value val before index pos of head.\n",
        "\n",
        "Constraints\n",
        "```\n",
        "1 ≤ n ≤ 100,000 where n is the number of nodes in head\n",
        "0 ≤ pos ≤ n\n",
        "Example 1\n",
        "Input\n",
        "Visualize\n",
        "head = [1, 3, 5, 7]\n",
        "pos = 2\n",
        "val = 9\n",
        "Output\n",
        "Visualize\n",
        "[1, 3, 9, 5, 7]\n",
        "Example 2\n",
        "Input\n",
        "Visualize\n",
        "head = [1]\n",
        "pos = 0\n",
        "val = 3\n",
        "Output\n",
        "Visualize\n",
        "[3, 1]\n",
        "Example 3\n",
        "Input\n",
        "Visualize\n",
        "head = [2]\n",
        "pos = 1\n",
        "val = 5\n",
        "Output\n",
        "Visualize\n",
        "[2, 5]\n",
        "```"
      ]
    },
    {
      "cell_type": "code",
      "metadata": {
        "id": "790L8O083lPs"
      },
      "source": [
        "# class LLNode:\n",
        "#     def __init__(self, val, next=None):\n",
        "#         self.val = val\n",
        "#         self.next = next\n",
        "class Solution:\n",
        "    def solve(self, head, pos, val):\n",
        "        counter = 0\n",
        "        p = head\n",
        "        if pos == 0:\n",
        "            newNode = LLNode(val, head)\n",
        "            return newNode\n",
        "        while p and pos != 1:\n",
        "            p = p.next\n",
        "            counter += 1\n",
        "        newNode = LLNode(val, p.next)\n",
        "        p.next = newNode\n",
        "        return head\n",
        "\n",
        "# class LLNode:\n",
        "#     def __init__(self, val, next=None):\n",
        "#         self.val = val\n",
        "#         self.next = next\n",
        "class Solution:\n",
        "    def solve(self, head, pos, val):\n",
        "        new = LLNode(val)\n",
        "\n",
        "        if pos == 0:\n",
        "            new.next = head\n",
        "            return new\n",
        "\n",
        "        temp = head\n",
        "        while temp and pos != 1:\n",
        "            temp = temp.next\n",
        "            pos -= 1\n",
        "        new.next = temp.next\n",
        "        temp.next = new\n",
        "\n",
        "        return head"
      ],
      "execution_count": null,
      "outputs": []
    },
    {
      "cell_type": "code",
      "metadata": {
        "id": "kt9QZehDgphi"
      },
      "source": [
        "from itertools import groupby\n",
        "from collections import Counter\n",
        "\n",
        "def check_dups(x):\n",
        "    slice_list = []\n",
        "    dividedby = 3\n",
        "    slice_ = len(x)//3\n",
        "    for i in range(1, dividedby + 1):\n",
        "        slice_start = slice_ * i - dividedby\n",
        "        slice_end = slice_ * i\n",
        "#         print(x[slice_start:slice_end])\n",
        "        slice_list.append(x[slice_start:slice_end])\n",
        "    return len(Counter(slice_list)) == 1\n",
        "\n",
        "x = 'aaabbbccc'\n",
        "print(check_dups(x))\n",
        "# print([i[0] for i in groupby(slice_list)])\n",
        "# Counter(slice_list)"
      ],
      "execution_count": null,
      "outputs": []
    },
    {
      "cell_type": "code",
      "metadata": {
        "colab": {
          "base_uri": "https://localhost:8080/"
        },
        "id": "qnY_HubpjA8S",
        "outputId": "5cbfa385-d0ae-4747-e22d-91dd2e67594a"
      },
      "source": [
        "nums = [3, 1, 2, 2, 7]\n",
        "nums[2:]"
      ],
      "execution_count": null,
      "outputs": [
        {
          "output_type": "execute_result",
          "data": {
            "text/plain": [
              "[2, 2, 7]"
            ]
          },
          "metadata": {
            "tags": []
          },
          "execution_count": 2
        }
      ]
    },
    {
      "cell_type": "code",
      "metadata": {
        "colab": {
          "base_uri": "https://localhost:8080/",
          "height": 183
        },
        "id": "vB38xXurjGfT",
        "outputId": "13f0590f-4f52-40c2-80cc-f141b2890234"
      },
      "source": [
        "nums = nums.remove(7)\n",
        "nums"
      ],
      "execution_count": null,
      "outputs": [
        {
          "output_type": "error",
          "ename": "ValueError",
          "evalue": "ignored",
          "traceback": [
            "\u001b[0;31m---------------------------------------------------------------------------\u001b[0m",
            "\u001b[0;31mValueError\u001b[0m                                Traceback (most recent call last)",
            "\u001b[0;32m<ipython-input-7-cab050111760>\u001b[0m in \u001b[0;36m<module>\u001b[0;34m()\u001b[0m\n\u001b[0;32m----> 1\u001b[0;31m \u001b[0mnums\u001b[0m \u001b[0;34m=\u001b[0m \u001b[0mnums\u001b[0m\u001b[0;34m.\u001b[0m\u001b[0mremove\u001b[0m\u001b[0;34m(\u001b[0m\u001b[0;36m7\u001b[0m\u001b[0;34m)\u001b[0m\u001b[0;34m\u001b[0m\u001b[0;34m\u001b[0m\u001b[0m\n\u001b[0m\u001b[1;32m      2\u001b[0m \u001b[0mnums\u001b[0m\u001b[0;34m\u001b[0m\u001b[0;34m\u001b[0m\u001b[0m\n",
            "\u001b[0;31mValueError\u001b[0m: list.remove(x): x not in list"
          ]
        }
      ]
    },
    {
      "cell_type": "code",
      "metadata": {
        "id": "EDh-Rx7ZkCr3"
      },
      "source": [
        "class Solution:\n",
        "    def solve(self, nums):\n",
        "        counter = 0\n",
        "        for i in range(len(nums) - 1):\n",
        "            t = nums[i]\n",
        "            temp = nums.remove(t)\n",
        "            print(temp)\n",
        "            if nums[i] + 1 in temp:\n",
        "               counter += 1\n",
        "        return counter"
      ],
      "execution_count": null,
      "outputs": []
    },
    {
      "cell_type": "markdown",
      "metadata": {
        "id": "628OrBYYIyIJ"
      },
      "source": [
        "Missing Numbers From 1 to N\n",
        "You are given a list of integers nums of length n where all numbers in the list are from the interval [1, n][1,n] and some elements appear twice while others only once. Return all the numbers from [1, n][1,n] that are not in the list, sorted in ascending order.\n",
        "\n",
        "Can you do it in \\mathcal{O}(n)O(n) time, modify nums in-place and use \\mathcal{O}(1)O(1) additional space?\n",
        "\n",
        "Constraints\n",
        "```\n",
        "n ≤ 100,000 where n is the length of nums\n",
        "Example 1\n",
        "Input\n",
        "nums = [3, 3, 1, 1, 5, 5]\n",
        "Output\n",
        "[2, 4, 6]\n",
        "Explanation\n",
        "The list contains 6 elements so n = 6. So the numbers [2, 4, 6] are missing from [1, 6]\n",
        "\n",
        "```"
      ]
    },
    {
      "cell_type": "code",
      "metadata": {
        "id": "lCRaqW46It3e"
      },
      "source": [
        "class Solution:\n",
        "    def solve(self, nums):\n",
        "        maxx = max(nums)\n",
        "        minn = min(nums)\n",
        "        miss = []\n",
        "        for i in range(minn, maxx+2):\n",
        "            if i not in nums:\n",
        "                miss.append(i)\n",
        "        return [i[0] for i in groupby(miss)]"
      ],
      "execution_count": null,
      "outputs": []
    },
    {
      "cell_type": "markdown",
      "metadata": {
        "id": "OYxwYuwExHa8"
      },
      "source": [
        "City Blocks\n",
        "You are given a two-dimensional matrix of unique strings representing city blocks, and a list of strings blocks to visit. Given that you are sitting at block matrix[0][0], return the total Manhattan distance required to visit every block in order.\n",
        "\n",
        "Constraints```\n",
        "\n",
        "0 ≤ n * m ≤ 100,000 where n and m are the number of rows and columns in matrix\n",
        "Example 1\n",
        "Input\n",
        "matrix = [\n",
        "    [\"a\", \"b\", \"c\"],\n",
        "    [\"d\", \"e\", \"f\"],\n",
        "    [\"g\", \"h\", \"i\"]\n",
        "]\n",
        "blocks = [\"h\", \"b\", \"c\"]\n",
        "Output\n",
        "6\n",
        "Explanation\n",
        "\"h\" is 2 blocks south and 1 block east.\n",
        "\"b\" is 2 blocks north.\n",
        "\"c\" is 1 block east.\n",
        "Which adds up to 6.```"
      ]
    },
    {
      "cell_type": "code",
      "metadata": {
        "id": "0brt-iPVxGZL"
      },
      "source": [
        "class Solution:\n",
        "    def solve(self, matrix, blocks):\n",
        "        counter = 0\n",
        "        # for each step to take - left right or up down\n",
        "        # increment counter once\n",
        "        # save location"
      ],
      "execution_count": null,
      "outputs": []
    },
    {
      "cell_type": "markdown",
      "metadata": {
        "id": "3WilBRW13YVg"
      },
      "source": [
        "Run-Length Decoding\n",
        "Given a string s, consisting of digits and lowercase alphabet characters, that's a run-length encoded string, return its decoded version.\n",
        "\n",
        "Note: The original string is guaranteed not to have numbers in it.\n",
        "\n",
        "Constraints\n",
        "```\n",
        "0 ≤ n ≤ 100,000 where n is the length of s\n",
        "Example 1\n",
        "Input\n",
        "s = \"4a3b2c1d2a\"\n",
        "Output\n",
        "\"aaaabbbccdaa\"```"
      ]
    },
    {
      "cell_type": "code",
      "metadata": {
        "id": "lcBxFm0Z3XpT"
      },
      "source": [
        "class Solution:\n",
        "    def solve(self, s):\n",
        "        stresult = ''\n",
        "        for i in len(s - 1):\n",
        "            if isinstance(int(s[i]), int):\n",
        "                temp = int(i) * (s[i + 1])\n",
        "                stresult.append(temp)\n",
        "        if len(stresult) == 0:\n",
        "            return s\n",
        "        return stresult"
      ],
      "execution_count": null,
      "outputs": []
    },
    {
      "cell_type": "code",
      "metadata": {
        "id": "jg02qk-bFJJH"
      },
      "source": [
        "class Solution:\n",
        "    def solve(self, n, lower, upper):\n",
        "        new = []\n",
        "        for i in range(n + 1):\n",
        "            if i < upper and i > lower:\n",
        "                new.append(i)\n",
        "        return sorted(new)"
      ],
      "execution_count": null,
      "outputs": []
    },
    {
      "cell_type": "code",
      "metadata": {
        "id": "--VKzLQRPHeh"
      },
      "source": [
        "class Solution:\n",
        "    def solve(self, s, t):\n",
        "        newd = {}\n",
        "        if len(s) == len(t):\n",
        "            for i, j in zip(s, t):\n",
        "                if newd[i] and newd[i] != j:\n",
        "                    return False\n",
        "                else:\n",
        "                    newd[i] = j\n",
        "            return True"
      ],
      "execution_count": null,
      "outputs": []
    },
    {
      "cell_type": "markdown",
      "metadata": {
        "id": "N85mLBshRQ55"
      },
      "source": [
        "Tree with Distinct Parities\n",
        "Given a binary tree root, return the number of perfect nodes. A perfect node has two properties:\n",
        "\n",
        "Has both children\n",
        "The sum of one subtree is even and the sum of the other subtree is odd\n",
        "Constraints\n",
        "\n",
        "0 ≤ n ≤ 100,000 where n is the number of nodes in root\n",
        "Example 1\n",
        "Input\n",
        "Visualize\n",
        "root = [1, [5, null, null], [3, [4, null, null], [7, null, null]]]\n",
        "Output\n",
        "2\n",
        "Explanation\n",
        "Nodes 1 and 3 meet the criteria.\n",
        "\n",
        "Example 2\n",
        "Input\n",
        "Visualize\n",
        "root = [1, [2, [3, null, null], null], null]\n",
        "Output\n",
        "0\n",
        "Explanation\n",
        "No node has both a left and a right child."
      ]
    },
    {
      "cell_type": "code",
      "metadata": {
        "id": "Te_fMGKLRLVF"
      },
      "source": [
        "class Solution:\n",
        "    def solve(self, root):\n",
        "        ans = 0\n",
        "\n",
        "        def dfs(root): # depth first search keep track of left and right sums\n",
        "            nonlocal ans\n",
        "            if not root:\n",
        "                return 0\n",
        "            l = dfs(root.left)\n",
        "            r = dfs(root.right)\n",
        "            if root.left and root.right:\n",
        "                ans += ((l % 2) + (r % 2)) % 2 # checks if has two children\n",
        "            return root.val + l + r\n",
        "\n",
        "        dfs(root)\n",
        "        return ans\n",
        "\n",
        "# one of the subtree has even sum and the other has odd sum\n",
        "# ((l%2) + (r%2)) given the answer 0 when both are even or 2 when both are odd\n",
        "# therefore when we perform %2 we get 0 and hence we would not increment our answer\n",
        "\n",
        "# in all the other cases we would get 1 as the final answer and our ans variable will be incremented"
      ],
      "execution_count": null,
      "outputs": []
    },
    {
      "cell_type": "markdown",
      "metadata": {
        "id": "XnbH2edu1Zzi"
      },
      "source": [
        "Vertical Lines in Binary Tree\n",
        "Given a binary tree root, return the number of unique vertical lines that can be drawn such that every node has a line intersecting it. Each left child is angled at 45 degrees to its left, while the right child is angled at 45 degrees to the right.\n",
        "\n",
        "For example, root and root.left.right are on the same vertical line.\n",
        "\n",
        "Constraints\n",
        "\n",
        "1 ≤ n ≤ 100,000 where n is the number of nodes in root\n",
        "Example 1\n",
        "Input\n",
        "Visualize\n",
        "root = [1, [2, [3, null, null], null], [4, null, [5, null, null]]]\n",
        "Output\n",
        "5\n",
        "Explanation\n",
        "There's a unique vertical line over every node.\n",
        "\n",
        "Example 2\n",
        "Input\n",
        "Visualize\n",
        "root = [1, null, [2, null, [3, null, [4, null, null]]]]\n",
        "Output\n",
        "4"
      ]
    },
    {
      "cell_type": "code",
      "metadata": {
        "id": "tyrXzq61-3FL"
      },
      "source": [
        "# Minimum Stack\n",
        "\n",
        "class MinimumStack:\n",
        "    def __init__(self):\n",
        "        self.stack = []\n",
        "\n",
        "    def append(self, val):\n",
        "        min_elem = val if not self.stack else min(self.stack[-1][1], val)\n",
        "        self.stack.append((val, min_elem))\n",
        "\n",
        "    def peek(self):\n",
        "        return self.stack[-1][0]\n",
        "\n",
        "    def min(self):\n",
        "        return self.stack[-1][1]\n",
        "\n",
        "    def pop(self):\n",
        "        return self.stack.pop()[0]"
      ],
      "execution_count": null,
      "outputs": []
    },
    {
      "cell_type": "markdown",
      "metadata": {
        "id": "7txgWcn4IaW-"
      },
      "source": [
        "Complete an Arithmetic Sequence\n",
        "You are given a list of integers nums that used to be an arithmetic sequence. Given that a number was removed, and that the number was not the first or the last element, return the removed number.\n",
        "\n",
        "Constraints\n",
        "\n",
        "2 ≤ n ≤ 100,000\n",
        "Example 1\n",
        "Input\n",
        "nums = [1, 3, 5, 9]\n",
        "Output\n",
        "7\n",
        "Explanation\n",
        "If we add 7 in to this sequence, we get [1, 3, 5, 7, 9] which is an arithmetic sequence."
      ]
    },
    {
      "cell_type": "code",
      "metadata": {
        "id": "TLIFySNIIZ_S"
      },
      "source": [
        "class Solution:\n",
        "    def solve(self, nums):\n",
        "        l = []\n",
        "        if len(nums) > 1:\n",
        "            for i in range(1, len(nums)):\n",
        "                l.append(nums[i] - nums[i - 1])\n",
        "        dic = Counter(l)\n",
        "        # get the largest occurring item in dictionary\n",
        "        for item in dic.items():\n",
        "            print(item)\n",
        "        return l"
      ],
      "execution_count": null,
      "outputs": []
    },
    {
      "cell_type": "code",
      "metadata": {
        "id": "qGPblegNLoI8"
      },
      "source": [
        "# List Equality with Increments\n",
        "class Solution:\n",
        "    def solve(self, nums):\n",
        "        maxx = max(nums)\n",
        "        counter = 0\n",
        "        for num in nums:\n",
        "            counter += maxx - num\n",
        "        return counter"
      ],
      "execution_count": null,
      "outputs": []
    },
    {
      "cell_type": "code",
      "metadata": {
        "id": "zBXmfAHHUZIH"
      },
      "source": [
        "class Solution:\n",
        "    def solve(self, s0, s1):\n",
        "        s0 = s0.lower\n",
        "        s1 = s1.lower\n",
        "        common = set(dict(s0)) & set(dict(s1))\n",
        "        return common"
      ],
      "execution_count": null,
      "outputs": []
    },
    {
      "cell_type": "code",
      "metadata": {
        "id": "nQN8XDI3dJMA"
      },
      "source": [
        "# Median Minimization\n",
        "class Solution:\n",
        "    def solve(self, nums):\n",
        "        if len(nums) == 0:\n",
        "            return 0\n",
        "        l = []\n",
        "        for i in range(len(nums)):\n",
        "            last_slice = nums[i:]\n",
        "            last_slice = last_slice[1:]\n",
        "            if len(last_slice) >= 1:\n",
        "                diff = median(nums[:i+1]) - median(last_slice)\n",
        "                l.append(diff)\n",
        "        return min(l)"
      ],
      "execution_count": null,
      "outputs": []
    }
  ]
}