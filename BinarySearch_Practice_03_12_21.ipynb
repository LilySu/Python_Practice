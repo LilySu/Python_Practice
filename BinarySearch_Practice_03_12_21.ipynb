{
  "nbformat": 4,
  "nbformat_minor": 0,
  "metadata": {
    "colab": {
      "name": "BinarySearch_Practice_03-12-21.ipynb",
      "provenance": [],
      "authorship_tag": "ABX9TyPXB28ut0UdeTByldza2jvR",
      "include_colab_link": true
    },
    "kernelspec": {
      "name": "python3",
      "display_name": "Python 3"
    }
  },
  "cells": [
    {
      "cell_type": "markdown",
      "metadata": {
        "id": "view-in-github",
        "colab_type": "text"
      },
      "source": [
        "<a href=\"https://colab.research.google.com/github/LilySu/Python_Practice/blob/master/BinarySearch_Practice_03_12_21.ipynb\" target=\"_parent\"><img src=\"https://colab.research.google.com/assets/colab-badge.svg\" alt=\"Open In Colab\"/></a>"
      ]
    },
    {
      "cell_type": "markdown",
      "metadata": {
        "id": "hlVGUMFs9vS4"
      },
      "source": [
        "Column Sort\r\n",
        "Given a two-dimensional integer matrix, sort each of the columns in ascending order.\r\n",
        "```\r\n",
        "Constraints\r\n",
        "\r\n",
        "n, m ≤ 250 where n and m are the number of rows and columns in matrix\r\n",
        "Example 1\r\n",
        "Input\r\n",
        "matrix = [\r\n",
        "    [10, 20, 30],\r\n",
        "    [5, 5, 3],\r\n",
        "    [0, 10, 7]\r\n",
        "]\r\n",
        "Output\r\n",
        "[\r\n",
        "    [0, 5, 3],\r\n",
        "    [5, 10, 7],\r\n",
        "    [10, 20, 30]\r\n",
        "]\r\n",
        "```"
      ]
    },
    {
      "cell_type": "code",
      "metadata": {
        "id": "v2_VKYyW9iKV"
      },
      "source": [
        "class Solution:\r\n",
        "    def solve(self, matrix):\r\n",
        "        res = []\r\n",
        "        re = []\r\n",
        "        for i in range(len(matrix[0])):\r\n",
        "            new = []\r\n",
        "            for j in range(len(matrix)):\r\n",
        "                new.append(matrix[j][i])\r\n",
        "            # print(new)\r\n",
        "            new = sorted(new)\r\n",
        "            res.append(new)\r\n",
        "        for row in range(len(res[0])):\r\n",
        "            ro = []\r\n",
        "            for col in range(len(res)):\r\n",
        "                ro.append(res[col][row])\r\n",
        "            re.append(ro)\r\n",
        "        return re"
      ],
      "execution_count": null,
      "outputs": []
    },
    {
      "cell_type": "markdown",
      "metadata": {
        "id": "7gMEN3_p_oNT"
      },
      "source": [
        "Add One to List\r\n",
        "You are given a list of integers nums, representing a decimal number and nums[i] is between [0, 9].\r\n",
        "```\r\n",
        "For example, [1, 3, 9] represents the number 139.\r\n",
        "\r\n",
        "Return the same list in the same representation except modified so that 1 is added to the number.\r\n",
        "\r\n",
        "Constraints\r\n",
        "\r\n",
        "1 ≤ n ≤ 100,000 where n is the length of nums.\r\n",
        "Example 1\r\n",
        "Input\r\n",
        "nums = [1, 9, 1]\r\n",
        "Output\r\n",
        "[1, 9, 2]\r\n",
        "Example 2\r\n",
        "Input\r\n",
        "nums = [9]\r\n",
        "Output\r\n",
        "[1, 0]\r\n",
        "```"
      ]
    },
    {
      "cell_type": "code",
      "metadata": {
        "id": "lvhTr61u_kcF"
      },
      "source": [
        "class Solution:\r\n",
        "    def solve(self, nums):\r\n",
        "        stri = \"\"\r\n",
        "        stri = stri.join([str(num) for num in nums])\r\n",
        "        res = str(int(stri) + 1)\r\n",
        "        return [int(r) for r in res]"
      ],
      "execution_count": null,
      "outputs": []
    }
  ]
}