{
  "nbformat": 4,
  "nbformat_minor": 0,
  "metadata": {
    "colab": {
      "name": "BinarySearch_Practice_07-18-21.ipynb.ipynb",
      "provenance": [],
      "authorship_tag": "ABX9TyMbSUR2l8+mUFN2vaJ+BqKS",
      "include_colab_link": true
    },
    "kernelspec": {
      "name": "python3",
      "display_name": "Python 3"
    },
    "language_info": {
      "name": "python"
    }
  },
  "cells": [
    {
      "cell_type": "markdown",
      "metadata": {
        "id": "view-in-github",
        "colab_type": "text"
      },
      "source": [
        "<a href=\"https://colab.research.google.com/github/LilySu/Python_Practice/blob/master/BinarySearch_Practice_07_18_21_ipynb.ipynb\" target=\"_parent\"><img src=\"https://colab.research.google.com/assets/colab-badge.svg\" alt=\"Open In Colab\"/></a>"
      ]
    },
    {
      "cell_type": "markdown",
      "metadata": {
        "id": "ff9kB363mzkg"
      },
      "source": [
        "```Given a list of integers prices representing the stock prices of a company in chronological order, return the maximum profit you could have made from buying and selling that stock once.\n",
        "\n",
        "You must buy before you can sell it.\n",
        "\n",
        "Note: You are not required to buy or sell the stock.\n",
        "\n",
        "Constraints\n",
        "\n",
        "n ≤ 100,000 where n is the length of prices\n",
        "Example 1\n",
        "Input\n",
        "prices = [9, 11, 8, 5, 7, 10]\n",
        "Output\n",
        "5\n",
        "Explanation\n",
        "You can buy at 5 and sell at 10.\n",
        "\n",
        "Example 2\n",
        "Input\n",
        "prices = [1, 2, 3, 4, 5, 6, 7, 8, 9]\n",
        "Output\n",
        "8\n",
        "Explanation\n",
        "You can buy at 1 and sell at 9.\n",
        "\n",
        "Example 3\n",
        "Input\n",
        "prices = [9, 8, 7, 6, 5, 4, 3, 2, 1]\n",
        "Output\n",
        "0\n",
        "Explanation\n",
        "The stock's only going down so we don't buy at all.\n",
        "```"
      ]
    },
    {
      "cell_type": "code",
      "metadata": {
        "id": "xgyIQ2e3f4Ad"
      },
      "source": [
        "class Solution:\n",
        "    def solve(self, prices):\n",
        "        maxx = 0\n",
        "        for i in range(len(prices)-1):\n",
        "            for j in range(i, len(prices)):\n",
        "                if prices[j] - prices[i] > 0:\n",
        "                    # print(f'{prices[j]}-{prices[i]}={prices[j] - prices[i]}')\n",
        "                    maxx = max(prices[j] - prices[i], maxx)\n",
        "        return maxx"
      ],
      "execution_count": null,
      "outputs": []
    },
    {
      "cell_type": "code",
      "metadata": {
        "id": "GqBNmgRIfZnz"
      },
      "source": [
        "class Solution:\n",
        "    def solve(self, prices):\n",
        "        if len(prices) == 0:\n",
        "            return 0\n",
        "        if len(prices) == 1:\n",
        "            [prices] = prices\n",
        "            return prices\n",
        "        maxx = 0\n",
        "        pdic = {}\n",
        "        test = {}\n",
        "        for i in range(len(prices)-1):\n",
        "            pdic[prices[i]] = max([prices[j] for j in range(i-1, len(prices))])\n",
        "            test[prices[i]] = [prices[j] for j in range(i, len(prices))]\n",
        "        print(test)\n",
        "        print(pdic)\n",
        "        maxx = max([value - key for key, value in pdic.items()])\n",
        "        if maxx < 0:\n",
        "            return 0\n",
        "        return maxx\n"
      ],
      "execution_count": null,
      "outputs": []
    },
    {
      "cell_type": "markdown",
      "metadata": {
        "id": "LjXEwM1yw6UA"
      },
      "source": [
        "You are given a string dictionary, representing a partial lexicographic ordering of ancient astronauts' dictionary. Given a string s, return whether it's a lexicographically sorted string according to this ancient astronaut dictionary.\n",
        "```\n",
        "Example 1\n",
        "Input\n",
        "dictionary = \"acb\"\n",
        "s = \"aaaa h ccc i bbb\"\n",
        "Output\n",
        "True\n",
        "Explanation\n",
        "The only constraint is that a comes before c which comes before b .\n",
        "\n",
        "Example 2\n",
        "Input\n",
        "dictionary = \"acb\"\n",
        "s = \"aaaacccbc\"\n",
        "Output\n",
        "False\n",
        "Explanation\n",
        "This is false because of the last c, which comes after b.```"
      ]
    },
    {
      "cell_type": "code",
      "metadata": {
        "id": "Y7_5U_2qxA5z"
      },
      "source": [
        "from itertools import groupby\n",
        "\n",
        "class Solution:\n",
        "    def solve(self, dictionary, s):\n",
        "        # check for individual cases of letters being in order\n",
        "        keys = []\n",
        "        for k, g, in itertools.groupby(s):\n",
        "            keys.append(k)\n",
        "        s_deduped = ''.join(keys)\n",
        "        smatch = \"\"\n",
        "        for let in s_deduped:\n",
        "            if let in dictionary:\n",
        "                smatch += let\n",
        "        if len(dictionary) == 0 or len(smatch) == 0:\n",
        "            return True\n",
        "        if dictionary == smatch:\n",
        "            return True\n",
        "        # if part of the dictionary matches, \n",
        "        if len(dictionary) > len(smatch):\n",
        "            return True\n",
        "        if dictionary != smatch:\n",
        "            return False\n"
      ],
      "execution_count": null,
      "outputs": []
    },
    {
      "cell_type": "markdown",
      "metadata": {
        "id": "W_3VEG_XxFRg"
      },
      "source": [
        "Given a list of numbers nums and a number k, return whether any two elements from the list add up to k. You may not use the same element twice.\n",
        "\n",
        "Note: Numbers can be negative or 0.\n",
        "\n",
        "Constraints\n",
        "```\n",
        "n ≤ 100,000 where n is the length of nums\n",
        "Example 1\n",
        "Input\n",
        "nums = [35, 8, 18, 3, 22]\n",
        "k = 11\n",
        "Output\n",
        "True\n",
        "Explanation\n",
        "8 + 3 = 11\n",
        "\n",
        "Example 2\n",
        "Input\n",
        "nums = [10, 36, 22, 14]\n",
        "k = 4\n",
        "Output\n",
        "False\n",
        "Explanation\n",
        "No two numbers in this list add up to 4.\n",
        "\n",
        "Example 3\n",
        "Input\n",
        "nums = [24, 10, 11, 4]\n",
        "k = 15\n",
        "Output\n",
        "True\n",
        "Explanation\n",
        "11 + 4 = 15\n",
        "\n",
        "Example 4\n",
        "Input\n",
        "nums = [-22, 22, -11, 11]\n",
        "k = 0\n",
        "Output\n",
        "True\n",
        "Explanation\n",
        "-11 + 11 = 0\n",
        "\n",
        "Example 5\n",
        "Input\n",
        "nums = [15, 0, 3, 2]\n",
        "k = 15\n",
        "Output\n",
        "True\n",
        "Explanation\n",
        "15 + 0 = 15```"
      ]
    },
    {
      "cell_type": "code",
      "metadata": {
        "id": "6zDalvLdVg60"
      },
      "source": [
        "class Solution:\n",
        "    def solve(self, nums, k):\n",
        "        for i in range(len(nums)):\n",
        "            for j in range(i+1, len(nums)):\n",
        "                if nums[i] + nums[j] == k:\n",
        "                    return True\n",
        "        return False"
      ],
      "execution_count": null,
      "outputs": []
    },
    {
      "cell_type": "code",
      "metadata": {
        "id": "n1Qe7PYWWZsJ"
      },
      "source": [
        "class Solution:\n",
        "    def solve(self, nums, k):\n",
        "        l = [nums[i] + nums[j] for i in range(len(nums)) for j in range(i+1, len(nums)) if nums[i] + nums[j] == k]\n",
        "        return len(l) > 0"
      ],
      "execution_count": null,
      "outputs": []
    },
    {
      "cell_type": "markdown",
      "metadata": {
        "id": "ZCVfbyUkWaeB"
      },
      "source": [
        "class Solution:\n",
        "    def solve(self, nums, k):\n",
        "        s = set()\n",
        "        for num in nums:\n",
        "            if k - num in s:\n",
        "                return True\n",
        "            s.add(num)\n",
        "        return False"
      ]
    },
    {
      "cell_type": "markdown",
      "metadata": {
        "id": "t_HtCyOgdxuJ"
      },
      "source": [
        "A rotation group for a string contains all of its unique rotations. For example, \"123\" can be rotated to \"231\" and \"312\" and they are all in the same rotation group.\n",
        "\n",
        "Given a list of strings words, group each word by their rotation group, and return the total number of groups.\n",
        "\n",
        "Constraints\n",
        "```\n",
        "n ≤ 200 where n is the length of words.\n",
        "Example 1\n",
        "Input\n",
        "words = [\"abc\", \"xy\", \"yx\", \"z\", \"bca\"]\n",
        "Output\n",
        "3\n",
        "Explanation\n",
        "There are three rotation groups:\n",
        "\n",
        "[\"abc\", \"bca\"]\n",
        "[\"xy\", \"yx\"]\n",
        "[\"z\"]```"
      ]
    },
    {
      "cell_type": "code",
      "metadata": {
        "id": "EKRs2QHrd1ha"
      },
      "source": [
        "from collections import Counter\n",
        "\n",
        "class Solution:\n",
        "    def solve(self, words):\n",
        "        l = []\n",
        "        counter = 0\n",
        "        # sort each, then groupby\n",
        "        for word in words:\n",
        "            so = \"\".join(sorted(word))\n",
        "            l.append(so)\n",
        "        print(l)\n",
        "        d = Counter(l)\n",
        "        print(d)\n",
        "        return len(d)"
      ],
      "execution_count": null,
      "outputs": []
    },
    {
      "cell_type": "markdown",
      "metadata": {
        "id": "37iikVTPmWyx"
      },
      "source": [
        "Task Run\n",
        "You are given a list of integers tasks where each different integer represents a different task type, and a non-negative integer k. Each task takes one unit of time to complete and each task must be done in order, but you must have k units of time between doing two tasks of the same type. At any time, you can be doing a task or waiting.\n",
        "\n",
        "Return the amount of time it takes to complete all the tasks.\n",
        "\n",
        "Constraints\n",
        "```\n",
        "n ≤ 100,000 where n is the length of tasks\n",
        "Example 1\n",
        "Input\n",
        "tasks = [0, 1, 0, 1]\n",
        "k = 2\n",
        "Output\n",
        "5\n",
        "Explanation\n",
        "The tasks get run the following way: [0, 1, wait, 0, 1]. Note that before running the second 0 task we must wait one unit to have 2 units of time before running it again. We can just run the second 1 task right away since it has already been 2 units of time since we last did task 1.\n",
        "\n",
        "Example 2\n",
        "Input\n",
        "tasks = [0, 0, 1, 1]\n",
        "k = 1\n",
        "Output\n",
        "6\n",
        "Explanation\n",
        "The tasks get run the following way: [0, wait, 0, 1, wait, 1].```"
      ]
    },
    {
      "cell_type": "code",
      "metadata": {
        "id": "DKsBgjRemayh"
      },
      "source": [
        "from collections import Counter\n",
        "\n",
        "class Solution:\n",
        "    def solve(self, tasks, k):\n",
        "        # for each unit of k\n",
        "        # put a 'wait' in between identical integers in tasks\n",
        "        # create a list, add k in between integers. \n",
        "        # pair 0, 1 or 1,0 together depending on which one comes first\n",
        "        if len(tasks) == 0:\n",
        "            return 0\n",
        "        # count 1,s and count 0's \n",
        "        tally = Counter(tasks)\n",
        "        # only consider the bigger tally. \n",
        "        maxx = max([tally[0], tally[1]])\n",
        "        # if maxx % 2 == 0:\n",
        "        #     return maxx + (maxx-1)\n",
        "        return maxx + k*(maxx-1)"
      ],
      "execution_count": null,
      "outputs": []
    },
    {
      "cell_type": "code",
      "metadata": {
        "id": "qINuN7wr4N7M"
      },
      "source": [
        "# actual solution\n",
        "from collections import Counter\n",
        "\n",
        "class Solution:\n",
        "    def solve(self, tasks, k):\n",
        "        last_times = {}\n",
        "        cur_time = 0\n",
        "        for j, task in enumerate(tasks):\n",
        "            if task in last_times and cur_time - last_times[task] <= k:\n",
        "                \n",
        "                wait_time = k - (cur_time - last_times[task]) + 1\n",
        "                cur_time += wait_time\n",
        "            last_times[task] = cur_time\n",
        "            cur_time += 1\n",
        "        return cur_time"
      ],
      "execution_count": null,
      "outputs": []
    },
    {
      "cell_type": "markdown",
      "metadata": {
        "id": "Q7L0oAsAxOvU"
      },
      "source": [
        "You are given a list of list of integers intervals where each element contains the inclusive interval [start, end].\n",
        "\n",
        "Return the most frequently occurring number in the intervals. If there are ties, return the smallest number.\n",
        "\n",
        "Constraints\n",
        "```\n",
        "n ≤ 100,000 where n is the length of intervals\n",
        "Example 1\n",
        "Input\n",
        "intervals = [\n",
        "    [1, 4],\n",
        "    [3, 5],\n",
        "    [6, 9],\n",
        "    [7, 9]\n",
        "]\n",
        "Output\n",
        "3\n",
        "Explanation\n",
        "The most frequent numbers are [3, 4, 7, 8, 9] and they all occur twice but 3 is the smallest one.```"
      ]
    },
    {
      "cell_type": "code",
      "metadata": {
        "colab": {
          "base_uri": "https://localhost:8080/"
        },
        "id": "qpwmaT9rwubM",
        "outputId": "aa231db0-654d-4fc1-844d-6b5b2169d1e9"
      },
      "source": [
        "class Solution:\n",
        "    def solve(self, intervals):\n",
        "        # create a Counter dictionary that tallies number of occurrences. \n",
        "        Counter = dict()\n",
        "        for incl in intervals:\n",
        "            for intr in range(incl[0], incl[1]+1):\n",
        "                if intr not in Counter:\n",
        "                    Counter[intr] = 1 \n",
        "                Counter[intr] += 1\n",
        "        return Counter"
      ],
      "execution_count": null,
      "outputs": [
        {
          "output_type": "stream",
          "text": [
            "0\n",
            "1\n",
            "2\n"
          ],
          "name": "stdout"
        }
      ]
    },
    {
      "cell_type": "markdown",
      "metadata": {
        "id": "pqtTHWhPv3AR"
      },
      "source": [
        "Insert Into Linked List\n",
        "Easy\n",
        "\n",
        "You are given a singly linked list head as well as integers pos and val. Insert a new node with value val before index pos of head.\n",
        "\n",
        "Constraints\n",
        "```\n",
        "1 ≤ n ≤ 100,000 where n is the number of nodes in head\n",
        "0 ≤ pos ≤ n\n",
        "Example 1\n",
        "Input\n",
        "Visualize\n",
        "head = [1, 3, 5, 7]\n",
        "pos = 2\n",
        "val = 9\n",
        "Output\n",
        "Visualize\n",
        "[1, 3, 9, 5, 7]\n",
        "Example 2\n",
        "Input\n",
        "Visualize\n",
        "head = [1]\n",
        "pos = 0\n",
        "val = 3\n",
        "Output\n",
        "Visualize\n",
        "[3, 1]\n",
        "Example 3\n",
        "Input\n",
        "Visualize\n",
        "head = [2]\n",
        "pos = 1\n",
        "val = 5\n",
        "Output\n",
        "Visualize\n",
        "[2, 5]```"
      ]
    },
    {
      "cell_type": "code",
      "metadata": {
        "id": "9ZjvAQ8hww9C"
      },
      "source": [
        "# class LLNode:\n",
        "#     def __init__(self, val, next=None):\n",
        "#         self.val = val\n",
        "#         self.next = next\n",
        "class Solution:\n",
        "    def solve(self, head, pos, val):\n",
        "        if pos == 0:\n",
        "            return LLNode(val, head)\n",
        "\n",
        "        prev = head\n",
        "        cur = prev\n",
        "        # iterate to the index\n",
        "        for i in range(pos):\n",
        "            prev = cur\n",
        "            cur = cur.next\n",
        "        # at the index, let head.next become the node\n",
        "        prev.next = LLNode(val, cur)\n",
        "        return head"
      ],
      "execution_count": null,
      "outputs": []
    },
    {
      "cell_type": "markdown",
      "metadata": {
        "id": "FPgvkx8D0Ms3"
      },
      "source": [
        "Longest Common Prefix\n",
        "Easy\n",
        "\n",
        "Given a list of lowercase alphabet strings words, return the longest common prefix.\n",
        "\n",
        "Example 1\n",
        "Input\n",
        "words = [\"anthony\", \"ant\", \"antigravity\"]\n",
        "Output\n",
        "\"ant\"\n",
        "Explanation\n",
        "\"ant\" is the longest common prefix between the three strings."
      ]
    },
    {
      "cell_type": "code",
      "metadata": {
        "id": "ckRPCIv90Pz_"
      },
      "source": [
        "class Solution:\n",
        "    def solve(self, words):\n",
        "        min_word = min(words, key=len, default=\"\")\n",
        "        for end in range(len(min_word), -1, -1):\n",
        "            if all(word.startswith(min_word[:end]) for word in words):\n",
        "                return min_word[:end]\n",
        "        return \"\""
      ],
      "execution_count": null,
      "outputs": []
    },
    {
      "cell_type": "code",
      "metadata": {
        "colab": {
          "base_uri": "https://localhost:8080/",
          "height": 235
        },
        "id": "gz2vEO8BvHnT",
        "outputId": "4764d7ec-2920-41fb-b9bc-5674ba661249"
      },
      "source": [
        "n = int(input())\n",
        "arr = list(map(int, input().split()))\n",
        "print(sum(arr))"
      ],
      "execution_count": null,
      "outputs": [
        {
          "output_type": "stream",
          "text": [
            "10000000000000000002\n",
            "48329283924u238429.3232\n"
          ],
          "name": "stdout"
        },
        {
          "output_type": "error",
          "ename": "ValueError",
          "evalue": "ignored",
          "traceback": [
            "\u001b[0;31m---------------------------------------------------------------------------\u001b[0m",
            "\u001b[0;31mValueError\u001b[0m                                Traceback (most recent call last)",
            "\u001b[0;32m<ipython-input-1-4bb865040476>\u001b[0m in \u001b[0;36m<module>\u001b[0;34m()\u001b[0m\n\u001b[1;32m      1\u001b[0m \u001b[0mn\u001b[0m \u001b[0;34m=\u001b[0m \u001b[0mint\u001b[0m\u001b[0;34m(\u001b[0m\u001b[0minput\u001b[0m\u001b[0;34m(\u001b[0m\u001b[0;34m)\u001b[0m\u001b[0;34m)\u001b[0m\u001b[0;34m\u001b[0m\u001b[0;34m\u001b[0m\u001b[0m\n\u001b[0;32m----> 2\u001b[0;31m \u001b[0marr\u001b[0m \u001b[0;34m=\u001b[0m \u001b[0mlist\u001b[0m\u001b[0;34m(\u001b[0m\u001b[0mmap\u001b[0m\u001b[0;34m(\u001b[0m\u001b[0mint\u001b[0m\u001b[0;34m,\u001b[0m \u001b[0minput\u001b[0m\u001b[0;34m(\u001b[0m\u001b[0;34m)\u001b[0m\u001b[0;34m.\u001b[0m\u001b[0msplit\u001b[0m\u001b[0;34m(\u001b[0m\u001b[0;34m)\u001b[0m\u001b[0;34m)\u001b[0m\u001b[0;34m)\u001b[0m\u001b[0;34m\u001b[0m\u001b[0;34m\u001b[0m\u001b[0m\n\u001b[0m\u001b[1;32m      3\u001b[0m \u001b[0mprint\u001b[0m\u001b[0;34m(\u001b[0m\u001b[0msum\u001b[0m\u001b[0;34m(\u001b[0m\u001b[0marr\u001b[0m\u001b[0;34m)\u001b[0m\u001b[0;34m)\u001b[0m\u001b[0;34m\u001b[0m\u001b[0;34m\u001b[0m\u001b[0m\n",
            "\u001b[0;31mValueError\u001b[0m: invalid literal for int() with base 10: '48329283924u238429.3232'"
          ]
        }
      ]
    },
    {
      "cell_type": "code",
      "metadata": {
        "colab": {
          "base_uri": "https://localhost:8080/"
        },
        "id": "iry-IZRovLtl",
        "outputId": "249c9261-2ca1-4608-ed9f-1e4f3906a0d4"
      },
      "source": [
        "str1 = \"23.94\"\n",
        "str2 = \"34.23\"\n",
        "# Split both the given floating-point number in form of a string with respect to the decimal point \n",
        "# to separate the fractional and integer part of the numbers.\n",
        "str101 = [int(i) for i in str1.split('.')[0]]\n",
        "str102 = [int(i) for i in str1.split('.')[1]]\n",
        "\n",
        "str201 = [int(i) for i in str2.split('.')[0]]\n",
        "str202 = [int(i) for i in str2.split('.')[1]]\n",
        "str102"
      ],
      "execution_count": null,
      "outputs": [
        {
          "output_type": "execute_result",
          "data": {
            "text/plain": [
              "[9, 4]"
            ]
          },
          "metadata": {
            "tags": []
          },
          "execution_count": 14
        }
      ]
    },
    {
      "cell_type": "code",
      "metadata": {
        "colab": {
          "base_uri": "https://localhost:8080/"
        },
        "id": "I6BdEuba3vdZ",
        "outputId": "53460922-5474-47e0-e0e6-2c31ad13a540"
      },
      "source": [
        "str202"
      ],
      "execution_count": null,
      "outputs": [
        {
          "output_type": "execute_result",
          "data": {
            "text/plain": [
              "[2, 3]"
            ]
          },
          "metadata": {
            "tags": []
          },
          "execution_count": 15
        }
      ]
    },
    {
      "cell_type": "code",
      "metadata": {
        "colab": {
          "base_uri": "https://localhost:8080/"
        },
        "id": "7l3UxSqn49T_",
        "outputId": "15967cc5-d2c2-4383-a1b7-b97c87033141"
      },
      "source": [
        "# Add the fractional and integer part of the two numbers separately and \n",
        "# forward the final carry part of fractional addition to integers part.\n",
        "summ1 = []\n",
        "for str1, str2 in zip(str101, str201):\n",
        "    digit = int(str1 + str2)\n",
        "    if digit > 10:\n",
        "        summ1.append(digit//10)\n",
        "        summ1.append(digit%10)\n",
        "    else:\n",
        "        summ1.append(digit)\n",
        "\n",
        "summ2 = []\n",
        "for str1, str2 in zip(str102, str202):\n",
        "    digit = int(str1 + str2)\n",
        "    carry = False\n",
        "    if digit > 10:\n",
        "        summ2.append(digit//10)\n",
        "        summ2.append(digit%10)\n",
        "        carry = True\n",
        "    else:\n",
        "        summ2.append(digit)\n",
        "summ2"
      ],
      "execution_count": null,
      "outputs": [
        {
          "output_type": "execute_result",
          "data": {
            "text/plain": [
              "[1, 1, 7]"
            ]
          },
          "metadata": {
            "tags": []
          },
          "execution_count": 16
        }
      ]
    },
    {
      "cell_type": "code",
      "metadata": {
        "colab": {
          "base_uri": "https://localhost:8080/"
        },
        "id": "t8gT8Rds5OZ2",
        "outputId": "bf6d431b-a459-4ef5-8313-690f856a828d"
      },
      "source": [
        "summ1\n"
      ],
      "execution_count": null,
      "outputs": [
        {
          "output_type": "execute_result",
          "data": {
            "text/plain": [
              "[5, 7]"
            ]
          },
          "metadata": {
            "tags": []
          },
          "execution_count": 17
        }
      ]
    },
    {
      "cell_type": "code",
      "metadata": {
        "id": "TPECEnQL9Ew5",
        "colab": {
          "base_uri": "https://localhost:8080/"
        },
        "outputId": "74506c12-dace-4aab-d001-a7186e3b2f05"
      },
      "source": [
        "# join summ1 into integer, add 1\n",
        "summ1 = [str(int) for int in summ1]\n",
        "left = \"\".join(summ1)\n",
        "if len(str202) < len(summ2) and len(str102) < len(summ2):\n",
        "    summ2 = summ2[1::]\n",
        "    carry = True\n",
        "summ2 = [str(int) for int in summ2]\n",
        "right = \"\".join(summ2)\n",
        "total = left + '.' + right\n",
        "if carry == True:\n",
        "    total = float(total) + 1\n",
        "total"
      ],
      "execution_count": null,
      "outputs": [
        {
          "output_type": "execute_result",
          "data": {
            "text/plain": [
              "58.17"
            ]
          },
          "metadata": {
            "tags": []
          },
          "execution_count": 24
        }
      ]
    },
    {
      "cell_type": "markdown",
      "metadata": {
        "id": "mZlMv1rHgB5T"
      },
      "source": [
        "https://www.geeksforgeeks.org/python-program-to-convert-floating-to-binary/"
      ]
    },
    {
      "cell_type": "code",
      "metadata": {
        "colab": {
          "base_uri": "https://localhost:8080/",
          "height": 374
        },
        "id": "0suL_Frh23q9",
        "outputId": "76226e6b-39f7-4a7f-94bc-589b304e9213"
      },
      "source": [
        "# bin(114.625)\n",
        "\n",
        "\n",
        "import bitstring\n",
        "f1 = bitstring.BitArray(float=114.625, length=32)\n",
        "print(f1.bin)"
      ],
      "execution_count": null,
      "outputs": [
        {
          "output_type": "error",
          "ename": "ModuleNotFoundError",
          "evalue": "ignored",
          "traceback": [
            "\u001b[0;31m---------------------------------------------------------------------------\u001b[0m",
            "\u001b[0;31mModuleNotFoundError\u001b[0m                       Traceback (most recent call last)",
            "\u001b[0;32m<ipython-input-31-a4560e6ea7d5>\u001b[0m in \u001b[0;36m<module>\u001b[0;34m()\u001b[0m\n\u001b[1;32m      2\u001b[0m \u001b[0;34m\u001b[0m\u001b[0m\n\u001b[1;32m      3\u001b[0m \u001b[0;34m\u001b[0m\u001b[0m\n\u001b[0;32m----> 4\u001b[0;31m \u001b[0;32mimport\u001b[0m \u001b[0mbitstring\u001b[0m\u001b[0;34m\u001b[0m\u001b[0;34m\u001b[0m\u001b[0m\n\u001b[0m\u001b[1;32m      5\u001b[0m \u001b[0mf1\u001b[0m \u001b[0;34m=\u001b[0m \u001b[0mbitstring\u001b[0m\u001b[0;34m.\u001b[0m\u001b[0mBitArray\u001b[0m\u001b[0;34m(\u001b[0m\u001b[0mfloat\u001b[0m\u001b[0;34m=\u001b[0m\u001b[0;36m114.625\u001b[0m\u001b[0;34m,\u001b[0m \u001b[0mlength\u001b[0m\u001b[0;34m=\u001b[0m\u001b[0;36m32\u001b[0m\u001b[0;34m)\u001b[0m\u001b[0;34m\u001b[0m\u001b[0;34m\u001b[0m\u001b[0m\n\u001b[1;32m      6\u001b[0m \u001b[0mprint\u001b[0m\u001b[0;34m(\u001b[0m\u001b[0mf1\u001b[0m\u001b[0;34m.\u001b[0m\u001b[0mbin\u001b[0m\u001b[0;34m)\u001b[0m\u001b[0;34m\u001b[0m\u001b[0;34m\u001b[0m\u001b[0m\n",
            "\u001b[0;31mModuleNotFoundError\u001b[0m: No module named 'bitstring'",
            "",
            "\u001b[0;31m---------------------------------------------------------------------------\u001b[0;32m\nNOTE: If your import is failing due to a missing package, you can\nmanually install dependencies using either !pip or !apt.\n\nTo view examples of installing some common dependencies, click the\n\"Open Examples\" button below.\n\u001b[0;31m---------------------------------------------------------------------------\u001b[0m\n"
          ]
        }
      ]
    },
    {
      "cell_type": "code",
      "metadata": {
        "colab": {
          "base_uri": "https://localhost:8080/"
        },
        "id": "l-F0UHi0L8NF",
        "outputId": "d0a994a1-2613-4c76-ff3a-4464b65c091d"
      },
      "source": [
        "s = \"1110010.101\"\n",
        "s1, s2 = s.split(\".\")\n",
        "s1 = int(s1, 2)\n",
        "int(s2, 2)\n",
        "# s2 = int(s2, 2)/(2**len(s2))\n",
        "# x = s1+s2\n",
        "# print(x)"
      ],
      "execution_count": null,
      "outputs": [
        {
          "output_type": "execute_result",
          "data": {
            "text/plain": [
              "5"
            ]
          },
          "metadata": {
            "tags": []
          },
          "execution_count": 33
        }
      ]
    },
    {
      "cell_type": "code",
      "metadata": {
        "colab": {
          "base_uri": "https://localhost:8080/"
        },
        "id": "4l0hvPSpMqXm",
        "outputId": "141e6a9d-b7f4-4560-d532-458cc51f9d9c"
      },
      "source": [
        "(2**len(s2))"
      ],
      "execution_count": null,
      "outputs": [
        {
          "output_type": "execute_result",
          "data": {
            "text/plain": [
              "8"
            ]
          },
          "metadata": {
            "tags": []
          },
          "execution_count": 34
        }
      ]
    },
    {
      "cell_type": "code",
      "metadata": {
        "id": "CQE9jgQYSWff",
        "colab": {
          "base_uri": "https://localhost:8080/",
          "height": 35
        },
        "outputId": "ba057d04-a3b5-4f87-925d-a81d61961a6c"
      },
      "source": [
        "bin(8)"
      ],
      "execution_count": null,
      "outputs": [
        {
          "output_type": "execute_result",
          "data": {
            "application/vnd.google.colaboratory.intrinsic+json": {
              "type": "string"
            },
            "text/plain": [
              "'0b1000'"
            ]
          },
          "metadata": {
            "tags": []
          },
          "execution_count": 1
        }
      ]
    },
    {
      "cell_type": "code",
      "metadata": {
        "colab": {
          "base_uri": "https://localhost:8080/",
          "height": 35
        },
        "id": "lgfRIUXGHNxV",
        "outputId": "d9ab4481-fd0c-4531-aa8b-150d2de5df92"
      },
      "source": [
        "\"{0:b}\".format(37)"
      ],
      "execution_count": null,
      "outputs": [
        {
          "output_type": "execute_result",
          "data": {
            "application/vnd.google.colaboratory.intrinsic+json": {
              "type": "string"
            },
            "text/plain": [
              "'100101'"
            ]
          },
          "metadata": {
            "tags": []
          },
          "execution_count": 2
        }
      ]
    },
    {
      "cell_type": "markdown",
      "metadata": {
        "id": "XjkmLwC9cdg1"
      },
      "source": [
        "Run-Length Encoding\n",
        "Easy\n",
        "\n",
        "Given a string s, return its run-length encoding. You can assume the string to be encoded have no digits and consists solely of alphabetic characters.\n",
        "\n",
        "Constraints\n",
        "```\n",
        "n ≤ 100,000 where n is the length of s\n",
        "Example 1\n",
        "Input\n",
        "s = \"aaaabbbccdaa\"\n",
        "Output\n",
        "\"4a3b2c1d2a\"\n",
        "Example 2\n",
        "Input\n",
        "s = \"abcde\"\n",
        "Output\n",
        "\"1a1b1c1d1e\"\n",
        "Example 3\n",
        "Input\n",
        "s = \"aabba\"\n",
        "Output\n",
        "\"2a2b1a\"\n",
        "Example 4\n",
        "Input\n",
        "s = \"aaaaaaaaaa\"\n",
        "Output\n",
        "\"10a\"\n",
        "```"
      ]
    },
    {
      "cell_type": "code",
      "metadata": {
        "id": "KFO30J1HHQrs"
      },
      "source": [
        "class Solution:\n",
        "    def solve(self, s):\n",
        "        res = \"\"\n",
        "        counter = 1\n",
        "        index = 0\n",
        "        while index <= len(s)-1:\n",
        "            if index == len(s)-1:\n",
        "                res += str(counter) + s[index]\n",
        "                break\n",
        "            if s[index] == s[index + 1]:\n",
        "                counter += 1\n",
        "            else:\n",
        "                res += str(counter) + s[index]\n",
        "                counter = 1\n",
        "            index += 1\n",
        "        return res"
      ],
      "execution_count": null,
      "outputs": []
    },
    {
      "cell_type": "markdown",
      "metadata": {
        "id": "uo52ocHLf2BK"
      },
      "source": [
        "Strictly Alternating List\n",
        "Easy\n",
        "\n",
        "You are given a list of integers nums. Return whether the list alternates from first strictly increasing to strictly decreasing and then strictly increasing etc. If a list is only strictly increasing, return true.\n",
        "\n",
        "Constraints\n",
        "```\n",
        "2 ≤ n ≤ 100,000 where n is the length of nums\n",
        "Example 1\n",
        "Input\n",
        "nums = [1, 2, 5, 7, 4, 1, 6, 8, 3, 2]\n",
        "Output\n",
        "True\n",
        "Explanation\n",
        "This list strictly increases, strictly decreases, strictly increases, then strictly decreases.\n",
        "\n",
        "Example 2\n",
        "Input\n",
        "nums = [1, 1, 2, 3, 2, 1]\n",
        "Output\n",
        "False\n",
        "Explanation\n",
        "This list increases and then decreases, but is not strictly increasing at first.\n",
        "\n",
        "Example 3\n",
        "Input\n",
        "nums = [1, 3, 5, 7]\n",
        "Output\n",
        "True\n",
        "Explanation\n",
        "This list is strictly increasing.\n",
        "\n",
        "Example 4\n",
        "Input\n",
        "nums = [5, 3, 1, 5, 7]\n",
        "Output\n",
        "False\n",
        "Explanation\n",
        "This list is not strictly increasing at first.\n",
        "```"
      ]
    },
    {
      "cell_type": "code",
      "metadata": {
        "id": "g1-uQfQ6f1ex"
      },
      "source": [
        "class Solution:\n",
        "    def solve(self, nums):\n",
        "        # if next number is less and len of pattern is \n",
        "        inc_first = False\n",
        "        inc = 0\n",
        "        dec = 0\n",
        "        for i in range(1, len(nums)):\n",
        "            if nums[i] > nums[i - 1]:\n",
        "                inc += 1\n",
        "            elif nums[i] < nums[i - 1]:\n",
        "                if inc == 0:\n",
        "                    return False\n",
        "                dec += 1\n",
        "            else:\n",
        "                return False\n",
        "        return True"
      ],
      "execution_count": null,
      "outputs": []
    },
    {
      "cell_type": "code",
      "metadata": {
        "colab": {
          "base_uri": "https://localhost:8080/"
        },
        "id": "voaGf1FUAqoN",
        "outputId": "9eb6a8fa-b502-44ab-976d-1e4adf1f9d79"
      },
      "source": [
        "s = \"1110010.101\"\n",
        "s1, s2 = s.split(\".\")\n",
        "s1 = int(s1, 2)\n",
        "int(s2, 2)\n",
        "s2 = int(s2, 2)/(2**len(s2))\n",
        "x = s1+s2\n",
        "print(x)"
      ],
      "execution_count": null,
      "outputs": [
        {
          "output_type": "stream",
          "text": [
            "114.625\n"
          ],
          "name": "stdout"
        }
      ]
    },
    {
      "cell_type": "code",
      "metadata": {
        "colab": {
          "base_uri": "https://localhost:8080/",
          "height": 35
        },
        "id": "bsq666dJAu_X",
        "outputId": "d2178274-72c8-420a-f7b6-81a0c4ae9cd0"
      },
      "source": [
        "bin(114)"
      ],
      "execution_count": null,
      "outputs": [
        {
          "output_type": "execute_result",
          "data": {
            "application/vnd.google.colaboratory.intrinsic+json": {
              "type": "string"
            },
            "text/plain": [
              "'0b1110010'"
            ]
          },
          "metadata": {
            "tags": []
          },
          "execution_count": 3
        }
      ]
    },
    {
      "cell_type": "code",
      "metadata": {
        "colab": {
          "base_uri": "https://localhost:8080/",
          "height": 35
        },
        "id": "ppoNgMTNA5hF",
        "outputId": "f07a9a41-dc8a-4e9a-e22e-67d6d7f4a551"
      },
      "source": [
        "bin(625)"
      ],
      "execution_count": null,
      "outputs": [
        {
          "output_type": "execute_result",
          "data": {
            "application/vnd.google.colaboratory.intrinsic+json": {
              "type": "string"
            },
            "text/plain": [
              "'0b1001110001'"
            ]
          },
          "metadata": {
            "tags": []
          },
          "execution_count": 4
        }
      ]
    },
    {
      "cell_type": "code",
      "metadata": {
        "colab": {
          "base_uri": "https://localhost:8080/"
        },
        "id": "O9VWR6TzA_2e",
        "outputId": "0804250a-4e8a-4cc9-e82a-4b464c383724"
      },
      "source": [
        "\n",
        "# Python program to convert float\n",
        "# decimal to binary number\n",
        "  \n",
        "# Function returns octal representation\n",
        "def float_bin(number, places = 3):\n",
        "  \n",
        "    # split() seperates whole number and decimal \n",
        "    # part and stores it in two seperate variables\n",
        "    whole, dec = str(number).split(\".\")\n",
        "  \n",
        "    # Convert both whole number and decimal  \n",
        "    # part from string type to integer type\n",
        "    whole = int(whole)\n",
        "    dec = int (dec)\n",
        "  \n",
        "    # Convert the whole number part to it's\n",
        "    # respective binary form and remove the\n",
        "    # \"0b\" from it.\n",
        "    res = bin(whole).lstrip(\"0b\") + \".\"\n",
        "  \n",
        "    # Iterate the number of times, we want\n",
        "    # the number of decimal places to be\n",
        "    for x in range(places):\n",
        "  \n",
        "        # Multiply the decimal value by 2 \n",
        "        # and seperate the whole number part\n",
        "        # and decimal part\n",
        "        whole, dec = str((decimal_converter(dec)) * 2).split(\".\")\n",
        "  \n",
        "        # Convert the decimal part\n",
        "        # to integer again\n",
        "        dec = int(dec)\n",
        "  \n",
        "        # Keep adding the integer parts \n",
        "        # receive to the result variable\n",
        "        res += whole\n",
        "  \n",
        "    return res\n",
        "  \n",
        "# Function converts the value passed as\n",
        "# parameter to it's decimal representation\n",
        "def decimal_converter(num): \n",
        "    while num > 1:\n",
        "        num /= 10\n",
        "    return num\n",
        "  \n",
        "# Driver Code\n",
        "  \n",
        "# Take the user input for \n",
        "# the floating point number\n",
        "n = input(\"Enter your floating point value : \\n\")\n",
        "  \n",
        "# Take user input for the number of\n",
        "# decimal places user want result as\n",
        "p = int(input(\"Enter the number of decimal places of the result : \\n\"))\n",
        "  \n",
        "print(float_bin(n, places = p))"
      ],
      "execution_count": null,
      "outputs": [
        {
          "output_type": "stream",
          "text": [
            "Enter your floating point value : \n",
            "114.625\n",
            "Enter the number of decimal places of the result : \n",
            "3\n",
            "1110010.101\n"
          ],
          "name": "stdout"
        }
      ]
    },
    {
      "cell_type": "code",
      "metadata": {
        "colab": {
          "base_uri": "https://localhost:8080/",
          "height": 312
        },
        "id": "eykDdQmoCC8P",
        "outputId": "b5249167-4c66-4c57-d92a-ab09276d3bfa"
      },
      "source": [
        "# t = \"114.625\"\n",
        "t = \"24.6\"\n",
        "t1, t2 = t.split(\".\")\n",
        "# t1\n",
        "# print(len(t2))\n",
        "# Decimal Part, keep multiplying the decimal part with 2 until and unless 0 left as fractional part.\n",
        "t2 = int(t2) / (10 ** len(t2))\n",
        "print(t2)\n",
        "counter = 0\n",
        "binary_decimal = \"\"\n",
        "while t2 < 1: \n",
        "    print(True)\n",
        "    t2 = t2 * 2\n",
        "    print(t2)\n",
        "    if t2 >= 1:\n",
        "        binary_decimal += \"1\"\n",
        "        t2 = str(t2)\n",
        "        t21, t22 = t2.split(\".\")\n",
        "        t2 = int(t22)/ (10 ** len(t22))\n",
        "        print(t2)\n",
        "    else:\n",
        "        binary_decimal += \"0\"\n",
        "    if counter == 5 or t2 == 0:\n",
        "        break\n",
        "    counter += 1\n",
        "binary_decimal\n",
        "\n",
        "binary_whole = bin(int(t1)).lstrip(\"0b\")\n",
        "binary = binary_whole + '.' + binary_decimal\n",
        "binary"
      ],
      "execution_count": null,
      "outputs": [
        {
          "output_type": "stream",
          "text": [
            "0.6\n",
            "True\n",
            "1.2\n",
            "0.2\n",
            "True\n",
            "0.4\n",
            "True\n",
            "0.8\n",
            "True\n",
            "1.6\n",
            "0.6\n",
            "True\n",
            "1.2\n",
            "0.2\n",
            "True\n",
            "0.4\n"
          ],
          "name": "stdout"
        },
        {
          "output_type": "execute_result",
          "data": {
            "application/vnd.google.colaboratory.intrinsic+json": {
              "type": "string"
            },
            "text/plain": [
              "'11000.100110'"
            ]
          },
          "metadata": {
            "tags": []
          },
          "execution_count": 36
        }
      ]
    },
    {
      "cell_type": "markdown",
      "metadata": {
        "id": "NpN1iJKtc4Sf"
      },
      "source": [
        "Maximize Social Distancing\n",
        "Easy\n",
        "\n",
        "You are given a list of integers seats containing 1s and 0s. Each element seats[i] represents a seat and is either occupied if seats[i] = 1 or empty if seats[i] = 0.\n",
        "\n",
        "Given that there’s at least one empty seat and at least one occupied seat, return the maximum distance from an empty seat to the closest occupied seat.\n",
        "\n",
        "Constraints\n",
        "```\n",
        "n ≤ 100,000 where n is the length of seats\n",
        "Example 1\n",
        "Input\n",
        "seats = [1, 0, 1, 0, 0, 0, 1]\n",
        "Output\n",
        "2\n",
        "Explanation\n",
        "We can sit at seats[4].\n",
        "\n",
        "Example 2\n",
        "Input\n",
        "seats = [1, 0, 0, 0]\n",
        "Output\n",
        "3\n",
        "Explanation\n",
        "We can sit at seats[3].\n",
        "```"
      ]
    },
    {
      "cell_type": "code",
      "metadata": {
        "id": "k2KXWA-2TpWM"
      },
      "source": [
        "class Solution:\n",
        "    def solve(self, seats):\n",
        "        len_seats = len(seats)\n",
        "        counter = 0\n",
        "        s1 = []\n",
        "        s2 = []\n",
        "        for i in range(len_seats):\n",
        "            if seats[i] == 0:\n",
        "                counter += 1\n",
        "                s1.append(counter)\n",
        "            else:\n",
        "                counter = 0\n",
        "                s1.append(counter)\n",
        "        for i in reversed(range(len_seats)):\n",
        "            if seats[i] == 0:\n",
        "                counter += 1\n",
        "                s2.append(counter)\n",
        "            else:\n",
        "                counter = 0\n",
        "                s2.append(counter)\n",
        "        res = []\n",
        "        for x, y in zip(s1, s2[::-1]):\n",
        "            res.append(min(x, y))\n",
        "        print(s1)\n",
        "        print(s2[::-1])\n",
        "        print(res)\n",
        "        return max(res)"
      ],
      "execution_count": null,
      "outputs": []
    },
    {
      "cell_type": "markdown",
      "metadata": {
        "id": "Xi_-_75x1V7t"
      },
      "source": [
        "Coincidence Search\n",
        "Easy\n",
        "\n",
        "You are given a list of unique integers nums. Return the number of integers that could still be successfully found using a standard binary search.\n",
        "\n",
        "Binary search in pseudocode:\n",
        "```\n",
        "lo = 0\n",
        "hi = nums.size - 1\n",
        "\n",
        "while lo <= hi\n",
        "    mid = floor((lo + hi) / 2)\n",
        "    if nums[mid] == target\n",
        "        return mid\n",
        "    elif nums[mid] < target\n",
        "        lo = mid + 1\n",
        "    else\n",
        "        hi = mid - 1\n",
        "Constraints\n",
        "\n",
        "0 ≤ n ≤ 100,000 where n is the length of nums.\n",
        "Example 1\n",
        "Input\n",
        "nums = [1, 5, 3, 2, 9]\n",
        "Output\n",
        "3\n",
        "Explanation\n",
        "Since if we used binary search to look for 3, we would still find it in the first iteration. We would also happen to find 1 and 9 after two iterations.\n",
        "```"
      ]
    },
    {
      "cell_type": "code",
      "metadata": {
        "id": "ar2vibSW1VL6"
      },
      "source": [
        "class Solution:\n",
        "    def solve(self, nums):\n",
        "        # find the longest sorted slice of a list\n",
        "        if len(nums) == 0:\n",
        "            return 0\n",
        "        m = 1\n",
        "        l = 1\n",
        "        li = []\n",
        "        for i in range(1, len(nums)):\n",
        "            if nums[i] > nums[i-1]:\n",
        "                l += 1\n",
        "                li.append(nums[i])\n",
        "            else:\n",
        "                if m < l:\n",
        "                    m = l\n",
        "                l = 1\n",
        "        if m < l:\n",
        "            m = l\n",
        "        print(li)\n",
        "        return m"
      ],
      "execution_count": null,
      "outputs": []
    },
    {
      "cell_type": "code",
      "metadata": {
        "id": "DSDA5lFI6utY"
      },
      "source": [
        "class Solution:\n",
        "    def solve(self, nums):\n",
        "        counter = 0\n",
        "        for num in nums:\n",
        "            lo = 0\n",
        "            hi = len(nums) - 1\n",
        "            while lo <= hi:\n",
        "                mid = (lo + hi)//2\n",
        "                if nums[mid] < num:\n",
        "                    lo = mid + 1\n",
        "                elif nums[mid] > num:\n",
        "                    hi = mid - 1\n",
        "                else:\n",
        "                    if nums[mid] == num:\n",
        "                        counter += 1\n",
        "                        break\n",
        "        return counter"
      ],
      "execution_count": null,
      "outputs": []
    },
    {
      "cell_type": "markdown",
      "metadata": {
        "id": "bzrxbDkl_SME"
      },
      "source": [
        "Repeating String\n",
        "Easy\n",
        "\n",
        "Given a lowercase alphabet string s, return whether it's a repeating string.\n",
        "\n",
        "Constraints\n",
        "```\n",
        "n ≤ 100,000 where n is the length of s\n",
        "Example 1\n",
        "Input\n",
        "s = \"dogdogdog\"\n",
        "Output\n",
        "True\n",
        "Explanation\n",
        "\"dog\" is repeated.\n",
        "\n",
        "Example 2\n",
        "Input\n",
        "s = \"catdog\"\n",
        "Output\n",
        "False\n",
        "```"
      ]
    },
    {
      "cell_type": "code",
      "metadata": {
        "id": "IyNf9Wng_Rls"
      },
      "source": [
        "class Solution:\n",
        "    def solve(self, s):\n",
        "        n = len(s)\n",
        "        for d in range(1, n):\n",
        "            # if the slice is a factor of the length of the string\n",
        "            # then any index for any factor of this number\n",
        "            # multiplied by the same indexed slice should\n",
        "            # be the same as the string\n",
        "            if n % d == 0 and s[:d] * (n // d) == s:\n",
        "                return True\n",
        "        return False\n",
        "        # if len(s) <= 1:\n",
        "        #     return False\n",
        "        # counter = Counter(s)\n",
        "        # print(counter)\n",
        "        # l = set()\n",
        "        # for k, v in counter.items():\n",
        "        #     if v > 1:\n",
        "        #         l.add(v)\n",
        "        #     else:\n",
        "        #         return False\n",
        "        # print(l)\n",
        "        # if len(l) == 1:\n",
        "        #     return True"
      ],
      "execution_count": null,
      "outputs": []
    },
    {
      "cell_type": "markdown",
      "metadata": {
        "id": "r9t06lZbwUBV"
      },
      "source": [
        "Rectangular Overlap\n",
        "Easy\n",
        "\n",
        "You are given two lists of integers rect0 and rect1 representing coordinates (x0, y0, x1, y1) of two rectangles. (x0, y0) is the bottom left coordinate and (x1, y1) is the upper right coordinate.\n",
        "\n",
        "Return whether the two rectangles overlap.\n",
        "\n",
        "Note: if two rectangles touch only in their perimeters, they don't overlap.\n",
        "```\n",
        "Example 1\n",
        "Input\n",
        "rect0 = [0, 0, 10, 10]\n",
        "rect1 = [10, 10, 30, 30]\n",
        "Output\n",
        "False\n",
        "Example 2\n",
        "Input\n",
        "rect0 = [0, 0, 10, 10]\n",
        "rect1 = [5, 5, 30, 30]\n",
        "Output\n",
        "True\n",
        "```"
      ]
    },
    {
      "cell_type": "code",
      "metadata": {
        "id": "37P4bWDEwWJ1"
      },
      "source": [
        "class Solution:\n",
        "    def solve(self, rect0, rect1):\n",
        "        # if rect0 = [0, 0, 10, 10]\n",
        "        # (0, 0), (0, 10), (10, 10), (10, 0)\n",
        "        # (5, 5), (5, 30), (30, 30), (30, 5)\n",
        "        r0_max = max(rect0)\n",
        "        r0_min = min(rect0)\n",
        "        r1_max = max(rect1)\n",
        "        r1_min = min(rect1)\n",
        "        r0_range = set([num for num in range(r0_min, (r0_max + 1))])\n",
        "        r1_range = set([num for num in range(r1_min, (r1_max + 1))])\n",
        "        diff = r0_range.intersection(r1_range)\n",
        "        if r0_max == r1_min or r0_min == r1_max:\n",
        "            return False\n",
        "        if len(diff) > 0:\n",
        "            return True\n",
        "        else:\n",
        "            return False"
      ],
      "execution_count": null,
      "outputs": []
    },
    {
      "cell_type": "code",
      "metadata": {
        "id": "FhyEFU183paG"
      },
      "source": [
        "class Solution:\n",
        "    def solve(self, rect0, rect1):\n",
        "        width = min(rect0[2], rect1[2]) - max(rect0[0], rect1[0])\n",
        "        height = min(rect0[3], rect1[3]) - max(rect0[1], rect1[1])\n",
        "        if width > 0 and height > 0:\n",
        "            return True\n",
        "        else:\n",
        "            return False\n",
        "        "
      ],
      "execution_count": null,
      "outputs": []
    },
    {
      "cell_type": "markdown",
      "metadata": {
        "id": "ZkICE0ac4nIN"
      },
      "source": [
        "Largest Pair of Points\n",
        "Easy\n",
        "\n",
        "You are given a strictly increasing list of integers nums and a list of integers values, both of the same length. Find a pair i ≤ j that maximizes values[i] + values[j] + nums[j] - nums[i] and return the value.\n",
        "\n",
        "Constraints\n",
        "```\n",
        "2 ≤ n ≤ 100,000 where n is the length of nums and values\n",
        "Example 1\n",
        "Input\n",
        "nums = [0, 1, 6]\n",
        "values = [-5, 5, 4]\n",
        "Output\n",
        "14\n",
        "Explanation\n",
        "Here we can pick i = 1 and j = 2 to get 5 + 4 + 6 - 1\n",
        "\n",
        "Example 2\n",
        "Input\n",
        "nums = [0, 3, 6]\n",
        "values = [-5, 4, 8]\n",
        "Output\n",
        "16\n",
        "Explanation\n",
        "Here we can pick i = 2 and j = 2 to get 8 + 8 + 6 - 6\n",
        "```"
      ]
    },
    {
      "cell_type": "code",
      "metadata": {
        "id": "Cu91QtdA4sXA"
      },
      "source": [
        "import math\n",
        "\n",
        "class Solution:\n",
        "    def solve(self, nums, values):\n",
        "        maxx = -math.inf\n",
        "        l = len(nums)\n",
        "        for i in range(l):\n",
        "            for j in range(i, l):\n",
        "                print((values[i], values[j]))\n",
        "                if i <= j:\n",
        "                    res = values[i] + values[j] + nums[j] - nums[i]\n",
        "                    print(maxx)\n",
        "                    maxx = max(maxx, res)\n",
        "        return maxx"
      ],
      "execution_count": null,
      "outputs": []
    },
    {
      "cell_type": "markdown",
      "metadata": {
        "id": "jo4VFNewNpnt"
      },
      "source": [
        "Number of Unique Character Substrings\n",
        "Easy\n",
        "\n",
        "Given a lowercase alphabet string s, return the total number of substrings that contain one unique character.\n",
        "\n",
        "Constraints\n",
        "```\n",
        "n ≤ 10,000 where n is the length of s.\n",
        "Example 1\n",
        "Input\n",
        "s = \"aab\"\n",
        "Output\n",
        "4\n",
        "Explanation\n",
        "These substrings have one unique character: [\"a\", \"a\", \"aa\", \"b\"]\n",
        "```"
      ]
    },
    {
      "cell_type": "code",
      "metadata": {
        "colab": {
          "base_uri": "https://localhost:8080/"
        },
        "id": "86rF-SMaMJdZ",
        "outputId": "a0a2ee6c-f6cc-400c-b234-d8e0a55ef549"
      },
      "source": [
        "from collections import Counter\n",
        "class Solution:\n",
        "    def solve(self, s):\n",
        "        counter = 0\n",
        "        # start with one character\n",
        "        leng = len(s)\n",
        "        for idx in range(leng):\n",
        "            for nxt in range(idx, leng+1):\n",
        "                if len(Counter(s[idx:nxt])) == 1:\n",
        "                    counter += 1\n",
        "                    print(s[idx:nxt])\n",
        "        return counter\n",
        "        # log it\n",
        "        # if added with the next character, there is still 1 unique character, keep on going\n",
        "        # iterate to the next"
      ],
      "execution_count": null,
      "outputs": [
        {
          "output_type": "execute_result",
          "data": {
            "text/plain": [
              "1"
            ]
          },
          "metadata": {
            "tags": []
          },
          "execution_count": 2
        }
      ]
    },
    {
      "cell_type": "code",
      "metadata": {
        "id": "G_u58wtfMObR"
      },
      "source": [
        "class Solution:\n",
        "    def solve(self, s):\n",
        "        # key concept:\n",
        "        # The number of substrings in a strings between index i and j is (j-i) + 1 where j >= i\n",
        "        i = 0\n",
        "        substrings = 0\n",
        "        size = len(s)\n",
        "        while i < size:\n",
        "            j = i\n",
        "            # while j is less than the full length\n",
        "            # and s index j is the same value as s index i\n",
        "            while j < size and s[j] == s[i]:\n",
        "                # increment the substring count by\n",
        "                # j - 1 + 1\n",
        "                substrings += (j - i) + 1\n",
        "                # increment j\n",
        "                j += 1\n",
        "            # swap i with j\n",
        "            i = j\n",
        "        return substrings"
      ],
      "execution_count": null,
      "outputs": []
    },
    {
      "cell_type": "markdown",
      "metadata": {
        "id": "QJz5gvm5gxJb"
      },
      "source": [
        "Leaderboard\n",
        "Easy\n",
        "\n",
        "You are given a list of integers nums, representing the number of chess matches each person has won. Return a relative ranking (0-indexed) of each person. If two players have won the same amount, their ranking should be the same.\n",
        "\n",
        "Constraints\n",
        "```\n",
        "n ≤ 100,000 where n is the length of nums\n",
        "Example 1\n",
        "Input\n",
        "nums = [50, 30, 50, 90, 10]\n",
        "Output\n",
        "[1, 2, 1, 0, 3]\n",
        "```"
      ]
    },
    {
      "cell_type": "code",
      "metadata": {
        "id": "xlh3JaAyguzp"
      },
      "source": [
        "from itertools import groupby\n",
        "class Solution:\n",
        "    def solve(self, nums):\n",
        "        deduped = list(set(nums))\n",
        "        ranking = sorted(deduped, reverse=True)\n",
        "        size = len(nums)\n",
        "        d = dict()\n",
        "        for i, j in enumerate(ranking):\n",
        "            d[j] = i\n",
        "        print(d)\n",
        "        res = []\n",
        "        for num in nums:\n",
        "            lookup = d[num]\n",
        "            res.append(lookup)\n",
        "        return res"
      ],
      "execution_count": null,
      "outputs": []
    },
    {
      "cell_type": "markdown",
      "metadata": {
        "id": "SO6d3wYLjipU"
      },
      "source": [
        "Robinhood\n",
        "Easy\n",
        "\n",
        "You are given integers n, e, o, t. You have n dollars in principal that you invested in the stock market. Given the stock market alternates between first returning e and then o percent interest per year, return how many years it would take to reach at leastt dollars.\n",
        "```\n",
        "Example 1\n",
        "Input\n",
        "n = 100\n",
        "e = 20\n",
        "o = 10\n",
        "t = 130\n",
        "Output\n",
        "2\n",
        "Explanation\n",
        "In the first year we earn interest of 20% and end up with $120.\n",
        "In the second year we earn interest of 10% and end up with $132, which is above the target $130.\n",
        "```"
      ]
    },
    {
      "cell_type": "code",
      "metadata": {
        "id": "YclYvzDhjgQ_"
      },
      "source": [
        "class Solution:\n",
        "    def solve(self, n, e, o, t):\n",
        "        if n >= t:\n",
        "            return 0\n",
        "        counter = 0\n",
        "        while n <= t:\n",
        "            n = n + (e * n * .01)\n",
        "            counter += 1\n",
        "            if n >= t:\n",
        "                print(n)\n",
        "                return counter\n",
        "            n = n + (o * n * .01)\n",
        "            print(n)\n",
        "            counter += 1\n",
        "        return counter"
      ],
      "execution_count": null,
      "outputs": []
    },
    {
      "cell_type": "markdown",
      "metadata": {
        "id": "J7TCFebxxcUj"
      },
      "source": [
        "List Min Replacement\n",
        "Easy\n",
        "\n",
        "Given a list of integers nums, replace every nums[i] with the smallest integer left of i. Replace nums[0] with 0.\n",
        "\n",
        "Constraints\n",
        "```\n",
        "1 ≤ n ≤ 100,000 where n is the length of nums\n",
        "Example 1\n",
        "Input\n",
        "nums = [10, 5, 7, 9]\n",
        "Output\n",
        "[0, 10, 5, 5]\n",
        "Explanation\n",
        "nums[0] = 0 by definition\n",
        "nums[1] = min(10)\n",
        "nums[2] = min(5, 10)\n",
        "nums[3] = min(7, 5, 10)\n",
        "```"
      ]
    },
    {
      "cell_type": "code",
      "metadata": {
        "id": "z800G3xCxbKU"
      },
      "source": [
        "class Solution:\n",
        "    def solve(self, nums):\n",
        "        if len(nums) == 0:\n",
        "            return []\n",
        "        elif len(nums) == 1:\n",
        "            return [0]\n",
        "        else:\n",
        "            # set the first index to 0\n",
        "            res = [0]\n",
        "            # capture the first index, no matter what\n",
        "            # store a minimum\n",
        "            minn = nums[1]\n",
        "            length = len(nums)\n",
        "            for i in range(1, length):\n",
        "                smallest = min(nums[:i])\n",
        "                print(smallest)\n",
        "                res.append(smallest)\n",
        "            return res"
      ],
      "execution_count": null,
      "outputs": []
    },
    {
      "cell_type": "code",
      "metadata": {
        "colab": {
          "base_uri": "https://localhost:8080/"
        },
        "id": "Bn-2afc31dtx",
        "outputId": "caadbddd-980b-444b-86a7-1376da081ef3"
      },
      "source": [
        "s = \"abc<-z\"\n",
        "s = list(s)\n",
        "s.remove('-')\n",
        "s"
      ],
      "execution_count": null,
      "outputs": [
        {
          "output_type": "execute_result",
          "data": {
            "text/plain": [
              "['a', 'b', 'c', '<', 'z']"
            ]
          },
          "metadata": {
            "tags": []
          },
          "execution_count": 16
        }
      ]
    },
    {
      "cell_type": "code",
      "metadata": {
        "colab": {
          "base_uri": "https://localhost:8080/",
          "height": 35
        },
        "id": "TWYLb5gK1he3",
        "outputId": "bb33c9d3-99d7-475b-851a-06ff15413015"
      },
      "source": [
        "s.pop()"
      ],
      "execution_count": null,
      "outputs": [
        {
          "output_type": "execute_result",
          "data": {
            "application/vnd.google.colaboratory.intrinsic+json": {
              "type": "string"
            },
            "text/plain": [
              "'z'"
            ]
          },
          "metadata": {
            "tags": []
          },
          "execution_count": 17
        }
      ]
    },
    {
      "cell_type": "code",
      "metadata": {
        "colab": {
          "base_uri": "https://localhost:8080/"
        },
        "id": "F6kDc8iq2Ihm",
        "outputId": "19de5e54-63ca-49c7-844d-8229e38c3294"
      },
      "source": [
        "for i in s:\n",
        "    if i == '<':\n",
        "        s.pop()\n",
        "        s.pop()\n",
        "s"
      ],
      "execution_count": null,
      "outputs": [
        {
          "output_type": "execute_result",
          "data": {
            "text/plain": [
              "['a', 'b', 'c']"
            ]
          },
          "metadata": {
            "tags": []
          },
          "execution_count": 21
        }
      ]
    },
    {
      "cell_type": "markdown",
      "metadata": {
        "id": "AkmrbXwI4w3-"
      },
      "source": [
        "Text Editor\n",
        "Easy\n",
        "```\n",
        "Given a string s representing characters typed into an editor, with \"<-\" representing a backspace, return the current state of the editor.\n",
        "\n",
        "Constraints\n",
        "\n",
        "n ≤ 100,000 where n is the length of s\n",
        "Example 1\n",
        "Input\n",
        "s = \"abc<-z\"\n",
        "Output\n",
        "\"abz\"\n",
        "Explanation\n",
        "The \"c\" got deleted by the backspace.\n",
        "\n",
        "Example 2\n",
        "Input\n",
        "s = \"<-x<-z<-\"\n",
        "Output\n",
        "\"\"\n",
        "Explanation\n",
        "All characters are deleted. Also note you can type backspace when the editor is empty as well.\n",
        "```"
      ]
    },
    {
      "cell_type": "code",
      "metadata": {
        "id": "HuvdsY802e62"
      },
      "source": [
        "class Solution:\n",
        "    def solve(self, s):\n",
        "        stack = []\n",
        "        for i, c in enumerate(s):\n",
        "            # if the index is bigger than 0\n",
        "            # and the current letter is - and the last is <\n",
        "            if i > 0 and s[i] == \"-\" and s[i - 1] == \"<\":\n",
        "                # pop out the last\n",
        "                stack.pop()\n",
        "                # as long as the stack exists\n",
        "                if stack:\n",
        "                    # remove the last character again\n",
        "                    stack.pop()\n",
        "            else:\n",
        "                # otherwise add to list\n",
        "                stack.append(c)\n",
        "                # convert list to string\n",
        "        return \"\".join(stack)"
      ],
      "execution_count": null,
      "outputs": []
    },
    {
      "cell_type": "markdown",
      "metadata": {
        "id": "QHjXeespl0v5"
      },
      "source": [
        "Beer Bottles\n",
        "Easy\n",
        "\n",
        "You are given an integer n representing n full beer bottles. Given that you can exchange 3 empty beer bottles for 1 full beer bottle, return the number of beer bottles you can drink.\n",
        "\n",
        "Constraints\n",
        "```\n",
        "0 ≤ n < 2 ** 31\n",
        "Example 1\n",
        "Input\n",
        "n = 9\n",
        "Output\n",
        "13\n",
        "Explanation\n",
        "In first round, we drink 9 beer bottles.\n",
        "We can exchange the 9 empty ones for 3 beer bottles.\n",
        "We can exchange the 3 empty ones for 1 beer bottle.\n",
        "```"
      ]
    },
    {
      "cell_type": "code",
      "metadata": {
        "colab": {
          "base_uri": "https://localhost:8080/"
        },
        "id": "BwVoRyfiissI",
        "outputId": "2b938874-6444-492c-cfa2-e7ad381cf0a8"
      },
      "source": [
        "class Solution:\n",
        "    def solve(self, n):\n",
        "        counter = 0\n",
        "        while n >= 3:\n",
        "            # we drink our 9 \n",
        "            # we drink our 3 \n",
        "            counter += n//3 * 3\n",
        "            # we get 3 new bottles\n",
        "            # we get 1 bottle as exchange\n",
        "            n = (n-(n//3 * 3)) + (n//3 * 1)\n",
        "            print(n)\n",
        "  \n",
        "        counter += n\n",
        "        return counter"
      ],
      "execution_count": null,
      "outputs": [
        {
          "output_type": "execute_result",
          "data": {
            "text/plain": [
              "4"
            ]
          },
          "metadata": {
            "tags": []
          },
          "execution_count": 1
        }
      ]
    },
    {
      "cell_type": "markdown",
      "metadata": {
        "id": "6XLq7XWXsjQM"
      },
      "source": [
        "Index Into an Infinite String\n",
        "Easy\n",
        "\n",
        "You are given an alphabet (can be lower or uppercase) string s and two integers i and j where i < j. Let's say p is an infinite string of s repeating forever. Return the substring of p from indexes [i, j).\n",
        "\n",
        "Constraints\n",
        "```\n",
        "1 ≤ n ≤ 100,000 where n is the length of `s\n",
        "0 ≤ i < j < 2 ** 31\n",
        "Example 1\n",
        "Input\n",
        "s = \"tiger\"\n",
        "i = 6\n",
        "j = 8\n",
        "Output\n",
        "\"ig\"\n",
        "Example 2\n",
        "Input\n",
        "s = \"hi\"\n",
        "i = 2\n",
        "j = 6\n",
        "Output\n",
        "\"hihi\"\n",
        "```"
      ]
    },
    {
      "cell_type": "code",
      "metadata": {
        "id": "ycT-Dk_AixiB"
      },
      "source": [
        "class Solution:\n",
        "    def solve(self, s, i, j):\n",
        "        diff = j - i\n",
        "        ii = i % len(s)\n",
        "        longstring = s * (diff+1)\n",
        "        return longstring[ii:ii+diff]\n",
        "\n",
        "        # ii = i % (len(s))\n",
        "        # jj = j % (len(s))\n",
        "        # print(ii)\n",
        "        # print(jj)\n",
        "        # res = s[ii:jj]\n",
        "        # if (j-i) > len(s):\n",
        "        #     multiplier = len(s)//(j-1)\n",
        "        #     res = s * multiplier\n",
        "        # return res\n"
      ],
      "execution_count": null,
      "outputs": []
    },
    {
      "cell_type": "markdown",
      "metadata": {
        "id": "-EKGOnI8xPlP"
      },
      "source": [
        "Pair and Triples\n",
        "Easy\n",
        "\n",
        "You are given a string s containing digits from 0 to 9. Return whether there is some arrangement where we can have one pair of the same digits and the rest of the numbers form any number of triples of the same digits.\n",
        "\n",
        "Constraints\n",
        "```\n",
        "0 ≤ n ≤ 100,000 where n is the length of s\n",
        "Example 1\n",
        "Input\n",
        "s = \"21112\"\n",
        "Output\n",
        "True\n",
        "Explanation\n",
        "We can have \"22\" as the pair and \"111\" as a triple.\n",
        "\n",
        "Example 2\n",
        "Input\n",
        "s = \"55\"\n",
        "Output\n",
        "True\n",
        "Explanation\n",
        "We can have \"55\" as the pair and there's no triple.\n",
        "\n",
        "Example 3\n",
        "Input\n",
        "s = \"111222\"\n",
        "Output\n",
        "False\n",
        "Example 4\n",
        "Input\n",
        "s = \"11111\"\n",
        "Output\n",
        "True\n",
        "Example 5\n",
        "Input\n",
        "s = \"22222222\"\n",
        "Output\n",
        "True\n",
        "```"
      ]
    },
    {
      "cell_type": "code",
      "metadata": {
        "id": "dihFn2Z0xTMx"
      },
      "source": [
        "from collections import Counter\n",
        "class Solution:\n",
        "    def solve(self, s):\n",
        "        dic = Counter(s)\n",
        "        for k, v in dic.items():\n",
        "            if v == 2:\n",
        "                return True\n",
        "        return False"
      ],
      "execution_count": null,
      "outputs": []
    },
    {
      "cell_type": "markdown",
      "metadata": {
        "id": "sGvwVAWsUZgP"
      },
      "source": [
        "Shift to Create Range\n",
        "Easy\n",
        "\n",
        "You are given a list of integers nums of length n. Return whether you can make a list [1, 2, ..., n] or [n, n - 1, ..., 1] by shifting nums to the right any number of times.\n",
        "\n",
        "For example, shifting [1, 2, 4, 3] right once gives us [3, 1, 2, 4].\n",
        "\n",
        "Constraints\n",
        "```\n",
        "1 ≤ n ≤ 100,000 where n is the length of nums\n",
        "Example 1\n",
        "Input\n",
        "nums = [4, 1, 2, 3]\n",
        "Output\n",
        "True\n",
        "Explanation\n",
        "We can make [1, 2, 3, 4] by shifting to the right 3 times.\n",
        "\n",
        "Example 2\n",
        "Input\n",
        "nums = [1, 4, 2, 3]\n",
        "Output\n",
        "False\n",
        "Explanation\n",
        "There's no way to make [1, 2, 3, 4] or [4, 3, 2, 1].\n",
        "```"
      ]
    },
    {
      "cell_type": "markdown",
      "metadata": {
        "id": "ctRFtISsnbyE"
      },
      "source": [
        "determine idx, the position of the smallest element in nums\n",
        "min function to find the position of the smallest element.\n",
        "\n",
        "n = len(nums)\n",
        "idx = min(range(n), key=lambda i: nums[i])\n",
        "\n",
        "we go through the list in a circular fashion starting from position idx, and compare the elements with [1, 2, ..., n]\n",
        "\n",
        "return all(nums[(idx + i) % n] == i + 1 for i in range(n)) or all(nums[idx - i] == i + 1 for i in range(n))\n",
        "\n",
        "go through nums in a circular fashion, moving backwards, starting at position idx, and compare the elements with [1, 2, ..., n] to check if nums is a shifted version of [n, n-1, ..., 1]"
      ]
    },
    {
      "cell_type": "code",
      "metadata": {
        "id": "-XFM_OVzlK7x"
      },
      "source": [
        "class Solution:\n",
        "    def solve(self, nums):\n",
        "        nums_ = nums\n",
        "        for i in range(len(nums)):\n",
        "            print(nums_)\n",
        "            if nums_ == sorted(nums):\n",
        "                return True\n",
        "            else:\n",
        "                first_idx = nums_[0]\n",
        "                nums_ = nums_[1:-1]\n",
        "                nums_.append(first_idx)\n",
        " \n",
        "        return False"
      ],
      "execution_count": null,
      "outputs": []
    },
    {
      "cell_type": "code",
      "metadata": {
        "id": "QUp3LbxbnbCC"
      },
      "source": [
        ""
      ],
      "execution_count": null,
      "outputs": []
    }
  ]
}