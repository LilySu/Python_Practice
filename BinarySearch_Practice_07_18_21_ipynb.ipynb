{
  "nbformat": 4,
  "nbformat_minor": 0,
  "metadata": {
    "colab": {
      "name": "BinarySearch_Practice_07-18-21.ipynb.ipynb",
      "provenance": [],
      "authorship_tag": "ABX9TyM+VXLPrNpbXeN4q5UALlGh",
      "include_colab_link": true
    },
    "kernelspec": {
      "name": "python3",
      "display_name": "Python 3"
    },
    "language_info": {
      "name": "python"
    }
  },
  "cells": [
    {
      "cell_type": "markdown",
      "metadata": {
        "id": "view-in-github",
        "colab_type": "text"
      },
      "source": [
        "<a href=\"https://colab.research.google.com/github/LilySu/Python_Practice/blob/master/BinarySearch_Practice_07_18_21_ipynb.ipynb\" target=\"_parent\"><img src=\"https://colab.research.google.com/assets/colab-badge.svg\" alt=\"Open In Colab\"/></a>"
      ]
    },
    {
      "cell_type": "markdown",
      "metadata": {
        "id": "ff9kB363mzkg"
      },
      "source": [
        "```Given a list of integers prices representing the stock prices of a company in chronological order, return the maximum profit you could have made from buying and selling that stock once.\n",
        "\n",
        "You must buy before you can sell it.\n",
        "\n",
        "Note: You are not required to buy or sell the stock.\n",
        "\n",
        "Constraints\n",
        "\n",
        "n ≤ 100,000 where n is the length of prices\n",
        "Example 1\n",
        "Input\n",
        "prices = [9, 11, 8, 5, 7, 10]\n",
        "Output\n",
        "5\n",
        "Explanation\n",
        "You can buy at 5 and sell at 10.\n",
        "\n",
        "Example 2\n",
        "Input\n",
        "prices = [1, 2, 3, 4, 5, 6, 7, 8, 9]\n",
        "Output\n",
        "8\n",
        "Explanation\n",
        "You can buy at 1 and sell at 9.\n",
        "\n",
        "Example 3\n",
        "Input\n",
        "prices = [9, 8, 7, 6, 5, 4, 3, 2, 1]\n",
        "Output\n",
        "0\n",
        "Explanation\n",
        "The stock's only going down so we don't buy at all.\n",
        "```"
      ]
    },
    {
      "cell_type": "code",
      "metadata": {
        "id": "xgyIQ2e3f4Ad"
      },
      "source": [
        "class Solution:\n",
        "    def solve(self, prices):\n",
        "        maxx = 0\n",
        "        for i in range(len(prices)-1):\n",
        "            for j in range(i, len(prices)):\n",
        "                if prices[j] - prices[i] > 0:\n",
        "                    # print(f'{prices[j]}-{prices[i]}={prices[j] - prices[i]}')\n",
        "                    maxx = max(prices[j] - prices[i], maxx)\n",
        "        return maxx"
      ],
      "execution_count": null,
      "outputs": []
    },
    {
      "cell_type": "code",
      "metadata": {
        "id": "GqBNmgRIfZnz"
      },
      "source": [
        "class Solution:\n",
        "    def solve(self, prices):\n",
        "        if len(prices) == 0:\n",
        "            return 0\n",
        "        if len(prices) == 1:\n",
        "            [prices] = prices\n",
        "            return prices\n",
        "        maxx = 0\n",
        "        pdic = {}\n",
        "        test = {}\n",
        "        for i in range(len(prices)-1):\n",
        "            pdic[prices[i]] = max([prices[j] for j in range(i-1, len(prices))])\n",
        "            test[prices[i]] = [prices[j] for j in range(i, len(prices))]\n",
        "        print(test)\n",
        "        print(pdic)\n",
        "        maxx = max([value - key for key, value in pdic.items()])\n",
        "        if maxx < 0:\n",
        "            return 0\n",
        "        return maxx\n"
      ],
      "execution_count": null,
      "outputs": []
    },
    {
      "cell_type": "markdown",
      "metadata": {
        "id": "LjXEwM1yw6UA"
      },
      "source": [
        "You are given a string dictionary, representing a partial lexicographic ordering of ancient astronauts' dictionary. Given a string s, return whether it's a lexicographically sorted string according to this ancient astronaut dictionary.\n",
        "```\n",
        "Example 1\n",
        "Input\n",
        "dictionary = \"acb\"\n",
        "s = \"aaaa h ccc i bbb\"\n",
        "Output\n",
        "True\n",
        "Explanation\n",
        "The only constraint is that a comes before c which comes before b .\n",
        "\n",
        "Example 2\n",
        "Input\n",
        "dictionary = \"acb\"\n",
        "s = \"aaaacccbc\"\n",
        "Output\n",
        "False\n",
        "Explanation\n",
        "This is false because of the last c, which comes after b.```"
      ]
    },
    {
      "cell_type": "code",
      "metadata": {
        "id": "Y7_5U_2qxA5z"
      },
      "source": [
        "from itertools import groupby\n",
        "\n",
        "class Solution:\n",
        "    def solve(self, dictionary, s):\n",
        "        # check for individual cases of letters being in order\n",
        "        keys = []\n",
        "        for k, g, in itertools.groupby(s):\n",
        "            keys.append(k)\n",
        "        s_deduped = ''.join(keys)\n",
        "        smatch = \"\"\n",
        "        for let in s_deduped:\n",
        "            if let in dictionary:\n",
        "                smatch += let\n",
        "        if len(dictionary) == 0 or len(smatch) == 0:\n",
        "            return True\n",
        "        if dictionary == smatch:\n",
        "            return True\n",
        "        # if part of the dictionary matches, \n",
        "        if len(dictionary) > len(smatch):\n",
        "            return True\n",
        "        if dictionary != smatch:\n",
        "            return False\n"
      ],
      "execution_count": null,
      "outputs": []
    },
    {
      "cell_type": "markdown",
      "metadata": {
        "id": "W_3VEG_XxFRg"
      },
      "source": [
        "Given a list of numbers nums and a number k, return whether any two elements from the list add up to k. You may not use the same element twice.\n",
        "\n",
        "Note: Numbers can be negative or 0.\n",
        "\n",
        "Constraints\n",
        "```\n",
        "n ≤ 100,000 where n is the length of nums\n",
        "Example 1\n",
        "Input\n",
        "nums = [35, 8, 18, 3, 22]\n",
        "k = 11\n",
        "Output\n",
        "True\n",
        "Explanation\n",
        "8 + 3 = 11\n",
        "\n",
        "Example 2\n",
        "Input\n",
        "nums = [10, 36, 22, 14]\n",
        "k = 4\n",
        "Output\n",
        "False\n",
        "Explanation\n",
        "No two numbers in this list add up to 4.\n",
        "\n",
        "Example 3\n",
        "Input\n",
        "nums = [24, 10, 11, 4]\n",
        "k = 15\n",
        "Output\n",
        "True\n",
        "Explanation\n",
        "11 + 4 = 15\n",
        "\n",
        "Example 4\n",
        "Input\n",
        "nums = [-22, 22, -11, 11]\n",
        "k = 0\n",
        "Output\n",
        "True\n",
        "Explanation\n",
        "-11 + 11 = 0\n",
        "\n",
        "Example 5\n",
        "Input\n",
        "nums = [15, 0, 3, 2]\n",
        "k = 15\n",
        "Output\n",
        "True\n",
        "Explanation\n",
        "15 + 0 = 15```"
      ]
    },
    {
      "cell_type": "code",
      "metadata": {
        "id": "6zDalvLdVg60"
      },
      "source": [
        "class Solution:\n",
        "    def solve(self, nums, k):\n",
        "        for i in range(len(nums)):\n",
        "            for j in range(i+1, len(nums)):\n",
        "                if nums[i] + nums[j] == k:\n",
        "                    return True\n",
        "        return False"
      ],
      "execution_count": null,
      "outputs": []
    },
    {
      "cell_type": "code",
      "metadata": {
        "id": "n1Qe7PYWWZsJ"
      },
      "source": [
        "class Solution:\n",
        "    def solve(self, nums, k):\n",
        "        l = [nums[i] + nums[j] for i in range(len(nums)) for j in range(i+1, len(nums)) if nums[i] + nums[j] == k]\n",
        "        return len(l) > 0"
      ],
      "execution_count": null,
      "outputs": []
    },
    {
      "cell_type": "markdown",
      "metadata": {
        "id": "ZCVfbyUkWaeB"
      },
      "source": [
        "class Solution:\n",
        "    def solve(self, nums, k):\n",
        "        s = set()\n",
        "        for num in nums:\n",
        "            if k - num in s:\n",
        "                return True\n",
        "            s.add(num)\n",
        "        return False"
      ]
    },
    {
      "cell_type": "markdown",
      "metadata": {
        "id": "t_HtCyOgdxuJ"
      },
      "source": [
        "A rotation group for a string contains all of its unique rotations. For example, \"123\" can be rotated to \"231\" and \"312\" and they are all in the same rotation group.\n",
        "\n",
        "Given a list of strings words, group each word by their rotation group, and return the total number of groups.\n",
        "\n",
        "Constraints\n",
        "```\n",
        "n ≤ 200 where n is the length of words.\n",
        "Example 1\n",
        "Input\n",
        "words = [\"abc\", \"xy\", \"yx\", \"z\", \"bca\"]\n",
        "Output\n",
        "3\n",
        "Explanation\n",
        "There are three rotation groups:\n",
        "\n",
        "[\"abc\", \"bca\"]\n",
        "[\"xy\", \"yx\"]\n",
        "[\"z\"]```"
      ]
    },
    {
      "cell_type": "code",
      "metadata": {
        "id": "EKRs2QHrd1ha"
      },
      "source": [
        "from collections import Counter\n",
        "\n",
        "class Solution:\n",
        "    def solve(self, words):\n",
        "        l = []\n",
        "        counter = 0\n",
        "        # sort each, then groupby\n",
        "        for word in words:\n",
        "            so = \"\".join(sorted(word))\n",
        "            l.append(so)\n",
        "        print(l)\n",
        "        d = Counter(l)\n",
        "        print(d)\n",
        "        return len(d)"
      ],
      "execution_count": null,
      "outputs": []
    },
    {
      "cell_type": "markdown",
      "metadata": {
        "id": "37iikVTPmWyx"
      },
      "source": [
        "Task Run\n",
        "You are given a list of integers tasks where each different integer represents a different task type, and a non-negative integer k. Each task takes one unit of time to complete and each task must be done in order, but you must have k units of time between doing two tasks of the same type. At any time, you can be doing a task or waiting.\n",
        "\n",
        "Return the amount of time it takes to complete all the tasks.\n",
        "\n",
        "Constraints\n",
        "```\n",
        "n ≤ 100,000 where n is the length of tasks\n",
        "Example 1\n",
        "Input\n",
        "tasks = [0, 1, 0, 1]\n",
        "k = 2\n",
        "Output\n",
        "5\n",
        "Explanation\n",
        "The tasks get run the following way: [0, 1, wait, 0, 1]. Note that before running the second 0 task we must wait one unit to have 2 units of time before running it again. We can just run the second 1 task right away since it has already been 2 units of time since we last did task 1.\n",
        "\n",
        "Example 2\n",
        "Input\n",
        "tasks = [0, 0, 1, 1]\n",
        "k = 1\n",
        "Output\n",
        "6\n",
        "Explanation\n",
        "The tasks get run the following way: [0, wait, 0, 1, wait, 1].```"
      ]
    },
    {
      "cell_type": "code",
      "metadata": {
        "id": "DKsBgjRemayh"
      },
      "source": [
        "from collections import Counter\n",
        "\n",
        "class Solution:\n",
        "    def solve(self, tasks, k):\n",
        "        # for each unit of k\n",
        "        # put a 'wait' in between identical integers in tasks\n",
        "        # create a list, add k in between integers. \n",
        "        # pair 0, 1 or 1,0 together depending on which one comes first\n",
        "        if len(tasks) == 0:\n",
        "            return 0\n",
        "        # count 1,s and count 0's \n",
        "        tally = Counter(tasks)\n",
        "        # only consider the bigger tally. \n",
        "        maxx = max([tally[0], tally[1]])\n",
        "        # if maxx % 2 == 0:\n",
        "        #     return maxx + (maxx-1)\n",
        "        return maxx + k*(maxx-1)"
      ],
      "execution_count": null,
      "outputs": []
    },
    {
      "cell_type": "code",
      "metadata": {
        "id": "qINuN7wr4N7M"
      },
      "source": [
        "# actual solution\n",
        "from collections import Counter\n",
        "\n",
        "class Solution:\n",
        "    def solve(self, tasks, k):\n",
        "        last_times = {}\n",
        "        cur_time = 0\n",
        "        for j, task in enumerate(tasks):\n",
        "            if task in last_times and cur_time - last_times[task] <= k:\n",
        "                \n",
        "                wait_time = k - (cur_time - last_times[task]) + 1\n",
        "                cur_time += wait_time\n",
        "            last_times[task] = cur_time\n",
        "            cur_time += 1\n",
        "        return cur_time"
      ],
      "execution_count": null,
      "outputs": []
    },
    {
      "cell_type": "markdown",
      "metadata": {
        "id": "Q7L0oAsAxOvU"
      },
      "source": [
        "You are given a list of list of integers intervals where each element contains the inclusive interval [start, end].\n",
        "\n",
        "Return the most frequently occurring number in the intervals. If there are ties, return the smallest number.\n",
        "\n",
        "Constraints\n",
        "```\n",
        "n ≤ 100,000 where n is the length of intervals\n",
        "Example 1\n",
        "Input\n",
        "intervals = [\n",
        "    [1, 4],\n",
        "    [3, 5],\n",
        "    [6, 9],\n",
        "    [7, 9]\n",
        "]\n",
        "Output\n",
        "3\n",
        "Explanation\n",
        "The most frequent numbers are [3, 4, 7, 8, 9] and they all occur twice but 3 is the smallest one.```"
      ]
    },
    {
      "cell_type": "code",
      "metadata": {
        "colab": {
          "base_uri": "https://localhost:8080/"
        },
        "id": "qpwmaT9rwubM",
        "outputId": "aa231db0-654d-4fc1-844d-6b5b2169d1e9"
      },
      "source": [
        "class Solution:\n",
        "    def solve(self, intervals):\n",
        "        # create a Counter dictionary that tallies number of occurrences. \n",
        "        Counter = dict()\n",
        "        for incl in intervals:\n",
        "            for intr in range(incl[0], incl[1]+1):\n",
        "                if intr not in Counter:\n",
        "                    Counter[intr] = 1 \n",
        "                Counter[intr] += 1\n",
        "        return Counter"
      ],
      "execution_count": null,
      "outputs": [
        {
          "output_type": "stream",
          "text": [
            "0\n",
            "1\n",
            "2\n"
          ],
          "name": "stdout"
        }
      ]
    },
    {
      "cell_type": "markdown",
      "metadata": {
        "id": "pqtTHWhPv3AR"
      },
      "source": [
        "Insert Into Linked List\n",
        "Easy\n",
        "\n",
        "You are given a singly linked list head as well as integers pos and val. Insert a new node with value val before index pos of head.\n",
        "\n",
        "Constraints\n",
        "```\n",
        "1 ≤ n ≤ 100,000 where n is the number of nodes in head\n",
        "0 ≤ pos ≤ n\n",
        "Example 1\n",
        "Input\n",
        "Visualize\n",
        "head = [1, 3, 5, 7]\n",
        "pos = 2\n",
        "val = 9\n",
        "Output\n",
        "Visualize\n",
        "[1, 3, 9, 5, 7]\n",
        "Example 2\n",
        "Input\n",
        "Visualize\n",
        "head = [1]\n",
        "pos = 0\n",
        "val = 3\n",
        "Output\n",
        "Visualize\n",
        "[3, 1]\n",
        "Example 3\n",
        "Input\n",
        "Visualize\n",
        "head = [2]\n",
        "pos = 1\n",
        "val = 5\n",
        "Output\n",
        "Visualize\n",
        "[2, 5]```"
      ]
    },
    {
      "cell_type": "code",
      "metadata": {
        "id": "9ZjvAQ8hww9C"
      },
      "source": [
        "# class LLNode:\n",
        "#     def __init__(self, val, next=None):\n",
        "#         self.val = val\n",
        "#         self.next = next\n",
        "class Solution:\n",
        "    def solve(self, head, pos, val):\n",
        "        if pos == 0:\n",
        "            return LLNode(val, head)\n",
        "\n",
        "        prev = head\n",
        "        cur = prev\n",
        "        # iterate to the index\n",
        "        for i in range(pos):\n",
        "            prev = cur\n",
        "            cur = cur.next\n",
        "        # at the index, let head.next become the node\n",
        "        prev.next = LLNode(val, cur)\n",
        "        return head"
      ],
      "execution_count": null,
      "outputs": []
    }
  ]
}