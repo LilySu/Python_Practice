{
  "nbformat": 4,
  "nbformat_minor": 0,
  "metadata": {
    "colab": {
      "name": "BinarySearch_Practice_07-18-21.ipynb.ipynb",
      "provenance": [],
      "authorship_tag": "ABX9TyPF7tWkt/N5HidMrl9cgcL3",
      "include_colab_link": true
    },
    "kernelspec": {
      "name": "python3",
      "display_name": "Python 3"
    },
    "language_info": {
      "name": "python"
    }
  },
  "cells": [
    {
      "cell_type": "markdown",
      "metadata": {
        "id": "view-in-github",
        "colab_type": "text"
      },
      "source": [
        "<a href=\"https://colab.research.google.com/github/LilySu/Python_Practice/blob/master/BinarySearch_Practice_07_18_21_ipynb.ipynb\" target=\"_parent\"><img src=\"https://colab.research.google.com/assets/colab-badge.svg\" alt=\"Open In Colab\"/></a>"
      ]
    },
    {
      "cell_type": "markdown",
      "metadata": {
        "id": "ff9kB363mzkg"
      },
      "source": [
        "```Given a list of integers prices representing the stock prices of a company in chronological order, return the maximum profit you could have made from buying and selling that stock once.\n",
        "\n",
        "You must buy before you can sell it.\n",
        "\n",
        "Note: You are not required to buy or sell the stock.\n",
        "\n",
        "Constraints\n",
        "\n",
        "n ≤ 100,000 where n is the length of prices\n",
        "Example 1\n",
        "Input\n",
        "prices = [9, 11, 8, 5, 7, 10]\n",
        "Output\n",
        "5\n",
        "Explanation\n",
        "You can buy at 5 and sell at 10.\n",
        "\n",
        "Example 2\n",
        "Input\n",
        "prices = [1, 2, 3, 4, 5, 6, 7, 8, 9]\n",
        "Output\n",
        "8\n",
        "Explanation\n",
        "You can buy at 1 and sell at 9.\n",
        "\n",
        "Example 3\n",
        "Input\n",
        "prices = [9, 8, 7, 6, 5, 4, 3, 2, 1]\n",
        "Output\n",
        "0\n",
        "Explanation\n",
        "The stock's only going down so we don't buy at all.\n",
        "```"
      ]
    },
    {
      "cell_type": "code",
      "metadata": {
        "id": "xgyIQ2e3f4Ad"
      },
      "source": [
        "class Solution:\n",
        "    def solve(self, prices):\n",
        "        maxx = 0\n",
        "        for i in range(len(prices)-1):\n",
        "            for j in range(i, len(prices)):\n",
        "                if prices[j] - prices[i] > 0:\n",
        "                    # print(f'{prices[j]}-{prices[i]}={prices[j] - prices[i]}')\n",
        "                    maxx = max(prices[j] - prices[i], maxx)\n",
        "        return maxx"
      ],
      "execution_count": null,
      "outputs": []
    },
    {
      "cell_type": "code",
      "metadata": {
        "id": "GqBNmgRIfZnz"
      },
      "source": [
        "class Solution:\n",
        "    def solve(self, prices):\n",
        "        if len(prices) == 0:\n",
        "            return 0\n",
        "        if len(prices) == 1:\n",
        "            [prices] = prices\n",
        "            return prices\n",
        "        maxx = 0\n",
        "        pdic = {}\n",
        "        test = {}\n",
        "        for i in range(len(prices)-1):\n",
        "            pdic[prices[i]] = max([prices[j] for j in range(i-1, len(prices))])\n",
        "            test[prices[i]] = [prices[j] for j in range(i, len(prices))]\n",
        "        print(test)\n",
        "        print(pdic)\n",
        "        maxx = max([value - key for key, value in pdic.items()])\n",
        "        if maxx < 0:\n",
        "            return 0\n",
        "        return maxx\n"
      ],
      "execution_count": null,
      "outputs": []
    },
    {
      "cell_type": "markdown",
      "metadata": {
        "id": "LjXEwM1yw6UA"
      },
      "source": [
        "You are given a string dictionary, representing a partial lexicographic ordering of ancient astronauts' dictionary. Given a string s, return whether it's a lexicographically sorted string according to this ancient astronaut dictionary.\n",
        "```\n",
        "Example 1\n",
        "Input\n",
        "dictionary = \"acb\"\n",
        "s = \"aaaa h ccc i bbb\"\n",
        "Output\n",
        "True\n",
        "Explanation\n",
        "The only constraint is that a comes before c which comes before b .\n",
        "\n",
        "Example 2\n",
        "Input\n",
        "dictionary = \"acb\"\n",
        "s = \"aaaacccbc\"\n",
        "Output\n",
        "False\n",
        "Explanation\n",
        "This is false because of the last c, which comes after b.```"
      ]
    },
    {
      "cell_type": "code",
      "metadata": {
        "id": "Y7_5U_2qxA5z"
      },
      "source": [
        "from itertools import groupby\n",
        "\n",
        "class Solution:\n",
        "    def solve(self, dictionary, s):\n",
        "        # check for individual cases of letters being in order\n",
        "        keys = []\n",
        "        for k, g, in itertools.groupby(s):\n",
        "            keys.append(k)\n",
        "        s_deduped = ''.join(keys)\n",
        "        smatch = \"\"\n",
        "        for let in s_deduped:\n",
        "            if let in dictionary:\n",
        "                smatch += let\n",
        "        if len(dictionary) == 0 or len(smatch) == 0:\n",
        "            return True\n",
        "        if dictionary == smatch:\n",
        "            return True\n",
        "        # if part of the dictionary matches, \n",
        "        if len(dictionary) > len(smatch):\n",
        "            return True\n",
        "        if dictionary != smatch:\n",
        "            return False\n"
      ],
      "execution_count": null,
      "outputs": []
    },
    {
      "cell_type": "markdown",
      "metadata": {
        "id": "W_3VEG_XxFRg"
      },
      "source": [
        "Given a list of numbers nums and a number k, return whether any two elements from the list add up to k. You may not use the same element twice.\n",
        "\n",
        "Note: Numbers can be negative or 0.\n",
        "\n",
        "Constraints\n",
        "```\n",
        "n ≤ 100,000 where n is the length of nums\n",
        "Example 1\n",
        "Input\n",
        "nums = [35, 8, 18, 3, 22]\n",
        "k = 11\n",
        "Output\n",
        "True\n",
        "Explanation\n",
        "8 + 3 = 11\n",
        "\n",
        "Example 2\n",
        "Input\n",
        "nums = [10, 36, 22, 14]\n",
        "k = 4\n",
        "Output\n",
        "False\n",
        "Explanation\n",
        "No two numbers in this list add up to 4.\n",
        "\n",
        "Example 3\n",
        "Input\n",
        "nums = [24, 10, 11, 4]\n",
        "k = 15\n",
        "Output\n",
        "True\n",
        "Explanation\n",
        "11 + 4 = 15\n",
        "\n",
        "Example 4\n",
        "Input\n",
        "nums = [-22, 22, -11, 11]\n",
        "k = 0\n",
        "Output\n",
        "True\n",
        "Explanation\n",
        "-11 + 11 = 0\n",
        "\n",
        "Example 5\n",
        "Input\n",
        "nums = [15, 0, 3, 2]\n",
        "k = 15\n",
        "Output\n",
        "True\n",
        "Explanation\n",
        "15 + 0 = 15```"
      ]
    },
    {
      "cell_type": "code",
      "metadata": {
        "id": "6zDalvLdVg60"
      },
      "source": [
        "class Solution:\n",
        "    def solve(self, nums, k):\n",
        "        for i in range(len(nums)):\n",
        "            for j in range(i+1, len(nums)):\n",
        "                if nums[i] + nums[j] == k:\n",
        "                    return True\n",
        "        return False"
      ],
      "execution_count": null,
      "outputs": []
    },
    {
      "cell_type": "code",
      "metadata": {
        "id": "n1Qe7PYWWZsJ"
      },
      "source": [
        "class Solution:\n",
        "    def solve(self, nums, k):\n",
        "        l = [nums[i] + nums[j] for i in range(len(nums)) for j in range(i+1, len(nums)) if nums[i] + nums[j] == k]\n",
        "        return len(l) > 0"
      ],
      "execution_count": null,
      "outputs": []
    },
    {
      "cell_type": "markdown",
      "metadata": {
        "id": "ZCVfbyUkWaeB"
      },
      "source": [
        "class Solution:\n",
        "    def solve(self, nums, k):\n",
        "        s = set()\n",
        "        for num in nums:\n",
        "            if k - num in s:\n",
        "                return True\n",
        "            s.add(num)\n",
        "        return False"
      ]
    },
    {
      "cell_type": "markdown",
      "metadata": {
        "id": "t_HtCyOgdxuJ"
      },
      "source": [
        "A rotation group for a string contains all of its unique rotations. For example, \"123\" can be rotated to \"231\" and \"312\" and they are all in the same rotation group.\n",
        "\n",
        "Given a list of strings words, group each word by their rotation group, and return the total number of groups.\n",
        "\n",
        "Constraints\n",
        "```\n",
        "n ≤ 200 where n is the length of words.\n",
        "Example 1\n",
        "Input\n",
        "words = [\"abc\", \"xy\", \"yx\", \"z\", \"bca\"]\n",
        "Output\n",
        "3\n",
        "Explanation\n",
        "There are three rotation groups:\n",
        "\n",
        "[\"abc\", \"bca\"]\n",
        "[\"xy\", \"yx\"]\n",
        "[\"z\"]```"
      ]
    },
    {
      "cell_type": "code",
      "metadata": {
        "id": "EKRs2QHrd1ha"
      },
      "source": [
        "from collections import Counter\n",
        "\n",
        "class Solution:\n",
        "    def solve(self, words):\n",
        "        l = []\n",
        "        counter = 0\n",
        "        # sort each, then groupby\n",
        "        for word in words:\n",
        "            so = \"\".join(sorted(word))\n",
        "            l.append(so)\n",
        "        print(l)\n",
        "        d = Counter(l)\n",
        "        print(d)\n",
        "        return len(d)"
      ],
      "execution_count": null,
      "outputs": []
    }
  ]
}