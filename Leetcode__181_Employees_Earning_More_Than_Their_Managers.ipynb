{
  "nbformat": 4,
  "nbformat_minor": 0,
  "metadata": {
    "colab": {
      "name": "Leetcode_#181. Employees Earning More Than Their Managers.ipynb",
      "provenance": [],
      "authorship_tag": "ABX9TyPWSSM215jph5LbSd6w0K7f",
      "include_colab_link": true
    },
    "kernelspec": {
      "name": "python3",
      "display_name": "Python 3"
    }
  },
  "cells": [
    {
      "cell_type": "markdown",
      "metadata": {
        "id": "view-in-github",
        "colab_type": "text"
      },
      "source": [
        "<a href=\"https://colab.research.google.com/github/LilySu/Python_Practice/blob/master/Leetcode__181_Employees_Earning_More_Than_Their_Managers.ipynb\" target=\"_parent\"><img src=\"https://colab.research.google.com/assets/colab-badge.svg\" alt=\"Open In Colab\"/></a>"
      ]
    },
    {
      "cell_type": "markdown",
      "metadata": {
        "id": "quK3uleV6PTE",
        "colab_type": "text"
      },
      "source": [
        "The Employee table holds all employees including their managers. Every employee has an Id, and there is also a column for the manager Id.\n",
        "```\n",
        "+----+-------+--------+-----------+\n",
        "| Id | Name  | Salary | ManagerId |\n",
        "+----+-------+--------+-----------+\n",
        "| 1  | Joe   | 70000  | 3         |\n",
        "| 2  | Henry | 80000  | 4         |\n",
        "| 3  | Sam   | 60000  | NULL      |\n",
        "| 4  | Max   | 90000  | NULL      |\n",
        "+----+-------+--------+-----------+\n",
        "```\n",
        "Given the Employee table, write a SQL query that finds out employees who earn more than their managers. For the above table, Joe is the only employee who earns more than his manager.\n",
        "```\n",
        "+----------+\n",
        "| Employee |\n",
        "+----------+\n",
        "| Joe      |\n",
        "+----------+\n",
        "```"
      ]
    },
    {
      "cell_type": "code",
      "metadata": {
        "id": "194dbTHW5-SS",
        "colab_type": "code",
        "colab": {}
      },
      "source": [
        "SELECT\n",
        "    a.Name AS 'Employee'\n",
        "FROM \n",
        "    Employee AS a,\n",
        "    Employee AS b\n",
        "WHERE\n",
        "    a.ManagerId = b.Id\n",
        "        AND a.Salary > b.Salary;"
      ],
      "execution_count": null,
      "outputs": []
    }
  ]
}