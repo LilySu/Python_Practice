{
  "nbformat": 4,
  "nbformat_minor": 0,
  "metadata": {
    "colab": {
      "name": "BinarySearch_3-6-9.ipynb",
      "provenance": [],
      "authorship_tag": "ABX9TyOGOW9OZ1zRZydSbLKEYxrw",
      "include_colab_link": true
    },
    "kernelspec": {
      "name": "python3",
      "display_name": "Python 3"
    }
  },
  "cells": [
    {
      "cell_type": "markdown",
      "metadata": {
        "id": "view-in-github",
        "colab_type": "text"
      },
      "source": [
        "<a href=\"https://colab.research.google.com/github/LilySu/Python_Practice/blob/master/BinarySearch_3_6_9.ipynb\" target=\"_parent\"><img src=\"https://colab.research.google.com/assets/colab-badge.svg\" alt=\"Open In Colab\"/></a>"
      ]
    },
    {
      "cell_type": "markdown",
      "metadata": {
        "id": "FeOV5KH-G8m2"
      },
      "source": [
        "Given an integer n, return a list with each number from 1 to n, except if it's a multiple of 3 or has a 3, 6, or 9 in the number, it should be the string \"clap\".\r\n",
        "\r\n",
        "Note: return the number as a string.\r\n",
        "\r\n",
        "Constraints\r\n",
        "```\r\n",
        "n ≤ 100,000\r\n",
        "Example 1\r\n",
        "Input\r\n",
        "n = 16\r\n",
        "Output\r\n",
        "[\"1\", \"2\", \"clap\", \"4\", \"5\", \"clap\", \"7\", \"8\", \"clap\", \"10\", \"11\", \"clap\", \"clap\", \"14\", \"clap\", \"clap\"]\r\n",
        "Explanation\r\n",
        "3, 6, 9, 12, and 15 are replaced by \"clap\" since they are divisible by 3.\r\n",
        "13 is replaced since it has a 3 in the number.\r\n",
        "16 is replaced since it has a 6 in the number.\r\n",
        "```"
      ]
    },
    {
      "cell_type": "code",
      "metadata": {
        "id": "0sQBg237G8Ex"
      },
      "source": [
        "class Solution:\r\n",
        "    def solve(self, n):\r\n",
        "        res = []\r\n",
        "        for num in range(1, n+1):\r\n",
        "            if num % 3 == 0:\r\n",
        "                res.append('clap')\r\n",
        "            elif '3' in str(num) or '6' in str(num) or '9' in str(num):\r\n",
        "                res.append('clap')\r\n",
        "            else:\r\n",
        "                res.append(str(num))\r\n",
        "        return res"
      ],
      "execution_count": null,
      "outputs": []
    },
    {
      "cell_type": "markdown",
      "metadata": {
        "id": "6bq8GumAG0fW"
      },
      "source": [
        "# Explanation from xiaowuc1\r\n",
        "\r\n",
        "Intuition\r\n",
        "Checking if a number has 3, 6, or 9 requires looping through every digit in the number. Fortunately, x == (x/10) * 10 + (x % 10), so we can use this to avoid using strings explicitly.\r\n",
        "\r\n",
        "Implementation\r\n",
        "If a number is valid, then we return the stringified version of that number, otherwise, we return \"clap\".\r\n",
        "\r\n",
        "A number is valid if and only if it is not a multiple of three and it does not contain 3, 6, or 9. The first check can be done directly. To enumerate all the digits, we get the least significant digit by taking the number modulo 10 and checking that digit. Afterwards, we strip that digit by dividing the input number by 10.\r\n",
        "\r\n",
        "Time Complexity\r\n",
        "The time complexity is \\mathcal{O}(N \\log N)O(NlogN). The number VV has \\mathcal{O}(\\log V)O(logV) digits, each of which need to be manually checked, so therefore the valid function takes \\mathcal{O}(\\log N)O(logN) time to run giving us the complexity of \\mathcal{O}(N \\log N)O(NlogN).\r\n",
        "\r\n",
        "Space Complexity\r\n",
        "The input list takes \\mathcal{O}(N \\log N)O(NlogN) space to store, since the value VV requires at least \\mathcal{O}(\\log V)O(logV) bits to store."
      ]
    },
    {
      "cell_type": "code",
      "metadata": {
        "id": "lCzEoYI6GzFp"
      },
      "source": [
        "class Solution:\r\n",
        "    def solve(self, n):\r\n",
        "        def valid(x):\r\n",
        "            if x % 3 == 0:\r\n",
        "                return False\r\n",
        "            while x:\r\n",
        "                if x % 10 in [3, 6, 9]:\r\n",
        "                    return False\r\n",
        "                x //= 10\r\n",
        "            return True\r\n",
        "\r\n",
        "        return [str(i) if valid(i) else \"clap\" for i in range(1, n + 1)]"
      ],
      "execution_count": null,
      "outputs": []
    }
  ]
}