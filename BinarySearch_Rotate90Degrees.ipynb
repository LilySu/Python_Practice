{
  "nbformat": 4,
  "nbformat_minor": 0,
  "metadata": {
    "colab": {
      "name": "BinarySearch_Rotate90Degrees.ipynb",
      "provenance": [],
      "authorship_tag": "ABX9TyOfcta00OTDHs0Zo1D9o2WZ",
      "include_colab_link": true
    },
    "kernelspec": {
      "name": "python3",
      "display_name": "Python 3"
    }
  },
  "cells": [
    {
      "cell_type": "markdown",
      "metadata": {
        "id": "view-in-github",
        "colab_type": "text"
      },
      "source": [
        "<a href=\"https://colab.research.google.com/github/LilySu/Python_Practice/blob/master/BinarySearch_Rotate90Degrees.ipynb\" target=\"_parent\"><img src=\"https://colab.research.google.com/assets/colab-badge.svg\" alt=\"Open In Colab\"/></a>"
      ]
    },
    {
      "cell_type": "markdown",
      "metadata": {
        "id": "lhNigOo5egfD"
      },
      "source": [
        "Given a two-dimensional square matrix, rotate it 90 degrees counter-clockwise.\n",
        "```\n",
        "Example 1\n",
        "Input\n",
        "matrix = [\n",
        "    [1, 2, 3],\n",
        "    [4, 5, 6],\n",
        "    [7, 8, 9]\n",
        "]\n",
        "Output\n",
        "[\n",
        "    [3, 6, 9],\n",
        "    [2, 5, 8],\n",
        "    [1, 4, 7]\n",
        "]\n",
        "```"
      ]
    },
    {
      "cell_type": "code",
      "metadata": {
        "id": "zokhjC6DTOaf"
      },
      "source": [
        "class Solution:\n",
        "    def solve(self, matrix):\n",
        "        l = []\n",
        "        for row in reversed(range(len(matrix))):\n",
        "            n =[]\n",
        "            for col in range(len(matrix)):\n",
        "                n.append(matrix[col][row])\n",
        "            l.append(n)\n",
        "        return l"
      ],
      "execution_count": null,
      "outputs": []
    },
    {
      "cell_type": "code",
      "metadata": {
        "id": "oGSqKs3zTY7L"
      },
      "source": [
        "# unpacking operator * passes in each sublist separately\n",
        "\n",
        "class Solution:\n",
        "    def solve(self, matrix):\n",
        "        zipped = zip(*matrix)\n",
        "        return (list((reversed(list(zipped)))))"
      ],
      "execution_count": null,
      "outputs": []
    }
  ]
}