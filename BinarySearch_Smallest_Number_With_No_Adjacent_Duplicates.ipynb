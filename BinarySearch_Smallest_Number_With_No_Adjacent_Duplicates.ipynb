{
  "nbformat": 4,
  "nbformat_minor": 0,
  "metadata": {
    "colab": {
      "name": "BinarySearch_Smallest Number With No Adjacent Duplicates.ipynb",
      "provenance": [],
      "authorship_tag": "ABX9TyOMC+xns4uoPQHK44/PjgIo",
      "include_colab_link": true
    },
    "kernelspec": {
      "name": "python3",
      "display_name": "Python 3"
    }
  },
  "cells": [
    {
      "cell_type": "markdown",
      "metadata": {
        "id": "view-in-github",
        "colab_type": "text"
      },
      "source": [
        "<a href=\"https://colab.research.google.com/github/LilySu/Python_Practice/blob/master/BinarySearch_Smallest_Number_With_No_Adjacent_Duplicates.ipynb\" target=\"_parent\"><img src=\"https://colab.research.google.com/assets/colab-badge.svg\" alt=\"Open In Colab\"/></a>"
      ]
    },
    {
      "cell_type": "markdown",
      "metadata": {
        "id": "AZzGhs2-a4gD"
      },
      "source": [
        "You are given a string s containing \"1\", \"2\", \"3\" and \"?\". Given that you can replace any “?” with \"1\", \"2\" or \"3\" return the smallest number you can make as a string such that no two adjacent digits are the same.\n",
        "\n",
        "Constraints\n",
        "```\n",
        "n ≤ 100,000 where n is the length of s\n",
        "Example 1\n",
        "Input\n",
        "\n",
        "s = \"3?2??\"\n",
        "Output\n",
        "\n",
        "\"31212\"\n",
        "Example 2\n",
        "Input\n",
        "\n",
        "s = \"???\"\n",
        "Output\n",
        "\n",
        "\"121\"\n",
        "```"
      ]
    },
    {
      "cell_type": "code",
      "metadata": {
        "colab": {
          "base_uri": "https://localhost:8080/"
        },
        "id": "5MY4Go8KRS5Y",
        "outputId": "46efa175-ca6b-4b68-ee73-7c4a407f29f2"
      },
      "source": [
        "# learned that list.remove(x) does not return anything\n",
        "s = '123'\n",
        "sub = [1,2,3]\n",
        "prev = 1\n",
        "a = sub.remove(2)\n",
        "print(a)\n",
        "# min(sub.remove(prev))"
      ],
      "execution_count": 6,
      "outputs": [
        {
          "output_type": "stream",
          "text": [
            "None\n"
          ],
          "name": "stdout"
        }
      ]
    },
    {
      "cell_type": "code",
      "metadata": {
        "colab": {
          "base_uri": "https://localhost:8080/"
        },
        "id": "JnXJ1ajIRXj0",
        "outputId": "5e7e1505-05ba-437a-ad9b-7dd6461e7ed6"
      },
      "source": [
        "sub = [1,2,3]\n",
        "sub.remove(1)\n",
        "print(min(sub))"
      ],
      "execution_count": 23,
      "outputs": [
        {
          "output_type": "stream",
          "text": [
            "2\n"
          ],
          "name": "stdout"
        }
      ]
    },
    {
      "cell_type": "code",
      "metadata": {
        "id": "uKemDzkfUM-c"
      },
      "source": [
        "s = '123?'\n",
        "a = [int(i) if i != '?' else 0 for i in s]"
      ],
      "execution_count": 13,
      "outputs": []
    },
    {
      "cell_type": "code",
      "metadata": {
        "colab": {
          "base_uri": "https://localhost:8080/",
          "height": 35
        },
        "id": "IKocAl5bUZ0r",
        "outputId": "e58c0ff2-3d9f-4312-c108-4849f787d82f"
      },
      "source": [
        "''.join([str(i) for i in a])"
      ],
      "execution_count": 17,
      "outputs": [
        {
          "output_type": "execute_result",
          "data": {
            "application/vnd.google.colaboratory.intrinsic+json": {
              "type": "string"
            },
            "text/plain": [
              "'1230'"
            ]
          },
          "metadata": {
            "tags": []
          },
          "execution_count": 17
        }
      ]
    },
    {
      "cell_type": "code",
      "metadata": {
        "id": "axwBix96VSU7"
      },
      "source": [
        "class Solution:\n",
        "    def solve(self, s):\n",
        "        s = [int(i) if i != '?' else 4 for i in s]\n",
        "        # check if ?\n",
        "        prev = 1\n",
        "        for i in range(len(s)):\n",
        "            if s[0] == 4:\n",
        "                s[0] == 1\n",
        "                \n",
        "            elif s[i] == 4:\n",
        "                sub = [1,2,3]\n",
        "                prev = s[i - 1]\n",
        "                print('prev:',prev)\n",
        "                sub.remove(prev)\n",
        "            \n",
        "                s[i] = min(sub)\n",
        "                \n",
        "        return ''.join([str(i) for i in s])\n",
        "            # if digit, set next digit not the same\n",
        "                \n",
        "        # get min that is not last digit\n",
        "        # replace"
      ],
      "execution_count": null,
      "outputs": []
    }
  ]
}