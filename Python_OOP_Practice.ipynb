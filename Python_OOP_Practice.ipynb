{
  "nbformat": 4,
  "nbformat_minor": 0,
  "metadata": {
    "colab": {
      "name": "Python_OOP_Practice.ipynb",
      "provenance": [],
      "collapsed_sections": [],
      "authorship_tag": "ABX9TyM/UJJkMRpBa9XFlHbOZvMS",
      "include_colab_link": true
    },
    "kernelspec": {
      "name": "python3",
      "display_name": "Python 3"
    }
  },
  "cells": [
    {
      "cell_type": "markdown",
      "metadata": {
        "id": "view-in-github",
        "colab_type": "text"
      },
      "source": [
        "<a href=\"https://colab.research.google.com/github/LilySu/Python_Practice/blob/master/Python_OOP_Practice.ipynb\" target=\"_parent\"><img src=\"https://colab.research.google.com/assets/colab-badge.svg\" alt=\"Open In Colab\"/></a>"
      ]
    },
    {
      "cell_type": "code",
      "metadata": {
        "id": "u32Md4rDcqQU",
        "colab_type": "code",
        "colab": {}
      },
      "source": [
        ""
      ],
      "execution_count": null,
      "outputs": []
    },
    {
      "cell_type": "markdown",
      "metadata": {
        "id": "gj9cCEIAc8De",
        "colab_type": "text"
      },
      "source": [
        "method - function associated with a class"
      ]
    },
    {
      "cell_type": "markdown",
      "metadata": {
        "id": "kCdQsZtfc-i-",
        "colab_type": "text"
      },
      "source": [
        "classes are great for attributes with specific values\n",
        "a class is good for creating each employee"
      ]
    },
    {
      "cell_type": "markdown",
      "metadata": {
        "id": "s44e9aCqdOVT",
        "colab_type": "text"
      },
      "source": [
        "classes are a great blueprint for creating employees"
      ]
    },
    {
      "cell_type": "code",
      "metadata": {
        "id": "1X7jEqxRdMc2",
        "colab_type": "code",
        "colab": {}
      },
      "source": [
        ""
      ],
      "execution_count": null,
      "outputs": []
    },
    {
      "cell_type": "code",
      "metadata": {
        "id": "0v1LHta1dEdC",
        "colab_type": "code",
        "colab": {
          "base_uri": "https://localhost:8080/",
          "height": 34
        },
        "outputId": "8c7552c6-be99-493e-9621-65f2c8272253"
      },
      "source": [
        "class Employee:\n",
        "  pass\n",
        "emp_1 = Employee()#instances of Employee class\n",
        "#manually create:\n",
        "emp_1.first = 'Corey'\n",
        "emp_1.last = 'User'#each instance has attributes unique to them\n",
        "emp_1.email = 'Test.User@company.com'\n",
        "emp_1.pay = 60000\n",
        "print(emp_1.email)\n",
        "# this is prone to mistakes if we did it this way"
      ],
      "execution_count": null,
      "outputs": [
        {
          "output_type": "stream",
          "text": [
            "Test.User@company.com\n"
          ],
          "name": "stdout"
        }
      ]
    },
    {
      "cell_type": "code",
      "metadata": {
        "id": "EbBSwSqtdU-u",
        "colab_type": "code",
        "colab": {}
      },
      "source": [
        "#instance variables contain data unique for each instance"
      ],
      "execution_count": null,
      "outputs": []
    },
    {
      "cell_type": "code",
      "metadata": {
        "id": "6YcxiQQneAu7",
        "colab_type": "code",
        "colab": {
          "base_uri": "https://localhost:8080/",
          "height": 34
        },
        "outputId": "94a9c53f-7580-4c86-c062-7d176ae4fb59"
      },
      "source": [
        "class Employee:\n",
        "\n",
        "  raise_amount = 1.04\n",
        "  def __init__(self, first, last, pay):#constructor, instance received automatically, convention is self\n",
        "    self.first = first # keep similar if possible\n",
        "    self.last = last \n",
        "    self.pay = pay\n",
        "    self.email = first + '.' + last + '@company.com'\n",
        "\n",
        "  def fullname(self):#take instance as first argulment in order to take full name\n",
        "    return '{} {}'.format(self.first, self.last)\n",
        "\n",
        "  def apply_raise(self):\n",
        "    self.pay = int(self.pay * self.raise_amount)\n",
        "\n",
        "emp_1 = Employee('Corey','Schafer',50000)\n",
        "emp_2 = Employee('Test','User',60000)\n",
        "\n",
        "emp_1.raise_amount = 1.05 # this will override\n",
        "\n",
        "# print(emp_1.pay)\n",
        "# emp_1.apply_raise()\n",
        "# print(emp_1.pay)\n",
        "# print(emp_1.fullname())\n",
        "\n",
        "print(emp_1.__dict__)"
      ],
      "execution_count": null,
      "outputs": [
        {
          "output_type": "stream",
          "text": [
            "{'first': 'Corey', 'last': 'Schafer', 'pay': 50000, 'email': 'Corey.Schafer@company.com', 'raise_amount': 1.05}\n"
          ],
          "name": "stdout"
        }
      ]
    },
    {
      "cell_type": "code",
      "metadata": {
        "id": "VtXIaM8keyJx",
        "colab_type": "code",
        "colab": {
          "base_uri": "https://localhost:8080/",
          "height": 34
        },
        "outputId": "5974082e-2a91-4691-eb3c-1127d81b1b18"
      },
      "source": [
        "print('{} {}'.format(emp_1.first,emp_1.last))"
      ],
      "execution_count": null,
      "outputs": [
        {
          "output_type": "stream",
          "text": [
            "Corey Schafer\n"
          ],
          "name": "stdout"
        }
      ]
    },
    {
      "cell_type": "code",
      "metadata": {
        "id": "Db_54VeCiedJ",
        "colab_type": "code",
        "colab": {}
      },
      "source": [
        "s = set(\"Hacker\")"
      ],
      "execution_count": null,
      "outputs": []
    },
    {
      "cell_type": "code",
      "metadata": {
        "id": "Szr2ynwkvKCy",
        "colab_type": "code",
        "colab": {
          "base_uri": "https://localhost:8080/",
          "height": 34
        },
        "outputId": "798db146-d1d9-4369-9c0c-df464607386a"
      },
      "source": [
        "print(s.intersection(\"Rank\"))"
      ],
      "execution_count": null,
      "outputs": [
        {
          "output_type": "stream",
          "text": [
            "{'a', 'k'}\n"
          ],
          "name": "stdout"
        }
      ]
    },
    {
      "cell_type": "code",
      "metadata": {
        "id": "TILLMQKOvNPX",
        "colab_type": "code",
        "colab": {
          "base_uri": "https://localhost:8080/",
          "height": 103
        },
        "outputId": "acf41df1-2291-43f9-afe4-89eab1a74769"
      },
      "source": [
        "num_students = set(input())\n",
        "roll_students = set(input())\n",
        "num_students2 = set(input())\n",
        "roll_students2 = set(input())\n",
        "\n",
        "print(num_students.intersection(roll_students2))"
      ],
      "execution_count": null,
      "outputs": [
        {
          "output_type": "stream",
          "text": [
            "9\n",
            "1 2 3 4 5 6 7 8 9\n",
            "9\n",
            "10 1 2 3 11 21 55 6 8\n",
            "set()\n"
          ],
          "name": "stdout"
        }
      ]
    },
    {
      "cell_type": "code",
      "metadata": {
        "id": "sfeCN5NqxRkU",
        "colab_type": "code",
        "colab": {
          "base_uri": "https://localhost:8080/",
          "height": 34
        },
        "outputId": "e7b78a23-0c92-4b46-a3e2-4e5e95d3f32d"
      },
      "source": [
        "print(num_students.intersection(roll_students2))"
      ],
      "execution_count": null,
      "outputs": [
        {
          "output_type": "stream",
          "text": [
            "set()\n"
          ],
          "name": "stdout"
        }
      ]
    },
    {
      "cell_type": "code",
      "metadata": {
        "id": "PhixKDqpxeG4",
        "colab_type": "code",
        "colab": {
          "base_uri": "https://localhost:8080/",
          "height": 270
        },
        "outputId": "58b46f18-e9b2-442b-e37e-3e647f374572"
      },
      "source": [
        "num_students = input()\n",
        "roll_students = set(input())\n",
        "num_students2 = input()\n",
        "roll_students2 = input()\n",
        "\n",
        "print(num_students.intersection(roll_students2))"
      ],
      "execution_count": null,
      "outputs": [
        {
          "output_type": "stream",
          "text": [
            "9\n",
            "1 2 3 4 5 6 7 8 9\n",
            "9\n",
            "10 1 2 3 11 21 55 6 8\n"
          ],
          "name": "stdout"
        },
        {
          "output_type": "error",
          "ename": "AttributeError",
          "evalue": "ignored",
          "traceback": [
            "\u001b[0;31m---------------------------------------------------------------------------\u001b[0m",
            "\u001b[0;31mAttributeError\u001b[0m                            Traceback (most recent call last)",
            "\u001b[0;32m<ipython-input-5-07e32de7d4a8>\u001b[0m in \u001b[0;36m<module>\u001b[0;34m()\u001b[0m\n\u001b[1;32m      4\u001b[0m \u001b[0mroll_students2\u001b[0m \u001b[0;34m=\u001b[0m \u001b[0minput\u001b[0m\u001b[0;34m(\u001b[0m\u001b[0;34m)\u001b[0m\u001b[0;34m\u001b[0m\u001b[0;34m\u001b[0m\u001b[0m\n\u001b[1;32m      5\u001b[0m \u001b[0;34m\u001b[0m\u001b[0m\n\u001b[0;32m----> 6\u001b[0;31m \u001b[0mprint\u001b[0m\u001b[0;34m(\u001b[0m\u001b[0mnum_students\u001b[0m\u001b[0;34m.\u001b[0m\u001b[0mintersection\u001b[0m\u001b[0;34m(\u001b[0m\u001b[0mroll_students2\u001b[0m\u001b[0;34m)\u001b[0m\u001b[0;34m)\u001b[0m\u001b[0;34m\u001b[0m\u001b[0;34m\u001b[0m\u001b[0m\n\u001b[0m",
            "\u001b[0;31mAttributeError\u001b[0m: 'str' object has no attribute 'intersection'"
          ]
        }
      ]
    },
    {
      "cell_type": "code",
      "metadata": {
        "id": "MuPXP84zxolP",
        "colab_type": "code",
        "colab": {
          "base_uri": "https://localhost:8080/",
          "height": 34
        },
        "outputId": "a60b65cc-dcba-4da6-d969-076ecb8864a2"
      },
      "source": [
        "roll_students2 = input()"
      ],
      "execution_count": null,
      "outputs": [
        {
          "output_type": "stream",
          "text": [
            "1 2 3 4 5 6 7 8 9\n"
          ],
          "name": "stdout"
        }
      ]
    },
    {
      "cell_type": "code",
      "metadata": {
        "id": "22uuT8Nzzy3j",
        "colab_type": "code",
        "colab": {
          "base_uri": "https://localhost:8080/",
          "height": 218
        },
        "outputId": "c7315924-e9fe-43b9-aa01-44d2f66f5bfe"
      },
      "source": [
        "r = {roll_students2.split(' ')}\n",
        "# s = {r}\n",
        "# s\n",
        "f"
      ],
      "execution_count": null,
      "outputs": [
        {
          "output_type": "error",
          "ename": "TypeError",
          "evalue": "ignored",
          "traceback": [
            "\u001b[0;31m---------------------------------------------------------------------------\u001b[0m",
            "\u001b[0;31mTypeError\u001b[0m                                 Traceback (most recent call last)",
            "\u001b[0;32m<ipython-input-15-81b38595184f>\u001b[0m in \u001b[0;36m<module>\u001b[0;34m()\u001b[0m\n\u001b[1;32m      1\u001b[0m \u001b[0mr\u001b[0m \u001b[0;34m=\u001b[0m \u001b[0mroll_students2\u001b[0m\u001b[0;34m.\u001b[0m\u001b[0msplit\u001b[0m\u001b[0;34m(\u001b[0m\u001b[0;34m' '\u001b[0m\u001b[0;34m)\u001b[0m\u001b[0;34m\u001b[0m\u001b[0;34m\u001b[0m\u001b[0m\n\u001b[0;32m----> 2\u001b[0;31m \u001b[0ms\u001b[0m \u001b[0;34m=\u001b[0m \u001b[0;34m{\u001b[0m\u001b[0mr\u001b[0m\u001b[0;34m}\u001b[0m\u001b[0;34m\u001b[0m\u001b[0;34m\u001b[0m\u001b[0m\n\u001b[0m\u001b[1;32m      3\u001b[0m \u001b[0;31m# s\u001b[0m\u001b[0;34m\u001b[0m\u001b[0;34m\u001b[0m\u001b[0;34m\u001b[0m\u001b[0m\n\u001b[1;32m      4\u001b[0m \u001b[0ms\u001b[0m\u001b[0;34m\u001b[0m\u001b[0;34m\u001b[0m\u001b[0m\n",
            "\u001b[0;31mTypeError\u001b[0m: unhashable type: 'list'"
          ]
        }
      ]
    },
    {
      "cell_type": "code",
      "metadata": {
        "id": "cQSkti-yz383",
        "colab_type": "code",
        "colab": {
          "base_uri": "https://localhost:8080/",
          "height": 34
        },
        "outputId": "31190bfa-5de2-46f8-a864-bd85f4213256"
      },
      "source": [
        "s = set(roll_students2)\n",
        "s"
      ],
      "execution_count": null,
      "outputs": [
        {
          "output_type": "execute_result",
          "data": {
            "text/plain": [
              "{' ', '1', '2', '3', '4', '5', '6', '7', '8', '9'}"
            ]
          },
          "metadata": {
            "tags": []
          },
          "execution_count": 11
        }
      ]
    },
    {
      "cell_type": "code",
      "metadata": {
        "id": "GW30D3WK0Kiv",
        "colab_type": "code",
        "colab": {
          "base_uri": "https://localhost:8080/",
          "height": 34
        },
        "outputId": "587c7632-02b8-46f5-931d-fe681c11e7ef"
      },
      "source": [
        "s.remove(' ')\n",
        "s"
      ],
      "execution_count": null,
      "outputs": [
        {
          "output_type": "execute_result",
          "data": {
            "text/plain": [
              "{'1', '2', '3', '4', '5', '6', '7', '8', '9'}"
            ]
          },
          "metadata": {
            "tags": []
          },
          "execution_count": 12
        }
      ]
    },
    {
      "cell_type": "code",
      "metadata": {
        "id": "ZK2NGOVk0Ue_",
        "colab_type": "code",
        "colab": {}
      },
      "source": [
        "# Enter your code here. Read input from STDIN. Print output to STDOUT\n",
        "# Enter your code here. Read input from STDIN. Print output to STDOUT\n",
        "num_students = int(input())\n",
        "roll_students = set()\n",
        "for i in range(num_students):\n",
        "    roll_students.add(int(input()))\n",
        "\n",
        "\n",
        "num_students2 = int(input())\n",
        "roll_students2 = input()\n",
        "\n",
        "roll_students2.split(' ')\n",
        "\n",
        "# roll_students2 = set()\n",
        "# for i in range(num_students2):\n",
        "#     roll_students2.add(input())\n",
        "\n",
        "print(roll_students.intersection(roll_students2))"
      ],
      "execution_count": null,
      "outputs": []
    },
    {
      "cell_type": "code",
      "metadata": {
        "id": "H5yzzp8K3r2q",
        "colab_type": "code",
        "colab": {
          "base_uri": "https://localhost:8080/",
          "height": 103
        },
        "outputId": "824e3f3a-923d-430d-bb62-b2ff0ba0f3fd"
      },
      "source": [
        "# Enter your code here. Read input from STDIN. Print output to STDOUT\n",
        "# Enter your code here. Read input from STDIN. Print output to STDOUT\n",
        "num_students = int(input())\n",
        "# roll_students = set()\n",
        "# for i in range(num_students):\n",
        "#     roll_students.add(int(input()))\n",
        "roll_students = set(input())\n",
        "roll_students.remove(' ')\n",
        "\n",
        "\n",
        "num_students2 = int(input())\n",
        "roll_students2 = set(input())\n",
        "roll_students2.remove(' ')\n",
        "\n",
        "# roll_students2 = set()\n",
        "# for i in range(num_students2):\n",
        "#     roll_students2.add(input())\n",
        "\n",
        "intersection = roll_students.intersection(roll_students2)\n",
        "\n",
        "print(len(intersection))"
      ],
      "execution_count": null,
      "outputs": [
        {
          "output_type": "stream",
          "text": [
            "9\n",
            "1 2 3 4 5 6 7 8 9\n",
            "9\n",
            "10 1 2 3 11 21 55 6 8\n",
            "6\n"
          ],
          "name": "stdout"
        }
      ]
    },
    {
      "cell_type": "code",
      "metadata": {
        "id": "5xJA4ido3tiP",
        "colab_type": "code",
        "colab": {
          "base_uri": "https://localhost:8080/",
          "height": 34
        },
        "outputId": "a05f8bd1-4cbc-479f-d45d-2ae1efd21a0d"
      },
      "source": [
        "intersection"
      ],
      "execution_count": null,
      "outputs": [
        {
          "output_type": "execute_result",
          "data": {
            "text/plain": [
              "{'1', '2', '3', '5', '6', '8'}"
            ]
          },
          "metadata": {
            "tags": []
          },
          "execution_count": 17
        }
      ]
    },
    {
      "cell_type": "code",
      "metadata": {
        "id": "6Pi63_cD3083",
        "colab_type": "code",
        "colab": {
          "base_uri": "https://localhost:8080/",
          "height": 34
        },
        "outputId": "c6eee9a1-4948-43e6-f1ee-d08bd02aeb2c"
      },
      "source": [
        "roll_students2"
      ],
      "execution_count": null,
      "outputs": [
        {
          "output_type": "execute_result",
          "data": {
            "text/plain": [
              "{'0', '1', '2', '3', '5', '6', '8'}"
            ]
          },
          "metadata": {
            "tags": []
          },
          "execution_count": 20
        }
      ]
    },
    {
      "cell_type": "code",
      "metadata": {
        "id": "e2SqwNrY5hbu",
        "colab_type": "code",
        "colab": {
          "base_uri": "https://localhost:8080/",
          "height": 34
        },
        "outputId": "52a2d9ae-07e4-4eaf-83f0-0a9e19be9a70"
      },
      "source": [
        "roll_students2 = input()"
      ],
      "execution_count": null,
      "outputs": [
        {
          "output_type": "stream",
          "text": [
            "10 1 2 3 11 21 55 6 8\n"
          ],
          "name": "stdout"
        }
      ]
    },
    {
      "cell_type": "code",
      "metadata": {
        "id": "dXO7Q5eD5qOX",
        "colab_type": "code",
        "colab": {
          "base_uri": "https://localhost:8080/",
          "height": 34
        },
        "outputId": "cf8993c2-d2a3-4f62-cbd3-e5b025688dc5"
      },
      "source": [
        "type(roll_students2)"
      ],
      "execution_count": null,
      "outputs": [
        {
          "output_type": "execute_result",
          "data": {
            "text/plain": [
              "str"
            ]
          },
          "metadata": {
            "tags": []
          },
          "execution_count": 22
        }
      ]
    },
    {
      "cell_type": "code",
      "metadata": {
        "id": "DcY3nxxV56NL",
        "colab_type": "code",
        "colab": {}
      },
      "source": [
        "lst = roll_students2.split(' ')"
      ],
      "execution_count": null,
      "outputs": []
    },
    {
      "cell_type": "code",
      "metadata": {
        "id": "Zjzlzi065y0v",
        "colab_type": "code",
        "colab": {
          "base_uri": "https://localhost:8080/",
          "height": 34
        },
        "outputId": "3e518075-769a-4035-a88f-50e32db18cdf"
      },
      "source": [
        "set(lst)"
      ],
      "execution_count": null,
      "outputs": [
        {
          "output_type": "execute_result",
          "data": {
            "text/plain": [
              "{'1', '10', '11', '2', '21', '3', '55', '6', '8'}"
            ]
          },
          "metadata": {
            "tags": []
          },
          "execution_count": 27
        }
      ]
    },
    {
      "cell_type": "code",
      "metadata": {
        "id": "XIhXj_iI37Q2",
        "colab_type": "code",
        "colab": {}
      },
      "source": [
        "10 1 2 3 11 21 55 6 8"
      ],
      "execution_count": null,
      "outputs": []
    },
    {
      "cell_type": "code",
      "metadata": {
        "id": "b5QdhdsWhQmo",
        "colab_type": "code",
        "colab": {
          "base_uri": "https://localhost:8080/",
          "height": 69
        },
        "outputId": "6681855a-4104-4e2c-9028-eb8b5c4a0f9d"
      },
      "source": [
        "#instance variables contain data that is unique\n",
        "\n",
        "class Employee:\n",
        "    num_of_emps = 0 #class variables\n",
        "    raise_amount = 1.04\n",
        "    def __init__(self,first,last,pay):# this is a constructor, regular methods in a class takes instance as first argument (self), if we change this to take the class as first argument we call a classmethod\n",
        "        self.first = first\n",
        "        self.last = last\n",
        "        self.pay = pay\n",
        "        self.email = first + '.' + last + '@company.com'\n",
        "\n",
        "        Employee.num_of_emps += 1\n",
        "\n",
        "    def fullname(self):\n",
        "        return '{} {}'.format(self.first, self.last)\n",
        "\n",
        "    def apply_raise(self):\n",
        "        self.pay = int(self.pay * self.raise_amount) # self.raise_amount access through instance\n",
        "\n",
        "    @classmethod # can be alternative constructors\n",
        "    def set_raise_amt(cls, amount):\n",
        "        cls.raise_amt = amount\n",
        "\n",
        "    @classmethod\n",
        "    def from_string(cls, emp_str):\n",
        "        first, last, pay = emp_str_1.split('-')\n",
        "        return cls(first, last, pay) #cls stands fro the Employee class object\n",
        "\n",
        "    # static methods don't pass anything\n",
        "    @staticmethod # use staticmethod if you don't access instance or class anywhere in function \n",
        "    def is_workday(day):\n",
        "        if day.weekday() ==5 or day.weekday() ==6:\n",
        "            return False\n",
        "        return True\n",
        "\n",
        "\n",
        "emp_1 = Employee('Corey','Schafer',50000)\n",
        "emp_2 = Employee('Test','User',60000)\n",
        "\n",
        "import datetime\n",
        "my_date = datetime.date(2020, 7, 10)\n",
        "print(Employee.is_workday(my_date))\n",
        "\n",
        "Employee.set_raise_amt(1.05)#automatically accepts class, this class method is not an instance method, we are setting raise_amt\n",
        "\n",
        "# print(Employee.num_of_emps)\n",
        "\n",
        "# emp_1.fullname()# instance calling method fullname, self is not needed, self passed automatically\n",
        "# Employee.fullname(emp_1)# class calling method does not know what instance is needed\n",
        "\n",
        "# emp_1.first = 'Corey'\n",
        "# emp_1.last = 'Schafer'\n",
        "# emp_1.email = 'Corey.Schafer@company.com'\n",
        "# emp_1.pay = 50000\n",
        "\n",
        "# emp_2.first = 'Test'\n",
        "# emp_2.last = 'User'\n",
        "# emp_2.email = 'Test.User@company.com'\n",
        "# emp_2.pay = 60000\n",
        "\n",
        "# print(emp_1.email)\n",
        "# print(emp_2.email)\n",
        "# print(emp_2.fullname())\n",
        "# print(emp_1.pay)\n",
        "# emp_1.apply_raise()\n",
        "# print(emp_1.pay)\n",
        "# print(emp_1.raise_amount)\n",
        "# print(emp_2.raise_amount)\n",
        "# emp_1.raise_amount=1.05\n",
        "# print(Employee.raise_amount)\n",
        "# print(emp_1.raise_amount)\n",
        "# print(emp_2.raise_amount)\n",
        "\n",
        "# print(Employee.raise_amt)\n",
        "# print(emp_1.raise_amt)\n",
        "# print(emp_2.raise_amt)\n",
        "\n",
        "emp_str_1 = 'John-Doe-70000'\n",
        "emp_str_2 = 'Steve-Smith-30000'\n",
        "emp_str_3 = 'Jane-Doe-90000'\n",
        "first, last, pay = emp_str_1.split('-')\n",
        "new_emp_1 = Employee.from_string(emp_str_1)\n",
        "\n",
        "print(new_emp_1.email)\n",
        "print(new_emp_1.pay)"
      ],
      "execution_count": 31,
      "outputs": [
        {
          "output_type": "stream",
          "text": [
            "True\n",
            "John.Doe@company.com\n",
            "70000\n"
          ],
          "name": "stdout"
        }
      ]
    },
    {
      "cell_type": "code",
      "metadata": {
        "id": "zGvkgfYZ9Lgv",
        "colab_type": "code",
        "colab": {
          "base_uri": "https://localhost:8080/",
          "height": 51
        },
        "outputId": "fc9fac9e-af89-4e91-ead1-cc386798df76"
      },
      "source": [
        "#instance variables contain data that is unique\n",
        "\n",
        "class Employee:\n",
        "    num_of_emps = 0 #class variables\n",
        "    raise_amount = 1.04\n",
        "    def __init__(self,first,last,pay):# this is a constructor, regular methods in a class takes instance as first argument (self), if we change this to take the class as first argument we call a classmethod\n",
        "        self.first = first\n",
        "        self.last = last\n",
        "        self.pay = pay\n",
        "        self.email = first + '.' + last + '@company.com'\n",
        "\n",
        "        Employee.num_of_emps += 1\n",
        "\n",
        "    def fullname(self):\n",
        "        return '{} {}'.format(self.first, self.last)\n",
        "\n",
        "    def apply_raise(self):\n",
        "        self.pay = int(self.pay * self.raise_amount) # self.raise_amount access through instance\n",
        "\n",
        "class Developer(Employee):\n",
        "    raise_amount = 1.10\n",
        "\n",
        "emp_1 = Developer('Corey','Schafer',50000) #looks first in developer class, then walk up chain of inheritence, chain is called method resolution order\n",
        "emp_2 = Developer('Test','User',60000)\n",
        "#the chain in which code is run method resolution order\n",
        "\n",
        "# print(emp_1.email)\n",
        "# print(emp_1.pay)\n",
        "\n",
        "print(emp_1.pay)\n",
        "emp_1.apply_raise()\n",
        "print(emp_1.pay)\n",
        "\n",
        "# print(help(Developer))"
      ],
      "execution_count": 6,
      "outputs": [
        {
          "output_type": "stream",
          "text": [
            "50000\n",
            "55000\n"
          ],
          "name": "stdout"
        }
      ]
    },
    {
      "cell_type": "code",
      "metadata": {
        "id": "dxLYmCtdEHLv",
        "colab_type": "code",
        "colab": {
          "base_uri": "https://localhost:8080/",
          "height": 86
        },
        "outputId": "0cfa3a2c-7e28-41b0-c067-cce7846ab84f"
      },
      "source": [
        "#instance variables contain data that is unique\n",
        "\n",
        "class Employee:\n",
        "    num_of_emps = 0 #class variables\n",
        "    raise_amount = 1.04\n",
        "    def __init__(self,first,last,pay):# this is a constructor, regular methods in a class takes instance as first argument (self), if we change this to take the class as first argument we call a classmethod\n",
        "        self.first = first\n",
        "        self.last = last\n",
        "        self.pay = pay\n",
        "        self.email = first + '.' + last + '@company.com'\n",
        "\n",
        "        Employee.num_of_emps += 1\n",
        "\n",
        "    def fullname(self):\n",
        "        return '{} {}'.format(self.first, self.last)\n",
        "\n",
        "    def apply_raise(self):\n",
        "        self.pay = int(self.pay * self.raise_amount) # self.raise_amount access through instance\n",
        "\n",
        "class Developer(Employee):\n",
        "    raise_amount = 1.10\n",
        "    # let employee handle first name last name, and pay\n",
        "    # if we want to pass in another attribute and add on other functions\n",
        "    def __init__(self, first, last, pay, prog_lang):\n",
        "        super().__init__(first, last, pay) # more maintainable, better for multiple inheretence \n",
        "        # Employee.__init__(self, first, last, pay) # same thing\n",
        "        self.prog_lang = prog_lang\n",
        "\n",
        "class Manager(Employee):\n",
        "    def __init__(self, first, last, pay, employees=None):\n",
        "        super().__init__(first, last, pay)\n",
        "        if employees is None:\n",
        "            self.employees = []\n",
        "        else:\n",
        "            self.employees = employees\n",
        "\n",
        "    def add_emp(self, emp):\n",
        "        if emp not in self.employees:\n",
        "            self.employees.append(emp)\n",
        "\n",
        "    def remove_emp(self, emp):\n",
        "        if emp in self.employees:\n",
        "            self.employees.remove(emp)\n",
        "\n",
        "    def print_emps(self):\n",
        "        for emp in self.employees:\n",
        "            print('-->', emp.fullname())\n",
        "\n",
        "dev_1 = Developer('Corey','Schafer',50000, 'Python') #looks first in developer class, then walk up chain of inheritence, chain is called method resolution order\n",
        "dev_2 = Developer('Test','User',60000, 'Java')\n",
        "\n",
        "mgr_1 = Manager('Sue', 'Smith',90000, [dev_1])\n",
        "\n",
        "print(isinstance(mgr_1, Manager)) # tells us if an object is an instance of a class, ie is mrg_1 is an instance of Manager\n",
        "# even though developer and manager both inherit from employee, they are not part of each other's inheritance\n",
        "\n",
        "print(issubclass(Developer, Employee)) # if a class is a subclass of another class, ie is Developer a subclass of Employee\n",
        "\n",
        "\n",
        "mgr_1.add_emp(dev_2)\n",
        "mgr_1.remove_emp(dev_1)\n",
        "print(mgr_1.print_emps())\n",
        "\n",
        "#the chain in which code is run method resolution order\n",
        "\n",
        "# print(emp_1.email)\n",
        "# print(emp_1.pay)\n",
        "\n",
        "# print(emp_1.pay)\n",
        "# emp_1.apply_raise()\n",
        "# print(emp_1.pay)\n",
        "\n",
        "# print(help(Developer))"
      ],
      "execution_count": 12,
      "outputs": [
        {
          "output_type": "stream",
          "text": [
            "True\n",
            "True\n",
            "--> Test User\n",
            "None\n"
          ],
          "name": "stdout"
        }
      ]
    },
    {
      "cell_type": "code",
      "metadata": {
        "id": "KCWUlnDuhpPW",
        "colab_type": "code",
        "colab": {
          "base_uri": "https://localhost:8080/",
          "height": 51
        },
        "outputId": "feaa1c31-87f8-40e0-951b-24d96fd2cb64"
      },
      "source": [
        "nums = [3,3,7]\n",
        "target = 10\n",
        "newlist = []\n",
        "for i in nums:\n",
        "    newlist.append(i)\n",
        "    for j in nums:\n",
        "        if j not in newlist:\n",
        "            if i + j == target:\n",
        "                print(nums.index(i), nums.index(j))"
      ],
      "execution_count": 43,
      "outputs": [
        {
          "output_type": "stream",
          "text": [
            "0 2\n",
            "0 2\n"
          ],
          "name": "stdout"
        }
      ]
    },
    {
      "cell_type": "code",
      "metadata": {
        "id": "Jq5XWOzSJeZH",
        "colab_type": "code",
        "colab": {}
      },
      "source": [
        "nums = [230,863,916,585,981,404,316,785,88,12,70,435,384,778,887,755,740,337,86,92,325,422,815,650,920,125,277,336,221,847,168,23,677,61,400,136,874,363,394,199,863,997,794,587,124,321,212,957,764,173,314,422,927,783,930,282,306,506,44,926,691,568,68,730,933,737,531,180,414,751,28,546,60,371,493,370,527,387,43,541,13,457,328,227,652,365,430,803,59,858,538,427,583,368,375,173,809,896,370,789,542]\n",
        "target = 542\n",
        "\n",
        "# nums = [1,2, 3, 4,5]\n",
        "# target = 9\n",
        "newlist = ''\n",
        "for i in range(len(nums)):\n",
        "    newlist += str(i)\n",
        "    for j in range(len(nums)):\n",
        "        if str(j) not in newlist:\n",
        "            if nums[i] + nums[j] == target:\n",
        "                print(i, j)"
      ],
      "execution_count": 14,
      "outputs": []
    },
    {
      "cell_type": "code",
      "metadata": {
        "id": "GmWMAPMNgai1",
        "colab_type": "code",
        "colab": {
          "base_uri": "https://localhost:8080/",
          "height": 34
        },
        "outputId": "c0a129ed-f16b-4383-d7a3-1f4bf9e56048"
      },
      "source": [
        "nums = [230,863,916,585,981,404,316,785,88,12,70,435]\n",
        "\n",
        "my_list = [n for n in nums]\n",
        "print(my_list)"
      ],
      "execution_count": 21,
      "outputs": [
        {
          "output_type": "stream",
          "text": [
            "[230, 863, 916, 585, 981, 404, 316, 785, 88, 12, 70, 435]\n"
          ],
          "name": "stdout"
        }
      ]
    },
    {
      "cell_type": "code",
      "metadata": {
        "id": "GiM7NmhLkJ_6",
        "colab_type": "code",
        "colab": {
          "base_uri": "https://localhost:8080/",
          "height": 34
        },
        "outputId": "c4b46a2b-854e-4a70-f434-d8c85ea8fb50"
      },
      "source": [
        "#map runs everything in a list with a certain function\n",
        "[n*n for n in nums]\n",
        "map(lambda n: n*n, nums)\n",
        "print(my_list)"
      ],
      "execution_count": 22,
      "outputs": [
        {
          "output_type": "stream",
          "text": [
            "[230, 863, 916, 585, 981, 404, 316, 785, 88, 12, 70, 435]\n"
          ],
          "name": "stdout"
        }
      ]
    },
    {
      "cell_type": "code",
      "metadata": {
        "id": "0ZER2DnZtqL9",
        "colab_type": "code",
        "colab": {
          "base_uri": "https://localhost:8080/",
          "height": 86
        },
        "outputId": "adfd40a7-4585-4c13-940e-56bfbfc5eac2"
      },
      "source": [
        "#enumerate example\n",
        "example = ['left','right','up','down']\n",
        "\n",
        "for i, j in enumerate(example):\n",
        "    print(i,j)"
      ],
      "execution_count": 71,
      "outputs": [
        {
          "output_type": "stream",
          "text": [
            "0 left\n",
            "1 right\n",
            "2 up\n",
            "3 down\n"
          ],
          "name": "stdout"
        }
      ]
    },
    {
      "cell_type": "code",
      "metadata": {
        "id": "Mjioitx_yTTj",
        "colab_type": "code",
        "colab": {
          "base_uri": "https://localhost:8080/",
          "height": 34
        },
        "outputId": "e3fa38c5-c0f4-43eb-f52c-44c959c75a10"
      },
      "source": [
        "nums = [230, 863, 916, 585, 981, 404, 316, 785, 88, 12, 70, 435]\n",
        "target = 100\n",
        "h = {}\n",
        "for i,num in enumerate(nums):\n",
        "    n = target - num # if the total minus one of the numbers equals this number\n",
        "    if n not in h:#if not in dictionary yet\n",
        "        h[num] = i # put in a dictionary\n",
        "    else:\n",
        "        print([h[n],i])"
      ],
      "execution_count": 78,
      "outputs": [
        {
          "output_type": "stream",
          "text": [
            "[8, 9]\n"
          ],
          "name": "stdout"
        }
      ]
    },
    {
      "cell_type": "code",
      "metadata": {
        "id": "k0ubhsPZELzi",
        "colab_type": "code",
        "colab": {
          "base_uri": "https://localhost:8080/",
          "height": 34
        },
        "outputId": "d0d54c1f-e322-4311-f89b-e6123f08e99f"
      },
      "source": [
        "string_x = '109000'\n",
        "for i in range(len(string_x)):\n",
        "    lastzero = string_x[:-i]\n",
        "    # if len(lastzero) > 1:\n",
        "    #     print(lastzero, len(lastzero),lastzero[-1])\n",
        "    if (len(lastzero) > 1) and (lastzero[-1] != '0'):\n",
        "        print(lastzero)"
      ],
      "execution_count": 99,
      "outputs": [
        {
          "output_type": "stream",
          "text": [
            "109\n"
          ],
          "name": "stdout"
        }
      ]
    },
    {
      "cell_type": "code",
      "metadata": {
        "id": "DIFNLuRGdm2f",
        "colab_type": "code",
        "colab": {
          "base_uri": "https://localhost:8080/",
          "height": 34
        },
        "outputId": "efbe1119-4cf3-45a5-c91d-11f1ba03a0f9"
      },
      "source": [
        "def is_int32(number):\n",
        "    try:\n",
        "        return not(int(number)>>32)\n",
        "    except ValueError:\n",
        "        return False\n",
        "\n",
        "is_int32(2**32)"
      ],
      "execution_count": 101,
      "outputs": [
        {
          "output_type": "execute_result",
          "data": {
            "text/plain": [
              "False"
            ]
          },
          "metadata": {
            "tags": []
          },
          "execution_count": 101
        }
      ]
    },
    {
      "cell_type": "code",
      "metadata": {
        "id": "CK4t16pxeyy8",
        "colab_type": "code",
        "colab": {
          "base_uri": "https://localhost:8080/",
          "height": 34
        },
        "outputId": "7d5c1150-31ff-42b8-821d-6ca0663f0e8e"
      },
      "source": [
        "x = 123\n",
        "\n",
        "def reverse(x):\n",
        "    if not (abs(123) <= 0xffffffff): return 0\n",
        "    else:\n",
        "        strg = str(x)\n",
        "        if x >= 0: # if x is positive\n",
        "            revstr = strg[::-1] \n",
        "        else: # if x is negative\n",
        "            temp = strg[1:] # remove the first item\n",
        "            temp2 = temp[::-1] # reverse\n",
        "            revstr = '-' + temp2 # add on the negative sign\n",
        "        if not (abs(int(revstr)) <= 0xffffffff): return 0\n",
        "        return int(revstr)\n",
        "reverse(x)"
      ],
      "execution_count": 113,
      "outputs": [
        {
          "output_type": "execute_result",
          "data": {
            "text/plain": [
              "321"
            ]
          },
          "metadata": {
            "tags": []
          },
          "execution_count": 113
        }
      ]
    },
    {
      "cell_type": "code",
      "metadata": {
        "id": "lxO_QR6IizSv",
        "colab_type": "code",
        "colab": {
          "base_uri": "https://localhost:8080/",
          "height": 34
        },
        "outputId": "a4c3704c-5182-4788-8bca-2f7a59b55484"
      },
      "source": [
        "abs(123) >= 2**31-1"
      ],
      "execution_count": 117,
      "outputs": [
        {
          "output_type": "execute_result",
          "data": {
            "text/plain": [
              "False"
            ]
          },
          "metadata": {
            "tags": []
          },
          "execution_count": 117
        }
      ]
    },
    {
      "cell_type": "code",
      "metadata": {
        "id": "lsyHgUZ1hRQH",
        "colab_type": "code",
        "colab": {
          "base_uri": "https://localhost:8080/",
          "height": 35
        },
        "outputId": "2e76f9e0-71ba-4474-910b-7f2524cc6798"
      },
      "source": [
        "strg = 'test'\n",
        "strg[1:]"
      ],
      "execution_count": 106,
      "outputs": [
        {
          "output_type": "execute_result",
          "data": {
            "application/vnd.google.colaboratory.intrinsic": {
              "type": "string"
            },
            "text/plain": [
              "'est'"
            ]
          },
          "metadata": {
            "tags": []
          },
          "execution_count": 106
        }
      ]
    },
    {
      "cell_type": "code",
      "metadata": {
        "id": "N78yZiYX8His",
        "colab_type": "code",
        "colab": {
          "base_uri": "https://localhost:8080/",
          "height": 34
        },
        "outputId": "e3fe3dfb-4b7e-45f0-8bd8-3e88bc44efa4"
      },
      "source": [
        "x = 123\n",
        "string_x = str(x)\n",
        "print(int(string_x[::-1]))"
      ],
      "execution_count": 82,
      "outputs": [
        {
          "output_type": "stream",
          "text": [
            "321\n"
          ],
          "name": "stdout"
        }
      ]
    },
    {
      "cell_type": "code",
      "metadata": {
        "id": "OpoX7dxoy1JY",
        "colab_type": "code",
        "colab": {
          "base_uri": "https://localhost:8080/",
          "height": 225
        },
        "outputId": "73324b45-7959-4d10-cb73-3e4210a6521b"
      },
      "source": [
        "nums = [230, 863, 916, 585, 981, 404, 316, 785, 88, 12, 70, 435]\n",
        "for i,num in enumerate(nums):\n",
        "    print(i,num)"
      ],
      "execution_count": 80,
      "outputs": [
        {
          "output_type": "stream",
          "text": [
            "0 230\n",
            "1 863\n",
            "2 916\n",
            "3 585\n",
            "4 981\n",
            "5 404\n",
            "6 316\n",
            "7 785\n",
            "8 88\n",
            "9 12\n",
            "10 70\n",
            "11 435\n"
          ],
          "name": "stdout"
        }
      ]
    },
    {
      "cell_type": "code",
      "metadata": {
        "id": "pTO78OrnvT7W",
        "colab_type": "code",
        "colab": {
          "base_uri": "https://localhost:8080/",
          "height": 86
        },
        "outputId": "e7580625-56d9-424d-d346-57a72da3ca4e"
      },
      "source": [
        "for i,j in enumerate(example):\n",
        "    print(j)"
      ],
      "execution_count": 75,
      "outputs": [
        {
          "output_type": "stream",
          "text": [
            "left\n",
            "right\n",
            "up\n",
            "down\n"
          ],
          "name": "stdout"
        }
      ]
    },
    {
      "cell_type": "code",
      "metadata": {
        "id": "3cpzPko6t3ZQ",
        "colab_type": "code",
        "colab": {
          "base_uri": "https://localhost:8080/",
          "height": 34
        },
        "outputId": "18331e33-cbe1-4d48-d706-db0c7e506209"
      },
      "source": [
        "new_dict = dict(enumerate(example))\n",
        "print(new_dict)"
      ],
      "execution_count": 72,
      "outputs": [
        {
          "output_type": "stream",
          "text": [
            "{0: 'left', 1: 'right', 2: 'up', 3: 'down'}\n"
          ],
          "name": "stdout"
        }
      ]
    },
    {
      "cell_type": "code",
      "metadata": {
        "id": "FNkCYgCHt82o",
        "colab_type": "code",
        "colab": {
          "base_uri": "https://localhost:8080/",
          "height": 103
        },
        "outputId": "cbfcd91b-3556-41ec-e0a7-65b8d22ee17e"
      },
      "source": [
        "[print(i,j) for i,j in enumerate(new_dict)]"
      ],
      "execution_count": 73,
      "outputs": [
        {
          "output_type": "stream",
          "text": [
            "0 0\n",
            "1 1\n",
            "2 2\n",
            "3 3\n"
          ],
          "name": "stdout"
        },
        {
          "output_type": "execute_result",
          "data": {
            "text/plain": [
              "[None, None, None, None]"
            ]
          },
          "metadata": {
            "tags": []
          },
          "execution_count": 73
        }
      ]
    },
    {
      "cell_type": "code",
      "metadata": {
        "id": "qP7faMIhl9JK",
        "colab_type": "code",
        "colab": {
          "base_uri": "https://localhost:8080/",
          "height": 356
        },
        "outputId": "744c4e7b-8568-4d13-bcf3-a523c165f55a"
      },
      "source": [
        "# [j for i in range(len(nums)) for j in range(len(nums))]\n",
        "nums = [3,2,3]\n",
        "target = 6\n",
        "newlist = [j for i in range(len(nums)) for j in range(len(nums)) if nums[i] + nums[j] == target]\n",
        "newlist=list(dict.fromkeys(newlist))\n",
        "\n",
        "try:\n",
        "    for i in range(len(newlist)):\n",
        "        if nums[i] + nums[i+1] == target:\n",
        "            print([newlist[i], newlist[i+1]])\n",
        "except:\n",
        "    pass"
      ],
      "execution_count": 69,
      "outputs": [
        {
          "output_type": "error",
          "ename": "TypeError",
          "evalue": "ignored",
          "traceback": [
            "\u001b[0;31m---------------------------------------------------------------------------\u001b[0m",
            "\u001b[0;31mTypeError\u001b[0m                                 Traceback (most recent call last)",
            "\u001b[0;32m<ipython-input-69-7e914ed8072f>\u001b[0m in \u001b[0;36m<module>\u001b[0;34m()\u001b[0m\n\u001b[1;32m      2\u001b[0m \u001b[0mnums\u001b[0m \u001b[0;34m=\u001b[0m \u001b[0;34m[\u001b[0m\u001b[0;36m3\u001b[0m\u001b[0;34m,\u001b[0m\u001b[0;36m2\u001b[0m\u001b[0;34m,\u001b[0m\u001b[0;36m3\u001b[0m\u001b[0;34m]\u001b[0m\u001b[0;34m\u001b[0m\u001b[0;34m\u001b[0m\u001b[0m\n\u001b[1;32m      3\u001b[0m \u001b[0mtarget\u001b[0m \u001b[0;34m=\u001b[0m \u001b[0;36m6\u001b[0m\u001b[0;34m\u001b[0m\u001b[0;34m\u001b[0m\u001b[0m\n\u001b[0;32m----> 4\u001b[0;31m \u001b[0mnewlist\u001b[0m \u001b[0;34m=\u001b[0m \u001b[0;34m[\u001b[0m\u001b[0mj\u001b[0m \u001b[0;32mfor\u001b[0m \u001b[0mi\u001b[0m \u001b[0;32min\u001b[0m \u001b[0mrange\u001b[0m\u001b[0;34m(\u001b[0m\u001b[0mlen\u001b[0m\u001b[0;34m(\u001b[0m\u001b[0mnums\u001b[0m\u001b[0;34m)\u001b[0m\u001b[0;34m)\u001b[0m \u001b[0;32mfor\u001b[0m \u001b[0mj\u001b[0m \u001b[0;32min\u001b[0m \u001b[0mrange\u001b[0m\u001b[0;34m(\u001b[0m\u001b[0mlen\u001b[0m\u001b[0;34m(\u001b[0m\u001b[0mnums\u001b[0m\u001b[0;34m.\u001b[0m\u001b[0mremove\u001b[0m\u001b[0;34m(\u001b[0m\u001b[0mnums\u001b[0m\u001b[0;34m[\u001b[0m\u001b[0mi\u001b[0m\u001b[0;34m]\u001b[0m\u001b[0;34m)\u001b[0m\u001b[0;34m)\u001b[0m\u001b[0;34m)\u001b[0m \u001b[0;32mif\u001b[0m \u001b[0mnums\u001b[0m\u001b[0;34m[\u001b[0m\u001b[0mi\u001b[0m\u001b[0;34m]\u001b[0m \u001b[0;34m+\u001b[0m \u001b[0mnums\u001b[0m\u001b[0;34m[\u001b[0m\u001b[0mj\u001b[0m\u001b[0;34m]\u001b[0m \u001b[0;34m==\u001b[0m \u001b[0mtarget\u001b[0m\u001b[0;34m]\u001b[0m\u001b[0;34m\u001b[0m\u001b[0;34m\u001b[0m\u001b[0m\n\u001b[0m\u001b[1;32m      5\u001b[0m \u001b[0mnewlist\u001b[0m\u001b[0;34m=\u001b[0m\u001b[0mlist\u001b[0m\u001b[0;34m(\u001b[0m\u001b[0mdict\u001b[0m\u001b[0;34m.\u001b[0m\u001b[0mfromkeys\u001b[0m\u001b[0;34m(\u001b[0m\u001b[0mnewlist\u001b[0m\u001b[0;34m)\u001b[0m\u001b[0;34m)\u001b[0m\u001b[0;34m\u001b[0m\u001b[0;34m\u001b[0m\u001b[0m\n\u001b[1;32m      6\u001b[0m \u001b[0;34m\u001b[0m\u001b[0m\n",
            "\u001b[0;32m<ipython-input-69-7e914ed8072f>\u001b[0m in \u001b[0;36m<listcomp>\u001b[0;34m(.0)\u001b[0m\n\u001b[1;32m      2\u001b[0m \u001b[0mnums\u001b[0m \u001b[0;34m=\u001b[0m \u001b[0;34m[\u001b[0m\u001b[0;36m3\u001b[0m\u001b[0;34m,\u001b[0m\u001b[0;36m2\u001b[0m\u001b[0;34m,\u001b[0m\u001b[0;36m3\u001b[0m\u001b[0;34m]\u001b[0m\u001b[0;34m\u001b[0m\u001b[0;34m\u001b[0m\u001b[0m\n\u001b[1;32m      3\u001b[0m \u001b[0mtarget\u001b[0m \u001b[0;34m=\u001b[0m \u001b[0;36m6\u001b[0m\u001b[0;34m\u001b[0m\u001b[0;34m\u001b[0m\u001b[0m\n\u001b[0;32m----> 4\u001b[0;31m \u001b[0mnewlist\u001b[0m \u001b[0;34m=\u001b[0m \u001b[0;34m[\u001b[0m\u001b[0mj\u001b[0m \u001b[0;32mfor\u001b[0m \u001b[0mi\u001b[0m \u001b[0;32min\u001b[0m \u001b[0mrange\u001b[0m\u001b[0;34m(\u001b[0m\u001b[0mlen\u001b[0m\u001b[0;34m(\u001b[0m\u001b[0mnums\u001b[0m\u001b[0;34m)\u001b[0m\u001b[0;34m)\u001b[0m \u001b[0;32mfor\u001b[0m \u001b[0mj\u001b[0m \u001b[0;32min\u001b[0m \u001b[0mrange\u001b[0m\u001b[0;34m(\u001b[0m\u001b[0mlen\u001b[0m\u001b[0;34m(\u001b[0m\u001b[0mnums\u001b[0m\u001b[0;34m.\u001b[0m\u001b[0mremove\u001b[0m\u001b[0;34m(\u001b[0m\u001b[0mnums\u001b[0m\u001b[0;34m[\u001b[0m\u001b[0mi\u001b[0m\u001b[0;34m]\u001b[0m\u001b[0;34m)\u001b[0m\u001b[0;34m)\u001b[0m\u001b[0;34m)\u001b[0m \u001b[0;32mif\u001b[0m \u001b[0mnums\u001b[0m\u001b[0;34m[\u001b[0m\u001b[0mi\u001b[0m\u001b[0;34m]\u001b[0m \u001b[0;34m+\u001b[0m \u001b[0mnums\u001b[0m\u001b[0;34m[\u001b[0m\u001b[0mj\u001b[0m\u001b[0;34m]\u001b[0m \u001b[0;34m==\u001b[0m \u001b[0mtarget\u001b[0m\u001b[0;34m]\u001b[0m\u001b[0;34m\u001b[0m\u001b[0;34m\u001b[0m\u001b[0m\n\u001b[0m\u001b[1;32m      5\u001b[0m \u001b[0mnewlist\u001b[0m\u001b[0;34m=\u001b[0m\u001b[0mlist\u001b[0m\u001b[0;34m(\u001b[0m\u001b[0mdict\u001b[0m\u001b[0;34m.\u001b[0m\u001b[0mfromkeys\u001b[0m\u001b[0;34m(\u001b[0m\u001b[0mnewlist\u001b[0m\u001b[0;34m)\u001b[0m\u001b[0;34m)\u001b[0m\u001b[0;34m\u001b[0m\u001b[0;34m\u001b[0m\u001b[0m\n\u001b[1;32m      6\u001b[0m \u001b[0;34m\u001b[0m\u001b[0m\n",
            "\u001b[0;31mTypeError\u001b[0m: object of type 'NoneType' has no len()"
          ]
        }
      ]
    },
    {
      "cell_type": "code",
      "metadata": {
        "id": "QquRigsdrMC2",
        "colab_type": "code",
        "colab": {}
      },
      "source": [
        "# [j for i in range(len(nums)) for j in range(len(nums))]\n",
        "nums = [3,2,3]\n",
        "target = 6\n",
        "newlist = []\n",
        "newlist = [for i in range(len(nums))]\n",
        "newlist=list(dict.fromkeys(newlist))\n",
        "\n",
        "try:\n",
        "    for i in range(len(newlist)):\n",
        "        if nums[i] + nums[i+1] == target:\n",
        "            print([newlist[i], newlist[i+1]])\n",
        "except:\n",
        "    pass"
      ],
      "execution_count": null,
      "outputs": []
    },
    {
      "cell_type": "code",
      "metadata": {
        "id": "gBk-LpWHMHgH",
        "colab_type": "code",
        "colab": {
          "base_uri": "https://localhost:8080/",
          "height": 34
        },
        "outputId": "fbb5def1-3fe1-4200-9f88-e89311ad5ec6"
      },
      "source": [
        "nums = [230,863,916,585,981,404,316,785,88,12,70,435,384,778,887,755,740,337,86,92,325,422,815,650,920,125,277,336,221,847,168,23,677,61,400,136,874,363,394,199,863,997,794,587,124,321,212,957,764,173,314,422,927,783,930,282,306,506,44,926,691,568,68,730,933,737,531,180,414,751,28,546,60,371,493,370,527,387,43,541,13,457,328,227,652,365,430,803,59,858,538,427,583,368,375,173,809,896,370,789,542]\n",
        "target = 542\n",
        "newlist = []\n",
        "for i in range(len(nums)):\n",
        "    newlist.append(i)\n",
        "    for j in range(len(nums)):\n",
        "        if j not in newlist:\n",
        "            if nums[i] + nums[j] == target:\n",
        "                print( i, j)"
      ],
      "execution_count": 15,
      "outputs": [
        {
          "output_type": "stream",
          "text": [
            "28 45\n"
          ],
          "name": "stdout"
        }
      ]
    },
    {
      "cell_type": "code",
      "metadata": {
        "id": "jLm-gB7sMrdv",
        "colab_type": "code",
        "colab": {
          "base_uri": "https://localhost:8080/",
          "height": 1000
        },
        "outputId": "8c9d9932-63de-485c-d9d5-1f543aa2d401"
      },
      "source": [
        "# # Without list comprehension\n",
        "# list_of_words = []\n",
        "# for sentence in text:\n",
        "#     for word in sentence:\n",
        "#        list_of_words.append(word)\n",
        "# return list_of_words\n",
        "# I like to think of list comprehension as stretching code horizontally.\n",
        "\n",
        "# Try breaking it up into:\n",
        "\n",
        "# # List Comprehension \n",
        "# [word for sentence in text for word in sentence]\n",
        "\n",
        "nums = [230,863,916,585,981,404,316,785,88,12,70,435,384,778,887,755,740,337,86,92,325,422,815,650,920,125,277,336,221,847,168,23,677,61,400,136,874,363,394,199,863,997,794,587,124,321,212,957,764,173,314,422,927,783,930,282,306,506,44,926,691,568,68,730,933,737,531,180,414,751,28,546,60,371,493,370,527,387,43,541,13,457,328,227,652,365,430,803,59,858,538,427,583,368,375,173,809,896,370,789,542]\n",
        "target = 542\n",
        "# newlist = []\n",
        "[j for i in range(len(nums)) for j in range(len(nums))]"
      ],
      "execution_count": 64,
      "outputs": [
        {
          "output_type": "execute_result",
          "data": {
            "text/plain": [
              "[0,\n",
              " 1,\n",
              " 2,\n",
              " 3,\n",
              " 4,\n",
              " 5,\n",
              " 6,\n",
              " 7,\n",
              " 8,\n",
              " 9,\n",
              " 10,\n",
              " 11,\n",
              " 12,\n",
              " 13,\n",
              " 14,\n",
              " 15,\n",
              " 16,\n",
              " 17,\n",
              " 18,\n",
              " 19,\n",
              " 20,\n",
              " 21,\n",
              " 22,\n",
              " 23,\n",
              " 24,\n",
              " 25,\n",
              " 26,\n",
              " 27,\n",
              " 28,\n",
              " 29,\n",
              " 30,\n",
              " 31,\n",
              " 32,\n",
              " 33,\n",
              " 34,\n",
              " 35,\n",
              " 36,\n",
              " 37,\n",
              " 38,\n",
              " 39,\n",
              " 40,\n",
              " 41,\n",
              " 42,\n",
              " 43,\n",
              " 44,\n",
              " 45,\n",
              " 46,\n",
              " 47,\n",
              " 48,\n",
              " 49,\n",
              " 50,\n",
              " 51,\n",
              " 52,\n",
              " 53,\n",
              " 54,\n",
              " 55,\n",
              " 56,\n",
              " 57,\n",
              " 58,\n",
              " 59,\n",
              " 60,\n",
              " 61,\n",
              " 62,\n",
              " 63,\n",
              " 64,\n",
              " 65,\n",
              " 66,\n",
              " 67,\n",
              " 68,\n",
              " 69,\n",
              " 70,\n",
              " 71,\n",
              " 72,\n",
              " 73,\n",
              " 74,\n",
              " 75,\n",
              " 76,\n",
              " 77,\n",
              " 78,\n",
              " 79,\n",
              " 80,\n",
              " 81,\n",
              " 82,\n",
              " 83,\n",
              " 84,\n",
              " 85,\n",
              " 86,\n",
              " 87,\n",
              " 88,\n",
              " 89,\n",
              " 90,\n",
              " 91,\n",
              " 92,\n",
              " 93,\n",
              " 94,\n",
              " 95,\n",
              " 96,\n",
              " 97,\n",
              " 98,\n",
              " 99,\n",
              " 100,\n",
              " 0,\n",
              " 1,\n",
              " 2,\n",
              " 3,\n",
              " 4,\n",
              " 5,\n",
              " 6,\n",
              " 7,\n",
              " 8,\n",
              " 9,\n",
              " 10,\n",
              " 11,\n",
              " 12,\n",
              " 13,\n",
              " 14,\n",
              " 15,\n",
              " 16,\n",
              " 17,\n",
              " 18,\n",
              " 19,\n",
              " 20,\n",
              " 21,\n",
              " 22,\n",
              " 23,\n",
              " 24,\n",
              " 25,\n",
              " 26,\n",
              " 27,\n",
              " 28,\n",
              " 29,\n",
              " 30,\n",
              " 31,\n",
              " 32,\n",
              " 33,\n",
              " 34,\n",
              " 35,\n",
              " 36,\n",
              " 37,\n",
              " 38,\n",
              " 39,\n",
              " 40,\n",
              " 41,\n",
              " 42,\n",
              " 43,\n",
              " 44,\n",
              " 45,\n",
              " 46,\n",
              " 47,\n",
              " 48,\n",
              " 49,\n",
              " 50,\n",
              " 51,\n",
              " 52,\n",
              " 53,\n",
              " 54,\n",
              " 55,\n",
              " 56,\n",
              " 57,\n",
              " 58,\n",
              " 59,\n",
              " 60,\n",
              " 61,\n",
              " 62,\n",
              " 63,\n",
              " 64,\n",
              " 65,\n",
              " 66,\n",
              " 67,\n",
              " 68,\n",
              " 69,\n",
              " 70,\n",
              " 71,\n",
              " 72,\n",
              " 73,\n",
              " 74,\n",
              " 75,\n",
              " 76,\n",
              " 77,\n",
              " 78,\n",
              " 79,\n",
              " 80,\n",
              " 81,\n",
              " 82,\n",
              " 83,\n",
              " 84,\n",
              " 85,\n",
              " 86,\n",
              " 87,\n",
              " 88,\n",
              " 89,\n",
              " 90,\n",
              " 91,\n",
              " 92,\n",
              " 93,\n",
              " 94,\n",
              " 95,\n",
              " 96,\n",
              " 97,\n",
              " 98,\n",
              " 99,\n",
              " 100,\n",
              " 0,\n",
              " 1,\n",
              " 2,\n",
              " 3,\n",
              " 4,\n",
              " 5,\n",
              " 6,\n",
              " 7,\n",
              " 8,\n",
              " 9,\n",
              " 10,\n",
              " 11,\n",
              " 12,\n",
              " 13,\n",
              " 14,\n",
              " 15,\n",
              " 16,\n",
              " 17,\n",
              " 18,\n",
              " 19,\n",
              " 20,\n",
              " 21,\n",
              " 22,\n",
              " 23,\n",
              " 24,\n",
              " 25,\n",
              " 26,\n",
              " 27,\n",
              " 28,\n",
              " 29,\n",
              " 30,\n",
              " 31,\n",
              " 32,\n",
              " 33,\n",
              " 34,\n",
              " 35,\n",
              " 36,\n",
              " 37,\n",
              " 38,\n",
              " 39,\n",
              " 40,\n",
              " 41,\n",
              " 42,\n",
              " 43,\n",
              " 44,\n",
              " 45,\n",
              " 46,\n",
              " 47,\n",
              " 48,\n",
              " 49,\n",
              " 50,\n",
              " 51,\n",
              " 52,\n",
              " 53,\n",
              " 54,\n",
              " 55,\n",
              " 56,\n",
              " 57,\n",
              " 58,\n",
              " 59,\n",
              " 60,\n",
              " 61,\n",
              " 62,\n",
              " 63,\n",
              " 64,\n",
              " 65,\n",
              " 66,\n",
              " 67,\n",
              " 68,\n",
              " 69,\n",
              " 70,\n",
              " 71,\n",
              " 72,\n",
              " 73,\n",
              " 74,\n",
              " 75,\n",
              " 76,\n",
              " 77,\n",
              " 78,\n",
              " 79,\n",
              " 80,\n",
              " 81,\n",
              " 82,\n",
              " 83,\n",
              " 84,\n",
              " 85,\n",
              " 86,\n",
              " 87,\n",
              " 88,\n",
              " 89,\n",
              " 90,\n",
              " 91,\n",
              " 92,\n",
              " 93,\n",
              " 94,\n",
              " 95,\n",
              " 96,\n",
              " 97,\n",
              " 98,\n",
              " 99,\n",
              " 100,\n",
              " 0,\n",
              " 1,\n",
              " 2,\n",
              " 3,\n",
              " 4,\n",
              " 5,\n",
              " 6,\n",
              " 7,\n",
              " 8,\n",
              " 9,\n",
              " 10,\n",
              " 11,\n",
              " 12,\n",
              " 13,\n",
              " 14,\n",
              " 15,\n",
              " 16,\n",
              " 17,\n",
              " 18,\n",
              " 19,\n",
              " 20,\n",
              " 21,\n",
              " 22,\n",
              " 23,\n",
              " 24,\n",
              " 25,\n",
              " 26,\n",
              " 27,\n",
              " 28,\n",
              " 29,\n",
              " 30,\n",
              " 31,\n",
              " 32,\n",
              " 33,\n",
              " 34,\n",
              " 35,\n",
              " 36,\n",
              " 37,\n",
              " 38,\n",
              " 39,\n",
              " 40,\n",
              " 41,\n",
              " 42,\n",
              " 43,\n",
              " 44,\n",
              " 45,\n",
              " 46,\n",
              " 47,\n",
              " 48,\n",
              " 49,\n",
              " 50,\n",
              " 51,\n",
              " 52,\n",
              " 53,\n",
              " 54,\n",
              " 55,\n",
              " 56,\n",
              " 57,\n",
              " 58,\n",
              " 59,\n",
              " 60,\n",
              " 61,\n",
              " 62,\n",
              " 63,\n",
              " 64,\n",
              " 65,\n",
              " 66,\n",
              " 67,\n",
              " 68,\n",
              " 69,\n",
              " 70,\n",
              " 71,\n",
              " 72,\n",
              " 73,\n",
              " 74,\n",
              " 75,\n",
              " 76,\n",
              " 77,\n",
              " 78,\n",
              " 79,\n",
              " 80,\n",
              " 81,\n",
              " 82,\n",
              " 83,\n",
              " 84,\n",
              " 85,\n",
              " 86,\n",
              " 87,\n",
              " 88,\n",
              " 89,\n",
              " 90,\n",
              " 91,\n",
              " 92,\n",
              " 93,\n",
              " 94,\n",
              " 95,\n",
              " 96,\n",
              " 97,\n",
              " 98,\n",
              " 99,\n",
              " 100,\n",
              " 0,\n",
              " 1,\n",
              " 2,\n",
              " 3,\n",
              " 4,\n",
              " 5,\n",
              " 6,\n",
              " 7,\n",
              " 8,\n",
              " 9,\n",
              " 10,\n",
              " 11,\n",
              " 12,\n",
              " 13,\n",
              " 14,\n",
              " 15,\n",
              " 16,\n",
              " 17,\n",
              " 18,\n",
              " 19,\n",
              " 20,\n",
              " 21,\n",
              " 22,\n",
              " 23,\n",
              " 24,\n",
              " 25,\n",
              " 26,\n",
              " 27,\n",
              " 28,\n",
              " 29,\n",
              " 30,\n",
              " 31,\n",
              " 32,\n",
              " 33,\n",
              " 34,\n",
              " 35,\n",
              " 36,\n",
              " 37,\n",
              " 38,\n",
              " 39,\n",
              " 40,\n",
              " 41,\n",
              " 42,\n",
              " 43,\n",
              " 44,\n",
              " 45,\n",
              " 46,\n",
              " 47,\n",
              " 48,\n",
              " 49,\n",
              " 50,\n",
              " 51,\n",
              " 52,\n",
              " 53,\n",
              " 54,\n",
              " 55,\n",
              " 56,\n",
              " 57,\n",
              " 58,\n",
              " 59,\n",
              " 60,\n",
              " 61,\n",
              " 62,\n",
              " 63,\n",
              " 64,\n",
              " 65,\n",
              " 66,\n",
              " 67,\n",
              " 68,\n",
              " 69,\n",
              " 70,\n",
              " 71,\n",
              " 72,\n",
              " 73,\n",
              " 74,\n",
              " 75,\n",
              " 76,\n",
              " 77,\n",
              " 78,\n",
              " 79,\n",
              " 80,\n",
              " 81,\n",
              " 82,\n",
              " 83,\n",
              " 84,\n",
              " 85,\n",
              " 86,\n",
              " 87,\n",
              " 88,\n",
              " 89,\n",
              " 90,\n",
              " 91,\n",
              " 92,\n",
              " 93,\n",
              " 94,\n",
              " 95,\n",
              " 96,\n",
              " 97,\n",
              " 98,\n",
              " 99,\n",
              " 100,\n",
              " 0,\n",
              " 1,\n",
              " 2,\n",
              " 3,\n",
              " 4,\n",
              " 5,\n",
              " 6,\n",
              " 7,\n",
              " 8,\n",
              " 9,\n",
              " 10,\n",
              " 11,\n",
              " 12,\n",
              " 13,\n",
              " 14,\n",
              " 15,\n",
              " 16,\n",
              " 17,\n",
              " 18,\n",
              " 19,\n",
              " 20,\n",
              " 21,\n",
              " 22,\n",
              " 23,\n",
              " 24,\n",
              " 25,\n",
              " 26,\n",
              " 27,\n",
              " 28,\n",
              " 29,\n",
              " 30,\n",
              " 31,\n",
              " 32,\n",
              " 33,\n",
              " 34,\n",
              " 35,\n",
              " 36,\n",
              " 37,\n",
              " 38,\n",
              " 39,\n",
              " 40,\n",
              " 41,\n",
              " 42,\n",
              " 43,\n",
              " 44,\n",
              " 45,\n",
              " 46,\n",
              " 47,\n",
              " 48,\n",
              " 49,\n",
              " 50,\n",
              " 51,\n",
              " 52,\n",
              " 53,\n",
              " 54,\n",
              " 55,\n",
              " 56,\n",
              " 57,\n",
              " 58,\n",
              " 59,\n",
              " 60,\n",
              " 61,\n",
              " 62,\n",
              " 63,\n",
              " 64,\n",
              " 65,\n",
              " 66,\n",
              " 67,\n",
              " 68,\n",
              " 69,\n",
              " 70,\n",
              " 71,\n",
              " 72,\n",
              " 73,\n",
              " 74,\n",
              " 75,\n",
              " 76,\n",
              " 77,\n",
              " 78,\n",
              " 79,\n",
              " 80,\n",
              " 81,\n",
              " 82,\n",
              " 83,\n",
              " 84,\n",
              " 85,\n",
              " 86,\n",
              " 87,\n",
              " 88,\n",
              " 89,\n",
              " 90,\n",
              " 91,\n",
              " 92,\n",
              " 93,\n",
              " 94,\n",
              " 95,\n",
              " 96,\n",
              " 97,\n",
              " 98,\n",
              " 99,\n",
              " 100,\n",
              " 0,\n",
              " 1,\n",
              " 2,\n",
              " 3,\n",
              " 4,\n",
              " 5,\n",
              " 6,\n",
              " 7,\n",
              " 8,\n",
              " 9,\n",
              " 10,\n",
              " 11,\n",
              " 12,\n",
              " 13,\n",
              " 14,\n",
              " 15,\n",
              " 16,\n",
              " 17,\n",
              " 18,\n",
              " 19,\n",
              " 20,\n",
              " 21,\n",
              " 22,\n",
              " 23,\n",
              " 24,\n",
              " 25,\n",
              " 26,\n",
              " 27,\n",
              " 28,\n",
              " 29,\n",
              " 30,\n",
              " 31,\n",
              " 32,\n",
              " 33,\n",
              " 34,\n",
              " 35,\n",
              " 36,\n",
              " 37,\n",
              " 38,\n",
              " 39,\n",
              " 40,\n",
              " 41,\n",
              " 42,\n",
              " 43,\n",
              " 44,\n",
              " 45,\n",
              " 46,\n",
              " 47,\n",
              " 48,\n",
              " 49,\n",
              " 50,\n",
              " 51,\n",
              " 52,\n",
              " 53,\n",
              " 54,\n",
              " 55,\n",
              " 56,\n",
              " 57,\n",
              " 58,\n",
              " 59,\n",
              " 60,\n",
              " 61,\n",
              " 62,\n",
              " 63,\n",
              " 64,\n",
              " 65,\n",
              " 66,\n",
              " 67,\n",
              " 68,\n",
              " 69,\n",
              " 70,\n",
              " 71,\n",
              " 72,\n",
              " 73,\n",
              " 74,\n",
              " 75,\n",
              " 76,\n",
              " 77,\n",
              " 78,\n",
              " 79,\n",
              " 80,\n",
              " 81,\n",
              " 82,\n",
              " 83,\n",
              " 84,\n",
              " 85,\n",
              " 86,\n",
              " 87,\n",
              " 88,\n",
              " 89,\n",
              " 90,\n",
              " 91,\n",
              " 92,\n",
              " 93,\n",
              " 94,\n",
              " 95,\n",
              " 96,\n",
              " 97,\n",
              " 98,\n",
              " 99,\n",
              " 100,\n",
              " 0,\n",
              " 1,\n",
              " 2,\n",
              " 3,\n",
              " 4,\n",
              " 5,\n",
              " 6,\n",
              " 7,\n",
              " 8,\n",
              " 9,\n",
              " 10,\n",
              " 11,\n",
              " 12,\n",
              " 13,\n",
              " 14,\n",
              " 15,\n",
              " 16,\n",
              " 17,\n",
              " 18,\n",
              " 19,\n",
              " 20,\n",
              " 21,\n",
              " 22,\n",
              " 23,\n",
              " 24,\n",
              " 25,\n",
              " 26,\n",
              " 27,\n",
              " 28,\n",
              " 29,\n",
              " 30,\n",
              " 31,\n",
              " 32,\n",
              " 33,\n",
              " 34,\n",
              " 35,\n",
              " 36,\n",
              " 37,\n",
              " 38,\n",
              " 39,\n",
              " 40,\n",
              " 41,\n",
              " 42,\n",
              " 43,\n",
              " 44,\n",
              " 45,\n",
              " 46,\n",
              " 47,\n",
              " 48,\n",
              " 49,\n",
              " 50,\n",
              " 51,\n",
              " 52,\n",
              " 53,\n",
              " 54,\n",
              " 55,\n",
              " 56,\n",
              " 57,\n",
              " 58,\n",
              " 59,\n",
              " 60,\n",
              " 61,\n",
              " 62,\n",
              " 63,\n",
              " 64,\n",
              " 65,\n",
              " 66,\n",
              " 67,\n",
              " 68,\n",
              " 69,\n",
              " 70,\n",
              " 71,\n",
              " 72,\n",
              " 73,\n",
              " 74,\n",
              " 75,\n",
              " 76,\n",
              " 77,\n",
              " 78,\n",
              " 79,\n",
              " 80,\n",
              " 81,\n",
              " 82,\n",
              " 83,\n",
              " 84,\n",
              " 85,\n",
              " 86,\n",
              " 87,\n",
              " 88,\n",
              " 89,\n",
              " 90,\n",
              " 91,\n",
              " 92,\n",
              " 93,\n",
              " 94,\n",
              " 95,\n",
              " 96,\n",
              " 97,\n",
              " 98,\n",
              " 99,\n",
              " 100,\n",
              " 0,\n",
              " 1,\n",
              " 2,\n",
              " 3,\n",
              " 4,\n",
              " 5,\n",
              " 6,\n",
              " 7,\n",
              " 8,\n",
              " 9,\n",
              " 10,\n",
              " 11,\n",
              " 12,\n",
              " 13,\n",
              " 14,\n",
              " 15,\n",
              " 16,\n",
              " 17,\n",
              " 18,\n",
              " 19,\n",
              " 20,\n",
              " 21,\n",
              " 22,\n",
              " 23,\n",
              " 24,\n",
              " 25,\n",
              " 26,\n",
              " 27,\n",
              " 28,\n",
              " 29,\n",
              " 30,\n",
              " 31,\n",
              " 32,\n",
              " 33,\n",
              " 34,\n",
              " 35,\n",
              " 36,\n",
              " 37,\n",
              " 38,\n",
              " 39,\n",
              " 40,\n",
              " 41,\n",
              " 42,\n",
              " 43,\n",
              " 44,\n",
              " 45,\n",
              " 46,\n",
              " 47,\n",
              " 48,\n",
              " 49,\n",
              " 50,\n",
              " 51,\n",
              " 52,\n",
              " 53,\n",
              " 54,\n",
              " 55,\n",
              " 56,\n",
              " 57,\n",
              " 58,\n",
              " 59,\n",
              " 60,\n",
              " 61,\n",
              " 62,\n",
              " 63,\n",
              " 64,\n",
              " 65,\n",
              " 66,\n",
              " 67,\n",
              " 68,\n",
              " 69,\n",
              " 70,\n",
              " 71,\n",
              " 72,\n",
              " 73,\n",
              " 74,\n",
              " 75,\n",
              " 76,\n",
              " 77,\n",
              " 78,\n",
              " 79,\n",
              " 80,\n",
              " 81,\n",
              " 82,\n",
              " 83,\n",
              " 84,\n",
              " 85,\n",
              " 86,\n",
              " 87,\n",
              " 88,\n",
              " 89,\n",
              " 90,\n",
              " 91,\n",
              " 92,\n",
              " 93,\n",
              " 94,\n",
              " 95,\n",
              " 96,\n",
              " 97,\n",
              " 98,\n",
              " 99,\n",
              " 100,\n",
              " 0,\n",
              " 1,\n",
              " 2,\n",
              " 3,\n",
              " 4,\n",
              " 5,\n",
              " 6,\n",
              " 7,\n",
              " 8,\n",
              " 9,\n",
              " 10,\n",
              " 11,\n",
              " 12,\n",
              " 13,\n",
              " 14,\n",
              " 15,\n",
              " 16,\n",
              " 17,\n",
              " 18,\n",
              " 19,\n",
              " 20,\n",
              " 21,\n",
              " 22,\n",
              " 23,\n",
              " 24,\n",
              " 25,\n",
              " 26,\n",
              " 27,\n",
              " 28,\n",
              " 29,\n",
              " 30,\n",
              " 31,\n",
              " 32,\n",
              " 33,\n",
              " 34,\n",
              " 35,\n",
              " 36,\n",
              " 37,\n",
              " 38,\n",
              " 39,\n",
              " 40,\n",
              " 41,\n",
              " 42,\n",
              " 43,\n",
              " 44,\n",
              " 45,\n",
              " 46,\n",
              " 47,\n",
              " 48,\n",
              " 49,\n",
              " 50,\n",
              " 51,\n",
              " 52,\n",
              " 53,\n",
              " 54,\n",
              " 55,\n",
              " 56,\n",
              " 57,\n",
              " 58,\n",
              " 59,\n",
              " 60,\n",
              " 61,\n",
              " 62,\n",
              " 63,\n",
              " 64,\n",
              " 65,\n",
              " 66,\n",
              " 67,\n",
              " 68,\n",
              " 69,\n",
              " 70,\n",
              " 71,\n",
              " 72,\n",
              " 73,\n",
              " 74,\n",
              " 75,\n",
              " 76,\n",
              " 77,\n",
              " 78,\n",
              " 79,\n",
              " 80,\n",
              " 81,\n",
              " 82,\n",
              " 83,\n",
              " 84,\n",
              " 85,\n",
              " 86,\n",
              " 87,\n",
              " 88,\n",
              " 89,\n",
              " 90,\n",
              " ...]"
            ]
          },
          "metadata": {
            "tags": []
          },
          "execution_count": 64
        }
      ]
    },
    {
      "cell_type": "code",
      "metadata": {
        "id": "_rxOlcC2CbC_",
        "colab_type": "code",
        "colab": {
          "base_uri": "https://localhost:8080/",
          "height": 34
        },
        "outputId": "bfa617f8-bfaa-4adf-efa2-9aed5ae7d52b"
      },
      "source": [
        "nums = [1,2,3,4,5,6,7,8]\n",
        "nums.remove(1)\n",
        "nums"
      ],
      "execution_count": 62,
      "outputs": [
        {
          "output_type": "execute_result",
          "data": {
            "text/plain": [
              "[2, 3, 4, 5, 6, 7, 8]"
            ]
          },
          "metadata": {
            "tags": []
          },
          "execution_count": 62
        }
      ]
    },
    {
      "cell_type": "code",
      "metadata": {
        "id": "UQ3GWRUhD9wr",
        "colab_type": "code",
        "colab": {}
      },
      "source": [
        ""
      ],
      "execution_count": null,
      "outputs": []
    }
  ]
}