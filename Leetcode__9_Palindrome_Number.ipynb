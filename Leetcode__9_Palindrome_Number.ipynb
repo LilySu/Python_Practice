{
  "nbformat": 4,
  "nbformat_minor": 0,
  "metadata": {
    "colab": {
      "name": "Leetcode_#9_Palindrome_Number.ipynb",
      "provenance": [],
      "authorship_tag": "ABX9TyN8wINh78PPbpu8feHFYQSS",
      "include_colab_link": true
    },
    "kernelspec": {
      "name": "python3",
      "display_name": "Python 3"
    }
  },
  "cells": [
    {
      "cell_type": "markdown",
      "metadata": {
        "id": "view-in-github",
        "colab_type": "text"
      },
      "source": [
        "<a href=\"https://colab.research.google.com/github/LilySu/Python_Practice/blob/master/Leetcode__9_Palindrome_Number.ipynb\" target=\"_parent\"><img src=\"https://colab.research.google.com/assets/colab-badge.svg\" alt=\"Open In Colab\"/></a>"
      ]
    },
    {
      "cell_type": "markdown",
      "metadata": {
        "id": "kNCPjsaSXj_K",
        "colab_type": "text"
      },
      "source": [
        "Determine whether an integer is a palindrome. An integer is a palindrome when it reads the same backward as forward.\n",
        "\n",
        "Example 1:\n",
        "\n",
        "Input: 121\n",
        "Output: true\n",
        "Example 2:\n",
        "\n",
        "Input: -121\n",
        "Output: false\n",
        "Explanation: From left to right, it reads -121. From right to left, it becomes 121-. Therefore it is not a palindrome.\n",
        "Example 3:\n",
        "\n",
        "Input: 10\n",
        "Output: false\n",
        "Explanation: Reads 01 from right to left. Therefore it is not a palindrome."
      ]
    },
    {
      "cell_type": "code",
      "metadata": {
        "id": "kv0MLGawW6JY",
        "colab_type": "code",
        "colab": {}
      },
      "source": [
        "class Solution(object):\n",
        "    def isPalindrome(self, x):\n",
        "        \"\"\"\n",
        "        :type x: int\n",
        "        :rtype: bool\n",
        "        \"\"\"      "
      ],
      "execution_count": null,
      "outputs": []
    },
    {
      "cell_type": "code",
      "metadata": {
        "id": "iz1yChbDYuAv",
        "colab_type": "code",
        "colab": {}
      },
      "source": [
        "def isPalindrome(self, x):\n",
        "    \"\"\"\n",
        "    :type x: int\n",
        "    :rtype: bool\n",
        "    \"\"\"\n",
        "    strx = str(x)\n",
        "    return strx == strx[::-1]"
      ],
      "execution_count": null,
      "outputs": []
    }
  ]
}