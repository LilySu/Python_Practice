{
  "nbformat": 4,
  "nbformat_minor": 0,
  "metadata": {
    "colab": {
      "name": "Leetcode_September_Bulls_and_Cows.ipynb",
      "provenance": [],
      "authorship_tag": "ABX9TyMsESWQR5pwp93Uu7Tup5JQ",
      "include_colab_link": true
    },
    "kernelspec": {
      "name": "python3",
      "display_name": "Python 3"
    }
  },
  "cells": [
    {
      "cell_type": "markdown",
      "metadata": {
        "id": "view-in-github",
        "colab_type": "text"
      },
      "source": [
        "<a href=\"https://colab.research.google.com/github/LilySu/Python_Practice/blob/master/Leetcode_September_Bulls_and_Cows.ipynb\" target=\"_parent\"><img src=\"https://colab.research.google.com/assets/colab-badge.svg\" alt=\"Open In Colab\"/></a>"
      ]
    },
    {
      "cell_type": "markdown",
      "metadata": {
        "id": "-UyBZtmey985",
        "colab_type": "text"
      },
      "source": [
        "You are playing the following Bulls and Cows game with your friend: You write down a number and ask your friend to guess what the number is. Each time your friend makes a guess, you provide a hint that indicates how many digits in said guess match your secret number exactly in both digit and position (called \"bulls\") and how many digits match the secret number but locate in the wrong position (called \"cows\"). Your friend will use successive guesses and hints to eventually derive the secret number.\n",
        "\n",
        "Write a function to return a hint according to the secret number and friend's guess, use A to indicate the bulls and B to indicate the cows. \n",
        "\n",
        "Please note that both secret number and friend's guess may contain duplicate digits.\n",
        "```\n",
        "Example 1:\n",
        "\n",
        "Input: secret = \"1807\", guess = \"7810\"\n",
        "\n",
        "Output: \"1A3B\"\n",
        "\n",
        "Explanation: 1 bull and 3 cows. The bull is 8, the cows are 0, 1 and 7.\n",
        "Example 2:\n",
        "\n",
        "Input: secret = \"1123\", guess = \"0111\"\n",
        "\n",
        "Output: \"1A1B\"\n",
        "```\n",
        "Explanation: The 1st 1 in friend's guess is a bull, the 2nd or 3rd 1 is a cow."
      ]
    },
    {
      "cell_type": "code",
      "metadata": {
        "id": "ExuQIxYOy4XR",
        "colab_type": "code",
        "colab": {}
      },
      "source": [
        "class Solution(object):\n",
        "    def getHint(self, secret, guess):\n",
        "        \"\"\"\n",
        "        :type secret: str\n",
        "        :type guess: str\n",
        "        :rtype: str\n",
        "        \"\"\""
      ],
      "execution_count": null,
      "outputs": []
    },
    {
      "cell_type": "code",
      "metadata": {
        "id": "BbhIHQM8zMvi",
        "colab_type": "code",
        "colab": {
          "base_uri": "https://localhost:8080/",
          "height": 35
        },
        "outputId": "07acae05-a921-4a25-cdfe-83575cd8fffc"
      },
      "source": [
        "# secret = \"1807\"\n",
        "# guess = \"7810\"\n",
        "# secret = \"1123\"\n",
        "# guess = \"0111\"\n",
        "secret = \"11\"\n",
        "guess = \"01\"\n",
        "\n",
        "def getHint(secret, guess):\n",
        "    bull = 0\n",
        "    cow = 0\n",
        "    secret_list = secret_for_bull = list(secret)\n",
        "    guess_list = guess_for_cow = list(guess)\n",
        "    for se, ge in zip(secret_list, guess_list):\n",
        "        if se == ge:\n",
        "            bull += 1\n",
        "            secret_for_bull.remove(se)\n",
        "            guess_for_cow.remove(ge)\n",
        "    for ge in guess_for_cow:\n",
        "        if ge in secret_for_bull:\n",
        "            secret_for_bull.remove(ge)\n",
        "            cow += 1\n",
        "    result = str(bull) + \"A\" + str(cow) + \"B\"\n",
        "    return result\n",
        "getHint(secret, guess)   \n"
      ],
      "execution_count": 23,
      "outputs": [
        {
          "output_type": "execute_result",
          "data": {
            "application/vnd.google.colaboratory.intrinsic+json": {
              "type": "string"
            },
            "text/plain": [
              "'1A0B'"
            ]
          },
          "metadata": {
            "tags": []
          },
          "execution_count": 23
        }
      ]
    },
    {
      "cell_type": "code",
      "metadata": {
        "id": "2EzmojBvzsJh",
        "colab_type": "code",
        "colab": {}
      },
      "source": [
        ""
      ],
      "execution_count": null,
      "outputs": []
    }
  ]
}