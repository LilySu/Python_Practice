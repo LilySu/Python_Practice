{
  "nbformat": 4,
  "nbformat_minor": 0,
  "metadata": {
    "colab": {
      "name": "BinarySearch_Mixed_Sorting.ipynb",
      "provenance": [],
      "authorship_tag": "ABX9TyNJxqD0fhrHBQzbbkukMXLa",
      "include_colab_link": true
    },
    "kernelspec": {
      "name": "python3",
      "display_name": "Python 3"
    }
  },
  "cells": [
    {
      "cell_type": "markdown",
      "metadata": {
        "id": "view-in-github",
        "colab_type": "text"
      },
      "source": [
        "<a href=\"https://colab.research.google.com/github/LilySu/Python_Practice/blob/master/BinarySearch_Mixed_Sorting.ipynb\" target=\"_parent\"><img src=\"https://colab.research.google.com/assets/colab-badge.svg\" alt=\"Open In Colab\"/></a>"
      ]
    },
    {
      "cell_type": "markdown",
      "metadata": {
        "id": "NMhEyEmSyQP6"
      },
      "source": [
        "Given a list of integers nums, sort the array such that:\r\n",
        "\r\n",
        "All even numbers are sorted in increasing order\r\n",
        "All odd numbers are sorted in decreasing order\r\n",
        "The relative positions of the even and odd numbers remain the same\r\n",
        "```\r\n",
        "Constraints\r\n",
        "\r\n",
        "n ≤ 100,000 where n is the length of nums\r\n",
        "Example 1\r\n",
        "Input\r\n",
        "nums = [8, 13, 11, 90, -5, 4]\r\n",
        "Output\r\n",
        "[4, 13, 11, 8, -5, 90]\r\n",
        "Explanation\r\n",
        "The even numbers are sorted in increasing order, the odd numbers are sorted in decreasing number, and the relative positions were [even, odd, odd, even, odd, even] and remain the same after sorting.\r\n",
        "```"
      ]
    },
    {
      "cell_type": "code",
      "metadata": {
        "colab": {
          "base_uri": "https://localhost:8080/"
        },
        "id": "ek7v4PDovp1G",
        "outputId": "90e9f7d6-fcd9-4bcb-8eef-407e8424ca9d"
      },
      "source": [
        "nums = [8, 13, 11, 90, -5, 4]\r\n",
        "odd = [i if i % 2 != 0 else None for i in nums]\r\n",
        "odd"
      ],
      "execution_count": 2,
      "outputs": [
        {
          "output_type": "execute_result",
          "data": {
            "text/plain": [
              "[None, 13, 11, None, -5, None]"
            ]
          },
          "metadata": {
            "tags": []
          },
          "execution_count": 2
        }
      ]
    },
    {
      "cell_type": "code",
      "metadata": {
        "colab": {
          "base_uri": "https://localhost:8080/"
        },
        "id": "ceel8iLOwbjs",
        "outputId": "4a227de8-e19b-4e62-b59d-f9cf059c8685"
      },
      "source": [
        "odd = [i for i in nums if i % 2 != 0]\r\n",
        "odd"
      ],
      "execution_count": 3,
      "outputs": [
        {
          "output_type": "execute_result",
          "data": {
            "text/plain": [
              "[13, 11, -5]"
            ]
          },
          "metadata": {
            "tags": []
          },
          "execution_count": 3
        }
      ]
    },
    {
      "cell_type": "code",
      "metadata": {
        "id": "GzBvd4-fx4Ii"
      },
      "source": [
        "class Solution:\r\n",
        "    def solve(self, nums):\r\n",
        "        # sort even number increasing order\r\n",
        "        even = sorted([i for i in nums if i % 2 == 0])\r\n",
        "        # sort odd number on decreasing order\r\n",
        "        odd = sorted([i for i in nums if i % 2 != 0])\r\n",
        "        odd = odd[::-1]\r\n",
        "        # mark index of new list 2 for even, 1 for odd\r\n",
        "        # iterate over the new list\r\n",
        "        even_odd = [2 if i % 2 == 0 else 1 for i in nums]\r\n",
        "        res = []\r\n",
        "        for i in even_odd:\r\n",
        "            if i == 2:\r\n",
        "                res.append(even[0])\r\n",
        "                even = even[1::]\r\n",
        "            else:\r\n",
        "                res.append(odd[0])\r\n",
        "                odd = odd[1::]\r\n",
        "        return res"
      ],
      "execution_count": null,
      "outputs": []
    },
    {
      "cell_type": "code",
      "metadata": {
        "id": "mlo3947Lyzjl"
      },
      "source": [
        "# another method: Collect the elements and sort them separately, then insert them back into the array in the desired order.\r\n",
        "\r\n",
        "class Solution:\r\n",
        "    def solve(self, nums):\r\n",
        "        odds, evens = [], []\r\n",
        "        for x in nums:\r\n",
        "            if x % 2:\r\n",
        "                odds.append(x)\r\n",
        "            else:\r\n",
        "                evens.append(x)\r\n",
        "\r\n",
        "        odds.sort()\r\n",
        "        evens.sort(reverse=True)\r\n",
        "\r\n",
        "        for i, x in enumerate(nums):\r\n",
        "            if x % 2:\r\n",
        "                nums[i] = odds.pop()\r\n",
        "            else:\r\n",
        "                nums[i] = evens.pop()\r\n",
        "\r\n",
        "        return nums"
      ],
      "execution_count": null,
      "outputs": []
    }
  ]
}