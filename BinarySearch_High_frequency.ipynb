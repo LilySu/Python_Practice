{
  "nbformat": 4,
  "nbformat_minor": 0,
  "metadata": {
    "colab": {
      "name": "BinarySearch_High_frequency.ipynb",
      "provenance": [],
      "authorship_tag": "ABX9TyPeoZjkL0bNOvSF9v9b1KdO",
      "include_colab_link": true
    },
    "kernelspec": {
      "name": "python3",
      "display_name": "Python 3"
    }
  },
  "cells": [
    {
      "cell_type": "markdown",
      "metadata": {
        "id": "view-in-github",
        "colab_type": "text"
      },
      "source": [
        "<a href=\"https://colab.research.google.com/github/LilySu/Python_Practice/blob/master/BinarySearch_High_frequency.ipynb\" target=\"_parent\"><img src=\"https://colab.research.google.com/assets/colab-badge.svg\" alt=\"Open In Colab\"/></a>"
      ]
    },
    {
      "cell_type": "markdown",
      "metadata": {
        "id": "in6mGgi09tJ9"
      },
      "source": [
        "Given a list of integers nums, find the most frequently occurring element and return the number of occurrences of that element.\n",
        "\n",
        "For example, given the list [1, 4, 1, 7, 1, 7, 1, 1], return 5 since the the element 1 appears 5 times.\n",
        "\n",
        "Constraints\n",
        "\n",
        "n ≤ 100,000 where n is the length of nums\n",
        "Example 1\n",
        "Input\n",
        "\n",
        "nums = [1, 4, 1, 7, 1, 7, 1, 1]\n",
        "Output\n",
        "\n",
        "5\n",
        "Example 2\n",
        "Input\n",
        "\n",
        "nums = [5, 5, 5, 5, 5, 5, 5]\n",
        "Output\n",
        "\n",
        "7\n",
        "Example 3\n",
        "Input\n",
        "\n",
        "nums = [1, 2, 3, 4, 5, 6, 7]\n",
        "Output\n",
        "\n",
        "1"
      ]
    },
    {
      "cell_type": "code",
      "metadata": {
        "id": "glen5zT99w_g"
      },
      "source": [
        "class Solution:\n",
        "    def solve(self, nums):\n",
        "        d = {}\n",
        "        for i in nums:\n",
        "            if i in d:\n",
        "                counter = d[i]\n",
        "                d[i] = counter + 1\n",
        "            else:\n",
        "                d[i] = 1\n",
        "        print(d)\n",
        "        count = 0\n",
        "        for i in d:\n",
        "            if d[i] > count:\n",
        "                count = d[i]\n",
        "        return count\n"
      ],
      "execution_count": null,
      "outputs": []
    },
    {
      "cell_type": "code",
      "metadata": {
        "id": "5qMt0vQj9jfD"
      },
      "source": [
        "for x in nums:\n",
        "    if x not in dict:\n",
        "        dict[x] = 1\n",
        "    else:\n",
        "        dict[x] += 1\n",
        "return max(dict.values())"
      ],
      "execution_count": null,
      "outputs": []
    },
    {
      "cell_type": "code",
      "metadata": {
        "id": "3lXSB_YS-EBB"
      },
      "source": [
        "maxCount = 0\n",
        "for x in nums:\n",
        "    if nums.count(x) > maxCount:\n",
        "        maxCount = nums.count(x)\n",
        "return maxCount"
      ],
      "execution_count": null,
      "outputs": []
    }
  ]
}