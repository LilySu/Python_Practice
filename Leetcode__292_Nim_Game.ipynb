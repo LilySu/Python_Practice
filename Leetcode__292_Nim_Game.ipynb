{
  "nbformat": 4,
  "nbformat_minor": 0,
  "metadata": {
    "colab": {
      "name": "Leetcode_#292_Nim_Game.ipynb",
      "provenance": [],
      "authorship_tag": "ABX9TyOK1mhr+J9C8THim9XRBQDt",
      "include_colab_link": true
    },
    "kernelspec": {
      "name": "python3",
      "display_name": "Python 3"
    }
  },
  "cells": [
    {
      "cell_type": "markdown",
      "metadata": {
        "id": "view-in-github",
        "colab_type": "text"
      },
      "source": [
        "<a href=\"https://colab.research.google.com/github/LilySu/Python_Practice/blob/master/Leetcode__292_Nim_Game.ipynb\" target=\"_parent\"><img src=\"https://colab.research.google.com/assets/colab-badge.svg\" alt=\"Open In Colab\"/></a>"
      ]
    },
    {
      "cell_type": "markdown",
      "metadata": {
        "id": "t6gEaslZrbDt",
        "colab_type": "text"
      },
      "source": [
        "You are playing the following Nim Game with your friend: There is a heap of stones on the table, each time one of you take turns to remove 1 to 3 stones. The one who removes the last stone will be the winner. You will take the first turn to remove the stones.\n",
        "\n",
        "Both of you are very clever and have optimal strategies for the game. Write a function to determine whether you can win the game given the number of stones in the heap.\n",
        "\n",
        "Example:\n",
        "```\n",
        "Input: 4\n",
        "Output: false \n",
        "Explanation: If there are 4 stones in the heap, then you will never win the game;\n",
        "             No matter 1, 2, or 3 stones you remove, the last stone will always be \n",
        "             removed by your friend.\n",
        "```"
      ]
    },
    {
      "cell_type": "code",
      "metadata": {
        "id": "47mrrfDZrSzo",
        "colab_type": "code",
        "colab": {}
      },
      "source": [
        "class Solution(object):\n",
        "    def canWinNim(self, n):\n",
        "        \"\"\"\n",
        "        :type n: int\n",
        "        :rtype: bool\n",
        "        \"\"\"\n",
        "        "
      ],
      "execution_count": null,
      "outputs": []
    },
    {
      "cell_type": "code",
      "metadata": {
        "id": "GZ4qmh_Jr6zy",
        "colab_type": "code",
        "colab": {
          "base_uri": "https://localhost:8080/",
          "height": 34
        },
        "outputId": "958a46cf-825e-4fd8-e052-02bafddc8b76"
      },
      "source": [
        "def canWinNim(n):\n",
        "    \"\"\"\n",
        "    :type n: int\n",
        "    :rtype: bool\n",
        "    \"\"\"\n",
        "    if n % 4 == 0:\n",
        "        return False\n",
        "    else:\n",
        "        return True\n",
        "\n",
        "\n",
        "n = 4\n",
        "canWinNim(n)"
      ],
      "execution_count": 2,
      "outputs": [
        {
          "output_type": "execute_result",
          "data": {
            "text/plain": [
              "2"
            ]
          },
          "metadata": {
            "tags": []
          },
          "execution_count": 2
        }
      ]
    },
    {
      "cell_type": "code",
      "metadata": {
        "id": "8cuFZTnasQO5",
        "colab_type": "code",
        "colab": {}
      },
      "source": [
        "# Let us think of the small cases. It is clear that if there are only one, two, or three stones in the pile, and it is your turn, you can win the game by taking all of them. Like the problem description says, if there are exactly four stones in the pile, you will lose. Because no matter how many you take, you will leave some stones behind for your opponent to take and win the game. So in order to win, you have to ensure that you never reach the situation where there are exactly four stones on the pile on your turn.\n",
        "\n",
        "# Similarly, if there are five, six, or seven stones you can win by taking just enough to leave four stones for your opponent so that they lose. But if there are eight stones on the pile, you will inevitably lose, because regardless whether you pick one, two or three stones from the pile, your opponent can pick three, two or one stone to ensure that, again, four stones will be left to you on your turn.\n",
        "\n",
        "# It is obvious that the same pattern repeats itself for n=4,8,12,16,\\dotsn=4,8,12,16,…, basically all multiples of 44."
      ],
      "execution_count": null,
      "outputs": []
    }
  ]
}