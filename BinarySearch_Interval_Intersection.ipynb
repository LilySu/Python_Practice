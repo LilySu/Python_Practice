{
  "nbformat": 4,
  "nbformat_minor": 0,
  "metadata": {
    "colab": {
      "name": "BinarySearch_Interval Intersection.ipynb",
      "provenance": [],
      "authorship_tag": "ABX9TyNMyDopSHdZfHxg65144M0A",
      "include_colab_link": true
    },
    "kernelspec": {
      "name": "python3",
      "display_name": "Python 3"
    }
  },
  "cells": [
    {
      "cell_type": "markdown",
      "metadata": {
        "id": "view-in-github",
        "colab_type": "text"
      },
      "source": [
        "<a href=\"https://colab.research.google.com/github/LilySu/Python_Practice/blob/master/BinarySearch_Interval_Intersection.ipynb\" target=\"_parent\"><img src=\"https://colab.research.google.com/assets/colab-badge.svg\" alt=\"Open In Colab\"/></a>"
      ]
    },
    {
      "cell_type": "markdown",
      "metadata": {
        "id": "4HmxbqaxO-q-"
      },
      "source": [
        "Given a two-dimensional integer list intervals of the form [start, end] representing intervals (inclusive), return their intersection, that is, the interval that lies within all of the given intervals.\n",
        "\n",
        "You can assume that the intersection will be non-empty.\n",
        "\n",
        "Constraints\n",
        "\n",
        "n ≤ 100,000 where n is the length of intervals\n",
        "Example 1\n",
        "Input\n",
        "```\n",
        "intervals = [\n",
        "    [1, 100],\n",
        "    [10, 50],\n",
        "    [15, 65]\n",
        "]\n",
        "Output\n",
        "\n",
        "[15, 50]\n",
        "Explanation\n",
        "\n",
        "Consider the ranges [1, 100], [10, 50], [15, 65] on a line. The range [15, 50] is the only interval that is included by all of them.\n",
        "```"
      ]
    },
    {
      "cell_type": "code",
      "metadata": {
        "id": "lcuPgVwrO7gK"
      },
      "source": [
        "class Solution:\n",
        "    def solve(self, intervals):\n",
        "        maxl = []\n",
        "        minl = []\n",
        "        for i in intervals:\n",
        "            maxl.append(i[0])\n",
        "            minl.append(i[1])\n",
        "        return [max(maxl), min(minl)]"
      ],
      "execution_count": null,
      "outputs": []
    },
    {
      "cell_type": "code",
      "metadata": {
        "id": "PQMWKX3aPGPJ"
      },
      "source": [
        "class Solution:\n",
        "    def solve(self, intervals):\n",
        "        s, e = zip(*intervals)\n",
        "        return max(s), min(e)"
      ],
      "execution_count": null,
      "outputs": []
    },
    {
      "cell_type": "code",
      "metadata": {
        "id": "eBAqfoh2PskK"
      },
      "source": [
        ">>> pairs = [(1, 'a'), (2, 'b'), (3, 'c'), (4, 'd')]\n",
        ">>> numbers, letters = zip(*pairs)\n",
        ">>> numbers\n",
        "(1, 2, 3, 4)\n",
        ">>> letters\n",
        "('a', 'b', 'c', 'd')"
      ],
      "execution_count": null,
      "outputs": []
    },
    {
      "cell_type": "code",
      "metadata": {
        "id": "5WIhUoh7Ppjg"
      },
      "source": [
        ">>> dict_one = {'name': 'John', 'last_name': 'Doe', 'job': 'Python Consultant'}\n",
        ">>> dict_two = {'name': 'Jane', 'last_name': 'Doe', 'job': 'Community Manager'}\n",
        ">>> for (k1, v1), (k2, v2) in zip(dict_one.items(), dict_two.items()):\n",
        "...     print(k1, '->', v1)\n",
        "...     print(k2, '->', v2)\n",
        "...\n",
        "name -> John\n",
        "name -> Jane\n",
        "last_name -> Doe\n",
        "last_name -> Doe\n",
        "job -> Python Consultant\n",
        "job -> Community Manager"
      ],
      "execution_count": null,
      "outputs": []
    }
  ]
}