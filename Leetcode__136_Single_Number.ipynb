{
  "nbformat": 4,
  "nbformat_minor": 0,
  "metadata": {
    "colab": {
      "name": "Leetcode_#136_Single_Number.ipynb",
      "provenance": [],
      "authorship_tag": "ABX9TyNi9d3+VdY6luB4OKMbsosL",
      "include_colab_link": true
    },
    "kernelspec": {
      "name": "python3",
      "display_name": "Python 3"
    }
  },
  "cells": [
    {
      "cell_type": "markdown",
      "metadata": {
        "id": "view-in-github",
        "colab_type": "text"
      },
      "source": [
        "<a href=\"https://colab.research.google.com/github/LilySu/Python_Practice/blob/master/Leetcode__136_Single_Number.ipynb\" target=\"_parent\"><img src=\"https://colab.research.google.com/assets/colab-badge.svg\" alt=\"Open In Colab\"/></a>"
      ]
    },
    {
      "cell_type": "markdown",
      "metadata": {
        "id": "-1im3UaVJc3m",
        "colab_type": "text"
      },
      "source": [
        "Given a non-empty array of integers, every element appears twice except for one. Find that single one.\n",
        "\n",
        "Note:\n",
        "\n",
        "Your algorithm should have a linear runtime complexity. Could you implement it without using extra memory?\n",
        "```\n",
        "Example 1:\n",
        "\n",
        "Input: [2,2,1]\n",
        "Output: 1\n",
        "Example 2:\n",
        "\n",
        "Input: [4,1,2,1,2]\n",
        "Output: 4\n",
        "```"
      ]
    },
    {
      "cell_type": "code",
      "metadata": {
        "id": "zYptZDNEJZU9",
        "colab_type": "code",
        "colab": {
          "base_uri": "https://localhost:8080/",
          "height": 34
        },
        "outputId": "ecf15f58-1f37-4a98-a8f1-21d131a65897"
      },
      "source": [
        "l = [2,2,1]\n",
        "d = {}\n",
        "for i in l:\n",
        "    if i in d:\n",
        "        k = d[i] + 1\n",
        "        d[i] = k\n",
        "    else:\n",
        "        d[i] = 1\n",
        "for i in d:\n",
        "    if d[i] == 1:\n",
        "        print(i)"
      ],
      "execution_count": 36,
      "outputs": [
        {
          "output_type": "stream",
          "text": [
            "1\n"
          ],
          "name": "stdout"
        }
      ]
    },
    {
      "cell_type": "code",
      "metadata": {
        "id": "FLlLVp7uKz41",
        "colab_type": "code",
        "colab": {
          "base_uri": "https://localhost:8080/",
          "height": 34
        },
        "outputId": "ae1b939d-0b66-4359-b153-7eb8c99c961a"
      },
      "source": [
        "list(dict.fromkeys(l))\n",
        "list(set(l))"
      ],
      "execution_count": 4,
      "outputs": [
        {
          "output_type": "execute_result",
          "data": {
            "text/plain": [
              "[2, 1]"
            ]
          },
          "metadata": {
            "tags": []
          },
          "execution_count": 4
        }
      ]
    },
    {
      "cell_type": "code",
      "metadata": {
        "id": "2dFJX9fqMRtj",
        "colab_type": "code",
        "colab": {}
      },
      "source": [
        ""
      ],
      "execution_count": null,
      "outputs": []
    }
  ]
}