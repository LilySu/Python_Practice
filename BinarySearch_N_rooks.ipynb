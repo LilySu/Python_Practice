{
  "nbformat": 4,
  "nbformat_minor": 0,
  "metadata": {
    "colab": {
      "name": "BinarySearch_N-rooks.ipynb",
      "provenance": [],
      "authorship_tag": "ABX9TyPiFGYbglunfpEe7A1t3B7P",
      "include_colab_link": true
    },
    "kernelspec": {
      "name": "python3",
      "display_name": "Python 3"
    }
  },
  "cells": [
    {
      "cell_type": "markdown",
      "metadata": {
        "id": "view-in-github",
        "colab_type": "text"
      },
      "source": [
        "<a href=\"https://colab.research.google.com/github/LilySu/Python_Practice/blob/master/BinarySearch_N_rooks.ipynb\" target=\"_parent\"><img src=\"https://colab.research.google.com/assets/colab-badge.svg\" alt=\"Open In Colab\"/></a>"
      ]
    },
    {
      "cell_type": "markdown",
      "metadata": {
        "id": "SeVt1EuWEIB8"
      },
      "source": [
        "You've got an integer n representing a chessboard of size n x n. Return the number of ways you can place n rooks, such that no two rooks attack each other.\n",
        "\n",
        "Two ways are considered different if in one of the ways, some cell of the chessboard is occupied, and in the other way, the cell is not occupied.\n",
        "\n",
        "Note: two rooks are attacking each other if they are either on the same row or on the same column.\n",
        "```\n",
        "Example 1\n",
        "Input\n",
        "\n",
        "n = 3\n",
        "Output\n",
        "\n",
        "6\n",
        "Explanation\n",
        "\n",
        "Here are the different chessboard configurations, where X is a rook.\n",
        "\n",
        "X O O \n",
        "O X O\n",
        "O O X\n",
        "\n",
        "X O O \n",
        "O O X\n",
        "O X O\n",
        "\n",
        "O X O\n",
        "X O O\n",
        "O O X\n",
        "\n",
        "O X O\n",
        "O O X\n",
        "X O O\n",
        "\n",
        "O O X\n",
        "O X O\n",
        "X O O\n",
        "\n",
        "O O X\n",
        "X O O\n",
        "O X O\n",
        "```"
      ]
    },
    {
      "cell_type": "code",
      "metadata": {
        "id": "Pm1YVGfGEB5U"
      },
      "source": [
        "import math\n",
        "\n",
        "class Solution:\n",
        "    def solve(self, n):\n",
        "        return math.factorial(n)"
      ],
      "execution_count": null,
      "outputs": []
    },
    {
      "cell_type": "markdown",
      "metadata": {
        "id": "9IwVmJh0EaIx"
      },
      "source": [
        "We must place exactly one rook per row. On the first row, there are n choices to place the rook. On the second row, there are n - 1 choices to place the rook, etc.\n",
        "\n",
        "In total, there are n! = n * (n - 1) * (n - 2) * ... * (1) ways to place all the rooks."
      ]
    },
    {
      "cell_type": "code",
      "metadata": {
        "id": "oPDzlG-oEclj"
      },
      "source": [
        "import math\n",
        "\n",
        "\n",
        "class Solution:\n",
        "    def solve(self, n):\n",
        "        return math.factorial(n)"
      ],
      "execution_count": null,
      "outputs": []
    },
    {
      "cell_type": "code",
      "metadata": {
        "id": "l3m0s4FBFG4v"
      },
      "source": [
        "class Solution:\n",
        "    def solve(self, n):\n",
        "        ans = 1\n",
        "        for i in range(1, n + 1):\n",
        "            ans *= i\n",
        "        return ans"
      ],
      "execution_count": null,
      "outputs": []
    },
    {
      "cell_type": "code",
      "metadata": {
        "id": "jJLMZ8ndFSrA"
      },
      "source": [
        "class Solution:\n",
        "    def solve(self, n):\n",
        "        ans = 1\n",
        "        while n > 1:\n",
        "            ans = ans * n\n",
        "            n -= 1\n",
        "        return ans"
      ],
      "execution_count": null,
      "outputs": []
    }
  ]
}