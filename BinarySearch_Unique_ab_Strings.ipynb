{
  "nbformat": 4,
  "nbformat_minor": 0,
  "metadata": {
    "colab": {
      "name": "BinarySearch_Unique_ab_Strings.ipynb",
      "provenance": [],
      "authorship_tag": "ABX9TyPOsq8KgZUXDeTI6N5I6hP1",
      "include_colab_link": true
    },
    "kernelspec": {
      "name": "python3",
      "display_name": "Python 3"
    }
  },
  "cells": [
    {
      "cell_type": "markdown",
      "metadata": {
        "id": "view-in-github",
        "colab_type": "text"
      },
      "source": [
        "<a href=\"https://colab.research.google.com/github/LilySu/Python_Practice/blob/master/BinarySearch_Unique_ab_Strings.ipynb\" target=\"_parent\"><img src=\"https://colab.research.google.com/assets/colab-badge.svg\" alt=\"Open In Colab\"/></a>"
      ]
    },
    {
      "cell_type": "markdown",
      "metadata": {
        "id": "DPmAw39nRWGn"
      },
      "source": [
        "You are given a string s of \"a\" and \"b\"s. \"a\"s can stay \"a\" or turn into \"b\", but \"b\"s can't change.\n",
        "\n",
        "Return the number of unique strings that can be made.\n",
        "```\n",
        "Constraints\n",
        "\n",
        "n ≤ 10,000 where n is the length of s\n",
        "Example 1\n",
        "Input\n",
        "\n",
        "s = \"abba\"\n",
        "Output\n",
        "\n",
        "4\n",
        "Explanation\n",
        "\n",
        "We can make these strings:\n",
        "\n",
        "\"abba\"\n",
        "\"abbb\"\n",
        "\"bbba\"\n",
        "\"bbbb\"\n",
        "```"
      ]
    },
    {
      "cell_type": "code",
      "metadata": {
        "id": "DIaJ7nInRQLl"
      },
      "source": [
        "import math\n",
        "\n",
        "class Solution:\n",
        "    def solve(self, s):\n",
        "        counta = s.count(\"a\")\n",
        "        return 2 ** counta"
      ],
      "execution_count": null,
      "outputs": []
    }
  ]
}