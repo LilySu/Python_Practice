{
  "nbformat": 4,
  "nbformat_minor": 0,
  "metadata": {
    "colab": {
      "name": "Leetcode_#303_Range_Sum_Query-Immutable.ipynb",
      "provenance": [],
      "authorship_tag": "ABX9TyOf7jXYHxjO45O9ICk/qJOp",
      "include_colab_link": true
    },
    "kernelspec": {
      "name": "python3",
      "display_name": "Python 3"
    }
  },
  "cells": [
    {
      "cell_type": "markdown",
      "metadata": {
        "id": "view-in-github",
        "colab_type": "text"
      },
      "source": [
        "<a href=\"https://colab.research.google.com/github/LilySu/Python_Practice/blob/master/Leetcode__303_Range_Sum_Query_Immutable.ipynb\" target=\"_parent\"><img src=\"https://colab.research.google.com/assets/colab-badge.svg\" alt=\"Open In Colab\"/></a>"
      ]
    },
    {
      "cell_type": "markdown",
      "metadata": {
        "id": "9EDS5P4fuPdD",
        "colab_type": "text"
      },
      "source": [
        "Given an integer array nums, find the sum of the elements between indices i and j (i ≤ j), inclusive.\n",
        "\n",
        "Example:\n",
        "```\n",
        "Given nums = [-2, 0, 3, -5, 2, -1]\n",
        "\n",
        "sumRange(0, 2) -> 1\n",
        "sumRange(2, 5) -> -1\n",
        "sumRange(0, 5) -> -3\n",
        " ```\n",
        "\n",
        "Constraints:\n",
        "\n",
        "You may assume that the array does not change.\n",
        "There are many calls to sumRange function.\n",
        "```\n",
        "0 <= nums.length <= 10^4\n",
        "-10^5 <= nums[i] <= 10^5\n",
        "0 <= i <= j < nums.length\n",
        "```"
      ]
    },
    {
      "cell_type": "code",
      "metadata": {
        "id": "n7c2yCC0uFNF",
        "colab_type": "code",
        "colab": {
          "base_uri": "https://localhost:8080/",
          "height": 34
        },
        "outputId": "7f685d7b-8e76-412b-d03a-1525203b2595"
      },
      "source": [
        "class NumArray(object):\n",
        "\n",
        "    def __init__(self, nums):\n",
        "        \"\"\"\n",
        "        :type nums: List[int]\n",
        "        \"\"\"\n",
        "        self.nums = nums\n",
        "\n",
        "    def sumRange(self, i, j):\n",
        "        \"\"\"\n",
        "        :type i: int\n",
        "        :type j: int\n",
        "        :rtype: int\n",
        "        \"\"\"\n",
        "        j = j + 1\n",
        "        \n",
        "        return sum(self.nums[i:j])\n",
        "\n",
        "\n",
        "# Your NumArray object will be instantiated and called as such:\n",
        "# obj = NumArray(nums)\n",
        "# param_1 = obj.sumRange(i,j)\n",
        "\n",
        "nums = [-2, 0, 3, -5, 2, -1]\n",
        "i = 0 \n",
        "j = 2\n",
        "obj = NumArray(nums)\n",
        "param_1 = obj.sumRange(i,j)\n",
        "print(param_1)"
      ],
      "execution_count": 16,
      "outputs": [
        {
          "output_type": "stream",
          "text": [
            "1\n"
          ],
          "name": "stdout"
        }
      ]
    },
    {
      "cell_type": "code",
      "metadata": {
        "id": "_d9uImjAzU65",
        "colab_type": "code",
        "colab": {
          "base_uri": "https://localhost:8080/",
          "height": 34
        },
        "outputId": "dac7b7ba-eb87-408c-dc15-a0e4577b7aae"
      },
      "source": [
        ""
      ],
      "execution_count": 10,
      "outputs": [
        {
          "output_type": "stream",
          "text": [
            "3\n"
          ],
          "name": "stdout"
        }
      ]
    },
    {
      "cell_type": "code",
      "metadata": {
        "id": "prgpUkJczcpQ",
        "colab_type": "code",
        "colab": {}
      },
      "source": [
        ""
      ],
      "execution_count": null,
      "outputs": []
    }
  ]
}