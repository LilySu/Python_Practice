{
  "nbformat": 4,
  "nbformat_minor": 0,
  "metadata": {
    "colab": {
      "name": "BinarySearch_Odd number of digits.ipynb",
      "provenance": [],
      "authorship_tag": "ABX9TyMCSsVOb/HhS1aAciSnf7+i",
      "include_colab_link": true
    },
    "kernelspec": {
      "name": "python3",
      "display_name": "Python 3"
    }
  },
  "cells": [
    {
      "cell_type": "markdown",
      "metadata": {
        "id": "view-in-github",
        "colab_type": "text"
      },
      "source": [
        "<a href=\"https://colab.research.google.com/github/LilySu/Python_Practice/blob/master/BinarySearch_Odd_number_of_digits.ipynb\" target=\"_parent\"><img src=\"https://colab.research.google.com/assets/colab-badge.svg\" alt=\"Open In Colab\"/></a>"
      ]
    },
    {
      "cell_type": "markdown",
      "metadata": {
        "id": "kjZF2wJaMPaU"
      },
      "source": [
        "Given a list of positive integers nums, return the number of integers that have odd number of digits.\n",
        "```\n",
        "Example 1\n",
        "Input\n",
        "\n",
        "nums = [1, 800, 2, 10, 3]\n",
        "Output\n",
        "\n",
        "4\n",
        "Explanation\n",
        "\n",
        "[1, 800, 2, 3] have odd number of digits.\n",
        "```"
      ]
    },
    {
      "cell_type": "code",
      "metadata": {
        "id": "EvlwnADyMMW3"
      },
      "source": [
        "class Solution:\n",
        "    def solve(self, nums):\n",
        "        counter = 0\n",
        "        for i in nums:\n",
        "            if len(str(i)) % 2 != 0:\n",
        "                counter += 1\n",
        "        return counter"
      ],
      "execution_count": null,
      "outputs": []
    },
    {
      "cell_type": "code",
      "metadata": {
        "id": "F4fN5yY5MV-c"
      },
      "source": [
        "class Solution:\n",
        "    def solve(self, nums):\n",
        "        counter = 0\n",
        "        for i in nums:\n",
        "            if len(str(i)) % 2:\n",
        "                counter += 1\n",
        "        return counter"
      ],
      "execution_count": null,
      "outputs": []
    },
    {
      "cell_type": "code",
      "metadata": {
        "id": "Rd4HTWcNMaqX"
      },
      "source": [
        "return sum(len(str(x)) % 2 for x in nums)"
      ],
      "execution_count": null,
      "outputs": []
    }
  ]
}