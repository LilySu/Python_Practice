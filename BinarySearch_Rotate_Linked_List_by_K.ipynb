{
  "nbformat": 4,
  "nbformat_minor": 0,
  "metadata": {
    "colab": {
      "name": "BinarySearch_Rotate Linked List by K.ipynb",
      "provenance": [],
      "authorship_tag": "ABX9TyP57iIHQ3cm1ixMse9Gr9PX",
      "include_colab_link": true
    },
    "kernelspec": {
      "name": "python3",
      "display_name": "Python 3"
    }
  },
  "cells": [
    {
      "cell_type": "markdown",
      "metadata": {
        "id": "view-in-github",
        "colab_type": "text"
      },
      "source": [
        "<a href=\"https://colab.research.google.com/github/LilySu/Python_Practice/blob/master/BinarySearch_Rotate_Linked_List_by_K.ipynb\" target=\"_parent\"><img src=\"https://colab.research.google.com/assets/colab-badge.svg\" alt=\"Open In Colab\"/></a>"
      ]
    },
    {
      "cell_type": "markdown",
      "metadata": {
        "id": "ceYzZ618-mLw"
      },
      "source": [
        "Given a linked list node and a positive integer k, rotate the list to the right by k places.\r\n",
        "\r\n",
        "Note: The linked list is guaranteed to have at least one element, and k is guaranteed to be less than or equal to the length of the list.\r\n",
        "```\r\n",
        "Constraints\r\n",
        "\r\n",
        "k ≤ n ≤ 100,000 where n is the number of nodes in node\r\n",
        "Example 1\r\n",
        "Input\r\n",
        "Visualize\r\n",
        "node =\r\n",
        "1\r\n",
        "\r\n",
        "2\r\n",
        "\r\n",
        "…\r\n",
        "\r\n",
        "k = 2\r\n",
        "Output\r\n",
        "Visualize\r\n",
        "3\r\n",
        "\r\n",
        "4\r\n",
        "\r\n",
        "…\r\n",
        "\r\n",
        "Example 2\r\n",
        "Input\r\n",
        "Visualize\r\n",
        "node =\r\n",
        "1\r\n",
        "\r\n",
        "2\r\n",
        "\r\n",
        "…\r\n",
        "\r\n",
        "k = 4\r\n",
        "Output\r\n",
        "Visualize\r\n",
        "1\r\n",
        "\r\n",
        "2\r\n",
        "\r\n",
        "…\r\n",
        "\r\n",
        "Example 3\r\n",
        "Input\r\n",
        "Visualize\r\n",
        "node =\r\n",
        "1\r\n",
        "\r\n",
        "2\r\n",
        "\r\n",
        "…\r\n",
        "\r\n",
        "k = 0\r\n",
        "Output\r\n",
        "Visualize\r\n",
        "1\r\n",
        "\r\n",
        "2\r\n",
        "\r\n",
        "…\r\n",
        "```"
      ]
    },
    {
      "cell_type": "code",
      "metadata": {
        "id": "VssbFW1a7XHL"
      },
      "source": [
        "# class LLNode:\r\n",
        "#     def __init__(self, val, next=None):\r\n",
        "#         self.val = val\r\n",
        "#         self.next = next\r\n",
        "class Solution:\r\n",
        "    def solve(self, node, k):\r\n",
        "        # list = 1->2->3->4->5->6, k =2\r\n",
        "        curr, end = node, node\r\n",
        "        # After First while loop: curr = 1(still) & end = 3.\r\n",
        "        while k:\r\n",
        "            end = end.next\r\n",
        "            k -= 1\r\n",
        "        # results in [3, 4]\r\n",
        "        # Second while loop: curr = 4 & end = 6.\r\n",
        "        while end.next and end:\r\n",
        "            curr = curr.next\r\n",
        "            end = end.next\r\n",
        "        # results in a linked list that ends at 4\r\n",
        "        if end:\r\n",
        "            # connect 6->1 and our list becomes a circular linked list.\r\n",
        "            end.next = node\r\n",
        "            # We make the next of Curr pointer, i.e. 5 as the new Head of the list.\r\n",
        "            node = curr.next\r\n",
        "            # And, finally we make the Curr, i.e. 4 as the last element of list\r\n",
        "            curr.next = None\r\n",
        "        return node"
      ],
      "execution_count": null,
      "outputs": []
    }
  ]
}