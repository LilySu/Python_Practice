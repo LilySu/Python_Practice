{
  "nbformat": 4,
  "nbformat_minor": 0,
  "metadata": {
    "colab": {
      "name": "BinarySear_Revolving_Door",
      "provenance": [],
      "authorship_tag": "ABX9TyN9/F9JTENr0+bxF3lDJgiG",
      "include_colab_link": true
    },
    "kernelspec": {
      "name": "python3",
      "display_name": "Python 3"
    }
  },
  "cells": [
    {
      "cell_type": "markdown",
      "metadata": {
        "id": "view-in-github",
        "colab_type": "text"
      },
      "source": [
        "<a href=\"https://colab.research.google.com/github/LilySu/Python_Practice/blob/master/BinarySear_Revolving_Door.ipynb\" target=\"_parent\"><img src=\"https://colab.research.google.com/assets/colab-badge.svg\" alt=\"Open In Colab\"/></a>"
      ]
    },
    {
      "cell_type": "markdown",
      "metadata": {
        "id": "UebAbrb6Psif"
      },
      "source": [
        "Revolving Door\n",
        "You are given a list of list of integers requests. requests[i] contains [time, direction] meaning at time time, a person arrived at the door and either wanted to go in (1) or go out (0).\n",
        "\n",
        "Given that there's only one door and it takes one time unit to use the door, we have the following rules to resolve conflicts:\n",
        "\n",
        "The door starts with in position and then is set to the position used by the last person.\n",
        "If there's only one person at the door at given time, they can use the door.\n",
        "When two or more people want to go in, earliest person goes first and then the direction previously used holds precedence.\n",
        "If no one uses the door for one time unit, it reverts back to the starting in position.\n",
        "Return a sorted list of lists where each element contains [time, direction], meaning at time, a person either went in or out.\n",
        "```\n",
        "Example 1\n",
        "Input\n",
        "\n",
        "requests = [\n",
        "    [1, 0],\n",
        "    [2, 1],\n",
        "    [5, 0],\n",
        "    [5, 1],\n",
        "    [2, 0]\n",
        "]\n",
        "Output\n",
        "\n",
        "[\n",
        "    [1, 0],\n",
        "    [2, 0],\n",
        "    [3, 1],\n",
        "    [5, 1],\n",
        "    [6, 0]\n",
        "]\n",
        "Explanation\n",
        "```\n",
        "The door starts as in\n",
        "\n",
        "At time 1, there's only one person so they can go out. Door becomes out.\n",
        "At time 2, there's two people but the person going out has priority so they go out.\n",
        "At time 3, the person looking to go in can now go in.\n",
        "At time 5, there's two people but the person going in has priority so they go out.\n",
        "At time 6, the last person can go out.\n",
        "Example 2\n",
        "Input\n",
        "```\n",
        "requests = [\n",
        "    [1, 0],\n",
        "    [2, 0],\n",
        "    [2, 1],\n",
        "    [1, 1]\n",
        "]\n",
        "Output\n",
        "\n",
        "[\n",
        "    [1, 1],\n",
        "    [2, 0],\n",
        "    [3, 0],\n",
        "    [4, 1]\n",
        "]\n",
        "Explanation\n",
        "```\n",
        "The door starts as in\n",
        "\n",
        "At time 1, there's two people but the person going in has higher priority.\n",
        "At time 2, the other person who came at time 1 can go out. Door becomes out\n",
        "At time 3, there's two people but the person going out has higher priority.\n",
        "At time 4, the last person can go in"
      ]
    },
    {
      "cell_type": "code",
      "metadata": {
        "id": "8ZiCdvUCN6OI"
      },
      "source": [
        "# priority queue\n",
        "\n",
        "from collections import defaultdict\n",
        "\n",
        "\n",
        "class Solution:\n",
        "    def solve(self, requests):\n",
        "        events = defaultdict(lambda: [0, 0])\n",
        "        for t, d in requests:\n",
        "            events[t][d] += 1\n",
        "\n",
        "        ans = []\n",
        "        direction = 1\n",
        "        time = 0\n",
        "        for t in sorted(events):\n",
        "            if t > time:\n",
        "                time = t\n",
        "                direction = 1\n",
        "\n",
        "            x = events[t][direction]\n",
        "            y = events[t][direction ^ 1]\n",
        "\n",
        "            for t in range(time, time + x):\n",
        "                ans.append([t, direction])\n",
        "            for t in range(time + x, time + x + y):\n",
        "                ans.append([t, direction ^ 1])\n",
        "\n",
        "            time += x + y\n",
        "            if y:\n",
        "                direction ^= 1\n",
        "\n",
        "        return ans"
      ],
      "execution_count": null,
      "outputs": []
    },
    {
      "cell_type": "code",
      "metadata": {
        "id": "id14OuaNQd80"
      },
      "source": [
        "class Solution:\n",
        "    def solve(self, requests):\n",
        "        from collections import Counter\n",
        "\n",
        "        c = Counter(map(tuple, requests))\n",
        "        ts = sorted([t for t, d in requests], reverse=True)\n",
        "\n",
        "        t = 0\n",
        "        d = 1\n",
        "        ans = []\n",
        "        while ts:\n",
        "            if ts[-1] <= t:\n",
        "                key = ts.pop(), d\n",
        "                if not c[key]:\n",
        "                    d = 1 - d\n",
        "                c[key] -= 1\n",
        "                ans.append((t, d))\n",
        "            else:\n",
        "                d = 1\n",
        "            t += 1\n",
        "        return ans\n"
      ],
      "execution_count": null,
      "outputs": []
    }
  ]
}