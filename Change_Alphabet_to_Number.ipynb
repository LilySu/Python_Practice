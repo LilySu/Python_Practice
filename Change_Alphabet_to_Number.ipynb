{
  "nbformat": 4,
  "nbformat_minor": 0,
  "metadata": {
    "colab": {
      "name": "Change_Alphabet_to_Number.ipynb",
      "provenance": [],
      "authorship_tag": "ABX9TyPHpLAoa9s244NUBIIKWTZ0",
      "include_colab_link": true
    },
    "kernelspec": {
      "name": "python3",
      "display_name": "Python 3"
    }
  },
  "cells": [
    {
      "cell_type": "markdown",
      "metadata": {
        "id": "view-in-github",
        "colab_type": "text"
      },
      "source": [
        "<a href=\"https://colab.research.google.com/github/LilySu/Python_Practice/blob/master/Change_Alphabet_to_Number.ipynb\" target=\"_parent\"><img src=\"https://colab.research.google.com/assets/colab-badge.svg\" alt=\"Open In Colab\"/></a>"
      ]
    },
    {
      "cell_type": "code",
      "metadata": {
        "id": "aqZvD-_FZ4X6"
      },
      "source": [
        "import string\n",
        "class Solution:\n",
        "    def solve(self, s):\n",
        "        let = list(string.ascii_lowercase)\n",
        "        for i in s.lower():\n",
        "            if i in let:\n",
        "                let.remove(i)\n",
        "        return len(let) == 0"
      ],
      "execution_count": null,
      "outputs": []
    },
    {
      "cell_type": "code",
      "metadata": {
        "id": "538k1ewhaKDf",
        "colab": {
          "base_uri": "https://localhost:8080/"
        },
        "outputId": "7460b28c-bb58-4cf3-d3c8-beda6b25d064"
      },
      "source": [
        "s = \"ab\"\n",
        "[ord(char) - 96 for char in s]"
      ],
      "execution_count": null,
      "outputs": [
        {
          "output_type": "execute_result",
          "data": {
            "text/plain": [
              "[1, 2]"
            ]
          },
          "metadata": {
            "tags": []
          },
          "execution_count": 4
        }
      ]
    },
    {
      "cell_type": "code",
      "metadata": {
        "id": "zftcsTg_aMop"
      },
      "source": [
        ""
      ],
      "execution_count": null,
      "outputs": []
    }
  ]
}