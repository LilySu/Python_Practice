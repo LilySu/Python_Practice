{
  "nbformat": 4,
  "nbformat_minor": 0,
  "metadata": {
    "colab": {
      "name": "BinarySearch_Elephant Tree.ipynb",
      "provenance": [],
      "authorship_tag": "ABX9TyOaij0SSvyfdxru5250azeb",
      "include_colab_link": true
    },
    "kernelspec": {
      "name": "python3",
      "display_name": "Python 3"
    }
  },
  "cells": [
    {
      "cell_type": "markdown",
      "metadata": {
        "id": "view-in-github",
        "colab_type": "text"
      },
      "source": [
        "<a href=\"https://colab.research.google.com/github/LilySu/Python_Practice/blob/master/BinarySearch_Elephant_Tree.ipynb\" target=\"_parent\"><img src=\"https://colab.research.google.com/assets/colab-badge.svg\" alt=\"Open In Colab\"/></a>"
      ]
    },
    {
      "cell_type": "markdown",
      "metadata": {
        "id": "ynJ4WFuClqF0"
      },
      "source": [
        "Given a binary tree root, return the same tree except every node's value is replaced by its original value plus all of the sums of its left and right subtrees.\n",
        "\n",
        "Constraints\n",
        "\n",
        "n ≤ 100,000 where n is the number of nodes in root\n",
        "Example 1\n",
        "Input\n",
        "Visualize Tree\n",
        "root =\n",
        "2\n",
        "\n",
        "1\n",
        "\n",
        "4\n",
        "\n",
        "0\n",
        "\n",
        "3\n",
        "\n",
        "Output\n",
        "Visualize Tree\n",
        "10\n",
        "\n",
        "1\n",
        "\n",
        "7\n",
        "\n",
        "0\n",
        "\n",
        "3"
      ]
    },
    {
      "cell_type": "code",
      "metadata": {
        "id": "1foqn0iik6Nx"
      },
      "source": [
        "# class Tree:\n",
        "#     def __init__(self, val, left=None, right=None):\n",
        "#         self.val = val\n",
        "#         self.left = left\n",
        "#         self.right = right\n",
        "\n",
        "class Solution:\n",
        "    def solve(self, root):\n",
        "        if root == None:\n",
        "            return\n",
        "        self.solve(root.left)\n",
        "        self.solve(root.right)\n",
        "        if root.right is not None:\n",
        "            root.val += root.right.val\n",
        "        if root.left is not None:\n",
        "            root.val += root.left.val\n",
        "        return root"
      ],
      "execution_count": null,
      "outputs": []
    },
    {
      "cell_type": "code",
      "metadata": {
        "id": "-vH3_FTFlegI"
      },
      "source": [
        "class Solution:\n",
        "    def solve(self, root):\n",
        "        def traverse(node) -> int:\n",
        "            val = node.val\n",
        "            if node.left:\n",
        "                val += traverse(node.left)\n",
        "            if node.right:\n",
        "                val += traverse(node.right)\n",
        "            node.val = val\n",
        "            return val\n",
        "\n",
        "        traverse(root)\n",
        "        return root"
      ],
      "execution_count": null,
      "outputs": []
    }
  ]
}