{
  "nbformat": 4,
  "nbformat_minor": 0,
  "metadata": {
    "colab": {
      "name": "Binary_Search_Bomber Man.ipynb",
      "provenance": [],
      "authorship_tag": "ABX9TyPqngIYniPjkTVnwISK52LJ",
      "include_colab_link": true
    },
    "kernelspec": {
      "name": "python3",
      "display_name": "Python 3"
    }
  },
  "cells": [
    {
      "cell_type": "markdown",
      "metadata": {
        "id": "view-in-github",
        "colab_type": "text"
      },
      "source": [
        "<a href=\"https://colab.research.google.com/github/LilySu/Python_Practice/blob/master/Binary_Search_Bomber_Man.ipynb\" target=\"_parent\"><img src=\"https://colab.research.google.com/assets/colab-badge.svg\" alt=\"Open In Colab\"/></a>"
      ]
    },
    {
      "cell_type": "markdown",
      "metadata": {
        "id": "NP4mIiVPiAaZ"
      },
      "source": [
        "You are given a two-dimensional integer matrix of 1s and 0s, where a 1 represents a bomb and 0 represents an empty cell. When a bomb explodes, all the spaces along on the same row and column are damaged. Return the number of spaces you can stand in to not get damaged.\n",
        "\n",
        "Constraints\n",
        "```\n",
        "n * m ≤ 200,000 where n and m are the number of rows and columns in matrix.\n",
        "Example 1\n",
        "Input\n",
        "matrix = [\n",
        "    [1, 0, 0],\n",
        "    [0, 1, 0],\n",
        "    [0, 0, 0]\n",
        "]\n",
        "Output\n",
        "1\n",
        "Explanation\n",
        "Only the bottom right cell is safe```"
      ]
    },
    {
      "cell_type": "code",
      "metadata": {
        "id": "hyJh3QnVh-bd"
      },
      "source": [
        "class Solution:\n",
        "    def solve(self, matrix):\n",
        "        counter = 0\n",
        "        newMatrix = [[0 for i in range(len(matrix[0]))]]* len(matrix)\n",
        "        for row in range(len(matrix)):\n",
        "            for col in range(len(matrix[0])):\n",
        "                if matrix[row][col] == 1:\n",
        "                    newMatrix[row] = [1 for i in range(len(matrix[0]))]\n",
        "                    \n",
        "                    for i in range(len(matrix)):\n",
        "                        newMatrix[i][col] = 1\n",
        "        for row in newMatrix:\n",
        "            for val in row:\n",
        "                if val == 0:\n",
        "                    counter += 1\n",
        "        print(newMatrix)\n",
        "        return counter"
      ],
      "execution_count": null,
      "outputs": []
    }
  ]
}