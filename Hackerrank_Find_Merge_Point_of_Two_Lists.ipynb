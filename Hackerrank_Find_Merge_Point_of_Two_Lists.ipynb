{
  "nbformat": 4,
  "nbformat_minor": 0,
  "metadata": {
    "colab": {
      "name": "Hackerrank_Find_Merge_Point_of_Two_Lists.ipynb",
      "provenance": [],
      "authorship_tag": "ABX9TyO2ItJzXBEHZUFmyGfHSWID",
      "include_colab_link": true
    },
    "kernelspec": {
      "name": "python3",
      "display_name": "Python 3"
    }
  },
  "cells": [
    {
      "cell_type": "markdown",
      "metadata": {
        "id": "view-in-github",
        "colab_type": "text"
      },
      "source": [
        "<a href=\"https://colab.research.google.com/github/LilySu/Python_Practice/blob/master/Hackerrank_Find_Merge_Point_of_Two_Lists.ipynb\" target=\"_parent\"><img src=\"https://colab.research.google.com/assets/colab-badge.svg\" alt=\"Open In Colab\"/></a>"
      ]
    },
    {
      "cell_type": "markdown",
      "metadata": {
        "id": "RIhPiPIyGBQc"
      },
      "source": [
        "https://www.hackerrank.com/challenges/find-the-merge-point-of-two-joined-linked-lists/problem?h_l=interview&playlist_slugs[]=interview-preparation-kit&playlist_slugs[]=linked-lists"
      ]
    },
    {
      "cell_type": "markdown",
      "metadata": {
        "id": "bQUY46BcGMXc"
      },
      "source": [
        "Given pointers to the head nodes of  linked lists that merge together at some point, find the node where the two lists merge. The merge point is where both lists point to the same node, i.e. they reference the same memory location. It is guaranteed that the two head nodes will be different, and neither will be NULL. If the lists share a common node, return that node's  value.\n",
        "\n",
        "Note: After the merge point, both lists will share the same node pointers.\n",
        "\n",
        "Example\n",
        "\n",
        "In the diagram below, the two lists converge at Node x:\n",
        "\n",
        "[List #1] a--->b--->c\n",
        "                     \\\n",
        "                      x--->y--->z--->NULL\n",
        "                     /\n",
        "     [List #2] p--->q\n",
        "Function Description\n",
        "\n",
        "Complete the findMergeNode function in the editor below.\n",
        "\n",
        "findMergeNode has the following parameters:\n",
        "\n",
        "SinglyLinkedListNode pointer head1: a reference to the head of the first list\n",
        "SinglyLinkedListNode pointer head2: a reference to the head of the second list\n",
        "Returns\n",
        "\n",
        "int: the  value of the node where the lists merge\n",
        "Input Format\n",
        "\n",
        "Do not read any input from stdin/console.\n",
        "\n",
        "The first line contains an integer , the number of test cases.\n",
        "\n",
        "Each of the test cases is in the following format:\n",
        "The first line contains an integer, , the node number where the merge will occur.\n",
        "The next line contains an integer,  that is the number of nodes in the first list.\n",
        "Each of the following  lines contains a  value for a node. The next line contains an integer,  that is the number of nodes in the second list.\n",
        "Each of the following  lines contains a  value for a node.\n",
        "```\n",
        "Constraints\n",
        "\n",
        "The lists will merge.\n",
        ".\n",
        " .\n",
        "\n",
        "Sample Input\n",
        "\n",
        "The diagrams below are graphical representations of the lists that input nodes  and  are connected to.\n",
        "\n",
        "Test Case 0\n",
        "\n",
        " 1\n",
        "  \\\n",
        "   2--->3--->NULL\n",
        "  /\n",
        " 1\n",
        "Test Case 1\n",
        "\n",
        "1--->2\n",
        "      \\\n",
        "       3--->Null\n",
        "      /\n",
        "     1\n",
        "Sample Output\n",
        "\n",
        "2\n",
        "3\n",
        "Explanation\n",
        "```\n",
        "Test Case 0: As demonstrated in the diagram above, the merge node's data field contains the integer .\n",
        "Test Case 1: As demonstrated in the diagram above, the merge node's data field contains the integer ."
      ]
    },
    {
      "cell_type": "code",
      "metadata": {
        "id": "PsP83-HMF-qG"
      },
      "source": [
        "\n",
        "def findMergeNode(head1, head2):\n",
        "  # node1 == node2\n",
        "  visited = set()\n",
        "  # iterate over LL1 and add all the elements to a visited set\n",
        "  current = head1\n",
        "  while current != None:\n",
        "    visited.add(current)\n",
        "    current = current.next\n",
        "    \n",
        "  current = head2\n",
        "  while current != None:\n",
        "    if current in visited:\n",
        "      return current.data\n",
        "    \n",
        "    current = current.next\n",
        "    \n",
        "  # iterate over LL2 and check if our set has each element, the first one that we find\n",
        "    # will be what we return"
      ],
      "execution_count": null,
      "outputs": []
    },
    {
      "cell_type": "code",
      "metadata": {
        "id": "JQUnCAchGYBs"
      },
      "source": [
        "# if we want O(n + m) time\n",
        "# O(n) space without using another data structure\n",
        "# O(n+m+n) = O(2n+m) = O(n+m)\n",
        "# O(1) space \n",
        "def findMergedNode(head1, head2):\n",
        "    # get the size of both lists\n",
        "    # iterate through first one, get the size\n",
        "    # O(n)\n",
        "    curr = head1\n",
        "    len1 = 0\n",
        "    while curr is not None:\n",
        "        len1 += 1\n",
        "        curr = curr.next\n",
        "    \n",
        "    # iterate over second one, get size\n",
        "    len2 = 0\n",
        "    curr = head2\n",
        "    # O(m)\n",
        "    while curr is not None:\n",
        "        len2 += 1\n",
        "        curr = curr.next\n",
        "\n",
        "    if len1 > len2:\n",
        "        diff = len1 - len2\n",
        "        for i in range(diff):\n",
        "            head1 = head1.next\n",
        "\n",
        "    if len2 > len1:\n",
        "        diff = len1 - len2\n",
        "        for i in range(diff):\n",
        "            head1 = head1.next\n",
        "    # O(smaller of n or m)\n",
        "    # we know both of these are the same\n",
        "    curr1 = head1\n",
        "    curr2 = head2\n",
        "    while curr1 is not None and curr2 is not None: # or while True\n",
        "        if curr1 == curr2:\n",
        "            return curr1.data\n",
        "        curr1 = curr1.next\n",
        "        curr2 = curr2.next\n",
        "    # remote nodes of the larger one , so that it's the same size as the smaller\n",
        "\n",
        "    # iterate through both at once, stop when we find the iteration"
      ],
      "execution_count": null,
      "outputs": []
    }
  ]
}