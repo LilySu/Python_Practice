{
  "nbformat": 4,
  "nbformat_minor": 0,
  "metadata": {
    "colab": {
      "name": "BinarySearch_Equivalent Value and Frequency.ipynb",
      "provenance": [],
      "authorship_tag": "ABX9TyOmQ+N50PPzyflSFAWMMypC",
      "include_colab_link": true
    },
    "kernelspec": {
      "name": "python3",
      "display_name": "Python 3"
    }
  },
  "cells": [
    {
      "cell_type": "markdown",
      "metadata": {
        "id": "view-in-github",
        "colab_type": "text"
      },
      "source": [
        "<a href=\"https://colab.research.google.com/github/LilySu/Python_Practice/blob/master/BinarySearch_Equivalent_Value_and_Frequency.ipynb\" target=\"_parent\"><img src=\"https://colab.research.google.com/assets/colab-badge.svg\" alt=\"Open In Colab\"/></a>"
      ]
    },
    {
      "cell_type": "markdown",
      "metadata": {
        "id": "tOUVxu3JO6OW"
      },
      "source": [
        "Given a list of integers nums, return whether there's an integer whose frequency in the list is same as its value.\n",
        "```\n",
        "Constraints\n",
        "\n",
        "n ≤ 100,000 where n is the length of nums\n",
        "Example 1\n",
        "Input\n",
        "\n",
        "nums = [7, 9, 3, 3, 3]\n",
        "Output\n",
        "\n",
        "True\n",
        "Explanation\n",
        "\n",
        "The number 3 appears 3 times.\n",
        "```"
      ]
    },
    {
      "cell_type": "code",
      "metadata": {
        "id": "fnaYQvSfO4wA"
      },
      "source": [
        "class Solution:\n",
        "    def solve(self, nums):\n",
        "        for i in nums:\n",
        "            if i == nums.count(i):\n",
        "                return True\n",
        "        return False"
      ],
      "execution_count": null,
      "outputs": []
    },
    {
      "cell_type": "code",
      "metadata": {
        "id": "IRYONW67PFt-"
      },
      "source": [
        "# The any() function returns True if any item in an iterable are true, otherwise it returns False.\n",
        "\n",
        "If the iterable object is empty, the any() function will return False.\n",
        "from collections import Counter\n",
        "class Solution:\n",
        "    def solve(self, nums):\n",
        "        count = Counter(nums)\n",
        "        return any(count[x] == x for x in count)"
      ],
      "execution_count": null,
      "outputs": []
    }
  ]
}