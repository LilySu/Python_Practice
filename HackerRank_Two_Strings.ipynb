{
  "nbformat": 4,
  "nbformat_minor": 0,
  "metadata": {
    "colab": {
      "name": "HackerRank_Two_Strings.ipynb",
      "provenance": [],
      "authorship_tag": "ABX9TyM1br/VOyIlv5jdYuxaFn1F",
      "include_colab_link": true
    },
    "kernelspec": {
      "name": "python3",
      "display_name": "Python 3"
    }
  },
  "cells": [
    {
      "cell_type": "markdown",
      "metadata": {
        "id": "view-in-github",
        "colab_type": "text"
      },
      "source": [
        "<a href=\"https://colab.research.google.com/github/LilySu/Python_Practice/blob/master/HackerRank_Two_Strings.ipynb\" target=\"_parent\"><img src=\"https://colab.research.google.com/assets/colab-badge.svg\" alt=\"Open In Colab\"/></a>"
      ]
    },
    {
      "cell_type": "code",
      "metadata": {
        "id": "vGhIeHqgnFQP",
        "colab_type": "code",
        "colab": {}
      },
      "source": [
        "# Complete the twoStrings function below.\n",
        "def twoStrings(s1, s2):\n",
        "  s1_dict = {}\n",
        "  # new_set = Set(s1)\n",
        "  # for char in s2:\n",
        "  #   if in new_set:\n",
        "  #     return \"Yes\"\n",
        "  # return \"NO\"\n",
        "  # go through the first string\n",
        "  for char in s1:\n",
        "    # for i, char in enumerate(s1):\n",
        "    # add each character to a set\n",
        "    s1_dict[char] = True\n",
        "    \n",
        "  # go through the other string:\n",
        "  for i in range(len(s2)):\n",
        "    if s2[i] in s1_dict:\n",
        "      return \"YES\"\n",
        "\n",
        "  return \"NO\"\n",
        "    # check if each character is in the set:\n",
        "      # if yes return \"YES\""
      ],
      "execution_count": null,
      "outputs": []
    },
    {
      "cell_type": "code",
      "metadata": {
        "id": "THqqpAiRmllO",
        "colab_type": "code",
        "colab": {}
      },
      "source": [
        "def twoStrings(s1, s2):\n",
        "    s1_dict = {}\n",
        "\n",
        "    for char in s1:\n",
        "        s1_dict[char] = True\n",
        "\n",
        "    for i in range(len(s2)):\n",
        "        if s2[i] in s1_dict:\n",
        "            return s1_dict\n",
        "    return \"NO\""
      ],
      "execution_count": 7,
      "outputs": []
    },
    {
      "cell_type": "code",
      "metadata": {
        "id": "CEL_OXcTnfgL",
        "colab_type": "code",
        "colab": {
          "base_uri": "https://localhost:8080/",
          "height": 34
        },
        "outputId": "35109749-2783-4b61-c2aa-e0eb4fb50475"
      },
      "source": [
        "s1 = \"hello\"\n",
        "s2 = \"world\"\n",
        "twoStrings(s1,s2)"
      ],
      "execution_count": 8,
      "outputs": [
        {
          "output_type": "execute_result",
          "data": {
            "text/plain": [
              "{'e': True, 'h': True, 'l': True, 'o': True}"
            ]
          },
          "metadata": {
            "tags": []
          },
          "execution_count": 8
        }
      ]
    },
    {
      "cell_type": "code",
      "metadata": {
        "id": "brYA7Uuvnj2b",
        "colab_type": "code",
        "colab": {
          "base_uri": "https://localhost:8080/",
          "height": 276
        },
        "outputId": "ed4f0bfa-89a7-4048-93cf-b83b386e0658"
      },
      "source": [
        "# return all possible substring in a set\n",
        "# get 'a', 'r' and 'ar'\n",
        "s = 'hello'\n",
        "def allSubstring(s):\n",
        "    set_str = set()\n",
        "    counter = 0\n",
        "    # add all 1 length substring\n",
        "    # then 2 length\n",
        "    # then 3 length\n",
        "    # or more commonly, \"hel\", \"ell\", \"llo\"\n",
        "    for i in range(len(s)):\n",
        "        for j in range(i+1, len(s) + 1, 1):\n",
        "            print(s[i:j])\n",
        "\n",
        "    # for i in range(0, len(s), 1)\n",
        "allSubstring(s)"
      ],
      "execution_count": 11,
      "outputs": [
        {
          "output_type": "stream",
          "text": [
            "h\n",
            "he\n",
            "hel\n",
            "hell\n",
            "hello\n",
            "e\n",
            "el\n",
            "ell\n",
            "ello\n",
            "l\n",
            "ll\n",
            "llo\n",
            "l\n",
            "lo\n",
            "o\n"
          ],
          "name": "stdout"
        }
      ]
    },
    {
      "cell_type": "code",
      "metadata": {
        "id": "-fAhaZJurAbS",
        "colab_type": "code",
        "colab": {
          "base_uri": "https://localhost:8080/",
          "height": 34
        },
        "outputId": "8c7febb3-b3b8-4dfc-acff-9e37c15ac7c1"
      },
      "source": [
        "# Complete the twoStrings function below.\n",
        "\n",
        "def allSubstring(s):\n",
        "    set_str = set()\n",
        "    counter = 0\n",
        "    # add all 1 length substring\n",
        "    # then 2 length\n",
        "    # then 3 length\n",
        "    # or more commonly, \"hel\", \"ell\", \"llo\"\n",
        "    for i in range(len(s)):\n",
        "        for j in range(i+1, len(s) + 1, 1):\n",
        "            set_str.add(s[i:j])\n",
        "    return set_str\n",
        "\n",
        "\n",
        "def twoStrings(s1, s2):\n",
        "  s1_dict = {}\n",
        "  # new_set = Set(s1)\n",
        "  # for char in s2:\n",
        "  #   if in new_set:\n",
        "  #     return \"Yes\"\n",
        "  # return \"NO\"\n",
        "  # go through the first string\n",
        "  answer = []\n",
        "  s1_subs = allSubstring(s1)\n",
        "  s2_subs = allSubstring(s2)\n",
        "  for sub in s2_subs:\n",
        "      if sub in s1_subs:\n",
        "          answer.append(sub)\n",
        "  return answer\n",
        "\n",
        "print(twoStrings(\"string\", \"ring\"))"
      ],
      "execution_count": 15,
      "outputs": [
        {
          "output_type": "stream",
          "text": [
            "['r', 'ing', 'in', 'ring', 'ng', 'g', 'rin', 'i', 'n', 'ri']\n"
          ],
          "name": "stdout"
        }
      ]
    },
    {
      "cell_type": "code",
      "metadata": {
        "id": "aC4qT6c1rhFx",
        "colab_type": "code",
        "colab": {
          "base_uri": "https://localhost:8080/",
          "height": 34
        },
        "outputId": "a6d252f4-6836-4b5f-b40c-49f65d1e97e6"
      },
      "source": [
        "# Complete the twoStrings function below.\n",
        "def twoStrings(s1, s2):\n",
        "  s1_dict = {}\n",
        "  # new_set = Set(s1)\n",
        "  # for char in s2:\n",
        "  #   if in new_set:\n",
        "  #     return \"Yes\"\n",
        "  # return \"NO\"\n",
        "  # go through the first string\n",
        "  answer = []\n",
        "  s1_subs = allSubstring(s1)\n",
        "  s2_subs = allSubstring(s2)\n",
        "  for sub in s2_subs:\n",
        "    if sub in s1_subs:\n",
        "      answer.append(sub)\n",
        "  \n",
        "  \n",
        "  return answer  \n",
        "      \n",
        "# return all possible substrings in a set\n",
        "def allSubstring(s):\n",
        "  set_str = set()\n",
        "  counter = 0\n",
        "  \n",
        "  for i in range(len(s)):\n",
        "    for j in range(i + 1, len(s) + 1, 1):\n",
        "      set_str.add(s[i:j])\n",
        "  \n",
        "  # for i in range(counter, len(s), 1): \n",
        "  return set_str\n",
        "  \n",
        "  \n",
        "print(twoStrings(\"string\", \"ring\"))\n",
        "  "
      ],
      "execution_count": 16,
      "outputs": [
        {
          "output_type": "stream",
          "text": [
            "['r', 'ing', 'in', 'ring', 'ng', 'g', 'rin', 'i', 'n', 'ri']\n"
          ],
          "name": "stdout"
        }
      ]
    },
    {
      "cell_type": "code",
      "metadata": {
        "id": "tTr6HQbUr5s7",
        "colab_type": "code",
        "colab": {}
      },
      "source": [
        ""
      ],
      "execution_count": null,
      "outputs": []
    }
  ]
}