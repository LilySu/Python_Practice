{
  "nbformat": 4,
  "nbformat_minor": 0,
  "metadata": {
    "colab": {
      "name": "HackerRank_Two_Strings.ipynb",
      "provenance": [],
      "authorship_tag": "ABX9TyMHb8kxpsNaz+OF4lJv2TRt",
      "include_colab_link": true
    },
    "kernelspec": {
      "name": "python3",
      "display_name": "Python 3"
    }
  },
  "cells": [
    {
      "cell_type": "markdown",
      "metadata": {
        "id": "view-in-github",
        "colab_type": "text"
      },
      "source": [
        "<a href=\"https://colab.research.google.com/github/LilySu/Python_Practice/blob/master/HackerRank_Two_Strings.ipynb\" target=\"_parent\"><img src=\"https://colab.research.google.com/assets/colab-badge.svg\" alt=\"Open In Colab\"/></a>"
      ]
    },
    {
      "cell_type": "code",
      "metadata": {
        "id": "vGhIeHqgnFQP"
      },
      "source": [
        "# Complete the twoStrings function below.\n",
        "def twoStrings(s1, s2):\n",
        "  s1_dict = {}\n",
        "  # new_set = Set(s1)\n",
        "  # for char in s2:\n",
        "  #   if in new_set:\n",
        "  #     return \"Yes\"\n",
        "  # return \"NO\"\n",
        "  # go through the first string\n",
        "  for char in s1:\n",
        "    # for i, char in enumerate(s1):\n",
        "    # add each character to a set\n",
        "    s1_dict[char] = True\n",
        "    \n",
        "  # go through the other string:\n",
        "  for i in range(len(s2)):\n",
        "    if s2[i] in s1_dict:\n",
        "      return \"YES\"\n",
        "\n",
        "  return \"NO\"\n",
        "    # check if each character is in the set:\n",
        "      # if yes return \"YES\""
      ],
      "execution_count": null,
      "outputs": []
    },
    {
      "cell_type": "code",
      "metadata": {
        "id": "THqqpAiRmllO"
      },
      "source": [
        "def twoStrings(s1, s2):\n",
        "    s1_dict = {}\n",
        "\n",
        "    for char in s1:\n",
        "        s1_dict[char] = True\n",
        "\n",
        "    for i in range(len(s2)):\n",
        "        if s2[i] in s1_dict:\n",
        "            return s1_dict\n",
        "    return \"NO\""
      ],
      "execution_count": null,
      "outputs": []
    },
    {
      "cell_type": "code",
      "metadata": {
        "id": "CEL_OXcTnfgL",
        "colab": {
          "base_uri": "https://localhost:8080/",
          "height": 34
        },
        "outputId": "35109749-2783-4b61-c2aa-e0eb4fb50475"
      },
      "source": [
        "s1 = \"hello\"\n",
        "s2 = \"world\"\n",
        "twoStrings(s1,s2)"
      ],
      "execution_count": null,
      "outputs": [
        {
          "output_type": "execute_result",
          "data": {
            "text/plain": [
              "{'e': True, 'h': True, 'l': True, 'o': True}"
            ]
          },
          "metadata": {
            "tags": []
          },
          "execution_count": 8
        }
      ]
    },
    {
      "cell_type": "code",
      "metadata": {
        "id": "brYA7Uuvnj2b",
        "colab": {
          "base_uri": "https://localhost:8080/",
          "height": 276
        },
        "outputId": "ed4f0bfa-89a7-4048-93cf-b83b386e0658"
      },
      "source": [
        "# return all possible substring in a set\n",
        "# get 'a', 'r' and 'ar'\n",
        "s = 'hello'\n",
        "def allSubstring(s):\n",
        "    set_str = set()\n",
        "    counter = 0\n",
        "    # add all 1 length substring\n",
        "    # then 2 length\n",
        "    # then 3 length\n",
        "    # or more commonly, \"hel\", \"ell\", \"llo\"\n",
        "    for i in range(len(s)):\n",
        "        for j in range(i+1, len(s) + 1, 1):\n",
        "            print(s[i:j])\n",
        "\n",
        "    # for i in range(0, len(s), 1)\n",
        "allSubstring(s)"
      ],
      "execution_count": null,
      "outputs": [
        {
          "output_type": "stream",
          "text": [
            "h\n",
            "he\n",
            "hel\n",
            "hell\n",
            "hello\n",
            "e\n",
            "el\n",
            "ell\n",
            "ello\n",
            "l\n",
            "ll\n",
            "llo\n",
            "l\n",
            "lo\n",
            "o\n"
          ],
          "name": "stdout"
        }
      ]
    },
    {
      "cell_type": "code",
      "metadata": {
        "id": "-fAhaZJurAbS",
        "colab": {
          "base_uri": "https://localhost:8080/",
          "height": 34
        },
        "outputId": "8c7febb3-b3b8-4dfc-acff-9e37c15ac7c1"
      },
      "source": [
        "# Complete the twoStrings function below.\n",
        "\n",
        "def allSubstring(s):\n",
        "    set_str = set()\n",
        "    counter = 0\n",
        "    # add all 1 length substring\n",
        "    # then 2 length\n",
        "    # then 3 length\n",
        "    # or more commonly, \"hel\", \"ell\", \"llo\"\n",
        "    for i in range(len(s)):\n",
        "        for j in range(i+1, len(s) + 1, 1):\n",
        "            set_str.add(s[i:j])\n",
        "    return set_str\n",
        "\n",
        "\n",
        "def twoStrings(s1, s2):\n",
        "  s1_dict = {}\n",
        "  # new_set = Set(s1)\n",
        "  # for char in s2:\n",
        "  #   if in new_set:\n",
        "  #     return \"Yes\"\n",
        "  # return \"NO\"\n",
        "  # go through the first string\n",
        "  answer = []\n",
        "  s1_subs = allSubstring(s1)\n",
        "  s2_subs = allSubstring(s2)\n",
        "  for sub in s2_subs:\n",
        "      if sub in s1_subs:\n",
        "          answer.append(sub)\n",
        "  return answer\n",
        "\n",
        "print(twoStrings(\"string\", \"ring\"))"
      ],
      "execution_count": null,
      "outputs": [
        {
          "output_type": "stream",
          "text": [
            "['r', 'ing', 'in', 'ring', 'ng', 'g', 'rin', 'i', 'n', 'ri']\n"
          ],
          "name": "stdout"
        }
      ]
    },
    {
      "cell_type": "code",
      "metadata": {
        "id": "aC4qT6c1rhFx",
        "colab": {
          "base_uri": "https://localhost:8080/",
          "height": 34
        },
        "outputId": "a6d252f4-6836-4b5f-b40c-49f65d1e97e6"
      },
      "source": [
        "# Complete the twoStrings function below.\n",
        "def twoStrings(s1, s2):\n",
        "  s1_dict = {}\n",
        "  # new_set = Set(s1)\n",
        "  # for char in s2:\n",
        "  #   if in new_set:\n",
        "  #     return \"Yes\"\n",
        "  # return \"NO\"\n",
        "  # go through the first string\n",
        "  answer = []\n",
        "  s1_subs = allSubstring(s1)\n",
        "  s2_subs = allSubstring(s2)\n",
        "  for sub in s2_subs:\n",
        "    if sub in s1_subs:\n",
        "      answer.append(sub)\n",
        "  \n",
        "  \n",
        "  return answer  \n",
        "      \n",
        "# return all possible substrings in a set\n",
        "def allSubstring(s):\n",
        "  set_str = set()\n",
        "  counter = 0\n",
        "  \n",
        "  for i in range(len(s)):\n",
        "    for j in range(i + 1, len(s) + 1, 1):\n",
        "      set_str.add(s[i:j])\n",
        "  \n",
        "  # for i in range(counter, len(s), 1): \n",
        "  return set_str\n",
        "  \n",
        "  \n",
        "print(twoStrings(\"string\", \"ring\"))\n",
        "  "
      ],
      "execution_count": null,
      "outputs": [
        {
          "output_type": "stream",
          "text": [
            "['r', 'ing', 'in', 'ring', 'ng', 'g', 'rin', 'i', 'n', 'ri']\n"
          ],
          "name": "stdout"
        }
      ]
    },
    {
      "cell_type": "code",
      "metadata": {
        "id": "tTr6HQbUr5s7"
      },
      "source": [
        "# Complete the twoStrings function below.\r\n",
        "def twoStrings(s1, s2):\r\n",
        "  # time complexity: O(n+m) where n = |s1| m = |s2|\r\n",
        "  # time complexity: O(|s1|+|s2|)\r\n",
        "  # O(m)\r\n",
        "  # add all the letters from s2 into a hash table\r\n",
        "  set2 = set()\r\n",
        "  \r\n",
        "  for w1 in s2:\r\n",
        "    set2.add(w1)\r\n",
        "  \r\n",
        "  # O(n)\r\n",
        "  # loop through all the letters in s1\r\n",
        "  for c in s1:\r\n",
        "    # O(1)\r\n",
        "    # we can take a single letter of s1, and check if it's contained our hash table\r\n",
        "    if c in set2:\r\n",
        "      return \"YES\" # for some reason xD    \r\n",
        "  return \"NO\""
      ],
      "execution_count": null,
      "outputs": []
    },
    {
      "cell_type": "code",
      "metadata": {
        "colab": {
          "base_uri": "https://localhost:8080/"
        },
        "id": "M6IEjfKc0RY9",
        "outputId": "8b3d1aa3-1584-47ba-d801-c1167045f0f2"
      },
      "source": [
        "# To get all substrings, slice at every interval\r\n",
        "def findSubstrings(s):\r\n",
        "    subs = set()\r\n",
        "    for i in range(len(s)):\r\n",
        "        for j in range(i + 1, len(s) + 1): # slicing from i to j\r\n",
        "            subs.add(s[i:j])\r\n",
        "    return subs\r\n",
        "\r\n",
        "s = \"abcd\"\r\n",
        "findSubstrings(s)"
      ],
      "execution_count": 6,
      "outputs": [
        {
          "output_type": "execute_result",
          "data": {
            "text/plain": [
              "{'a', 'ab', 'abc', 'abcd', 'b', 'bc', 'bcd', 'c', 'cd', 'd'}"
            ]
          },
          "metadata": {
            "tags": []
          },
          "execution_count": 6
        }
      ]
    },
    {
      "cell_type": "code",
      "metadata": {
        "colab": {
          "base_uri": "https://localhost:8080/"
        },
        "id": "kTZmHGRr0n2W",
        "outputId": "8b12c8a5-b692-46f2-e6eb-a60f4b4412c0"
      },
      "source": [
        "def commonSubsrings(s1, s2):\r\n",
        "    subs1 = findSubstrings(s1)\r\n",
        "    subs2 = findSubstrings(s2)\r\n",
        "    common = set()\r\n",
        "    for sub in subs1:\r\n",
        "        if sub in subs2:\r\n",
        "            common.add(sub)\r\n",
        "    return common\r\n",
        "\r\n",
        "print(commonSubsrings(\"abcd\", \"abcef\"))"
      ],
      "execution_count": 7,
      "outputs": [
        {
          "output_type": "stream",
          "text": [
            "{'a', 'abc', 'ab', 'bc', 'b', 'c'}\n"
          ],
          "name": "stdout"
        }
      ]
    },
    {
      "cell_type": "code",
      "metadata": {
        "id": "2OeIgpFD1wNd"
      },
      "source": [
        ""
      ],
      "execution_count": null,
      "outputs": []
    }
  ]
}