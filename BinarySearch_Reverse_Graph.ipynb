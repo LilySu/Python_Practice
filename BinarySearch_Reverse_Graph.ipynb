{
  "nbformat": 4,
  "nbformat_minor": 0,
  "metadata": {
    "colab": {
      "name": "BinarySearch_Reverse_Graph.ipynb",
      "provenance": [],
      "authorship_tag": "ABX9TyNRV5u/qHu1e71DEzc78neG",
      "include_colab_link": true
    },
    "kernelspec": {
      "name": "python3",
      "display_name": "Python 3"
    }
  },
  "cells": [
    {
      "cell_type": "markdown",
      "metadata": {
        "id": "view-in-github",
        "colab_type": "text"
      },
      "source": [
        "<a href=\"https://colab.research.google.com/github/LilySu/Python_Practice/blob/master/BinarySearch_Reverse_Graph.ipynb\" target=\"_parent\"><img src=\"https://colab.research.google.com/assets/colab-badge.svg\" alt=\"Open In Colab\"/></a>"
      ]
    },
    {
      "cell_type": "markdown",
      "metadata": {
        "id": "7mm_nvD_iEg2"
      },
      "source": [
        "Given a directed graph represented as an adjacency list, return its reverse so if an edge goes from A to B, it now goes from B to A.\r\n",
        "\r\n",
        "Each list in the adjacency list should be sorted in ascending order.\r\n",
        "```\r\n",
        "Example 1\r\n",
        "Input\r\n",
        "Visualize\r\n",
        "graph = [\r\n",
        "    [1],\r\n",
        "    [2],\r\n",
        "    []\r\n",
        "]\r\n",
        "Output\r\n",
        "Visualize\r\n",
        "[\r\n",
        "    [],\r\n",
        "    [0],\r\n",
        "    [1]\r\n",
        "]\r\n",
        "Explanation\r\n",
        "In this example the nodes start off 0 -> 1 -> 2 and then become 0 <- 1 <- 2.\r\n",
        "```"
      ]
    },
    {
      "cell_type": "code",
      "metadata": {
        "id": "YVSZGPmvh-OT"
      },
      "source": [
        "class Solution:\r\n",
        "    # switches values for index positions\r\n",
        "    def solve(self, graph):\r\n",
        "        # create an empty list for however many items are in a graph\r\n",
        "        res = [[] for i in graph]\r\n",
        "        # iterate and get the index of each item in graph\r\n",
        "        for idx in range(len(graph)):\r\n",
        "            # for each item in graph list\r\n",
        "            for each_idx in graph[idx]:\r\n",
        "                # reverse the index to the content\r\n",
        "                res[each_idx].append(idx)\r\n",
        "        return res"
      ],
      "execution_count": null,
      "outputs": []
    },
    {
      "cell_type": "code",
      "metadata": {
        "id": "l5_gbZ5ciA_0"
      },
      "source": [
        "class Solution:\r\n",
        "    def solve(self, graph):\r\n",
        "        rev_graph = [[] for _ in graph]\r\n",
        "        if not graph:\r\n",
        "            return graph\r\n",
        "        for idx, element in enumerate(graph):\r\n",
        "            for item in element:\r\n",
        "                rev_graph[item].append(idx)\r\n",
        "        return rev_graph"
      ],
      "execution_count": null,
      "outputs": []
    }
  ]
}