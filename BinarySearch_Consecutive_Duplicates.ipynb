{
  "nbformat": 4,
  "nbformat_minor": 0,
  "metadata": {
    "colab": {
      "name": "BinarySearch_Consecutive_Duplicates.ipynb",
      "provenance": [],
      "authorship_tag": "ABX9TyN0ZEnPDNTw7H+lNTu6LNY7",
      "include_colab_link": true
    },
    "kernelspec": {
      "name": "python3",
      "display_name": "Python 3"
    }
  },
  "cells": [
    {
      "cell_type": "markdown",
      "metadata": {
        "id": "view-in-github",
        "colab_type": "text"
      },
      "source": [
        "<a href=\"https://colab.research.google.com/github/LilySu/Python_Practice/blob/master/BinarySearch_Consecutive_Duplicates.ipynb\" target=\"_parent\"><img src=\"https://colab.research.google.com/assets/colab-badge.svg\" alt=\"Open In Colab\"/></a>"
      ]
    },
    {
      "cell_type": "markdown",
      "metadata": {
        "id": "yE625T6H8kSc"
      },
      "source": [
        "Given a string s, consisting of \"X\" and \"Y\"s, delete the minimum number of characters such that there's no consecutive \"X\" and no consecutive \"Y\".\n",
        "```\n",
        "Constraints\n",
        "\n",
        "n ≤ 100,000 where n is the length of s\n",
        "Example 1\n",
        "Input\n",
        "\n",
        "s = \"YYYXYXX\"\n",
        "Output\n",
        "\n",
        "\"YXYX\"\n",
        "Explanation\n",
        "\n",
        "One solution is to delete the first two \"Y\"s and the last \"X\".\n",
        "```"
      ]
    },
    {
      "cell_type": "code",
      "metadata": {
        "colab": {
          "base_uri": "https://localhost:8080/",
          "height": 35
        },
        "id": "-K0GuSqt1Q9S",
        "outputId": "ddc4a6ee-afa0-40e3-f308-4ca38ccdbbde"
      },
      "source": [
        "class Solution:\n",
        "    def solve(self, s):\n",
        "        rm = []\n",
        "        for i in range(len(s)-1):\n",
        "            if s[i] == s[i + 1]:\n",
        "                rm.append(i)\n",
        "                i += 1\n",
        "                continue\n",
        "            i += 1\n",
        "        print(rm)\n",
        "        r = ''.join([s[i] for i in range(len(s)) if i not in rm])\n",
        "        return r"
      ],
      "execution_count": 2,
      "outputs": [
        {
          "output_type": "execute_result",
          "data": {
            "application/vnd.google.colaboratory.intrinsic+json": {
              "type": "string"
            },
            "text/plain": [
              "'YYXYXX'"
            ]
          },
          "metadata": {
            "tags": []
          },
          "execution_count": 2
        }
      ]
    },
    {
      "cell_type": "code",
      "metadata": {
        "colab": {
          "base_uri": "https://localhost:8080/",
          "height": 35
        },
        "id": "hS_9O-Ru8LZ3",
        "outputId": "67c33213-2e15-40de-b340-0c472d1d830b"
      },
      "source": [
        "s = \"YYXYXX\"\n",
        "s = s.replace(\"X\", \"\", 1)\n",
        "s"
      ],
      "execution_count": 4,
      "outputs": [
        {
          "output_type": "execute_result",
          "data": {
            "application/vnd.google.colaboratory.intrinsic+json": {
              "type": "string"
            },
            "text/plain": [
              "'YYYXX'"
            ]
          },
          "metadata": {
            "tags": []
          },
          "execution_count": 4
        }
      ]
    },
    {
      "cell_type": "code",
      "metadata": {
        "id": "Zdtel2pT8Url"
      },
      "source": [
        "import itertools\n",
        "\n",
        "class Solution:\n",
        "    def solve(self, s):\n",
        "        return \"\".join(i for i, _ in itertools.groupby(s))"
      ],
      "execution_count": null,
      "outputs": []
    }
  ]
}