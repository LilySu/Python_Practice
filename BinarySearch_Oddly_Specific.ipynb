{
  "nbformat": 4,
  "nbformat_minor": 0,
  "metadata": {
    "colab": {
      "name": "BinarySearch_Oddly_Specific.ipynb",
      "provenance": [],
      "authorship_tag": "ABX9TyNX31dYTT1doC14AcEgP7u1",
      "include_colab_link": true
    },
    "kernelspec": {
      "name": "python3",
      "display_name": "Python 3"
    }
  },
  "cells": [
    {
      "cell_type": "markdown",
      "metadata": {
        "id": "view-in-github",
        "colab_type": "text"
      },
      "source": [
        "<a href=\"https://colab.research.google.com/github/LilySu/Python_Practice/blob/master/BinarySearch_Oddly_Specific.ipynb\" target=\"_parent\"><img src=\"https://colab.research.google.com/assets/colab-badge.svg\" alt=\"Open In Colab\"/></a>"
      ]
    },
    {
      "cell_type": "markdown",
      "metadata": {
        "id": "1f1mxwbfdZJo"
      },
      "source": [
        "Oddly Specific\n",
        "Given an integer n, return the sum of the first n positive odd integers.\n",
        "\n",
        "Constraints\n",
        "```\n",
        "n ≤ 1,000\n",
        "Example 1\n",
        "Input\n",
        "\n",
        "n = 5\n",
        "Output\n",
        "\n",
        "25\n",
        "Explanation\n",
        "\n",
        "The first 5 odd integers are [1, 3, 5, 7, 9] and its sum is 25.\n",
        "```"
      ]
    },
    {
      "cell_type": "code",
      "metadata": {
        "id": "rORtRG_DdFq8"
      },
      "source": [
        "class Solution:\n",
        "    def solve(self, n):\n",
        "        result = 0\n",
        "        for x in range(n*2):\n",
        "            if x % 2 == 1:\n",
        "                result += x\n",
        "        return result"
      ],
      "execution_count": null,
      "outputs": []
    },
    {
      "cell_type": "code",
      "metadata": {
        "id": "k6jx8SSbdXdQ"
      },
      "source": [
        "class Solution:\n",
        "    def solve(self, n):\n",
        "        if n == 0:\n",
        "            return 0\n",
        "        counter = 1\n",
        "        summ = 1\n",
        "        number_to_add = 1\n",
        "        while counter < n:\n",
        "            print(summ)\n",
        "            number_to_add += 2\n",
        "            summ += number_to_add\n",
        "            counter += 1\n",
        "        return summ"
      ],
      "execution_count": null,
      "outputs": []
    }
  ]
}