{
  "nbformat": 4,
  "nbformat_minor": 0,
  "metadata": {
    "colab": {
      "name": "BinarySearch_The_Auditor_WIP.ipynb",
      "provenance": [],
      "authorship_tag": "ABX9TyMz777DtwnY2dYyLeDij3WA",
      "include_colab_link": true
    },
    "kernelspec": {
      "name": "python3",
      "display_name": "Python 3"
    }
  },
  "cells": [
    {
      "cell_type": "markdown",
      "metadata": {
        "id": "view-in-github",
        "colab_type": "text"
      },
      "source": [
        "<a href=\"https://colab.research.google.com/github/LilySu/Python_Practice/blob/master/BinarySearch_The_Auditor_WIP.ipynb\" target=\"_parent\"><img src=\"https://colab.research.google.com/assets/colab-badge.svg\" alt=\"Open In Colab\"/></a>"
      ]
    },
    {
      "cell_type": "markdown",
      "metadata": {
        "id": "DNvVQWZiqi6B"
      },
      "source": [
        "Spreadsheets often use this alphabetical encoding for its columns: `\"A\", \"B\", \"C\", ..., \"AA\", \"AB\", \"AC\", ..., \"ZZ\", \"AAA\", \"AAB\", \"AAC\", ....`\r\n",
        "\r\n",
        "Given a string s representing an alphabetical column id, return its column number. For example, given \"A\", return 1. Given \"AA\", return 27.\r\n",
        "```\r\n",
        "Example 1\r\n",
        "Input\r\n",
        "s = \"AA\"\r\n",
        "Output\r\n",
        "27\r\n",
        "```"
      ]
    },
    {
      "cell_type": "code",
      "metadata": {
        "id": "sd__nsV9qalb"
      },
      "source": [
        "import string\r\n",
        "from collections import Counter\r\n",
        "\r\n",
        "class Solution:\r\n",
        "    def solve(self, s):\r\n",
        "        # if multiple letters, each step to the left is 26 plus the letter\r\n",
        "        res = 0\r\n",
        "        # multiple length fix\r\n",
        "        for i in range(len(s) - 1):\r\n",
        "            res += 26\r\n",
        "        # actual value\r\n",
        "        d = dict(zip(string.ascii_uppercase, range(1,27)))\r\n",
        "        for index, element in enumerate(s):\r\n",
        "            if index != len(s) - 1:\r\n",
        "                res += d[element] - 1\r\n",
        "            else:\r\n",
        "                res += d[element]\r\n",
        "        return res\r\n",
        "\r\n",
        "\r\n",
        "\r\n",
        "\r\n",
        "\r\n",
        "\r\n",
        "        # tally = 0\r\n",
        "        # d = dict(zip(string.ascii_uppercase, range(1,27)))\r\n",
        "        # count_dic = Counter(s)\r\n",
        "        # # if there are multiple letters\r\n",
        "        # # multiply each number value by 26\r\n",
        "        # for i, v in enumerate(s):\r\n",
        "        #     if i != (len(s)-1):\r\n",
        "        #         if count_dic[v] > 1:\r\n",
        "        #             num_occ = count_dic[i]\r\n",
        "        #             tally += d[v] + ((num_occ-1) * 26)\r\n",
        "        #         else:\r\n",
        "        #             tally += d[v] + ((num_occ) * 26)\r\n",
        "        #     else:\r\n",
        "        #         tally += d[v]\r\n",
        "        # return tally"
      ],
      "execution_count": null,
      "outputs": []
    }
  ]
}