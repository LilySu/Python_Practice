{
  "nbformat": 4,
  "nbformat_minor": 0,
  "metadata": {
    "colab": {
      "name": "BinarySearch_A_Unique_String.ipynb",
      "provenance": [],
      "authorship_tag": "ABX9TyNQ7IVKvO55n/BK2G8ooBgt",
      "include_colab_link": true
    },
    "kernelspec": {
      "name": "python3",
      "display_name": "Python 3"
    }
  },
  "cells": [
    {
      "cell_type": "markdown",
      "metadata": {
        "id": "view-in-github",
        "colab_type": "text"
      },
      "source": [
        "<a href=\"https://colab.research.google.com/github/LilySu/Python_Practice/blob/master/BinarySearch_A_Unique_String.ipynb\" target=\"_parent\"><img src=\"https://colab.research.google.com/assets/colab-badge.svg\" alt=\"Open In Colab\"/></a>"
      ]
    },
    {
      "cell_type": "markdown",
      "metadata": {
        "id": "o8-d4pBt62VG"
      },
      "source": [
        "A unique string\n",
        "Given a string s, determine whether it has all unique characters.\n",
        "```\n",
        "Example 1\n",
        "Input\n",
        "\n",
        "s = \"abcde\"\n",
        "Output\n",
        "\n",
        "True\n",
        "Explanation\n",
        "\n",
        "All characters only occur once\n",
        "\n",
        "Example 2\n",
        "Input\n",
        "\n",
        "s = \"aab\"\n",
        "Output\n",
        "\n",
        "False\n",
        "Explanation\n",
        "\n",
        "There's two as\n",
        "\n",
        "Example 3\n",
        "Input\n",
        "\n",
        "s = \"\"\n",
        "Output\n",
        "\n",
        "True\n",
        "Explanation\n",
        "\n",
        "All characters occur once (of which there are none)\n",
        "```"
      ]
    },
    {
      "cell_type": "code",
      "metadata": {
        "id": "7DINQnfU69fy"
      },
      "source": [
        "from collections import Counter\n",
        "class Solution:\n",
        "    def solve(self, s):\n",
        "        s = Counter(s)\n",
        "        for i in s:\n",
        "            if s[i] > 1:\n",
        "                return False\n",
        "        return True"
      ],
      "execution_count": 1,
      "outputs": []
    },
    {
      "cell_type": "code",
      "metadata": {
        "id": "H6Zg4-Aj65Sp"
      },
      "source": [
        "from collections import Counter\n",
        "class Solution:\n",
        "    def solve(self, s):\n",
        "        return len(s) == len(set(s))"
      ],
      "execution_count": 3,
      "outputs": []
    },
    {
      "cell_type": "code",
      "metadata": {
        "id": "JgCoSrRX6vJd"
      },
      "source": [
        "class Solution:\n",
        "    def solve(self, s):\n",
        "        seen = set()\n",
        "        for c in s:\n",
        "            if c in seen:\n",
        "                return False\n",
        "            seen.add(c)\n",
        "        return True"
      ],
      "execution_count": null,
      "outputs": []
    },
    {
      "cell_type": "code",
      "metadata": {
        "id": "oueOTYaS73mG",
        "outputId": "44bed052-4516-4226-baa3-1af1a63cabd7",
        "colab": {
          "base_uri": "https://localhost:8080/"
        }
      },
      "source": [
        "import time\n",
        "\n",
        "start = time.time()\n",
        "\n",
        "run_test = Solution()\n",
        "print(\"\\nOutput =\", run_test.solve(\"input\"))\n",
        "\n",
        "print(\"Run Time = \", time.time() - start)\n",
        "\n",
        "# Average Time:\n",
        "import time\n",
        "\n",
        "# takes the average runtime\n",
        "def avg_time(iterations=1000000):\n",
        "\n",
        "    # store runtimes\n",
        "    all_runtimes = 0\n",
        "\n",
        "    # create class instance\n",
        "    run_test = Solution()\n",
        "\n",
        "    # run the program X times\n",
        "    # count the time\n",
        "    for i in range(iterations):\n",
        "\n",
        "        # start timer\n",
        "        start = time.time()\n",
        "\n",
        "        # run program\n",
        "        run_test.solve(\"abcde\")\n",
        "\n",
        "        # stop clock, store that runtime\n",
        "        all_runtimes += time.time() - start\n",
        "\n",
        "    # return average runtime\n",
        "    return all_runtimes / iterations\n",
        "\n",
        "\n",
        "print(\"average time =\", avg_time())"
      ],
      "execution_count": 2,
      "outputs": [
        {
          "output_type": "stream",
          "text": [
            "\n",
            "Output = True\n",
            "Run Time =  0.0006785392761230469\n",
            "average time = 3.8507463932037354e-06\n"
          ],
          "name": "stdout"
        }
      ]
    },
    {
      "cell_type": "code",
      "metadata": {
        "id": "iMAgWhQv793F",
        "outputId": "b076c61f-e372-4c57-9ff8-3005d979b979",
        "colab": {
          "base_uri": "https://localhost:8080/"
        }
      },
      "source": [
        "import time\n",
        "\n",
        "start = time.time()\n",
        "\n",
        "run_test = Solution()\n",
        "print(\"\\nOutput =\", run_test.solve(\"input\"))\n",
        "\n",
        "print(\"Run Time = \", time.time() - start)\n",
        "\n",
        "# Average Time:\n",
        "import time\n",
        "\n",
        "# takes the average runtime\n",
        "def avg_time(iterations=1000000):\n",
        "\n",
        "    # store runtimes\n",
        "    all_runtimes = 0\n",
        "\n",
        "    # create class instance\n",
        "    run_test = Solution()\n",
        "\n",
        "    # run the program X times\n",
        "    # count the time\n",
        "    for i in range(iterations):\n",
        "\n",
        "        # start timer\n",
        "        start = time.time()\n",
        "\n",
        "        # run program\n",
        "        run_test.solve(\"abcde\")\n",
        "\n",
        "        # stop clock, store that runtime\n",
        "        all_runtimes += time.time() - start\n",
        "\n",
        "    # return average runtime\n",
        "    return all_runtimes / iterations\n",
        "\n",
        "\n",
        "print(\"average time =\", avg_time())"
      ],
      "execution_count": 4,
      "outputs": [
        {
          "output_type": "stream",
          "text": [
            "\n",
            "Output = True\n",
            "Run Time =  0.00019073486328125\n",
            "average time = 5.412786006927491e-07\n"
          ],
          "name": "stdout"
        }
      ]
    },
    {
      "cell_type": "code",
      "metadata": {
        "id": "5VpWEFcB8Bcc"
      },
      "source": [
        ""
      ],
      "execution_count": null,
      "outputs": []
    }
  ]
}