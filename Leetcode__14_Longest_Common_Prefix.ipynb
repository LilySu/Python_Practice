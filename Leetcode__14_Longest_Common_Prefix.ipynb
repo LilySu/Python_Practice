{
  "nbformat": 4,
  "nbformat_minor": 0,
  "metadata": {
    "colab": {
      "name": "Leetcode_#14_Longest_Common_Prefix.ipynb",
      "provenance": [],
      "authorship_tag": "ABX9TyOXUNmCqwG5F1EtuvxLJyqm",
      "include_colab_link": true
    },
    "kernelspec": {
      "name": "python3",
      "display_name": "Python 3"
    }
  },
  "cells": [
    {
      "cell_type": "markdown",
      "metadata": {
        "id": "view-in-github",
        "colab_type": "text"
      },
      "source": [
        "<a href=\"https://colab.research.google.com/github/LilySu/Python_Practice/blob/master/Leetcode__14_Longest_Common_Prefix.ipynb\" target=\"_parent\"><img src=\"https://colab.research.google.com/assets/colab-badge.svg\" alt=\"Open In Colab\"/></a>"
      ]
    },
    {
      "cell_type": "markdown",
      "metadata": {
        "id": "gH4c1K9VS6uC",
        "colab_type": "text"
      },
      "source": [
        "Write a function to find the longest common prefix string amongst an array of strings.\n",
        "\n",
        "If there is no common prefix, return an empty string \"\".\n",
        "\n",
        "Example 1:\n",
        "\n",
        "Input: [\"flower\",\"flow\",\"flight\"]\n",
        "Output: \"fl\"\n",
        "Example 2:\n",
        "\n",
        "Input: [\"dog\",\"racecar\",\"car\"]\n",
        "Output: \"\"\n",
        "Explanation: There is no common prefix among the input strings."
      ]
    },
    {
      "cell_type": "code",
      "metadata": {
        "id": "gGYGO9AISvJW",
        "colab_type": "code",
        "colab": {}
      },
      "source": [
        "class Solution(object):\n",
        "    def longestCommonPrefix(self, strs):\n",
        "        \"\"\"\n",
        "        :type strs: List[str]\n",
        "        :rtype: str\n",
        "        \"\"\""
      ],
      "execution_count": null,
      "outputs": []
    },
    {
      "cell_type": "code",
      "metadata": {
        "id": "T-OdavjGTGhv",
        "colab_type": "code",
        "colab": {
          "base_uri": "https://localhost:8080/",
          "height": 35
        },
        "outputId": "f8e188ed-d907-41c2-f6ab-6a9a90b0c544"
      },
      "source": [
        "def longestCommonPrefix(strs):\n",
        "    \"\"\"\n",
        "    :type strs: List[str]\n",
        "    :rtype: str\n",
        "    \"\"\"\n",
        "    index = 0\n",
        "    saved_first_letters = ''\n",
        "    while True: \n",
        "        first = []\n",
        "        for word in lst:\n",
        "            first_letter = word[index]\n",
        "            first.append(first_letter)\n",
        "        if all(elem == first[0] for elem in first) == True:\n",
        "            saved_first_letters += first[0]\n",
        "        else:\n",
        "            break\n",
        "        index += 1\n",
        "    return saved_first_letters\n",
        "\n",
        "strs = [\"flower\",\"flow\",\"flight\"]\n",
        "longestCommonPrefix(strs)"
      ],
      "execution_count": 53,
      "outputs": [
        {
          "output_type": "execute_result",
          "data": {
            "application/vnd.google.colaboratory.intrinsic": {
              "type": "string"
            },
            "text/plain": [
              "'fl'"
            ]
          },
          "metadata": {
            "tags": []
          },
          "execution_count": 53
        }
      ]
    },
    {
      "cell_type": "code",
      "metadata": {
        "id": "7VcHawcAf6cF",
        "colab_type": "code",
        "colab": {
          "base_uri": "https://localhost:8080/",
          "height": 34
        },
        "outputId": "d2853061-d9fd-4354-9ce3-6b462e2baa77"
      },
      "source": [
        "lst = [\"flower\",\"flow\",\"flight\"]\n",
        "d = {lst[i]: lst[i] for i in range(len(lst))} \n",
        "d"
      ],
      "execution_count": 29,
      "outputs": [
        {
          "output_type": "execute_result",
          "data": {
            "text/plain": [
              "{'flight': 'flight', 'flow': 'flow', 'flower': 'flower'}"
            ]
          },
          "metadata": {
            "tags": []
          },
          "execution_count": 29
        }
      ]
    },
    {
      "cell_type": "code",
      "metadata": {
        "id": "T8LHF1pcgFzx",
        "colab_type": "code",
        "colab": {
          "base_uri": "https://localhost:8080/",
          "height": 69
        },
        "outputId": "a1349b77-9fe8-4b29-a4de-7e480a19f286"
      },
      "source": [
        "lst = [\"flower\",\"flow\",\"flight\"]\n",
        "index = 0\n",
        "saved_first_letters = ''\n",
        "while True: \n",
        "    first = []\n",
        "    for word in lst:\n",
        "        first_letter = word[index]\n",
        "        first.append(first_letter)\n",
        "    if all(elem == first[0] for elem in first) == True:\n",
        "        saved_first_letters += first[0]\n",
        "    else:\n",
        "        break\n",
        "    index += 1\n",
        "    print(first)\n",
        "print(saved_first_letters)"
      ],
      "execution_count": 52,
      "outputs": [
        {
          "output_type": "stream",
          "text": [
            "['f', 'f', 'f']\n",
            "['l', 'l', 'l']\n",
            "fl\n"
          ],
          "name": "stdout"
        }
      ]
    },
    {
      "cell_type": "code",
      "metadata": {
        "id": "K9nTB1KLhPz5",
        "colab_type": "code",
        "colab": {
          "base_uri": "https://localhost:8080/",
          "height": 34
        },
        "outputId": "14e2a591-7311-4a21-8506-be7f6db9ef9d"
      },
      "source": [
        "d"
      ],
      "execution_count": 24,
      "outputs": [
        {
          "output_type": "execute_result",
          "data": {
            "text/plain": [
              "{'flight': 'flight', 'test': 'flow'}"
            ]
          },
          "metadata": {
            "tags": []
          },
          "execution_count": 24
        }
      ]
    },
    {
      "cell_type": "code",
      "metadata": {
        "id": "a1rIS8_Wh6KX",
        "colab_type": "code",
        "colab": {
          "base_uri": "https://localhost:8080/",
          "height": 34
        },
        "outputId": "5de25d17-02e8-448a-d7fe-4beb644453eb"
      },
      "source": [
        "a=[[1,0,1,2,1,1,1,3111111],[31,1,4,51,1,1,1],[1,1,6,7,8]]\n",
        "min(map(len, a))"
      ],
      "execution_count": 54,
      "outputs": [
        {
          "output_type": "execute_result",
          "data": {
            "text/plain": [
              "5"
            ]
          },
          "metadata": {
            "tags": []
          },
          "execution_count": 54
        }
      ]
    },
    {
      "cell_type": "code",
      "metadata": {
        "id": "P2ZtHzsmpYN7",
        "colab_type": "code",
        "colab": {
          "base_uri": "https://localhost:8080/",
          "height": 35
        },
        "outputId": "5b5c3932-d26d-49f6-9e4c-bbd9a2ef3fc3"
      },
      "source": [
        "def longestCommonPrefix(strs):\n",
        "    \"\"\"\n",
        "    :type strs: List[str]\n",
        "    :rtype: str\n",
        "    \"\"\"\n",
        "    if len(strs) == 0:\n",
        "        return \"\"\n",
        "    index = 0\n",
        "    saved_first_letters = ''\n",
        "    while index < min(map(len, strs)): \n",
        "        first = []\n",
        "        for word in strs:\n",
        "            first_letter = word[index]\n",
        "            first.append(first_letter)\n",
        "        if all(elem == first[0] for elem in first) == True:\n",
        "            if first:\n",
        "                saved_first_letters += first[0]\n",
        "            index += 1\n",
        "        else:\n",
        "            return saved_first_letters\n",
        "    return saved_first_letters\n",
        "\n",
        "strs = [\"aca\",\"cba\"]\n",
        "longestCommonPrefix(strs)"
      ],
      "execution_count": 62,
      "outputs": [
        {
          "output_type": "execute_result",
          "data": {
            "application/vnd.google.colaboratory.intrinsic": {
              "type": "string"
            },
            "text/plain": [
              "''"
            ]
          },
          "metadata": {
            "tags": []
          },
          "execution_count": 62
        }
      ]
    },
    {
      "cell_type": "code",
      "metadata": {
        "id": "ODfBFn2TpnE4",
        "colab_type": "code",
        "colab": {}
      },
      "source": [
        ""
      ],
      "execution_count": null,
      "outputs": []
    }
  ]
}