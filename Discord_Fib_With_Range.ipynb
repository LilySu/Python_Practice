{
  "nbformat": 4,
  "nbformat_minor": 0,
  "metadata": {
    "colab": {
      "name": "Discord_Fib_With_Range.ipynb",
      "provenance": [],
      "authorship_tag": "ABX9TyOzRI0DhMzn9+8dU5Woa7BF",
      "include_colab_link": true
    },
    "kernelspec": {
      "name": "python3",
      "display_name": "Python 3"
    }
  },
  "cells": [
    {
      "cell_type": "markdown",
      "metadata": {
        "id": "view-in-github",
        "colab_type": "text"
      },
      "source": [
        "<a href=\"https://colab.research.google.com/github/LilySu/Python_Practice/blob/master/Discord_Fib_With_Range.ipynb\" target=\"_parent\"><img src=\"https://colab.research.google.com/assets/colab-badge.svg\" alt=\"Open In Colab\"/></a>"
      ]
    },
    {
      "cell_type": "code",
      "metadata": {
        "colab": {
          "base_uri": "https://localhost:8080/"
        },
        "id": "Nw4hdyJkE8gb",
        "outputId": "17a0fc48-72ac-436e-d176-250e271701ca"
      },
      "source": [
        "num1, num2 = 0, 1\r\n",
        "step = 0\r\n",
        "\r\n",
        "def fibonachi(range):\r\n",
        "    global num2, num1, step\r\n",
        "    if step > range:\r\n",
        "        return range\r\n",
        "    else:\r\n",
        "        print(num1, num2, end=\" \")\r\n",
        "        num1 = num1 + num2\r\n",
        "        num2 = num2 + num1\r\n",
        "        step += 1\r\n",
        "        fibonachi(range)\r\n",
        "\r\n",
        "range_num =  int(input(\"Enter a number of length till were you want the fibonachi numbers\\n\"))\r\n",
        "\r\n",
        "fibonachi(range_num)"
      ],
      "execution_count": 2,
      "outputs": [
        {
          "output_type": "stream",
          "text": [
            "Enter a number of length till were you want the fibonachi numbers\n",
            "4\n",
            "0 1 1 2 3 5 8 13 21 34 "
          ],
          "name": "stdout"
        }
      ]
    },
    {
      "cell_type": "code",
      "metadata": {
        "id": "lrN4M7aFE-VH"
      },
      "source": [
        ""
      ],
      "execution_count": null,
      "outputs": []
    }
  ]
}