{
  "nbformat": 4,
  "nbformat_minor": 0,
  "metadata": {
    "colab": {
      "name": "Binary_Search_Search in a Virtually Complete Binary Tree.ipynb",
      "provenance": [],
      "authorship_tag": "ABX9TyPufD7eq3EYneNPZunYe6sA",
      "include_colab_link": true
    },
    "kernelspec": {
      "name": "python3",
      "display_name": "Python 3"
    }
  },
  "cells": [
    {
      "cell_type": "markdown",
      "metadata": {
        "id": "view-in-github",
        "colab_type": "text"
      },
      "source": [
        "<a href=\"https://colab.research.google.com/github/LilySu/Python_Practice/blob/master/Binary_Search_Search_in_a_Virtually_Complete_Binary_Tree.ipynb\" target=\"_parent\"><img src=\"https://colab.research.google.com/assets/colab-badge.svg\" alt=\"Open In Colab\"/></a>"
      ]
    },
    {
      "cell_type": "markdown",
      "metadata": {
        "id": "FUW5OqpKEHcS"
      },
      "source": [
        "Consider a complete binary tree of n nodes whose values are 1 to n. The root has value of 1, its left child is 2 and its right child is 3. In general, nodes' values are labelled 1 to n in level order traversal.\r\n",
        "\r\n",
        "You are given a binary tree root and an integer target. Given that the root was originally a complete binary tree whose values were labelled as described above, and that some of the subtrees were deleted, return whether target exists in root.\r\n",
        "\r\n",
        "Bonus: solve in \\mathcal{O}(h)O(h) time where h is the height of the tree.\r\n",
        "```\r\n",
        "Constraints\r\n",
        "\r\n",
        "1 ≤ n ≤ 100,000 where n is the number of nodes in root\r\n",
        "Example 1\r\n",
        "Input\r\n",
        "Visualize\r\n",
        "root = [1, [2, [4, null, null], null], [3, [6, null, null], [7, null, null]]]\r\n",
        "target = 6\r\n",
        "Output\r\n",
        "True\r\n",
        "Explanation\r\n",
        "6 exists in this tree.\r\n",
        "\r\n",
        "Example 2\r\n",
        "Input\r\n",
        "Visualize\r\n",
        "root = [1, [2, [4, null, null], null], [3, [6, null, null], null]]\r\n",
        "target = 7\r\n",
        "Output\r\n",
        "False\r\n",
        "Explanation\r\n",
        "7 does not exist in this tree.\r\n",
        "```"
      ]
    },
    {
      "cell_type": "code",
      "metadata": {
        "id": "FcdT2VF0EETv"
      },
      "source": [
        "# class Tree:\r\n",
        "#     def __init__(self, val, left=None, right=None):\r\n",
        "#         self.val = val\r\n",
        "#         self.left = left\r\n",
        "#         self.right = right\r\n",
        "class Solution:\r\n",
        "    def solve(self, root, target):\r\n",
        "        def traverse(root, elements):\r\n",
        "            elements.append(root.val)\r\n",
        "            if root.left and root.right:\r\n",
        "                    return [traverse(root.left, elements), traverse(root.right, elements)]\r\n",
        "            if root.left:\r\n",
        "                    return traverse(root.left, elements)\r\n",
        "            if root.right:\r\n",
        "                    return traverse(root.right, elements)\r\n",
        "        elements = []\r\n",
        "        traverse(root, elements)\r\n",
        "        print(elements)\r\n",
        "        if target not in elements:\r\n",
        "            return False\r\n",
        "        else:\r\n",
        "            return True"
      ],
      "execution_count": null,
      "outputs": []
    },
    {
      "cell_type": "code",
      "metadata": {
        "id": "7E_a3Q5QEN-q"
      },
      "source": [
        "# Other methods tried that did not work, but serve as a resource:"
      ],
      "execution_count": 1,
      "outputs": []
    },
    {
      "cell_type": "code",
      "metadata": {
        "id": "NO9HA9yqERec"
      },
      "source": [
        "\r\n",
        "    # def traverse(self):\r\n",
        "    #     elements = []\r\n",
        "    #     if self.left:\r\n",
        "    #         elements += self.left.traverse()\r\n",
        "    #     elements.append( self.val)\r\n",
        "    #     if self.right:\r\n",
        "    #         elements += self.right.traverse()\r\n",
        "    #     return elements\r\n",
        "\r\n",
        "    # def solve(self, root, target):\r\n",
        "    #     elements = self.traverse()\r\n",
        "        # print(root.val)\r\n",
        "        # elements.append(root.val)\r\n",
        "        # while root.right:\r\n",
        "        #     elements.append(root.right.val)\r\n",
        "        #     root = root.right\r\n",
        "        # while root.left:\r\n",
        "        #     elements.append(root.left.val)\r\n",
        "        #     root = root.left\r\n",
        "        # print(elements)\r\n",
        "        # if target not in elements:\r\n",
        "        #     return False\r\n",
        "        # else:\r\n",
        "        #     return True\r\n",
        "    # def traverse(self):\r\n",
        "    #     elements = []\r\n",
        "    #     if self.left:\r\n",
        "    #         elements += self.left.traverse()\r\n",
        "    #     elements.append(self.val)\r\n",
        "    #     if self.right:\r\n",
        "    #         elements += self.right.traverse()\r\n",
        "    #     return elements\r\n",
        "\r\n",
        "    # def solve(self, root, target):\r\n",
        "    #     elements = self.traverse()\r\n",
        "    #     print(elements)\r\n",
        "    #     return False\r\n",
        "            "
      ],
      "execution_count": null,
      "outputs": []
    }
  ]
}