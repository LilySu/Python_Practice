{
  "nbformat": 4,
  "nbformat_minor": 0,
  "metadata": {
    "colab": {
      "name": "Leetcode_#845_Longest_Mountain_in_Array.ipynb",
      "provenance": [],
      "authorship_tag": "ABX9TyNbQWM1rHOV88xQ++fpRqSM",
      "include_colab_link": true
    },
    "kernelspec": {
      "name": "python3",
      "display_name": "Python 3"
    }
  },
  "cells": [
    {
      "cell_type": "markdown",
      "metadata": {
        "id": "view-in-github",
        "colab_type": "text"
      },
      "source": [
        "<a href=\"https://colab.research.google.com/github/LilySu/Python_Practice/blob/master/Leetcode__845_Longest_Mountain_in_Array.ipynb\" target=\"_parent\"><img src=\"https://colab.research.google.com/assets/colab-badge.svg\" alt=\"Open In Colab\"/></a>"
      ]
    },
    {
      "cell_type": "markdown",
      "metadata": {
        "id": "iDrxWswjy3kU",
        "colab_type": "text"
      },
      "source": [
        "Let's call any (contiguous) subarray B (of A) a mountain if the following properties hold:\n",
        "```\n",
        "B.length >= 3\n",
        "There exists some 0 < i < B.length - 1 such that B[0] < B[1] < ... B[i-1] < B[i] > B[i+1] > ... > B[B.length - 1]\n",
        "```\n",
        "(Note that B could be any subarray of A, including the entire array A.)\n",
        "\n",
        "Given an array A of integers, return the length of the longest mountain. \n",
        "\n",
        "Return 0 if there is no mountain.\n",
        "```\n",
        "\n",
        "Example 1:\n",
        "\n",
        "Input: [2,1,4,7,3,2,5]\n",
        "Output: 5\n",
        "Explanation: The largest mountain is [1,4,7,3,2] which has length 5.\n",
        "Example 2:\n",
        "\n",
        "Input: [2,2,2]\n",
        "Output: 0\n",
        "Explanation: There is no mountain.\n",
        "Note:\n",
        "\n",
        "0 <= A.length <= 10000\n",
        "0 <= A[i] <= 10000\n",
        "Follow up:\n",
        "\n",
        "Can you solve it using only one pass?\n",
        "Can you solve it in O(1) space?\n",
        "```"
      ]
    },
    {
      "cell_type": "code",
      "metadata": {
        "id": "8dRdWk8c5Emu",
        "colab_type": "code",
        "colab": {
          "base_uri": "https://localhost:8080/",
          "height": 34
        },
        "outputId": "348152a9-543c-4351-aba1-cdd01feab790"
      },
      "source": [
        "a = [3,4,5,6,7,8]\n",
        "if a == sorted(a):\n",
        "    print(True)"
      ],
      "execution_count": 8,
      "outputs": [
        {
          "output_type": "stream",
          "text": [
            "True\n"
          ],
          "name": "stdout"
        }
      ]
    },
    {
      "cell_type": "code",
      "metadata": {
        "id": "kC7YDJL_6DSw",
        "colab_type": "code",
        "colab": {}
      },
      "source": [
        ""
      ],
      "execution_count": null,
      "outputs": []
    },
    {
      "cell_type": "code",
      "metadata": {
        "id": "c8yQcoJN57hM",
        "colab_type": "code",
        "colab": {}
      },
      "source": [
        "b = [2,3,4,5,3,2,4,3,4,5,6,7,8,7,6,5,4,3]\n",
        "\n",
        "for i in len(b):\n",
        "[i:]"
      ],
      "execution_count": null,
      "outputs": []
    },
    {
      "cell_type": "code",
      "metadata": {
        "id": "q62M8L_YwE9m",
        "colab_type": "code",
        "colab": {
          "base_uri": "https://localhost:8080/",
          "height": 155
        },
        "outputId": "02cef253-7d3d-4afd-83fa-11a39eed40f5"
      },
      "source": [
        "a = [2,1,4,7,3,2,5,6]\n",
        "\n",
        "b = [2,3,4,5,3,2,4,3,4,5,6,7,8,7,6,5,4,3]\n",
        "\n",
        "# instantiate list\n",
        "l = []\n",
        "# instantiate sublist\n",
        "counter = 0\n",
        "# go through the list\n",
        "for i,j in enumerate(a):\n",
        "    if i < (len(a)-1) and i > 0:\n",
        "        if len(t) == 0:\n",
        "        if a[i+1] > j and a[i-1] < j:\n",
        "            t.append(j)\n",
        "        else:\n",
        "            t = []\n",
        "    print(l)"
      ],
      "execution_count": 4,
      "outputs": [
        {
          "output_type": "stream",
          "text": [
            "[]\n",
            "[1]\n",
            "[1, 4]\n",
            "[]\n",
            "[]\n",
            "[2]\n",
            "[2, 5]\n",
            "[2, 5]\n"
          ],
          "name": "stdout"
        }
      ]
    },
    {
      "cell_type": "code",
      "metadata": {
        "id": "gwwllv7N0GmG",
        "colab_type": "code",
        "colab": {
          "base_uri": "https://localhost:8080/",
          "height": 314
        },
        "outputId": "096c9a34-4aab-43d0-a2f7-95926124f147"
      },
      "source": [
        "a = [2,1,4,7,3,2,5,6]\n",
        "\n",
        "b = [2,3,4,5,3,2,4,3,4,5,6,7,8,7,6,5,4,3]\n",
        "\n",
        "# instantiate list\n",
        "l = []\n",
        "# instantiate sublist\n",
        "counter = 0\n",
        "t = []\n",
        "# go through the list\n",
        "for i,j in enumerate(a):\n",
        "    if i < (len(a)-1) and i > 0:\n",
        "        if counter == 0:\n",
        "            if a[i+1] > j:\n",
        "                counter += 1\n",
        "                t.append(j)\n",
        "        elif counter > 0:\n",
        "            if a[i-1] < j:\n",
        "                counter += 1\n",
        "                t.append(j)\n",
        "            elif a[i-1] > j:\n",
        "                counter += 1\n",
        "                t.append(j)\n",
        "        else:\n",
        "            t = []\n",
        "    l.append(t)\n",
        "    print(l)\n",
        "    print(counter)"
      ],
      "execution_count": 14,
      "outputs": [
        {
          "output_type": "stream",
          "text": [
            "[[]]\n",
            "0\n",
            "[[1], [1]]\n",
            "1\n",
            "[[1, 4], [1, 4], [1, 4]]\n",
            "2\n",
            "[[1, 4, 7], [1, 4, 7], [1, 4, 7], [1, 4, 7]]\n",
            "3\n",
            "[[1, 4, 7, 3], [1, 4, 7, 3], [1, 4, 7, 3], [1, 4, 7, 3], [1, 4, 7, 3]]\n",
            "4\n",
            "[[1, 4, 7, 3, 2], [1, 4, 7, 3, 2], [1, 4, 7, 3, 2], [1, 4, 7, 3, 2], [1, 4, 7, 3, 2], [1, 4, 7, 3, 2]]\n",
            "5\n",
            "[[1, 4, 7, 3, 2, 5], [1, 4, 7, 3, 2, 5], [1, 4, 7, 3, 2, 5], [1, 4, 7, 3, 2, 5], [1, 4, 7, 3, 2, 5], [1, 4, 7, 3, 2, 5], [1, 4, 7, 3, 2, 5]]\n",
            "6\n",
            "[[1, 4, 7, 3, 2, 5], [1, 4, 7, 3, 2, 5], [1, 4, 7, 3, 2, 5], [1, 4, 7, 3, 2, 5], [1, 4, 7, 3, 2, 5], [1, 4, 7, 3, 2, 5], [1, 4, 7, 3, 2, 5], [1, 4, 7, 3, 2, 5]]\n",
            "6\n"
          ],
          "name": "stdout"
        }
      ]
    },
    {
      "cell_type": "code",
      "metadata": {
        "id": "QTo1J7GL8AZW",
        "colab_type": "code",
        "colab": {}
      },
      "source": [
        "adding numbers is log(n) time\n",
        "\n",
        "if we have array, you cannot insert in between"
      ],
      "execution_count": null,
      "outputs": []
    }
  ]
}