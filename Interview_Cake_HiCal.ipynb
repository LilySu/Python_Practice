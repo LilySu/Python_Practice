{
  "nbformat": 4,
  "nbformat_minor": 0,
  "metadata": {
    "colab": {
      "name": "Interview_Cake_HiCal.ipynb",
      "provenance": [],
      "authorship_tag": "ABX9TyMBF+4sS3dJvCxPuOKep2Mt",
      "include_colab_link": true
    },
    "kernelspec": {
      "name": "python3",
      "display_name": "Python 3"
    }
  },
  "cells": [
    {
      "cell_type": "markdown",
      "metadata": {
        "id": "view-in-github",
        "colab_type": "text"
      },
      "source": [
        "<a href=\"https://colab.research.google.com/github/LilySu/Python_Practice/blob/master/Interview_Cake_HiCal.ipynb\" target=\"_parent\"><img src=\"https://colab.research.google.com/assets/colab-badge.svg\" alt=\"Open In Colab\"/></a>"
      ]
    },
    {
      "cell_type": "code",
      "metadata": {
        "colab": {
          "base_uri": "https://localhost:8080/"
        },
        "id": "gjHhE0qiAiMx",
        "outputId": "2b79ae99-0680-4b5c-a552-6a9fe3dffcaf"
      },
      "source": [
        "# t =   [(0, 1), (3, 5), (4, 8), (10, 12), (9, 10)]\r\n",
        "# t =   [(1, 3), (2, 4)]\r\n",
        "# t = [(1, 5), (2, 3)]\r\n",
        "# t = [(1, 2), (2, 3)]\r\n",
        "t = [(1, 10), (2, 6), (3, 5), (7, 9)]\r\n",
        "\r\n",
        "res = []\r\n",
        "\r\n",
        "t.sort(key = lambda x: x[0])\r\n",
        "print(t)\r\n",
        "for ind in range(len(t) - 1):\r\n",
        "    i, j = t[ind]\r\n",
        "    x, y = t[ind + 1]\r\n",
        "    # <= handles [(1, 2), (2, 3)], where end time coincides with start time of another entry.\r\n",
        "    # If the end time of the first meeting is equal to or greater than the start time of the \r\n",
        "    # second meeting, we merge the two meetings into one time range. \r\n",
        "    if x <= j:\r\n",
        "        # handles edge case [(1, 5), (2, 3)], where end time in first is later than the second.\r\n",
        "        if j < y:\r\n",
        "            res.append((i, y))\r\n",
        "        else:\r\n",
        "            res.append((i, j))\r\n",
        "    elif len(res) == 0:\r\n",
        "        res.append((i, j))\r\n",
        "    # print((i, j))\r\n",
        "    # print((x, y))\r\n",
        "res"
      ],
      "execution_count": null,
      "outputs": [
        {
          "output_type": "stream",
          "text": [
            "[(1, 10), (2, 6), (3, 5), (7, 9)]\n"
          ],
          "name": "stdout"
        },
        {
          "output_type": "execute_result",
          "data": {
            "text/plain": [
              "[(1, 10), (2, 6)]"
            ]
          },
          "metadata": {
            "tags": []
          },
          "execution_count": 25
        }
      ]
    },
    {
      "cell_type": "code",
      "metadata": {
        "colab": {
          "base_uri": "https://localhost:8080/"
        },
        "id": "1c_of4AkDRr0",
        "outputId": "130c8ba4-f2c1-4d63-8ea7-9f75f599d5a4"
      },
      "source": [
        "from itertools import groupby\r\n",
        "# t = [(1, 10), (2, 6), (3, 5), (7, 9)]\r\n",
        "t =   [(1, 3), (2, 4)]\r\n",
        "# t = [(1, 10), (2, 6), (1, 3)]\r\n",
        "\r\n",
        "def merge_meetings(t)\r\n",
        "    # 1. treat meeting with earlier start time as first, other as second\r\n",
        "    for i in range(len(t) - 1):\r\n",
        "        current_times = t[i]\r\n",
        "        next_times = t[i + 1]\r\n",
        "        if current_times[0] >= next_times[0]:\r\n",
        "            earliest_start = next_times[0]\r\n",
        "        elif current_times[0] < next_times[0]:\r\n",
        "            earliest_start = current_times[0]\r\n",
        "    # 2. if the end time of the first meeting is equal or greater than the start time of the second meeting\r\n",
        "        if current_times[1] >= next_times[1]:\r\n",
        "            latest_end = current_times[1]\r\n",
        "        elif current_times[1] < next_times[1]:\r\n",
        "            latest_end = next_times[1]\r\n",
        "    # merge the two meetings into one time range. \r\n",
        "        t[i] = (earliest_start, latest_end)\r\n",
        "        t[i + 1] = (earliest_start, latest_end)\r\n",
        "    # 3. else leave them separate\r\n",
        "        # Included in above\r\n",
        "\r\n",
        "        return [i[0] for i in groupby(t)]"
      ],
      "execution_count": null,
      "outputs": [
        {
          "output_type": "stream",
          "text": [
            "[(1, 4)]\n"
          ],
          "name": "stdout"
        }
      ]
    },
    {
      "cell_type": "code",
      "metadata": {
        "colab": {
          "base_uri": "https://localhost:8080/"
        },
        "id": "8_0Et0mfkM1d",
        "outputId": "02eb5396-2fa3-4875-e857-cbe9ed781325"
      },
      "source": [
        "t = [(1, 10), (2, 6), (3, 5), (7, 9)]\r\n",
        "\r\n",
        "def merge_ranges(meetings):\r\n",
        "\r\n",
        "    # Sort by start time\r\n",
        "    sorted_meetings = sorted(meetings)\r\n",
        "\r\n",
        "    # Initialize merged_meetings with the earliest meeting\r\n",
        "    merged_meetings = [sorted_meetings[0]]\r\n",
        "    # print(merged_meetings)\r\n",
        "\r\n",
        "    for current_meeting_start, current_meeting_end in sorted_meetings[1:]:\r\n",
        "        last_merged_meeting_start, last_merged_meeting_end = merged_meetings[-1]\r\n",
        "        print('last_merged_meeting_start:' + str(last_merged_meeting_start))\r\n",
        "        print('last_merged_meeting_end:' + str(last_merged_meeting_end))\r\n",
        "\r\n",
        "        # If the current meeting overlaps with the last merged meeting, use the\r\n",
        "        # later end time of the two\r\n",
        "        if (current_meeting_start <= last_merged_meeting_end):\r\n",
        "            merged_meetings[-1] = (last_merged_meeting_start,\r\n",
        "                                   max(last_merged_meeting_end,\r\n",
        "                                       current_meeting_end))\r\n",
        "        else:\r\n",
        "            # Add the current meeting since it doesn't overlap\r\n",
        "            merged_meetings.append((current_meeting_start, current_meeting_end))\r\n",
        "\r\n",
        "    return merged_meetings\r\n",
        "\r\n",
        "merge_ranges(t)"
      ],
      "execution_count": null,
      "outputs": [
        {
          "output_type": "stream",
          "text": [
            "last_merged_meeting_start:1\n",
            "last_merged_meeting_end:10\n",
            "last_merged_meeting_start:1\n",
            "last_merged_meeting_end:10\n",
            "last_merged_meeting_start:1\n",
            "last_merged_meeting_end:10\n"
          ],
          "name": "stdout"
        },
        {
          "output_type": "execute_result",
          "data": {
            "text/plain": [
              "[(1, 10)]"
            ]
          },
          "metadata": {
            "tags": []
          },
          "execution_count": 15
        }
      ]
    },
    {
      "cell_type": "code",
      "metadata": {
        "id": "s921y8ITmo0e",
        "colab": {
          "base_uri": "https://localhost:8080/"
        },
        "outputId": "1028fe81-0f1d-4b8a-e731-f54ceca492a1"
      },
      "source": [
        "t = [(0, 1), (3, 5), (4, 8), (10, 12), (9, 10)]\r\n",
        "\r\n",
        "minn = [25]\r\n",
        "maxx = [0]\r\n",
        "for i in t:\r\n",
        "    start, end = i\r\n",
        "    if start < min(minn):\r\n",
        "        minn.remove(min(minn))\r\n",
        "        minn.append(start)\r\n",
        "    if end > max(maxx):\r\n",
        "        maxx.remove(max(maxx))\r\n",
        "        maxx.append(end)\r\n",
        "print(minn)\r\n",
        "print(maxx)"
      ],
      "execution_count": null,
      "outputs": [
        {
          "output_type": "stream",
          "text": [
            "[0]\n",
            "[12]\n"
          ],
          "name": "stdout"
        }
      ]
    },
    {
      "cell_type": "code",
      "metadata": {
        "colab": {
          "base_uri": "https://localhost:8080/",
          "height": 251
        },
        "id": "TzJRWcCamTif",
        "outputId": "9b552a71-11cf-4a58-8e6f-197eae04646c"
      },
      "source": [
        "t = [(0, 1), (3, 5), (4, 8), (10, 12), (9, 10)]\r\n",
        "# t = [(1, 10), (2, 6), (3, 5), (7, 9)]\r\n",
        "t=[(2, 5),(4, 6), (8,9)]\r\n",
        "r = []\r\n",
        "t = sorted(t)\r\n",
        "print(t)\r\n",
        "idx = 0\r\n",
        "while idx < len(t):\r\n",
        "    start, end = t[idx]\r\n",
        "    for rest in t[idx + 1:]:   \r\n",
        "        nx_start, nx_end = rest \r\n",
        "        if start < nx_start:\r\n",
        "            if end < nx_start:\r\n",
        "                r.append((start, end))\r\n",
        "                idx += 1\r\n",
        "                continue\r\n",
        "            elif end > nx_start:\r\n",
        "                r.append((start, nx_end))\r\n",
        "                idx += 1\r\n",
        "                continue\r\n",
        "        print(t[idx][0])\r\n",
        "\r\n",
        "\r\n",
        "\r\n",
        "        # else:\r\n",
        "        #     if start < nx_start:\r\n",
        "        #         if end < nx_end:\r\n",
        "        #             r.append((start, end))\r\n",
        "        #             continue\r\n",
        "        #     if end > nx_start:\r\n",
        "        #         r.append((start, nx_end))\r\n",
        "        #         continue\r\n",
        "        # else:\r\n",
        "        #     if end > nx_start:\r\n",
        "        #         r.append((start, nx_end))\r\n",
        "        # if start < nx_start and end < nx_end and end > nx_start:\r\n",
        "        #         r.append((start, nx_end))\r\n",
        "        # elif start > nx_start and end > nx_end:\r\n",
        "        #     r.append((nx_start, end))\r\n",
        "        # if start < nx_start and end < nx_end and end < nx_start:\r\n",
        "        #     if (start, end) not in r:\r\n",
        "        #         r.append((start, end))\r\n",
        "\r\n",
        "\r\n",
        "print(r)\r\n",
        "# (0, 1), (3, 8), (9, 12)"
      ],
      "execution_count": 49,
      "outputs": [
        {
          "output_type": "stream",
          "text": [
            "[(2, 5), (4, 6), (8, 9)]\n"
          ],
          "name": "stdout"
        },
        {
          "output_type": "error",
          "ename": "KeyboardInterrupt",
          "evalue": "ignored",
          "traceback": [
            "\u001b[0;31m---------------------------------------------------------------------------\u001b[0m",
            "\u001b[0;31mKeyboardInterrupt\u001b[0m                         Traceback (most recent call last)",
            "\u001b[0;32m<ipython-input-49-8e55601ef3eb>\u001b[0m in \u001b[0;36m<module>\u001b[0;34m()\u001b[0m\n\u001b[1;32m      6\u001b[0m \u001b[0mprint\u001b[0m\u001b[0;34m(\u001b[0m\u001b[0mt\u001b[0m\u001b[0;34m)\u001b[0m\u001b[0;34m\u001b[0m\u001b[0;34m\u001b[0m\u001b[0m\n\u001b[1;32m      7\u001b[0m \u001b[0midx\u001b[0m \u001b[0;34m=\u001b[0m \u001b[0;36m0\u001b[0m\u001b[0;34m\u001b[0m\u001b[0;34m\u001b[0m\u001b[0m\n\u001b[0;32m----> 8\u001b[0;31m \u001b[0;32mwhile\u001b[0m \u001b[0midx\u001b[0m \u001b[0;34m<\u001b[0m \u001b[0mlen\u001b[0m\u001b[0;34m(\u001b[0m\u001b[0mt\u001b[0m\u001b[0;34m)\u001b[0m\u001b[0;34m:\u001b[0m\u001b[0;34m\u001b[0m\u001b[0;34m\u001b[0m\u001b[0m\n\u001b[0m\u001b[1;32m      9\u001b[0m     \u001b[0;32mif\u001b[0m \u001b[0mlen\u001b[0m\u001b[0;34m(\u001b[0m\u001b[0mt\u001b[0m\u001b[0;34m[\u001b[0m\u001b[0midx\u001b[0m \u001b[0;34m+\u001b[0m \u001b[0;36m1\u001b[0m\u001b[0;34m:\u001b[0m\u001b[0;34m]\u001b[0m\u001b[0;34m)\u001b[0m \u001b[0;34m==\u001b[0m \u001b[0;36m1\u001b[0m\u001b[0;34m:\u001b[0m\u001b[0;34m\u001b[0m\u001b[0;34m\u001b[0m\u001b[0m\n\u001b[1;32m     10\u001b[0m         \u001b[0midx\u001b[0m \u001b[0;34m=\u001b[0m \u001b[0mlen\u001b[0m\u001b[0;34m(\u001b[0m\u001b[0mt\u001b[0m\u001b[0;34m)\u001b[0m\u001b[0;34m\u001b[0m\u001b[0;34m\u001b[0m\u001b[0m\n",
            "\u001b[0;31mKeyboardInterrupt\u001b[0m: "
          ]
        }
      ]
    },
    {
      "cell_type": "code",
      "metadata": {
        "id": "LtisL4DCnXGE",
        "colab": {
          "base_uri": "https://localhost:8080/"
        },
        "outputId": "cc80d46d-9570-45e9-abf7-a36081b2a98b"
      },
      "source": [
        "t=[(4, 6), (1, 3)]\r\n",
        "sorted(t)"
      ],
      "execution_count": 2,
      "outputs": [
        {
          "output_type": "execute_result",
          "data": {
            "text/plain": [
              "[(1, 3), (4, 6)]"
            ]
          },
          "metadata": {
            "tags": []
          },
          "execution_count": 2
        }
      ]
    },
    {
      "cell_type": "code",
      "metadata": {
        "id": "2DWcRbqkm9Dh"
      },
      "source": [
        ""
      ],
      "execution_count": null,
      "outputs": []
    }
  ]
}