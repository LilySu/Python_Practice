{
  "nbformat": 4,
  "nbformat_minor": 0,
  "metadata": {
    "colab": {
      "name": "BinarySearch_Palindromic Anagram.ipynb",
      "provenance": [],
      "authorship_tag": "ABX9TyNSbPQIHZngOX1WKuA+rg8S",
      "include_colab_link": true
    },
    "kernelspec": {
      "name": "python3",
      "display_name": "Python 3"
    }
  },
  "cells": [
    {
      "cell_type": "markdown",
      "metadata": {
        "id": "view-in-github",
        "colab_type": "text"
      },
      "source": [
        "<a href=\"https://colab.research.google.com/github/LilySu/Python_Practice/blob/master/BinarySearch_Palindromic_Anagram.ipynb\" target=\"_parent\"><img src=\"https://colab.research.google.com/assets/colab-badge.svg\" alt=\"Open In Colab\"/></a>"
      ]
    },
    {
      "cell_type": "code",
      "metadata": {
        "colab": {
          "base_uri": "https://localhost:8080/"
        },
        "id": "uCB0wkHm17lA",
        "outputId": "f104237c-6064-4dfd-db6f-dd8ac102942c"
      },
      "source": [
        "                    # secLeft = Math.floor(timeLeft / 1000)\r\n",
        "                    # minLeft = Math.floor(secLeft / 60)\r\n",
        "                    # hrsLeft = Math.floor(minLeft / 60)\r\n",
        "sec = 1047084700\r\n",
        "hrsLeft = sec / 3600\r\n",
        "days = hrsLeft / 24000\r\n",
        "minLeft_pool = sec % 3600\r\n",
        "minLeft = minLeft_pool % 60\r\n",
        "secLeft_pool = minLeft_pool % 3600\r\n",
        "secLeft = minLeft % 60\r\n",
        "print(days, hrsLeft, minLeft, secLeft_pool)\r\n",
        "\r\n",
        "# 12\r\n",
        "# DAYS\r\n",
        "# 07\r\n",
        "# HOURS\r\n",
        "# 32\r\n",
        "# MINUTES\r\n"
      ],
      "execution_count": null,
      "outputs": [
        {
          "output_type": "stream",
          "text": [
            "12.11903587962963 290856.8611111111 40 3100\n"
          ],
          "name": "stdout"
        }
      ]
    },
    {
      "cell_type": "markdown",
      "metadata": {
        "id": "Luu5-HelU1QS"
      },
      "source": [
        "Given a string s, determine whether any anagram of s is a palindrome.\r\n",
        "\r\n",
        "Constraints\r\n",
        "\r\n",
        "n ≤ 100,000 where n is the length of s\r\n",
        "Example 1\r\n",
        "Input\r\n",
        "s = \"carrace\"\r\n",
        "Output\r\n",
        "True\r\n",
        "Explanation\r\n",
        "\"carrace\" should return true, since it can be rearranged to form \"racecar\", which is a palindrome."
      ]
    },
    {
      "cell_type": "code",
      "metadata": {
        "id": "T-J2pxfG3Esu"
      },
      "source": [
        "from collections import Counter\r\n",
        "\r\n",
        "class Solution:\r\n",
        "    def solve(self, s):\r\n",
        "        count = Counter(s)\r\n",
        "        oddNums = 0\r\n",
        "        for x in count.values():\r\n",
        "            if x % 2 == 1:\r\n",
        "                if oddNums == 0:\r\n",
        "                    oddNums += 1\r\n",
        "                    continue\r\n",
        "                return False\r\n",
        "        return True"
      ],
      "execution_count": null,
      "outputs": []
    }
  ]
}