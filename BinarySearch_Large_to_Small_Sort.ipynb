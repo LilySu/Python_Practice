{
  "nbformat": 4,
  "nbformat_minor": 0,
  "metadata": {
    "colab": {
      "name": "BinarySearch_Large_to_Small_Sort.ipynb",
      "provenance": [],
      "authorship_tag": "ABX9TyN0fN/2fiizzJZlgIU2Vw+4",
      "include_colab_link": true
    },
    "kernelspec": {
      "name": "python3",
      "display_name": "Python 3"
    }
  },
  "cells": [
    {
      "cell_type": "markdown",
      "metadata": {
        "id": "view-in-github",
        "colab_type": "text"
      },
      "source": [
        "<a href=\"https://colab.research.google.com/github/LilySu/Python_Practice/blob/master/BinarySearch_Large_to_Small_Sort.ipynb\" target=\"_parent\"><img src=\"https://colab.research.google.com/assets/colab-badge.svg\" alt=\"Open In Colab\"/></a>"
      ]
    },
    {
      "cell_type": "markdown",
      "metadata": {
        "id": "FOYU5pfvEpOs"
      },
      "source": [
        "Given a list of integers nums, sort the list in the following way:\n",
        "\n",
        "First number is the maximum\n",
        "Second number is the minimum\n",
        "Third number is the 2nd maximum\n",
        "Fourth number is the 2nd minimum\n",
        "And so on.\n",
        "Constraints\n",
        "```\n",
        "n ≤ 100,000 where n is the length of nums.\n",
        "Example 1\n",
        "Input\n",
        "\n",
        "nums = [5, 2, 9, 3]\n",
        "Output\n",
        "\n",
        "[9, 2, 5, 3]\n",
        "Example 2\n",
        "Input\n",
        "\n",
        "nums = [1, 9, 9]\n",
        "Output\n",
        "\n",
        "[9, 1, 9]\n",
        "```"
      ]
    },
    {
      "cell_type": "code",
      "metadata": {
        "id": "zK01iJ7SEkjd"
      },
      "source": [
        "class Solution:\n",
        "    def solve(self, nums):\n",
        "        nums.sort()\n",
        "        r = []\n",
        "        for i in range(len(nums)//2):\n",
        "            r.append(nums[~i])\n",
        "            r.append(nums[i])\n",
        "        if len(nums) % 2 != 0:\n",
        "            r.append(nums[(len(nums)//2)])\n",
        "        return r"
      ],
      "execution_count": null,
      "outputs": []
    }
  ]
}