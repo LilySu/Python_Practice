{
  "nbformat": 4,
  "nbformat_minor": 0,
  "metadata": {
    "colab": {
      "name": "BinarySearch_K_and_-K.ipynb",
      "provenance": [],
      "authorship_tag": "ABX9TyNMxGagiRw6o13Xh8AvGEKj",
      "include_colab_link": true
    },
    "kernelspec": {
      "name": "python3",
      "display_name": "Python 3"
    }
  },
  "cells": [
    {
      "cell_type": "markdown",
      "metadata": {
        "id": "view-in-github",
        "colab_type": "text"
      },
      "source": [
        "<a href=\"https://colab.research.google.com/github/LilySu/Python_Practice/blob/master/BinarySearch_K_and__K.ipynb\" target=\"_parent\"><img src=\"https://colab.research.google.com/assets/colab-badge.svg\" alt=\"Open In Colab\"/></a>"
      ]
    },
    {
      "cell_type": "markdown",
      "metadata": {
        "id": "4iqNDZtx6tdU"
      },
      "source": [
        "Given a list of integers nums, return the largest integer k where k and -k both exist in nums (they can be the same integer). If there's no such integer, return -1.\n",
        "```\n",
        "Constraints\n",
        "\n",
        "n ≤ 100,000 where n is the length of nums\n",
        "Example 1\n",
        "Input\n",
        "\n",
        "nums = [-4, 1, 8, -5, 4, -8]\n",
        "Output\n",
        "\n",
        "8\n",
        "Example 2\n",
        "Input\n",
        "\n",
        "nums = [5, 6, 1, -2]\n",
        "Output\n",
        "\n",
        "-1\n",
        "Example 3\n",
        "Input\n",
        "\n",
        "nums = [1, 2, 0, 3, 4]\n",
        "Output\n",
        "\n",
        "0\n",
        "Hint #1\n",
        "Consider using a set to quickly check if the additive inverse of a number is present or not already.\n",
        "```"
      ]
    },
    {
      "cell_type": "code",
      "metadata": {
        "id": "j9sYO9g06kMP"
      },
      "source": [
        "class Solution:\n",
        "    def solve(self, nums):\n",
        "        nums.sort()\n",
        "        if 0 in nums:\n",
        "            return 0\n",
        "        sett = set()\n",
        "        for i in nums:\n",
        "            if i > 0:\n",
        "                sett.add(i)\n",
        "        for i in nums:\n",
        "            if i < 0:\n",
        "                if i * -1 in sett:\n",
        "                    return i * -1\n",
        "        return -1\n",
        "\n",
        "# Time O(n)\n",
        "# Space O(n)"
      ],
      "execution_count": null,
      "outputs": []
    },
    {
      "cell_type": "code",
      "metadata": {
        "id": "nXg0jAq47Aad"
      },
      "source": [
        "set([x for x in nums if x > 0])"
      ],
      "execution_count": null,
      "outputs": []
    },
    {
      "cell_type": "markdown",
      "metadata": {
        "id": "iHYz1JbP7NhV"
      },
      "source": [
        "We iterate from negative side, There is an added advantage that comes with it, that is it is the largest. So as soon as we see a negative number which satisfies the condition we return that.\n",
        "That's clean code."
      ]
    },
    {
      "cell_type": "code",
      "metadata": {
        "id": "jv8EBz0W7HpB"
      },
      "source": [
        "class Solution:\n",
        "    def solve(self, nums):\n",
        "        nums.sort()\n",
        "        for i in nums:\n",
        "            if i <= 0 and -i in nums:\n",
        "                return -i\n",
        "        return -1\n"
      ],
      "execution_count": null,
      "outputs": []
    }
  ]
}