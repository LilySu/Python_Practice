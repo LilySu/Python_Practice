{
  "nbformat": 4,
  "nbformat_minor": 0,
  "metadata": {
    "colab": {
      "name": "BinarySearch_Palindrome Linked List.ipynb",
      "provenance": [],
      "authorship_tag": "ABX9TyOwtFyEp4R8siiEBPdgM6c+",
      "include_colab_link": true
    },
    "kernelspec": {
      "name": "python3",
      "display_name": "Python 3"
    }
  },
  "cells": [
    {
      "cell_type": "markdown",
      "metadata": {
        "id": "view-in-github",
        "colab_type": "text"
      },
      "source": [
        "<a href=\"https://colab.research.google.com/github/LilySu/Python_Practice/blob/master/BinarySearch_Palindrome_Linked_List.ipynb\" target=\"_parent\"><img src=\"https://colab.research.google.com/assets/colab-badge.svg\" alt=\"Open In Colab\"/></a>"
      ]
    },
    {
      "cell_type": "markdown",
      "metadata": {
        "id": "Z655yecEuPMx"
      },
      "source": [
        "Given a singly linked list node whose values are integers, determine whether the linked list forms a palindrome.\r\n",
        "```\r\n",
        "Constraints\r\n",
        "\r\n",
        "n ≤ 100,000 where n is the length of node\r\n",
        "Example 1\r\n",
        "Input\r\n",
        "Visualize\r\n",
        "node = [5, 3, 5]\r\n",
        "Output\r\n",
        "True\r\n",
        "Explanation\r\n",
        "5 -> 3 -> 5 is a palindrome.\r\n",
        "\r\n",
        "Example 2\r\n",
        "Input\r\n",
        "Visualize\r\n",
        "node = [12, 8, 12]\r\n",
        "Output\r\n",
        "True\r\n",
        "Explanation\r\n",
        "The values of the linked list are the same forwards and backwards.\r\n",
        "```"
      ]
    },
    {
      "cell_type": "code",
      "metadata": {
        "id": "qJ8k4Oxzt-qK"
      },
      "source": [
        "# class LLNode:\r\n",
        "#     def __init__(self, val, next=None):\r\n",
        "#         self.val = val\r\n",
        "#         self.next = next\r\n",
        "class Solution:\r\n",
        "    def solve(self, node):\r\n",
        "        def traverse(node):\r\n",
        "            l = []\r\n",
        "            while node:\r\n",
        "                l.append(node.val)\r\n",
        "                node = node.next\r\n",
        "            return l\r\n",
        "        ll_list = traverse(node)\r\n",
        "        return ll_list == ll_list[::-1]"
      ],
      "execution_count": null,
      "outputs": []
    },
    {
      "cell_type": "code",
      "metadata": {
        "id": "k4FX8o6KuY0Z"
      },
      "source": [
        "# class LLNode:\r\n",
        "#     def __init__(self, val, next=None):\r\n",
        "#         self.val = val\r\n",
        "#         self.next = next\r\n",
        "class Solution:\r\n",
        "    def solve(self, node):\r\n",
        "        if node == None:\r\n",
        "            return True\r\n",
        "        values = []\r\n",
        "        while node:\r\n",
        "            values.append(node.val)\r\n",
        "            node = node.next\r\n",
        "        return values == list(reversed(values))"
      ],
      "execution_count": null,
      "outputs": []
    }
  ]
}