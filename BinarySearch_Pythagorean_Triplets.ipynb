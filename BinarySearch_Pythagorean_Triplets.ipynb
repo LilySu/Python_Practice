{
  "nbformat": 4,
  "nbformat_minor": 0,
  "metadata": {
    "colab": {
      "name": "BinarySearch_Pythagorean_Triplets",
      "provenance": [],
      "authorship_tag": "ABX9TyO1lSAmjJ+dKxH/ukzALa0o",
      "include_colab_link": true
    },
    "kernelspec": {
      "name": "python3",
      "display_name": "Python 3"
    }
  },
  "cells": [
    {
      "cell_type": "markdown",
      "metadata": {
        "id": "view-in-github",
        "colab_type": "text"
      },
      "source": [
        "<a href=\"https://colab.research.google.com/github/LilySu/Python_Practice/blob/master/BinarySearch_Pythagorean_Triplets.ipynb\" target=\"_parent\"><img src=\"https://colab.research.google.com/assets/colab-badge.svg\" alt=\"Open In Colab\"/></a>"
      ]
    },
    {
      "cell_type": "markdown",
      "metadata": {
        "id": "9WGmi7fK46pe"
      },
      "source": [
        "Pythagorean Triplets\n",
        "Given a list of integers nums, return whether there exist integers a, b, and c such that a^2 + b^2 = c^2.\n",
        "\n",
        "Example 1\n",
        "Input\n",
        "\n",
        "nums = [5, 1, 7, 4, 3]\n",
        "Output\n",
        "\n",
        "True\n",
        "Explanation\n",
        "\n",
        "3, 4, 5 are in the array and 3^2 + 4^2 = 5^2."
      ]
    },
    {
      "cell_type": "code",
      "metadata": {
        "id": "CB1NnQlj45YE",
        "outputId": "b1399658-da64-4eaa-95a5-70ce444a5934",
        "colab": {
          "base_uri": "https://localhost:8080/",
          "height": 966
        }
      },
      "source": [
        "s = [5, 1, 7, 4, 3]\n",
        "\n",
        "for i in range(len(s)):\n",
        "    for j in range(len(s[i::])):\n",
        "        for k in range(len(s[j::])):\n",
        "            print(s[i], s[j], s[k])"
      ],
      "execution_count": null,
      "outputs": [
        {
          "output_type": "stream",
          "text": [
            "5 5 5\n",
            "5 5 1\n",
            "5 5 7\n",
            "5 5 4\n",
            "5 5 3\n",
            "5 1 5\n",
            "5 1 1\n",
            "5 1 7\n",
            "5 1 4\n",
            "5 7 5\n",
            "5 7 1\n",
            "5 7 7\n",
            "5 4 5\n",
            "5 4 1\n",
            "5 3 5\n",
            "1 5 5\n",
            "1 5 1\n",
            "1 5 7\n",
            "1 5 4\n",
            "1 5 3\n",
            "1 1 5\n",
            "1 1 1\n",
            "1 1 7\n",
            "1 1 4\n",
            "1 7 5\n",
            "1 7 1\n",
            "1 7 7\n",
            "1 4 5\n",
            "1 4 1\n",
            "7 5 5\n",
            "7 5 1\n",
            "7 5 7\n",
            "7 5 4\n",
            "7 5 3\n",
            "7 1 5\n",
            "7 1 1\n",
            "7 1 7\n",
            "7 1 4\n",
            "7 7 5\n",
            "7 7 1\n",
            "7 7 7\n",
            "4 5 5\n",
            "4 5 1\n",
            "4 5 7\n",
            "4 5 4\n",
            "4 5 3\n",
            "4 1 5\n",
            "4 1 1\n",
            "4 1 7\n",
            "4 1 4\n",
            "3 5 5\n",
            "3 5 1\n",
            "3 5 7\n",
            "3 5 4\n",
            "3 5 3\n"
          ],
          "name": "stdout"
        }
      ]
    },
    {
      "cell_type": "code",
      "metadata": {
        "id": "YCKAc3je5JjN"
      },
      "source": [
        "class Solution:\n",
        "    def solve(self, nums):\n",
        "        py = False\n",
        "        for i in range(len(nums)):\n",
        "            for j in range(len(nums[i::])):\n",
        "                for k in range(len(nums[j::])):\n",
        "                    if (nums[i]**2) + (nums[j]**2) == (nums[k]**2):\n",
        "                        # print((nums[i]) + (nums[j]) == (nums[k]))\n",
        "                        py = True\n",
        "                        return True\n",
        "        return False\n"
      ],
      "execution_count": null,
      "outputs": []
    }
  ]
}