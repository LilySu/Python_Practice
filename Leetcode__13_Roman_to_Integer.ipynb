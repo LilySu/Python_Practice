{
  "nbformat": 4,
  "nbformat_minor": 0,
  "metadata": {
    "colab": {
      "name": "Leetcode_#13_Roman_to_Integer.ipynb",
      "provenance": [],
      "collapsed_sections": [],
      "authorship_tag": "ABX9TyNChm9790+1buYCXTR4MtWd",
      "include_colab_link": true
    },
    "kernelspec": {
      "name": "python3",
      "display_name": "Python 3"
    }
  },
  "cells": [
    {
      "cell_type": "markdown",
      "metadata": {
        "id": "view-in-github",
        "colab_type": "text"
      },
      "source": [
        "<a href=\"https://colab.research.google.com/github/LilySu/Python_Practice/blob/master/Leetcode__13_Roman_to_Integer.ipynb\" target=\"_parent\"><img src=\"https://colab.research.google.com/assets/colab-badge.svg\" alt=\"Open In Colab\"/></a>"
      ]
    },
    {
      "cell_type": "markdown",
      "metadata": {
        "id": "iY4RS0BwaHNi",
        "colab_type": "text"
      },
      "source": [
        "Roman numerals are represented by seven different symbols: I, V, X, L, C, D and M.\n",
        "\n",
        "Symbol       Value\n",
        "I             1\n",
        "V             5\n",
        "X             10\n",
        "L             50\n",
        "C             100\n",
        "D             500\n",
        "M             1000\n",
        "For example, two is written as II in Roman numeral, just two one's added together. Twelve is written as, XII, which is simply X + II. The number twenty seven is written as XXVII, which is XX + V + II.\n",
        "\n",
        "Roman numerals are usually written largest to smallest from left to right. However, the numeral for four is not IIII. Instead, the number four is written as IV. Because the one is before the five we subtract it making four. The same principle applies to the number nine, which is written as IX. There are six instances where subtraction is used:\n",
        "\n",
        "I can be placed before V (5) and X (10) to make 4 and 9. \n",
        "X can be placed before L (50) and C (100) to make 40 and 90. \n",
        "C can be placed before D (500) and M (1000) to make 400 and 900.\n",
        "Given a roman numeral, convert it to an integer. Input is guaranteed to be within the range from 1 to 3999.\n",
        "\n",
        "Example 1:\n",
        "\n",
        "Input: \"III\"\n",
        "Output: 3\n",
        "Example 2:\n",
        "\n",
        "Input: \"IV\"\n",
        "Output: 4\n",
        "Example 3:\n",
        "\n",
        "Input: \"IX\"\n",
        "Output: 9\n",
        "Example 4:\n",
        "\n",
        "Input: \"LVIII\"\n",
        "Output: 58\n",
        "Explanation: L = 50, V= 5, III = 3.\n",
        "Example 5:\n",
        "\n",
        "Input: \"MCMXCIV\"\n",
        "Output: 1994\n",
        "Explanation: M = 1000, CM = 900, XC = 90 and IV = 4."
      ]
    },
    {
      "cell_type": "code",
      "metadata": {
        "id": "5R7uyzNRa0pK",
        "colab_type": "code",
        "colab": {}
      },
      "source": [
        "class Solution(object):\n",
        "    def romanToInt(self, s):\n",
        "        \"\"\"\n",
        "        :type s: str\n",
        "        :rtype: int\n",
        "        \"\"\""
      ],
      "execution_count": null,
      "outputs": []
    },
    {
      "cell_type": "code",
      "metadata": {
        "id": "VErC8AVPaEG_",
        "colab_type": "code",
        "colab": {
          "base_uri": "https://localhost:8080/",
          "height": 34
        },
        "outputId": "d29c5d67-fc77-4c5e-8e33-c4e57994655f"
      },
      "source": [
        "def romanToInt(s):\n",
        "    num_list = []\n",
        "    roman_dict = {\"I\":1,\"V\":5,\"X\":10,\"L\":50,\"C\":100,\"D\":500,\"M\":1000}\n",
        "    # Convert letters in string to numerical digits\n",
        "    for i,j in enumerate(s):      \n",
        "    # Find situations where \"I\" is on the left of letter\n",
        "        minus_counter = 0\n",
        "        # if the index of the next letter is not i, \n",
        "        try:\n",
        "            if j == \"I\" and s[i+1] != \"I\":\n",
        "                try:\n",
        "                    if s[i-1] == \"I\":\n",
        "                        minus_counter = minus_counter - 1\n",
        "                except:\n",
        "                    continue\n",
        "                try:\n",
        "                    if s[i-2] == \"I\":\n",
        "                        minus_counter = minus_counter - 1\n",
        "                except:\n",
        "                    continue\n",
        "                minus_counter = minus_counter - 1\n",
        "        except:\n",
        "            continue\n",
        "        if minus_counter < 0:\n",
        "            final_count = roman_dict[j] + minus_counter\n",
        "        else:\n",
        "            final_count = roman_dict[j]\n",
        "        num_list.append(final_count)\n",
        "    # backtrack to see if there are up to 3 i's before it\n",
        "    return num_list\n",
        "\n",
        "romanToInt('VIIIX')"
      ],
      "execution_count": 32,
      "outputs": [
        {
          "output_type": "execute_result",
          "data": {
            "text/plain": [
              "[5, 1, 1, -2, 10]"
            ]
          },
          "metadata": {
            "tags": []
          },
          "execution_count": 32
        }
      ]
    },
    {
      "cell_type": "code",
      "metadata": {
        "id": "Yrhm4SR5dNzZ",
        "colab_type": "code",
        "colab": {
          "base_uri": "https://localhost:8080/",
          "height": 35
        },
        "outputId": "71043032-7db1-48cc-e1d6-e84f467f1f10"
      },
      "source": [
        "s = 'VIX'\n",
        "s[1+1]"
      ],
      "execution_count": 25,
      "outputs": [
        {
          "output_type": "execute_result",
          "data": {
            "application/vnd.google.colaboratory.intrinsic": {
              "type": "string"
            },
            "text/plain": [
              "'X'"
            ]
          },
          "metadata": {
            "tags": []
          },
          "execution_count": 25
        }
      ]
    },
    {
      "cell_type": "code",
      "metadata": {
        "id": "B97Tz7ACdR6A",
        "colab_type": "code",
        "colab": {
          "base_uri": "https://localhost:8080/",
          "height": 34
        },
        "outputId": "48ff3b11-5081-48c8-edaf-606f735d43d7"
      },
      "source": [
        "def romanToInt(s):\n",
        "    num_list = []\n",
        "    roman_dict = {\"I\":1,\"V\":5,\"X\":10,\"L\":50,\"C\":100,\"D\":500,\"M\":1000}\n",
        "    # Convert letters in string to numerical digits\n",
        "    i_count = 0\n",
        "    if s[:-1] == \"I\":\n",
        "        i_count = i_count + 1\n",
        "        if len(s) > 1:\n",
        "            if s[:-2] == \"I\":\n",
        "                i_count = i_count + 1\n",
        "                if len(s) > 2:\n",
        "                    if s[:-3] == \"I\":\n",
        "                        i_count = i_count + 1\n",
        "        num_list.append(i_count)\n",
        "    else:\n",
        "        for i,j in enumerate(s):      \n",
        "        # Find situations where \"I\" is on the left of letter\n",
        "            minus_counter = 0\n",
        "            is_I = False\n",
        "            # if the index of the next letter is not i, \n",
        "            try:\n",
        "                if j != \"I\" and s[i-1] == \"I\":\n",
        "                    minus_counter = minus_counter - 1\n",
        "                    try:\n",
        "                        if s[i-2] == \"I\":\n",
        "                            minus_counter = minus_counter - 1\n",
        "                    except:\n",
        "                        continue\n",
        "                    try:\n",
        "                        if s[i-3] == \"I\":\n",
        "                            minus_counter = minus_counter - 1\n",
        "                    except:\n",
        "                        continue\n",
        "            except:\n",
        "                continue\n",
        "            if minus_counter < 0 and is_I == False:\n",
        "                final_count = roman_dict[j] + minus_counter\n",
        "            elif minus_counter < 0 and is_I == True:\n",
        "                final_count = 0\n",
        "            elif minus_counter > 0 and is_I == True:\n",
        "                final_count = 0\n",
        "            else:\n",
        "                final_count = roman_dict[j]\n",
        "            num_list.append(final_count)\n",
        "        # backtrack to see if there are up to 3 i's before it\n",
        "    return num_list\n",
        "\n",
        "romanToInt('VII')"
      ],
      "execution_count": 99,
      "outputs": [
        {
          "output_type": "execute_result",
          "data": {
            "text/plain": [
              "[3, 1, 1]"
            ]
          },
          "metadata": {
            "tags": []
          },
          "execution_count": 99
        }
      ]
    },
    {
      "cell_type": "code",
      "metadata": {
        "id": "kTE_2reFnyeK",
        "colab_type": "code",
        "colab": {
          "base_uri": "https://localhost:8080/",
          "height": 34
        },
        "outputId": "36df10f3-cd6f-4d5c-850a-7a98b297a5d4"
      },
      "source": [
        "def romanToInt(s):\n",
        "    num_list = []\n",
        "    roman_dict = {\"I\":1,\"V\":5,\"X\":10,\"L\":50,\"C\":100,\"D\":500,\"M\":1000}\n",
        "    for i,j in enumerate(s):      \n",
        "    # Find situations where \"I\" is on the left of letter\n",
        "        is_i = False\n",
        "        # if the index of the next letter is not i, \n",
        "        minus_counter = 0\n",
        "        plus_counter = 0\n",
        "        if len(s) > i:\n",
        "            try:\n",
        "                if (j != \"I\") and (s[i+1] == \"I\"):\n",
        "                    plus_counter = plus_counter + 1\n",
        "                if (j in [\"M\",\"D\",\"C\",\"L\",\"X\"]) and (s[i+1] in [\"X\",\"C\"]):\n",
        "                    plus_counter = roman_dict[s[i+1]]\n",
        "            except IndexError:\n",
        "                pass\n",
        "        if len(s) > (i+1):\n",
        "            try:\n",
        "                if (j != \"I\") and (s[i+1] == \"I\") and (s[i+2] == \"I\"):\n",
        "                    plus_counter = plus_counter + 1\n",
        "            except IndexError:\n",
        "                pass\n",
        "        if len(s) > (i+2):\n",
        "            try:\n",
        "                if (j != \"I\") and (s[i+1] == \"I\") and (s[i+2] == \"I\") and (s[i+3] == \"I\"):\n",
        "                    plus_counter = plus_counter + 1\n",
        "            except IndexError:\n",
        "                pass\n",
        "        if i > 0:\n",
        "            # return i\n",
        "            if (j != \"I\") and (s[i-1] == \"I\"):\n",
        "                minus_counter = minus_counter - 1\n",
        "            if (j in [\"M\",\"D\"]) and (s[i-1] in [\"C\",\"X\"]):\n",
        "                minus_counter = (roman_dict[s[i-1]]) * -1\n",
        "        if j in [\"I\", \"X\", \"C\"]:\n",
        "            final_count = 0\n",
        "        elif minus_counter < 0:\n",
        "            final_count = roman_dict[j] + minus_counter\n",
        "        elif plus_counter > 0:\n",
        "            final_count = roman_dict[j] + plus_counter\n",
        "        else:\n",
        "            final_count = roman_dict[j]\n",
        "        num_list.append(final_count)\n",
        "        # num_list.append(\"minus counter\"+str(minus_counter))\n",
        "        # backtrack to see if there are up to 3 i's before it\n",
        "        if sum(num_list) == 0:\n",
        "            result = len(s)\n",
        "        else:\n",
        "            result = sum(num_list)\n",
        "    return num_list\n",
        "\n",
        "romanToInt(\"MCMXCIV\")"
      ],
      "execution_count": 11,
      "outputs": [
        {
          "output_type": "execute_result",
          "data": {
            "text/plain": [
              "[1100, 0, 900, 0, 0, 0, 4]"
            ]
          },
          "metadata": {
            "tags": []
          },
          "execution_count": 11
        }
      ]
    },
    {
      "cell_type": "code",
      "metadata": {
        "id": "Xb_iCfkWOwS4",
        "colab_type": "code",
        "colab": {
          "base_uri": "https://localhost:8080/",
          "height": 34
        },
        "outputId": "303a70b0-4e8f-4caf-f925-c7dd29d529dc"
      },
      "source": [
        "s = 'II'\n",
        "all(s == 'I' for s in 'IX')"
      ],
      "execution_count": 255,
      "outputs": [
        {
          "output_type": "execute_result",
          "data": {
            "text/plain": [
              "False"
            ]
          },
          "metadata": {
            "tags": []
          },
          "execution_count": 255
        }
      ]
    },
    {
      "cell_type": "code",
      "metadata": {
        "id": "RBX6-CcBPymn",
        "colab_type": "code",
        "colab": {
          "base_uri": "https://localhost:8080/",
          "height": 34
        },
        "outputId": "ef5efc1a-37da-4d5f-ac5e-1a87fa2a119b"
      },
      "source": [
        "def romanToInt(s):\n",
        "    num_list = []\n",
        "    roman_dict = {\"I\":1,\"V\":5,\"X\":10,\"L\":50,\"C\":100,\"D\":500,\"M\":1000}\n",
        "    final_count = 0\n",
        "    for i,j in enumerate(s): \n",
        "        final_count = roman_dict[j]\n",
        "        if i > 0:\n",
        "            try:\n",
        "                if roman_dict[s[i-1]] < roman_dict[j]: # subtraction\n",
        "                    final_count = (roman_dict[j] - (roman_dict[s[i-1]]))\n",
        "                    num_list.append((roman_dict[s[i-1]])*-1)\n",
        "            except IndexError:\n",
        "                pass\n",
        "\n",
        "        try:     \n",
        "            if (final_count == 0) and (roman_dict[j] > roman_dict[s[i+2]]) and (roman_dict[s[i+1]] == roman_dict[s[i+2]]):\n",
        "                final_count = roman_dict[j] + roman_dict[s[i+1]] + roman_dict[s[i+2]]\n",
        "                num_list.append((roman_dict[s[i+1]])*-1)\n",
        "                num_list.append((roman_dict[s[i+2]])*-1)\n",
        "        except IndexError:\n",
        "            pass\n",
        "        try:     \n",
        "            if (final_count == 0) and (roman_dict[j] > roman_dict[s[i+2]]) and (roman_dict[s[i+1]] == roman_dict[s[i+2]]) and (roman_dict[s[i+2]] == roman_dict[s[i+3]]):\n",
        "                final_count = roman_dict[j] + roman_dict[s[i+1]] + roman_dict[s[i+2]] + roman_dict[s[i+3]]\n",
        "                num_list.append((roman_dict[s[i+1]])*-1)\n",
        "                num_list.append((roman_dict[s[i+2]])*-1)\n",
        "                num_list.append((roman_dict[s[i+3]])*-1)\n",
        "        except IndexError:\n",
        "            pass\n",
        "        num_list.append(final_count)\n",
        "    if sum(num_list) == 0:\n",
        "        result = len(s)\n",
        "    else:\n",
        "        result = sum(num_list)\n",
        "    return num_list\n",
        "\n",
        "romanToInt(\"IX\")"
      ],
      "execution_count": 125,
      "outputs": [
        {
          "output_type": "execute_result",
          "data": {
            "text/plain": [
              "[1, -1, 9]"
            ]
          },
          "metadata": {
            "tags": []
          },
          "execution_count": 125
        }
      ]
    },
    {
      "cell_type": "code",
      "metadata": {
        "id": "O2_pST0D1cJW",
        "colab_type": "code",
        "colab": {
          "base_uri": "https://localhost:8080/",
          "height": 34
        },
        "outputId": "6b07df0e-91de-40d1-96eb-79dc2c2eb7af"
      },
      "source": [
        "roman_dict = {\"I\":1,\"V\":5,\"X\":10,\"L\":50,\"C\":100,\"D\":500,\"M\":1000}\n",
        "print(roman_dict[\"L\"])"
      ],
      "execution_count": 15,
      "outputs": [
        {
          "output_type": "stream",
          "text": [
            "50\n"
          ],
          "name": "stdout"
        }
      ]
    },
    {
      "cell_type": "code",
      "metadata": {
        "id": "c_CAyq2B1qgL",
        "colab_type": "code",
        "colab": {}
      },
      "source": [
        ""
      ],
      "execution_count": null,
      "outputs": []
    }
  ]
}