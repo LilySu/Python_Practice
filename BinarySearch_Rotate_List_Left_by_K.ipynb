{
  "nbformat": 4,
  "nbformat_minor": 0,
  "metadata": {
    "colab": {
      "name": "BinarySearch_Rotate_List_Left_by_K.ipynb",
      "provenance": [],
      "authorship_tag": "ABX9TyMQ7jXnBqlXSzmF0ONPzUqq",
      "include_colab_link": true
    },
    "kernelspec": {
      "name": "python3",
      "display_name": "Python 3"
    }
  },
  "cells": [
    {
      "cell_type": "markdown",
      "metadata": {
        "id": "view-in-github",
        "colab_type": "text"
      },
      "source": [
        "<a href=\"https://colab.research.google.com/github/LilySu/Python_Practice/blob/master/BinarySearch_Rotate_List_Left_by_K.ipynb\" target=\"_parent\"><img src=\"https://colab.research.google.com/assets/colab-badge.svg\" alt=\"Open In Colab\"/></a>"
      ]
    },
    {
      "cell_type": "markdown",
      "metadata": {
        "id": "phAebXdGIAWs"
      },
      "source": [
        "Write a function that rotates a list of numbers to the left by k elements. For example, [1, 2, 3, 4, 5, 6] rotated by 2 becomes [3, 4, 5, 6, 1, 2]. Numbers should wrap around.\n",
        "\n",
        "Note: The list is guaranteed to have at least one element, and k is guaranteed to be less than or equal to the length of the list.\n",
        "\n",
        "Bonus: Do this without creating a copy of the list. How many swap or move operations do you need?\n",
        "```\n",
        "Constraints\n",
        "\n",
        "n ≤ 100,000 where n is the length of nums\n",
        "Example 1\n",
        "Input\n",
        "\n",
        "nums = [1, 2, 3, 4, 5, 6]\n",
        "k = 2\n",
        "Output\n",
        "\n",
        "[3, 4, 5, 6, 1, 2]\n",
        "Example 2\n",
        "Input\n",
        "\n",
        "nums = [1, 2, 3, 4, 5, 6]\n",
        "k = 6\n",
        "Output\n",
        "\n",
        "[1, 2, 3, 4, 5, 6]\n",
        "Example 3\n",
        "Input\n",
        "\n",
        "nums = [1]\n",
        "k = 0\n",
        "Output\n",
        "\n",
        "[1]\n",
        "```"
      ]
    },
    {
      "cell_type": "code",
      "metadata": {
        "id": "qjtd6jPmH52B"
      },
      "source": [
        "class Solution:\n",
        "    def solve(self, nums, k):\n",
        "        return nums[k:] + nums[:k]"
      ],
      "execution_count": null,
      "outputs": []
    },
    {
      "cell_type": "code",
      "metadata": {
        "id": "maPvxScCH7z-"
      },
      "source": [
        "class Solution:\n",
        "    def solve(self, nums, k):\n",
        "        r = slice(k)\n",
        "        return nums[k:] + nums[r]"
      ],
      "execution_count": null,
      "outputs": []
    }
  ]
}