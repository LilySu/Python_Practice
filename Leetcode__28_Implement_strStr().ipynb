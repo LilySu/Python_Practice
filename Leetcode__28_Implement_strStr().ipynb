{
  "nbformat": 4,
  "nbformat_minor": 0,
  "metadata": {
    "colab": {
      "name": "Leetcode_#28_Implement_strStr().ipynb",
      "provenance": [],
      "authorship_tag": "ABX9TyMPS3c7zwv97Uf02VULtjr2",
      "include_colab_link": true
    },
    "kernelspec": {
      "name": "python3",
      "display_name": "Python 3"
    }
  },
  "cells": [
    {
      "cell_type": "markdown",
      "metadata": {
        "id": "view-in-github",
        "colab_type": "text"
      },
      "source": [
        "<a href=\"https://colab.research.google.com/github/LilySu/Python_Practice/blob/master/Leetcode__28_Implement_strStr().ipynb\" target=\"_parent\"><img src=\"https://colab.research.google.com/assets/colab-badge.svg\" alt=\"Open In Colab\"/></a>"
      ]
    },
    {
      "cell_type": "markdown",
      "metadata": {
        "id": "j3u2JoG9ZLC8",
        "colab_type": "text"
      },
      "source": [
        "Implement strStr().\n",
        "\n",
        "Return the index of the first occurrence of needle in haystack, or -1 if needle is not part of haystack.\n",
        "\n",
        "```\n",
        "Example 1:\n",
        "\n",
        "Input: haystack = \"hello\", needle = \"ll\"\n",
        "Output: 2\n",
        "Example 2:\n",
        "\n",
        "Input: haystack = \"aaaaa\", needle = \"bba\"\n",
        "Output: -1\n",
        "Clarification:\n",
        "```\n",
        "\n",
        "What should we return when needle is an empty string? This is a great question to ask during an interview.\n",
        "\n",
        "For the purpose of this problem, we will return 0 when needle is an empty string. This is consistent to C's strstr() and Java's indexOf()."
      ]
    },
    {
      "cell_type": "code",
      "metadata": {
        "id": "iN7ngvOwYzmX",
        "colab_type": "code",
        "colab": {}
      },
      "source": [
        "class Solution(object):\n",
        "    def strStr(self, haystack, needle):\n",
        "        \"\"\"\n",
        "        :type haystack: str\n",
        "        :type needle: str\n",
        "        :rtype: int\n",
        "        \"\"\""
      ],
      "execution_count": null,
      "outputs": []
    },
    {
      "cell_type": "code",
      "metadata": {
        "id": "QHdRdYB-evAa",
        "colab_type": "code",
        "colab": {}
      },
      "source": [
        "class Solution(object):\n",
        "    def strStr(self, haystack, needle):\n",
        "        \"\"\"\n",
        "        :type haystack: str\n",
        "        :type needle: str\n",
        "        :rtype: int\n",
        "        \"\"\"\n",
        "        if needle in haystack:\n",
        "            return haystack.index(needle)\n",
        "        else:\n",
        "            return -1"
      ],
      "execution_count": null,
      "outputs": []
    }
  ]
}