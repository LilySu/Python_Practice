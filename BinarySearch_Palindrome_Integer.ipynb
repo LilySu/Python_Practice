{
  "nbformat": 4,
  "nbformat_minor": 0,
  "metadata": {
    "colab": {
      "name": "BinarySearch_Palindrome_Integer.ipynb",
      "provenance": [],
      "authorship_tag": "ABX9TyPEWQKGZkDSxMIAa0lrNEXX",
      "include_colab_link": true
    },
    "kernelspec": {
      "name": "python3",
      "display_name": "Python 3"
    }
  },
  "cells": [
    {
      "cell_type": "markdown",
      "metadata": {
        "id": "view-in-github",
        "colab_type": "text"
      },
      "source": [
        "<a href=\"https://colab.research.google.com/github/LilySu/Python_Practice/blob/master/BinarySearch_Palindrome_Integer.ipynb\" target=\"_parent\"><img src=\"https://colab.research.google.com/assets/colab-badge.svg\" alt=\"Open In Colab\"/></a>"
      ]
    },
    {
      "cell_type": "code",
      "metadata": {
        "id": "D1YKZp0ki_HY",
        "outputId": "358e0e1e-91fc-4179-a004-61dc447427f8",
        "colab": {
          "base_uri": "https://localhost:8080/"
        }
      },
      "source": [
        "def solve(num):\n",
        "        num = str(num)\n",
        "        if len(num) <= 1:\n",
        "            return True\n",
        "        else:\n",
        "            return any(num[i]==num[~i] for i in range(len(num) // 2))\n",
        "\n",
        "num = 329329\n",
        "solve(num)"
      ],
      "execution_count": 2,
      "outputs": [
        {
          "output_type": "stream",
          "text": [
            "329329\n"
          ],
          "name": "stdout"
        },
        {
          "output_type": "execute_result",
          "data": {
            "text/plain": [
              "True"
            ]
          },
          "metadata": {
            "tags": []
          },
          "execution_count": 2
        }
      ]
    },
    {
      "cell_type": "code",
      "metadata": {
        "id": "fvX-zcZwjHTb",
        "outputId": "6c150a0c-f804-46b3-c1e0-a6b15c44b6ed",
        "colab": {
          "base_uri": "https://localhost:8080/",
          "height": 35
        }
      },
      "source": [
        "num = '329329'\n",
        "num[::-1]"
      ],
      "execution_count": 5,
      "outputs": [
        {
          "output_type": "execute_result",
          "data": {
            "application/vnd.google.colaboratory.intrinsic+json": {
              "type": "string"
            },
            "text/plain": [
              "'923923'"
            ]
          },
          "metadata": {
            "tags": []
          },
          "execution_count": 5
        }
      ]
    },
    {
      "cell_type": "code",
      "metadata": {
        "id": "_tc5JeUUm8GY"
      },
      "source": [
        "        if len(num) <= 1:\n",
        "            return True\n",
        "        else:\n",
        "            return all(num[i]==num[~i] for i in range(len(num) // 2))"
      ],
      "execution_count": null,
      "outputs": []
    },
    {
      "cell_type": "code",
      "metadata": {
        "id": "Mb3jDxjajWcP"
      },
      "source": [
        "class Solution:\n",
        "    def solve(self, num):\n",
        "        reversed = 0\n",
        "        current = num\n",
        "        while current > # 0: 121 > 0, 12 > 0, 1 > 0\n",
        "            reversed *= 10 # 0 | 10 | 200\n",
        "            calculation = current % 10 # 1 | 2 | \n",
        "            reversed += calculation # 1 | 20\n",
        "            curret = current // 10 # 12 | 1\n",
        "        if reversed == num:\n",
        "            return True\n",
        "        return False"
      ],
      "execution_count": null,
      "outputs": []
    },
    {
      "cell_type": "code",
      "metadata": {
        "id": "bMBOU1dfoWZ3",
        "outputId": "d554b269-6baa-4d86-aab2-c8f173602825",
        "colab": {
          "base_uri": "https://localhost:8080/"
        }
      },
      "source": [
        "# list_of_numbers = '329923'\n",
        "# list_of_numbers = '121'\n",
        "\n",
        "list_of_numbers = ['7','2','3']\n",
        "\n",
        "def solve(list_of_numbers):\n",
        "    reversed_int = 0\n",
        "    for i in range(len(list_of_numbers)):\n",
        "        print('i:', i)\n",
        "        t = int(list_of_numbers[-(i + 1)]) * (10 ** (len(list_of_numbers) - (i+1)))\n",
        "        print('assign index: -(i + 1)',-(i + 1))\n",
        "        print(f'list_of_numbers[{-(i + 1)}]', list_of_numbers[-(i + 1)])\n",
        "        reversed_int += t\n",
        "        print('reversed_int', reversed_int)\n",
        "    return reversed_int == list_of_numbers\n",
        "solve(list_of_numbers)"
      ],
      "execution_count": 40,
      "outputs": [
        {
          "output_type": "stream",
          "text": [
            "i: 0\n",
            "assign index: -(i + 1) -1\n",
            "list_of_numbers[-1] 3\n",
            "reversed_int 300\n",
            "i: 1\n",
            "assign index: -(i + 1) -2\n",
            "list_of_numbers[-2] 2\n",
            "reversed_int 320\n",
            "i: 2\n",
            "assign index: -(i + 1) -3\n",
            "list_of_numbers[-3] 7\n",
            "reversed_int 327\n"
          ],
          "name": "stdout"
        },
        {
          "output_type": "execute_result",
          "data": {
            "text/plain": [
              "False"
            ]
          },
          "metadata": {
            "tags": []
          },
          "execution_count": 40
        }
      ]
    },
    {
      "cell_type": "code",
      "metadata": {
        "id": "HaowuBw5pQc9"
      },
      "source": [
        ""
      ],
      "execution_count": null,
      "outputs": []
    }
  ]
}