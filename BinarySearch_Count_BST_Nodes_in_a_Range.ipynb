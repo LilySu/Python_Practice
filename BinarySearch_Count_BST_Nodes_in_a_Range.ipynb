{
  "nbformat": 4,
  "nbformat_minor": 0,
  "metadata": {
    "colab": {
      "name": "BinarySearch_Count BST Nodes in a Range.ipynb",
      "provenance": [],
      "authorship_tag": "ABX9TyPOCoGPNXFRmxvVxE/kMQbc",
      "include_colab_link": true
    },
    "kernelspec": {
      "name": "python3",
      "display_name": "Python 3"
    }
  },
  "cells": [
    {
      "cell_type": "markdown",
      "metadata": {
        "id": "view-in-github",
        "colab_type": "text"
      },
      "source": [
        "<a href=\"https://colab.research.google.com/github/LilySu/Python_Practice/blob/master/BinarySearch_Count_BST_Nodes_in_a_Range.ipynb\" target=\"_parent\"><img src=\"https://colab.research.google.com/assets/colab-badge.svg\" alt=\"Open In Colab\"/></a>"
      ]
    },
    {
      "cell_type": "markdown",
      "metadata": {
        "id": "1LSRaVBBp1XC"
      },
      "source": [
        "Given a binary search tree root, and integers lo and hi, return the count of all nodes in root whose values are between [lo, hi] (inclusive).\n",
        "\n",
        "Constraints\n",
        "\n",
        "n ≤ 100,000 where n is the number of nodes in root\n",
        "Example 1\n",
        "Input\n",
        "Visualize Tree\n",
        "root =\n",
        "3\n",
        "\n",
        "2\n",
        "\n",
        "9\n",
        "\n",
        "7\n",
        "\n",
        "12\n",
        "\n",
        "4\n",
        "\n",
        "8\n",
        "\n",
        "lo = 5\n",
        "hi = 10\n",
        "Output\n",
        "3\n",
        "Explanation\n",
        "Only 7, 8, 9 are between [5, 10]."
      ]
    },
    {
      "cell_type": "code",
      "metadata": {
        "id": "PRJ7912NpbYa"
      },
      "source": [
        "# class Tree:\n",
        "#     def __init__(self, val, left=None, right=None):\n",
        "#         self.val = val\n",
        "#         self.left = left\n",
        "#         self.right = right\n",
        "class Solution:\n",
        "    def solve(self, root, lo, hi):\n",
        "        if root is None:\n",
        "            return 0\n",
        "        if root.val >= lo and root.val <= hi:\n",
        "            return 1 + self.volve(root.left, lo, hi) + self.solve(root.right, lo, hi)\n",
        "        elif root.val < lo:\n",
        "            return self.solve(root.right, lo, hi)\n",
        "        else:\n",
        "            return self.solve(root.left, lo, hi)"
      ],
      "execution_count": null,
      "outputs": []
    }
  ]
}