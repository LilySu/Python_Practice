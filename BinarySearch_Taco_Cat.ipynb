{
  "nbformat": 4,
  "nbformat_minor": 0,
  "metadata": {
    "colab": {
      "name": "BinarySearch_Taco_Cat.ipynb",
      "provenance": [],
      "authorship_tag": "ABX9TyO7eX9CY52gv3QSna486Dy3",
      "include_colab_link": true
    },
    "kernelspec": {
      "name": "python3",
      "display_name": "Python 3"
    }
  },
  "cells": [
    {
      "cell_type": "markdown",
      "metadata": {
        "id": "view-in-github",
        "colab_type": "text"
      },
      "source": [
        "<a href=\"https://colab.research.google.com/github/LilySu/Python_Practice/blob/master/BinarySearch_Taco_Cat.ipynb\" target=\"_parent\"><img src=\"https://colab.research.google.com/assets/colab-badge.svg\" alt=\"Open In Colab\"/></a>"
      ]
    },
    {
      "cell_type": "markdown",
      "metadata": {
        "id": "dZq2HPYh7jaN"
      },
      "source": [
        "Given a string s, return whether it is a palindrome. A palindrome is when the word is the same forwards and backwards.\n",
        "```\n",
        "For example, \"tacocat\" is a palindrome.\n",
        "\n",
        "Example 1\n",
        "Input\n",
        "\n",
        "s = \"racecar\"\n",
        "Output\n",
        "\n",
        "True\n",
        "Example 2\n",
        "Input\n",
        "\n",
        "s = \"evilolive\"\n",
        "Output\n",
        "\n",
        "True\n",
        "Example 3\n",
        "Input\n",
        "\n",
        "s = \"palindrome\"\n",
        "Output\n",
        "\n",
        "False\n",
        "```"
      ]
    },
    {
      "cell_type": "code",
      "metadata": {
        "id": "IwDJKT057BnI"
      },
      "source": [
        "class Solution:\n",
        "    def solve(self, s):\n",
        "        return s == s[::-1]"
      ],
      "execution_count": null,
      "outputs": []
    },
    {
      "cell_type": "code",
      "metadata": {
        "id": "GQv52g247-0R"
      },
      "source": [
        "return list(s) == list(reversed(s))"
      ],
      "execution_count": null,
      "outputs": []
    },
    {
      "cell_type": "code",
      "metadata": {
        "id": "O2HbIF5E7DX5"
      },
      "source": [
        "# You want to check that each digit `s[i]` equals the corresponding digit from right-to-left `s[~i]`. To do this without creating a new string, we should iterate over each index. Actually, we only need to iterate over half the indexes.\n",
        "\n",
        "# all() return true when all items true\n",
        "# Tilde ~ in Python? Python's Tilde ~n operator is the bitwise negation operator: \n",
        "# it takes the number n as binary number and “flips” all bits 0 to 1 and 1 to 0 \n",
        "# to obtain the complement binary number. For example, the tilde operation ~1 \n",
        "# becomes 0 and ~0 becomes 1 and ~101 becomes 010 .\n",
        "\n",
        "class Solution:\n",
        "    def solve(self, s):\n",
        "        return all(s[i] == s[~i] for i in range(len(s) // 2))"
      ],
      "execution_count": null,
      "outputs": []
    },
    {
      "cell_type": "markdown",
      "metadata": {
        "id": "-ulCjfvD-Hm2"
      },
      "source": [
        "It is a unary operator (taking a single argument) that is borrowed from C, where all data types are just different ways of interpreting bytes. It is the \"invert\" or \"complement\" operation, in which all the bits of the input data are reversed.\n",
        "\n",
        "In Python, for integers, the bits of the twos-complement representation of the integer are reversed (as in b <- b XOR 1 for each individual bit), and the result interpreted again as a twos-complement integer. So for integers, ~x is equivalent to (-x) - 1.\n",
        "\n",
        "The reified form of the ~ operator is provided as operator.invert. To support this operator in your own class, give it an __invert__(self) method.\n",
        "\n",
        ">>> import operator\n",
        ">>> class Foo:\n",
        "...   def __invert__(self):\n",
        "...     print 'invert'\n",
        "...\n",
        ">>> x = Foo()\n",
        ">>> operator.invert(x)\n",
        "invert\n",
        ">>> ~x\n",
        "invert\n",
        "Any class in which it is meaningful to have a \"complement\" or \"inverse\" of an instance that is also an instance of the same class is a possible candidate for the invert operator. However, operator overloading can lead to confusion if misused, so be sure that it really makes sense to do so before supplying an __invert__ method to your class. (Note that byte-strings [ex: '\\xff'] do not support this operator, even though it is meaningful to invert all the bits of a byte-string.)"
      ]
    },
    {
      "cell_type": "markdown",
      "metadata": {
        "id": "vHbwwHW7_RAl"
      },
      "source": [
        "A unary operator is one that takes a single operand/argument and performs an operation. A unary operation is an operation with only one operand. This operand comes either before or after the operator. Unary operators are more efficient than standard JavaScript function calls."
      ]
    },
    {
      "cell_type": "code",
      "metadata": {
        "id": "hb_wnrCs-GPS"
      },
      "source": [
        "# ~ is the bitwise complement operator in python which essentially calculates -x - 1\n",
        "\n",
        "# So a table would look like\n",
        "\n",
        "i  ~i  \n",
        "0  -1\n",
        "1  -2\n",
        "2  -3\n",
        "3  -4 \n",
        "4  -5 \n",
        "5  -6"
      ],
      "execution_count": null,
      "outputs": []
    }
  ]
}