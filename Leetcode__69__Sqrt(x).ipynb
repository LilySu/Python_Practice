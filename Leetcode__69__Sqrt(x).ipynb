{
  "nbformat": 4,
  "nbformat_minor": 0,
  "metadata": {
    "colab": {
      "name": "Leetcode_#69._Sqrt(x).ipynb",
      "provenance": [],
      "authorship_tag": "ABX9TyMnVMSZZtQfyOev7IKNB5CH",
      "include_colab_link": true
    },
    "kernelspec": {
      "name": "python3",
      "display_name": "Python 3"
    }
  },
  "cells": [
    {
      "cell_type": "markdown",
      "metadata": {
        "id": "view-in-github",
        "colab_type": "text"
      },
      "source": [
        "<a href=\"https://colab.research.google.com/github/LilySu/Python_Practice/blob/master/Leetcode__69__Sqrt(x).ipynb\" target=\"_parent\"><img src=\"https://colab.research.google.com/assets/colab-badge.svg\" alt=\"Open In Colab\"/></a>"
      ]
    },
    {
      "cell_type": "markdown",
      "metadata": {
        "id": "K9VnbmJkCZiE",
        "colab_type": "text"
      },
      "source": [
        "Implement int sqrt(int x).\n",
        "\n",
        "Compute and return the square root of x, where x is guaranteed to be a non-negative integer.\n",
        "\n",
        "Since the return type is an integer, the decimal digits are truncated and only the integer part of the result is returned.\n",
        "```\n",
        "Example 1:\n",
        "\n",
        "Input: 4\n",
        "Output: 2\n",
        "Example 2:\n",
        "\n",
        "Input: 8\n",
        "Output: 2\n",
        "Explanation: The square root of 8 is 2.82842..., and since \n",
        "             the decimal part is truncated, 2 is returned.\n",
        "```"
      ]
    },
    {
      "cell_type": "code",
      "metadata": {
        "id": "dBCC_MCHB6Rv",
        "colab_type": "code",
        "colab": {}
      },
      "source": [
        "class Solution(object):\n",
        "    def mySqrt(self, x):\n",
        "        \"\"\"\n",
        "        :type x: int\n",
        "        :rtype: int\n",
        "        \"\"\"\n",
        "        sq = math.floor(sqrt(x))\n",
        "        return int(sq)"
      ],
      "execution_count": null,
      "outputs": []
    },
    {
      "cell_type": "code",
      "metadata": {
        "id": "MLRT4dkJDOkj",
        "colab_type": "code",
        "colab": {}
      },
      "source": [
        ""
      ],
      "execution_count": null,
      "outputs": []
    }
  ]
}