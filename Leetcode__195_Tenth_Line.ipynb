{
  "nbformat": 4,
  "nbformat_minor": 0,
  "metadata": {
    "colab": {
      "name": "Leetcode_#195_Tenth_Line.ipynb",
      "provenance": [],
      "authorship_tag": "ABX9TyOYrRTdtekeuTlsZsEWyHav",
      "include_colab_link": true
    },
    "kernelspec": {
      "name": "python3",
      "display_name": "Python 3"
    }
  },
  "cells": [
    {
      "cell_type": "markdown",
      "metadata": {
        "id": "view-in-github",
        "colab_type": "text"
      },
      "source": [
        "<a href=\"https://colab.research.google.com/github/LilySu/Python_Practice/blob/master/Leetcode__195_Tenth_Line.ipynb\" target=\"_parent\"><img src=\"https://colab.research.google.com/assets/colab-badge.svg\" alt=\"Open In Colab\"/></a>"
      ]
    },
    {
      "cell_type": "markdown",
      "metadata": {
        "id": "OTcojiZ3Ksy5",
        "colab_type": "text"
      },
      "source": [
        "Given a text file file.txt, print just the 10th line of the file.\n",
        "\n",
        "Example:\n",
        "\n",
        "Assume that file.txt has the following content:\n",
        "```\n",
        "Line 1\n",
        "Line 2\n",
        "Line 3\n",
        "Line 4\n",
        "Line 5\n",
        "Line 6\n",
        "Line 7\n",
        "Line 8\n",
        "Line 9\n",
        "Line 10\n",
        "Your script should output the tenth line, which is:\n",
        "\n",
        "Line 10\n",
        "```\n",
        "Note:\n",
        "1. If the file contains less than 10 lines, what should you output?\n",
        "2. There's at least three different solutions. Try to explore all possibilities."
      ]
    },
    {
      "cell_type": "code",
      "metadata": {
        "id": "kN-jA1y-Kmop",
        "colab_type": "code",
        "colab": {}
      },
      "source": [
        "# this is a shell script\n",
        "sed -n \"10 p\" \"file.txt\""
      ],
      "execution_count": null,
      "outputs": []
    }
  ]
}