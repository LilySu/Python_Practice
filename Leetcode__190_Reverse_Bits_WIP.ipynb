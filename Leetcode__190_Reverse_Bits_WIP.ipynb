{
  "nbformat": 4,
  "nbformat_minor": 0,
  "metadata": {
    "colab": {
      "name": "Leetcode_#190_Reverse_Bits_WIP.ipynb",
      "provenance": [],
      "authorship_tag": "ABX9TyMeWeSROrvK/cleykk+ZQ05",
      "include_colab_link": true
    },
    "kernelspec": {
      "name": "python3",
      "display_name": "Python 3"
    }
  },
  "cells": [
    {
      "cell_type": "markdown",
      "metadata": {
        "id": "view-in-github",
        "colab_type": "text"
      },
      "source": [
        "<a href=\"https://colab.research.google.com/github/LilySu/Python_Practice/blob/master/Leetcode__190_Reverse_Bits_WIP.ipynb\" target=\"_parent\"><img src=\"https://colab.research.google.com/assets/colab-badge.svg\" alt=\"Open In Colab\"/></a>"
      ]
    },
    {
      "cell_type": "markdown",
      "metadata": {
        "id": "lM0nAbD3wQEW",
        "colab_type": "text"
      },
      "source": [
        "Reverse bits of a given 32 bits unsigned integer.\n",
        "\n",
        " ```\n",
        "\n",
        "Example 1:\n",
        "\n",
        "Input: 00000010100101000001111010011100\n",
        "Output: 00111001011110000010100101000000\n",
        "Explanation: The input binary string 00000010100101000001111010011100 represents the unsigned integer 43261596, so return 964176192 which its binary representation is 00111001011110000010100101000000.\n",
        "Example 2:\n",
        "\n",
        "Input: 11111111111111111111111111111101\n",
        "Output: 10111111111111111111111111111111\n",
        "Explanation: The input binary string 11111111111111111111111111111101 represents the unsigned integer 4294967293, so return 3221225471 which its binary representation is 10111111111111111111111111111111.\n",
        " \n",
        "```\n",
        "Note:\n",
        "\n",
        "Note that in some languages such as Java, there is no unsigned integer type. In this case, both input and output will be given as signed integer type and should not affect your implementation, as the internal binary representation of the integer is the same whether it is signed or unsigned.\n",
        "In Java, the compiler represents the signed integers using 2's complement notation. Therefore, in Example 2 above the input represents the signed integer -3 and the output represents the signed integer -1073741825.\n",
        " \n",
        "\n",
        "Follow up:\n",
        "\n",
        "If this function is called many times, how would you optimize it?"
      ]
    },
    {
      "cell_type": "code",
      "metadata": {
        "id": "yvFmKxzqwM6_",
        "colab_type": "code",
        "colab": {
          "base_uri": "https://localhost:8080/",
          "height": 34
        },
        "outputId": "79c310c5-d815-4a11-de21-b0784d5bcf75"
      },
      "source": [
        "s = '00000010100101000001111010011100'\n",
        "int(s, 2)"
      ],
      "execution_count": 3,
      "outputs": [
        {
          "output_type": "execute_result",
          "data": {
            "text/plain": [
              "43261596"
            ]
          },
          "metadata": {
            "tags": []
          },
          "execution_count": 3
        }
      ]
    },
    {
      "cell_type": "code",
      "metadata": {
        "id": "1ZPjH4pPxDAP",
        "colab_type": "code",
        "colab": {
          "base_uri": "https://localhost:8080/",
          "height": 34
        },
        "outputId": "0762fbc2-2c0a-4c18-b8cf-80c3667a1700"
      },
      "source": [
        "s = '00000010100101000001111010011100'\n",
        "ins = int(s, 2)\n",
        "\n",
        "def reverse_number(n):\n",
        "    r = 0\n",
        "    while n > 0:\n",
        "        r *= 10\n",
        "        r += n % 10\n",
        "        n //= 10\n",
        "    return r\n",
        "\n",
        "print(reverse_number(ins))"
      ],
      "execution_count": 7,
      "outputs": [
        {
          "output_type": "stream",
          "text": [
            "69516234\n"
          ],
          "name": "stdout"
        }
      ]
    },
    {
      "cell_type": "code",
      "metadata": {
        "id": "CUAxxP0txrUL",
        "colab_type": "code",
        "colab": {}
      },
      "source": [
        ""
      ],
      "execution_count": null,
      "outputs": []
    }
  ]
}