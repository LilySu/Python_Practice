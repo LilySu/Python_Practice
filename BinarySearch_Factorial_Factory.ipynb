{
  "nbformat": 4,
  "nbformat_minor": 0,
  "metadata": {
    "colab": {
      "name": "BinarySearch_Factorial_Factory.ipynb",
      "provenance": [],
      "collapsed_sections": [],
      "authorship_tag": "ABX9TyPsIlLJ2p26m2uvD0I0AFtN",
      "include_colab_link": true
    },
    "kernelspec": {
      "name": "python3",
      "display_name": "Python 3"
    }
  },
  "cells": [
    {
      "cell_type": "markdown",
      "metadata": {
        "id": "view-in-github",
        "colab_type": "text"
      },
      "source": [
        "<a href=\"https://colab.research.google.com/github/LilySu/Python_Practice/blob/master/BinarySearch_Factorial_Factory.ipynb\" target=\"_parent\"><img src=\"https://colab.research.google.com/assets/colab-badge.svg\" alt=\"Open In Colab\"/></a>"
      ]
    },
    {
      "cell_type": "markdown",
      "metadata": {
        "id": "Oc8tY9aHjXcG"
      },
      "source": [
        "Given an integer n less than or equal to 10, compute its factorial.\n",
        "\n",
        "The factorial of a number n is defined as n * (n - 1) * (n - 2) * ... * 1.\n",
        "```\n",
        "Example 1\n",
        "Input\n",
        "\n",
        "n = 5\n",
        "Output\n",
        "\n",
        "120\n",
        "Explanation\n",
        "\n",
        "5 * 4 * 3 * 2 * 1 = 120\n",
        "```"
      ]
    },
    {
      "cell_type": "code",
      "metadata": {
        "id": "ab3JbbVfbpWc",
        "outputId": "c80fcf23-6a8c-4fc1-898c-a9e14ee6d62b",
        "colab": {
          "base_uri": "https://localhost:8080/",
          "height": 86
        }
      },
      "source": [
        "n = 3\n",
        "def solve(n):\n",
        "    r = 1\n",
        "    while n > 0:\n",
        "        print(f\"n:{n} r:{r}\")\n",
        "        r *= n\n",
        "        n -= 1\n",
        "    return r\n",
        "solve(n)"
      ],
      "execution_count": 6,
      "outputs": [
        {
          "output_type": "stream",
          "text": [
            "n:3 r:1\n",
            "n:2 r:3\n",
            "n:1 r:6\n"
          ],
          "name": "stdout"
        },
        {
          "output_type": "execute_result",
          "data": {
            "text/plain": [
              "6"
            ]
          },
          "metadata": {
            "tags": []
          },
          "execution_count": 6
        }
      ]
    },
    {
      "cell_type": "code",
      "metadata": {
        "id": "dte6YRAsjJnh"
      },
      "source": [
        "# def solve(self, n):\n",
        "#     r = 1\n",
        "#     for i in range(1, n+1):\n",
        "#         r = r * i\n",
        "#     return r\n",
        "from functools import reduce \n",
        "r = []\n",
        "if n == 0:\n",
        "    return 1\n",
        "for i in range(1, n+1):\n",
        "    r.append(i)\n",
        "r = reduce((lambda x, y: x*y), r)\n",
        "return r"
      ],
      "execution_count": null,
      "outputs": []
    },
    {
      "cell_type": "code",
      "metadata": {
        "id": "rpWBslUqcCbo",
        "outputId": "44601fb6-500e-4838-d758-56a6b6984bdc",
        "colab": {
          "base_uri": "https://localhost:8080/",
          "height": 34
        }
      },
      "source": [
        "def solve(n):\n",
        "    if n == 1:\n",
        "        return n\n",
        "    else:\n",
        "        return n * solve(n-1)\n",
        "n = 3\n",
        "solve(n)\n",
        "\n",
        "# solve(3) \n",
        "# 3 * solve(2)\n",
        "# 2 * solve(1)\n",
        "# 1 * solve(1)\n",
        "# returns 1\n",
        "\n",
        "# "
      ],
      "execution_count": 8,
      "outputs": [
        {
          "output_type": "execute_result",
          "data": {
            "text/plain": [
              "6"
            ]
          },
          "metadata": {
            "tags": []
          },
          "execution_count": 8
        }
      ]
    },
    {
      "cell_type": "code",
      "metadata": {
        "id": "h1l-9EBAeVtz",
        "outputId": "9c7ad4d3-acc6-4d5f-c76f-c02169b6a2cf",
        "colab": {
          "base_uri": "https://localhost:8080/",
          "height": 34
        }
      },
      "source": [
        "class Solution:\n",
        "    def solve(self, n):\n",
        "        if n == 1:\n",
        "            return n\n",
        "        else:\n",
        "            return n * self.solve(n-1)\n",
        "n=6\n",
        "s = Solution()\n",
        "s.solve(n)\n"
      ],
      "execution_count": 12,
      "outputs": [
        {
          "output_type": "execute_result",
          "data": {
            "text/plain": [
              "720"
            ]
          },
          "metadata": {
            "tags": []
          },
          "execution_count": 12
        }
      ]
    },
    {
      "cell_type": "code",
      "metadata": {
        "id": "XSuino4BelNJ"
      },
      "source": [
        ""
      ],
      "execution_count": null,
      "outputs": []
    }
  ]
}