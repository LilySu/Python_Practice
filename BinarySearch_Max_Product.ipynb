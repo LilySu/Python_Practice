{
  "nbformat": 4,
  "nbformat_minor": 0,
  "metadata": {
    "colab": {
      "name": "BinarySearch_Max_Product.ipynb",
      "provenance": [],
      "authorship_tag": "ABX9TyMhth0CNzQnnU9zx8g5HUcj",
      "include_colab_link": true
    },
    "kernelspec": {
      "name": "python3",
      "display_name": "Python 3"
    }
  },
  "cells": [
    {
      "cell_type": "markdown",
      "metadata": {
        "id": "view-in-github",
        "colab_type": "text"
      },
      "source": [
        "<a href=\"https://colab.research.google.com/github/LilySu/Python_Practice/blob/master/BinarySearch_Max_Product.ipynb\" target=\"_parent\"><img src=\"https://colab.research.google.com/assets/colab-badge.svg\" alt=\"Open In Colab\"/></a>"
      ]
    },
    {
      "cell_type": "markdown",
      "metadata": {
        "id": "6K7PGlCYxu8t"
      },
      "source": [
        "Given a list of integers, find the largest product of two distinct elements.\n",
        "```\n",
        "Example 1\n",
        "Input\n",
        "\n",
        "nums = [5, 1, 7]\n",
        "Output\n",
        "\n",
        "35\n",
        "Explanation\n",
        "\n",
        "35 is the largest product that can be made from 5 * 7\n",
        "\n",
        "Example 2\n",
        "Input\n",
        "\n",
        "nums = [7, 1, 7]\n",
        "Output\n",
        "\n",
        "49\n",
        "Explanation\n",
        "\n",
        "49 is the largest product that can be made from 7 * 7. The values can be the same but they must be separate elements.\n",
        "\n",
        "Example 3\n",
        "Input\n",
        "\n",
        "nums = [-5, 1, -7]\n",
        "Output\n",
        "\n",
        "35\n",
        "Explanation\n",
        "\n",
        "35 is the largest product that can be made from -5 * -7.\n",
        "```"
      ]
    },
    {
      "cell_type": "code",
      "metadata": {
        "id": "Ta2-8Yvexb8S"
      },
      "source": [
        "class Solution:\n",
        "    def solve(self, nums):\n",
        "        nums.sort()\n",
        "        i = (len(nums) - 1)\n",
        "        maxx = float('-inf')\n",
        "        while i > 0:\n",
        "            maxx = max((nums[i] * nums[i - 1]), maxx)\n",
        "            i -= 1\n",
        "        return maxx"
      ],
      "execution_count": null,
      "outputs": []
    },
    {
      "cell_type": "code",
      "metadata": {
        "id": "Q-6rcXtAxhm3"
      },
      "source": [
        "class Solution:\n",
        "    def solve(self, nums):\n",
        "        nums.sort()\n",
        "        smallest = nums[0] * nums[1]\n",
        "        largest = nums[-1] * nums[-2]\n",
        "        if largest > smallest:\n",
        "            return largest\n",
        "        return smallest"
      ],
      "execution_count": null,
      "outputs": []
    }
  ]
}