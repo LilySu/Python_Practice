{
  "nbformat": 4,
  "nbformat_minor": 0,
  "metadata": {
    "colab": {
      "name": "Decorators_Practice.ipynb",
      "provenance": [],
      "authorship_tag": "ABX9TyO/gH0gmmxR3mVAOESc2O73",
      "include_colab_link": true
    },
    "kernelspec": {
      "name": "python3",
      "display_name": "Python 3"
    }
  },
  "cells": [
    {
      "cell_type": "markdown",
      "metadata": {
        "id": "view-in-github",
        "colab_type": "text"
      },
      "source": [
        "<a href=\"https://colab.research.google.com/github/LilySu/Python_Practice/blob/master/Decorators_Practice.ipynb\" target=\"_parent\"><img src=\"https://colab.research.google.com/assets/colab-badge.svg\" alt=\"Open In Colab\"/></a>"
      ]
    },
    {
      "cell_type": "code",
      "metadata": {
        "id": "AtWzRCWvtCTb"
      },
      "source": [
        "def my_decorator(function):\r\n",
        "    print(function)\r\n",
        "    return function\r\n",
        "\r\n",
        "@my_decorator\r\n",
        "def my_func():\r\n",
        "    pass"
      ],
      "execution_count": null,
      "outputs": []
    },
    {
      "cell_type": "code",
      "metadata": {
        "id": "Pe9bc9PuvXxB"
      },
      "source": [
        "def my_decorator(fn):\r\n",
        "    return 42\r\n",
        "\r\n",
        "@my_decorator\r\n",
        "def foo():\r\n",
        "    ...\r\n",
        "\r\n",
        "print(foo)"
      ],
      "execution_count": null,
      "outputs": []
    },
    {
      "cell_type": "code",
      "metadata": {
        "id": "8AHOz18fuytx"
      },
      "source": [
        "@decorator1\r\n",
        "@decorator2\r\n",
        "@decorator3\r\n",
        "def foo():\r\n",
        "    ...\r\n",
        "\r\n",
        "def foo():\r\n",
        "    ...\r\n",
        "foo = decorator3(foo)\r\n",
        "foo = decorator2(foo)\r\n",
        "foo = decorator1(foo)"
      ],
      "execution_count": null,
      "outputs": []
    },
    {
      "cell_type": "code",
      "metadata": {
        "colab": {
          "base_uri": "https://localhost:8080/"
        },
        "id": "Qj5JC5MuuvZR",
        "outputId": "2972b3b2-f1db-45ce-c442-043799f8468b"
      },
      "source": [
        "from time import perf_counter, sleep\r\n",
        "\r\n",
        "def time_decorator(func):\r\n",
        "  def wrapper():\r\n",
        "    start = perf_counter() # most accurate counter, counts 1 point to another point\r\n",
        "    func()\r\n",
        "    time_passed = perf_counter() - start\r\n",
        "    print(f\"The function took {time_passed} seconds.\")\r\n",
        "  return wrapper\r\n",
        "\r\n",
        "@time_decorator\r\n",
        "def tester():\r\n",
        "  sleep(2)\r\n",
        "\r\n",
        "tester()"
      ],
      "execution_count": 1,
      "outputs": [
        {
          "output_type": "stream",
          "text": [
            "The function took 2.0021034210000153 seconds.\n"
          ],
          "name": "stdout"
        }
      ]
    },
    {
      "cell_type": "code",
      "metadata": {
        "id": "A1GEe9dWu7PQ"
      },
      "source": [
        "class Student:\r\n",
        "  def __init__(self, name, age):\r\n",
        "    self.name = name\r\n",
        "    self.age = age\r\n",
        "\r\n",
        "sally = Student(\"Sally\", 5)\r\n",
        "billy = Student(\"Billy\", 7)"
      ],
      "execution_count": null,
      "outputs": []
    },
    {
      "cell_type": "code",
      "metadata": {
        "id": "4oPa2JGtxXjI"
      },
      "source": [
        "class Student:\r\n",
        "  def __init__(self, name, age):\r\n",
        "    self.name = name\r\n",
        "    self.age = age\r\n",
        "\r\n",
        "  def introduce(self):\r\n",
        "    print(f\"Hello, my name is {self.name}!  I am {self.age} years old.\")\r\n",
        "\r\n",
        "sally = Student(\"Sally\", 5)\r\n",
        "billy = Student(\"Billy\", 7)\r\n",
        "print(sally.__name__)"
      ],
      "execution_count": null,
      "outputs": []
    },
    {
      "cell_type": "code",
      "metadata": {
        "id": "6nSemFluxvdf"
      },
      "source": [
        "class Student:\r\n",
        "  def __init__(self, name, age):\r\n",
        "    self.name = name\r\n",
        "    self.age = age\r\n",
        "\r\n",
        "  def introduce(self):\r\n",
        "    print(f\"Hello, my name is {self.name}!  I am {self.age} years old.\")\r\n",
        "\r\n",
        "  def __str__(self):\r\n",
        "    return f\"{self.name}: Age {self.age}\"\r\n",
        "\r\n",
        "sally = Student(\"Sally\", 5)\r\n",
        "billy = Student(\"Billy\", 7)\r\n",
        "print(sally) # if anything wants you to turn it ito a string, return this"
      ],
      "execution_count": null,
      "outputs": []
    }
  ]
}