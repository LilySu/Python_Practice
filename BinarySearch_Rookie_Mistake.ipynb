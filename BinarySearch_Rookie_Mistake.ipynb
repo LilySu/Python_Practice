{
  "nbformat": 4,
  "nbformat_minor": 0,
  "metadata": {
    "colab": {
      "name": "BinarySearch_Rookie_Mistake.ipynb",
      "provenance": [],
      "authorship_tag": "ABX9TyMG/IER0cwxiOROJKt4plua",
      "include_colab_link": true
    },
    "kernelspec": {
      "name": "python3",
      "display_name": "Python 3"
    }
  },
  "cells": [
    {
      "cell_type": "markdown",
      "metadata": {
        "id": "view-in-github",
        "colab_type": "text"
      },
      "source": [
        "<a href=\"https://colab.research.google.com/github/LilySu/Python_Practice/blob/master/BinarySearch_Rookie_Mistake.ipynb\" target=\"_parent\"><img src=\"https://colab.research.google.com/assets/colab-badge.svg\" alt=\"Open In Colab\"/></a>"
      ]
    },
    {
      "cell_type": "markdown",
      "metadata": {
        "id": "efGT0sZkA6GI"
      },
      "source": [
        "You’re given a string containing letters of three types, R, B, and ..\n",
        "\n",
        "R represents your current position, B represents a blocked position, and . represents an empty position. In one step, you can move to any adjacent position to your current position, as long as it is empty. Can you reach either the leftmost position or the rightmost position?\n",
        "\n",
        "Return true if you can reach either the leftmost or the rightmost position, or false if you cannot.\n",
        "```\n",
        "Example 1\n",
        "Input\n",
        "\n",
        "s = \"......B....R..............\"\n",
        "Output\n",
        "\n",
        "True\n",
        "Explanation\n",
        "\n",
        "We can reach the rightmost position since it's not blocked.\n",
        "\n",
        "Example 2\n",
        "Input\n",
        "\n",
        "s = \"B...B...R........BBBB\"\n",
        "Output\n",
        "\n",
        "False\n",
        "```"
      ]
    },
    {
      "cell_type": "code",
      "metadata": {
        "id": "nE5UJz6VA07G"
      },
      "source": [
        "class Solution:\n",
        "    def solve(self, s):\n",
        "        st = s.strip('.')\n",
        "        print(st)\n",
        "        if st[0]  == 'R' or st[-1] == 'R':\n",
        "            return True\n",
        "        else:\n",
        "            return False"
      ],
      "execution_count": null,
      "outputs": []
    },
    {
      "cell_type": "markdown",
      "metadata": {
        "id": "AIsv7e3hBHd-"
      },
      "source": [
        "You are at some s[i] = 'R', and you want to check that there isn't any block 'B' in s[:i] or s[i+1:]."
      ]
    },
    {
      "cell_type": "code",
      "metadata": {
        "id": "bHRj2DHrBE1-"
      },
      "source": [
        "class Solution:\n",
        "    def solve(self, s):\n",
        "        i = s.index(\"R\")\n",
        "        return \"B\" not in s[:i] or \"B\" not in s[i + 1 :]"
      ],
      "execution_count": null,
      "outputs": []
    }
  ]
}