{
  "nbformat": 4,
  "nbformat_minor": 0,
  "metadata": {
    "colab": {
      "name": "Hackerrank_DFS: Connected Cell in a Grid.ipynb",
      "provenance": [],
      "authorship_tag": "ABX9TyNrKS3n3lrcoD61FilF044d",
      "include_colab_link": true
    },
    "kernelspec": {
      "name": "python3",
      "display_name": "Python 3"
    }
  },
  "cells": [
    {
      "cell_type": "markdown",
      "metadata": {
        "id": "view-in-github",
        "colab_type": "text"
      },
      "source": [
        "<a href=\"https://colab.research.google.com/github/LilySu/Python_Practice/blob/master/Hackerrank_DFS_Connected_Cell_in_a_Grid.ipynb\" target=\"_parent\"><img src=\"https://colab.research.google.com/assets/colab-badge.svg\" alt=\"Open In Colab\"/></a>"
      ]
    },
    {
      "cell_type": "markdown",
      "metadata": {
        "id": "vMUV-IFe0bJO"
      },
      "source": [
        "Consider a matrix where each cell contains either a  or a  and any cell containing a  is called a filled cell. Two cells are said to be connected if they are adjacent to each other horizontally, vertically, or diagonally. In the diagram below, the two colored regions show cells connected to the filled cells. Black on white are not connected.\r\n",
        "\r\n",
        "Cells adjacent to filled cells: image\r\n",
        "\r\n",
        "If one or more filled cells are also connected, they form a region. Note that each cell in a region is connected to at least one other cell in the region but is not necessarily directly connected to all the other cells in the region.\r\n",
        "\r\n",
        "Regions: image\r\n",
        "\r\n",
        "Given an  matrix, find and print the number of cells in the largest region in the matrix.\r\n",
        "\r\n",
        "Function Description\r\n",
        "\r\n",
        "Complete the function maxRegion in the editor below. It must return an integer value, the size of the largest region.\r\n",
        "\r\n",
        "maxRegion has the following parameter(s):\r\n",
        "\r\n",
        "grid: a two dimensional array of integers\r\n",
        "Input Format\r\n",
        "\r\n",
        "The first line contains an integer, , the number of rows in the matrix, .\r\n",
        "The second line contains an integer, , the number of columns in the matrix.\r\n",
        "\r\n",
        "Each of the following  lines contains a row of  space-separated integers, .\r\n",
        "\r\n",
        "Constraints\r\n",
        "\r\n",
        "Output Format\r\n",
        "\r\n",
        "Print the number of cells in the largest region in the given matrix.\r\n",
        "```\r\n",
        "Sample Input\r\n",
        "\r\n",
        "4\r\n",
        "4\r\n",
        "1 1 0 0\r\n",
        "0 1 1 0\r\n",
        "0 0 1 0\r\n",
        "1 0 0 0\r\n",
        "Sample Output\r\n",
        "\r\n",
        "5\r\n",
        "Explanation\r\n",
        "\r\n",
        "The diagram below depicts two regions of the matrix:\r\n",
        "\r\n",
        "image\r\n",
        "The first region has five cells and the second region has one cell. We choose the larger region.\r\n",
        "```"
      ]
    },
    {
      "cell_type": "code",
      "metadata": {
        "id": "yY_0JcmXueHi"
      },
      "source": [
        "visited = set() # global variable used inside maxRegionRecursive(grid, i, j)\r\n",
        "# doesn't matter before or after\r\n",
        "\r\n",
        "def maxRegion(grid):\r\n",
        "    # Find a 1, check around the 1 (left, up, down, right) for other 1s\r\n",
        "    # we can check around it with recursion\r\n",
        "    # traverse the matrix(i and j), call our recursive function on every node\r\n",
        "\r\n",
        "\r\n",
        "def maxRegionRecursive(grid, i, j):\r\n",
        "# if we find a 0\r\n",
        "    # return 0\r\n",
        "# if out of bound\r\n",
        "    # return 0\r\n",
        "# if we've already visited the node\r\n",
        "    # return 0\r\n",
        "\r\n",
        "\r\n",
        "# if we find a 1, add 1 to the count\r\n",
        "# mark the node visited\r\n",
        "# visted.add((i, j))\r\n",
        "\r\n",
        "# recurse:\r\n",
        "# count += maxRegionRecursive(grid, i, j + 1)\r\n",
        "\r\n",
        "# we create new count, but we just keep on adding "
      ],
      "execution_count": null,
      "outputs": []
    },
    {
      "cell_type": "code",
      "metadata": {
        "id": "pQ5Z2fTBz6yH"
      },
      "source": [
        "visited = set()\r\n",
        "# Complete the maxRegion function below.\r\n",
        "def maxRegion(grid):\r\n",
        "  # Find a 1, check around the 1 (left, up, down, right) for other 1s.\r\n",
        "  # we can check around it with recursion\r\n",
        "  # traverse the matrix (i and j), and call our recursive function on every node\r\n",
        "  maxSize = 0\r\n",
        "  for i in range(len(grid)): # for each row\r\n",
        "    for j in range(lengrid[0]): # for each item in width of row\r\n",
        "    # keep track of the max size\r\n",
        "      maxSize = max(maxSize, maxRegionRecursive(grid,i,j))\r\n",
        "      \r\n",
        "  return maxSize\r\n",
        "\r\n",
        " \r\n",
        "\r\n",
        "def maxRegionRecursive(grid, i, j):\r\n",
        "  # if it's out of bounds\r\n",
        "  if i < 0 or j < 0 or i >= len(grid) or j >= len(grid[0]):\r\n",
        "    return 0\r\n",
        "  # if we find a 0, thus breaking the pattern\r\n",
        "  if grid[i][j] == 0:\r\n",
        "    return 0\r\n",
        "  # if we've already visited the node\r\n",
        "  if (i,j) in visited:\r\n",
        "    return 0\r\n",
        "  \r\n",
        "  # since checks were passed, we have found a 1, add 1 to the count\r\n",
        "  count = 1\r\n",
        "  # mark the node visited\r\n",
        "  visited.add((i, j))\r\n",
        "  \r\n",
        "  # recurse:\r\n",
        "  # iteratively adding to count for adjacent 1's\r\n",
        "  count += maxRegionRecursive(grid, i, j+1)\r\n",
        "  # iteratively adding to count from the previous line ie. 35\r\n",
        "  count += maxRegionRecursive(grid, i+1, j+1)\r\n",
        "  count += maxRegionRecursive(grid, i+1, j) \r\n",
        "  count += maxRegionRecursive(grid, i+1, j-1)\r\n",
        "  count += maxRegionRecursive(grid, i, j-1)\r\n",
        "  count += maxRegionRecursive(grid, i-1, j-1)\r\n",
        "  count += maxRegionRecursive(grid, i-1, j)\r\n",
        "  count += maxRegionRecursive(grid, i-1, j+1)\r\n",
        "  \r\n",
        "  return count"
      ],
      "execution_count": null,
      "outputs": []
    },
    {
      "cell_type": "code",
      "metadata": {
        "id": "FhwbCZlE0U1G"
      },
      "source": [
        "# worst case space complexity is if everyting is 1, so O(n * m)\r\n",
        "# time complexity - we visit every single node, worse case, every node, \r\n",
        "# everytime we visit a node, we return O(n * m)"
      ],
      "execution_count": null,
      "outputs": []
    }
  ]
}