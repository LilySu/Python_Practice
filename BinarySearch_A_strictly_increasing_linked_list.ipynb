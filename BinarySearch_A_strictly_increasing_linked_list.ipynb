{
 "cells": [
  {
   "cell_type": "markdown",
   "metadata": {
    "id": "view-in-github",
    "colab_type": "text"
   },
   "source": [
    "<a href=\"https://colab.research.google.com/github/LilySu/Python_Practice/blob/master/BinarySearch_A_strictly_increasing_linked_list.ipynb\" target=\"_parent\"><img src=\"https://colab.research.google.com/assets/colab-badge.svg\" alt=\"Open In Colab\"/></a>"
   ]
  },
  {
   "cell_type": "markdown",
   "metadata": {
    "id": "NhOiF594SfvJ"
   },
   "source": [
    "A strictly increasing linked list\n",
    "Question 93 of 766\n",
    "Given the head of a singly linked list head, return whether the values of the nodes are sorted in a strictly ascending order.\n",
    "```\n",
    "Example 1\n",
    "Input\n",
    "\n",
    "head = 1 → 51 → 101 → 101\n",
    "Output\n",
    "\n",
    "False\n",
    "Explanation\n",
    "\n",
    "Even though this list is sorted, it's not strictly increasing since 101 is repeated.\n",
    "\n",
    "Example 2\n",
    "Input\n",
    "\n",
    "head = 1 → 51 → 101 → 151\n",
    "Output\n",
    "\n",
    "True\n",
    "```\n",
    "Explanation\n",
    "\n",
    "The values 1, 51, 101, 151 are strictly increasing."
   ]
  },
  {
   "cell_type": "code",
   "execution_count": null,
   "metadata": {
    "id": "UKL09JjdSV9p"
   },
   "outputs": [],
   "source": [
    "class LLNode:\n",
    "    def __init__(self, val, next=None):\n",
    "        self.val = val\n",
    "        self.next = next\n",
    "class Solution:\n",
    "    def solve(self, head):\n",
    "        if head.next == None:\n",
    "         return True\n",
    "        if head.val >= head.next.val:\n",
    "         return False\n",
    "        return self.solve(head.next)"
   ]
  }
 ],
 "metadata": {
  "colab": {
   "name": "BinarySearch_A strictly increasing linked list.ipynb",
   "provenance": [],
   "authorship_tag": "ABX9TyOpyui0YHXXX74J4HgV9YuH",
   "include_colab_link": true
  },
  "kernelspec": {
   "name": "python3",
   "display_name": "Python 3"
  }
 },
 "nbformat": 4,
 "nbformat_minor": 0
}
