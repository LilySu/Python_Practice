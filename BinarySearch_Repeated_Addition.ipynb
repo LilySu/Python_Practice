{
  "nbformat": 4,
  "nbformat_minor": 0,
  "metadata": {
    "colab": {
      "name": "BinarySearch_Repeated Addition.ipynb",
      "provenance": [],
      "authorship_tag": "ABX9TyNenteXrrwkSrRgh4Kk6ON6",
      "include_colab_link": true
    },
    "kernelspec": {
      "name": "python3",
      "display_name": "Python 3"
    }
  },
  "cells": [
    {
      "cell_type": "markdown",
      "metadata": {
        "id": "view-in-github",
        "colab_type": "text"
      },
      "source": [
        "<a href=\"https://colab.research.google.com/github/LilySu/Python_Practice/blob/master/BinarySearch_Repeated_Addition.ipynb\" target=\"_parent\"><img src=\"https://colab.research.google.com/assets/colab-badge.svg\" alt=\"Open In Colab\"/></a>"
      ]
    },
    {
      "cell_type": "markdown",
      "metadata": {
        "id": "-JP5ihnrQUHa"
      },
      "source": [
        "Given a positive integer n, sum all of its digits to get a new number. Repeat this operation until it's less than 10.\r\n",
        "```\r\n",
        "Example 1\r\n",
        "Input\r\n",
        "n = 8835\r\n",
        "Output\r\n",
        "6\r\n",
        "Explanation\r\n",
        "8 + 8 + 3 + 5 = 24\r\n",
        "2 + 4 = 6\r\n",
        "```"
      ]
    },
    {
      "cell_type": "code",
      "metadata": {
        "colab": {
          "base_uri": "https://localhost:8080/",
          "height": 35
        },
        "id": "DoD5u7FxPfJ6",
        "outputId": "a7e54953-b458-4bff-8ad3-1b8245f7330f"
      },
      "source": [
        "r = ['1','2']\r\n",
        "''.join(r)"
      ],
      "execution_count": 1,
      "outputs": [
        {
          "output_type": "execute_result",
          "data": {
            "application/vnd.google.colaboratory.intrinsic+json": {
              "type": "string"
            },
            "text/plain": [
              "'12'"
            ]
          },
          "metadata": {
            "tags": []
          },
          "execution_count": 1
        }
      ]
    },
    {
      "cell_type": "code",
      "metadata": {
        "colab": {
          "base_uri": "https://localhost:8080/"
        },
        "id": "3LGNkE2hQXPc",
        "outputId": "872c21c6-feb7-4892-e47a-cedebd7ef391"
      },
      "source": [
        "nstr = 'blah'\r\n",
        "\r\n",
        "new_list = []\r\n",
        "new_list[:0]=nstr\r\n",
        "new_list"
      ],
      "execution_count": 6,
      "outputs": [
        {
          "output_type": "execute_result",
          "data": {
            "text/plain": [
              "['b', 'l', 'a', 'h']"
            ]
          },
          "metadata": {
            "tags": []
          },
          "execution_count": 6
        }
      ]
    },
    {
      "cell_type": "code",
      "metadata": {
        "colab": {
          "base_uri": "https://localhost:8080/"
        },
        "id": "dwmcfellPsmH",
        "outputId": "b53f4ec1-cdd9-412e-a0cb-f6846e001c61"
      },
      "source": [
        "r = 24\r\n",
        "\r\n",
        "s = str(24)\r\n",
        "\r\n",
        "[i for i in s]"
      ],
      "execution_count": 5,
      "outputs": [
        {
          "output_type": "execute_result",
          "data": {
            "text/plain": [
              "['2', '4']"
            ]
          },
          "metadata": {
            "tags": []
          },
          "execution_count": 5
        }
      ]
    },
    {
      "cell_type": "code",
      "metadata": {
        "id": "Mwa92y7eP4qd"
      },
      "source": [
        "class Solution:\r\n",
        "    def solve(self, n):\r\n",
        "        nstr = str(n)\r\n",
        "        while len(nstr) > 1:\r\n",
        "            new_list = []\r\n",
        "            new_list[:0]=nstr\r\n",
        "            res = sum([int(i) for i in new_list])\r\n",
        "            nstr = [i for i in str(res)]\r\n",
        "        return res"
      ],
      "execution_count": null,
      "outputs": []
    }
  ]
}