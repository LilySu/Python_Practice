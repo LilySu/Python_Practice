{
  "nbformat": 4,
  "nbformat_minor": 0,
  "metadata": {
    "colab": {
      "name": "BinarySearch_Making_List_Values_Equal.ipynb",
      "provenance": [],
      "authorship_tag": "ABX9TyOgD6KkaFFyc1tRgzvgSwVU",
      "include_colab_link": true
    },
    "kernelspec": {
      "name": "python3",
      "display_name": "Python 3"
    }
  },
  "cells": [
    {
      "cell_type": "markdown",
      "metadata": {
        "id": "view-in-github",
        "colab_type": "text"
      },
      "source": [
        "<a href=\"https://colab.research.google.com/github/LilySu/Python_Practice/blob/master/BinarySearch_Making_List_Values_Equal.ipynb\" target=\"_parent\"><img src=\"https://colab.research.google.com/assets/colab-badge.svg\" alt=\"Open In Colab\"/></a>"
      ]
    },
    {
      "cell_type": "markdown",
      "metadata": {
        "id": "H3QIRMI7KvEz"
      },
      "source": [
        "You are given a list of integers nums. Consider an operation where we select some subset of integers in the list and increment all of them by one.\n",
        "\n",
        "Return the minimum number of operations needed to make all values in the list equal to each other.\n",
        "```\n",
        "Constraints\n",
        "\n",
        "1 ≤ n ≤ 100,000 where n is the length of nums\n",
        "0 ≤ nums[i] ≤ 10**9 for all 0 ≤ i < n\n",
        "Example 1\n",
        "Input\n",
        "\n",
        "nums = [1, 3, 0]\n",
        "Output\n",
        "\n",
        "3\n",
        "Explanation\n",
        "\n",
        "The 3 operations we can take are:\n",
        "\n",
        "Increment [1, 0] to get [2, 3, 1]\n",
        "Increment [2, 1] to get [3, 3, 2]\n",
        "Increment [2] to get [3, 3, 3]\n",
        "```"
      ]
    },
    {
      "cell_type": "code",
      "metadata": {
        "id": "GEZLRAQDKlHc"
      },
      "source": [
        "class Solution:\n",
        "    def solve(self, nums):\n",
        "        m = max(nums)\n",
        "        n = min(nums)\n",
        "        return m - n"
      ],
      "execution_count": null,
      "outputs": []
    }
  ]
}