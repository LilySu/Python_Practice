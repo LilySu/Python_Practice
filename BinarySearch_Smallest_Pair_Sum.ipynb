{
  "nbformat": 4,
  "nbformat_minor": 0,
  "metadata": {
    "colab": {
      "name": "BinarySearch_Smallest_Pair_Sum.ipynb",
      "provenance": [],
      "authorship_tag": "ABX9TyPaUj3pUIQPGDn3rKxG57Nv",
      "include_colab_link": true
    },
    "kernelspec": {
      "name": "python3",
      "display_name": "Python 3"
    }
  },
  "cells": [
    {
      "cell_type": "markdown",
      "metadata": {
        "id": "view-in-github",
        "colab_type": "text"
      },
      "source": [
        "<a href=\"https://colab.research.google.com/github/LilySu/Python_Practice/blob/master/BinarySearch_Smallest_Pair_Sum.ipynb\" target=\"_parent\"><img src=\"https://colab.research.google.com/assets/colab-badge.svg\" alt=\"Open In Colab\"/></a>"
      ]
    },
    {
      "cell_type": "markdown",
      "metadata": {
        "id": "PjCJjS0S2dQ9"
      },
      "source": [
        "You are given a list of integers nums. Consider any pair of indices i < j such that j - i > 1. Return the smallest pair sum.\n",
        "\n",
        "Constraints\n",
        "```\n",
        "3 ≤ n ≤ 100,000 where n is the length of nums\n",
        "Example 1\n",
        "Input\n",
        "\n",
        "nums = [2, 3, 1, 1, 3]\n",
        "Output\n",
        "\n",
        "3\n",
        "```\n",
        "Explanation\n",
        "\n",
        "We pick values 2 and 1 for total sum of 3. Note that we can't pick 1 and 1 since it would violate the j - i > 1 constraint."
      ]
    },
    {
      "cell_type": "code",
      "metadata": {
        "id": "cXp51Xn6zAg5",
        "outputId": "757bbf64-d0e3-4c8c-f2e9-ff3866c4eb35",
        "colab": {
          "base_uri": "https://localhost:8080/",
          "height": 34
        }
      },
      "source": [
        "nums = [1,2,3,4,5]\n",
        "n = len(nums)\n",
        "min_seen = nums[0]\n",
        "ans = float('inf')\n",
        "for i in range(2, n):\n",
        "    ans = min(ans, min_seen + nums[i])\n",
        "    min_seen = min(min_seen, nums[i-1])\n",
        "print(ans)"
      ],
      "execution_count": null,
      "outputs": [
        {
          "output_type": "stream",
          "text": [
            "4\n"
          ],
          "name": "stdout"
        }
      ]
    },
    {
      "cell_type": "code",
      "metadata": {
        "id": "NmCGTW2T2g9R",
        "outputId": "44018adb-9f27-41fd-aa25-36c3a0f588ae",
        "colab": {
          "base_uri": "https://localhost:8080/",
          "height": 34
        }
      },
      "source": [
        "import sys \n",
        "  \n",
        "# Function to return the sum of  \n",
        "# the minimum pair from the array  \n",
        "def smallest_pair(a, n) : \n",
        "      \n",
        "    min = sys.maxsize \n",
        "    secondMin = sys.maxsize \n",
        "      \n",
        "    for j in range(n) :  \n",
        "  \n",
        "        # If found new minimum  \n",
        "        if (a[j] < min) : \n",
        "  \n",
        "            # Minimum now becomes  \n",
        "            # second minimum  \n",
        "            secondMin = min\n",
        "  \n",
        "            # Update minimum  \n",
        "            min = a[j]\n",
        "          \n",
        "        # If current element is > min  \n",
        "        # and < secondMin  \n",
        "        elif ((a[j] < secondMin) and \n",
        "               a[j] != min) : \n",
        "  \n",
        "            # Update secondMin  \n",
        "            secondMin = a[j]  \n",
        "      \n",
        "    # Return the sum of the minimum pair  \n",
        "    return (secondMin + min) "
      ],
      "execution_count": null,
      "outputs": [
        {
          "output_type": "stream",
          "text": [
            "3\n"
          ],
          "name": "stdout"
        }
      ]
    },
    {
      "cell_type": "code",
      "metadata": {
        "id": "eKZdGGFbwmcV",
        "outputId": "f763c916-74c3-40de-eac2-8c8216c91fdc",
        "colab": {
          "base_uri": "https://localhost:8080/",
          "height": 234
        }
      },
      "source": [
        "nums = [1,2,3,4,5]\n",
        "min = float('inf') # acts as an unbounded upper value for comparison\n",
        "ans = float('inf')\n",
        "for index, value in enumerate(nums):\n",
        "    ans = min(ans, min + value)\n",
        "    if index >= 1:\n",
        "        min = min(min, nums[index-1])\n",
        "print(ans)"
      ],
      "execution_count": null,
      "outputs": [
        {
          "output_type": "error",
          "ename": "TypeError",
          "evalue": "ignored",
          "traceback": [
            "\u001b[0;31m---------------------------------------------------------------------------\u001b[0m",
            "\u001b[0;31mTypeError\u001b[0m                                 Traceback (most recent call last)",
            "\u001b[0;32m<ipython-input-3-baf952fae188>\u001b[0m in \u001b[0;36m<module>\u001b[0;34m()\u001b[0m\n\u001b[1;32m      3\u001b[0m \u001b[0mans\u001b[0m \u001b[0;34m=\u001b[0m \u001b[0mfloat\u001b[0m\u001b[0;34m(\u001b[0m\u001b[0;34m'inf'\u001b[0m\u001b[0;34m)\u001b[0m\u001b[0;34m\u001b[0m\u001b[0;34m\u001b[0m\u001b[0m\n\u001b[1;32m      4\u001b[0m \u001b[0;32mfor\u001b[0m \u001b[0mindex\u001b[0m\u001b[0;34m,\u001b[0m \u001b[0mvalue\u001b[0m \u001b[0;32min\u001b[0m \u001b[0menumerate\u001b[0m\u001b[0;34m(\u001b[0m\u001b[0mnums\u001b[0m\u001b[0;34m)\u001b[0m\u001b[0;34m:\u001b[0m\u001b[0;34m\u001b[0m\u001b[0;34m\u001b[0m\u001b[0m\n\u001b[0;32m----> 5\u001b[0;31m     \u001b[0mans\u001b[0m \u001b[0;34m=\u001b[0m \u001b[0mmin\u001b[0m\u001b[0;34m(\u001b[0m\u001b[0mans\u001b[0m\u001b[0;34m,\u001b[0m \u001b[0mmin\u001b[0m \u001b[0;34m+\u001b[0m \u001b[0mvalue\u001b[0m\u001b[0;34m)\u001b[0m\u001b[0;34m\u001b[0m\u001b[0;34m\u001b[0m\u001b[0m\n\u001b[0m\u001b[1;32m      6\u001b[0m     \u001b[0;32mif\u001b[0m \u001b[0mindex\u001b[0m \u001b[0;34m>=\u001b[0m \u001b[0;36m1\u001b[0m\u001b[0;34m:\u001b[0m\u001b[0;34m\u001b[0m\u001b[0;34m\u001b[0m\u001b[0m\n\u001b[1;32m      7\u001b[0m         \u001b[0mmin\u001b[0m \u001b[0;34m=\u001b[0m \u001b[0mmin\u001b[0m\u001b[0;34m(\u001b[0m\u001b[0mmin\u001b[0m\u001b[0;34m,\u001b[0m \u001b[0mnums\u001b[0m\u001b[0;34m[\u001b[0m\u001b[0mindex\u001b[0m\u001b[0;34m-\u001b[0m\u001b[0;36m1\u001b[0m\u001b[0;34m]\u001b[0m\u001b[0;34m)\u001b[0m\u001b[0;34m\u001b[0m\u001b[0;34m\u001b[0m\u001b[0m\n",
            "\u001b[0;31mTypeError\u001b[0m: 'float' object is not callable"
          ]
        }
      ]
    },
    {
      "cell_type": "code",
      "metadata": {
        "id": "5PgjtJ-myHtx",
        "outputId": "9e92e63a-3d2b-480a-8f40-a5c967ca07f6",
        "colab": {
          "base_uri": "https://localhost:8080/",
          "height": 172
        }
      },
      "source": [
        "nums = [2, 3, 1, 1, 3]\n",
        "\n",
        "min_ = float('inf')\n",
        "ans = float('inf')\n",
        "for index, value in enumerate(nums):\n",
        "    ans = min([ans, min_ + value])\n",
        "    print(f'ans:{ans}')\n",
        "    if index >= 1:\n",
        "        min_ = min(min_, nums[index - 1])\n",
        "        print(f'min:{min_}')\n",
        "# print(ans)"
      ],
      "execution_count": 6,
      "outputs": [
        {
          "output_type": "stream",
          "text": [
            "ans:inf\n",
            "ans:inf\n",
            "min:2\n",
            "ans:3\n",
            "min:2\n",
            "ans:3\n",
            "min:1\n",
            "ans:3\n",
            "min:1\n"
          ],
          "name": "stdout"
        }
      ]
    },
    {
      "cell_type": "code",
      "metadata": {
        "id": "wCHMiG82CkSf",
        "outputId": "052df75a-b451-4585-812f-f6dbe7a42386",
        "colab": {
          "base_uri": "https://localhost:8080/",
          "height": 34
        }
      },
      "source": [
        "nums = [2, 3, 1, 1, 3]\n",
        "\n",
        "min_ = float('inf')\n",
        "ans = float('inf')\n",
        "for index, value in enumerate(nums):\n",
        "    ans = min([ans, min_ + value])\n",
        "    if index >= 1:\n",
        "        min_ = min(min_, nums[index - 1])\n",
        "print(ans)"
      ],
      "execution_count": 7,
      "outputs": [
        {
          "output_type": "stream",
          "text": [
            "3\n"
          ],
          "name": "stdout"
        }
      ]
    },
    {
      "cell_type": "code",
      "metadata": {
        "id": "YIf-FUslDtb-"
      },
      "source": [
        ""
      ],
      "execution_count": null,
      "outputs": []
    }
  ]
}