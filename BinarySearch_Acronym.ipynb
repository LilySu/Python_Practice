{
  "nbformat": 4,
  "nbformat_minor": 0,
  "metadata": {
    "colab": {
      "name": "BinarySearch_Acronym.ipynb",
      "provenance": [],
      "authorship_tag": "ABX9TyNjrUjZXZq3q533CHMC8/NE",
      "include_colab_link": true
    },
    "kernelspec": {
      "name": "python3",
      "display_name": "Python 3"
    }
  },
  "cells": [
    {
      "cell_type": "markdown",
      "metadata": {
        "id": "view-in-github",
        "colab_type": "text"
      },
      "source": [
        "<a href=\"https://colab.research.google.com/github/LilySu/Python_Practice/blob/master/BinarySearch_Acronym.ipynb\" target=\"_parent\"><img src=\"https://colab.research.google.com/assets/colab-badge.svg\" alt=\"Open In Colab\"/></a>"
      ]
    },
    {
      "cell_type": "markdown",
      "metadata": {
        "id": "acm_puK7HHrD"
      },
      "source": [
        "Given a string s representing a phrase, return its acronym. Acronyms should be capitalized and should not include the word \"and\".\n",
        "```\n",
        "Example 1\n",
        "Input\n",
        "\n",
        "s = \"For your information\"\n",
        "Output\n",
        "\n",
        "\"FYI\"\n",
        "Example 2\n",
        "Input\n",
        "\n",
        "s = \"National Aeronautics and Space Administration\"\n",
        "Output\n",
        "\n",
        "\"NASA\"\n",
        "```"
      ]
    },
    {
      "cell_type": "code",
      "metadata": {
        "id": "lKmEn455HGyU"
      },
      "source": [
        "class Solution:\n",
        "    def solve(self, s):\n",
        "        word_list = s.split(' ')\n",
        "        output_str = ''\n",
        "        for word in word_list:\n",
        "            if word != 'and':\n",
        "                output_str += word[0]\n",
        "        return output_str.upper()"
      ],
      "execution_count": null,
      "outputs": []
    },
    {
      "cell_type": "markdown",
      "metadata": {
        "id": "FLOpopHmHT5i"
      },
      "source": [
        "We can build a generator expression that returns the first letter capitalized for each word, and filters \"and\"s."
      ]
    },
    {
      "cell_type": "code",
      "metadata": {
        "id": "pIpiufC1HSGc"
      },
      "source": [
        "class Solution:\n",
        "    def solve(self, s):\n",
        "        return \"\".join(w[0].upper() for w in s.split() if w != \"and\")"
      ],
      "execution_count": null,
      "outputs": []
    }
  ]
}