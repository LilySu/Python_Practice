{
  "nbformat": 4,
  "nbformat_minor": 0,
  "metadata": {
    "colab": {
      "name": "BinarySearch_Reverse Words.ipynb",
      "provenance": [],
      "authorship_tag": "ABX9TyP1oJCDKovjo/6qOSlBbgm6",
      "include_colab_link": true
    },
    "kernelspec": {
      "name": "python3",
      "display_name": "Python 3"
    }
  },
  "cells": [
    {
      "cell_type": "markdown",
      "metadata": {
        "id": "view-in-github",
        "colab_type": "text"
      },
      "source": [
        "<a href=\"https://colab.research.google.com/github/LilySu/Python_Practice/blob/master/BinarySearch_Reverse_Words.ipynb\" target=\"_parent\"><img src=\"https://colab.research.google.com/assets/colab-badge.svg\" alt=\"Open In Colab\"/></a>"
      ]
    },
    {
      "cell_type": "markdown",
      "metadata": {
        "id": "bJ5cNE1leOrT"
      },
      "source": [
        "Given a string of words delimited by spaces, reverse the order of words. For example, given \"hello there my friend\", return \"friend my there hello\".\n",
        "```\n",
        "Example 1\n",
        "Input\n",
        "\n",
        "sentence = \"hello there my friend\"\n",
        "Output\n",
        "\n",
        "\"friend my there hello\"\n",
        "```"
      ]
    },
    {
      "cell_type": "code",
      "metadata": {
        "id": "erWWxNqieKI_"
      },
      "source": [
        "class Solution:\n",
        "    def solve(self, sentence):\n",
        "        s = sentence.split(\" \")\n",
        "        return \" \".join(s[::-1])"
      ],
      "execution_count": null,
      "outputs": []
    },
    {
      "cell_type": "code",
      "metadata": {
        "id": "YNYB46rDebi6"
      },
      "source": [
        "class Solution:\n",
        "    def solve(self, sentence):\n",
        "        words = sentence.split()\n",
        "        return \" \".join(reversed(words))"
      ],
      "execution_count": null,
      "outputs": []
    },
    {
      "cell_type": "code",
      "metadata": {
        "id": "QlRxb6_zeglf"
      },
      "source": [
        "class Solution:\n",
        "    def solve(self, sentence):\n",
        "        return \" \".join(sentence.split(\" \")[::-1])\n"
      ],
      "execution_count": null,
      "outputs": []
    }
  ]
}