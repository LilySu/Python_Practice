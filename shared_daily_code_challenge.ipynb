{
  "nbformat": 4,
  "nbformat_minor": 0,
  "metadata": {
    "colab": {
      "name": "shared_daily_code_challenge.ipynb",
      "provenance": [],
      "collapsed_sections": [],
      "include_colab_link": true
    },
    "kernelspec": {
      "name": "python3",
      "display_name": "Python 3"
    }
  },
  "cells": [
    {
      "cell_type": "markdown",
      "metadata": {
        "id": "view-in-github",
        "colab_type": "text"
      },
      "source": [
        "<a href=\"https://colab.research.google.com/github/LilySu/Python_Practice/blob/master/shared_daily_code_challenge.ipynb\" target=\"_parent\"><img src=\"https://colab.research.google.com/assets/colab-badge.svg\" alt=\"Open In Colab\"/></a>"
      ]
    },
    {
      "cell_type": "markdown",
      "metadata": {
        "id": "nWiyRSIJfDMT"
      },
      "source": [
        "Hello! Text Box!\n"
      ]
    },
    {
      "cell_type": "code",
      "metadata": {
        "id": "2CUCcjlMeewI",
        "outputId": "d1ad9b0d-f593-4167-96d2-c84f3abc814d",
        "colab": {
          "base_uri": "https://localhost:8080/",
          "height": 34
        }
      },
      "source": [
        "print('hello world!')"
      ],
      "execution_count": null,
      "outputs": [
        {
          "output_type": "stream",
          "text": [
            "hello world!\n"
          ],
          "name": "stdout"
        }
      ]
    },
    {
      "cell_type": "markdown",
      "metadata": {
        "id": "_R7QQtWeg5yp"
      },
      "source": [
        "https://binarysearch.com/room/stack-smashers-4h7zTJbeDi\n",
        "\n",
        "Given a list of integers nums, a string op representing either \"+\", \"-\", \"/\", or \"*\", and an integer val, perform the operation on every number in nums with val and return the result.\n",
        "\n",
        "Note: \"/\" is integer division.\n",
        "\n"
      ]
    },
    {
      "cell_type": "code",
      "metadata": {
        "id": "6COKDrnvfF0S",
        "outputId": "458a92bc-fc84-4dbe-e2ad-54433105de18",
        "colab": {
          "base_uri": "https://localhost:8080/",
          "height": 34
        }
      },
      "source": [
        "class Solution:\n",
        "    def solve(self, nums, op, val):\n",
        "        return [x + val for x in nums if  op == \"+\"] + [x * val for x in nums if  op == \"*\"] + [x // val for x in nums if  op == \"/\"] + [x - val for x in nums if  op == \"-\"]\n",
        "\n",
        "Tom = Solution()\n",
        "Tom.solve([3, 1, 6], \"-\", 4)"
      ],
      "execution_count": null,
      "outputs": [
        {
          "output_type": "execute_result",
          "data": {
            "text/plain": [
              "[-1, -3, 2]"
            ]
          },
          "metadata": {
            "tags": []
          },
          "execution_count": 30
        }
      ]
    },
    {
      "cell_type": "code",
      "metadata": {
        "id": "wAVnrUhiv9gJ"
      },
      "source": [
        "# better spacing\n",
        "class Solution:\n",
        "    def solve(self, nums, op, val):\n",
        "        return (\n",
        "            [x + val for x in nums if op == \"+\"]\n",
        "            + [x * val for x in nums if op == \"*\"]\n",
        "            + [x // val for x in nums if op == \"/\"]\n",
        "            + [x - val for x in nums if op == \"-\"]\n",
        "        )\n",
        "\n",
        "\n",
        "Tom = Solution()\n",
        "Tom.solve([3, 1, 6], \"-\", 4)"
      ],
      "execution_count": null,
      "outputs": []
    },
    {
      "cell_type": "code",
      "metadata": {
        "id": "52bB07FAkZJt",
        "outputId": "fec73d48-0a49-4c30-d359-69f6c716218c",
        "colab": {
          "base_uri": "https://localhost:8080/",
          "height": 34
        }
      },
      "source": [
        "class Solution:\n",
        "    def solve(self, nums, op, val):\n",
        "        if op == \"+\":\n",
        "            return [x + val for x in nums]\n",
        "        if op == \"*\":\n",
        "            return [x * val for x in nums]\n",
        "        if op == \"/\":\n",
        "            return [x // val for x in nums]\n",
        "        if op == \"-\":\n",
        "            return [x - val for x in nums]\n",
        "\n",
        "\n",
        "Tom = Solution()\n",
        "Tom.solve([3, 1, 6], \"+\", 4)"
      ],
      "execution_count": null,
      "outputs": [
        {
          "output_type": "execute_result",
          "data": {
            "text/plain": [
              "[7, 5, 10]"
            ]
          },
          "metadata": {
            "tags": []
          },
          "execution_count": 10
        }
      ]
    },
    {
      "cell_type": "markdown",
      "metadata": {
        "id": "jyEqu8THlb2T"
      },
      "source": [
        "pigeon hole: find duplicate"
      ]
    },
    {
      "cell_type": "code",
      "metadata": {
        "id": "MVRnB4GLlb_P",
        "outputId": "f49cb582-cbbf-48d5-abd2-aeeeb82bc028",
        "colab": {
          "base_uri": "https://localhost:8080/",
          "height": 34
        }
      },
      "source": [
        "# \"Pigeonhole\"\n",
        "# You are given a list nums of length n + 1 picked from the range 1, 2, ..., n. \n",
        "# By the pigeonhole principle, there must be a duplicate. Find and return it. \n",
        "# There is guaranteed to be exactly one duplicate.\n",
        "\n",
        "\n",
        "\n",
        "class Solution:\n",
        "    def solve(self, nums):\n",
        "\n",
        "        no_dupes_list = list(set(nums))\n",
        "\n",
        "        return sum(nums) - sum(no_dupes_list)\n",
        "\n",
        "Tom = Solution()\n",
        "Tom.solve([1, 2, 3, 1])"
      ],
      "execution_count": null,
      "outputs": [
        {
          "output_type": "execute_result",
          "data": {
            "text/plain": [
              "1"
            ]
          },
          "metadata": {
            "tags": []
          },
          "execution_count": 22
        }
      ]
    }
  ]
}