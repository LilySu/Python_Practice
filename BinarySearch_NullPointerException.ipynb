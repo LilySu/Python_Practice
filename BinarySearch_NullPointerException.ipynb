{
  "nbformat": 4,
  "nbformat_minor": 0,
  "metadata": {
    "colab": {
      "name": "BinarySearch_NullPointerException.ipynb",
      "provenance": [],
      "authorship_tag": "ABX9TyMpsSCYKoM2YyO7xGwrZMct",
      "include_colab_link": true
    },
    "kernelspec": {
      "name": "python3",
      "display_name": "Python 3"
    }
  },
  "cells": [
    {
      "cell_type": "markdown",
      "metadata": {
        "id": "view-in-github",
        "colab_type": "text"
      },
      "source": [
        "<a href=\"https://colab.research.google.com/github/LilySu/Python_Practice/blob/master/BinarySearch_NullPointerException.ipynb\" target=\"_parent\"><img src=\"https://colab.research.google.com/assets/colab-badge.svg\" alt=\"Open In Colab\"/></a>"
      ]
    },
    {
      "cell_type": "markdown",
      "metadata": {
        "id": "x2cIhc43H22P"
      },
      "source": [
        "Remove repeats NullPointerException"
      ]
    },
    {
      "cell_type": "code",
      "metadata": {
        "id": "jOiiWWC9-EJ0"
      },
      "source": [
        "class Solution:\n",
        "    def solve(self, s):\n",
        "        n = s[0]\n",
        "        idx = 0\n",
        "        while idx < (len(s)-1):\n",
        "            if s[idx] != s[idx+1]:\n",
        "                n += s[idx+1]\n",
        "            idx += 1\n",
        "        return n\n",
        "        # d = {}\n",
        "        # r = \"\"\n",
        "        # for i in s:\n",
        "        #     d[i] = i\n",
        "        # for i in d:\n",
        "        #     r += d[i]\n",
        "        # return r"
      ],
      "execution_count": null,
      "outputs": []
    },
    {
      "cell_type": "code",
      "metadata": {
        "id": "d1r1SQggGwP4"
      },
      "source": [
        "def solve(s):\n",
        "    string = \"\"\n",
        "    for i in s:\n",
        "        if not string:\n",
        "            string += i\n",
        "            continue\n",
        "        if i == string[-1]:\n",
        "            continue\n",
        "        else:\n",
        "            string += i\n",
        "    return\n"
      ],
      "execution_count": null,
      "outputs": []
    },
    {
      "cell_type": "code",
      "metadata": {
        "id": "yxiX4m2J-JHF"
      },
      "source": [
        "# if you need to know times to iterate use for loop\n",
        "# save while loop with iteration that is unpredictable when you want to stop\n",
        "# while loop can replace a for loop, for loop cannot replace while loop\n",
        "class Solution:\n",
        "    def solve(self, s):\n",
        "        n = s[0]\n",
        "        for idx in range(len(s)-1):\n",
        "            if s[idx] != s[idx+1]:\n",
        "                n += s[idx+1]\n",
        "        return n"
      ],
      "execution_count": null,
      "outputs": []
    },
    {
      "cell_type": "markdown",
      "metadata": {
        "id": "GVAfHIH-HyQy"
      },
      "source": [
        "Number of bits\n",
        "Given an integer n greater than or equal to 0, return the number of 1 bits in n.\n",
        "```\n",
        "Example 1\n",
        "Input\n",
        "\n",
        "n = 0\n",
        "Output\n",
        "\n",
        "0\n",
        "Example 2\n",
        "Input\n",
        "\n",
        "n = 1\n",
        "Output\n",
        "\n",
        "1\n",
        "Example 3\n",
        "Input\n",
        "\n",
        "n = 2\n",
        "Output\n",
        "\n",
        "1\n",
        "Explanation\n",
        "\n",
        "2 is 10 in binary.\n",
        "\n",
        "Example 4\n",
        "Input\n",
        "\n",
        "n = 3\n",
        "Output\n",
        "\n",
        "2\n",
        "Explanation\n",
        "\n",
        "3 is 11 in binary.\n",
        "\n",
        "Example 5\n",
        "Input\n",
        "\n",
        "n = 4\n",
        "Output\n",
        "\n",
        "1\n",
        "Explanation\n",
        "\n",
        "4 is 100 in binary.\n",
        "```"
      ]
    },
    {
      "cell_type": "code",
      "metadata": {
        "id": "xUSCB4H0GkUz"
      },
      "source": [
        "def solve(n):\n",
        "    n = bin(n)[2:]\n",
        "    return n.count(\"1\")"
      ],
      "execution_count": null,
      "outputs": []
    }
  ]
}