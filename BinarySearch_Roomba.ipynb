{
  "nbformat": 4,
  "nbformat_minor": 0,
  "metadata": {
    "colab": {
      "name": "BinarySearch_Roomba.ipynb",
      "provenance": [],
      "authorship_tag": "ABX9TyP5ObSCsk1a6Ebg2pdO8iI7",
      "include_colab_link": true
    },
    "kernelspec": {
      "name": "python3",
      "display_name": "Python 3"
    }
  },
  "cells": [
    {
      "cell_type": "markdown",
      "metadata": {
        "id": "view-in-github",
        "colab_type": "text"
      },
      "source": [
        "<a href=\"https://colab.research.google.com/github/LilySu/Python_Practice/blob/master/BinarySearch_Roomba.ipynb\" target=\"_parent\"><img src=\"https://colab.research.google.com/assets/colab-badge.svg\" alt=\"Open In Colab\"/></a>"
      ]
    },
    {
      "cell_type": "markdown",
      "metadata": {
        "id": "iw4AW0WCay-W"
      },
      "source": [
        "A Roomba robot is currently sitting in a cartesian plane at (0, 0). You are given a list of its moves that it will make, containing NORTH, SOUTH, WEST, and EAST.\n",
        "\n",
        "Return whether after its moves it will end up in the coordinate (x, y).\n",
        "```\n",
        "Example 1\n",
        "Input\n",
        "\n",
        "moves = [\"NORTH\", \"EAST\"]\n",
        "x = 1\n",
        "y = 1\n",
        "Output\n",
        "\n",
        "True\n",
        "Explanation\n",
        "\n",
        "Moving north moves it to (0, 1) and moving east moves it to (1, 1)\n",
        "\n",
        "Example 2\n",
        "Input\n",
        "\n",
        "moves = [\"WEST\", \"EAST\"]\n",
        "x = 1\n",
        "y = 0\n",
        "Output\n",
        "\n",
        "False\n",
        "Explanation\n",
        "\n",
        "This Roomba will end up at (0, 0)\n",
        "```"
      ]
    },
    {
      "cell_type": "code",
      "metadata": {
        "id": "VQPgbrI_auv2"
      },
      "source": [
        "class Solution:\n",
        "    def solve(self, moves, x, y):\n",
        "        ns_dict = {\"NORTH\":1,\"SOUTH\":-1}\n",
        "        ew_dict = {\"EAST\":1,\"WEST\":-1}\n",
        "        x_ = 0\n",
        "        y_ = 0\n",
        "        for i in moves:\n",
        "            if i in ns_dict:\n",
        "                ystep = ns_dict[i]\n",
        "                xstep = 0\n",
        "            else:\n",
        "                xstep = ew_dict[i]\n",
        "                ystep = 0\n",
        "            x_ += xstep\n",
        "            y_ += ystep\n",
        "        return x == x_ and y == y_"
      ],
      "execution_count": null,
      "outputs": []
    },
    {
      "cell_type": "code",
      "metadata": {
        "id": "TREHS6eJaUVM"
      },
      "source": [
        "# Since the order does not matter, simply count the frequency\n",
        "\n",
        "# for x, east - west\n",
        "\n",
        "# for y, north - south\n",
        "\n",
        "# if x and y both match then it is correct\n",
        "\n",
        "class Solution:\n",
        "    def solve(self, moves, x, y):\n",
        "        return (\n",
        "            moves.count(\"EAST\") - moves.count(\"WEST\") == x\n",
        "            and moves.count(\"NORTH\") - moves.count(\"SOUTH\") == y\n",
        "        )"
      ],
      "execution_count": null,
      "outputs": []
    }
  ]
}