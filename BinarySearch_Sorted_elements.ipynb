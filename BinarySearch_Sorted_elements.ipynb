{
  "nbformat": 4,
  "nbformat_minor": 0,
  "metadata": {
    "colab": {
      "name": "BinarySearch_Sorted elements.ipynb",
      "provenance": [],
      "authorship_tag": "ABX9TyMd/FsJPT7I0BggA97DjvbI",
      "include_colab_link": true
    },
    "kernelspec": {
      "name": "python3",
      "display_name": "Python 3"
    }
  },
  "cells": [
    {
      "cell_type": "markdown",
      "metadata": {
        "id": "view-in-github",
        "colab_type": "text"
      },
      "source": [
        "<a href=\"https://colab.research.google.com/github/LilySu/Python_Practice/blob/master/BinarySearch_Sorted_elements.ipynb\" target=\"_parent\"><img src=\"https://colab.research.google.com/assets/colab-badge.svg\" alt=\"Open In Colab\"/></a>"
      ]
    },
    {
      "cell_type": "markdown",
      "metadata": {
        "id": "v8TsNx94Rdg5"
      },
      "source": [
        "Give a list of numbers nums, return the number of elements that are in the correct indices, if the list were to be sorted.\n",
        "\n",
        "Example 1\n",
        "Input\n",
        "\n",
        "nums = [1, 7, 3, 4, 10]\n",
        "Output\n",
        "\n",
        "2\n",
        "Explanation\n",
        "\n",
        "Comparing nums and its sorted version we find that elements 1 and 10 are in their correct positions.\n",
        "\n",
        "[1, 7, 3, 4, 10]\n",
        "[1, 3, 4, 7, 10]"
      ]
    },
    {
      "cell_type": "code",
      "metadata": {
        "id": "ug20DzH0QYqv",
        "outputId": "e203c4f1-b56d-4170-cca2-58d8185bec4f",
        "colab": {
          "base_uri": "https://localhost:8080/",
          "height": 34
        }
      },
      "source": [
        "s = [1, 3, 4, 7, 10]\n",
        "s[2:]"
      ],
      "execution_count": null,
      "outputs": [
        {
          "output_type": "execute_result",
          "data": {
            "text/plain": [
              "[4, 7, 10]"
            ]
          },
          "metadata": {
            "tags": []
          },
          "execution_count": 1
        }
      ]
    },
    {
      "cell_type": "code",
      "metadata": {
        "id": "jHQ5JbC7Qbt0"
      },
      "source": [
        "class Solution:\n",
        "    def solve(self, nums):\n",
        "        counter = 0\n",
        "        s = sorted(nums)\n",
        "        for i,j in zip(s, nums):\n",
        "            if i == j:\n",
        "                counter += 1\n",
        "            \n",
        "        return counter"
      ],
      "execution_count": null,
      "outputs": []
    },
    {
      "cell_type": "code",
      "metadata": {
        "id": "NSAlRlwDRlQ1"
      },
      "source": [
        "s = sorted(nums)\n",
        "result = 0\n",
        "for j, i in enumerate(s):\n",
        "    if s[j] == nums[j]: result+= 1\n",
        "    return result"
      ],
      "execution_count": null,
      "outputs": []
    },
    {
      "cell_type": "code",
      "metadata": {
        "id": "AdEW-_iuR5pb"
      },
      "source": [
        "class Solution:\n",
        "    def solve(self, nums):\n",
        "        s = sorted(nums)\n",
        "        count = 0\n",
        "        for i in range(len(nums)):\n",
        "            if s[i] == nums[i]:\n",
        "                count += 1\n",
        "        return count"
      ],
      "execution_count": null,
      "outputs": []
    }
  ]
}