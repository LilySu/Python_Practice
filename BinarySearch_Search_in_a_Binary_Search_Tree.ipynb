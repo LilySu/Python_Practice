{
  "nbformat": 4,
  "nbformat_minor": 0,
  "metadata": {
    "colab": {
      "name": "BinarySearch_Search in a Binary Search Tree.ipynb",
      "provenance": [],
      "authorship_tag": "ABX9TyPT/obSaLxWCBeZ4ek5MK8o",
      "include_colab_link": true
    },
    "kernelspec": {
      "name": "python3",
      "display_name": "Python 3"
    }
  },
  "cells": [
    {
      "cell_type": "markdown",
      "metadata": {
        "id": "view-in-github",
        "colab_type": "text"
      },
      "source": [
        "<a href=\"https://colab.research.google.com/github/LilySu/Python_Practice/blob/master/BinarySearch_Search_in_a_Binary_Search_Tree.ipynb\" target=\"_parent\"><img src=\"https://colab.research.google.com/assets/colab-badge.svg\" alt=\"Open In Colab\"/></a>"
      ]
    },
    {
      "cell_type": "markdown",
      "metadata": {
        "id": "39duWSwbrWG7"
      },
      "source": [
        "Given a binary search tree root and an integer val, determine whether val is in the tree.\r\n",
        "```\r\n",
        "Constraints\r\n",
        "\r\n",
        "n ≤ 100,000 where n is the number of nodes in root\r\n",
        "Example 1\r\n",
        "Input\r\n",
        "Visualize\r\n",
        "root =\r\n",
        "3\r\n",
        "\r\n",
        "2\r\n",
        "\r\n",
        "9\r\n",
        "\r\n",
        "7\r\n",
        "\r\n",
        "12\r\n",
        "\r\n",
        "4\r\n",
        "\r\n",
        "8\r\n",
        "\r\n",
        "val = 4\r\n",
        "Output\r\n",
        "True\r\n",
        "Example 2\r\n",
        "Input\r\n",
        "Visualize\r\n",
        "root =\r\n",
        "3\r\n",
        "\r\n",
        "2\r\n",
        "\r\n",
        "9\r\n",
        "\r\n",
        "7\r\n",
        "\r\n",
        "12\r\n",
        "\r\n",
        "4\r\n",
        "\r\n",
        "8\r\n",
        "\r\n",
        "val = 100\r\n",
        "Output\r\n",
        "False\r\n",
        "```"
      ]
    },
    {
      "cell_type": "code",
      "metadata": {
        "id": "-q1pNDP1kTVH"
      },
      "source": [
        "# class Tree:\r\n",
        "#     def __init__(self, val, left=None, right=None):\r\n",
        "#         self.val = val\r\n",
        "#         self.left = left\r\n",
        "#         self.right = right\r\n",
        "class Solution:\r\n",
        "    def solve(self, root, val):\r\n",
        "        if root == None:\r\n",
        "            return False\r\n",
        "        if val == root.val:\r\n",
        "            return True\r\n",
        "        if val < root.val:\r\n",
        "            return self.solve(root.left, val)\r\n",
        "        if val > root.val:\r\n",
        "            return self.solve(root.right, val)"
      ],
      "execution_count": null,
      "outputs": []
    }
  ]
}