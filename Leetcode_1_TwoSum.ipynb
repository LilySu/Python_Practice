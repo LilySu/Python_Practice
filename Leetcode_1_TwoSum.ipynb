{
  "nbformat": 4,
  "nbformat_minor": 0,
  "metadata": {
    "colab": {
      "name": "Leetcode#1_TwoSum.ipynb",
      "provenance": [],
      "authorship_tag": "ABX9TyMMYrPQ9dE6AIUxAPpjdbOb",
      "include_colab_link": true
    },
    "kernelspec": {
      "name": "python3",
      "display_name": "Python 3"
    }
  },
  "cells": [
    {
      "cell_type": "markdown",
      "metadata": {
        "id": "view-in-github",
        "colab_type": "text"
      },
      "source": [
        "<a href=\"https://colab.research.google.com/github/LilySu/Python_Practice/blob/master/Leetcode_1_TwoSum.ipynb\" target=\"_parent\"><img src=\"https://colab.research.google.com/assets/colab-badge.svg\" alt=\"Open In Colab\"/></a>"
      ]
    },
    {
      "cell_type": "markdown",
      "metadata": {
        "id": "yxiqJuW5UiVK"
      },
      "source": [
        "Given an array of integers nums and an integer target, return indices of the two numbers such that they add up to target.\n",
        "\n",
        "You may assume that each input would have exactly one solution, and you may not use the same element twice.\n",
        "\n",
        "You can return the answer in any order.\n",
        "\n",
        " ```\n",
        "\n",
        "Example 1:\n",
        "\n",
        "Input: nums = [2,7,11,15], target = 9\n",
        "Output: [0,1]\n",
        "Output: Because nums[0] + nums[1] == 9, we return [0, 1].\n",
        "Example 2:\n",
        "\n",
        "Input: nums = [3,2,4], target = 6\n",
        "Output: [1,2]\n",
        "Example 3:\n",
        "\n",
        "Input: nums = [3,3], target = 6\n",
        "Output: [0,1]\n",
        " \n",
        "```\n",
        "Constraints:\n",
        "\n",
        "2 <= nums.length <= 105\n",
        "-109 <= nums[i] <= 109\n",
        "-109 <= target <= 109\n",
        "Only one valid answer exists."
      ]
    },
    {
      "cell_type": "code",
      "metadata": {
        "id": "sO36qkoTL9vs"
      },
      "source": [
        "class Solution:\n",
        "    def twoSum(self, nums: List[int], target: int) -> List[int]: # it hasn't put yourself in the table\n",
        "        table = {}\n",
        "        for index,value in enumerate(nums):\n",
        "            # you want to check if you have a possible answer here\n",
        "            # value1 + value2 = target\n",
        "            # target - value2 = value1\n",
        "            if (target-value) in table: # [if target - value is valid, check key to get value , then key]\n",
        "                return [table[target-value], index] # find table[2] = 0, 1\n",
        "            else:\n",
        "                table[value] = index # store value {value:index} # might not create the whole table before checking\n",
        "\n",
        "        # in dictionary what you want to find quickly you store as keys, key lookups O(1)\n",
        "\n",
        "        # time complexity: O(n) at worst loop through array once"
      ],
      "execution_count": null,
      "outputs": []
    },
    {
      "cell_type": "code",
      "metadata": {
        "id": "S9g9D__mOMo8",
        "outputId": "1f5a2faa-5382-4ba0-e727-a956190c8c9c",
        "colab": {
          "base_uri": "https://localhost:8080/",
          "height": 69
        }
      },
      "source": [
        "nums = [2,7,11,15]\n",
        "target = 9\n",
        "table = {}\n",
        "for index,value in enumerate(nums): # {3:0,}\n",
        "    table[value] = index \n",
        "print(table)\n",
        "for index,value in enumerate(nums):\n",
        "    if (target-value) in table and table[target-value] != index: # if index looked up in table is not the current index\n",
        "        print([table[target-value], index])"
      ],
      "execution_count": null,
      "outputs": [
        {
          "output_type": "stream",
          "text": [
            "{2: 0, 7: 1, 11: 2, 15: 3}\n",
            "[1, 0]\n",
            "[0, 1]\n"
          ],
          "name": "stdout"
        }
      ]
    },
    {
      "cell_type": "code",
      "metadata": {
        "id": "kh6Q7u-sVJ_9"
      },
      "source": [
        ""
      ],
      "execution_count": null,
      "outputs": []
    }
  ]
}