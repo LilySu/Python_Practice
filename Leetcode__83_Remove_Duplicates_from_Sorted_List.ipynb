{
  "nbformat": 4,
  "nbformat_minor": 0,
  "metadata": {
    "colab": {
      "name": "Leetcode_#83_Remove_Duplicates_from_Sorted_List.ipynb",
      "provenance": [],
      "authorship_tag": "ABX9TyNsyyGN6lIoOq1p0u0ci1gt",
      "include_colab_link": true
    },
    "kernelspec": {
      "name": "python3",
      "display_name": "Python 3"
    }
  },
  "cells": [
    {
      "cell_type": "markdown",
      "metadata": {
        "id": "view-in-github",
        "colab_type": "text"
      },
      "source": [
        "<a href=\"https://colab.research.google.com/github/LilySu/Python_Practice/blob/master/Leetcode__83_Remove_Duplicates_from_Sorted_List.ipynb\" target=\"_parent\"><img src=\"https://colab.research.google.com/assets/colab-badge.svg\" alt=\"Open In Colab\"/></a>"
      ]
    },
    {
      "cell_type": "markdown",
      "metadata": {
        "id": "P88GU80MYHZC",
        "colab_type": "text"
      },
      "source": [
        "Given a sorted linked list, delete all duplicates such that each element appear only once.\n",
        "```\n",
        "Example 1:\n",
        "\n",
        "Input: 1->1->2\n",
        "Output: 1->2\n",
        "Example 2:\n",
        "\n",
        "Input: 1->1->2->3->3\n",
        "Output: 1->2->3\n",
        "```"
      ]
    },
    {
      "cell_type": "code",
      "metadata": {
        "id": "anfBQLwtX7gM",
        "colab_type": "code",
        "colab": {}
      },
      "source": [
        " class Solution(object):\n",
        "    def merge(self, nums1, m, nums2, n):\n",
        "        \"\"\"\n",
        "        :type nums1: List[int]\n",
        "        :type m: int\n",
        "        :type nums2: List[int]\n",
        "        :type n: int\n",
        "        :rtype: None Do not return anything, modify nums1 in-place instead.\n",
        "        \"\"\"\n",
        "        for i,j in enumerate(nums2):\n",
        "            if j < nums1[i]:\n",
        "                nums1[m+i] = nums[i]\n",
        "                nums1[i] = j\n",
        "            else:\n",
        "                if len(nums1) < (m+i):\n",
        "                    nums1[m+i] = nums[i+1]\n",
        "                    nums1[i+1] = j\n",
        "        return nums1"
      ],
      "execution_count": null,
      "outputs": []
    },
    {
      "cell_type": "code",
      "metadata": {
        "id": "x_RSsLF_sHqs",
        "colab_type": "code",
        "colab": {}
      },
      "source": [
        "def merge(nums1, m, nums2, n):\n",
        "    \"\"\"\n",
        "    :type nums1: List[int]\n",
        "    :type m: int\n",
        "    :type nums2: List[int]\n",
        "    :type n: int\n",
        "    :rtype: None Do not return anything, modify nums1 in-place instead.\n",
        "    \"\"\"\n",
        "    for i,j in enumerate(nums2):\n",
        "        if j < nums1[i]:\n",
        "            nums1[m+i] = nums[i]\n",
        "            nums1[i] = j\n",
        "        else:\n",
        "            if len(nums1) < (m+i):\n",
        "                nums1[m+i] = nums[i+1]\n",
        "                nums1[i+1] = j\n",
        "    return nums1\n",
        "\n",
        "nums1 = [1,2,3,0,0,0]\n",
        "m = 3\n",
        "nums2 = [2,5,6]\n",
        "n = 3\n",
        "\n",
        "merge(nums1, m, nums2, n)"
      ],
      "execution_count": null,
      "outputs": []
    },
    {
      "cell_type": "code",
      "metadata": {
        "id": "zP5HQ8plvxjc",
        "colab_type": "code",
        "colab": {
          "base_uri": "https://localhost:8080/",
          "height": 34
        },
        "outputId": "f32d28c0-beb4-4d22-f1e6-b3cd908d0725"
      },
      "source": [
        "def merge(nums1, m, nums2, n):\n",
        "    \"\"\"\n",
        "    :type nums1: List[int]\n",
        "    :type m: int\n",
        "    :type nums2: List[int]\n",
        "    :type n: int\n",
        "    :rtype: None Do not return anything, modify nums1 in-place instead.\n",
        "    \"\"\"\n",
        "    for i, j in zip(nums1, nums2):\n",
        "        for k,l in enumerate(nums1):\n",
        "            if k < len(nums1)-1:\n",
        "                nums1[k+1] = nums1[k]\n",
        "        # if i > j:\n",
        "        #     index1 = nums1.index(i)\n",
        "        #     nums1[index1] = j\n",
        "        # else:\n",
        "        #     index1 = nums1.index(i)\n",
        "        #     nums1[index1+1] = j\n",
        "    return nums1\n",
        "\n",
        "\n",
        "nums1 = [1,2,3,0,0,0]\n",
        "m = 3\n",
        "nums2 = [2,5,6]\n",
        "n = 3\n",
        "\n",
        "merge(nums1, m, nums2, n)"
      ],
      "execution_count": 8,
      "outputs": [
        {
          "output_type": "execute_result",
          "data": {
            "text/plain": [
              "[0, 0, 0, 0, 0, 0]"
            ]
          },
          "metadata": {
            "tags": []
          },
          "execution_count": 8
        }
      ]
    },
    {
      "cell_type": "code",
      "metadata": {
        "id": "UBMUDiEXw1lT",
        "colab_type": "code",
        "colab": {
          "base_uri": "https://localhost:8080/",
          "height": 34
        },
        "outputId": "5c05bfdd-db1e-48df-bf3d-304e1a049ea8"
      },
      "source": [
        "nums1 = [1,2,3,0,0,0]\n",
        "nums2 = [2,5,6]\n",
        "for k,l in zip(nums1, nums2):\n",
        "    if k < l:\n",
        "        if k < len(nums1)-1:\n",
        "            saved = nums1[k-1]\n",
        "            nums1[k-1] = nums1[k]\n",
        "            nums1[k+1] = k\n",
        "    else:\n",
        "        if k < len(nums1)-1:\n",
        "            saved = nums1[k-1]\n",
        "            nums1[k-1] = nums1[k]\n",
        "            nums1[k] = saved\n",
        "            nums1[k+1] = l\n",
        "\n",
        "nums1"
      ],
      "execution_count": 50,
      "outputs": [
        {
          "output_type": "execute_result",
          "data": {
            "text/plain": [
              "[1, 1, 1, 2, 0, 0]"
            ]
          },
          "metadata": {
            "tags": []
          },
          "execution_count": 50
        }
      ]
    },
    {
      "cell_type": "code",
      "metadata": {
        "id": "KTyHiGwcxNtl",
        "colab_type": "code",
        "colab": {
          "base_uri": "https://localhost:8080/",
          "height": 34
        },
        "outputId": "189d5b2a-885b-444e-9947-7500b87c0602"
      },
      "source": [
        "nums1 = [1,2,3,0,0,0]\n",
        "nums2 = [2,5,6]\n",
        "for i,j in zip(nums1, nums2):\n",
        "    if i < j:\n",
        "        index = nums1.index(i)\n",
        "        nums1[index] = i\n",
        "    else:\n",
        "        index = nums1.index(i)\n",
        "        nums1[index] = j\n",
        "nums1"
      ],
      "execution_count": 51,
      "outputs": [
        {
          "output_type": "execute_result",
          "data": {
            "text/plain": [
              "[1, 2, 3, 0, 0, 0]"
            ]
          },
          "metadata": {
            "tags": []
          },
          "execution_count": 51
        }
      ]
    },
    {
      "cell_type": "code",
      "metadata": {
        "id": "Jt2e3NAX-yMe",
        "colab_type": "code",
        "colab": {
          "base_uri": "https://localhost:8080/",
          "height": 34
        },
        "outputId": "59575b0a-f7e1-4e37-ffa2-10dc4907b515"
      },
      "source": [
        "nums1 = [1,2,3,0,0,0]\n",
        "m = 3\n",
        "nums2 = [2,5,6]\n",
        "n = 3\n",
        "\n",
        "a = len(nums1) - m\n",
        "for i,j in enumerate(nums2):\n",
        "    nums1[m+i] = nums2[i]\n",
        "nums1"
      ],
      "execution_count": 54,
      "outputs": [
        {
          "output_type": "execute_result",
          "data": {
            "text/plain": [
              "[1, 2, 3, 2, 5, 6]"
            ]
          },
          "metadata": {
            "tags": []
          },
          "execution_count": 54
        }
      ]
    },
    {
      "cell_type": "code",
      "metadata": {
        "id": "pVOamDha_Nm2",
        "colab_type": "code",
        "colab": {
          "base_uri": "https://localhost:8080/",
          "height": 34
        },
        "outputId": "f3348536-9361-4542-dc7d-9cfc1dc68619"
      },
      "source": [
        "for i,j in enumerate(nums1):\n",
        "    if i < len(nums1) - 1:\n",
        "        if nums1[i] > nums1[i+1]:\n",
        "            nums1[i+1] = nums1[i]\n",
        "nums1"
      ],
      "execution_count": 60,
      "outputs": [
        {
          "output_type": "execute_result",
          "data": {
            "text/plain": [
              "[1, 2, 2, 3, 5, 6]"
            ]
          },
          "metadata": {
            "tags": []
          },
          "execution_count": 60
        }
      ]
    },
    {
      "cell_type": "code",
      "metadata": {
        "id": "C834DpZT_izN",
        "colab_type": "code",
        "colab": {
          "base_uri": "https://localhost:8080/",
          "height": 346
        },
        "outputId": "968dd974-9077-4b5f-d2b0-3e5588b223f2"
      },
      "source": [
        "def merge(nums1, m, nums2, n):\n",
        "    a = len(nums1) - m\n",
        "    for i,j in enumerate(nums2):\n",
        "        nums1[m+i] = nums2[i]\n",
        "    def sort(nums1):\n",
        "        for i,j in enumerate(nums1):\n",
        "            if i < len(nums1) - 1:\n",
        "                if nums1[i] > nums1[i+1]:\n",
        "                    saved = nums1[i+1]\n",
        "                    nums1[i+1] = nums1[i]\n",
        "                    nums1[i] = saved\n",
        "        return nums1\n",
        "    for i in range(len(nums1)-1):\n",
        "        while nums1[i+1] > nums1[i]:\n",
        "            s = sort(nums1)\n",
        "    return s\n",
        "\n",
        "\n",
        "# nums1 = [1,2,3,0,0,0]\n",
        "# m = 3\n",
        "# nums2 = [2,5,6]\n",
        "# n = 3\n",
        "\n",
        "nums1 = [4,5,6,0,0,0]\n",
        "m = 3\n",
        "nums2 = [1,2,3]\n",
        "n = 3\n",
        "\n",
        "merge(nums1, m, nums2, n)"
      ],
      "execution_count": 67,
      "outputs": [
        {
          "output_type": "error",
          "ename": "KeyboardInterrupt",
          "evalue": "ignored",
          "traceback": [
            "\u001b[0;31m---------------------------------------------------------------------------\u001b[0m",
            "\u001b[0;31mKeyboardInterrupt\u001b[0m                         Traceback (most recent call last)",
            "\u001b[0;32m<ipython-input-67-d09a0522f2a5>\u001b[0m in \u001b[0;36m<module>\u001b[0;34m()\u001b[0m\n\u001b[1;32m     27\u001b[0m \u001b[0mn\u001b[0m \u001b[0;34m=\u001b[0m \u001b[0;36m3\u001b[0m\u001b[0;34m\u001b[0m\u001b[0;34m\u001b[0m\u001b[0m\n\u001b[1;32m     28\u001b[0m \u001b[0;34m\u001b[0m\u001b[0m\n\u001b[0;32m---> 29\u001b[0;31m \u001b[0mmerge\u001b[0m\u001b[0;34m(\u001b[0m\u001b[0mnums1\u001b[0m\u001b[0;34m,\u001b[0m \u001b[0mm\u001b[0m\u001b[0;34m,\u001b[0m \u001b[0mnums2\u001b[0m\u001b[0;34m,\u001b[0m \u001b[0mn\u001b[0m\u001b[0;34m)\u001b[0m\u001b[0;34m\u001b[0m\u001b[0;34m\u001b[0m\u001b[0m\n\u001b[0m",
            "\u001b[0;32m<ipython-input-67-d09a0522f2a5>\u001b[0m in \u001b[0;36mmerge\u001b[0;34m(nums1, m, nums2, n)\u001b[0m\n\u001b[1;32m     13\u001b[0m     \u001b[0;32mfor\u001b[0m \u001b[0mi\u001b[0m \u001b[0;32min\u001b[0m \u001b[0mrange\u001b[0m\u001b[0;34m(\u001b[0m\u001b[0mlen\u001b[0m\u001b[0;34m(\u001b[0m\u001b[0mnums1\u001b[0m\u001b[0;34m)\u001b[0m\u001b[0;34m-\u001b[0m\u001b[0;36m1\u001b[0m\u001b[0;34m)\u001b[0m\u001b[0;34m:\u001b[0m\u001b[0;34m\u001b[0m\u001b[0;34m\u001b[0m\u001b[0m\n\u001b[1;32m     14\u001b[0m         \u001b[0;32mwhile\u001b[0m \u001b[0mnums1\u001b[0m\u001b[0;34m[\u001b[0m\u001b[0mi\u001b[0m\u001b[0;34m+\u001b[0m\u001b[0;36m1\u001b[0m\u001b[0;34m]\u001b[0m \u001b[0;34m>\u001b[0m \u001b[0mnums1\u001b[0m\u001b[0;34m[\u001b[0m\u001b[0mi\u001b[0m\u001b[0;34m]\u001b[0m\u001b[0;34m:\u001b[0m\u001b[0;34m\u001b[0m\u001b[0;34m\u001b[0m\u001b[0m\n\u001b[0;32m---> 15\u001b[0;31m             \u001b[0ms\u001b[0m \u001b[0;34m=\u001b[0m \u001b[0msort\u001b[0m\u001b[0;34m(\u001b[0m\u001b[0mnums1\u001b[0m\u001b[0;34m)\u001b[0m\u001b[0;34m\u001b[0m\u001b[0;34m\u001b[0m\u001b[0m\n\u001b[0m\u001b[1;32m     16\u001b[0m     \u001b[0;32mreturn\u001b[0m \u001b[0ms\u001b[0m\u001b[0;34m\u001b[0m\u001b[0;34m\u001b[0m\u001b[0m\n\u001b[1;32m     17\u001b[0m \u001b[0;34m\u001b[0m\u001b[0m\n",
            "\u001b[0;32m<ipython-input-67-d09a0522f2a5>\u001b[0m in \u001b[0;36msort\u001b[0;34m(nums1)\u001b[0m\n\u001b[1;32m      5\u001b[0m     \u001b[0;32mdef\u001b[0m \u001b[0msort\u001b[0m\u001b[0;34m(\u001b[0m\u001b[0mnums1\u001b[0m\u001b[0;34m)\u001b[0m\u001b[0;34m:\u001b[0m\u001b[0;34m\u001b[0m\u001b[0;34m\u001b[0m\u001b[0m\n\u001b[1;32m      6\u001b[0m         \u001b[0;32mfor\u001b[0m \u001b[0mi\u001b[0m\u001b[0;34m,\u001b[0m\u001b[0mj\u001b[0m \u001b[0;32min\u001b[0m \u001b[0menumerate\u001b[0m\u001b[0;34m(\u001b[0m\u001b[0mnums1\u001b[0m\u001b[0;34m)\u001b[0m\u001b[0;34m:\u001b[0m\u001b[0;34m\u001b[0m\u001b[0;34m\u001b[0m\u001b[0m\n\u001b[0;32m----> 7\u001b[0;31m             \u001b[0;32mif\u001b[0m \u001b[0mi\u001b[0m \u001b[0;34m<\u001b[0m \u001b[0mlen\u001b[0m\u001b[0;34m(\u001b[0m\u001b[0mnums1\u001b[0m\u001b[0;34m)\u001b[0m \u001b[0;34m-\u001b[0m \u001b[0;36m1\u001b[0m\u001b[0;34m:\u001b[0m\u001b[0;34m\u001b[0m\u001b[0;34m\u001b[0m\u001b[0m\n\u001b[0m\u001b[1;32m      8\u001b[0m                 \u001b[0;32mif\u001b[0m \u001b[0mnums1\u001b[0m\u001b[0;34m[\u001b[0m\u001b[0mi\u001b[0m\u001b[0;34m]\u001b[0m \u001b[0;34m>\u001b[0m \u001b[0mnums1\u001b[0m\u001b[0;34m[\u001b[0m\u001b[0mi\u001b[0m\u001b[0;34m+\u001b[0m\u001b[0;36m1\u001b[0m\u001b[0;34m]\u001b[0m\u001b[0;34m:\u001b[0m\u001b[0;34m\u001b[0m\u001b[0;34m\u001b[0m\u001b[0m\n\u001b[1;32m      9\u001b[0m                     \u001b[0msaved\u001b[0m \u001b[0;34m=\u001b[0m \u001b[0mnums1\u001b[0m\u001b[0;34m[\u001b[0m\u001b[0mi\u001b[0m\u001b[0;34m+\u001b[0m\u001b[0;36m1\u001b[0m\u001b[0;34m]\u001b[0m\u001b[0;34m\u001b[0m\u001b[0;34m\u001b[0m\u001b[0m\n",
            "\u001b[0;31mKeyboardInterrupt\u001b[0m: "
          ]
        }
      ]
    },
    {
      "cell_type": "code",
      "metadata": {
        "id": "ZvUuG-vcAat5",
        "colab_type": "code",
        "colab": {}
      },
      "source": [
        "class Solution(object):\n",
        "    def merge(self, nums1, m, nums2, n):\n",
        "        \"\"\"\n",
        "        :type nums1: List[int]\n",
        "        :type m: int\n",
        "        :type nums2: List[int]\n",
        "        :type n: int\n",
        "        :rtype: None Do not return anything, modify nums1 in-place instead.\n",
        "        \"\"\"\n",
        "        a = len(nums1) - m\n",
        "        for i,j in enumerate(nums2):\n",
        "            nums1[m+i] = nums2[i]\n",
        "        return nums1.sort()\n",
        "        "
      ],
      "execution_count": null,
      "outputs": []
    }
  ]
}