{
  "nbformat": 4,
  "nbformat_minor": 0,
  "metadata": {
    "colab": {
      "name": "HackerRank_Pairs.ipynb",
      "provenance": [],
      "authorship_tag": "ABX9TyNqQTDNXR4ImT6y32bLwQTw",
      "include_colab_link": true
    },
    "kernelspec": {
      "name": "python3",
      "display_name": "Python 3"
    }
  },
  "cells": [
    {
      "cell_type": "markdown",
      "metadata": {
        "id": "view-in-github",
        "colab_type": "text"
      },
      "source": [
        "<a href=\"https://colab.research.google.com/github/LilySu/Python_Practice/blob/master/HackerRank_Pairs.ipynb\" target=\"_parent\"><img src=\"https://colab.research.google.com/assets/colab-badge.svg\" alt=\"Open In Colab\"/></a>"
      ]
    },
    {
      "cell_type": "markdown",
      "metadata": {
        "id": "1SvaIyfAFWTl"
      },
      "source": [
        "You will be given an array of integers and a target value. Determine the number of pairs of array elements that have a difference equal to a target value.\n",
        "\n",
        "For example, given an array of [1, 2, 3, 4] and a target value of 1, we have three values meeting the condition: , , and .\n",
        "\n",
        "Function Description\n",
        "\n",
        "Complete the pairs function below. It must return an integer representing the number of element pairs having the required difference.\n",
        "\n",
        "pairs has the following parameter(s):\n",
        "\n",
        "k: an integer, the target difference\n",
        "arr: an array of integers\n",
        "Input Format\n",
        "\n",
        "The first line contains two space-separated integers  and , the size of  and the target value.\n",
        "The second line contains  space-separated integers of the array .\n",
        "\n",
        "Constraints\n",
        "\n",
        "each integer  will be unique\n",
        "Output Format\n",
        "\n",
        "An integer representing the number of pairs of integers whose difference is .\n",
        "```\n",
        "Sample Input\n",
        "\n",
        "5 2  \n",
        "1 5 3 4 2  \n",
        "Sample Output\n",
        "\n",
        "3\n",
        "Explanation\n",
        "\n",
        "There are 3 pairs of integers in the set with a difference of 2: [5,3], [4,2] and [3,1] .\n",
        "```"
      ]
    },
    {
      "cell_type": "code",
      "metadata": {
        "id": "8VinQSLpFU2U"
      },
      "source": [
        "# time for brute force O(n^2)\n",
        "# space: O(1) because no extra\n",
        "\n",
        "# generally hash tables are faster\n",
        "\n",
        "def pairs(k, arr):\n",
        "    # hash table\n",
        "    # time O(n)\n",
        "    # space O(n) # we create an extra hash table with everything in array, 1:1 mapping\n",
        "    # k = a - b\n",
        "    # put everything in hash table\n",
        "    # look through every element in the array\n",
        "        # arr[i] + k search for that element in the hash table"
      ],
      "execution_count": null,
      "outputs": []
    },
    {
      "cell_type": "code",
      "metadata": {
        "id": "HrX9hp3mPsbq"
      },
      "source": [
        "def pairs(k, arr):\n",
        "  # sort the array\n",
        "  # time: O(n log(n))\n",
        "  # space: O(1)\n",
        "  # binary search\n",
        "  # k = a - b\n",
        "  # k + b = a\n",
        "  # a - k = b\n",
        "  counter = 0\n",
        "  arr.sort()\n",
        "  # look through every element in the array\n",
        "  for item in arr:\n",
        "    # search for item - k\n",
        "    to_search = item - k\n",
        "    is_found = binary_search(arr, to_search)\n",
        "    if is_found:\n",
        "      counter += 1\n",
        "      # binary search for that element in our sorted array\n",
        "    \n",
        "  return counter\n",
        "    \n",
        "    \n",
        "def binary_search(arr, target):\n",
        "  # find mid point\n",
        "  if len(arr) == 0:\n",
        "    return False\n",
        "    \n",
        "  mid_point = len(arr) // 2\n",
        "    \n",
        "  if arr[mid_point] < target:\n",
        "    return binary_search(arr[mid_point+1:], target)\n",
        "    # just take the right half of the array\n",
        "  elif arr[mid_point] > target:\n",
        "    # just take the left half of the array\n",
        "    return binary_search(arr[:mid_point], target)\n",
        "  else:\n",
        "    return True"
      ],
      "execution_count": null,
      "outputs": []
    },
    {
      "cell_type": "code",
      "metadata": {
        "id": "wQK2zeVAPu8N"
      },
      "source": [
        "# recursive calls - space complexity, however many calls, so log(n)"
      ],
      "execution_count": null,
      "outputs": []
    }
  ]
}