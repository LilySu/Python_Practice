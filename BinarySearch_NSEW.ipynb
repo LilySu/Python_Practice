{
  "nbformat": 4,
  "nbformat_minor": 0,
  "metadata": {
    "colab": {
      "name": "BinarySearch_NSEW",
      "provenance": [],
      "authorship_tag": "ABX9TyPWHTUpilprBaWwOU7+j8kR",
      "include_colab_link": true
    },
    "kernelspec": {
      "name": "python3",
      "display_name": "Python 3"
    }
  },
  "cells": [
    {
      "cell_type": "markdown",
      "metadata": {
        "id": "view-in-github",
        "colab_type": "text"
      },
      "source": [
        "<a href=\"https://colab.research.google.com/github/LilySu/Python_Practice/blob/master/BinarySearch_NSEW.ipynb\" target=\"_parent\"><img src=\"https://colab.research.google.com/assets/colab-badge.svg\" alt=\"Open In Colab\"/></a>"
      ]
    },
    {
      "cell_type": "code",
      "metadata": {
        "id": "fvD5pEFK419C"
      },
      "source": [
        "class Solution:\n",
        "    def solve(self, moves, x, y):\n",
        "        xr = 0\n",
        "        yr = 0\n",
        "        mc = {\"y1\":\"NORTH\", \"x1\": \"EAST\", \"x-1\":\"WEST\",\"y-1\":\"SOUTH\"}\n",
        "        for i in moves:\n",
        "            for key, value in mc.items():\n",
        "                if i == value:\n",
        "                    if \"x\" in key:\n",
        "                        key = key.strip(\"x\")\n",
        "                        xr += int(key)\n",
        "                        print(xr, yr)\n",
        "                        continue\n",
        "                    if \"y\" in key:\n",
        "                        key = key.strip(\"y\")\n",
        "                        yr += int(key)\n",
        "                        print(xr, yr)\n",
        "                        continue\n",
        "        if x == xr and y == yr:\n",
        "            return True\n",
        "        else:\n",
        "            return False\n",
        "                        "
      ],
      "execution_count": null,
      "outputs": []
    }
  ]
}