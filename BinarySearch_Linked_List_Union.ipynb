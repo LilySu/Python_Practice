{
  "nbformat": 4,
  "nbformat_minor": 0,
  "metadata": {
    "colab": {
      "name": "BinarySearch_Linked List Union.ipynb",
      "provenance": [],
      "authorship_tag": "ABX9TyNPE4Jap82pXPNHW6bnnT1+",
      "include_colab_link": true
    },
    "kernelspec": {
      "name": "python3",
      "display_name": "Python 3"
    }
  },
  "cells": [
    {
      "cell_type": "markdown",
      "metadata": {
        "id": "view-in-github",
        "colab_type": "text"
      },
      "source": [
        "<a href=\"https://colab.research.google.com/github/LilySu/Python_Practice/blob/master/BinarySearch_Linked_List_Union.ipynb\" target=\"_parent\"><img src=\"https://colab.research.google.com/assets/colab-badge.svg\" alt=\"Open In Colab\"/></a>"
      ]
    },
    {
      "cell_type": "markdown",
      "metadata": {
        "id": "Gwj9NCZHrCsk"
      },
      "source": [
        "Given two sorted linked lists node0, and node, return a new sorted linked list containing the union of the two lists.\r\n",
        "```\r\n",
        "Constraints\r\n",
        "\r\n",
        "0 ≤ n ≤ 100,000 where n is the number of nodes in node0\r\n",
        "0 ≤ m ≤ 100,000 where m is the number of nodes in node1\r\n",
        "Example 1\r\n",
        "\r\n",
        "nput\r\n",
        "Visualize\r\n",
        "ll0 = [1, 3, 4]\r\n",
        "ll1 = [2, 3, 4]\r\n",
        "Output\r\n",
        "Visualize\r\n",
        "[1, 2, 3, 4]\r\n",
        "```"
      ]
    },
    {
      "cell_type": "code",
      "metadata": {
        "id": "s4bBlwVurAui"
      },
      "source": [
        "# Attempts\r\n",
        "\r\n",
        "# class LLNode:\r\n",
        "#     def __init__(self, val, next=None):\r\n",
        "#         self.val = val\r\n",
        "#         self.next = next\r\n",
        "class Solution:\r\n",
        "    def solve(self, ll0, ll1):\r\n",
        "            \r\n",
        "        head = LLNode(0)\r\n",
        "        while True:\r\n",
        "            if 110 and ll1:\r\n",
        "                if ll0.val < ll1.val:\r\n",
        "                    new = LLNode(ll0.val, ll1)\r\n",
        "                    head.next = new\r\n",
        "                    head = head.next\r\n",
        "                elif ll0.val > ll1.val:\r\n",
        "                    new = LLNode(ll0.val, ll1)\r\n",
        "                    head.next = new\r\n",
        "                    head = head.next\r\n",
        "                # else:\r\n",
        "                #     ll1 = ll1.next\r\n",
        "            if 110 and not ll1:\r\n",
        "                head.next = LLNode(ll0.val, None)\r\n",
        "                return head\r\n",
        "            if ll1 and not ll0:\r\n",
        "                head.next = LLNode(ll1.val, None)\r\n",
        "                return head \r\n",
        "            return head\r\n",
        "        "
      ],
      "execution_count": null,
      "outputs": []
    },
    {
      "cell_type": "code",
      "metadata": {
        "id": "U3zl2SCXk03P"
      },
      "source": [
        "# class LLNode:\r\n",
        "#     def __init__(self, val, next=None):\r\n",
        "#         self.val = val\r\n",
        "#         self.next = next\r\n",
        "class Solution:\r\n",
        "    def solve(self, ll0, ll1):\r\n",
        "        # create a first List Node\r\n",
        "        newNode = LLNode(0)\r\n",
        "        # set a head\r\n",
        "        head = newNode\r\n",
        "        # while iterating through both lists\r\n",
        "        while ll0 and ll1:\r\n",
        "            # check duplicates of both lists\r\n",
        "            if ll0.val == ll1.val:\r\n",
        "                # assign one\r\n",
        "                head.next = LLNode(ll0.val)\r\n",
        "                # iterate through each linked list\r\n",
        "                ll0 = ll0.next\r\n",
        "                ll1 = ll1.next\r\n",
        "                # compare\r\n",
        "            elif ll0.val < ll1.val:\r\n",
        "                # assign the next Linked List with the lowest node\r\n",
        "                head.next = LLNode(ll0.val)\r\n",
        "                ll0 = ll0.next\r\n",
        "            else:\r\n",
        "                head.next = LLNode(ll1.val)\r\n",
        "                ll1 = ll1.next\r\n",
        "            # keep iterating\r\n",
        "            head = head.next\r\n",
        "        # if one list is longer than the other\r\n",
        "        head.next = ll0 or ll1\r\n",
        "        return newNode.next"
      ],
      "execution_count": null,
      "outputs": []
    }
  ]
}