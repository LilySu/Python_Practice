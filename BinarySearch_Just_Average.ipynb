{
  "nbformat": 4,
  "nbformat_minor": 0,
  "metadata": {
    "colab": {
      "name": "BinarySearch_Just_Average.ipynb",
      "provenance": [],
      "authorship_tag": "ABX9TyOt+n7oRqRUyhQVsolDvuzk",
      "include_colab_link": true
    },
    "kernelspec": {
      "name": "python3",
      "display_name": "Python 3"
    }
  },
  "cells": [
    {
      "cell_type": "markdown",
      "metadata": {
        "id": "view-in-github",
        "colab_type": "text"
      },
      "source": [
        "<a href=\"https://colab.research.google.com/github/LilySu/Python_Practice/blob/master/BinarySearch_Just_Average.ipynb\" target=\"_parent\"><img src=\"https://colab.research.google.com/assets/colab-badge.svg\" alt=\"Open In Colab\"/></a>"
      ]
    },
    {
      "cell_type": "markdown",
      "metadata": {
        "id": "EPqQ6ibVBHM-"
      },
      "source": [
        "Given a list of integers nums and an integer k, return true if you can remove exactly one element from the list to make the average equal to exactly k.\n",
        "```\n",
        "Constraints\n",
        "\n",
        "2 ≤ n ≤ 1,000 where n is length of nums\n",
        "nums[i], k ≤ 1,000,000\n",
        "Example 1\n",
        "Input\n",
        "\n",
        "nums = [1, 2, 3, 10]\n",
        "k = 2\n",
        "Output\n",
        "\n",
        "True\n",
        "Explanation\n",
        "\n",
        "We can take 10 out to reach an average of 2 since (1 + 2 + 3) / 3 = 2\n",
        "\n",
        "Example 2\n",
        "Input\n",
        "\n",
        "nums = [1, 3]\n",
        "k = 2\n",
        "Output\n",
        "\n",
        "False\n",
        "Explanation\n",
        "\n",
        "If we remove 1, we get an average of 3 and if we remove 3, we get an average of 1.\n",
        "```"
      ]
    },
    {
      "cell_type": "markdown",
      "metadata": {
        "id": "EMCMdf4d4MFm"
      },
      "source": [
        "sum(nums) - k * (n-1) is the value of a number which, if removed, would produce an average of k. We then check if this number is in the list"
      ]
    },
    {
      "cell_type": "code",
      "metadata": {
        "id": "-gWiAkKx4HK_"
      },
      "source": [
        "class Solution:\n",
        "    def solve(self, nums, k):\n",
        "        n = len(nums)\n",
        "        return sum(nums) - k * (n - 1) in nums"
      ],
      "execution_count": null,
      "outputs": []
    },
    {
      "cell_type": "markdown",
      "metadata": {
        "id": "fq98tc_I4gDe"
      },
      "source": [
        "This problem is purely mathematical. The average of an array is: sum/(length of array), if we remove one element we still have an array, so if this element is X, the new average is (sum - X)/(length of array - 1), and since we need to check if the average is k, we get that sum - X = k*(length of array - 1), so X = sum - k*(length of array - 1) and we simply need to check if there exists such a number in the array.\n",
        "\n",
        "Since we sum the whole array, the time complexity is O(n) and memory complexity is O(1)."
      ]
    },
    {
      "cell_type": "code",
      "metadata": {
        "id": "xOO-LJ1a4e3G"
      },
      "source": [
        "class Solution:\n",
        "    def solve(self, nums, k):\n",
        "        s = sum(nums)\n",
        "        c = s - k * (len(nums) - 1)\n",
        "        return c in nums"
      ],
      "execution_count": null,
      "outputs": []
    }
  ]
}