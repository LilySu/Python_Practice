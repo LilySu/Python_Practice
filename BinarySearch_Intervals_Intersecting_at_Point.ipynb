{
  "nbformat": 4,
  "nbformat_minor": 0,
  "metadata": {
    "colab": {
      "name": "BinarySearch_Intervals Intersecting at Point.ipynb",
      "provenance": [],
      "authorship_tag": "ABX9TyMjCnb1CYjx2m2Bx/KKkwh7",
      "include_colab_link": true
    },
    "kernelspec": {
      "name": "python3",
      "display_name": "Python 3"
    }
  },
  "cells": [
    {
      "cell_type": "markdown",
      "metadata": {
        "id": "view-in-github",
        "colab_type": "text"
      },
      "source": [
        "<a href=\"https://colab.research.google.com/github/LilySu/Python_Practice/blob/master/BinarySearch_Intervals_Intersecting_at_Point.ipynb\" target=\"_parent\"><img src=\"https://colab.research.google.com/assets/colab-badge.svg\" alt=\"Open In Colab\"/></a>"
      ]
    },
    {
      "cell_type": "markdown",
      "metadata": {
        "id": "rai8o6QSUshE"
      },
      "source": [
        "You are given a two-dimensional list of integers intervals and an integer point. Each element contains [start, end] represents an inclusive interval.\n",
        "\n",
        "Return the number of intervals that are intersecting at point.\n",
        "```\n",
        "Example 1\n",
        "Input\n",
        "\n",
        "intervals = [\n",
        "    [1, 5],\n",
        "    [3, 9],\n",
        "    [4, 8],\n",
        "    [10, 13]\n",
        "]\n",
        "point = 4\n",
        "Output\n",
        "\n",
        "3\n",
        "Explanation\n",
        "\n",
        "At time 4, there were 3 programmers working [1, 5], [3, 9], [4, 8]\n",
        "```"
      ]
    },
    {
      "cell_type": "code",
      "metadata": {
        "id": "bEW3SlJWUsTB"
      },
      "source": [
        "# time limit exceeded\n",
        "\n",
        "class Solution:\n",
        "    def solve(self, intervals, point):\n",
        "        workers = []\n",
        "        counter = 0\n",
        "        for i in intervals:\n",
        "            for j in range(i[0], i[1]+ 1):\n",
        "                workers.append(j)\n",
        "        for k in workers:\n",
        "            if point == k:\n",
        "                counter += 1\n",
        "        return counter"
      ],
      "execution_count": null,
      "outputs": []
    },
    {
      "cell_type": "markdown",
      "metadata": {
        "id": "m7QiMCnOUjgH"
      },
      "source": [
        "Simplified, the question is asking: given a list of pairs of numbers, count the number of pairs that contain $time, inclusive. The solution is therefore to iterate over the list and check each pair. The condition to be satisfied is that for a pair (a, b), a <= time and b >= time. We check this, and increment our return variable, res, each time a pair satisfies the condition. At the end, return res."
      ]
    },
    {
      "cell_type": "code",
      "metadata": {
        "id": "RkzrhoOzUeyJ"
      },
      "source": [
        "class Solution:\n",
        "    def solve(self, intervals, time):\n",
        "        res = 0\n",
        "        for interval in intervals:\n",
        "            if time >= interval[0] and time <= interval[1]:\n",
        "                res += 1\n",
        "        return res"
      ],
      "execution_count": null,
      "outputs": []
    }
  ]
}