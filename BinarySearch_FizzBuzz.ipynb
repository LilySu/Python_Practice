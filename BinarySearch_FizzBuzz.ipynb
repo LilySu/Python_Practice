{
  "nbformat": 4,
  "nbformat_minor": 0,
  "metadata": {
    "colab": {
      "name": "BinarySearch_FizzBuzz.ipynb",
      "provenance": [],
      "authorship_tag": "ABX9TyPMea//pq8jZp7K+FrsAYwe",
      "include_colab_link": true
    },
    "kernelspec": {
      "name": "python3",
      "display_name": "Python 3"
    }
  },
  "cells": [
    {
      "cell_type": "markdown",
      "metadata": {
        "id": "view-in-github",
        "colab_type": "text"
      },
      "source": [
        "<a href=\"https://colab.research.google.com/github/LilySu/Python_Practice/blob/master/BinarySearch_FizzBuzz.ipynb\" target=\"_parent\"><img src=\"https://colab.research.google.com/assets/colab-badge.svg\" alt=\"Open In Colab\"/></a>"
      ]
    },
    {
      "cell_type": "code",
      "metadata": {
        "id": "pvFrD66j7dR7"
      },
      "source": [
        "        result = []\n",
        "        for i in range(1, n + 1):\n",
        "            if i % 3 == 0 and i % 5 == 0:\n",
        "                result.append(\"FizzBuzz\")\n",
        "            elif i % 3 == 0:\n",
        "                result.append(\"Fizz\")\n",
        "            elif i % 5 == 0:\n",
        "                result.append(\"Buzz\")\n",
        "            else:\n",
        "                result.append(str(i))\n",
        "        return result"
      ],
      "execution_count": null,
      "outputs": []
    },
    {
      "cell_type": "code",
      "metadata": {
        "id": "9DRw1mFD7P1l"
      },
      "source": [
        "        r = []\n",
        "        i = 1\n",
        "        while i < n + 1:\n",
        "            if i % 3 == 0 and i % 5 == 0:\n",
        "                r.append(\"FizzBuzz\")\n",
        "            elif i % 3 == 0:\n",
        "                r.append(\"Fizz\")\n",
        "            elif i % 5 == 0:\n",
        "                r.append(\"Buzz\")\n",
        "            else:\n",
        "                r.append(str(i))\n",
        "            i += 1\n",
        "        return r"
      ],
      "execution_count": null,
      "outputs": []
    },
    {
      "cell_type": "code",
      "metadata": {
        "id": "Ue5vML4Q7VJO"
      },
      "source": [
        "n = 3\n",
        "\n",
        "def fizzbuzz_func(n):\n",
        "    result= []\n",
        "    for num in range(1, n + 1): \n",
        "        if num % 3 == 0:\n",
        "            result.append(\"Fizz\")\n",
        "        else:\n",
        "            result.append(str(num))\n",
        "    return result\n",
        "\n",
        "fizzbuzz_func(n)"
      ],
      "execution_count": null,
      "outputs": []
    },
    {
      "cell_type": "code",
      "metadata": {
        "id": "0LPqHYcm7S3j"
      },
      "source": [
        "n = 7\n",
        "\n",
        "def fizzbuzz_func(n):\n",
        "    result= []\n",
        "    counter = 1\n",
        "    while counter < n + 1: \n",
        "        if counter % 3 == 0:\n",
        "            result.append(\"Fizz\")\n",
        "        elif counter % 5 == 0:\n",
        "            result.append(\"Buzz\")           \n",
        "        else:\n",
        "            result.append(str(counter))\n",
        "        counter += 1\n",
        "    return result\n",
        "\n",
        "fizzbuzz_func(n)"
      ],
      "execution_count": null,
      "outputs": []
    },
    {
      "cell_type": "code",
      "metadata": {
        "id": "rj1Cu-td7gI-"
      },
      "source": [
        "        return [\n",
        "            \"FizzBuzz\"\n",
        "            if i % 15 == 0\n",
        "            else \"Buzz\"\n",
        "            if i % 5 == 0\n",
        "            else \"Fizz\"\n",
        "            if i % 3 == 0\n",
        "            else str(i)\n",
        "            for i in range(1, n + 1)\n",
        "        ]"
      ],
      "execution_count": null,
      "outputs": []
    },
    {
      "cell_type": "code",
      "metadata": {
        "id": "BNwo-9WZ7h6Q"
      },
      "source": [
        "# if multiply by boolean if true\n",
        "\n",
        "# \"Fizz\" * (n%3==0) will give \"\" if n%3 == 0 is False because a string repeated zero times is empty\n",
        "# \"Fizz\" * (n%3==0) will give \"Fizz\" if n%3 == 0 is True because the string is repeated once\n",
        "\n",
        "# Same logic for Buzz * (n%5 ==0), and we concatenate the result of both repetitions.\n",
        "\n",
        "# If the result is any empty string, it means we neither have Fizz or Buzz and the number is neither divisible by 3 or 5, then we return str(n).\n",
        "        return [(\"Fizz\" * (n % 3 == 0) + \"Buzz\" * (n % 5 == 0)) or str(n) for n in range(1, n + 1)]"
      ],
      "execution_count": null,
      "outputs": []
    },
    {
      "cell_type": "code",
      "metadata": {
        "id": "PLZoWJgO9WEb"
      },
      "source": [
        "if (not int(i) % 5) # instead of "
      ],
      "execution_count": null,
      "outputs": []
    }
  ]
}