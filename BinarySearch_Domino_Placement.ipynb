{
  "nbformat": 4,
  "nbformat_minor": 0,
  "metadata": {
    "colab": {
      "name": "BinarySearch_Domino_Placement.ipynb",
      "provenance": [],
      "authorship_tag": "ABX9TyONsh69ABA9Hpbiq7qc9peu",
      "include_colab_link": true
    },
    "kernelspec": {
      "name": "python3",
      "display_name": "Python 3"
    }
  },
  "cells": [
    {
      "cell_type": "markdown",
      "metadata": {
        "id": "view-in-github",
        "colab_type": "text"
      },
      "source": [
        "<a href=\"https://colab.research.google.com/github/LilySu/Python_Practice/blob/master/BinarySearch_Domino_Placement.ipynb\" target=\"_parent\"><img src=\"https://colab.research.google.com/assets/colab-badge.svg\" alt=\"Open In Colab\"/></a>"
      ]
    },
    {
      "cell_type": "markdown",
      "metadata": {
        "id": "ghFAEazfqlRu"
      },
      "source": [
        "Domino Placement\n",
        "You are given integers n and m representing a board of size n by m. You also have an unlimited number of 1 by 2 dominos.\n",
        "\n",
        "Return the maximum number of dominos that can be placed on the board such that they don't overlap and every domino lies entirely within the board.\n",
        "\n",
        "Example 1\n",
        "Input\n",
        "\n",
        "n = 2\n",
        "m = 2\n",
        "Output\n",
        "\n",
        "2\n"
      ]
    },
    {
      "cell_type": "code",
      "metadata": {
        "id": "jgSyXuvqqiHY"
      },
      "source": [
        "If either of the dimensions n or m are even, you can place dominoes to cover every square by tiling the board with dominoes in one orientation.\n",
        "\n",
        "Otherwise, there are an odd number of squares, and it is impossible to cover every square with dominoes. However, we can always cover n * m - 1 of them using a similar strategy. The expression n & m & 1 is odd if and only if n and m are odd.\n",
        "\n",
        "We divide by 2 (>> 1) to convert from squares covered to number of dominoes placed.\n",
        "\n",
        "class Solution:\n",
        "    def solve(self, n, m):\n",
        "        return n * m - (n & m & 1) >> 1"
      ],
      "execution_count": null,
      "outputs": []
    }
  ]
}